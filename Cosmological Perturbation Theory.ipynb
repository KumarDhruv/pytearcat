{
 "cells": [
  {
   "cell_type": "code",
   "execution_count": 8,
   "metadata": {},
   "outputs": [],
   "source": [
    "import pytearcat as pt"
   ]
  },
  {
   "cell_type": "markdown",
   "metadata": {},
   "source": [
    "## Scalar Perturbations in $G_{\\mu \\nu}$"
   ]
  },
  {
   "cell_type": "code",
   "execution_count": 10,
   "metadata": {
    "scrolled": true
   },
   "outputs": [
    {
     "name": "stdout",
     "output_type": "stream",
     "text": [
      "Remember that the time coordinate must be the first coordinate.\n",
      "Constant(s) already defined.\n",
      "The metric has already been defined. Do you want to overwrite it? (yes/no)yes\n",
      "The metric has been redefined. Standard tensors have been deleted.\n",
      "\n",
      "Dimension = 4\n",
      "Coordinates = eta,x,y,z\n",
      "Metric was defined successfully: \n",
      "\n"
     ]
    },
    {
     "data": {
      "text/latex": [
       "$\\displaystyle ds^2 = \\left(-a\\left(\\eta\\right)^{2}-2\\,a\\left(\\eta\\right)^{2}\\,\\psi\\left(\\eta,x,y,z\\right) \\delta\\right) \\cdot d\\eta^2+\\left(a\\left(\\eta\\right)^{2}+2\\,a\\left(\\eta\\right)^{2}\\,\\phi\\left(\\eta,x,y,z\\right) \\delta\\right) \\cdot dx^2+\\left(a\\left(\\eta\\right)^{2}+2\\,a\\left(\\eta\\right)^{2}\\,\\phi\\left(\\eta,x,y,z\\right) \\delta\\right) \\cdot dy^2+\\left(a\\left(\\eta\\right)^{2}+2\\,a\\left(\\eta\\right)^{2}\\,\\phi\\left(\\eta,x,y,z\\right) \\delta\\right) \\cdot dz^2$"
      ],
      "text/plain": [
       "<IPython.core.display.Math object>"
      ]
     },
     "metadata": {},
     "output_type": "display_data"
    },
    {
     "data": {
      "text/latex": [
       "$\\displaystyle \\left(\\begin{array}{cccc}-a\\left(\\eta\\right)^{2}-2\\,a\\left(\\eta\\right)^{2}\\,\\psi\\left(\\eta,x,y,z\\right) \\delta&0&0&0\\\\0&a\\left(\\eta\\right)^{2}+2\\,a\\left(\\eta\\right)^{2}\\,\\phi\\left(\\eta,x,y,z\\right) \\delta&0&0\\\\0&0&a\\left(\\eta\\right)^{2}+2\\,a\\left(\\eta\\right)^{2}\\,\\phi\\left(\\eta,x,y,z\\right) \\delta&0\\\\0&0&0&a\\left(\\eta\\right)^{2}+2\\,a\\left(\\eta\\right)^{2}\\,\\phi\\left(\\eta,x,y,z\\right) \\delta\\end{array}\\right)\n",
       "$"
      ],
      "text/plain": [
       "<IPython.core.display.Math object>"
      ]
     },
     "metadata": {},
     "output_type": "display_data"
    }
   ],
   "source": [
    "# Define the coordinates to be used\n",
    "eta,x,y,z = pt.def_coords('eta,x,y,z')\n",
    "# Define any constant (more than one constant can be defined at the same time)\n",
    "a = pt.new_fun('a','eta')\n",
    "phi = pt.new_fun('phi','eta,x,y,z')\n",
    "psi = pt.new_fun('psi','eta,x,y,z')\n",
    "delta = pt.new_con('delta')\n",
    "pt.setorder(delta,1)\n",
    "g = pt.create_metric('ds2 = a**2*(-(1+2*delta*psi)*deta**2 + (1+2*delta*phi)*dx**2+(1+2*delta*phi)*dy**2+(1+2*delta*phi)*dz**2)')"
   ]
  },
  {
   "cell_type": "code",
   "execution_count": 11,
   "metadata": {},
   "outputs": [
    {
     "data": {
      "text/plain": [
       "[]"
      ]
     },
     "execution_count": 11,
     "metadata": {},
     "output_type": "execute_result"
    }
   ],
   "source": [
    "pt.Tensor.core.config.con"
   ]
  },
  {
   "cell_type": "code",
   "execution_count": 3,
   "metadata": {},
   "outputs": [],
   "source": [
    "pt.simplify(g)"
   ]
  },
  {
   "cell_type": "code",
   "execution_count": 4,
   "metadata": {},
   "outputs": [
    {
     "data": {
      "text/plain": [
       "g tensor defined"
      ]
     },
     "execution_count": 4,
     "metadata": {},
     "output_type": "execute_result"
    }
   ],
   "source": [
    "g"
   ]
  },
  {
   "cell_type": "code",
   "execution_count": 5,
   "metadata": {},
   "outputs": [
    {
     "data": {
      "text/html": [
       "$$ -2\\,\\delta a\\left(\\eta\\right)^{2}\\,\\psi\\left(\\eta,x,y,z\\right)-a\\left(\\eta\\right)^{2} $$"
      ],
      "text/latex": [
       "-2\\,\\delta a\\left(\\eta\\right)^{2}\\,\\psi\\left(\\eta,x,y,z\\right)-a\\left(\\eta\\right)^{2}"
      ],
      "text/plain": []
     },
     "execution_count": 5,
     "metadata": {},
     "output_type": "execute_result"
    }
   ],
   "source": [
    "# version estandar\n",
    "\n",
    "pt.simplify(g(\"_0,_0\"))"
   ]
  },
  {
   "cell_type": "code",
   "execution_count": 8,
   "metadata": {
    "scrolled": false
   },
   "outputs": [
    {
     "data": {
      "text/latex": [
       "Christoffel $\\Gamma_{\\alpha \\beta \\gamma}$ and $\\Gamma^{\\alpha}_{\\beta \\gamma}$"
      ],
      "text/plain": [
       "<IPython.core.display.Latex object>"
      ]
     },
     "metadata": {},
     "output_type": "display_data"
    },
    {
     "data": {
      "application/vnd.jupyter.widget-view+json": {
       "model_id": "8d803d75280342008d78db2dd7a353ad",
       "version_major": 2,
       "version_minor": 0
      },
      "text/plain": [
       "  0%|          | 0/64 [00:00<?, ?it/s]"
      ]
     },
     "metadata": {},
     "output_type": "display_data"
    },
    {
     "data": {
      "text/latex": [
       "$\\displaystyle {\\Gamma}{}_{0\n",
       "}{}_{0\n",
       "}{}_{0\n",
       "} = -\\frac{\\mathrm{d}}{\\mathrm{d}\\eta}\\,a\\left(\\eta\\right) a\\left(\\eta\\right)+\\left(-2\\,\\frac{\\mathrm{d}}{\\mathrm{d}\\eta}\\,a\\left(\\eta\\right) a\\left(\\eta\\right) \\psi\\left(\\eta,x,y,z\\right)-\\frac{\\partial }{\\partial \\eta}\\psi\\left(\\eta,x,y,z\\right) a\\left(\\eta\\right)^{2}\\right) \\delta$"
      ],
      "text/plain": [
       "<IPython.core.display.Math object>"
      ]
     },
     "metadata": {},
     "output_type": "display_data"
    },
    {
     "data": {
      "text/latex": [
       "$\\displaystyle {\\Gamma}{}_{0\n",
       "}{}_{0\n",
       "}{}_{1\n",
       "} = -\\frac{\\partial }{\\partial x}\\psi\\left(\\eta,x,y,z\\right) a\\left(\\eta\\right)^{2}\\,\\delta$"
      ],
      "text/plain": [
       "<IPython.core.display.Math object>"
      ]
     },
     "metadata": {},
     "output_type": "display_data"
    },
    {
     "data": {
      "text/latex": [
       "$\\displaystyle {\\Gamma}{}_{0\n",
       "}{}_{0\n",
       "}{}_{2\n",
       "} = -\\frac{\\partial }{\\partial y}\\psi\\left(\\eta,x,y,z\\right) a\\left(\\eta\\right)^{2}\\,\\delta$"
      ],
      "text/plain": [
       "<IPython.core.display.Math object>"
      ]
     },
     "metadata": {},
     "output_type": "display_data"
    },
    {
     "data": {
      "text/latex": [
       "$\\displaystyle {\\Gamma}{}_{0\n",
       "}{}_{0\n",
       "}{}_{3\n",
       "} = -\\frac{\\partial }{\\partial z}\\psi\\left(\\eta,x,y,z\\right) a\\left(\\eta\\right)^{2}\\,\\delta$"
      ],
      "text/plain": [
       "<IPython.core.display.Math object>"
      ]
     },
     "metadata": {},
     "output_type": "display_data"
    },
    {
     "data": {
      "text/latex": [
       "$\\displaystyle {\\Gamma}{}_{0\n",
       "}{}_{1\n",
       "}{}_{0\n",
       "} = -\\frac{\\partial }{\\partial x}\\psi\\left(\\eta,x,y,z\\right) a\\left(\\eta\\right)^{2}\\,\\delta$"
      ],
      "text/plain": [
       "<IPython.core.display.Math object>"
      ]
     },
     "metadata": {},
     "output_type": "display_data"
    },
    {
     "data": {
      "text/latex": [
       "$\\displaystyle {\\Gamma}{}_{0\n",
       "}{}_{1\n",
       "}{}_{1\n",
       "} = -\\frac{\\mathrm{d}}{\\mathrm{d}\\eta}\\,a\\left(\\eta\\right) a\\left(\\eta\\right)+\\left(-2\\,\\frac{\\mathrm{d}}{\\mathrm{d}\\eta}\\,a\\left(\\eta\\right) a\\left(\\eta\\right) \\phi\\left(\\eta,x,y,z\\right)-\\frac{\\partial }{\\partial \\eta}\\phi\\left(\\eta,x,y,z\\right) a\\left(\\eta\\right)^{2}\\right) \\delta$"
      ],
      "text/plain": [
       "<IPython.core.display.Math object>"
      ]
     },
     "metadata": {},
     "output_type": "display_data"
    },
    {
     "data": {
      "text/latex": [
       "$\\displaystyle {\\Gamma}{}_{0\n",
       "}{}_{2\n",
       "}{}_{0\n",
       "} = -\\frac{\\partial }{\\partial y}\\psi\\left(\\eta,x,y,z\\right) a\\left(\\eta\\right)^{2}\\,\\delta$"
      ],
      "text/plain": [
       "<IPython.core.display.Math object>"
      ]
     },
     "metadata": {},
     "output_type": "display_data"
    },
    {
     "data": {
      "text/latex": [
       "$\\displaystyle {\\Gamma}{}_{0\n",
       "}{}_{2\n",
       "}{}_{2\n",
       "} = -\\frac{\\mathrm{d}}{\\mathrm{d}\\eta}\\,a\\left(\\eta\\right) a\\left(\\eta\\right)+\\left(-2\\,\\frac{\\mathrm{d}}{\\mathrm{d}\\eta}\\,a\\left(\\eta\\right) a\\left(\\eta\\right) \\phi\\left(\\eta,x,y,z\\right)-\\frac{\\partial }{\\partial \\eta}\\phi\\left(\\eta,x,y,z\\right) a\\left(\\eta\\right)^{2}\\right) \\delta$"
      ],
      "text/plain": [
       "<IPython.core.display.Math object>"
      ]
     },
     "metadata": {},
     "output_type": "display_data"
    },
    {
     "data": {
      "text/latex": [
       "$\\displaystyle {\\Gamma}{}_{0\n",
       "}{}_{3\n",
       "}{}_{0\n",
       "} = -\\frac{\\partial }{\\partial z}\\psi\\left(\\eta,x,y,z\\right) a\\left(\\eta\\right)^{2}\\,\\delta$"
      ],
      "text/plain": [
       "<IPython.core.display.Math object>"
      ]
     },
     "metadata": {},
     "output_type": "display_data"
    },
    {
     "data": {
      "text/latex": [
       "$\\displaystyle {\\Gamma}{}_{0\n",
       "}{}_{3\n",
       "}{}_{3\n",
       "} = -\\frac{\\mathrm{d}}{\\mathrm{d}\\eta}\\,a\\left(\\eta\\right) a\\left(\\eta\\right)+\\left(-2\\,\\frac{\\mathrm{d}}{\\mathrm{d}\\eta}\\,a\\left(\\eta\\right) a\\left(\\eta\\right) \\phi\\left(\\eta,x,y,z\\right)-\\frac{\\partial }{\\partial \\eta}\\phi\\left(\\eta,x,y,z\\right) a\\left(\\eta\\right)^{2}\\right) \\delta$"
      ],
      "text/plain": [
       "<IPython.core.display.Math object>"
      ]
     },
     "metadata": {},
     "output_type": "display_data"
    },
    {
     "data": {
      "text/latex": [
       "$\\displaystyle {\\Gamma}{}_{1\n",
       "}{}_{0\n",
       "}{}_{0\n",
       "} = \\frac{\\partial }{\\partial x}\\psi\\left(\\eta,x,y,z\\right) a\\left(\\eta\\right)^{2}\\,\\delta$"
      ],
      "text/plain": [
       "<IPython.core.display.Math object>"
      ]
     },
     "metadata": {},
     "output_type": "display_data"
    },
    {
     "data": {
      "text/latex": [
       "$\\displaystyle {\\Gamma}{}_{1\n",
       "}{}_{0\n",
       "}{}_{1\n",
       "} = \\frac{\\mathrm{d}}{\\mathrm{d}\\eta}\\,a\\left(\\eta\\right) a\\left(\\eta\\right)+\\left(2\\,\\frac{\\mathrm{d}}{\\mathrm{d}\\eta}\\,a\\left(\\eta\\right) a\\left(\\eta\\right) \\phi\\left(\\eta,x,y,z\\right)+\\frac{\\partial }{\\partial \\eta}\\phi\\left(\\eta,x,y,z\\right) a\\left(\\eta\\right)^{2}\\right) \\delta$"
      ],
      "text/plain": [
       "<IPython.core.display.Math object>"
      ]
     },
     "metadata": {},
     "output_type": "display_data"
    },
    {
     "data": {
      "text/latex": [
       "$\\displaystyle {\\Gamma}{}_{1\n",
       "}{}_{1\n",
       "}{}_{0\n",
       "} = \\frac{\\mathrm{d}}{\\mathrm{d}\\eta}\\,a\\left(\\eta\\right) a\\left(\\eta\\right)+\\left(2\\,\\frac{\\mathrm{d}}{\\mathrm{d}\\eta}\\,a\\left(\\eta\\right) a\\left(\\eta\\right) \\phi\\left(\\eta,x,y,z\\right)+\\frac{\\partial }{\\partial \\eta}\\phi\\left(\\eta,x,y,z\\right) a\\left(\\eta\\right)^{2}\\right) \\delta$"
      ],
      "text/plain": [
       "<IPython.core.display.Math object>"
      ]
     },
     "metadata": {},
     "output_type": "display_data"
    },
    {
     "data": {
      "text/latex": [
       "$\\displaystyle {\\Gamma}{}_{1\n",
       "}{}_{1\n",
       "}{}_{1\n",
       "} = \\frac{\\partial }{\\partial x}\\phi\\left(\\eta,x,y,z\\right) a\\left(\\eta\\right)^{2}\\,\\delta$"
      ],
      "text/plain": [
       "<IPython.core.display.Math object>"
      ]
     },
     "metadata": {},
     "output_type": "display_data"
    },
    {
     "data": {
      "text/latex": [
       "$\\displaystyle {\\Gamma}{}_{1\n",
       "}{}_{1\n",
       "}{}_{2\n",
       "} = \\frac{\\partial }{\\partial y}\\phi\\left(\\eta,x,y,z\\right) a\\left(\\eta\\right)^{2}\\,\\delta$"
      ],
      "text/plain": [
       "<IPython.core.display.Math object>"
      ]
     },
     "metadata": {},
     "output_type": "display_data"
    },
    {
     "data": {
      "text/latex": [
       "$\\displaystyle {\\Gamma}{}_{1\n",
       "}{}_{1\n",
       "}{}_{3\n",
       "} = \\frac{\\partial }{\\partial z}\\phi\\left(\\eta,x,y,z\\right) a\\left(\\eta\\right)^{2}\\,\\delta$"
      ],
      "text/plain": [
       "<IPython.core.display.Math object>"
      ]
     },
     "metadata": {},
     "output_type": "display_data"
    },
    {
     "data": {
      "text/latex": [
       "$\\displaystyle {\\Gamma}{}_{1\n",
       "}{}_{2\n",
       "}{}_{1\n",
       "} = \\frac{\\partial }{\\partial y}\\phi\\left(\\eta,x,y,z\\right) a\\left(\\eta\\right)^{2}\\,\\delta$"
      ],
      "text/plain": [
       "<IPython.core.display.Math object>"
      ]
     },
     "metadata": {},
     "output_type": "display_data"
    },
    {
     "data": {
      "text/latex": [
       "$\\displaystyle {\\Gamma}{}_{1\n",
       "}{}_{2\n",
       "}{}_{2\n",
       "} = -\\frac{\\partial }{\\partial x}\\phi\\left(\\eta,x,y,z\\right) a\\left(\\eta\\right)^{2}\\,\\delta$"
      ],
      "text/plain": [
       "<IPython.core.display.Math object>"
      ]
     },
     "metadata": {},
     "output_type": "display_data"
    },
    {
     "data": {
      "text/latex": [
       "$\\displaystyle {\\Gamma}{}_{1\n",
       "}{}_{3\n",
       "}{}_{1\n",
       "} = \\frac{\\partial }{\\partial z}\\phi\\left(\\eta,x,y,z\\right) a\\left(\\eta\\right)^{2}\\,\\delta$"
      ],
      "text/plain": [
       "<IPython.core.display.Math object>"
      ]
     },
     "metadata": {},
     "output_type": "display_data"
    },
    {
     "data": {
      "text/latex": [
       "$\\displaystyle {\\Gamma}{}_{1\n",
       "}{}_{3\n",
       "}{}_{3\n",
       "} = -\\frac{\\partial }{\\partial x}\\phi\\left(\\eta,x,y,z\\right) a\\left(\\eta\\right)^{2}\\,\\delta$"
      ],
      "text/plain": [
       "<IPython.core.display.Math object>"
      ]
     },
     "metadata": {},
     "output_type": "display_data"
    },
    {
     "data": {
      "text/latex": [
       "$\\displaystyle {\\Gamma}{}_{2\n",
       "}{}_{0\n",
       "}{}_{0\n",
       "} = \\frac{\\partial }{\\partial y}\\psi\\left(\\eta,x,y,z\\right) a\\left(\\eta\\right)^{2}\\,\\delta$"
      ],
      "text/plain": [
       "<IPython.core.display.Math object>"
      ]
     },
     "metadata": {},
     "output_type": "display_data"
    },
    {
     "data": {
      "text/latex": [
       "$\\displaystyle {\\Gamma}{}_{2\n",
       "}{}_{0\n",
       "}{}_{2\n",
       "} = \\frac{\\mathrm{d}}{\\mathrm{d}\\eta}\\,a\\left(\\eta\\right) a\\left(\\eta\\right)+\\left(2\\,\\frac{\\mathrm{d}}{\\mathrm{d}\\eta}\\,a\\left(\\eta\\right) a\\left(\\eta\\right) \\phi\\left(\\eta,x,y,z\\right)+\\frac{\\partial }{\\partial \\eta}\\phi\\left(\\eta,x,y,z\\right) a\\left(\\eta\\right)^{2}\\right) \\delta$"
      ],
      "text/plain": [
       "<IPython.core.display.Math object>"
      ]
     },
     "metadata": {},
     "output_type": "display_data"
    },
    {
     "data": {
      "text/latex": [
       "$\\displaystyle {\\Gamma}{}_{2\n",
       "}{}_{1\n",
       "}{}_{1\n",
       "} = -\\frac{\\partial }{\\partial y}\\phi\\left(\\eta,x,y,z\\right) a\\left(\\eta\\right)^{2}\\,\\delta$"
      ],
      "text/plain": [
       "<IPython.core.display.Math object>"
      ]
     },
     "metadata": {},
     "output_type": "display_data"
    },
    {
     "data": {
      "text/latex": [
       "$\\displaystyle {\\Gamma}{}_{2\n",
       "}{}_{1\n",
       "}{}_{2\n",
       "} = \\frac{\\partial }{\\partial x}\\phi\\left(\\eta,x,y,z\\right) a\\left(\\eta\\right)^{2}\\,\\delta$"
      ],
      "text/plain": [
       "<IPython.core.display.Math object>"
      ]
     },
     "metadata": {},
     "output_type": "display_data"
    },
    {
     "data": {
      "text/latex": [
       "$\\displaystyle {\\Gamma}{}_{2\n",
       "}{}_{2\n",
       "}{}_{0\n",
       "} = \\frac{\\mathrm{d}}{\\mathrm{d}\\eta}\\,a\\left(\\eta\\right) a\\left(\\eta\\right)+\\left(2\\,\\frac{\\mathrm{d}}{\\mathrm{d}\\eta}\\,a\\left(\\eta\\right) a\\left(\\eta\\right) \\phi\\left(\\eta,x,y,z\\right)+\\frac{\\partial }{\\partial \\eta}\\phi\\left(\\eta,x,y,z\\right) a\\left(\\eta\\right)^{2}\\right) \\delta$"
      ],
      "text/plain": [
       "<IPython.core.display.Math object>"
      ]
     },
     "metadata": {},
     "output_type": "display_data"
    },
    {
     "data": {
      "text/latex": [
       "$\\displaystyle {\\Gamma}{}_{2\n",
       "}{}_{2\n",
       "}{}_{1\n",
       "} = \\frac{\\partial }{\\partial x}\\phi\\left(\\eta,x,y,z\\right) a\\left(\\eta\\right)^{2}\\,\\delta$"
      ],
      "text/plain": [
       "<IPython.core.display.Math object>"
      ]
     },
     "metadata": {},
     "output_type": "display_data"
    },
    {
     "data": {
      "text/latex": [
       "$\\displaystyle {\\Gamma}{}_{2\n",
       "}{}_{2\n",
       "}{}_{2\n",
       "} = \\frac{\\partial }{\\partial y}\\phi\\left(\\eta,x,y,z\\right) a\\left(\\eta\\right)^{2}\\,\\delta$"
      ],
      "text/plain": [
       "<IPython.core.display.Math object>"
      ]
     },
     "metadata": {},
     "output_type": "display_data"
    },
    {
     "data": {
      "text/latex": [
       "$\\displaystyle {\\Gamma}{}_{2\n",
       "}{}_{2\n",
       "}{}_{3\n",
       "} = \\frac{\\partial }{\\partial z}\\phi\\left(\\eta,x,y,z\\right) a\\left(\\eta\\right)^{2}\\,\\delta$"
      ],
      "text/plain": [
       "<IPython.core.display.Math object>"
      ]
     },
     "metadata": {},
     "output_type": "display_data"
    },
    {
     "data": {
      "text/latex": [
       "$\\displaystyle {\\Gamma}{}_{2\n",
       "}{}_{3\n",
       "}{}_{2\n",
       "} = \\frac{\\partial }{\\partial z}\\phi\\left(\\eta,x,y,z\\right) a\\left(\\eta\\right)^{2}\\,\\delta$"
      ],
      "text/plain": [
       "<IPython.core.display.Math object>"
      ]
     },
     "metadata": {},
     "output_type": "display_data"
    },
    {
     "data": {
      "text/latex": [
       "$\\displaystyle {\\Gamma}{}_{2\n",
       "}{}_{3\n",
       "}{}_{3\n",
       "} = -\\frac{\\partial }{\\partial y}\\phi\\left(\\eta,x,y,z\\right) a\\left(\\eta\\right)^{2}\\,\\delta$"
      ],
      "text/plain": [
       "<IPython.core.display.Math object>"
      ]
     },
     "metadata": {},
     "output_type": "display_data"
    },
    {
     "data": {
      "text/latex": [
       "$\\displaystyle {\\Gamma}{}_{3\n",
       "}{}_{0\n",
       "}{}_{0\n",
       "} = \\frac{\\partial }{\\partial z}\\psi\\left(\\eta,x,y,z\\right) a\\left(\\eta\\right)^{2}\\,\\delta$"
      ],
      "text/plain": [
       "<IPython.core.display.Math object>"
      ]
     },
     "metadata": {},
     "output_type": "display_data"
    },
    {
     "data": {
      "text/latex": [
       "$\\displaystyle {\\Gamma}{}_{3\n",
       "}{}_{0\n",
       "}{}_{3\n",
       "} = \\frac{\\mathrm{d}}{\\mathrm{d}\\eta}\\,a\\left(\\eta\\right) a\\left(\\eta\\right)+\\left(2\\,\\frac{\\mathrm{d}}{\\mathrm{d}\\eta}\\,a\\left(\\eta\\right) a\\left(\\eta\\right) \\phi\\left(\\eta,x,y,z\\right)+\\frac{\\partial }{\\partial \\eta}\\phi\\left(\\eta,x,y,z\\right) a\\left(\\eta\\right)^{2}\\right) \\delta$"
      ],
      "text/plain": [
       "<IPython.core.display.Math object>"
      ]
     },
     "metadata": {},
     "output_type": "display_data"
    },
    {
     "data": {
      "text/latex": [
       "$\\displaystyle {\\Gamma}{}_{3\n",
       "}{}_{1\n",
       "}{}_{1\n",
       "} = -\\frac{\\partial }{\\partial z}\\phi\\left(\\eta,x,y,z\\right) a\\left(\\eta\\right)^{2}\\,\\delta$"
      ],
      "text/plain": [
       "<IPython.core.display.Math object>"
      ]
     },
     "metadata": {},
     "output_type": "display_data"
    },
    {
     "data": {
      "text/latex": [
       "$\\displaystyle {\\Gamma}{}_{3\n",
       "}{}_{1\n",
       "}{}_{3\n",
       "} = \\frac{\\partial }{\\partial x}\\phi\\left(\\eta,x,y,z\\right) a\\left(\\eta\\right)^{2}\\,\\delta$"
      ],
      "text/plain": [
       "<IPython.core.display.Math object>"
      ]
     },
     "metadata": {},
     "output_type": "display_data"
    },
    {
     "data": {
      "text/latex": [
       "$\\displaystyle {\\Gamma}{}_{3\n",
       "}{}_{2\n",
       "}{}_{2\n",
       "} = -\\frac{\\partial }{\\partial z}\\phi\\left(\\eta,x,y,z\\right) a\\left(\\eta\\right)^{2}\\,\\delta$"
      ],
      "text/plain": [
       "<IPython.core.display.Math object>"
      ]
     },
     "metadata": {},
     "output_type": "display_data"
    },
    {
     "data": {
      "text/latex": [
       "$\\displaystyle {\\Gamma}{}_{3\n",
       "}{}_{2\n",
       "}{}_{3\n",
       "} = \\frac{\\partial }{\\partial y}\\phi\\left(\\eta,x,y,z\\right) a\\left(\\eta\\right)^{2}\\,\\delta$"
      ],
      "text/plain": [
       "<IPython.core.display.Math object>"
      ]
     },
     "metadata": {},
     "output_type": "display_data"
    },
    {
     "data": {
      "text/latex": [
       "$\\displaystyle {\\Gamma}{}_{3\n",
       "}{}_{3\n",
       "}{}_{0\n",
       "} = \\frac{\\mathrm{d}}{\\mathrm{d}\\eta}\\,a\\left(\\eta\\right) a\\left(\\eta\\right)+\\left(2\\,\\frac{\\mathrm{d}}{\\mathrm{d}\\eta}\\,a\\left(\\eta\\right) a\\left(\\eta\\right) \\phi\\left(\\eta,x,y,z\\right)+\\frac{\\partial }{\\partial \\eta}\\phi\\left(\\eta,x,y,z\\right) a\\left(\\eta\\right)^{2}\\right) \\delta$"
      ],
      "text/plain": [
       "<IPython.core.display.Math object>"
      ]
     },
     "metadata": {},
     "output_type": "display_data"
    },
    {
     "data": {
      "text/latex": [
       "$\\displaystyle {\\Gamma}{}_{3\n",
       "}{}_{3\n",
       "}{}_{1\n",
       "} = \\frac{\\partial }{\\partial x}\\phi\\left(\\eta,x,y,z\\right) a\\left(\\eta\\right)^{2}\\,\\delta$"
      ],
      "text/plain": [
       "<IPython.core.display.Math object>"
      ]
     },
     "metadata": {},
     "output_type": "display_data"
    },
    {
     "data": {
      "text/latex": [
       "$\\displaystyle {\\Gamma}{}_{3\n",
       "}{}_{3\n",
       "}{}_{2\n",
       "} = \\frac{\\partial }{\\partial y}\\phi\\left(\\eta,x,y,z\\right) a\\left(\\eta\\right)^{2}\\,\\delta$"
      ],
      "text/plain": [
       "<IPython.core.display.Math object>"
      ]
     },
     "metadata": {},
     "output_type": "display_data"
    },
    {
     "data": {
      "text/latex": [
       "$\\displaystyle {\\Gamma}{}_{3\n",
       "}{}_{3\n",
       "}{}_{3\n",
       "} = \\frac{\\partial }{\\partial z}\\phi\\left(\\eta,x,y,z\\right) a\\left(\\eta\\right)^{2}\\,\\delta$"
      ],
      "text/plain": [
       "<IPython.core.display.Math object>"
      ]
     },
     "metadata": {},
     "output_type": "display_data"
    },
    {
     "data": {
      "text/latex": [
       "$\\displaystyle {\\Gamma}{}^{0\n",
       "}{}_{0\n",
       "}{}_{0\n",
       "} = \\frac{\\frac{\\mathrm{d}}{\\mathrm{d}\\eta}\\,a\\left(\\eta\\right)}{a\\left(\\eta\\right)}+\\frac{\\partial }{\\partial \\eta}\\psi\\left(\\eta,x,y,z\\right) \\delta+\\mathrm{O}\\left(\\delta^{2}\\right)$"
      ],
      "text/plain": [
       "<IPython.core.display.Math object>"
      ]
     },
     "metadata": {},
     "output_type": "display_data"
    },
    {
     "data": {
      "text/latex": [
       "$\\displaystyle {\\Gamma}{}^{0\n",
       "}{}_{0\n",
       "}{}_{1\n",
       "} = \\frac{\\partial }{\\partial x}\\psi\\left(\\eta,x,y,z\\right) \\delta+\\mathrm{O}\\left(\\delta^{2}\\right)$"
      ],
      "text/plain": [
       "<IPython.core.display.Math object>"
      ]
     },
     "metadata": {},
     "output_type": "display_data"
    },
    {
     "data": {
      "text/latex": [
       "$\\displaystyle {\\Gamma}{}^{0\n",
       "}{}_{0\n",
       "}{}_{2\n",
       "} = \\frac{\\partial }{\\partial y}\\psi\\left(\\eta,x,y,z\\right) \\delta+\\mathrm{O}\\left(\\delta^{2}\\right)$"
      ],
      "text/plain": [
       "<IPython.core.display.Math object>"
      ]
     },
     "metadata": {},
     "output_type": "display_data"
    },
    {
     "data": {
      "text/latex": [
       "$\\displaystyle {\\Gamma}{}^{0\n",
       "}{}_{0\n",
       "}{}_{3\n",
       "} = \\frac{\\partial }{\\partial z}\\psi\\left(\\eta,x,y,z\\right) \\delta+\\mathrm{O}\\left(\\delta^{2}\\right)$"
      ],
      "text/plain": [
       "<IPython.core.display.Math object>"
      ]
     },
     "metadata": {},
     "output_type": "display_data"
    },
    {
     "data": {
      "text/latex": [
       "$\\displaystyle {\\Gamma}{}^{0\n",
       "}{}_{1\n",
       "}{}_{0\n",
       "} = \\frac{\\partial }{\\partial x}\\psi\\left(\\eta,x,y,z\\right) \\delta+\\mathrm{O}\\left(\\delta^{2}\\right)$"
      ],
      "text/plain": [
       "<IPython.core.display.Math object>"
      ]
     },
     "metadata": {},
     "output_type": "display_data"
    },
    {
     "data": {
      "text/latex": [
       "$\\displaystyle {\\Gamma}{}^{0\n",
       "}{}_{1\n",
       "}{}_{1\n",
       "} = \\frac{\\frac{\\mathrm{d}}{\\mathrm{d}\\eta}\\,a\\left(\\eta\\right)}{a\\left(\\eta\\right)}+\\frac{\\left(2\\,\\frac{\\mathrm{d}}{\\mathrm{d}\\eta}\\,a\\left(\\eta\\right) \\phi\\left(\\eta,x,y,z\\right)-2\\,\\frac{\\mathrm{d}}{\\mathrm{d}\\eta}\\,a\\left(\\eta\\right) \\psi\\left(\\eta,x,y,z\\right)+\\frac{\\partial }{\\partial \\eta}\\phi\\left(\\eta,x,y,z\\right) a\\left(\\eta\\right)\\right) \\delta}{a\\left(\\eta\\right)}+\\mathrm{O}\\left(\\delta^{2}\\right)$"
      ],
      "text/plain": [
       "<IPython.core.display.Math object>"
      ]
     },
     "metadata": {},
     "output_type": "display_data"
    },
    {
     "data": {
      "text/latex": [
       "$\\displaystyle {\\Gamma}{}^{0\n",
       "}{}_{2\n",
       "}{}_{0\n",
       "} = \\frac{\\partial }{\\partial y}\\psi\\left(\\eta,x,y,z\\right) \\delta+\\mathrm{O}\\left(\\delta^{2}\\right)$"
      ],
      "text/plain": [
       "<IPython.core.display.Math object>"
      ]
     },
     "metadata": {},
     "output_type": "display_data"
    },
    {
     "data": {
      "text/latex": [
       "$\\displaystyle {\\Gamma}{}^{0\n",
       "}{}_{2\n",
       "}{}_{2\n",
       "} = \\frac{\\frac{\\mathrm{d}}{\\mathrm{d}\\eta}\\,a\\left(\\eta\\right)}{a\\left(\\eta\\right)}+\\frac{\\left(2\\,\\frac{\\mathrm{d}}{\\mathrm{d}\\eta}\\,a\\left(\\eta\\right) \\phi\\left(\\eta,x,y,z\\right)-2\\,\\frac{\\mathrm{d}}{\\mathrm{d}\\eta}\\,a\\left(\\eta\\right) \\psi\\left(\\eta,x,y,z\\right)+\\frac{\\partial }{\\partial \\eta}\\phi\\left(\\eta,x,y,z\\right) a\\left(\\eta\\right)\\right) \\delta}{a\\left(\\eta\\right)}+\\mathrm{O}\\left(\\delta^{2}\\right)$"
      ],
      "text/plain": [
       "<IPython.core.display.Math object>"
      ]
     },
     "metadata": {},
     "output_type": "display_data"
    },
    {
     "data": {
      "text/latex": [
       "$\\displaystyle {\\Gamma}{}^{0\n",
       "}{}_{3\n",
       "}{}_{0\n",
       "} = \\frac{\\partial }{\\partial z}\\psi\\left(\\eta,x,y,z\\right) \\delta+\\mathrm{O}\\left(\\delta^{2}\\right)$"
      ],
      "text/plain": [
       "<IPython.core.display.Math object>"
      ]
     },
     "metadata": {},
     "output_type": "display_data"
    },
    {
     "data": {
      "text/latex": [
       "$\\displaystyle {\\Gamma}{}^{0\n",
       "}{}_{3\n",
       "}{}_{3\n",
       "} = \\frac{\\frac{\\mathrm{d}}{\\mathrm{d}\\eta}\\,a\\left(\\eta\\right)}{a\\left(\\eta\\right)}+\\frac{\\left(2\\,\\frac{\\mathrm{d}}{\\mathrm{d}\\eta}\\,a\\left(\\eta\\right) \\phi\\left(\\eta,x,y,z\\right)-2\\,\\frac{\\mathrm{d}}{\\mathrm{d}\\eta}\\,a\\left(\\eta\\right) \\psi\\left(\\eta,x,y,z\\right)+\\frac{\\partial }{\\partial \\eta}\\phi\\left(\\eta,x,y,z\\right) a\\left(\\eta\\right)\\right) \\delta}{a\\left(\\eta\\right)}+\\mathrm{O}\\left(\\delta^{2}\\right)$"
      ],
      "text/plain": [
       "<IPython.core.display.Math object>"
      ]
     },
     "metadata": {},
     "output_type": "display_data"
    },
    {
     "data": {
      "text/latex": [
       "$\\displaystyle {\\Gamma}{}^{1\n",
       "}{}_{0\n",
       "}{}_{0\n",
       "} = \\frac{\\partial }{\\partial x}\\psi\\left(\\eta,x,y,z\\right) \\delta+\\mathrm{O}\\left(\\delta^{2}\\right)$"
      ],
      "text/plain": [
       "<IPython.core.display.Math object>"
      ]
     },
     "metadata": {},
     "output_type": "display_data"
    },
    {
     "data": {
      "text/latex": [
       "$\\displaystyle {\\Gamma}{}^{1\n",
       "}{}_{0\n",
       "}{}_{1\n",
       "} = \\frac{\\frac{\\mathrm{d}}{\\mathrm{d}\\eta}\\,a\\left(\\eta\\right)}{a\\left(\\eta\\right)}+\\frac{\\partial }{\\partial \\eta}\\phi\\left(\\eta,x,y,z\\right) \\delta+\\mathrm{O}\\left(\\delta^{2}\\right)$"
      ],
      "text/plain": [
       "<IPython.core.display.Math object>"
      ]
     },
     "metadata": {},
     "output_type": "display_data"
    },
    {
     "data": {
      "text/latex": [
       "$\\displaystyle {\\Gamma}{}^{1\n",
       "}{}_{1\n",
       "}{}_{0\n",
       "} = \\frac{\\frac{\\mathrm{d}}{\\mathrm{d}\\eta}\\,a\\left(\\eta\\right)}{a\\left(\\eta\\right)}+\\frac{\\partial }{\\partial \\eta}\\phi\\left(\\eta,x,y,z\\right) \\delta+\\mathrm{O}\\left(\\delta^{2}\\right)$"
      ],
      "text/plain": [
       "<IPython.core.display.Math object>"
      ]
     },
     "metadata": {},
     "output_type": "display_data"
    },
    {
     "data": {
      "text/latex": [
       "$\\displaystyle {\\Gamma}{}^{1\n",
       "}{}_{1\n",
       "}{}_{1\n",
       "} = \\frac{\\partial }{\\partial x}\\phi\\left(\\eta,x,y,z\\right) \\delta+\\mathrm{O}\\left(\\delta^{2}\\right)$"
      ],
      "text/plain": [
       "<IPython.core.display.Math object>"
      ]
     },
     "metadata": {},
     "output_type": "display_data"
    },
    {
     "data": {
      "text/latex": [
       "$\\displaystyle {\\Gamma}{}^{1\n",
       "}{}_{1\n",
       "}{}_{2\n",
       "} = \\frac{\\partial }{\\partial y}\\phi\\left(\\eta,x,y,z\\right) \\delta+\\mathrm{O}\\left(\\delta^{2}\\right)$"
      ],
      "text/plain": [
       "<IPython.core.display.Math object>"
      ]
     },
     "metadata": {},
     "output_type": "display_data"
    },
    {
     "data": {
      "text/latex": [
       "$\\displaystyle {\\Gamma}{}^{1\n",
       "}{}_{1\n",
       "}{}_{3\n",
       "} = \\frac{\\partial }{\\partial z}\\phi\\left(\\eta,x,y,z\\right) \\delta+\\mathrm{O}\\left(\\delta^{2}\\right)$"
      ],
      "text/plain": [
       "<IPython.core.display.Math object>"
      ]
     },
     "metadata": {},
     "output_type": "display_data"
    },
    {
     "data": {
      "text/latex": [
       "$\\displaystyle {\\Gamma}{}^{1\n",
       "}{}_{2\n",
       "}{}_{1\n",
       "} = \\frac{\\partial }{\\partial y}\\phi\\left(\\eta,x,y,z\\right) \\delta+\\mathrm{O}\\left(\\delta^{2}\\right)$"
      ],
      "text/plain": [
       "<IPython.core.display.Math object>"
      ]
     },
     "metadata": {},
     "output_type": "display_data"
    },
    {
     "data": {
      "text/latex": [
       "$\\displaystyle {\\Gamma}{}^{1\n",
       "}{}_{2\n",
       "}{}_{2\n",
       "} = -\\frac{\\partial }{\\partial x}\\phi\\left(\\eta,x,y,z\\right) \\delta+\\mathrm{O}\\left(\\delta^{2}\\right)$"
      ],
      "text/plain": [
       "<IPython.core.display.Math object>"
      ]
     },
     "metadata": {},
     "output_type": "display_data"
    },
    {
     "data": {
      "text/latex": [
       "$\\displaystyle {\\Gamma}{}^{1\n",
       "}{}_{3\n",
       "}{}_{1\n",
       "} = \\frac{\\partial }{\\partial z}\\phi\\left(\\eta,x,y,z\\right) \\delta+\\mathrm{O}\\left(\\delta^{2}\\right)$"
      ],
      "text/plain": [
       "<IPython.core.display.Math object>"
      ]
     },
     "metadata": {},
     "output_type": "display_data"
    },
    {
     "data": {
      "text/latex": [
       "$\\displaystyle {\\Gamma}{}^{1\n",
       "}{}_{3\n",
       "}{}_{3\n",
       "} = -\\frac{\\partial }{\\partial x}\\phi\\left(\\eta,x,y,z\\right) \\delta+\\mathrm{O}\\left(\\delta^{2}\\right)$"
      ],
      "text/plain": [
       "<IPython.core.display.Math object>"
      ]
     },
     "metadata": {},
     "output_type": "display_data"
    },
    {
     "data": {
      "text/latex": [
       "$\\displaystyle {\\Gamma}{}^{2\n",
       "}{}_{0\n",
       "}{}_{0\n",
       "} = \\frac{\\partial }{\\partial y}\\psi\\left(\\eta,x,y,z\\right) \\delta+\\mathrm{O}\\left(\\delta^{2}\\right)$"
      ],
      "text/plain": [
       "<IPython.core.display.Math object>"
      ]
     },
     "metadata": {},
     "output_type": "display_data"
    },
    {
     "data": {
      "text/latex": [
       "$\\displaystyle {\\Gamma}{}^{2\n",
       "}{}_{0\n",
       "}{}_{2\n",
       "} = \\frac{\\frac{\\mathrm{d}}{\\mathrm{d}\\eta}\\,a\\left(\\eta\\right)}{a\\left(\\eta\\right)}+\\frac{\\partial }{\\partial \\eta}\\phi\\left(\\eta,x,y,z\\right) \\delta+\\mathrm{O}\\left(\\delta^{2}\\right)$"
      ],
      "text/plain": [
       "<IPython.core.display.Math object>"
      ]
     },
     "metadata": {},
     "output_type": "display_data"
    },
    {
     "data": {
      "text/latex": [
       "$\\displaystyle {\\Gamma}{}^{2\n",
       "}{}_{1\n",
       "}{}_{1\n",
       "} = -\\frac{\\partial }{\\partial y}\\phi\\left(\\eta,x,y,z\\right) \\delta+\\mathrm{O}\\left(\\delta^{2}\\right)$"
      ],
      "text/plain": [
       "<IPython.core.display.Math object>"
      ]
     },
     "metadata": {},
     "output_type": "display_data"
    },
    {
     "data": {
      "text/latex": [
       "$\\displaystyle {\\Gamma}{}^{2\n",
       "}{}_{1\n",
       "}{}_{2\n",
       "} = \\frac{\\partial }{\\partial x}\\phi\\left(\\eta,x,y,z\\right) \\delta+\\mathrm{O}\\left(\\delta^{2}\\right)$"
      ],
      "text/plain": [
       "<IPython.core.display.Math object>"
      ]
     },
     "metadata": {},
     "output_type": "display_data"
    },
    {
     "data": {
      "text/latex": [
       "$\\displaystyle {\\Gamma}{}^{2\n",
       "}{}_{2\n",
       "}{}_{0\n",
       "} = \\frac{\\frac{\\mathrm{d}}{\\mathrm{d}\\eta}\\,a\\left(\\eta\\right)}{a\\left(\\eta\\right)}+\\frac{\\partial }{\\partial \\eta}\\phi\\left(\\eta,x,y,z\\right) \\delta+\\mathrm{O}\\left(\\delta^{2}\\right)$"
      ],
      "text/plain": [
       "<IPython.core.display.Math object>"
      ]
     },
     "metadata": {},
     "output_type": "display_data"
    },
    {
     "data": {
      "text/latex": [
       "$\\displaystyle {\\Gamma}{}^{2\n",
       "}{}_{2\n",
       "}{}_{1\n",
       "} = \\frac{\\partial }{\\partial x}\\phi\\left(\\eta,x,y,z\\right) \\delta+\\mathrm{O}\\left(\\delta^{2}\\right)$"
      ],
      "text/plain": [
       "<IPython.core.display.Math object>"
      ]
     },
     "metadata": {},
     "output_type": "display_data"
    },
    {
     "data": {
      "text/latex": [
       "$\\displaystyle {\\Gamma}{}^{2\n",
       "}{}_{2\n",
       "}{}_{2\n",
       "} = \\frac{\\partial }{\\partial y}\\phi\\left(\\eta,x,y,z\\right) \\delta+\\mathrm{O}\\left(\\delta^{2}\\right)$"
      ],
      "text/plain": [
       "<IPython.core.display.Math object>"
      ]
     },
     "metadata": {},
     "output_type": "display_data"
    },
    {
     "data": {
      "text/latex": [
       "$\\displaystyle {\\Gamma}{}^{2\n",
       "}{}_{2\n",
       "}{}_{3\n",
       "} = \\frac{\\partial }{\\partial z}\\phi\\left(\\eta,x,y,z\\right) \\delta+\\mathrm{O}\\left(\\delta^{2}\\right)$"
      ],
      "text/plain": [
       "<IPython.core.display.Math object>"
      ]
     },
     "metadata": {},
     "output_type": "display_data"
    },
    {
     "data": {
      "text/latex": [
       "$\\displaystyle {\\Gamma}{}^{2\n",
       "}{}_{3\n",
       "}{}_{2\n",
       "} = \\frac{\\partial }{\\partial z}\\phi\\left(\\eta,x,y,z\\right) \\delta+\\mathrm{O}\\left(\\delta^{2}\\right)$"
      ],
      "text/plain": [
       "<IPython.core.display.Math object>"
      ]
     },
     "metadata": {},
     "output_type": "display_data"
    },
    {
     "data": {
      "text/latex": [
       "$\\displaystyle {\\Gamma}{}^{2\n",
       "}{}_{3\n",
       "}{}_{3\n",
       "} = -\\frac{\\partial }{\\partial y}\\phi\\left(\\eta,x,y,z\\right) \\delta+\\mathrm{O}\\left(\\delta^{2}\\right)$"
      ],
      "text/plain": [
       "<IPython.core.display.Math object>"
      ]
     },
     "metadata": {},
     "output_type": "display_data"
    },
    {
     "data": {
      "text/latex": [
       "$\\displaystyle {\\Gamma}{}^{3\n",
       "}{}_{0\n",
       "}{}_{0\n",
       "} = \\frac{\\partial }{\\partial z}\\psi\\left(\\eta,x,y,z\\right) \\delta+\\mathrm{O}\\left(\\delta^{2}\\right)$"
      ],
      "text/plain": [
       "<IPython.core.display.Math object>"
      ]
     },
     "metadata": {},
     "output_type": "display_data"
    },
    {
     "data": {
      "text/latex": [
       "$\\displaystyle {\\Gamma}{}^{3\n",
       "}{}_{0\n",
       "}{}_{3\n",
       "} = \\frac{\\frac{\\mathrm{d}}{\\mathrm{d}\\eta}\\,a\\left(\\eta\\right)}{a\\left(\\eta\\right)}+\\frac{\\partial }{\\partial \\eta}\\phi\\left(\\eta,x,y,z\\right) \\delta+\\mathrm{O}\\left(\\delta^{2}\\right)$"
      ],
      "text/plain": [
       "<IPython.core.display.Math object>"
      ]
     },
     "metadata": {},
     "output_type": "display_data"
    },
    {
     "data": {
      "text/latex": [
       "$\\displaystyle {\\Gamma}{}^{3\n",
       "}{}_{1\n",
       "}{}_{1\n",
       "} = -\\frac{\\partial }{\\partial z}\\phi\\left(\\eta,x,y,z\\right) \\delta+\\mathrm{O}\\left(\\delta^{2}\\right)$"
      ],
      "text/plain": [
       "<IPython.core.display.Math object>"
      ]
     },
     "metadata": {},
     "output_type": "display_data"
    },
    {
     "data": {
      "text/latex": [
       "$\\displaystyle {\\Gamma}{}^{3\n",
       "}{}_{1\n",
       "}{}_{3\n",
       "} = \\frac{\\partial }{\\partial x}\\phi\\left(\\eta,x,y,z\\right) \\delta+\\mathrm{O}\\left(\\delta^{2}\\right)$"
      ],
      "text/plain": [
       "<IPython.core.display.Math object>"
      ]
     },
     "metadata": {},
     "output_type": "display_data"
    },
    {
     "data": {
      "text/latex": [
       "$\\displaystyle {\\Gamma}{}^{3\n",
       "}{}_{2\n",
       "}{}_{2\n",
       "} = -\\frac{\\partial }{\\partial z}\\phi\\left(\\eta,x,y,z\\right) \\delta+\\mathrm{O}\\left(\\delta^{2}\\right)$"
      ],
      "text/plain": [
       "<IPython.core.display.Math object>"
      ]
     },
     "metadata": {},
     "output_type": "display_data"
    },
    {
     "data": {
      "text/latex": [
       "$\\displaystyle {\\Gamma}{}^{3\n",
       "}{}_{2\n",
       "}{}_{3\n",
       "} = \\frac{\\partial }{\\partial y}\\phi\\left(\\eta,x,y,z\\right) \\delta+\\mathrm{O}\\left(\\delta^{2}\\right)$"
      ],
      "text/plain": [
       "<IPython.core.display.Math object>"
      ]
     },
     "metadata": {},
     "output_type": "display_data"
    },
    {
     "data": {
      "text/latex": [
       "$\\displaystyle {\\Gamma}{}^{3\n",
       "}{}_{3\n",
       "}{}_{0\n",
       "} = \\frac{\\frac{\\mathrm{d}}{\\mathrm{d}\\eta}\\,a\\left(\\eta\\right)}{a\\left(\\eta\\right)}+\\frac{\\partial }{\\partial \\eta}\\phi\\left(\\eta,x,y,z\\right) \\delta+\\mathrm{O}\\left(\\delta^{2}\\right)$"
      ],
      "text/plain": [
       "<IPython.core.display.Math object>"
      ]
     },
     "metadata": {},
     "output_type": "display_data"
    },
    {
     "data": {
      "text/latex": [
       "$\\displaystyle {\\Gamma}{}^{3\n",
       "}{}_{3\n",
       "}{}_{1\n",
       "} = \\frac{\\partial }{\\partial x}\\phi\\left(\\eta,x,y,z\\right) \\delta+\\mathrm{O}\\left(\\delta^{2}\\right)$"
      ],
      "text/plain": [
       "<IPython.core.display.Math object>"
      ]
     },
     "metadata": {},
     "output_type": "display_data"
    },
    {
     "data": {
      "text/latex": [
       "$\\displaystyle {\\Gamma}{}^{3\n",
       "}{}_{3\n",
       "}{}_{2\n",
       "} = \\frac{\\partial }{\\partial y}\\phi\\left(\\eta,x,y,z\\right) \\delta+\\mathrm{O}\\left(\\delta^{2}\\right)$"
      ],
      "text/plain": [
       "<IPython.core.display.Math object>"
      ]
     },
     "metadata": {},
     "output_type": "display_data"
    },
    {
     "data": {
      "text/latex": [
       "$\\displaystyle {\\Gamma}{}^{3\n",
       "}{}_{3\n",
       "}{}_{3\n",
       "} = \\frac{\\partial }{\\partial z}\\phi\\left(\\eta,x,y,z\\right) \\delta+\\mathrm{O}\\left(\\delta^{2}\\right)$"
      ],
      "text/plain": [
       "<IPython.core.display.Math object>"
      ]
     },
     "metadata": {},
     "output_type": "display_data"
    }
   ],
   "source": [
    "# To calculate the First and Second kind Christoffel Symbols:\n",
    "Chr = pt.christoffel()\n",
    "\n",
    "# To calculate the first kind without the second kind:\n",
    "# Chr = pt.christoffel(Second_kind = False)\n",
    "\n",
    "# To calculate the second kind without the first kind:\n",
    "# Chr = pt.christoffel(First_kind = False)\n",
    "\n",
    "# To display the tensor:\n",
    "Chr.display()\n",
    "\n",
    "# By default it displays all the non zero components for the two kinds of Christoffel Symbols.\n",
    "\n",
    "# To display only a particular combination of indices, e.g., the Second kind:\n",
    "# Chr.display(\"^,_,_\")"
   ]
  },
  {
   "cell_type": "code",
   "execution_count": 9,
   "metadata": {},
   "outputs": [
    {
     "data": {
      "text/html": [
       "$$ \\frac{\\partial }{\\partial z}\\phi\\left(\\eta,x,y,z\\right) \\delta+\\mathrm{O}\\left(\\delta^{2}\\right) $$"
      ],
      "text/latex": [
       "\\varphi^{\\left(4\\right)}\\left(\\eta,x,y,z\\right) \\delta+\\delta^{2} \\operatorname{\\mathrm{order\\_size} }\\left(\\delta\\right)"
      ],
      "text/plain": []
     },
     "execution_count": 9,
     "metadata": {},
     "output_type": "execute_result"
    }
   ],
   "source": [
    "Chr(\"^3,_3,_3\")"
   ]
  },
  {
   "cell_type": "code",
   "execution_count": 11,
   "metadata": {
    "scrolled": false
   },
   "outputs": [
    {
     "data": {
      "text/latex": [
       "Riemann Tensor $R^{\\alpha}_{\\beta \\gamma \\delta}$"
      ],
      "text/plain": [
       "<IPython.core.display.Latex object>"
      ]
     },
     "metadata": {},
     "output_type": "display_data"
    },
    {
     "data": {
      "application/vnd.jupyter.widget-view+json": {
       "model_id": "a788bda2c6e14fab962653cd342d0d9c",
       "version_major": 2,
       "version_minor": 0
      },
      "text/plain": [
       "  0%|          | 0/256 [00:00<?, ?it/s]"
      ]
     },
     "metadata": {},
     "output_type": "display_data"
    },
    {
     "data": {
      "text/latex": [
       "$\\displaystyle {R}{}^{0\n",
       "}{}_{0\n",
       "}{}_{0\n",
       "}{}_{1\n",
       "} = \\left(-\\frac{\\partial }{\\partial \\eta}\\frac{\\partial }{\\partial x}\\psi\\left(\\eta,x,y,z\\right)+\\frac{\\partial }{\\partial x}\\frac{\\partial }{\\partial \\eta}\\psi\\left(\\eta,x,y,z\\right)\\right) \\delta+\\mathrm{O}\\left(\\delta^{2}\\right)$"
      ],
      "text/plain": [
       "<IPython.core.display.Math object>"
      ]
     },
     "metadata": {},
     "output_type": "display_data"
    },
    {
     "data": {
      "text/latex": [
       "$\\displaystyle {R}{}^{0\n",
       "}{}_{0\n",
       "}{}_{0\n",
       "}{}_{2\n",
       "} = \\left(-\\frac{\\partial }{\\partial \\eta}\\frac{\\partial }{\\partial y}\\psi\\left(\\eta,x,y,z\\right)+\\frac{\\partial }{\\partial y}\\frac{\\partial }{\\partial \\eta}\\psi\\left(\\eta,x,y,z\\right)\\right) \\delta+\\mathrm{O}\\left(\\delta^{2}\\right)$"
      ],
      "text/plain": [
       "<IPython.core.display.Math object>"
      ]
     },
     "metadata": {},
     "output_type": "display_data"
    },
    {
     "data": {
      "text/latex": [
       "$\\displaystyle {R}{}^{0\n",
       "}{}_{0\n",
       "}{}_{0\n",
       "}{}_{3\n",
       "} = \\left(-\\frac{\\partial }{\\partial \\eta}\\frac{\\partial }{\\partial z}\\psi\\left(\\eta,x,y,z\\right)+\\frac{\\partial }{\\partial z}\\frac{\\partial }{\\partial \\eta}\\psi\\left(\\eta,x,y,z\\right)\\right) \\delta+\\mathrm{O}\\left(\\delta^{2}\\right)$"
      ],
      "text/plain": [
       "<IPython.core.display.Math object>"
      ]
     },
     "metadata": {},
     "output_type": "display_data"
    },
    {
     "data": {
      "text/latex": [
       "$\\displaystyle {R}{}^{0\n",
       "}{}_{0\n",
       "}{}_{1\n",
       "}{}_{0\n",
       "} = -\\left(-\\frac{\\partial }{\\partial \\eta}\\frac{\\partial }{\\partial x}\\psi\\left(\\eta,x,y,z\\right)+\\frac{\\partial }{\\partial x}\\frac{\\partial }{\\partial \\eta}\\psi\\left(\\eta,x,y,z\\right)\\right) \\delta-\\mathrm{O}\\left(\\delta^{2}\\right)$"
      ],
      "text/plain": [
       "<IPython.core.display.Math object>"
      ]
     },
     "metadata": {},
     "output_type": "display_data"
    },
    {
     "data": {
      "text/latex": [
       "$\\displaystyle {R}{}^{0\n",
       "}{}_{0\n",
       "}{}_{1\n",
       "}{}_{2\n",
       "} = \\left(-\\frac{\\partial }{\\partial x}\\frac{\\partial }{\\partial y}\\psi\\left(\\eta,x,y,z\\right)+\\frac{\\partial }{\\partial y}\\frac{\\partial }{\\partial x}\\psi\\left(\\eta,x,y,z\\right)\\right) \\delta+\\mathrm{O}\\left(\\delta^{3}\\right)$"
      ],
      "text/plain": [
       "<IPython.core.display.Math object>"
      ]
     },
     "metadata": {},
     "output_type": "display_data"
    },
    {
     "data": {
      "text/latex": [
       "$\\displaystyle {R}{}^{0\n",
       "}{}_{0\n",
       "}{}_{1\n",
       "}{}_{3\n",
       "} = \\left(-\\frac{\\partial }{\\partial x}\\frac{\\partial }{\\partial z}\\psi\\left(\\eta,x,y,z\\right)+\\frac{\\partial }{\\partial z}\\frac{\\partial }{\\partial x}\\psi\\left(\\eta,x,y,z\\right)\\right) \\delta+\\mathrm{O}\\left(\\delta^{3}\\right)$"
      ],
      "text/plain": [
       "<IPython.core.display.Math object>"
      ]
     },
     "metadata": {},
     "output_type": "display_data"
    },
    {
     "data": {
      "text/latex": [
       "$\\displaystyle {R}{}^{0\n",
       "}{}_{0\n",
       "}{}_{2\n",
       "}{}_{0\n",
       "} = -\\left(-\\frac{\\partial }{\\partial \\eta}\\frac{\\partial }{\\partial y}\\psi\\left(\\eta,x,y,z\\right)+\\frac{\\partial }{\\partial y}\\frac{\\partial }{\\partial \\eta}\\psi\\left(\\eta,x,y,z\\right)\\right) \\delta-\\mathrm{O}\\left(\\delta^{2}\\right)$"
      ],
      "text/plain": [
       "<IPython.core.display.Math object>"
      ]
     },
     "metadata": {},
     "output_type": "display_data"
    },
    {
     "data": {
      "text/latex": [
       "$\\displaystyle {R}{}^{0\n",
       "}{}_{0\n",
       "}{}_{2\n",
       "}{}_{1\n",
       "} = -\\left(-\\frac{\\partial }{\\partial x}\\frac{\\partial }{\\partial y}\\psi\\left(\\eta,x,y,z\\right)+\\frac{\\partial }{\\partial y}\\frac{\\partial }{\\partial x}\\psi\\left(\\eta,x,y,z\\right)\\right) \\delta-\\mathrm{O}\\left(\\delta^{3}\\right)$"
      ],
      "text/plain": [
       "<IPython.core.display.Math object>"
      ]
     },
     "metadata": {},
     "output_type": "display_data"
    },
    {
     "data": {
      "text/latex": [
       "$\\displaystyle {R}{}^{0\n",
       "}{}_{0\n",
       "}{}_{2\n",
       "}{}_{3\n",
       "} = \\left(-\\frac{\\partial }{\\partial y}\\frac{\\partial }{\\partial z}\\psi\\left(\\eta,x,y,z\\right)+\\frac{\\partial }{\\partial z}\\frac{\\partial }{\\partial y}\\psi\\left(\\eta,x,y,z\\right)\\right) \\delta+\\mathrm{O}\\left(\\delta^{3}\\right)$"
      ],
      "text/plain": [
       "<IPython.core.display.Math object>"
      ]
     },
     "metadata": {},
     "output_type": "display_data"
    },
    {
     "data": {
      "text/latex": [
       "$\\displaystyle {R}{}^{0\n",
       "}{}_{0\n",
       "}{}_{3\n",
       "}{}_{0\n",
       "} = -\\left(-\\frac{\\partial }{\\partial \\eta}\\frac{\\partial }{\\partial z}\\psi\\left(\\eta,x,y,z\\right)+\\frac{\\partial }{\\partial z}\\frac{\\partial }{\\partial \\eta}\\psi\\left(\\eta,x,y,z\\right)\\right) \\delta-\\mathrm{O}\\left(\\delta^{2}\\right)$"
      ],
      "text/plain": [
       "<IPython.core.display.Math object>"
      ]
     },
     "metadata": {},
     "output_type": "display_data"
    },
    {
     "data": {
      "text/latex": [
       "$\\displaystyle {R}{}^{0\n",
       "}{}_{0\n",
       "}{}_{3\n",
       "}{}_{1\n",
       "} = -\\left(-\\frac{\\partial }{\\partial x}\\frac{\\partial }{\\partial z}\\psi\\left(\\eta,x,y,z\\right)+\\frac{\\partial }{\\partial z}\\frac{\\partial }{\\partial x}\\psi\\left(\\eta,x,y,z\\right)\\right) \\delta-\\mathrm{O}\\left(\\delta^{3}\\right)$"
      ],
      "text/plain": [
       "<IPython.core.display.Math object>"
      ]
     },
     "metadata": {},
     "output_type": "display_data"
    },
    {
     "data": {
      "text/latex": [
       "$\\displaystyle {R}{}^{0\n",
       "}{}_{0\n",
       "}{}_{3\n",
       "}{}_{2\n",
       "} = -\\left(-\\frac{\\partial }{\\partial y}\\frac{\\partial }{\\partial z}\\psi\\left(\\eta,x,y,z\\right)+\\frac{\\partial }{\\partial z}\\frac{\\partial }{\\partial y}\\psi\\left(\\eta,x,y,z\\right)\\right) \\delta-\\mathrm{O}\\left(\\delta^{3}\\right)$"
      ],
      "text/plain": [
       "<IPython.core.display.Math object>"
      ]
     },
     "metadata": {},
     "output_type": "display_data"
    },
    {
     "data": {
      "text/latex": [
       "$\\displaystyle {R}{}^{0\n",
       "}{}_{1\n",
       "}{}_{0\n",
       "}{}_{1\n",
       "} = \\frac{-\\left(\\frac{\\mathrm{d}}{\\mathrm{d}\\eta}\\,a\\left(\\eta\\right)\\right)^{2}+\\frac{\\mathrm{d}^{2}}{\\mathrm{d}\\eta^{2}}\\,a\\left(\\eta\\right) a\\left(\\eta\\right)}{a\\left(\\eta\\right)^{2}}+\\frac{\\left(-2 \\left(\\frac{\\mathrm{d}}{\\mathrm{d}\\eta}\\,a\\left(\\eta\\right)\\right)^{2}\\,\\phi\\left(\\eta,x,y,z\\right)+2 \\left(\\frac{\\mathrm{d}}{\\mathrm{d}\\eta}\\,a\\left(\\eta\\right)\\right)^{2}\\,\\psi\\left(\\eta,x,y,z\\right)+\\frac{\\mathrm{d}}{\\mathrm{d}\\eta}\\,a\\left(\\eta\\right) \\frac{\\partial }{\\partial \\eta}\\phi\\left(\\eta,x,y,z\\right) a\\left(\\eta\\right)-\\frac{\\mathrm{d}}{\\mathrm{d}\\eta}\\,a\\left(\\eta\\right) \\frac{\\partial }{\\partial \\eta}\\psi\\left(\\eta,x,y,z\\right) a\\left(\\eta\\right)+2\\,\\frac{\\mathrm{d}^{2}}{\\mathrm{d}\\eta^{2}}\\,a\\left(\\eta\\right) a\\left(\\eta\\right) \\phi\\left(\\eta,x,y,z\\right)-2\\,\\frac{\\mathrm{d}^{2}}{\\mathrm{d}\\eta^{2}}\\,a\\left(\\eta\\right) a\\left(\\eta\\right) \\psi\\left(\\eta,x,y,z\\right)+\\frac{\\partial^2 }{\\partial \\eta^2}\\phi\\left(\\eta,x,y,z\\right) a\\left(\\eta\\right)^{2}-\\frac{\\partial^2 }{\\partial x^2}\\psi\\left(\\eta,x,y,z\\right) a\\left(\\eta\\right)^{2}\\right) \\delta}{a\\left(\\eta\\right)^{2}}+\\mathrm{O}\\left(\\delta^{2}\\right)$"
      ],
      "text/plain": [
       "<IPython.core.display.Math object>"
      ]
     },
     "metadata": {},
     "output_type": "display_data"
    },
    {
     "data": {
      "text/latex": [
       "$\\displaystyle {R}{}^{0\n",
       "}{}_{1\n",
       "}{}_{0\n",
       "}{}_{2\n",
       "} = -\\frac{\\partial }{\\partial x}\\frac{\\partial }{\\partial y}\\psi\\left(\\eta,x,y,z\\right) \\delta+\\mathrm{O}\\left(\\delta^{2}\\right)$"
      ],
      "text/plain": [
       "<IPython.core.display.Math object>"
      ]
     },
     "metadata": {},
     "output_type": "display_data"
    },
    {
     "data": {
      "text/latex": [
       "$\\displaystyle {R}{}^{0\n",
       "}{}_{1\n",
       "}{}_{0\n",
       "}{}_{3\n",
       "} = -\\frac{\\partial }{\\partial x}\\frac{\\partial }{\\partial z}\\psi\\left(\\eta,x,y,z\\right) \\delta+\\mathrm{O}\\left(\\delta^{2}\\right)$"
      ],
      "text/plain": [
       "<IPython.core.display.Math object>"
      ]
     },
     "metadata": {},
     "output_type": "display_data"
    },
    {
     "data": {
      "text/latex": [
       "$\\displaystyle {R}{}^{0\n",
       "}{}_{1\n",
       "}{}_{1\n",
       "}{}_{0\n",
       "} = -\\frac{-\\left(\\frac{\\mathrm{d}}{\\mathrm{d}\\eta}\\,a\\left(\\eta\\right)\\right)^{2}+\\frac{\\mathrm{d}^{2}}{\\mathrm{d}\\eta^{2}}\\,a\\left(\\eta\\right) a\\left(\\eta\\right)}{a\\left(\\eta\\right)^{2}}-\\frac{\\left(-2 \\left(\\frac{\\mathrm{d}}{\\mathrm{d}\\eta}\\,a\\left(\\eta\\right)\\right)^{2}\\,\\phi\\left(\\eta,x,y,z\\right)+2 \\left(\\frac{\\mathrm{d}}{\\mathrm{d}\\eta}\\,a\\left(\\eta\\right)\\right)^{2}\\,\\psi\\left(\\eta,x,y,z\\right)+\\frac{\\mathrm{d}}{\\mathrm{d}\\eta}\\,a\\left(\\eta\\right) \\frac{\\partial }{\\partial \\eta}\\phi\\left(\\eta,x,y,z\\right) a\\left(\\eta\\right)-\\frac{\\mathrm{d}}{\\mathrm{d}\\eta}\\,a\\left(\\eta\\right) \\frac{\\partial }{\\partial \\eta}\\psi\\left(\\eta,x,y,z\\right) a\\left(\\eta\\right)+2\\,\\frac{\\mathrm{d}^{2}}{\\mathrm{d}\\eta^{2}}\\,a\\left(\\eta\\right) a\\left(\\eta\\right) \\phi\\left(\\eta,x,y,z\\right)-2\\,\\frac{\\mathrm{d}^{2}}{\\mathrm{d}\\eta^{2}}\\,a\\left(\\eta\\right) a\\left(\\eta\\right) \\psi\\left(\\eta,x,y,z\\right)+\\frac{\\partial^2 }{\\partial \\eta^2}\\phi\\left(\\eta,x,y,z\\right) a\\left(\\eta\\right)^{2}-\\frac{\\partial^2 }{\\partial x^2}\\psi\\left(\\eta,x,y,z\\right) a\\left(\\eta\\right)^{2}\\right) \\delta}{a\\left(\\eta\\right)^{2}}-\\mathrm{O}\\left(\\delta^{2}\\right)$"
      ],
      "text/plain": [
       "<IPython.core.display.Math object>"
      ]
     },
     "metadata": {},
     "output_type": "display_data"
    },
    {
     "data": {
      "text/latex": [
       "$\\displaystyle {R}{}^{0\n",
       "}{}_{1\n",
       "}{}_{1\n",
       "}{}_{2\n",
       "} = \\frac{\\left(\\frac{\\mathrm{d}}{\\mathrm{d}\\eta}\\,a\\left(\\eta\\right) \\frac{\\partial }{\\partial y}\\psi\\left(\\eta,x,y,z\\right)-\\frac{\\partial }{\\partial \\eta}\\frac{\\partial }{\\partial y}\\phi\\left(\\eta,x,y,z\\right) a\\left(\\eta\\right)\\right) \\delta}{a\\left(\\eta\\right)}+\\mathrm{O}\\left(\\delta^{2}\\right)$"
      ],
      "text/plain": [
       "<IPython.core.display.Math object>"
      ]
     },
     "metadata": {},
     "output_type": "display_data"
    },
    {
     "data": {
      "text/latex": [
       "$\\displaystyle {R}{}^{0\n",
       "}{}_{1\n",
       "}{}_{1\n",
       "}{}_{3\n",
       "} = \\frac{\\left(\\frac{\\mathrm{d}}{\\mathrm{d}\\eta}\\,a\\left(\\eta\\right) \\frac{\\partial }{\\partial z}\\psi\\left(\\eta,x,y,z\\right)-\\frac{\\partial }{\\partial \\eta}\\frac{\\partial }{\\partial z}\\phi\\left(\\eta,x,y,z\\right) a\\left(\\eta\\right)\\right) \\delta}{a\\left(\\eta\\right)}+\\mathrm{O}\\left(\\delta^{2}\\right)$"
      ],
      "text/plain": [
       "<IPython.core.display.Math object>"
      ]
     },
     "metadata": {},
     "output_type": "display_data"
    },
    {
     "data": {
      "text/latex": [
       "$\\displaystyle {R}{}^{0\n",
       "}{}_{1\n",
       "}{}_{2\n",
       "}{}_{0\n",
       "} = \\frac{\\partial }{\\partial x}\\frac{\\partial }{\\partial y}\\psi\\left(\\eta,x,y,z\\right) \\delta-\\mathrm{O}\\left(\\delta^{2}\\right)$"
      ],
      "text/plain": [
       "<IPython.core.display.Math object>"
      ]
     },
     "metadata": {},
     "output_type": "display_data"
    },
    {
     "data": {
      "text/latex": [
       "$\\displaystyle {R}{}^{0\n",
       "}{}_{1\n",
       "}{}_{2\n",
       "}{}_{1\n",
       "} = -\\frac{\\left(\\frac{\\mathrm{d}}{\\mathrm{d}\\eta}\\,a\\left(\\eta\\right) \\frac{\\partial }{\\partial y}\\psi\\left(\\eta,x,y,z\\right)-\\frac{\\partial }{\\partial \\eta}\\frac{\\partial }{\\partial y}\\phi\\left(\\eta,x,y,z\\right) a\\left(\\eta\\right)\\right) \\delta}{a\\left(\\eta\\right)}-\\mathrm{O}\\left(\\delta^{2}\\right)$"
      ],
      "text/plain": [
       "<IPython.core.display.Math object>"
      ]
     },
     "metadata": {},
     "output_type": "display_data"
    },
    {
     "data": {
      "text/latex": [
       "$\\displaystyle {R}{}^{0\n",
       "}{}_{1\n",
       "}{}_{3\n",
       "}{}_{0\n",
       "} = \\frac{\\partial }{\\partial x}\\frac{\\partial }{\\partial z}\\psi\\left(\\eta,x,y,z\\right) \\delta-\\mathrm{O}\\left(\\delta^{2}\\right)$"
      ],
      "text/plain": [
       "<IPython.core.display.Math object>"
      ]
     },
     "metadata": {},
     "output_type": "display_data"
    },
    {
     "data": {
      "text/latex": [
       "$\\displaystyle {R}{}^{0\n",
       "}{}_{1\n",
       "}{}_{3\n",
       "}{}_{1\n",
       "} = -\\frac{\\left(\\frac{\\mathrm{d}}{\\mathrm{d}\\eta}\\,a\\left(\\eta\\right) \\frac{\\partial }{\\partial z}\\psi\\left(\\eta,x,y,z\\right)-\\frac{\\partial }{\\partial \\eta}\\frac{\\partial }{\\partial z}\\phi\\left(\\eta,x,y,z\\right) a\\left(\\eta\\right)\\right) \\delta}{a\\left(\\eta\\right)}-\\mathrm{O}\\left(\\delta^{2}\\right)$"
      ],
      "text/plain": [
       "<IPython.core.display.Math object>"
      ]
     },
     "metadata": {},
     "output_type": "display_data"
    },
    {
     "data": {
      "text/latex": [
       "$\\displaystyle {R}{}^{0\n",
       "}{}_{2\n",
       "}{}_{0\n",
       "}{}_{1\n",
       "} = -\\frac{\\partial }{\\partial y}\\frac{\\partial }{\\partial x}\\psi\\left(\\eta,x,y,z\\right) \\delta+\\mathrm{O}\\left(\\delta^{2}\\right)$"
      ],
      "text/plain": [
       "<IPython.core.display.Math object>"
      ]
     },
     "metadata": {},
     "output_type": "display_data"
    },
    {
     "data": {
      "text/latex": [
       "$\\displaystyle {R}{}^{0\n",
       "}{}_{2\n",
       "}{}_{0\n",
       "}{}_{2\n",
       "} = \\frac{-\\left(\\frac{\\mathrm{d}}{\\mathrm{d}\\eta}\\,a\\left(\\eta\\right)\\right)^{2}+\\frac{\\mathrm{d}^{2}}{\\mathrm{d}\\eta^{2}}\\,a\\left(\\eta\\right) a\\left(\\eta\\right)}{a\\left(\\eta\\right)^{2}}+\\frac{\\left(-2 \\left(\\frac{\\mathrm{d}}{\\mathrm{d}\\eta}\\,a\\left(\\eta\\right)\\right)^{2}\\,\\phi\\left(\\eta,x,y,z\\right)+2 \\left(\\frac{\\mathrm{d}}{\\mathrm{d}\\eta}\\,a\\left(\\eta\\right)\\right)^{2}\\,\\psi\\left(\\eta,x,y,z\\right)+\\frac{\\mathrm{d}}{\\mathrm{d}\\eta}\\,a\\left(\\eta\\right) \\frac{\\partial }{\\partial \\eta}\\phi\\left(\\eta,x,y,z\\right) a\\left(\\eta\\right)-\\frac{\\mathrm{d}}{\\mathrm{d}\\eta}\\,a\\left(\\eta\\right) \\frac{\\partial }{\\partial \\eta}\\psi\\left(\\eta,x,y,z\\right) a\\left(\\eta\\right)+2\\,\\frac{\\mathrm{d}^{2}}{\\mathrm{d}\\eta^{2}}\\,a\\left(\\eta\\right) a\\left(\\eta\\right) \\phi\\left(\\eta,x,y,z\\right)-2\\,\\frac{\\mathrm{d}^{2}}{\\mathrm{d}\\eta^{2}}\\,a\\left(\\eta\\right) a\\left(\\eta\\right) \\psi\\left(\\eta,x,y,z\\right)+\\frac{\\partial^2 }{\\partial \\eta^2}\\phi\\left(\\eta,x,y,z\\right) a\\left(\\eta\\right)^{2}-\\frac{\\partial^2 }{\\partial y^2}\\psi\\left(\\eta,x,y,z\\right) a\\left(\\eta\\right)^{2}\\right) \\delta}{a\\left(\\eta\\right)^{2}}+\\mathrm{O}\\left(\\delta^{2}\\right)$"
      ],
      "text/plain": [
       "<IPython.core.display.Math object>"
      ]
     },
     "metadata": {},
     "output_type": "display_data"
    },
    {
     "data": {
      "text/latex": [
       "$\\displaystyle {R}{}^{0\n",
       "}{}_{2\n",
       "}{}_{0\n",
       "}{}_{3\n",
       "} = -\\frac{\\partial }{\\partial y}\\frac{\\partial }{\\partial z}\\psi\\left(\\eta,x,y,z\\right) \\delta+\\mathrm{O}\\left(\\delta^{2}\\right)$"
      ],
      "text/plain": [
       "<IPython.core.display.Math object>"
      ]
     },
     "metadata": {},
     "output_type": "display_data"
    },
    {
     "data": {
      "text/latex": [
       "$\\displaystyle {R}{}^{0\n",
       "}{}_{2\n",
       "}{}_{1\n",
       "}{}_{0\n",
       "} = \\frac{\\partial }{\\partial y}\\frac{\\partial }{\\partial x}\\psi\\left(\\eta,x,y,z\\right) \\delta-\\mathrm{O}\\left(\\delta^{2}\\right)$"
      ],
      "text/plain": [
       "<IPython.core.display.Math object>"
      ]
     },
     "metadata": {},
     "output_type": "display_data"
    },
    {
     "data": {
      "text/latex": [
       "$\\displaystyle {R}{}^{0\n",
       "}{}_{2\n",
       "}{}_{1\n",
       "}{}_{2\n",
       "} = \\frac{\\left(-\\frac{\\mathrm{d}}{\\mathrm{d}\\eta}\\,a\\left(\\eta\\right) \\frac{\\partial }{\\partial x}\\psi\\left(\\eta,x,y,z\\right)+\\frac{\\partial }{\\partial \\eta}\\frac{\\partial }{\\partial x}\\phi\\left(\\eta,x,y,z\\right) a\\left(\\eta\\right)\\right) \\delta}{a\\left(\\eta\\right)}+\\mathrm{O}\\left(\\delta^{2}\\right)$"
      ],
      "text/plain": [
       "<IPython.core.display.Math object>"
      ]
     },
     "metadata": {},
     "output_type": "display_data"
    },
    {
     "data": {
      "text/latex": [
       "$\\displaystyle {R}{}^{0\n",
       "}{}_{2\n",
       "}{}_{2\n",
       "}{}_{0\n",
       "} = -\\frac{-\\left(\\frac{\\mathrm{d}}{\\mathrm{d}\\eta}\\,a\\left(\\eta\\right)\\right)^{2}+\\frac{\\mathrm{d}^{2}}{\\mathrm{d}\\eta^{2}}\\,a\\left(\\eta\\right) a\\left(\\eta\\right)}{a\\left(\\eta\\right)^{2}}-\\frac{\\left(-2 \\left(\\frac{\\mathrm{d}}{\\mathrm{d}\\eta}\\,a\\left(\\eta\\right)\\right)^{2}\\,\\phi\\left(\\eta,x,y,z\\right)+2 \\left(\\frac{\\mathrm{d}}{\\mathrm{d}\\eta}\\,a\\left(\\eta\\right)\\right)^{2}\\,\\psi\\left(\\eta,x,y,z\\right)+\\frac{\\mathrm{d}}{\\mathrm{d}\\eta}\\,a\\left(\\eta\\right) \\frac{\\partial }{\\partial \\eta}\\phi\\left(\\eta,x,y,z\\right) a\\left(\\eta\\right)-\\frac{\\mathrm{d}}{\\mathrm{d}\\eta}\\,a\\left(\\eta\\right) \\frac{\\partial }{\\partial \\eta}\\psi\\left(\\eta,x,y,z\\right) a\\left(\\eta\\right)+2\\,\\frac{\\mathrm{d}^{2}}{\\mathrm{d}\\eta^{2}}\\,a\\left(\\eta\\right) a\\left(\\eta\\right) \\phi\\left(\\eta,x,y,z\\right)-2\\,\\frac{\\mathrm{d}^{2}}{\\mathrm{d}\\eta^{2}}\\,a\\left(\\eta\\right) a\\left(\\eta\\right) \\psi\\left(\\eta,x,y,z\\right)+\\frac{\\partial^2 }{\\partial \\eta^2}\\phi\\left(\\eta,x,y,z\\right) a\\left(\\eta\\right)^{2}-\\frac{\\partial^2 }{\\partial y^2}\\psi\\left(\\eta,x,y,z\\right) a\\left(\\eta\\right)^{2}\\right) \\delta}{a\\left(\\eta\\right)^{2}}-\\mathrm{O}\\left(\\delta^{2}\\right)$"
      ],
      "text/plain": [
       "<IPython.core.display.Math object>"
      ]
     },
     "metadata": {},
     "output_type": "display_data"
    },
    {
     "data": {
      "text/latex": [
       "$\\displaystyle {R}{}^{0\n",
       "}{}_{2\n",
       "}{}_{2\n",
       "}{}_{1\n",
       "} = -\\frac{\\left(-\\frac{\\mathrm{d}}{\\mathrm{d}\\eta}\\,a\\left(\\eta\\right) \\frac{\\partial }{\\partial x}\\psi\\left(\\eta,x,y,z\\right)+\\frac{\\partial }{\\partial \\eta}\\frac{\\partial }{\\partial x}\\phi\\left(\\eta,x,y,z\\right) a\\left(\\eta\\right)\\right) \\delta}{a\\left(\\eta\\right)}-\\mathrm{O}\\left(\\delta^{2}\\right)$"
      ],
      "text/plain": [
       "<IPython.core.display.Math object>"
      ]
     },
     "metadata": {},
     "output_type": "display_data"
    },
    {
     "data": {
      "text/latex": [
       "$\\displaystyle {R}{}^{0\n",
       "}{}_{2\n",
       "}{}_{2\n",
       "}{}_{3\n",
       "} = \\frac{\\left(\\frac{\\mathrm{d}}{\\mathrm{d}\\eta}\\,a\\left(\\eta\\right) \\frac{\\partial }{\\partial z}\\psi\\left(\\eta,x,y,z\\right)-\\frac{\\partial }{\\partial \\eta}\\frac{\\partial }{\\partial z}\\phi\\left(\\eta,x,y,z\\right) a\\left(\\eta\\right)\\right) \\delta}{a\\left(\\eta\\right)}+\\mathrm{O}\\left(\\delta^{2}\\right)$"
      ],
      "text/plain": [
       "<IPython.core.display.Math object>"
      ]
     },
     "metadata": {},
     "output_type": "display_data"
    },
    {
     "data": {
      "text/latex": [
       "$\\displaystyle {R}{}^{0\n",
       "}{}_{2\n",
       "}{}_{3\n",
       "}{}_{0\n",
       "} = \\frac{\\partial }{\\partial y}\\frac{\\partial }{\\partial z}\\psi\\left(\\eta,x,y,z\\right) \\delta-\\mathrm{O}\\left(\\delta^{2}\\right)$"
      ],
      "text/plain": [
       "<IPython.core.display.Math object>"
      ]
     },
     "metadata": {},
     "output_type": "display_data"
    },
    {
     "data": {
      "text/latex": [
       "$\\displaystyle {R}{}^{0\n",
       "}{}_{2\n",
       "}{}_{3\n",
       "}{}_{2\n",
       "} = -\\frac{\\left(\\frac{\\mathrm{d}}{\\mathrm{d}\\eta}\\,a\\left(\\eta\\right) \\frac{\\partial }{\\partial z}\\psi\\left(\\eta,x,y,z\\right)-\\frac{\\partial }{\\partial \\eta}\\frac{\\partial }{\\partial z}\\phi\\left(\\eta,x,y,z\\right) a\\left(\\eta\\right)\\right) \\delta}{a\\left(\\eta\\right)}-\\mathrm{O}\\left(\\delta^{2}\\right)$"
      ],
      "text/plain": [
       "<IPython.core.display.Math object>"
      ]
     },
     "metadata": {},
     "output_type": "display_data"
    },
    {
     "data": {
      "text/latex": [
       "$\\displaystyle {R}{}^{0\n",
       "}{}_{3\n",
       "}{}_{0\n",
       "}{}_{1\n",
       "} = -\\frac{\\partial }{\\partial z}\\frac{\\partial }{\\partial x}\\psi\\left(\\eta,x,y,z\\right) \\delta+\\mathrm{O}\\left(\\delta^{2}\\right)$"
      ],
      "text/plain": [
       "<IPython.core.display.Math object>"
      ]
     },
     "metadata": {},
     "output_type": "display_data"
    },
    {
     "data": {
      "text/latex": [
       "$\\displaystyle {R}{}^{0\n",
       "}{}_{3\n",
       "}{}_{0\n",
       "}{}_{2\n",
       "} = -\\frac{\\partial }{\\partial z}\\frac{\\partial }{\\partial y}\\psi\\left(\\eta,x,y,z\\right) \\delta+\\mathrm{O}\\left(\\delta^{2}\\right)$"
      ],
      "text/plain": [
       "<IPython.core.display.Math object>"
      ]
     },
     "metadata": {},
     "output_type": "display_data"
    },
    {
     "data": {
      "text/latex": [
       "$\\displaystyle {R}{}^{0\n",
       "}{}_{3\n",
       "}{}_{0\n",
       "}{}_{3\n",
       "} = \\frac{-\\left(\\frac{\\mathrm{d}}{\\mathrm{d}\\eta}\\,a\\left(\\eta\\right)\\right)^{2}+\\frac{\\mathrm{d}^{2}}{\\mathrm{d}\\eta^{2}}\\,a\\left(\\eta\\right) a\\left(\\eta\\right)}{a\\left(\\eta\\right)^{2}}+\\frac{\\left(-2 \\left(\\frac{\\mathrm{d}}{\\mathrm{d}\\eta}\\,a\\left(\\eta\\right)\\right)^{2}\\,\\phi\\left(\\eta,x,y,z\\right)+2 \\left(\\frac{\\mathrm{d}}{\\mathrm{d}\\eta}\\,a\\left(\\eta\\right)\\right)^{2}\\,\\psi\\left(\\eta,x,y,z\\right)+\\frac{\\mathrm{d}}{\\mathrm{d}\\eta}\\,a\\left(\\eta\\right) \\frac{\\partial }{\\partial \\eta}\\phi\\left(\\eta,x,y,z\\right) a\\left(\\eta\\right)-\\frac{\\mathrm{d}}{\\mathrm{d}\\eta}\\,a\\left(\\eta\\right) \\frac{\\partial }{\\partial \\eta}\\psi\\left(\\eta,x,y,z\\right) a\\left(\\eta\\right)+2\\,\\frac{\\mathrm{d}^{2}}{\\mathrm{d}\\eta^{2}}\\,a\\left(\\eta\\right) a\\left(\\eta\\right) \\phi\\left(\\eta,x,y,z\\right)-2\\,\\frac{\\mathrm{d}^{2}}{\\mathrm{d}\\eta^{2}}\\,a\\left(\\eta\\right) a\\left(\\eta\\right) \\psi\\left(\\eta,x,y,z\\right)+\\frac{\\partial^2 }{\\partial \\eta^2}\\phi\\left(\\eta,x,y,z\\right) a\\left(\\eta\\right)^{2}-\\frac{\\partial^2 }{\\partial z^2}\\psi\\left(\\eta,x,y,z\\right) a\\left(\\eta\\right)^{2}\\right) \\delta}{a\\left(\\eta\\right)^{2}}+\\mathrm{O}\\left(\\delta^{2}\\right)$"
      ],
      "text/plain": [
       "<IPython.core.display.Math object>"
      ]
     },
     "metadata": {},
     "output_type": "display_data"
    },
    {
     "data": {
      "text/latex": [
       "$\\displaystyle {R}{}^{0\n",
       "}{}_{3\n",
       "}{}_{1\n",
       "}{}_{0\n",
       "} = \\frac{\\partial }{\\partial z}\\frac{\\partial }{\\partial x}\\psi\\left(\\eta,x,y,z\\right) \\delta-\\mathrm{O}\\left(\\delta^{2}\\right)$"
      ],
      "text/plain": [
       "<IPython.core.display.Math object>"
      ]
     },
     "metadata": {},
     "output_type": "display_data"
    },
    {
     "data": {
      "text/latex": [
       "$\\displaystyle {R}{}^{0\n",
       "}{}_{3\n",
       "}{}_{1\n",
       "}{}_{3\n",
       "} = \\frac{\\left(-\\frac{\\mathrm{d}}{\\mathrm{d}\\eta}\\,a\\left(\\eta\\right) \\frac{\\partial }{\\partial x}\\psi\\left(\\eta,x,y,z\\right)+\\frac{\\partial }{\\partial \\eta}\\frac{\\partial }{\\partial x}\\phi\\left(\\eta,x,y,z\\right) a\\left(\\eta\\right)\\right) \\delta}{a\\left(\\eta\\right)}+\\mathrm{O}\\left(\\delta^{2}\\right)$"
      ],
      "text/plain": [
       "<IPython.core.display.Math object>"
      ]
     },
     "metadata": {},
     "output_type": "display_data"
    },
    {
     "data": {
      "text/latex": [
       "$\\displaystyle {R}{}^{0\n",
       "}{}_{3\n",
       "}{}_{2\n",
       "}{}_{0\n",
       "} = \\frac{\\partial }{\\partial z}\\frac{\\partial }{\\partial y}\\psi\\left(\\eta,x,y,z\\right) \\delta-\\mathrm{O}\\left(\\delta^{2}\\right)$"
      ],
      "text/plain": [
       "<IPython.core.display.Math object>"
      ]
     },
     "metadata": {},
     "output_type": "display_data"
    },
    {
     "data": {
      "text/latex": [
       "$\\displaystyle {R}{}^{0\n",
       "}{}_{3\n",
       "}{}_{2\n",
       "}{}_{3\n",
       "} = \\frac{\\left(-\\frac{\\mathrm{d}}{\\mathrm{d}\\eta}\\,a\\left(\\eta\\right) \\frac{\\partial }{\\partial y}\\psi\\left(\\eta,x,y,z\\right)+\\frac{\\partial }{\\partial \\eta}\\frac{\\partial }{\\partial y}\\phi\\left(\\eta,x,y,z\\right) a\\left(\\eta\\right)\\right) \\delta}{a\\left(\\eta\\right)}+\\mathrm{O}\\left(\\delta^{2}\\right)$"
      ],
      "text/plain": [
       "<IPython.core.display.Math object>"
      ]
     },
     "metadata": {},
     "output_type": "display_data"
    },
    {
     "data": {
      "text/latex": [
       "$\\displaystyle {R}{}^{0\n",
       "}{}_{3\n",
       "}{}_{3\n",
       "}{}_{0\n",
       "} = -\\frac{-\\left(\\frac{\\mathrm{d}}{\\mathrm{d}\\eta}\\,a\\left(\\eta\\right)\\right)^{2}+\\frac{\\mathrm{d}^{2}}{\\mathrm{d}\\eta^{2}}\\,a\\left(\\eta\\right) a\\left(\\eta\\right)}{a\\left(\\eta\\right)^{2}}-\\frac{\\left(-2 \\left(\\frac{\\mathrm{d}}{\\mathrm{d}\\eta}\\,a\\left(\\eta\\right)\\right)^{2}\\,\\phi\\left(\\eta,x,y,z\\right)+2 \\left(\\frac{\\mathrm{d}}{\\mathrm{d}\\eta}\\,a\\left(\\eta\\right)\\right)^{2}\\,\\psi\\left(\\eta,x,y,z\\right)+\\frac{\\mathrm{d}}{\\mathrm{d}\\eta}\\,a\\left(\\eta\\right) \\frac{\\partial }{\\partial \\eta}\\phi\\left(\\eta,x,y,z\\right) a\\left(\\eta\\right)-\\frac{\\mathrm{d}}{\\mathrm{d}\\eta}\\,a\\left(\\eta\\right) \\frac{\\partial }{\\partial \\eta}\\psi\\left(\\eta,x,y,z\\right) a\\left(\\eta\\right)+2\\,\\frac{\\mathrm{d}^{2}}{\\mathrm{d}\\eta^{2}}\\,a\\left(\\eta\\right) a\\left(\\eta\\right) \\phi\\left(\\eta,x,y,z\\right)-2\\,\\frac{\\mathrm{d}^{2}}{\\mathrm{d}\\eta^{2}}\\,a\\left(\\eta\\right) a\\left(\\eta\\right) \\psi\\left(\\eta,x,y,z\\right)+\\frac{\\partial^2 }{\\partial \\eta^2}\\phi\\left(\\eta,x,y,z\\right) a\\left(\\eta\\right)^{2}-\\frac{\\partial^2 }{\\partial z^2}\\psi\\left(\\eta,x,y,z\\right) a\\left(\\eta\\right)^{2}\\right) \\delta}{a\\left(\\eta\\right)^{2}}-\\mathrm{O}\\left(\\delta^{2}\\right)$"
      ],
      "text/plain": [
       "<IPython.core.display.Math object>"
      ]
     },
     "metadata": {},
     "output_type": "display_data"
    },
    {
     "data": {
      "text/latex": [
       "$\\displaystyle {R}{}^{0\n",
       "}{}_{3\n",
       "}{}_{3\n",
       "}{}_{1\n",
       "} = -\\frac{\\left(-\\frac{\\mathrm{d}}{\\mathrm{d}\\eta}\\,a\\left(\\eta\\right) \\frac{\\partial }{\\partial x}\\psi\\left(\\eta,x,y,z\\right)+\\frac{\\partial }{\\partial \\eta}\\frac{\\partial }{\\partial x}\\phi\\left(\\eta,x,y,z\\right) a\\left(\\eta\\right)\\right) \\delta}{a\\left(\\eta\\right)}-\\mathrm{O}\\left(\\delta^{2}\\right)$"
      ],
      "text/plain": [
       "<IPython.core.display.Math object>"
      ]
     },
     "metadata": {},
     "output_type": "display_data"
    },
    {
     "data": {
      "text/latex": [
       "$\\displaystyle {R}{}^{0\n",
       "}{}_{3\n",
       "}{}_{3\n",
       "}{}_{2\n",
       "} = -\\frac{\\left(-\\frac{\\mathrm{d}}{\\mathrm{d}\\eta}\\,a\\left(\\eta\\right) \\frac{\\partial }{\\partial y}\\psi\\left(\\eta,x,y,z\\right)+\\frac{\\partial }{\\partial \\eta}\\frac{\\partial }{\\partial y}\\phi\\left(\\eta,x,y,z\\right) a\\left(\\eta\\right)\\right) \\delta}{a\\left(\\eta\\right)}-\\mathrm{O}\\left(\\delta^{2}\\right)$"
      ],
      "text/plain": [
       "<IPython.core.display.Math object>"
      ]
     },
     "metadata": {},
     "output_type": "display_data"
    },
    {
     "data": {
      "text/latex": [
       "$\\displaystyle {R}{}^{1\n",
       "}{}_{0\n",
       "}{}_{0\n",
       "}{}_{1\n",
       "} = \\frac{-\\left(\\frac{\\mathrm{d}}{\\mathrm{d}\\eta}\\,a\\left(\\eta\\right)\\right)^{2}+\\frac{\\mathrm{d}^{2}}{\\mathrm{d}\\eta^{2}}\\,a\\left(\\eta\\right) a\\left(\\eta\\right)}{a\\left(\\eta\\right)^{2}}+\\frac{\\left(\\frac{\\mathrm{d}}{\\mathrm{d}\\eta}\\,a\\left(\\eta\\right) \\frac{\\partial }{\\partial \\eta}\\phi\\left(\\eta,x,y,z\\right)-\\frac{\\mathrm{d}}{\\mathrm{d}\\eta}\\,a\\left(\\eta\\right) \\frac{\\partial }{\\partial \\eta}\\psi\\left(\\eta,x,y,z\\right)+\\frac{\\partial^2 }{\\partial \\eta^2}\\phi\\left(\\eta,x,y,z\\right) a\\left(\\eta\\right)-\\frac{\\partial^2 }{\\partial x^2}\\psi\\left(\\eta,x,y,z\\right) a\\left(\\eta\\right)\\right) \\delta}{a\\left(\\eta\\right)}+\\mathrm{O}\\left(\\delta^{2}\\right)$"
      ],
      "text/plain": [
       "<IPython.core.display.Math object>"
      ]
     },
     "metadata": {},
     "output_type": "display_data"
    },
    {
     "data": {
      "text/latex": [
       "$\\displaystyle {R}{}^{1\n",
       "}{}_{0\n",
       "}{}_{0\n",
       "}{}_{2\n",
       "} = -\\frac{\\partial }{\\partial x}\\frac{\\partial }{\\partial y}\\psi\\left(\\eta,x,y,z\\right) \\delta+\\mathrm{O}\\left(\\delta^{2}\\right)$"
      ],
      "text/plain": [
       "<IPython.core.display.Math object>"
      ]
     },
     "metadata": {},
     "output_type": "display_data"
    },
    {
     "data": {
      "text/latex": [
       "$\\displaystyle {R}{}^{1\n",
       "}{}_{0\n",
       "}{}_{0\n",
       "}{}_{3\n",
       "} = -\\frac{\\partial }{\\partial x}\\frac{\\partial }{\\partial z}\\psi\\left(\\eta,x,y,z\\right) \\delta+\\mathrm{O}\\left(\\delta^{2}\\right)$"
      ],
      "text/plain": [
       "<IPython.core.display.Math object>"
      ]
     },
     "metadata": {},
     "output_type": "display_data"
    },
    {
     "data": {
      "text/latex": [
       "$\\displaystyle {R}{}^{1\n",
       "}{}_{0\n",
       "}{}_{1\n",
       "}{}_{0\n",
       "} = -\\frac{-\\left(\\frac{\\mathrm{d}}{\\mathrm{d}\\eta}\\,a\\left(\\eta\\right)\\right)^{2}+\\frac{\\mathrm{d}^{2}}{\\mathrm{d}\\eta^{2}}\\,a\\left(\\eta\\right) a\\left(\\eta\\right)}{a\\left(\\eta\\right)^{2}}-\\frac{\\left(\\frac{\\mathrm{d}}{\\mathrm{d}\\eta}\\,a\\left(\\eta\\right) \\frac{\\partial }{\\partial \\eta}\\phi\\left(\\eta,x,y,z\\right)-\\frac{\\mathrm{d}}{\\mathrm{d}\\eta}\\,a\\left(\\eta\\right) \\frac{\\partial }{\\partial \\eta}\\psi\\left(\\eta,x,y,z\\right)+\\frac{\\partial^2 }{\\partial \\eta^2}\\phi\\left(\\eta,x,y,z\\right) a\\left(\\eta\\right)-\\frac{\\partial^2 }{\\partial x^2}\\psi\\left(\\eta,x,y,z\\right) a\\left(\\eta\\right)\\right) \\delta}{a\\left(\\eta\\right)}-\\mathrm{O}\\left(\\delta^{2}\\right)$"
      ],
      "text/plain": [
       "<IPython.core.display.Math object>"
      ]
     },
     "metadata": {},
     "output_type": "display_data"
    },
    {
     "data": {
      "text/latex": [
       "$\\displaystyle {R}{}^{1\n",
       "}{}_{0\n",
       "}{}_{1\n",
       "}{}_{2\n",
       "} = \\frac{\\left(\\frac{\\mathrm{d}}{\\mathrm{d}\\eta}\\,a\\left(\\eta\\right) \\frac{\\partial }{\\partial y}\\psi\\left(\\eta,x,y,z\\right)-\\frac{\\partial }{\\partial \\eta}\\frac{\\partial }{\\partial y}\\phi\\left(\\eta,x,y,z\\right) a\\left(\\eta\\right)\\right) \\delta}{a\\left(\\eta\\right)}+\\mathrm{O}\\left(\\delta^{2}\\right)$"
      ],
      "text/plain": [
       "<IPython.core.display.Math object>"
      ]
     },
     "metadata": {},
     "output_type": "display_data"
    },
    {
     "data": {
      "text/latex": [
       "$\\displaystyle {R}{}^{1\n",
       "}{}_{0\n",
       "}{}_{1\n",
       "}{}_{3\n",
       "} = \\frac{\\left(\\frac{\\mathrm{d}}{\\mathrm{d}\\eta}\\,a\\left(\\eta\\right) \\frac{\\partial }{\\partial z}\\psi\\left(\\eta,x,y,z\\right)-\\frac{\\partial }{\\partial \\eta}\\frac{\\partial }{\\partial z}\\phi\\left(\\eta,x,y,z\\right) a\\left(\\eta\\right)\\right) \\delta}{a\\left(\\eta\\right)}+\\mathrm{O}\\left(\\delta^{2}\\right)$"
      ],
      "text/plain": [
       "<IPython.core.display.Math object>"
      ]
     },
     "metadata": {},
     "output_type": "display_data"
    },
    {
     "data": {
      "text/latex": [
       "$\\displaystyle {R}{}^{1\n",
       "}{}_{0\n",
       "}{}_{2\n",
       "}{}_{0\n",
       "} = \\frac{\\partial }{\\partial x}\\frac{\\partial }{\\partial y}\\psi\\left(\\eta,x,y,z\\right) \\delta-\\mathrm{O}\\left(\\delta^{2}\\right)$"
      ],
      "text/plain": [
       "<IPython.core.display.Math object>"
      ]
     },
     "metadata": {},
     "output_type": "display_data"
    },
    {
     "data": {
      "text/latex": [
       "$\\displaystyle {R}{}^{1\n",
       "}{}_{0\n",
       "}{}_{2\n",
       "}{}_{1\n",
       "} = -\\frac{\\left(\\frac{\\mathrm{d}}{\\mathrm{d}\\eta}\\,a\\left(\\eta\\right) \\frac{\\partial }{\\partial y}\\psi\\left(\\eta,x,y,z\\right)-\\frac{\\partial }{\\partial \\eta}\\frac{\\partial }{\\partial y}\\phi\\left(\\eta,x,y,z\\right) a\\left(\\eta\\right)\\right) \\delta}{a\\left(\\eta\\right)}-\\mathrm{O}\\left(\\delta^{2}\\right)$"
      ],
      "text/plain": [
       "<IPython.core.display.Math object>"
      ]
     },
     "metadata": {},
     "output_type": "display_data"
    },
    {
     "data": {
      "text/latex": [
       "$\\displaystyle {R}{}^{1\n",
       "}{}_{0\n",
       "}{}_{3\n",
       "}{}_{0\n",
       "} = \\frac{\\partial }{\\partial x}\\frac{\\partial }{\\partial z}\\psi\\left(\\eta,x,y,z\\right) \\delta-\\mathrm{O}\\left(\\delta^{2}\\right)$"
      ],
      "text/plain": [
       "<IPython.core.display.Math object>"
      ]
     },
     "metadata": {},
     "output_type": "display_data"
    },
    {
     "data": {
      "text/latex": [
       "$\\displaystyle {R}{}^{1\n",
       "}{}_{0\n",
       "}{}_{3\n",
       "}{}_{1\n",
       "} = -\\frac{\\left(\\frac{\\mathrm{d}}{\\mathrm{d}\\eta}\\,a\\left(\\eta\\right) \\frac{\\partial }{\\partial z}\\psi\\left(\\eta,x,y,z\\right)-\\frac{\\partial }{\\partial \\eta}\\frac{\\partial }{\\partial z}\\phi\\left(\\eta,x,y,z\\right) a\\left(\\eta\\right)\\right) \\delta}{a\\left(\\eta\\right)}-\\mathrm{O}\\left(\\delta^{2}\\right)$"
      ],
      "text/plain": [
       "<IPython.core.display.Math object>"
      ]
     },
     "metadata": {},
     "output_type": "display_data"
    },
    {
     "data": {
      "text/latex": [
       "$\\displaystyle {R}{}^{1\n",
       "}{}_{1\n",
       "}{}_{0\n",
       "}{}_{1\n",
       "} = \\left(-\\frac{\\partial }{\\partial \\eta}\\frac{\\partial }{\\partial x}\\phi\\left(\\eta,x,y,z\\right)+\\frac{\\partial }{\\partial x}\\frac{\\partial }{\\partial \\eta}\\phi\\left(\\eta,x,y,z\\right)\\right) \\delta+\\mathrm{O}\\left(\\delta^{2}\\right)$"
      ],
      "text/plain": [
       "<IPython.core.display.Math object>"
      ]
     },
     "metadata": {},
     "output_type": "display_data"
    },
    {
     "data": {
      "text/latex": [
       "$\\displaystyle {R}{}^{1\n",
       "}{}_{1\n",
       "}{}_{0\n",
       "}{}_{2\n",
       "} = \\left(-\\frac{\\partial }{\\partial \\eta}\\frac{\\partial }{\\partial y}\\phi\\left(\\eta,x,y,z\\right)+\\frac{\\partial }{\\partial y}\\frac{\\partial }{\\partial \\eta}\\phi\\left(\\eta,x,y,z\\right)\\right) \\delta+\\mathrm{O}\\left(\\delta^{2}\\right)$"
      ],
      "text/plain": [
       "<IPython.core.display.Math object>"
      ]
     },
     "metadata": {},
     "output_type": "display_data"
    },
    {
     "data": {
      "text/latex": [
       "$\\displaystyle {R}{}^{1\n",
       "}{}_{1\n",
       "}{}_{0\n",
       "}{}_{3\n",
       "} = \\left(-\\frac{\\partial }{\\partial \\eta}\\frac{\\partial }{\\partial z}\\phi\\left(\\eta,x,y,z\\right)+\\frac{\\partial }{\\partial z}\\frac{\\partial }{\\partial \\eta}\\phi\\left(\\eta,x,y,z\\right)\\right) \\delta+\\mathrm{O}\\left(\\delta^{2}\\right)$"
      ],
      "text/plain": [
       "<IPython.core.display.Math object>"
      ]
     },
     "metadata": {},
     "output_type": "display_data"
    },
    {
     "data": {
      "text/latex": [
       "$\\displaystyle {R}{}^{1\n",
       "}{}_{1\n",
       "}{}_{1\n",
       "}{}_{0\n",
       "} = -\\left(-\\frac{\\partial }{\\partial \\eta}\\frac{\\partial }{\\partial x}\\phi\\left(\\eta,x,y,z\\right)+\\frac{\\partial }{\\partial x}\\frac{\\partial }{\\partial \\eta}\\phi\\left(\\eta,x,y,z\\right)\\right) \\delta-\\mathrm{O}\\left(\\delta^{2}\\right)$"
      ],
      "text/plain": [
       "<IPython.core.display.Math object>"
      ]
     },
     "metadata": {},
     "output_type": "display_data"
    },
    {
     "data": {
      "text/latex": [
       "$\\displaystyle {R}{}^{1\n",
       "}{}_{1\n",
       "}{}_{1\n",
       "}{}_{2\n",
       "} = \\left(-\\frac{\\partial }{\\partial x}\\frac{\\partial }{\\partial y}\\phi\\left(\\eta,x,y,z\\right)+\\frac{\\partial }{\\partial y}\\frac{\\partial }{\\partial x}\\phi\\left(\\eta,x,y,z\\right)\\right) \\delta+\\mathrm{O}\\left(\\delta^{3}\\right)$"
      ],
      "text/plain": [
       "<IPython.core.display.Math object>"
      ]
     },
     "metadata": {},
     "output_type": "display_data"
    },
    {
     "data": {
      "text/latex": [
       "$\\displaystyle {R}{}^{1\n",
       "}{}_{1\n",
       "}{}_{1\n",
       "}{}_{3\n",
       "} = \\left(-\\frac{\\partial }{\\partial x}\\frac{\\partial }{\\partial z}\\phi\\left(\\eta,x,y,z\\right)+\\frac{\\partial }{\\partial z}\\frac{\\partial }{\\partial x}\\phi\\left(\\eta,x,y,z\\right)\\right) \\delta+\\mathrm{O}\\left(\\delta^{3}\\right)$"
      ],
      "text/plain": [
       "<IPython.core.display.Math object>"
      ]
     },
     "metadata": {},
     "output_type": "display_data"
    },
    {
     "data": {
      "text/latex": [
       "$\\displaystyle {R}{}^{1\n",
       "}{}_{1\n",
       "}{}_{2\n",
       "}{}_{0\n",
       "} = -\\left(-\\frac{\\partial }{\\partial \\eta}\\frac{\\partial }{\\partial y}\\phi\\left(\\eta,x,y,z\\right)+\\frac{\\partial }{\\partial y}\\frac{\\partial }{\\partial \\eta}\\phi\\left(\\eta,x,y,z\\right)\\right) \\delta-\\mathrm{O}\\left(\\delta^{2}\\right)$"
      ],
      "text/plain": [
       "<IPython.core.display.Math object>"
      ]
     },
     "metadata": {},
     "output_type": "display_data"
    },
    {
     "data": {
      "text/latex": [
       "$\\displaystyle {R}{}^{1\n",
       "}{}_{1\n",
       "}{}_{2\n",
       "}{}_{1\n",
       "} = -\\left(-\\frac{\\partial }{\\partial x}\\frac{\\partial }{\\partial y}\\phi\\left(\\eta,x,y,z\\right)+\\frac{\\partial }{\\partial y}\\frac{\\partial }{\\partial x}\\phi\\left(\\eta,x,y,z\\right)\\right) \\delta-\\mathrm{O}\\left(\\delta^{3}\\right)$"
      ],
      "text/plain": [
       "<IPython.core.display.Math object>"
      ]
     },
     "metadata": {},
     "output_type": "display_data"
    },
    {
     "data": {
      "text/latex": [
       "$\\displaystyle {R}{}^{1\n",
       "}{}_{1\n",
       "}{}_{2\n",
       "}{}_{3\n",
       "} = \\left(-\\frac{\\partial }{\\partial y}\\frac{\\partial }{\\partial z}\\phi\\left(\\eta,x,y,z\\right)+\\frac{\\partial }{\\partial z}\\frac{\\partial }{\\partial y}\\phi\\left(\\eta,x,y,z\\right)\\right) \\delta+\\mathrm{O}\\left(\\delta^{3}\\right)$"
      ],
      "text/plain": [
       "<IPython.core.display.Math object>"
      ]
     },
     "metadata": {},
     "output_type": "display_data"
    },
    {
     "data": {
      "text/latex": [
       "$\\displaystyle {R}{}^{1\n",
       "}{}_{1\n",
       "}{}_{3\n",
       "}{}_{0\n",
       "} = -\\left(-\\frac{\\partial }{\\partial \\eta}\\frac{\\partial }{\\partial z}\\phi\\left(\\eta,x,y,z\\right)+\\frac{\\partial }{\\partial z}\\frac{\\partial }{\\partial \\eta}\\phi\\left(\\eta,x,y,z\\right)\\right) \\delta-\\mathrm{O}\\left(\\delta^{2}\\right)$"
      ],
      "text/plain": [
       "<IPython.core.display.Math object>"
      ]
     },
     "metadata": {},
     "output_type": "display_data"
    },
    {
     "data": {
      "text/latex": [
       "$\\displaystyle {R}{}^{1\n",
       "}{}_{1\n",
       "}{}_{3\n",
       "}{}_{1\n",
       "} = -\\left(-\\frac{\\partial }{\\partial x}\\frac{\\partial }{\\partial z}\\phi\\left(\\eta,x,y,z\\right)+\\frac{\\partial }{\\partial z}\\frac{\\partial }{\\partial x}\\phi\\left(\\eta,x,y,z\\right)\\right) \\delta-\\mathrm{O}\\left(\\delta^{3}\\right)$"
      ],
      "text/plain": [
       "<IPython.core.display.Math object>"
      ]
     },
     "metadata": {},
     "output_type": "display_data"
    },
    {
     "data": {
      "text/latex": [
       "$\\displaystyle {R}{}^{1\n",
       "}{}_{1\n",
       "}{}_{3\n",
       "}{}_{2\n",
       "} = -\\left(-\\frac{\\partial }{\\partial y}\\frac{\\partial }{\\partial z}\\phi\\left(\\eta,x,y,z\\right)+\\frac{\\partial }{\\partial z}\\frac{\\partial }{\\partial y}\\phi\\left(\\eta,x,y,z\\right)\\right) \\delta-\\mathrm{O}\\left(\\delta^{3}\\right)$"
      ],
      "text/plain": [
       "<IPython.core.display.Math object>"
      ]
     },
     "metadata": {},
     "output_type": "display_data"
    },
    {
     "data": {
      "text/latex": [
       "$\\displaystyle {R}{}^{1\n",
       "}{}_{2\n",
       "}{}_{0\n",
       "}{}_{1\n",
       "} = \\frac{\\left(-\\frac{\\mathrm{d}}{\\mathrm{d}\\eta}\\,a\\left(\\eta\\right) \\frac{\\partial }{\\partial y}\\psi\\left(\\eta,x,y,z\\right)+\\frac{\\partial }{\\partial y}\\frac{\\partial }{\\partial \\eta}\\phi\\left(\\eta,x,y,z\\right) a\\left(\\eta\\right)\\right) \\delta}{a\\left(\\eta\\right)}+\\mathrm{O}\\left(\\delta^{2}\\right)$"
      ],
      "text/plain": [
       "<IPython.core.display.Math object>"
      ]
     },
     "metadata": {},
     "output_type": "display_data"
    },
    {
     "data": {
      "text/latex": [
       "$\\displaystyle {R}{}^{1\n",
       "}{}_{2\n",
       "}{}_{0\n",
       "}{}_{2\n",
       "} = \\frac{\\left(\\frac{\\mathrm{d}}{\\mathrm{d}\\eta}\\,a\\left(\\eta\\right) \\frac{\\partial }{\\partial x}\\psi\\left(\\eta,x,y,z\\right)-\\frac{\\partial }{\\partial x}\\frac{\\partial }{\\partial \\eta}\\phi\\left(\\eta,x,y,z\\right) a\\left(\\eta\\right)\\right) \\delta}{a\\left(\\eta\\right)}+\\mathrm{O}\\left(\\delta^{2}\\right)$"
      ],
      "text/plain": [
       "<IPython.core.display.Math object>"
      ]
     },
     "metadata": {},
     "output_type": "display_data"
    },
    {
     "data": {
      "text/latex": [
       "$\\displaystyle {R}{}^{1\n",
       "}{}_{2\n",
       "}{}_{1\n",
       "}{}_{0\n",
       "} = -\\frac{\\left(-\\frac{\\mathrm{d}}{\\mathrm{d}\\eta}\\,a\\left(\\eta\\right) \\frac{\\partial }{\\partial y}\\psi\\left(\\eta,x,y,z\\right)+\\frac{\\partial }{\\partial y}\\frac{\\partial }{\\partial \\eta}\\phi\\left(\\eta,x,y,z\\right) a\\left(\\eta\\right)\\right) \\delta}{a\\left(\\eta\\right)}-\\mathrm{O}\\left(\\delta^{2}\\right)$"
      ],
      "text/plain": [
       "<IPython.core.display.Math object>"
      ]
     },
     "metadata": {},
     "output_type": "display_data"
    },
    {
     "data": {
      "text/latex": [
       "$\\displaystyle {R}{}^{1\n",
       "}{}_{2\n",
       "}{}_{1\n",
       "}{}_{2\n",
       "} = \\frac{\\left(\\frac{\\mathrm{d}}{\\mathrm{d}\\eta}\\,a\\left(\\eta\\right)\\right)^{2}}{a\\left(\\eta\\right)^{2}}+\\frac{\\left(2 \\left(\\frac{\\mathrm{d}}{\\mathrm{d}\\eta}\\,a\\left(\\eta\\right)\\right)^{2}\\,\\phi\\left(\\eta,x,y,z\\right)-2 \\left(\\frac{\\mathrm{d}}{\\mathrm{d}\\eta}\\,a\\left(\\eta\\right)\\right)^{2}\\,\\psi\\left(\\eta,x,y,z\\right)+2\\,\\frac{\\mathrm{d}}{\\mathrm{d}\\eta}\\,a\\left(\\eta\\right) \\frac{\\partial }{\\partial \\eta}\\phi\\left(\\eta,x,y,z\\right) a\\left(\\eta\\right)-\\frac{\\partial^2 }{\\partial x^2}\\phi\\left(\\eta,x,y,z\\right) a\\left(\\eta\\right)^{2}-\\frac{\\partial^2 }{\\partial y^2}\\phi\\left(\\eta,x,y,z\\right) a\\left(\\eta\\right)^{2}\\right) \\delta}{a\\left(\\eta\\right)^{2}}+\\mathrm{O}\\left(\\delta^{2}\\right)$"
      ],
      "text/plain": [
       "<IPython.core.display.Math object>"
      ]
     },
     "metadata": {},
     "output_type": "display_data"
    },
    {
     "data": {
      "text/latex": [
       "$\\displaystyle {R}{}^{1\n",
       "}{}_{2\n",
       "}{}_{1\n",
       "}{}_{3\n",
       "} = -\\frac{\\partial }{\\partial y}\\frac{\\partial }{\\partial z}\\phi\\left(\\eta,x,y,z\\right) \\delta+\\mathrm{O}\\left(\\delta^{2}\\right)$"
      ],
      "text/plain": [
       "<IPython.core.display.Math object>"
      ]
     },
     "metadata": {},
     "output_type": "display_data"
    },
    {
     "data": {
      "text/latex": [
       "$\\displaystyle {R}{}^{1\n",
       "}{}_{2\n",
       "}{}_{2\n",
       "}{}_{0\n",
       "} = -\\frac{\\left(\\frac{\\mathrm{d}}{\\mathrm{d}\\eta}\\,a\\left(\\eta\\right) \\frac{\\partial }{\\partial x}\\psi\\left(\\eta,x,y,z\\right)-\\frac{\\partial }{\\partial x}\\frac{\\partial }{\\partial \\eta}\\phi\\left(\\eta,x,y,z\\right) a\\left(\\eta\\right)\\right) \\delta}{a\\left(\\eta\\right)}-\\mathrm{O}\\left(\\delta^{2}\\right)$"
      ],
      "text/plain": [
       "<IPython.core.display.Math object>"
      ]
     },
     "metadata": {},
     "output_type": "display_data"
    },
    {
     "data": {
      "text/latex": [
       "$\\displaystyle {R}{}^{1\n",
       "}{}_{2\n",
       "}{}_{2\n",
       "}{}_{1\n",
       "} = -\\frac{\\left(\\frac{\\mathrm{d}}{\\mathrm{d}\\eta}\\,a\\left(\\eta\\right)\\right)^{2}}{a\\left(\\eta\\right)^{2}}-\\frac{\\left(2 \\left(\\frac{\\mathrm{d}}{\\mathrm{d}\\eta}\\,a\\left(\\eta\\right)\\right)^{2}\\,\\phi\\left(\\eta,x,y,z\\right)-2 \\left(\\frac{\\mathrm{d}}{\\mathrm{d}\\eta}\\,a\\left(\\eta\\right)\\right)^{2}\\,\\psi\\left(\\eta,x,y,z\\right)+2\\,\\frac{\\mathrm{d}}{\\mathrm{d}\\eta}\\,a\\left(\\eta\\right) \\frac{\\partial }{\\partial \\eta}\\phi\\left(\\eta,x,y,z\\right) a\\left(\\eta\\right)-\\frac{\\partial^2 }{\\partial x^2}\\phi\\left(\\eta,x,y,z\\right) a\\left(\\eta\\right)^{2}-\\frac{\\partial^2 }{\\partial y^2}\\phi\\left(\\eta,x,y,z\\right) a\\left(\\eta\\right)^{2}\\right) \\delta}{a\\left(\\eta\\right)^{2}}-\\mathrm{O}\\left(\\delta^{2}\\right)$"
      ],
      "text/plain": [
       "<IPython.core.display.Math object>"
      ]
     },
     "metadata": {},
     "output_type": "display_data"
    },
    {
     "data": {
      "text/latex": [
       "$\\displaystyle {R}{}^{1\n",
       "}{}_{2\n",
       "}{}_{2\n",
       "}{}_{3\n",
       "} = \\frac{\\partial }{\\partial x}\\frac{\\partial }{\\partial z}\\phi\\left(\\eta,x,y,z\\right) \\delta+\\mathrm{O}\\left(\\delta^{2}\\right)$"
      ],
      "text/plain": [
       "<IPython.core.display.Math object>"
      ]
     },
     "metadata": {},
     "output_type": "display_data"
    },
    {
     "data": {
      "text/latex": [
       "$\\displaystyle {R}{}^{1\n",
       "}{}_{2\n",
       "}{}_{3\n",
       "}{}_{1\n",
       "} = \\frac{\\partial }{\\partial y}\\frac{\\partial }{\\partial z}\\phi\\left(\\eta,x,y,z\\right) \\delta-\\mathrm{O}\\left(\\delta^{2}\\right)$"
      ],
      "text/plain": [
       "<IPython.core.display.Math object>"
      ]
     },
     "metadata": {},
     "output_type": "display_data"
    },
    {
     "data": {
      "text/latex": [
       "$\\displaystyle {R}{}^{1\n",
       "}{}_{2\n",
       "}{}_{3\n",
       "}{}_{2\n",
       "} = -\\frac{\\partial }{\\partial x}\\frac{\\partial }{\\partial z}\\phi\\left(\\eta,x,y,z\\right) \\delta-\\mathrm{O}\\left(\\delta^{2}\\right)$"
      ],
      "text/plain": [
       "<IPython.core.display.Math object>"
      ]
     },
     "metadata": {},
     "output_type": "display_data"
    },
    {
     "data": {
      "text/latex": [
       "$\\displaystyle {R}{}^{1\n",
       "}{}_{3\n",
       "}{}_{0\n",
       "}{}_{1\n",
       "} = \\frac{\\left(-\\frac{\\mathrm{d}}{\\mathrm{d}\\eta}\\,a\\left(\\eta\\right) \\frac{\\partial }{\\partial z}\\psi\\left(\\eta,x,y,z\\right)+\\frac{\\partial }{\\partial z}\\frac{\\partial }{\\partial \\eta}\\phi\\left(\\eta,x,y,z\\right) a\\left(\\eta\\right)\\right) \\delta}{a\\left(\\eta\\right)}+\\mathrm{O}\\left(\\delta^{2}\\right)$"
      ],
      "text/plain": [
       "<IPython.core.display.Math object>"
      ]
     },
     "metadata": {},
     "output_type": "display_data"
    },
    {
     "data": {
      "text/latex": [
       "$\\displaystyle {R}{}^{1\n",
       "}{}_{3\n",
       "}{}_{0\n",
       "}{}_{3\n",
       "} = \\frac{\\left(\\frac{\\mathrm{d}}{\\mathrm{d}\\eta}\\,a\\left(\\eta\\right) \\frac{\\partial }{\\partial x}\\psi\\left(\\eta,x,y,z\\right)-\\frac{\\partial }{\\partial x}\\frac{\\partial }{\\partial \\eta}\\phi\\left(\\eta,x,y,z\\right) a\\left(\\eta\\right)\\right) \\delta}{a\\left(\\eta\\right)}+\\mathrm{O}\\left(\\delta^{2}\\right)$"
      ],
      "text/plain": [
       "<IPython.core.display.Math object>"
      ]
     },
     "metadata": {},
     "output_type": "display_data"
    },
    {
     "data": {
      "text/latex": [
       "$\\displaystyle {R}{}^{1\n",
       "}{}_{3\n",
       "}{}_{1\n",
       "}{}_{0\n",
       "} = -\\frac{\\left(-\\frac{\\mathrm{d}}{\\mathrm{d}\\eta}\\,a\\left(\\eta\\right) \\frac{\\partial }{\\partial z}\\psi\\left(\\eta,x,y,z\\right)+\\frac{\\partial }{\\partial z}\\frac{\\partial }{\\partial \\eta}\\phi\\left(\\eta,x,y,z\\right) a\\left(\\eta\\right)\\right) \\delta}{a\\left(\\eta\\right)}-\\mathrm{O}\\left(\\delta^{2}\\right)$"
      ],
      "text/plain": [
       "<IPython.core.display.Math object>"
      ]
     },
     "metadata": {},
     "output_type": "display_data"
    },
    {
     "data": {
      "text/latex": [
       "$\\displaystyle {R}{}^{1\n",
       "}{}_{3\n",
       "}{}_{1\n",
       "}{}_{2\n",
       "} = -\\frac{\\partial }{\\partial z}\\frac{\\partial }{\\partial y}\\phi\\left(\\eta,x,y,z\\right) \\delta+\\mathrm{O}\\left(\\delta^{2}\\right)$"
      ],
      "text/plain": [
       "<IPython.core.display.Math object>"
      ]
     },
     "metadata": {},
     "output_type": "display_data"
    },
    {
     "data": {
      "text/latex": [
       "$\\displaystyle {R}{}^{1\n",
       "}{}_{3\n",
       "}{}_{1\n",
       "}{}_{3\n",
       "} = \\frac{\\left(\\frac{\\mathrm{d}}{\\mathrm{d}\\eta}\\,a\\left(\\eta\\right)\\right)^{2}}{a\\left(\\eta\\right)^{2}}+\\frac{\\left(2 \\left(\\frac{\\mathrm{d}}{\\mathrm{d}\\eta}\\,a\\left(\\eta\\right)\\right)^{2}\\,\\phi\\left(\\eta,x,y,z\\right)-2 \\left(\\frac{\\mathrm{d}}{\\mathrm{d}\\eta}\\,a\\left(\\eta\\right)\\right)^{2}\\,\\psi\\left(\\eta,x,y,z\\right)+2\\,\\frac{\\mathrm{d}}{\\mathrm{d}\\eta}\\,a\\left(\\eta\\right) \\frac{\\partial }{\\partial \\eta}\\phi\\left(\\eta,x,y,z\\right) a\\left(\\eta\\right)-\\frac{\\partial^2 }{\\partial x^2}\\phi\\left(\\eta,x,y,z\\right) a\\left(\\eta\\right)^{2}-\\frac{\\partial^2 }{\\partial z^2}\\phi\\left(\\eta,x,y,z\\right) a\\left(\\eta\\right)^{2}\\right) \\delta}{a\\left(\\eta\\right)^{2}}+\\mathrm{O}\\left(\\delta^{2}\\right)$"
      ],
      "text/plain": [
       "<IPython.core.display.Math object>"
      ]
     },
     "metadata": {},
     "output_type": "display_data"
    },
    {
     "data": {
      "text/latex": [
       "$\\displaystyle {R}{}^{1\n",
       "}{}_{3\n",
       "}{}_{2\n",
       "}{}_{1\n",
       "} = \\frac{\\partial }{\\partial z}\\frac{\\partial }{\\partial y}\\phi\\left(\\eta,x,y,z\\right) \\delta-\\mathrm{O}\\left(\\delta^{2}\\right)$"
      ],
      "text/plain": [
       "<IPython.core.display.Math object>"
      ]
     },
     "metadata": {},
     "output_type": "display_data"
    },
    {
     "data": {
      "text/latex": [
       "$\\displaystyle {R}{}^{1\n",
       "}{}_{3\n",
       "}{}_{2\n",
       "}{}_{3\n",
       "} = -\\frac{\\partial }{\\partial x}\\frac{\\partial }{\\partial y}\\phi\\left(\\eta,x,y,z\\right) \\delta+\\mathrm{O}\\left(\\delta^{2}\\right)$"
      ],
      "text/plain": [
       "<IPython.core.display.Math object>"
      ]
     },
     "metadata": {},
     "output_type": "display_data"
    },
    {
     "data": {
      "text/latex": [
       "$\\displaystyle {R}{}^{1\n",
       "}{}_{3\n",
       "}{}_{3\n",
       "}{}_{0\n",
       "} = -\\frac{\\left(\\frac{\\mathrm{d}}{\\mathrm{d}\\eta}\\,a\\left(\\eta\\right) \\frac{\\partial }{\\partial x}\\psi\\left(\\eta,x,y,z\\right)-\\frac{\\partial }{\\partial x}\\frac{\\partial }{\\partial \\eta}\\phi\\left(\\eta,x,y,z\\right) a\\left(\\eta\\right)\\right) \\delta}{a\\left(\\eta\\right)}-\\mathrm{O}\\left(\\delta^{2}\\right)$"
      ],
      "text/plain": [
       "<IPython.core.display.Math object>"
      ]
     },
     "metadata": {},
     "output_type": "display_data"
    },
    {
     "data": {
      "text/latex": [
       "$\\displaystyle {R}{}^{1\n",
       "}{}_{3\n",
       "}{}_{3\n",
       "}{}_{1\n",
       "} = -\\frac{\\left(\\frac{\\mathrm{d}}{\\mathrm{d}\\eta}\\,a\\left(\\eta\\right)\\right)^{2}}{a\\left(\\eta\\right)^{2}}-\\frac{\\left(2 \\left(\\frac{\\mathrm{d}}{\\mathrm{d}\\eta}\\,a\\left(\\eta\\right)\\right)^{2}\\,\\phi\\left(\\eta,x,y,z\\right)-2 \\left(\\frac{\\mathrm{d}}{\\mathrm{d}\\eta}\\,a\\left(\\eta\\right)\\right)^{2}\\,\\psi\\left(\\eta,x,y,z\\right)+2\\,\\frac{\\mathrm{d}}{\\mathrm{d}\\eta}\\,a\\left(\\eta\\right) \\frac{\\partial }{\\partial \\eta}\\phi\\left(\\eta,x,y,z\\right) a\\left(\\eta\\right)-\\frac{\\partial^2 }{\\partial x^2}\\phi\\left(\\eta,x,y,z\\right) a\\left(\\eta\\right)^{2}-\\frac{\\partial^2 }{\\partial z^2}\\phi\\left(\\eta,x,y,z\\right) a\\left(\\eta\\right)^{2}\\right) \\delta}{a\\left(\\eta\\right)^{2}}-\\mathrm{O}\\left(\\delta^{2}\\right)$"
      ],
      "text/plain": [
       "<IPython.core.display.Math object>"
      ]
     },
     "metadata": {},
     "output_type": "display_data"
    },
    {
     "data": {
      "text/latex": [
       "$\\displaystyle {R}{}^{1\n",
       "}{}_{3\n",
       "}{}_{3\n",
       "}{}_{2\n",
       "} = \\frac{\\partial }{\\partial x}\\frac{\\partial }{\\partial y}\\phi\\left(\\eta,x,y,z\\right) \\delta-\\mathrm{O}\\left(\\delta^{2}\\right)$"
      ],
      "text/plain": [
       "<IPython.core.display.Math object>"
      ]
     },
     "metadata": {},
     "output_type": "display_data"
    },
    {
     "data": {
      "text/latex": [
       "$\\displaystyle {R}{}^{2\n",
       "}{}_{0\n",
       "}{}_{0\n",
       "}{}_{1\n",
       "} = -\\frac{\\partial }{\\partial y}\\frac{\\partial }{\\partial x}\\psi\\left(\\eta,x,y,z\\right) \\delta+\\mathrm{O}\\left(\\delta^{2}\\right)$"
      ],
      "text/plain": [
       "<IPython.core.display.Math object>"
      ]
     },
     "metadata": {},
     "output_type": "display_data"
    },
    {
     "data": {
      "text/latex": [
       "$\\displaystyle {R}{}^{2\n",
       "}{}_{0\n",
       "}{}_{0\n",
       "}{}_{2\n",
       "} = \\frac{-\\left(\\frac{\\mathrm{d}}{\\mathrm{d}\\eta}\\,a\\left(\\eta\\right)\\right)^{2}+\\frac{\\mathrm{d}^{2}}{\\mathrm{d}\\eta^{2}}\\,a\\left(\\eta\\right) a\\left(\\eta\\right)}{a\\left(\\eta\\right)^{2}}+\\frac{\\left(\\frac{\\mathrm{d}}{\\mathrm{d}\\eta}\\,a\\left(\\eta\\right) \\frac{\\partial }{\\partial \\eta}\\phi\\left(\\eta,x,y,z\\right)-\\frac{\\mathrm{d}}{\\mathrm{d}\\eta}\\,a\\left(\\eta\\right) \\frac{\\partial }{\\partial \\eta}\\psi\\left(\\eta,x,y,z\\right)+\\frac{\\partial^2 }{\\partial \\eta^2}\\phi\\left(\\eta,x,y,z\\right) a\\left(\\eta\\right)-\\frac{\\partial^2 }{\\partial y^2}\\psi\\left(\\eta,x,y,z\\right) a\\left(\\eta\\right)\\right) \\delta}{a\\left(\\eta\\right)}+\\mathrm{O}\\left(\\delta^{2}\\right)$"
      ],
      "text/plain": [
       "<IPython.core.display.Math object>"
      ]
     },
     "metadata": {},
     "output_type": "display_data"
    },
    {
     "data": {
      "text/latex": [
       "$\\displaystyle {R}{}^{2\n",
       "}{}_{0\n",
       "}{}_{0\n",
       "}{}_{3\n",
       "} = -\\frac{\\partial }{\\partial y}\\frac{\\partial }{\\partial z}\\psi\\left(\\eta,x,y,z\\right) \\delta+\\mathrm{O}\\left(\\delta^{2}\\right)$"
      ],
      "text/plain": [
       "<IPython.core.display.Math object>"
      ]
     },
     "metadata": {},
     "output_type": "display_data"
    },
    {
     "data": {
      "text/latex": [
       "$\\displaystyle {R}{}^{2\n",
       "}{}_{0\n",
       "}{}_{1\n",
       "}{}_{0\n",
       "} = \\frac{\\partial }{\\partial y}\\frac{\\partial }{\\partial x}\\psi\\left(\\eta,x,y,z\\right) \\delta-\\mathrm{O}\\left(\\delta^{2}\\right)$"
      ],
      "text/plain": [
       "<IPython.core.display.Math object>"
      ]
     },
     "metadata": {},
     "output_type": "display_data"
    },
    {
     "data": {
      "text/latex": [
       "$\\displaystyle {R}{}^{2\n",
       "}{}_{0\n",
       "}{}_{1\n",
       "}{}_{2\n",
       "} = \\frac{\\left(-\\frac{\\mathrm{d}}{\\mathrm{d}\\eta}\\,a\\left(\\eta\\right) \\frac{\\partial }{\\partial x}\\psi\\left(\\eta,x,y,z\\right)+\\frac{\\partial }{\\partial \\eta}\\frac{\\partial }{\\partial x}\\phi\\left(\\eta,x,y,z\\right) a\\left(\\eta\\right)\\right) \\delta}{a\\left(\\eta\\right)}+\\mathrm{O}\\left(\\delta^{2}\\right)$"
      ],
      "text/plain": [
       "<IPython.core.display.Math object>"
      ]
     },
     "metadata": {},
     "output_type": "display_data"
    },
    {
     "data": {
      "text/latex": [
       "$\\displaystyle {R}{}^{2\n",
       "}{}_{0\n",
       "}{}_{2\n",
       "}{}_{0\n",
       "} = -\\frac{-\\left(\\frac{\\mathrm{d}}{\\mathrm{d}\\eta}\\,a\\left(\\eta\\right)\\right)^{2}+\\frac{\\mathrm{d}^{2}}{\\mathrm{d}\\eta^{2}}\\,a\\left(\\eta\\right) a\\left(\\eta\\right)}{a\\left(\\eta\\right)^{2}}-\\frac{\\left(\\frac{\\mathrm{d}}{\\mathrm{d}\\eta}\\,a\\left(\\eta\\right) \\frac{\\partial }{\\partial \\eta}\\phi\\left(\\eta,x,y,z\\right)-\\frac{\\mathrm{d}}{\\mathrm{d}\\eta}\\,a\\left(\\eta\\right) \\frac{\\partial }{\\partial \\eta}\\psi\\left(\\eta,x,y,z\\right)+\\frac{\\partial^2 }{\\partial \\eta^2}\\phi\\left(\\eta,x,y,z\\right) a\\left(\\eta\\right)-\\frac{\\partial^2 }{\\partial y^2}\\psi\\left(\\eta,x,y,z\\right) a\\left(\\eta\\right)\\right) \\delta}{a\\left(\\eta\\right)}-\\mathrm{O}\\left(\\delta^{2}\\right)$"
      ],
      "text/plain": [
       "<IPython.core.display.Math object>"
      ]
     },
     "metadata": {},
     "output_type": "display_data"
    },
    {
     "data": {
      "text/latex": [
       "$\\displaystyle {R}{}^{2\n",
       "}{}_{0\n",
       "}{}_{2\n",
       "}{}_{1\n",
       "} = -\\frac{\\left(-\\frac{\\mathrm{d}}{\\mathrm{d}\\eta}\\,a\\left(\\eta\\right) \\frac{\\partial }{\\partial x}\\psi\\left(\\eta,x,y,z\\right)+\\frac{\\partial }{\\partial \\eta}\\frac{\\partial }{\\partial x}\\phi\\left(\\eta,x,y,z\\right) a\\left(\\eta\\right)\\right) \\delta}{a\\left(\\eta\\right)}-\\mathrm{O}\\left(\\delta^{2}\\right)$"
      ],
      "text/plain": [
       "<IPython.core.display.Math object>"
      ]
     },
     "metadata": {},
     "output_type": "display_data"
    },
    {
     "data": {
      "text/latex": [
       "$\\displaystyle {R}{}^{2\n",
       "}{}_{0\n",
       "}{}_{2\n",
       "}{}_{3\n",
       "} = \\frac{\\left(\\frac{\\mathrm{d}}{\\mathrm{d}\\eta}\\,a\\left(\\eta\\right) \\frac{\\partial }{\\partial z}\\psi\\left(\\eta,x,y,z\\right)-\\frac{\\partial }{\\partial \\eta}\\frac{\\partial }{\\partial z}\\phi\\left(\\eta,x,y,z\\right) a\\left(\\eta\\right)\\right) \\delta}{a\\left(\\eta\\right)}+\\mathrm{O}\\left(\\delta^{2}\\right)$"
      ],
      "text/plain": [
       "<IPython.core.display.Math object>"
      ]
     },
     "metadata": {},
     "output_type": "display_data"
    },
    {
     "data": {
      "text/latex": [
       "$\\displaystyle {R}{}^{2\n",
       "}{}_{0\n",
       "}{}_{3\n",
       "}{}_{0\n",
       "} = \\frac{\\partial }{\\partial y}\\frac{\\partial }{\\partial z}\\psi\\left(\\eta,x,y,z\\right) \\delta-\\mathrm{O}\\left(\\delta^{2}\\right)$"
      ],
      "text/plain": [
       "<IPython.core.display.Math object>"
      ]
     },
     "metadata": {},
     "output_type": "display_data"
    },
    {
     "data": {
      "text/latex": [
       "$\\displaystyle {R}{}^{2\n",
       "}{}_{0\n",
       "}{}_{3\n",
       "}{}_{2\n",
       "} = -\\frac{\\left(\\frac{\\mathrm{d}}{\\mathrm{d}\\eta}\\,a\\left(\\eta\\right) \\frac{\\partial }{\\partial z}\\psi\\left(\\eta,x,y,z\\right)-\\frac{\\partial }{\\partial \\eta}\\frac{\\partial }{\\partial z}\\phi\\left(\\eta,x,y,z\\right) a\\left(\\eta\\right)\\right) \\delta}{a\\left(\\eta\\right)}-\\mathrm{O}\\left(\\delta^{2}\\right)$"
      ],
      "text/plain": [
       "<IPython.core.display.Math object>"
      ]
     },
     "metadata": {},
     "output_type": "display_data"
    },
    {
     "data": {
      "text/latex": [
       "$\\displaystyle {R}{}^{2\n",
       "}{}_{1\n",
       "}{}_{0\n",
       "}{}_{1\n",
       "} = \\frac{\\left(\\frac{\\mathrm{d}}{\\mathrm{d}\\eta}\\,a\\left(\\eta\\right) \\frac{\\partial }{\\partial y}\\psi\\left(\\eta,x,y,z\\right)-\\frac{\\partial }{\\partial y}\\frac{\\partial }{\\partial \\eta}\\phi\\left(\\eta,x,y,z\\right) a\\left(\\eta\\right)\\right) \\delta}{a\\left(\\eta\\right)}+\\mathrm{O}\\left(\\delta^{2}\\right)$"
      ],
      "text/plain": [
       "<IPython.core.display.Math object>"
      ]
     },
     "metadata": {},
     "output_type": "display_data"
    },
    {
     "data": {
      "text/latex": [
       "$\\displaystyle {R}{}^{2\n",
       "}{}_{1\n",
       "}{}_{0\n",
       "}{}_{2\n",
       "} = \\frac{\\left(-\\frac{\\mathrm{d}}{\\mathrm{d}\\eta}\\,a\\left(\\eta\\right) \\frac{\\partial }{\\partial x}\\psi\\left(\\eta,x,y,z\\right)+\\frac{\\partial }{\\partial x}\\frac{\\partial }{\\partial \\eta}\\phi\\left(\\eta,x,y,z\\right) a\\left(\\eta\\right)\\right) \\delta}{a\\left(\\eta\\right)}+\\mathrm{O}\\left(\\delta^{2}\\right)$"
      ],
      "text/plain": [
       "<IPython.core.display.Math object>"
      ]
     },
     "metadata": {},
     "output_type": "display_data"
    },
    {
     "data": {
      "text/latex": [
       "$\\displaystyle {R}{}^{2\n",
       "}{}_{1\n",
       "}{}_{1\n",
       "}{}_{0\n",
       "} = -\\frac{\\left(\\frac{\\mathrm{d}}{\\mathrm{d}\\eta}\\,a\\left(\\eta\\right) \\frac{\\partial }{\\partial y}\\psi\\left(\\eta,x,y,z\\right)-\\frac{\\partial }{\\partial y}\\frac{\\partial }{\\partial \\eta}\\phi\\left(\\eta,x,y,z\\right) a\\left(\\eta\\right)\\right) \\delta}{a\\left(\\eta\\right)}-\\mathrm{O}\\left(\\delta^{2}\\right)$"
      ],
      "text/plain": [
       "<IPython.core.display.Math object>"
      ]
     },
     "metadata": {},
     "output_type": "display_data"
    },
    {
     "data": {
      "text/latex": [
       "$\\displaystyle {R}{}^{2\n",
       "}{}_{1\n",
       "}{}_{1\n",
       "}{}_{2\n",
       "} = -\\frac{\\left(\\frac{\\mathrm{d}}{\\mathrm{d}\\eta}\\,a\\left(\\eta\\right)\\right)^{2}}{a\\left(\\eta\\right)^{2}}+\\frac{\\left(-2 \\left(\\frac{\\mathrm{d}}{\\mathrm{d}\\eta}\\,a\\left(\\eta\\right)\\right)^{2}\\,\\phi\\left(\\eta,x,y,z\\right)+2 \\left(\\frac{\\mathrm{d}}{\\mathrm{d}\\eta}\\,a\\left(\\eta\\right)\\right)^{2}\\,\\psi\\left(\\eta,x,y,z\\right)-2\\,\\frac{\\mathrm{d}}{\\mathrm{d}\\eta}\\,a\\left(\\eta\\right) \\frac{\\partial }{\\partial \\eta}\\phi\\left(\\eta,x,y,z\\right) a\\left(\\eta\\right)+\\frac{\\partial^2 }{\\partial x^2}\\phi\\left(\\eta,x,y,z\\right) a\\left(\\eta\\right)^{2}+\\frac{\\partial^2 }{\\partial y^2}\\phi\\left(\\eta,x,y,z\\right) a\\left(\\eta\\right)^{2}\\right) \\delta}{a\\left(\\eta\\right)^{2}}+\\mathrm{O}\\left(\\delta^{2}\\right)$"
      ],
      "text/plain": [
       "<IPython.core.display.Math object>"
      ]
     },
     "metadata": {},
     "output_type": "display_data"
    },
    {
     "data": {
      "text/latex": [
       "$\\displaystyle {R}{}^{2\n",
       "}{}_{1\n",
       "}{}_{1\n",
       "}{}_{3\n",
       "} = \\frac{\\partial }{\\partial y}\\frac{\\partial }{\\partial z}\\phi\\left(\\eta,x,y,z\\right) \\delta+\\mathrm{O}\\left(\\delta^{2}\\right)$"
      ],
      "text/plain": [
       "<IPython.core.display.Math object>"
      ]
     },
     "metadata": {},
     "output_type": "display_data"
    },
    {
     "data": {
      "text/latex": [
       "$\\displaystyle {R}{}^{2\n",
       "}{}_{1\n",
       "}{}_{2\n",
       "}{}_{0\n",
       "} = -\\frac{\\left(-\\frac{\\mathrm{d}}{\\mathrm{d}\\eta}\\,a\\left(\\eta\\right) \\frac{\\partial }{\\partial x}\\psi\\left(\\eta,x,y,z\\right)+\\frac{\\partial }{\\partial x}\\frac{\\partial }{\\partial \\eta}\\phi\\left(\\eta,x,y,z\\right) a\\left(\\eta\\right)\\right) \\delta}{a\\left(\\eta\\right)}-\\mathrm{O}\\left(\\delta^{2}\\right)$"
      ],
      "text/plain": [
       "<IPython.core.display.Math object>"
      ]
     },
     "metadata": {},
     "output_type": "display_data"
    },
    {
     "data": {
      "text/latex": [
       "$\\displaystyle {R}{}^{2\n",
       "}{}_{1\n",
       "}{}_{2\n",
       "}{}_{1\n",
       "} = \\frac{\\left(\\frac{\\mathrm{d}}{\\mathrm{d}\\eta}\\,a\\left(\\eta\\right)\\right)^{2}}{a\\left(\\eta\\right)^{2}}-\\frac{\\left(-2 \\left(\\frac{\\mathrm{d}}{\\mathrm{d}\\eta}\\,a\\left(\\eta\\right)\\right)^{2}\\,\\phi\\left(\\eta,x,y,z\\right)+2 \\left(\\frac{\\mathrm{d}}{\\mathrm{d}\\eta}\\,a\\left(\\eta\\right)\\right)^{2}\\,\\psi\\left(\\eta,x,y,z\\right)-2\\,\\frac{\\mathrm{d}}{\\mathrm{d}\\eta}\\,a\\left(\\eta\\right) \\frac{\\partial }{\\partial \\eta}\\phi\\left(\\eta,x,y,z\\right) a\\left(\\eta\\right)+\\frac{\\partial^2 }{\\partial x^2}\\phi\\left(\\eta,x,y,z\\right) a\\left(\\eta\\right)^{2}+\\frac{\\partial^2 }{\\partial y^2}\\phi\\left(\\eta,x,y,z\\right) a\\left(\\eta\\right)^{2}\\right) \\delta}{a\\left(\\eta\\right)^{2}}-\\mathrm{O}\\left(\\delta^{2}\\right)$"
      ],
      "text/plain": [
       "<IPython.core.display.Math object>"
      ]
     },
     "metadata": {},
     "output_type": "display_data"
    },
    {
     "data": {
      "text/latex": [
       "$\\displaystyle {R}{}^{2\n",
       "}{}_{1\n",
       "}{}_{2\n",
       "}{}_{3\n",
       "} = -\\frac{\\partial }{\\partial x}\\frac{\\partial }{\\partial z}\\phi\\left(\\eta,x,y,z\\right) \\delta+\\mathrm{O}\\left(\\delta^{2}\\right)$"
      ],
      "text/plain": [
       "<IPython.core.display.Math object>"
      ]
     },
     "metadata": {},
     "output_type": "display_data"
    },
    {
     "data": {
      "text/latex": [
       "$\\displaystyle {R}{}^{2\n",
       "}{}_{1\n",
       "}{}_{3\n",
       "}{}_{1\n",
       "} = -\\frac{\\partial }{\\partial y}\\frac{\\partial }{\\partial z}\\phi\\left(\\eta,x,y,z\\right) \\delta-\\mathrm{O}\\left(\\delta^{2}\\right)$"
      ],
      "text/plain": [
       "<IPython.core.display.Math object>"
      ]
     },
     "metadata": {},
     "output_type": "display_data"
    },
    {
     "data": {
      "text/latex": [
       "$\\displaystyle {R}{}^{2\n",
       "}{}_{1\n",
       "}{}_{3\n",
       "}{}_{2\n",
       "} = \\frac{\\partial }{\\partial x}\\frac{\\partial }{\\partial z}\\phi\\left(\\eta,x,y,z\\right) \\delta-\\mathrm{O}\\left(\\delta^{2}\\right)$"
      ],
      "text/plain": [
       "<IPython.core.display.Math object>"
      ]
     },
     "metadata": {},
     "output_type": "display_data"
    },
    {
     "data": {
      "text/latex": [
       "$\\displaystyle {R}{}^{2\n",
       "}{}_{2\n",
       "}{}_{0\n",
       "}{}_{1\n",
       "} = \\left(-\\frac{\\partial }{\\partial \\eta}\\frac{\\partial }{\\partial x}\\phi\\left(\\eta,x,y,z\\right)+\\frac{\\partial }{\\partial x}\\frac{\\partial }{\\partial \\eta}\\phi\\left(\\eta,x,y,z\\right)\\right) \\delta+\\mathrm{O}\\left(\\delta^{2}\\right)$"
      ],
      "text/plain": [
       "<IPython.core.display.Math object>"
      ]
     },
     "metadata": {},
     "output_type": "display_data"
    },
    {
     "data": {
      "text/latex": [
       "$\\displaystyle {R}{}^{2\n",
       "}{}_{2\n",
       "}{}_{0\n",
       "}{}_{2\n",
       "} = \\left(-\\frac{\\partial }{\\partial \\eta}\\frac{\\partial }{\\partial y}\\phi\\left(\\eta,x,y,z\\right)+\\frac{\\partial }{\\partial y}\\frac{\\partial }{\\partial \\eta}\\phi\\left(\\eta,x,y,z\\right)\\right) \\delta+\\mathrm{O}\\left(\\delta^{2}\\right)$"
      ],
      "text/plain": [
       "<IPython.core.display.Math object>"
      ]
     },
     "metadata": {},
     "output_type": "display_data"
    },
    {
     "data": {
      "text/latex": [
       "$\\displaystyle {R}{}^{2\n",
       "}{}_{2\n",
       "}{}_{0\n",
       "}{}_{3\n",
       "} = \\left(-\\frac{\\partial }{\\partial \\eta}\\frac{\\partial }{\\partial z}\\phi\\left(\\eta,x,y,z\\right)+\\frac{\\partial }{\\partial z}\\frac{\\partial }{\\partial \\eta}\\phi\\left(\\eta,x,y,z\\right)\\right) \\delta+\\mathrm{O}\\left(\\delta^{2}\\right)$"
      ],
      "text/plain": [
       "<IPython.core.display.Math object>"
      ]
     },
     "metadata": {},
     "output_type": "display_data"
    },
    {
     "data": {
      "text/latex": [
       "$\\displaystyle {R}{}^{2\n",
       "}{}_{2\n",
       "}{}_{1\n",
       "}{}_{0\n",
       "} = -\\left(-\\frac{\\partial }{\\partial \\eta}\\frac{\\partial }{\\partial x}\\phi\\left(\\eta,x,y,z\\right)+\\frac{\\partial }{\\partial x}\\frac{\\partial }{\\partial \\eta}\\phi\\left(\\eta,x,y,z\\right)\\right) \\delta-\\mathrm{O}\\left(\\delta^{2}\\right)$"
      ],
      "text/plain": [
       "<IPython.core.display.Math object>"
      ]
     },
     "metadata": {},
     "output_type": "display_data"
    },
    {
     "data": {
      "text/latex": [
       "$\\displaystyle {R}{}^{2\n",
       "}{}_{2\n",
       "}{}_{1\n",
       "}{}_{2\n",
       "} = \\left(-\\frac{\\partial }{\\partial x}\\frac{\\partial }{\\partial y}\\phi\\left(\\eta,x,y,z\\right)+\\frac{\\partial }{\\partial y}\\frac{\\partial }{\\partial x}\\phi\\left(\\eta,x,y,z\\right)\\right) \\delta+\\mathrm{O}\\left(\\delta^{3}\\right)$"
      ],
      "text/plain": [
       "<IPython.core.display.Math object>"
      ]
     },
     "metadata": {},
     "output_type": "display_data"
    },
    {
     "data": {
      "text/latex": [
       "$\\displaystyle {R}{}^{2\n",
       "}{}_{2\n",
       "}{}_{1\n",
       "}{}_{3\n",
       "} = \\left(-\\frac{\\partial }{\\partial x}\\frac{\\partial }{\\partial z}\\phi\\left(\\eta,x,y,z\\right)+\\frac{\\partial }{\\partial z}\\frac{\\partial }{\\partial x}\\phi\\left(\\eta,x,y,z\\right)\\right) \\delta+\\mathrm{O}\\left(\\delta^{3}\\right)$"
      ],
      "text/plain": [
       "<IPython.core.display.Math object>"
      ]
     },
     "metadata": {},
     "output_type": "display_data"
    },
    {
     "data": {
      "text/latex": [
       "$\\displaystyle {R}{}^{2\n",
       "}{}_{2\n",
       "}{}_{2\n",
       "}{}_{0\n",
       "} = -\\left(-\\frac{\\partial }{\\partial \\eta}\\frac{\\partial }{\\partial y}\\phi\\left(\\eta,x,y,z\\right)+\\frac{\\partial }{\\partial y}\\frac{\\partial }{\\partial \\eta}\\phi\\left(\\eta,x,y,z\\right)\\right) \\delta-\\mathrm{O}\\left(\\delta^{2}\\right)$"
      ],
      "text/plain": [
       "<IPython.core.display.Math object>"
      ]
     },
     "metadata": {},
     "output_type": "display_data"
    },
    {
     "data": {
      "text/latex": [
       "$\\displaystyle {R}{}^{2\n",
       "}{}_{2\n",
       "}{}_{2\n",
       "}{}_{1\n",
       "} = -\\left(-\\frac{\\partial }{\\partial x}\\frac{\\partial }{\\partial y}\\phi\\left(\\eta,x,y,z\\right)+\\frac{\\partial }{\\partial y}\\frac{\\partial }{\\partial x}\\phi\\left(\\eta,x,y,z\\right)\\right) \\delta-\\mathrm{O}\\left(\\delta^{3}\\right)$"
      ],
      "text/plain": [
       "<IPython.core.display.Math object>"
      ]
     },
     "metadata": {},
     "output_type": "display_data"
    },
    {
     "data": {
      "text/latex": [
       "$\\displaystyle {R}{}^{2\n",
       "}{}_{2\n",
       "}{}_{2\n",
       "}{}_{3\n",
       "} = \\left(-\\frac{\\partial }{\\partial y}\\frac{\\partial }{\\partial z}\\phi\\left(\\eta,x,y,z\\right)+\\frac{\\partial }{\\partial z}\\frac{\\partial }{\\partial y}\\phi\\left(\\eta,x,y,z\\right)\\right) \\delta+\\mathrm{O}\\left(\\delta^{3}\\right)$"
      ],
      "text/plain": [
       "<IPython.core.display.Math object>"
      ]
     },
     "metadata": {},
     "output_type": "display_data"
    },
    {
     "data": {
      "text/latex": [
       "$\\displaystyle {R}{}^{2\n",
       "}{}_{2\n",
       "}{}_{3\n",
       "}{}_{0\n",
       "} = -\\left(-\\frac{\\partial }{\\partial \\eta}\\frac{\\partial }{\\partial z}\\phi\\left(\\eta,x,y,z\\right)+\\frac{\\partial }{\\partial z}\\frac{\\partial }{\\partial \\eta}\\phi\\left(\\eta,x,y,z\\right)\\right) \\delta-\\mathrm{O}\\left(\\delta^{2}\\right)$"
      ],
      "text/plain": [
       "<IPython.core.display.Math object>"
      ]
     },
     "metadata": {},
     "output_type": "display_data"
    },
    {
     "data": {
      "text/latex": [
       "$\\displaystyle {R}{}^{2\n",
       "}{}_{2\n",
       "}{}_{3\n",
       "}{}_{1\n",
       "} = -\\left(-\\frac{\\partial }{\\partial x}\\frac{\\partial }{\\partial z}\\phi\\left(\\eta,x,y,z\\right)+\\frac{\\partial }{\\partial z}\\frac{\\partial }{\\partial x}\\phi\\left(\\eta,x,y,z\\right)\\right) \\delta-\\mathrm{O}\\left(\\delta^{3}\\right)$"
      ],
      "text/plain": [
       "<IPython.core.display.Math object>"
      ]
     },
     "metadata": {},
     "output_type": "display_data"
    },
    {
     "data": {
      "text/latex": [
       "$\\displaystyle {R}{}^{2\n",
       "}{}_{2\n",
       "}{}_{3\n",
       "}{}_{2\n",
       "} = -\\left(-\\frac{\\partial }{\\partial y}\\frac{\\partial }{\\partial z}\\phi\\left(\\eta,x,y,z\\right)+\\frac{\\partial }{\\partial z}\\frac{\\partial }{\\partial y}\\phi\\left(\\eta,x,y,z\\right)\\right) \\delta-\\mathrm{O}\\left(\\delta^{3}\\right)$"
      ],
      "text/plain": [
       "<IPython.core.display.Math object>"
      ]
     },
     "metadata": {},
     "output_type": "display_data"
    },
    {
     "data": {
      "text/latex": [
       "$\\displaystyle {R}{}^{2\n",
       "}{}_{3\n",
       "}{}_{0\n",
       "}{}_{2\n",
       "} = \\frac{\\left(-\\frac{\\mathrm{d}}{\\mathrm{d}\\eta}\\,a\\left(\\eta\\right) \\frac{\\partial }{\\partial z}\\psi\\left(\\eta,x,y,z\\right)+\\frac{\\partial }{\\partial z}\\frac{\\partial }{\\partial \\eta}\\phi\\left(\\eta,x,y,z\\right) a\\left(\\eta\\right)\\right) \\delta}{a\\left(\\eta\\right)}+\\mathrm{O}\\left(\\delta^{2}\\right)$"
      ],
      "text/plain": [
       "<IPython.core.display.Math object>"
      ]
     },
     "metadata": {},
     "output_type": "display_data"
    },
    {
     "data": {
      "text/latex": [
       "$\\displaystyle {R}{}^{2\n",
       "}{}_{3\n",
       "}{}_{0\n",
       "}{}_{3\n",
       "} = \\frac{\\left(\\frac{\\mathrm{d}}{\\mathrm{d}\\eta}\\,a\\left(\\eta\\right) \\frac{\\partial }{\\partial y}\\psi\\left(\\eta,x,y,z\\right)-\\frac{\\partial }{\\partial y}\\frac{\\partial }{\\partial \\eta}\\phi\\left(\\eta,x,y,z\\right) a\\left(\\eta\\right)\\right) \\delta}{a\\left(\\eta\\right)}+\\mathrm{O}\\left(\\delta^{2}\\right)$"
      ],
      "text/plain": [
       "<IPython.core.display.Math object>"
      ]
     },
     "metadata": {},
     "output_type": "display_data"
    },
    {
     "data": {
      "text/latex": [
       "$\\displaystyle {R}{}^{2\n",
       "}{}_{3\n",
       "}{}_{1\n",
       "}{}_{2\n",
       "} = \\frac{\\partial }{\\partial z}\\frac{\\partial }{\\partial x}\\phi\\left(\\eta,x,y,z\\right) \\delta+\\mathrm{O}\\left(\\delta^{2}\\right)$"
      ],
      "text/plain": [
       "<IPython.core.display.Math object>"
      ]
     },
     "metadata": {},
     "output_type": "display_data"
    },
    {
     "data": {
      "text/latex": [
       "$\\displaystyle {R}{}^{2\n",
       "}{}_{3\n",
       "}{}_{1\n",
       "}{}_{3\n",
       "} = -\\frac{\\partial }{\\partial y}\\frac{\\partial }{\\partial x}\\phi\\left(\\eta,x,y,z\\right) \\delta+\\mathrm{O}\\left(\\delta^{2}\\right)$"
      ],
      "text/plain": [
       "<IPython.core.display.Math object>"
      ]
     },
     "metadata": {},
     "output_type": "display_data"
    },
    {
     "data": {
      "text/latex": [
       "$\\displaystyle {R}{}^{2\n",
       "}{}_{3\n",
       "}{}_{2\n",
       "}{}_{0\n",
       "} = -\\frac{\\left(-\\frac{\\mathrm{d}}{\\mathrm{d}\\eta}\\,a\\left(\\eta\\right) \\frac{\\partial }{\\partial z}\\psi\\left(\\eta,x,y,z\\right)+\\frac{\\partial }{\\partial z}\\frac{\\partial }{\\partial \\eta}\\phi\\left(\\eta,x,y,z\\right) a\\left(\\eta\\right)\\right) \\delta}{a\\left(\\eta\\right)}-\\mathrm{O}\\left(\\delta^{2}\\right)$"
      ],
      "text/plain": [
       "<IPython.core.display.Math object>"
      ]
     },
     "metadata": {},
     "output_type": "display_data"
    },
    {
     "data": {
      "text/latex": [
       "$\\displaystyle {R}{}^{2\n",
       "}{}_{3\n",
       "}{}_{2\n",
       "}{}_{1\n",
       "} = -\\frac{\\partial }{\\partial z}\\frac{\\partial }{\\partial x}\\phi\\left(\\eta,x,y,z\\right) \\delta-\\mathrm{O}\\left(\\delta^{2}\\right)$"
      ],
      "text/plain": [
       "<IPython.core.display.Math object>"
      ]
     },
     "metadata": {},
     "output_type": "display_data"
    },
    {
     "data": {
      "text/latex": [
       "$\\displaystyle {R}{}^{2\n",
       "}{}_{3\n",
       "}{}_{2\n",
       "}{}_{3\n",
       "} = \\frac{\\left(\\frac{\\mathrm{d}}{\\mathrm{d}\\eta}\\,a\\left(\\eta\\right)\\right)^{2}}{a\\left(\\eta\\right)^{2}}+\\frac{\\left(2 \\left(\\frac{\\mathrm{d}}{\\mathrm{d}\\eta}\\,a\\left(\\eta\\right)\\right)^{2}\\,\\phi\\left(\\eta,x,y,z\\right)-2 \\left(\\frac{\\mathrm{d}}{\\mathrm{d}\\eta}\\,a\\left(\\eta\\right)\\right)^{2}\\,\\psi\\left(\\eta,x,y,z\\right)+2\\,\\frac{\\mathrm{d}}{\\mathrm{d}\\eta}\\,a\\left(\\eta\\right) \\frac{\\partial }{\\partial \\eta}\\phi\\left(\\eta,x,y,z\\right) a\\left(\\eta\\right)-\\frac{\\partial^2 }{\\partial y^2}\\phi\\left(\\eta,x,y,z\\right) a\\left(\\eta\\right)^{2}-\\frac{\\partial^2 }{\\partial z^2}\\phi\\left(\\eta,x,y,z\\right) a\\left(\\eta\\right)^{2}\\right) \\delta}{a\\left(\\eta\\right)^{2}}+\\mathrm{O}\\left(\\delta^{2}\\right)$"
      ],
      "text/plain": [
       "<IPython.core.display.Math object>"
      ]
     },
     "metadata": {},
     "output_type": "display_data"
    },
    {
     "data": {
      "text/latex": [
       "$\\displaystyle {R}{}^{2\n",
       "}{}_{3\n",
       "}{}_{3\n",
       "}{}_{0\n",
       "} = -\\frac{\\left(\\frac{\\mathrm{d}}{\\mathrm{d}\\eta}\\,a\\left(\\eta\\right) \\frac{\\partial }{\\partial y}\\psi\\left(\\eta,x,y,z\\right)-\\frac{\\partial }{\\partial y}\\frac{\\partial }{\\partial \\eta}\\phi\\left(\\eta,x,y,z\\right) a\\left(\\eta\\right)\\right) \\delta}{a\\left(\\eta\\right)}-\\mathrm{O}\\left(\\delta^{2}\\right)$"
      ],
      "text/plain": [
       "<IPython.core.display.Math object>"
      ]
     },
     "metadata": {},
     "output_type": "display_data"
    },
    {
     "data": {
      "text/latex": [
       "$\\displaystyle {R}{}^{2\n",
       "}{}_{3\n",
       "}{}_{3\n",
       "}{}_{1\n",
       "} = \\frac{\\partial }{\\partial y}\\frac{\\partial }{\\partial x}\\phi\\left(\\eta,x,y,z\\right) \\delta-\\mathrm{O}\\left(\\delta^{2}\\right)$"
      ],
      "text/plain": [
       "<IPython.core.display.Math object>"
      ]
     },
     "metadata": {},
     "output_type": "display_data"
    },
    {
     "data": {
      "text/latex": [
       "$\\displaystyle {R}{}^{2\n",
       "}{}_{3\n",
       "}{}_{3\n",
       "}{}_{2\n",
       "} = -\\frac{\\left(\\frac{\\mathrm{d}}{\\mathrm{d}\\eta}\\,a\\left(\\eta\\right)\\right)^{2}}{a\\left(\\eta\\right)^{2}}-\\frac{\\left(2 \\left(\\frac{\\mathrm{d}}{\\mathrm{d}\\eta}\\,a\\left(\\eta\\right)\\right)^{2}\\,\\phi\\left(\\eta,x,y,z\\right)-2 \\left(\\frac{\\mathrm{d}}{\\mathrm{d}\\eta}\\,a\\left(\\eta\\right)\\right)^{2}\\,\\psi\\left(\\eta,x,y,z\\right)+2\\,\\frac{\\mathrm{d}}{\\mathrm{d}\\eta}\\,a\\left(\\eta\\right) \\frac{\\partial }{\\partial \\eta}\\phi\\left(\\eta,x,y,z\\right) a\\left(\\eta\\right)-\\frac{\\partial^2 }{\\partial y^2}\\phi\\left(\\eta,x,y,z\\right) a\\left(\\eta\\right)^{2}-\\frac{\\partial^2 }{\\partial z^2}\\phi\\left(\\eta,x,y,z\\right) a\\left(\\eta\\right)^{2}\\right) \\delta}{a\\left(\\eta\\right)^{2}}-\\mathrm{O}\\left(\\delta^{2}\\right)$"
      ],
      "text/plain": [
       "<IPython.core.display.Math object>"
      ]
     },
     "metadata": {},
     "output_type": "display_data"
    },
    {
     "data": {
      "text/latex": [
       "$\\displaystyle {R}{}^{3\n",
       "}{}_{0\n",
       "}{}_{0\n",
       "}{}_{1\n",
       "} = -\\frac{\\partial }{\\partial z}\\frac{\\partial }{\\partial x}\\psi\\left(\\eta,x,y,z\\right) \\delta+\\mathrm{O}\\left(\\delta^{2}\\right)$"
      ],
      "text/plain": [
       "<IPython.core.display.Math object>"
      ]
     },
     "metadata": {},
     "output_type": "display_data"
    },
    {
     "data": {
      "text/latex": [
       "$\\displaystyle {R}{}^{3\n",
       "}{}_{0\n",
       "}{}_{0\n",
       "}{}_{2\n",
       "} = -\\frac{\\partial }{\\partial z}\\frac{\\partial }{\\partial y}\\psi\\left(\\eta,x,y,z\\right) \\delta+\\mathrm{O}\\left(\\delta^{2}\\right)$"
      ],
      "text/plain": [
       "<IPython.core.display.Math object>"
      ]
     },
     "metadata": {},
     "output_type": "display_data"
    },
    {
     "data": {
      "text/latex": [
       "$\\displaystyle {R}{}^{3\n",
       "}{}_{0\n",
       "}{}_{0\n",
       "}{}_{3\n",
       "} = \\frac{-\\left(\\frac{\\mathrm{d}}{\\mathrm{d}\\eta}\\,a\\left(\\eta\\right)\\right)^{2}+\\frac{\\mathrm{d}^{2}}{\\mathrm{d}\\eta^{2}}\\,a\\left(\\eta\\right) a\\left(\\eta\\right)}{a\\left(\\eta\\right)^{2}}+\\frac{\\left(\\frac{\\mathrm{d}}{\\mathrm{d}\\eta}\\,a\\left(\\eta\\right) \\frac{\\partial }{\\partial \\eta}\\phi\\left(\\eta,x,y,z\\right)-\\frac{\\mathrm{d}}{\\mathrm{d}\\eta}\\,a\\left(\\eta\\right) \\frac{\\partial }{\\partial \\eta}\\psi\\left(\\eta,x,y,z\\right)+\\frac{\\partial^2 }{\\partial \\eta^2}\\phi\\left(\\eta,x,y,z\\right) a\\left(\\eta\\right)-\\frac{\\partial^2 }{\\partial z^2}\\psi\\left(\\eta,x,y,z\\right) a\\left(\\eta\\right)\\right) \\delta}{a\\left(\\eta\\right)}+\\mathrm{O}\\left(\\delta^{2}\\right)$"
      ],
      "text/plain": [
       "<IPython.core.display.Math object>"
      ]
     },
     "metadata": {},
     "output_type": "display_data"
    },
    {
     "data": {
      "text/latex": [
       "$\\displaystyle {R}{}^{3\n",
       "}{}_{0\n",
       "}{}_{1\n",
       "}{}_{0\n",
       "} = \\frac{\\partial }{\\partial z}\\frac{\\partial }{\\partial x}\\psi\\left(\\eta,x,y,z\\right) \\delta-\\mathrm{O}\\left(\\delta^{2}\\right)$"
      ],
      "text/plain": [
       "<IPython.core.display.Math object>"
      ]
     },
     "metadata": {},
     "output_type": "display_data"
    },
    {
     "data": {
      "text/latex": [
       "$\\displaystyle {R}{}^{3\n",
       "}{}_{0\n",
       "}{}_{1\n",
       "}{}_{3\n",
       "} = \\frac{\\left(-\\frac{\\mathrm{d}}{\\mathrm{d}\\eta}\\,a\\left(\\eta\\right) \\frac{\\partial }{\\partial x}\\psi\\left(\\eta,x,y,z\\right)+\\frac{\\partial }{\\partial \\eta}\\frac{\\partial }{\\partial x}\\phi\\left(\\eta,x,y,z\\right) a\\left(\\eta\\right)\\right) \\delta}{a\\left(\\eta\\right)}+\\mathrm{O}\\left(\\delta^{2}\\right)$"
      ],
      "text/plain": [
       "<IPython.core.display.Math object>"
      ]
     },
     "metadata": {},
     "output_type": "display_data"
    },
    {
     "data": {
      "text/latex": [
       "$\\displaystyle {R}{}^{3\n",
       "}{}_{0\n",
       "}{}_{2\n",
       "}{}_{0\n",
       "} = \\frac{\\partial }{\\partial z}\\frac{\\partial }{\\partial y}\\psi\\left(\\eta,x,y,z\\right) \\delta-\\mathrm{O}\\left(\\delta^{2}\\right)$"
      ],
      "text/plain": [
       "<IPython.core.display.Math object>"
      ]
     },
     "metadata": {},
     "output_type": "display_data"
    },
    {
     "data": {
      "text/latex": [
       "$\\displaystyle {R}{}^{3\n",
       "}{}_{0\n",
       "}{}_{2\n",
       "}{}_{3\n",
       "} = \\frac{\\left(-\\frac{\\mathrm{d}}{\\mathrm{d}\\eta}\\,a\\left(\\eta\\right) \\frac{\\partial }{\\partial y}\\psi\\left(\\eta,x,y,z\\right)+\\frac{\\partial }{\\partial \\eta}\\frac{\\partial }{\\partial y}\\phi\\left(\\eta,x,y,z\\right) a\\left(\\eta\\right)\\right) \\delta}{a\\left(\\eta\\right)}+\\mathrm{O}\\left(\\delta^{2}\\right)$"
      ],
      "text/plain": [
       "<IPython.core.display.Math object>"
      ]
     },
     "metadata": {},
     "output_type": "display_data"
    },
    {
     "data": {
      "text/latex": [
       "$\\displaystyle {R}{}^{3\n",
       "}{}_{0\n",
       "}{}_{3\n",
       "}{}_{0\n",
       "} = -\\frac{-\\left(\\frac{\\mathrm{d}}{\\mathrm{d}\\eta}\\,a\\left(\\eta\\right)\\right)^{2}+\\frac{\\mathrm{d}^{2}}{\\mathrm{d}\\eta^{2}}\\,a\\left(\\eta\\right) a\\left(\\eta\\right)}{a\\left(\\eta\\right)^{2}}-\\frac{\\left(\\frac{\\mathrm{d}}{\\mathrm{d}\\eta}\\,a\\left(\\eta\\right) \\frac{\\partial }{\\partial \\eta}\\phi\\left(\\eta,x,y,z\\right)-\\frac{\\mathrm{d}}{\\mathrm{d}\\eta}\\,a\\left(\\eta\\right) \\frac{\\partial }{\\partial \\eta}\\psi\\left(\\eta,x,y,z\\right)+\\frac{\\partial^2 }{\\partial \\eta^2}\\phi\\left(\\eta,x,y,z\\right) a\\left(\\eta\\right)-\\frac{\\partial^2 }{\\partial z^2}\\psi\\left(\\eta,x,y,z\\right) a\\left(\\eta\\right)\\right) \\delta}{a\\left(\\eta\\right)}-\\mathrm{O}\\left(\\delta^{2}\\right)$"
      ],
      "text/plain": [
       "<IPython.core.display.Math object>"
      ]
     },
     "metadata": {},
     "output_type": "display_data"
    },
    {
     "data": {
      "text/latex": [
       "$\\displaystyle {R}{}^{3\n",
       "}{}_{0\n",
       "}{}_{3\n",
       "}{}_{1\n",
       "} = -\\frac{\\left(-\\frac{\\mathrm{d}}{\\mathrm{d}\\eta}\\,a\\left(\\eta\\right) \\frac{\\partial }{\\partial x}\\psi\\left(\\eta,x,y,z\\right)+\\frac{\\partial }{\\partial \\eta}\\frac{\\partial }{\\partial x}\\phi\\left(\\eta,x,y,z\\right) a\\left(\\eta\\right)\\right) \\delta}{a\\left(\\eta\\right)}-\\mathrm{O}\\left(\\delta^{2}\\right)$"
      ],
      "text/plain": [
       "<IPython.core.display.Math object>"
      ]
     },
     "metadata": {},
     "output_type": "display_data"
    },
    {
     "data": {
      "text/latex": [
       "$\\displaystyle {R}{}^{3\n",
       "}{}_{0\n",
       "}{}_{3\n",
       "}{}_{2\n",
       "} = -\\frac{\\left(-\\frac{\\mathrm{d}}{\\mathrm{d}\\eta}\\,a\\left(\\eta\\right) \\frac{\\partial }{\\partial y}\\psi\\left(\\eta,x,y,z\\right)+\\frac{\\partial }{\\partial \\eta}\\frac{\\partial }{\\partial y}\\phi\\left(\\eta,x,y,z\\right) a\\left(\\eta\\right)\\right) \\delta}{a\\left(\\eta\\right)}-\\mathrm{O}\\left(\\delta^{2}\\right)$"
      ],
      "text/plain": [
       "<IPython.core.display.Math object>"
      ]
     },
     "metadata": {},
     "output_type": "display_data"
    },
    {
     "data": {
      "text/latex": [
       "$\\displaystyle {R}{}^{3\n",
       "}{}_{1\n",
       "}{}_{0\n",
       "}{}_{1\n",
       "} = \\frac{\\left(\\frac{\\mathrm{d}}{\\mathrm{d}\\eta}\\,a\\left(\\eta\\right) \\frac{\\partial }{\\partial z}\\psi\\left(\\eta,x,y,z\\right)-\\frac{\\partial }{\\partial z}\\frac{\\partial }{\\partial \\eta}\\phi\\left(\\eta,x,y,z\\right) a\\left(\\eta\\right)\\right) \\delta}{a\\left(\\eta\\right)}+\\mathrm{O}\\left(\\delta^{2}\\right)$"
      ],
      "text/plain": [
       "<IPython.core.display.Math object>"
      ]
     },
     "metadata": {},
     "output_type": "display_data"
    },
    {
     "data": {
      "text/latex": [
       "$\\displaystyle {R}{}^{3\n",
       "}{}_{1\n",
       "}{}_{0\n",
       "}{}_{3\n",
       "} = \\frac{\\left(-\\frac{\\mathrm{d}}{\\mathrm{d}\\eta}\\,a\\left(\\eta\\right) \\frac{\\partial }{\\partial x}\\psi\\left(\\eta,x,y,z\\right)+\\frac{\\partial }{\\partial x}\\frac{\\partial }{\\partial \\eta}\\phi\\left(\\eta,x,y,z\\right) a\\left(\\eta\\right)\\right) \\delta}{a\\left(\\eta\\right)}+\\mathrm{O}\\left(\\delta^{2}\\right)$"
      ],
      "text/plain": [
       "<IPython.core.display.Math object>"
      ]
     },
     "metadata": {},
     "output_type": "display_data"
    },
    {
     "data": {
      "text/latex": [
       "$\\displaystyle {R}{}^{3\n",
       "}{}_{1\n",
       "}{}_{1\n",
       "}{}_{0\n",
       "} = -\\frac{\\left(\\frac{\\mathrm{d}}{\\mathrm{d}\\eta}\\,a\\left(\\eta\\right) \\frac{\\partial }{\\partial z}\\psi\\left(\\eta,x,y,z\\right)-\\frac{\\partial }{\\partial z}\\frac{\\partial }{\\partial \\eta}\\phi\\left(\\eta,x,y,z\\right) a\\left(\\eta\\right)\\right) \\delta}{a\\left(\\eta\\right)}-\\mathrm{O}\\left(\\delta^{2}\\right)$"
      ],
      "text/plain": [
       "<IPython.core.display.Math object>"
      ]
     },
     "metadata": {},
     "output_type": "display_data"
    },
    {
     "data": {
      "text/latex": [
       "$\\displaystyle {R}{}^{3\n",
       "}{}_{1\n",
       "}{}_{1\n",
       "}{}_{2\n",
       "} = \\frac{\\partial }{\\partial z}\\frac{\\partial }{\\partial y}\\phi\\left(\\eta,x,y,z\\right) \\delta+\\mathrm{O}\\left(\\delta^{2}\\right)$"
      ],
      "text/plain": [
       "<IPython.core.display.Math object>"
      ]
     },
     "metadata": {},
     "output_type": "display_data"
    },
    {
     "data": {
      "text/latex": [
       "$\\displaystyle {R}{}^{3\n",
       "}{}_{1\n",
       "}{}_{1\n",
       "}{}_{3\n",
       "} = -\\frac{\\left(\\frac{\\mathrm{d}}{\\mathrm{d}\\eta}\\,a\\left(\\eta\\right)\\right)^{2}}{a\\left(\\eta\\right)^{2}}+\\frac{\\left(-2 \\left(\\frac{\\mathrm{d}}{\\mathrm{d}\\eta}\\,a\\left(\\eta\\right)\\right)^{2}\\,\\phi\\left(\\eta,x,y,z\\right)+2 \\left(\\frac{\\mathrm{d}}{\\mathrm{d}\\eta}\\,a\\left(\\eta\\right)\\right)^{2}\\,\\psi\\left(\\eta,x,y,z\\right)-2\\,\\frac{\\mathrm{d}}{\\mathrm{d}\\eta}\\,a\\left(\\eta\\right) \\frac{\\partial }{\\partial \\eta}\\phi\\left(\\eta,x,y,z\\right) a\\left(\\eta\\right)+\\frac{\\partial^2 }{\\partial x^2}\\phi\\left(\\eta,x,y,z\\right) a\\left(\\eta\\right)^{2}+\\frac{\\partial^2 }{\\partial z^2}\\phi\\left(\\eta,x,y,z\\right) a\\left(\\eta\\right)^{2}\\right) \\delta}{a\\left(\\eta\\right)^{2}}+\\mathrm{O}\\left(\\delta^{2}\\right)$"
      ],
      "text/plain": [
       "<IPython.core.display.Math object>"
      ]
     },
     "metadata": {},
     "output_type": "display_data"
    },
    {
     "data": {
      "text/latex": [
       "$\\displaystyle {R}{}^{3\n",
       "}{}_{1\n",
       "}{}_{2\n",
       "}{}_{1\n",
       "} = -\\frac{\\partial }{\\partial z}\\frac{\\partial }{\\partial y}\\phi\\left(\\eta,x,y,z\\right) \\delta-\\mathrm{O}\\left(\\delta^{2}\\right)$"
      ],
      "text/plain": [
       "<IPython.core.display.Math object>"
      ]
     },
     "metadata": {},
     "output_type": "display_data"
    },
    {
     "data": {
      "text/latex": [
       "$\\displaystyle {R}{}^{3\n",
       "}{}_{1\n",
       "}{}_{2\n",
       "}{}_{3\n",
       "} = \\frac{\\partial }{\\partial x}\\frac{\\partial }{\\partial y}\\phi\\left(\\eta,x,y,z\\right) \\delta+\\mathrm{O}\\left(\\delta^{2}\\right)$"
      ],
      "text/plain": [
       "<IPython.core.display.Math object>"
      ]
     },
     "metadata": {},
     "output_type": "display_data"
    },
    {
     "data": {
      "text/latex": [
       "$\\displaystyle {R}{}^{3\n",
       "}{}_{1\n",
       "}{}_{3\n",
       "}{}_{0\n",
       "} = -\\frac{\\left(-\\frac{\\mathrm{d}}{\\mathrm{d}\\eta}\\,a\\left(\\eta\\right) \\frac{\\partial }{\\partial x}\\psi\\left(\\eta,x,y,z\\right)+\\frac{\\partial }{\\partial x}\\frac{\\partial }{\\partial \\eta}\\phi\\left(\\eta,x,y,z\\right) a\\left(\\eta\\right)\\right) \\delta}{a\\left(\\eta\\right)}-\\mathrm{O}\\left(\\delta^{2}\\right)$"
      ],
      "text/plain": [
       "<IPython.core.display.Math object>"
      ]
     },
     "metadata": {},
     "output_type": "display_data"
    },
    {
     "data": {
      "text/latex": [
       "$\\displaystyle {R}{}^{3\n",
       "}{}_{1\n",
       "}{}_{3\n",
       "}{}_{1\n",
       "} = \\frac{\\left(\\frac{\\mathrm{d}}{\\mathrm{d}\\eta}\\,a\\left(\\eta\\right)\\right)^{2}}{a\\left(\\eta\\right)^{2}}-\\frac{\\left(-2 \\left(\\frac{\\mathrm{d}}{\\mathrm{d}\\eta}\\,a\\left(\\eta\\right)\\right)^{2}\\,\\phi\\left(\\eta,x,y,z\\right)+2 \\left(\\frac{\\mathrm{d}}{\\mathrm{d}\\eta}\\,a\\left(\\eta\\right)\\right)^{2}\\,\\psi\\left(\\eta,x,y,z\\right)-2\\,\\frac{\\mathrm{d}}{\\mathrm{d}\\eta}\\,a\\left(\\eta\\right) \\frac{\\partial }{\\partial \\eta}\\phi\\left(\\eta,x,y,z\\right) a\\left(\\eta\\right)+\\frac{\\partial^2 }{\\partial x^2}\\phi\\left(\\eta,x,y,z\\right) a\\left(\\eta\\right)^{2}+\\frac{\\partial^2 }{\\partial z^2}\\phi\\left(\\eta,x,y,z\\right) a\\left(\\eta\\right)^{2}\\right) \\delta}{a\\left(\\eta\\right)^{2}}-\\mathrm{O}\\left(\\delta^{2}\\right)$"
      ],
      "text/plain": [
       "<IPython.core.display.Math object>"
      ]
     },
     "metadata": {},
     "output_type": "display_data"
    },
    {
     "data": {
      "text/latex": [
       "$\\displaystyle {R}{}^{3\n",
       "}{}_{1\n",
       "}{}_{3\n",
       "}{}_{2\n",
       "} = -\\frac{\\partial }{\\partial x}\\frac{\\partial }{\\partial y}\\phi\\left(\\eta,x,y,z\\right) \\delta-\\mathrm{O}\\left(\\delta^{2}\\right)$"
      ],
      "text/plain": [
       "<IPython.core.display.Math object>"
      ]
     },
     "metadata": {},
     "output_type": "display_data"
    },
    {
     "data": {
      "text/latex": [
       "$\\displaystyle {R}{}^{3\n",
       "}{}_{2\n",
       "}{}_{0\n",
       "}{}_{2\n",
       "} = \\frac{\\left(\\frac{\\mathrm{d}}{\\mathrm{d}\\eta}\\,a\\left(\\eta\\right) \\frac{\\partial }{\\partial z}\\psi\\left(\\eta,x,y,z\\right)-\\frac{\\partial }{\\partial z}\\frac{\\partial }{\\partial \\eta}\\phi\\left(\\eta,x,y,z\\right) a\\left(\\eta\\right)\\right) \\delta}{a\\left(\\eta\\right)}+\\mathrm{O}\\left(\\delta^{2}\\right)$"
      ],
      "text/plain": [
       "<IPython.core.display.Math object>"
      ]
     },
     "metadata": {},
     "output_type": "display_data"
    },
    {
     "data": {
      "text/latex": [
       "$\\displaystyle {R}{}^{3\n",
       "}{}_{2\n",
       "}{}_{0\n",
       "}{}_{3\n",
       "} = \\frac{\\left(-\\frac{\\mathrm{d}}{\\mathrm{d}\\eta}\\,a\\left(\\eta\\right) \\frac{\\partial }{\\partial y}\\psi\\left(\\eta,x,y,z\\right)+\\frac{\\partial }{\\partial y}\\frac{\\partial }{\\partial \\eta}\\phi\\left(\\eta,x,y,z\\right) a\\left(\\eta\\right)\\right) \\delta}{a\\left(\\eta\\right)}+\\mathrm{O}\\left(\\delta^{2}\\right)$"
      ],
      "text/plain": [
       "<IPython.core.display.Math object>"
      ]
     },
     "metadata": {},
     "output_type": "display_data"
    },
    {
     "data": {
      "text/latex": [
       "$\\displaystyle {R}{}^{3\n",
       "}{}_{2\n",
       "}{}_{1\n",
       "}{}_{2\n",
       "} = -\\frac{\\partial }{\\partial z}\\frac{\\partial }{\\partial x}\\phi\\left(\\eta,x,y,z\\right) \\delta+\\mathrm{O}\\left(\\delta^{2}\\right)$"
      ],
      "text/plain": [
       "<IPython.core.display.Math object>"
      ]
     },
     "metadata": {},
     "output_type": "display_data"
    },
    {
     "data": {
      "text/latex": [
       "$\\displaystyle {R}{}^{3\n",
       "}{}_{2\n",
       "}{}_{1\n",
       "}{}_{3\n",
       "} = \\frac{\\partial }{\\partial y}\\frac{\\partial }{\\partial x}\\phi\\left(\\eta,x,y,z\\right) \\delta+\\mathrm{O}\\left(\\delta^{2}\\right)$"
      ],
      "text/plain": [
       "<IPython.core.display.Math object>"
      ]
     },
     "metadata": {},
     "output_type": "display_data"
    },
    {
     "data": {
      "text/latex": [
       "$\\displaystyle {R}{}^{3\n",
       "}{}_{2\n",
       "}{}_{2\n",
       "}{}_{0\n",
       "} = -\\frac{\\left(\\frac{\\mathrm{d}}{\\mathrm{d}\\eta}\\,a\\left(\\eta\\right) \\frac{\\partial }{\\partial z}\\psi\\left(\\eta,x,y,z\\right)-\\frac{\\partial }{\\partial z}\\frac{\\partial }{\\partial \\eta}\\phi\\left(\\eta,x,y,z\\right) a\\left(\\eta\\right)\\right) \\delta}{a\\left(\\eta\\right)}-\\mathrm{O}\\left(\\delta^{2}\\right)$"
      ],
      "text/plain": [
       "<IPython.core.display.Math object>"
      ]
     },
     "metadata": {},
     "output_type": "display_data"
    },
    {
     "data": {
      "text/latex": [
       "$\\displaystyle {R}{}^{3\n",
       "}{}_{2\n",
       "}{}_{2\n",
       "}{}_{1\n",
       "} = \\frac{\\partial }{\\partial z}\\frac{\\partial }{\\partial x}\\phi\\left(\\eta,x,y,z\\right) \\delta-\\mathrm{O}\\left(\\delta^{2}\\right)$"
      ],
      "text/plain": [
       "<IPython.core.display.Math object>"
      ]
     },
     "metadata": {},
     "output_type": "display_data"
    },
    {
     "data": {
      "text/latex": [
       "$\\displaystyle {R}{}^{3\n",
       "}{}_{2\n",
       "}{}_{2\n",
       "}{}_{3\n",
       "} = -\\frac{\\left(\\frac{\\mathrm{d}}{\\mathrm{d}\\eta}\\,a\\left(\\eta\\right)\\right)^{2}}{a\\left(\\eta\\right)^{2}}+\\frac{\\left(-2 \\left(\\frac{\\mathrm{d}}{\\mathrm{d}\\eta}\\,a\\left(\\eta\\right)\\right)^{2}\\,\\phi\\left(\\eta,x,y,z\\right)+2 \\left(\\frac{\\mathrm{d}}{\\mathrm{d}\\eta}\\,a\\left(\\eta\\right)\\right)^{2}\\,\\psi\\left(\\eta,x,y,z\\right)-2\\,\\frac{\\mathrm{d}}{\\mathrm{d}\\eta}\\,a\\left(\\eta\\right) \\frac{\\partial }{\\partial \\eta}\\phi\\left(\\eta,x,y,z\\right) a\\left(\\eta\\right)+\\frac{\\partial^2 }{\\partial y^2}\\phi\\left(\\eta,x,y,z\\right) a\\left(\\eta\\right)^{2}+\\frac{\\partial^2 }{\\partial z^2}\\phi\\left(\\eta,x,y,z\\right) a\\left(\\eta\\right)^{2}\\right) \\delta}{a\\left(\\eta\\right)^{2}}+\\mathrm{O}\\left(\\delta^{2}\\right)$"
      ],
      "text/plain": [
       "<IPython.core.display.Math object>"
      ]
     },
     "metadata": {},
     "output_type": "display_data"
    },
    {
     "data": {
      "text/latex": [
       "$\\displaystyle {R}{}^{3\n",
       "}{}_{2\n",
       "}{}_{3\n",
       "}{}_{0\n",
       "} = -\\frac{\\left(-\\frac{\\mathrm{d}}{\\mathrm{d}\\eta}\\,a\\left(\\eta\\right) \\frac{\\partial }{\\partial y}\\psi\\left(\\eta,x,y,z\\right)+\\frac{\\partial }{\\partial y}\\frac{\\partial }{\\partial \\eta}\\phi\\left(\\eta,x,y,z\\right) a\\left(\\eta\\right)\\right) \\delta}{a\\left(\\eta\\right)}-\\mathrm{O}\\left(\\delta^{2}\\right)$"
      ],
      "text/plain": [
       "<IPython.core.display.Math object>"
      ]
     },
     "metadata": {},
     "output_type": "display_data"
    },
    {
     "data": {
      "text/latex": [
       "$\\displaystyle {R}{}^{3\n",
       "}{}_{2\n",
       "}{}_{3\n",
       "}{}_{1\n",
       "} = -\\frac{\\partial }{\\partial y}\\frac{\\partial }{\\partial x}\\phi\\left(\\eta,x,y,z\\right) \\delta-\\mathrm{O}\\left(\\delta^{2}\\right)$"
      ],
      "text/plain": [
       "<IPython.core.display.Math object>"
      ]
     },
     "metadata": {},
     "output_type": "display_data"
    },
    {
     "data": {
      "text/latex": [
       "$\\displaystyle {R}{}^{3\n",
       "}{}_{2\n",
       "}{}_{3\n",
       "}{}_{2\n",
       "} = \\frac{\\left(\\frac{\\mathrm{d}}{\\mathrm{d}\\eta}\\,a\\left(\\eta\\right)\\right)^{2}}{a\\left(\\eta\\right)^{2}}-\\frac{\\left(-2 \\left(\\frac{\\mathrm{d}}{\\mathrm{d}\\eta}\\,a\\left(\\eta\\right)\\right)^{2}\\,\\phi\\left(\\eta,x,y,z\\right)+2 \\left(\\frac{\\mathrm{d}}{\\mathrm{d}\\eta}\\,a\\left(\\eta\\right)\\right)^{2}\\,\\psi\\left(\\eta,x,y,z\\right)-2\\,\\frac{\\mathrm{d}}{\\mathrm{d}\\eta}\\,a\\left(\\eta\\right) \\frac{\\partial }{\\partial \\eta}\\phi\\left(\\eta,x,y,z\\right) a\\left(\\eta\\right)+\\frac{\\partial^2 }{\\partial y^2}\\phi\\left(\\eta,x,y,z\\right) a\\left(\\eta\\right)^{2}+\\frac{\\partial^2 }{\\partial z^2}\\phi\\left(\\eta,x,y,z\\right) a\\left(\\eta\\right)^{2}\\right) \\delta}{a\\left(\\eta\\right)^{2}}-\\mathrm{O}\\left(\\delta^{2}\\right)$"
      ],
      "text/plain": [
       "<IPython.core.display.Math object>"
      ]
     },
     "metadata": {},
     "output_type": "display_data"
    },
    {
     "data": {
      "text/latex": [
       "$\\displaystyle {R}{}^{3\n",
       "}{}_{3\n",
       "}{}_{0\n",
       "}{}_{1\n",
       "} = \\left(-\\frac{\\partial }{\\partial \\eta}\\frac{\\partial }{\\partial x}\\phi\\left(\\eta,x,y,z\\right)+\\frac{\\partial }{\\partial x}\\frac{\\partial }{\\partial \\eta}\\phi\\left(\\eta,x,y,z\\right)\\right) \\delta+\\mathrm{O}\\left(\\delta^{2}\\right)$"
      ],
      "text/plain": [
       "<IPython.core.display.Math object>"
      ]
     },
     "metadata": {},
     "output_type": "display_data"
    },
    {
     "data": {
      "text/latex": [
       "$\\displaystyle {R}{}^{3\n",
       "}{}_{3\n",
       "}{}_{0\n",
       "}{}_{2\n",
       "} = \\left(-\\frac{\\partial }{\\partial \\eta}\\frac{\\partial }{\\partial y}\\phi\\left(\\eta,x,y,z\\right)+\\frac{\\partial }{\\partial y}\\frac{\\partial }{\\partial \\eta}\\phi\\left(\\eta,x,y,z\\right)\\right) \\delta+\\mathrm{O}\\left(\\delta^{2}\\right)$"
      ],
      "text/plain": [
       "<IPython.core.display.Math object>"
      ]
     },
     "metadata": {},
     "output_type": "display_data"
    },
    {
     "data": {
      "text/latex": [
       "$\\displaystyle {R}{}^{3\n",
       "}{}_{3\n",
       "}{}_{0\n",
       "}{}_{3\n",
       "} = \\left(-\\frac{\\partial }{\\partial \\eta}\\frac{\\partial }{\\partial z}\\phi\\left(\\eta,x,y,z\\right)+\\frac{\\partial }{\\partial z}\\frac{\\partial }{\\partial \\eta}\\phi\\left(\\eta,x,y,z\\right)\\right) \\delta+\\mathrm{O}\\left(\\delta^{2}\\right)$"
      ],
      "text/plain": [
       "<IPython.core.display.Math object>"
      ]
     },
     "metadata": {},
     "output_type": "display_data"
    },
    {
     "data": {
      "text/latex": [
       "$\\displaystyle {R}{}^{3\n",
       "}{}_{3\n",
       "}{}_{1\n",
       "}{}_{0\n",
       "} = -\\left(-\\frac{\\partial }{\\partial \\eta}\\frac{\\partial }{\\partial x}\\phi\\left(\\eta,x,y,z\\right)+\\frac{\\partial }{\\partial x}\\frac{\\partial }{\\partial \\eta}\\phi\\left(\\eta,x,y,z\\right)\\right) \\delta-\\mathrm{O}\\left(\\delta^{2}\\right)$"
      ],
      "text/plain": [
       "<IPython.core.display.Math object>"
      ]
     },
     "metadata": {},
     "output_type": "display_data"
    },
    {
     "data": {
      "text/latex": [
       "$\\displaystyle {R}{}^{3\n",
       "}{}_{3\n",
       "}{}_{1\n",
       "}{}_{2\n",
       "} = \\left(-\\frac{\\partial }{\\partial x}\\frac{\\partial }{\\partial y}\\phi\\left(\\eta,x,y,z\\right)+\\frac{\\partial }{\\partial y}\\frac{\\partial }{\\partial x}\\phi\\left(\\eta,x,y,z\\right)\\right) \\delta+\\mathrm{O}\\left(\\delta^{3}\\right)$"
      ],
      "text/plain": [
       "<IPython.core.display.Math object>"
      ]
     },
     "metadata": {},
     "output_type": "display_data"
    },
    {
     "data": {
      "text/latex": [
       "$\\displaystyle {R}{}^{3\n",
       "}{}_{3\n",
       "}{}_{1\n",
       "}{}_{3\n",
       "} = \\left(-\\frac{\\partial }{\\partial x}\\frac{\\partial }{\\partial z}\\phi\\left(\\eta,x,y,z\\right)+\\frac{\\partial }{\\partial z}\\frac{\\partial }{\\partial x}\\phi\\left(\\eta,x,y,z\\right)\\right) \\delta+\\mathrm{O}\\left(\\delta^{3}\\right)$"
      ],
      "text/plain": [
       "<IPython.core.display.Math object>"
      ]
     },
     "metadata": {},
     "output_type": "display_data"
    },
    {
     "data": {
      "text/latex": [
       "$\\displaystyle {R}{}^{3\n",
       "}{}_{3\n",
       "}{}_{2\n",
       "}{}_{0\n",
       "} = -\\left(-\\frac{\\partial }{\\partial \\eta}\\frac{\\partial }{\\partial y}\\phi\\left(\\eta,x,y,z\\right)+\\frac{\\partial }{\\partial y}\\frac{\\partial }{\\partial \\eta}\\phi\\left(\\eta,x,y,z\\right)\\right) \\delta-\\mathrm{O}\\left(\\delta^{2}\\right)$"
      ],
      "text/plain": [
       "<IPython.core.display.Math object>"
      ]
     },
     "metadata": {},
     "output_type": "display_data"
    },
    {
     "data": {
      "text/latex": [
       "$\\displaystyle {R}{}^{3\n",
       "}{}_{3\n",
       "}{}_{2\n",
       "}{}_{1\n",
       "} = -\\left(-\\frac{\\partial }{\\partial x}\\frac{\\partial }{\\partial y}\\phi\\left(\\eta,x,y,z\\right)+\\frac{\\partial }{\\partial y}\\frac{\\partial }{\\partial x}\\phi\\left(\\eta,x,y,z\\right)\\right) \\delta-\\mathrm{O}\\left(\\delta^{3}\\right)$"
      ],
      "text/plain": [
       "<IPython.core.display.Math object>"
      ]
     },
     "metadata": {},
     "output_type": "display_data"
    },
    {
     "data": {
      "text/latex": [
       "$\\displaystyle {R}{}^{3\n",
       "}{}_{3\n",
       "}{}_{2\n",
       "}{}_{3\n",
       "} = \\left(-\\frac{\\partial }{\\partial y}\\frac{\\partial }{\\partial z}\\phi\\left(\\eta,x,y,z\\right)+\\frac{\\partial }{\\partial z}\\frac{\\partial }{\\partial y}\\phi\\left(\\eta,x,y,z\\right)\\right) \\delta+\\mathrm{O}\\left(\\delta^{3}\\right)$"
      ],
      "text/plain": [
       "<IPython.core.display.Math object>"
      ]
     },
     "metadata": {},
     "output_type": "display_data"
    },
    {
     "data": {
      "text/latex": [
       "$\\displaystyle {R}{}^{3\n",
       "}{}_{3\n",
       "}{}_{3\n",
       "}{}_{0\n",
       "} = -\\left(-\\frac{\\partial }{\\partial \\eta}\\frac{\\partial }{\\partial z}\\phi\\left(\\eta,x,y,z\\right)+\\frac{\\partial }{\\partial z}\\frac{\\partial }{\\partial \\eta}\\phi\\left(\\eta,x,y,z\\right)\\right) \\delta-\\mathrm{O}\\left(\\delta^{2}\\right)$"
      ],
      "text/plain": [
       "<IPython.core.display.Math object>"
      ]
     },
     "metadata": {},
     "output_type": "display_data"
    },
    {
     "data": {
      "text/latex": [
       "$\\displaystyle {R}{}^{3\n",
       "}{}_{3\n",
       "}{}_{3\n",
       "}{}_{1\n",
       "} = -\\left(-\\frac{\\partial }{\\partial x}\\frac{\\partial }{\\partial z}\\phi\\left(\\eta,x,y,z\\right)+\\frac{\\partial }{\\partial z}\\frac{\\partial }{\\partial x}\\phi\\left(\\eta,x,y,z\\right)\\right) \\delta-\\mathrm{O}\\left(\\delta^{3}\\right)$"
      ],
      "text/plain": [
       "<IPython.core.display.Math object>"
      ]
     },
     "metadata": {},
     "output_type": "display_data"
    },
    {
     "data": {
      "text/latex": [
       "$\\displaystyle {R}{}^{3\n",
       "}{}_{3\n",
       "}{}_{3\n",
       "}{}_{2\n",
       "} = -\\left(-\\frac{\\partial }{\\partial y}\\frac{\\partial }{\\partial z}\\phi\\left(\\eta,x,y,z\\right)+\\frac{\\partial }{\\partial z}\\frac{\\partial }{\\partial y}\\phi\\left(\\eta,x,y,z\\right)\\right) \\delta-\\mathrm{O}\\left(\\delta^{3}\\right)$"
      ],
      "text/plain": [
       "<IPython.core.display.Math object>"
      ]
     },
     "metadata": {},
     "output_type": "display_data"
    }
   ],
   "source": [
    "# To calculate the default combination of the Riemann Tensor, i.e, (^,_,_,_): \n",
    "R = pt.riemann()\n",
    "\n",
    "# To calculate all the combinations:\n",
    "# R = pt.riemann(All = True)\n",
    "\n",
    "# To display the default Riemann tensor:\n",
    "R.display(\"^,_,_,_\")\n",
    "\n"
   ]
  },
  {
   "cell_type": "markdown",
   "metadata": {},
   "source": [
    "Remember that if there is no argument, the display method will show the non zero components of the tensor with all lower indices (\"_ ,_ ,_ ,_ \"), which, in this case, has not been calculated."
   ]
  },
  {
   "cell_type": "code",
   "execution_count": 12,
   "metadata": {},
   "outputs": [
    {
     "data": {
      "text/latex": [
       "Ricci Tensor $R_{\\alpha \\beta}$"
      ],
      "text/plain": [
       "<IPython.core.display.Latex object>"
      ]
     },
     "metadata": {},
     "output_type": "display_data"
    },
    {
     "data": {
      "application/vnd.jupyter.widget-view+json": {
       "model_id": "ba4ee3a066b146979a1a96f89b9bcd81",
       "version_major": 2,
       "version_minor": 0
      },
      "text/plain": [
       "  0%|          | 0/16 [00:00<?, ?it/s]"
      ]
     },
     "metadata": {},
     "output_type": "display_data"
    },
    {
     "data": {
      "text/latex": [
       "Ricci Scalar $R$"
      ],
      "text/plain": [
       "<IPython.core.display.Latex object>"
      ]
     },
     "metadata": {},
     "output_type": "display_data"
    },
    {
     "data": {
      "application/vnd.jupyter.widget-view+json": {
       "model_id": "1f3615d0e00b4d81a06e9c73b4671f2b",
       "version_major": 2,
       "version_minor": 0
      },
      "text/plain": [
       "  0%|          | 0/16 [00:00<?, ?it/s]"
      ]
     },
     "metadata": {},
     "output_type": "display_data"
    }
   ],
   "source": [
    "# To calculate the default combination of the Ricci Tensor, i.e., (_,_):\n",
    "Ric = pt.ricci()\n",
    "\n",
    "# To calculate all the combinations:\n",
    "# Ric = pt.ricci(All = True)\n",
    "\n",
    "# To calculate the Ricci Scalar:\n",
    "RicS = pt.ricci_scalar()"
   ]
  },
  {
   "cell_type": "code",
   "execution_count": 13,
   "metadata": {},
   "outputs": [
    {
     "data": {
      "text/latex": [
       "$\\displaystyle {R}{}_{0\n",
       "}{}_{0\n",
       "} = \\frac{3 \\left(\\frac{\\mathrm{d}}{\\mathrm{d}\\eta}\\,a\\left(\\eta\\right)\\right)^{2}-3\\,\\frac{\\mathrm{d}^{2}}{\\mathrm{d}\\eta^{2}}\\,a\\left(\\eta\\right) a\\left(\\eta\\right)}{a\\left(\\eta\\right)^{2}}+\\frac{\\left(-3\\,\\frac{\\mathrm{d}}{\\mathrm{d}\\eta}\\,a\\left(\\eta\\right) \\frac{\\partial }{\\partial \\eta}\\phi\\left(\\eta,x,y,z\\right)+3\\,\\frac{\\mathrm{d}}{\\mathrm{d}\\eta}\\,a\\left(\\eta\\right) \\frac{\\partial }{\\partial \\eta}\\psi\\left(\\eta,x,y,z\\right)-3\\,\\frac{\\partial^2 }{\\partial \\eta^2}\\phi\\left(\\eta,x,y,z\\right) a\\left(\\eta\\right)+\\frac{\\partial^2 }{\\partial x^2}\\psi\\left(\\eta,x,y,z\\right) a\\left(\\eta\\right)+\\frac{\\partial^2 }{\\partial y^2}\\psi\\left(\\eta,x,y,z\\right) a\\left(\\eta\\right)+\\frac{\\partial^2 }{\\partial z^2}\\psi\\left(\\eta,x,y,z\\right) a\\left(\\eta\\right)\\right) \\delta}{a\\left(\\eta\\right)}+\\mathrm{O}\\left(\\delta^{2}\\right)$"
      ],
      "text/plain": [
       "<IPython.core.display.Math object>"
      ]
     },
     "metadata": {},
     "output_type": "display_data"
    },
    {
     "data": {
      "text/latex": [
       "$\\displaystyle {R}{}_{0\n",
       "}{}_{1\n",
       "} = \\frac{\\left(2\\,\\frac{\\mathrm{d}}{\\mathrm{d}\\eta}\\,a\\left(\\eta\\right) \\frac{\\partial }{\\partial x}\\psi\\left(\\eta,x,y,z\\right)-2\\,\\frac{\\partial }{\\partial \\eta}\\frac{\\partial }{\\partial x}\\phi\\left(\\eta,x,y,z\\right) a\\left(\\eta\\right)-\\frac{\\partial }{\\partial \\eta}\\frac{\\partial }{\\partial x}\\psi\\left(\\eta,x,y,z\\right) a\\left(\\eta\\right)+\\frac{\\partial }{\\partial x}\\frac{\\partial }{\\partial \\eta}\\psi\\left(\\eta,x,y,z\\right) a\\left(\\eta\\right)\\right) \\delta}{a\\left(\\eta\\right)}+\\mathrm{O}\\left(\\delta^{2}\\right)$"
      ],
      "text/plain": [
       "<IPython.core.display.Math object>"
      ]
     },
     "metadata": {},
     "output_type": "display_data"
    },
    {
     "data": {
      "text/latex": [
       "$\\displaystyle {R}{}_{0\n",
       "}{}_{2\n",
       "} = \\frac{\\left(2\\,\\frac{\\mathrm{d}}{\\mathrm{d}\\eta}\\,a\\left(\\eta\\right) \\frac{\\partial }{\\partial y}\\psi\\left(\\eta,x,y,z\\right)-2\\,\\frac{\\partial }{\\partial \\eta}\\frac{\\partial }{\\partial y}\\phi\\left(\\eta,x,y,z\\right) a\\left(\\eta\\right)-\\frac{\\partial }{\\partial \\eta}\\frac{\\partial }{\\partial y}\\psi\\left(\\eta,x,y,z\\right) a\\left(\\eta\\right)+\\frac{\\partial }{\\partial y}\\frac{\\partial }{\\partial \\eta}\\psi\\left(\\eta,x,y,z\\right) a\\left(\\eta\\right)\\right) \\delta}{a\\left(\\eta\\right)}+\\mathrm{O}\\left(\\delta^{2}\\right)$"
      ],
      "text/plain": [
       "<IPython.core.display.Math object>"
      ]
     },
     "metadata": {},
     "output_type": "display_data"
    },
    {
     "data": {
      "text/latex": [
       "$\\displaystyle {R}{}_{0\n",
       "}{}_{3\n",
       "} = \\frac{\\left(2\\,\\frac{\\mathrm{d}}{\\mathrm{d}\\eta}\\,a\\left(\\eta\\right) \\frac{\\partial }{\\partial z}\\psi\\left(\\eta,x,y,z\\right)-2\\,\\frac{\\partial }{\\partial \\eta}\\frac{\\partial }{\\partial z}\\phi\\left(\\eta,x,y,z\\right) a\\left(\\eta\\right)-\\frac{\\partial }{\\partial \\eta}\\frac{\\partial }{\\partial z}\\psi\\left(\\eta,x,y,z\\right) a\\left(\\eta\\right)+\\frac{\\partial }{\\partial z}\\frac{\\partial }{\\partial \\eta}\\psi\\left(\\eta,x,y,z\\right) a\\left(\\eta\\right)\\right) \\delta}{a\\left(\\eta\\right)}+\\mathrm{O}\\left(\\delta^{2}\\right)$"
      ],
      "text/plain": [
       "<IPython.core.display.Math object>"
      ]
     },
     "metadata": {},
     "output_type": "display_data"
    },
    {
     "data": {
      "text/latex": [
       "$\\displaystyle {R}{}_{1\n",
       "}{}_{0\n",
       "} = \\frac{\\left(2\\,\\frac{\\mathrm{d}}{\\mathrm{d}\\eta}\\,a\\left(\\eta\\right) \\frac{\\partial }{\\partial x}\\psi\\left(\\eta,x,y,z\\right)-2\\,\\frac{\\partial }{\\partial \\eta}\\frac{\\partial }{\\partial x}\\phi\\left(\\eta,x,y,z\\right) a\\left(\\eta\\right)-\\frac{\\partial }{\\partial \\eta}\\frac{\\partial }{\\partial x}\\psi\\left(\\eta,x,y,z\\right) a\\left(\\eta\\right)+\\frac{\\partial }{\\partial x}\\frac{\\partial }{\\partial \\eta}\\psi\\left(\\eta,x,y,z\\right) a\\left(\\eta\\right)\\right) \\delta}{a\\left(\\eta\\right)}+\\mathrm{O}\\left(\\delta^{2}\\right)$"
      ],
      "text/plain": [
       "<IPython.core.display.Math object>"
      ]
     },
     "metadata": {},
     "output_type": "display_data"
    },
    {
     "data": {
      "text/latex": [
       "$\\displaystyle {R}{}_{1\n",
       "}{}_{1\n",
       "} = \\frac{\\left(\\frac{\\mathrm{d}}{\\mathrm{d}\\eta}\\,a\\left(\\eta\\right)\\right)^{2}+\\frac{\\mathrm{d}^{2}}{\\mathrm{d}\\eta^{2}}\\,a\\left(\\eta\\right) a\\left(\\eta\\right)}{a\\left(\\eta\\right)^{2}}+\\frac{\\left(2 \\left(\\frac{\\mathrm{d}}{\\mathrm{d}\\eta}\\,a\\left(\\eta\\right)\\right)^{2}\\,\\phi\\left(\\eta,x,y,z\\right)-2 \\left(\\frac{\\mathrm{d}}{\\mathrm{d}\\eta}\\,a\\left(\\eta\\right)\\right)^{2}\\,\\psi\\left(\\eta,x,y,z\\right)+5\\,\\frac{\\mathrm{d}}{\\mathrm{d}\\eta}\\,a\\left(\\eta\\right) \\frac{\\partial }{\\partial \\eta}\\phi\\left(\\eta,x,y,z\\right) a\\left(\\eta\\right)-\\frac{\\mathrm{d}}{\\mathrm{d}\\eta}\\,a\\left(\\eta\\right) \\frac{\\partial }{\\partial \\eta}\\psi\\left(\\eta,x,y,z\\right) a\\left(\\eta\\right)+2\\,\\frac{\\mathrm{d}^{2}}{\\mathrm{d}\\eta^{2}}\\,a\\left(\\eta\\right) a\\left(\\eta\\right) \\phi\\left(\\eta,x,y,z\\right)-2\\,\\frac{\\mathrm{d}^{2}}{\\mathrm{d}\\eta^{2}}\\,a\\left(\\eta\\right) a\\left(\\eta\\right) \\psi\\left(\\eta,x,y,z\\right)+\\frac{\\partial^2 }{\\partial \\eta^2}\\phi\\left(\\eta,x,y,z\\right) a\\left(\\eta\\right)^{2}-2\\,\\frac{\\partial^2 }{\\partial x^2}\\phi\\left(\\eta,x,y,z\\right) a\\left(\\eta\\right)^{2}-\\frac{\\partial^2 }{\\partial y^2}\\phi\\left(\\eta,x,y,z\\right) a\\left(\\eta\\right)^{2}-\\frac{\\partial^2 }{\\partial z^2}\\phi\\left(\\eta,x,y,z\\right) a\\left(\\eta\\right)^{2}-\\frac{\\partial^2 }{\\partial x^2}\\psi\\left(\\eta,x,y,z\\right) a\\left(\\eta\\right)^{2}\\right) \\delta}{a\\left(\\eta\\right)^{2}}+\\mathrm{O}\\left(\\delta^{2}\\right)$"
      ],
      "text/plain": [
       "<IPython.core.display.Math object>"
      ]
     },
     "metadata": {},
     "output_type": "display_data"
    },
    {
     "data": {
      "text/latex": [
       "$\\displaystyle {R}{}_{1\n",
       "}{}_{2\n",
       "} = \\left(-2\\,\\frac{\\partial }{\\partial x}\\frac{\\partial }{\\partial y}\\phi\\left(\\eta,x,y,z\\right)+\\frac{\\partial }{\\partial y}\\frac{\\partial }{\\partial x}\\phi\\left(\\eta,x,y,z\\right)-\\frac{\\partial }{\\partial x}\\frac{\\partial }{\\partial y}\\psi\\left(\\eta,x,y,z\\right)\\right) \\delta+\\mathrm{O}\\left(\\delta^{2}\\right)$"
      ],
      "text/plain": [
       "<IPython.core.display.Math object>"
      ]
     },
     "metadata": {},
     "output_type": "display_data"
    },
    {
     "data": {
      "text/latex": [
       "$\\displaystyle {R}{}_{1\n",
       "}{}_{3\n",
       "} = \\left(-2\\,\\frac{\\partial }{\\partial x}\\frac{\\partial }{\\partial z}\\phi\\left(\\eta,x,y,z\\right)+\\frac{\\partial }{\\partial z}\\frac{\\partial }{\\partial x}\\phi\\left(\\eta,x,y,z\\right)-\\frac{\\partial }{\\partial x}\\frac{\\partial }{\\partial z}\\psi\\left(\\eta,x,y,z\\right)\\right) \\delta+\\mathrm{O}\\left(\\delta^{2}\\right)$"
      ],
      "text/plain": [
       "<IPython.core.display.Math object>"
      ]
     },
     "metadata": {},
     "output_type": "display_data"
    },
    {
     "data": {
      "text/latex": [
       "$\\displaystyle {R}{}_{2\n",
       "}{}_{0\n",
       "} = \\frac{\\left(2\\,\\frac{\\mathrm{d}}{\\mathrm{d}\\eta}\\,a\\left(\\eta\\right) \\frac{\\partial }{\\partial y}\\psi\\left(\\eta,x,y,z\\right)-2\\,\\frac{\\partial }{\\partial \\eta}\\frac{\\partial }{\\partial y}\\phi\\left(\\eta,x,y,z\\right) a\\left(\\eta\\right)-\\frac{\\partial }{\\partial \\eta}\\frac{\\partial }{\\partial y}\\psi\\left(\\eta,x,y,z\\right) a\\left(\\eta\\right)+\\frac{\\partial }{\\partial y}\\frac{\\partial }{\\partial \\eta}\\psi\\left(\\eta,x,y,z\\right) a\\left(\\eta\\right)\\right) \\delta}{a\\left(\\eta\\right)}+\\mathrm{O}\\left(\\delta^{2}\\right)$"
      ],
      "text/plain": [
       "<IPython.core.display.Math object>"
      ]
     },
     "metadata": {},
     "output_type": "display_data"
    },
    {
     "data": {
      "text/latex": [
       "$\\displaystyle {R}{}_{2\n",
       "}{}_{1\n",
       "} = \\left(-2\\,\\frac{\\partial }{\\partial x}\\frac{\\partial }{\\partial y}\\phi\\left(\\eta,x,y,z\\right)+\\frac{\\partial }{\\partial y}\\frac{\\partial }{\\partial x}\\phi\\left(\\eta,x,y,z\\right)-\\frac{\\partial }{\\partial x}\\frac{\\partial }{\\partial y}\\psi\\left(\\eta,x,y,z\\right)\\right) \\delta+\\mathrm{O}\\left(\\delta^{2}\\right)$"
      ],
      "text/plain": [
       "<IPython.core.display.Math object>"
      ]
     },
     "metadata": {},
     "output_type": "display_data"
    },
    {
     "data": {
      "text/latex": [
       "$\\displaystyle {R}{}_{2\n",
       "}{}_{2\n",
       "} = \\frac{\\left(\\frac{\\mathrm{d}}{\\mathrm{d}\\eta}\\,a\\left(\\eta\\right)\\right)^{2}+\\frac{\\mathrm{d}^{2}}{\\mathrm{d}\\eta^{2}}\\,a\\left(\\eta\\right) a\\left(\\eta\\right)}{a\\left(\\eta\\right)^{2}}+\\frac{\\left(2 \\left(\\frac{\\mathrm{d}}{\\mathrm{d}\\eta}\\,a\\left(\\eta\\right)\\right)^{2}\\,\\phi\\left(\\eta,x,y,z\\right)-2 \\left(\\frac{\\mathrm{d}}{\\mathrm{d}\\eta}\\,a\\left(\\eta\\right)\\right)^{2}\\,\\psi\\left(\\eta,x,y,z\\right)+5\\,\\frac{\\mathrm{d}}{\\mathrm{d}\\eta}\\,a\\left(\\eta\\right) \\frac{\\partial }{\\partial \\eta}\\phi\\left(\\eta,x,y,z\\right) a\\left(\\eta\\right)-\\frac{\\mathrm{d}}{\\mathrm{d}\\eta}\\,a\\left(\\eta\\right) \\frac{\\partial }{\\partial \\eta}\\psi\\left(\\eta,x,y,z\\right) a\\left(\\eta\\right)+2\\,\\frac{\\mathrm{d}^{2}}{\\mathrm{d}\\eta^{2}}\\,a\\left(\\eta\\right) a\\left(\\eta\\right) \\phi\\left(\\eta,x,y,z\\right)-2\\,\\frac{\\mathrm{d}^{2}}{\\mathrm{d}\\eta^{2}}\\,a\\left(\\eta\\right) a\\left(\\eta\\right) \\psi\\left(\\eta,x,y,z\\right)+\\frac{\\partial^2 }{\\partial \\eta^2}\\phi\\left(\\eta,x,y,z\\right) a\\left(\\eta\\right)^{2}-\\frac{\\partial^2 }{\\partial x^2}\\phi\\left(\\eta,x,y,z\\right) a\\left(\\eta\\right)^{2}-2\\,\\frac{\\partial^2 }{\\partial y^2}\\phi\\left(\\eta,x,y,z\\right) a\\left(\\eta\\right)^{2}-\\frac{\\partial^2 }{\\partial z^2}\\phi\\left(\\eta,x,y,z\\right) a\\left(\\eta\\right)^{2}-\\frac{\\partial^2 }{\\partial y^2}\\psi\\left(\\eta,x,y,z\\right) a\\left(\\eta\\right)^{2}\\right) \\delta}{a\\left(\\eta\\right)^{2}}+\\mathrm{O}\\left(\\delta^{2}\\right)$"
      ],
      "text/plain": [
       "<IPython.core.display.Math object>"
      ]
     },
     "metadata": {},
     "output_type": "display_data"
    },
    {
     "data": {
      "text/latex": [
       "$\\displaystyle {R}{}_{2\n",
       "}{}_{3\n",
       "} = \\left(-2\\,\\frac{\\partial }{\\partial y}\\frac{\\partial }{\\partial z}\\phi\\left(\\eta,x,y,z\\right)+\\frac{\\partial }{\\partial z}\\frac{\\partial }{\\partial y}\\phi\\left(\\eta,x,y,z\\right)-\\frac{\\partial }{\\partial y}\\frac{\\partial }{\\partial z}\\psi\\left(\\eta,x,y,z\\right)\\right) \\delta+\\mathrm{O}\\left(\\delta^{2}\\right)$"
      ],
      "text/plain": [
       "<IPython.core.display.Math object>"
      ]
     },
     "metadata": {},
     "output_type": "display_data"
    },
    {
     "data": {
      "text/latex": [
       "$\\displaystyle {R}{}_{3\n",
       "}{}_{0\n",
       "} = \\frac{\\left(2\\,\\frac{\\mathrm{d}}{\\mathrm{d}\\eta}\\,a\\left(\\eta\\right) \\frac{\\partial }{\\partial z}\\psi\\left(\\eta,x,y,z\\right)-2\\,\\frac{\\partial }{\\partial \\eta}\\frac{\\partial }{\\partial z}\\phi\\left(\\eta,x,y,z\\right) a\\left(\\eta\\right)-\\frac{\\partial }{\\partial \\eta}\\frac{\\partial }{\\partial z}\\psi\\left(\\eta,x,y,z\\right) a\\left(\\eta\\right)+\\frac{\\partial }{\\partial z}\\frac{\\partial }{\\partial \\eta}\\psi\\left(\\eta,x,y,z\\right) a\\left(\\eta\\right)\\right) \\delta}{a\\left(\\eta\\right)}+\\mathrm{O}\\left(\\delta^{2}\\right)$"
      ],
      "text/plain": [
       "<IPython.core.display.Math object>"
      ]
     },
     "metadata": {},
     "output_type": "display_data"
    },
    {
     "data": {
      "text/latex": [
       "$\\displaystyle {R}{}_{3\n",
       "}{}_{1\n",
       "} = \\left(-2\\,\\frac{\\partial }{\\partial x}\\frac{\\partial }{\\partial z}\\phi\\left(\\eta,x,y,z\\right)+\\frac{\\partial }{\\partial z}\\frac{\\partial }{\\partial x}\\phi\\left(\\eta,x,y,z\\right)-\\frac{\\partial }{\\partial x}\\frac{\\partial }{\\partial z}\\psi\\left(\\eta,x,y,z\\right)\\right) \\delta+\\mathrm{O}\\left(\\delta^{2}\\right)$"
      ],
      "text/plain": [
       "<IPython.core.display.Math object>"
      ]
     },
     "metadata": {},
     "output_type": "display_data"
    },
    {
     "data": {
      "text/latex": [
       "$\\displaystyle {R}{}_{3\n",
       "}{}_{2\n",
       "} = \\left(-2\\,\\frac{\\partial }{\\partial y}\\frac{\\partial }{\\partial z}\\phi\\left(\\eta,x,y,z\\right)+\\frac{\\partial }{\\partial z}\\frac{\\partial }{\\partial y}\\phi\\left(\\eta,x,y,z\\right)-\\frac{\\partial }{\\partial y}\\frac{\\partial }{\\partial z}\\psi\\left(\\eta,x,y,z\\right)\\right) \\delta+\\mathrm{O}\\left(\\delta^{2}\\right)$"
      ],
      "text/plain": [
       "<IPython.core.display.Math object>"
      ]
     },
     "metadata": {},
     "output_type": "display_data"
    },
    {
     "data": {
      "text/latex": [
       "$\\displaystyle {R}{}_{3\n",
       "}{}_{3\n",
       "} = \\frac{\\left(\\frac{\\mathrm{d}}{\\mathrm{d}\\eta}\\,a\\left(\\eta\\right)\\right)^{2}+\\frac{\\mathrm{d}^{2}}{\\mathrm{d}\\eta^{2}}\\,a\\left(\\eta\\right) a\\left(\\eta\\right)}{a\\left(\\eta\\right)^{2}}+\\frac{\\left(2 \\left(\\frac{\\mathrm{d}}{\\mathrm{d}\\eta}\\,a\\left(\\eta\\right)\\right)^{2}\\,\\phi\\left(\\eta,x,y,z\\right)-2 \\left(\\frac{\\mathrm{d}}{\\mathrm{d}\\eta}\\,a\\left(\\eta\\right)\\right)^{2}\\,\\psi\\left(\\eta,x,y,z\\right)+5\\,\\frac{\\mathrm{d}}{\\mathrm{d}\\eta}\\,a\\left(\\eta\\right) \\frac{\\partial }{\\partial \\eta}\\phi\\left(\\eta,x,y,z\\right) a\\left(\\eta\\right)-\\frac{\\mathrm{d}}{\\mathrm{d}\\eta}\\,a\\left(\\eta\\right) \\frac{\\partial }{\\partial \\eta}\\psi\\left(\\eta,x,y,z\\right) a\\left(\\eta\\right)+2\\,\\frac{\\mathrm{d}^{2}}{\\mathrm{d}\\eta^{2}}\\,a\\left(\\eta\\right) a\\left(\\eta\\right) \\phi\\left(\\eta,x,y,z\\right)-2\\,\\frac{\\mathrm{d}^{2}}{\\mathrm{d}\\eta^{2}}\\,a\\left(\\eta\\right) a\\left(\\eta\\right) \\psi\\left(\\eta,x,y,z\\right)+\\frac{\\partial^2 }{\\partial \\eta^2}\\phi\\left(\\eta,x,y,z\\right) a\\left(\\eta\\right)^{2}-\\frac{\\partial^2 }{\\partial x^2}\\phi\\left(\\eta,x,y,z\\right) a\\left(\\eta\\right)^{2}-\\frac{\\partial^2 }{\\partial y^2}\\phi\\left(\\eta,x,y,z\\right) a\\left(\\eta\\right)^{2}-2\\,\\frac{\\partial^2 }{\\partial z^2}\\phi\\left(\\eta,x,y,z\\right) a\\left(\\eta\\right)^{2}-\\frac{\\partial^2 }{\\partial z^2}\\psi\\left(\\eta,x,y,z\\right) a\\left(\\eta\\right)^{2}\\right) \\delta}{a\\left(\\eta\\right)^{2}}+\\mathrm{O}\\left(\\delta^{2}\\right)$"
      ],
      "text/plain": [
       "<IPython.core.display.Math object>"
      ]
     },
     "metadata": {},
     "output_type": "display_data"
    },
    {
     "data": {
      "text/latex": [
       "$\\displaystyle \\frac{6\\,\\frac{\\mathrm{d}^{2}}{\\mathrm{d}\\eta^{2}}\\,a\\left(\\eta\\right)}{a\\left(\\eta\\right)^{3}}+\\frac{\\left(18\\,\\frac{\\mathrm{d}}{\\mathrm{d}\\eta}\\,a\\left(\\eta\\right) \\frac{\\partial }{\\partial \\eta}\\phi\\left(\\eta,x,y,z\\right)-6\\,\\frac{\\mathrm{d}}{\\mathrm{d}\\eta}\\,a\\left(\\eta\\right) \\frac{\\partial }{\\partial \\eta}\\psi\\left(\\eta,x,y,z\\right)-12\\,\\frac{\\mathrm{d}^{2}}{\\mathrm{d}\\eta^{2}}\\,a\\left(\\eta\\right) \\psi\\left(\\eta,x,y,z\\right)+6\\,\\frac{\\partial^2 }{\\partial \\eta^2}\\phi\\left(\\eta,x,y,z\\right) a\\left(\\eta\\right)-4\\,\\frac{\\partial^2 }{\\partial x^2}\\phi\\left(\\eta,x,y,z\\right) a\\left(\\eta\\right)-4\\,\\frac{\\partial^2 }{\\partial y^2}\\phi\\left(\\eta,x,y,z\\right) a\\left(\\eta\\right)-4\\,\\frac{\\partial^2 }{\\partial z^2}\\phi\\left(\\eta,x,y,z\\right) a\\left(\\eta\\right)-2\\,\\frac{\\partial^2 }{\\partial x^2}\\psi\\left(\\eta,x,y,z\\right) a\\left(\\eta\\right)-2\\,\\frac{\\partial^2 }{\\partial y^2}\\psi\\left(\\eta,x,y,z\\right) a\\left(\\eta\\right)-2\\,\\frac{\\partial^2 }{\\partial z^2}\\psi\\left(\\eta,x,y,z\\right) a\\left(\\eta\\right)\\right) \\delta}{a\\left(\\eta\\right)^{3}}+\\mathrm{O}\\left(\\delta^{2}\\right)$"
      ],
      "text/plain": [
       "<IPython.core.display.Math object>"
      ]
     },
     "metadata": {},
     "output_type": "display_data"
    }
   ],
   "source": [
    "# To display the Ricci Tensor (by default it displays the tensor with all lower indices):\n",
    "Ric.display(aslist=True)\n",
    "\n",
    "# To display the Ricci Scalar:\n",
    "RicS.display()"
   ]
  },
  {
   "cell_type": "code",
   "execution_count": 14,
   "metadata": {},
   "outputs": [
    {
     "data": {
      "text/latex": [
       "Einstein Tensor $G_{\\alpha \\beta}$"
      ],
      "text/plain": [
       "<IPython.core.display.Latex object>"
      ]
     },
     "metadata": {},
     "output_type": "display_data"
    },
    {
     "data": {
      "application/vnd.jupyter.widget-view+json": {
       "model_id": "715712b7d89b4ec3879dabc1cf530f29",
       "version_major": 2,
       "version_minor": 0
      },
      "text/plain": [
       "  0%|          | 0/16 [00:00<?, ?it/s]"
      ]
     },
     "metadata": {},
     "output_type": "display_data"
    },
    {
     "data": {
      "application/vnd.jupyter.widget-view+json": {
       "model_id": "ca942ad1892645da9952f974b487dc0b",
       "version_major": 2,
       "version_minor": 0
      },
      "text/plain": [
       "Einstein Tensor $G{^\\alpha}{_\\beta}$:   0%|          | 0/16 [00:00<?, ?it/s]"
      ]
     },
     "metadata": {},
     "output_type": "display_data"
    },
    {
     "data": {
      "application/vnd.jupyter.widget-view+json": {
       "model_id": "817d53e0ed694f72bbbc091786b80610",
       "version_major": 2,
       "version_minor": 0
      },
      "text/plain": [
       "Einstein Tensor $G{^\\alpha}{^\\beta}$:   0%|          | 0/16 [00:00<?, ?it/s]"
      ]
     },
     "metadata": {},
     "output_type": "display_data"
    },
    {
     "data": {
      "application/vnd.jupyter.widget-view+json": {
       "model_id": "b0857883dff349298dc3958b38840586",
       "version_major": 2,
       "version_minor": 0
      },
      "text/plain": [
       "Einstein Tensor $G{_\\alpha}{^\\beta}$:   0%|          | 0/16 [00:00<?, ?it/s]"
      ]
     },
     "metadata": {},
     "output_type": "display_data"
    },
    {
     "data": {
      "text/latex": [
       "All other indexes of Einstein Tensor $G$  already calculated."
      ],
      "text/plain": [
       "<IPython.core.display.Latex object>"
      ]
     },
     "metadata": {},
     "output_type": "display_data"
    },
    {
     "data": {
      "text/latex": [
       "$\\displaystyle {G}{}^{0\n",
       "}{}_{0\n",
       "} = -\\frac{3 \\left(\\frac{\\mathrm{d}}{\\mathrm{d}\\eta}\\,a\\left(\\eta\\right)\\right)^{2}}{a\\left(\\eta\\right)^{4}}+\\frac{\\left(6 \\left(\\frac{\\mathrm{d}}{\\mathrm{d}\\eta}\\,a\\left(\\eta\\right)\\right)^{2}\\,\\psi\\left(\\eta,x,y,z\\right)-6\\,\\frac{\\mathrm{d}}{\\mathrm{d}\\eta}\\,a\\left(\\eta\\right) \\frac{\\partial }{\\partial \\eta}\\phi\\left(\\eta,x,y,z\\right) a\\left(\\eta\\right)+2\\,\\frac{\\partial^2 }{\\partial x^2}\\phi\\left(\\eta,x,y,z\\right) a\\left(\\eta\\right)^{2}+2\\,\\frac{\\partial^2 }{\\partial y^2}\\phi\\left(\\eta,x,y,z\\right) a\\left(\\eta\\right)^{2}+2\\,\\frac{\\partial^2 }{\\partial z^2}\\phi\\left(\\eta,x,y,z\\right) a\\left(\\eta\\right)^{2}\\right) \\delta}{a\\left(\\eta\\right)^{4}}+\\mathrm{O}\\left(\\delta^{2}\\right)$"
      ],
      "text/plain": [
       "<IPython.core.display.Math object>"
      ]
     },
     "metadata": {},
     "output_type": "display_data"
    },
    {
     "data": {
      "text/latex": [
       "$\\displaystyle {G}{}^{0\n",
       "}{}_{1\n",
       "} = \\frac{\\left(-2\\,\\frac{\\mathrm{d}}{\\mathrm{d}\\eta}\\,a\\left(\\eta\\right) \\frac{\\partial }{\\partial x}\\psi\\left(\\eta,x,y,z\\right)+2\\,\\frac{\\partial }{\\partial \\eta}\\frac{\\partial }{\\partial x}\\phi\\left(\\eta,x,y,z\\right) a\\left(\\eta\\right)+\\frac{\\partial }{\\partial \\eta}\\frac{\\partial }{\\partial x}\\psi\\left(\\eta,x,y,z\\right) a\\left(\\eta\\right)-\\frac{\\partial }{\\partial x}\\frac{\\partial }{\\partial \\eta}\\psi\\left(\\eta,x,y,z\\right) a\\left(\\eta\\right)\\right) \\delta}{a\\left(\\eta\\right)^{3}}+\\mathrm{O}\\left(\\delta^{2}\\right)$"
      ],
      "text/plain": [
       "<IPython.core.display.Math object>"
      ]
     },
     "metadata": {},
     "output_type": "display_data"
    },
    {
     "data": {
      "text/latex": [
       "$\\displaystyle {G}{}^{0\n",
       "}{}_{2\n",
       "} = \\frac{\\left(-2\\,\\frac{\\mathrm{d}}{\\mathrm{d}\\eta}\\,a\\left(\\eta\\right) \\frac{\\partial }{\\partial y}\\psi\\left(\\eta,x,y,z\\right)+2\\,\\frac{\\partial }{\\partial \\eta}\\frac{\\partial }{\\partial y}\\phi\\left(\\eta,x,y,z\\right) a\\left(\\eta\\right)+\\frac{\\partial }{\\partial \\eta}\\frac{\\partial }{\\partial y}\\psi\\left(\\eta,x,y,z\\right) a\\left(\\eta\\right)-\\frac{\\partial }{\\partial y}\\frac{\\partial }{\\partial \\eta}\\psi\\left(\\eta,x,y,z\\right) a\\left(\\eta\\right)\\right) \\delta}{a\\left(\\eta\\right)^{3}}+\\mathrm{O}\\left(\\delta^{2}\\right)$"
      ],
      "text/plain": [
       "<IPython.core.display.Math object>"
      ]
     },
     "metadata": {},
     "output_type": "display_data"
    },
    {
     "data": {
      "text/latex": [
       "$\\displaystyle {G}{}^{0\n",
       "}{}_{3\n",
       "} = \\frac{\\left(-2\\,\\frac{\\mathrm{d}}{\\mathrm{d}\\eta}\\,a\\left(\\eta\\right) \\frac{\\partial }{\\partial z}\\psi\\left(\\eta,x,y,z\\right)+2\\,\\frac{\\partial }{\\partial \\eta}\\frac{\\partial }{\\partial z}\\phi\\left(\\eta,x,y,z\\right) a\\left(\\eta\\right)+\\frac{\\partial }{\\partial \\eta}\\frac{\\partial }{\\partial z}\\psi\\left(\\eta,x,y,z\\right) a\\left(\\eta\\right)-\\frac{\\partial }{\\partial z}\\frac{\\partial }{\\partial \\eta}\\psi\\left(\\eta,x,y,z\\right) a\\left(\\eta\\right)\\right) \\delta}{a\\left(\\eta\\right)^{3}}+\\mathrm{O}\\left(\\delta^{2}\\right)$"
      ],
      "text/plain": [
       "<IPython.core.display.Math object>"
      ]
     },
     "metadata": {},
     "output_type": "display_data"
    },
    {
     "data": {
      "text/latex": [
       "$\\displaystyle {G}{}^{1\n",
       "}{}_{0\n",
       "} = \\frac{\\left(2\\,\\frac{\\mathrm{d}}{\\mathrm{d}\\eta}\\,a\\left(\\eta\\right) \\frac{\\partial }{\\partial x}\\psi\\left(\\eta,x,y,z\\right)-2\\,\\frac{\\partial }{\\partial \\eta}\\frac{\\partial }{\\partial x}\\phi\\left(\\eta,x,y,z\\right) a\\left(\\eta\\right)-\\frac{\\partial }{\\partial \\eta}\\frac{\\partial }{\\partial x}\\psi\\left(\\eta,x,y,z\\right) a\\left(\\eta\\right)+\\frac{\\partial }{\\partial x}\\frac{\\partial }{\\partial \\eta}\\psi\\left(\\eta,x,y,z\\right) a\\left(\\eta\\right)\\right) \\delta}{a\\left(\\eta\\right)^{3}}+\\mathrm{O}\\left(\\delta^{2}\\right)$"
      ],
      "text/plain": [
       "<IPython.core.display.Math object>"
      ]
     },
     "metadata": {},
     "output_type": "display_data"
    },
    {
     "data": {
      "text/latex": [
       "$\\displaystyle {G}{}^{1\n",
       "}{}_{1\n",
       "} = \\frac{\\left(\\frac{\\mathrm{d}}{\\mathrm{d}\\eta}\\,a\\left(\\eta\\right)\\right)^{2}-2\\,\\frac{\\mathrm{d}^{2}}{\\mathrm{d}\\eta^{2}}\\,a\\left(\\eta\\right) a\\left(\\eta\\right)}{a\\left(\\eta\\right)^{4}}+\\frac{\\left(-2 \\left(\\frac{\\mathrm{d}}{\\mathrm{d}\\eta}\\,a\\left(\\eta\\right)\\right)^{2}\\,\\psi\\left(\\eta,x,y,z\\right)-4\\,\\frac{\\mathrm{d}}{\\mathrm{d}\\eta}\\,a\\left(\\eta\\right) \\frac{\\partial }{\\partial \\eta}\\phi\\left(\\eta,x,y,z\\right) a\\left(\\eta\\right)+2\\,\\frac{\\mathrm{d}}{\\mathrm{d}\\eta}\\,a\\left(\\eta\\right) \\frac{\\partial }{\\partial \\eta}\\psi\\left(\\eta,x,y,z\\right) a\\left(\\eta\\right)+4\\,\\frac{\\mathrm{d}^{2}}{\\mathrm{d}\\eta^{2}}\\,a\\left(\\eta\\right) a\\left(\\eta\\right) \\psi\\left(\\eta,x,y,z\\right)-2\\,\\frac{\\partial^2 }{\\partial \\eta^2}\\phi\\left(\\eta,x,y,z\\right) a\\left(\\eta\\right)^{2}+\\frac{\\partial^2 }{\\partial y^2}\\phi\\left(\\eta,x,y,z\\right) a\\left(\\eta\\right)^{2}+\\frac{\\partial^2 }{\\partial z^2}\\phi\\left(\\eta,x,y,z\\right) a\\left(\\eta\\right)^{2}+\\frac{\\partial^2 }{\\partial y^2}\\psi\\left(\\eta,x,y,z\\right) a\\left(\\eta\\right)^{2}+\\frac{\\partial^2 }{\\partial z^2}\\psi\\left(\\eta,x,y,z\\right) a\\left(\\eta\\right)^{2}\\right) \\delta}{a\\left(\\eta\\right)^{4}}+\\mathrm{O}\\left(\\delta^{2}\\right)$"
      ],
      "text/plain": [
       "<IPython.core.display.Math object>"
      ]
     },
     "metadata": {},
     "output_type": "display_data"
    },
    {
     "data": {
      "text/latex": [
       "$\\displaystyle {G}{}^{1\n",
       "}{}_{2\n",
       "} = \\frac{\\left(-2\\,\\frac{\\partial }{\\partial x}\\frac{\\partial }{\\partial y}\\phi\\left(\\eta,x,y,z\\right)+\\frac{\\partial }{\\partial y}\\frac{\\partial }{\\partial x}\\phi\\left(\\eta,x,y,z\\right)-\\frac{\\partial }{\\partial x}\\frac{\\partial }{\\partial y}\\psi\\left(\\eta,x,y,z\\right)\\right) \\delta}{a\\left(\\eta\\right)^{2}}+\\mathrm{O}\\left(\\delta^{2}\\right)$"
      ],
      "text/plain": [
       "<IPython.core.display.Math object>"
      ]
     },
     "metadata": {},
     "output_type": "display_data"
    },
    {
     "data": {
      "text/latex": [
       "$\\displaystyle {G}{}^{1\n",
       "}{}_{3\n",
       "} = \\frac{\\left(-2\\,\\frac{\\partial }{\\partial x}\\frac{\\partial }{\\partial z}\\phi\\left(\\eta,x,y,z\\right)+\\frac{\\partial }{\\partial z}\\frac{\\partial }{\\partial x}\\phi\\left(\\eta,x,y,z\\right)-\\frac{\\partial }{\\partial x}\\frac{\\partial }{\\partial z}\\psi\\left(\\eta,x,y,z\\right)\\right) \\delta}{a\\left(\\eta\\right)^{2}}+\\mathrm{O}\\left(\\delta^{2}\\right)$"
      ],
      "text/plain": [
       "<IPython.core.display.Math object>"
      ]
     },
     "metadata": {},
     "output_type": "display_data"
    },
    {
     "data": {
      "text/latex": [
       "$\\displaystyle {G}{}^{2\n",
       "}{}_{0\n",
       "} = \\frac{\\left(2\\,\\frac{\\mathrm{d}}{\\mathrm{d}\\eta}\\,a\\left(\\eta\\right) \\frac{\\partial }{\\partial y}\\psi\\left(\\eta,x,y,z\\right)-2\\,\\frac{\\partial }{\\partial \\eta}\\frac{\\partial }{\\partial y}\\phi\\left(\\eta,x,y,z\\right) a\\left(\\eta\\right)-\\frac{\\partial }{\\partial \\eta}\\frac{\\partial }{\\partial y}\\psi\\left(\\eta,x,y,z\\right) a\\left(\\eta\\right)+\\frac{\\partial }{\\partial y}\\frac{\\partial }{\\partial \\eta}\\psi\\left(\\eta,x,y,z\\right) a\\left(\\eta\\right)\\right) \\delta}{a\\left(\\eta\\right)^{3}}+\\mathrm{O}\\left(\\delta^{2}\\right)$"
      ],
      "text/plain": [
       "<IPython.core.display.Math object>"
      ]
     },
     "metadata": {},
     "output_type": "display_data"
    },
    {
     "data": {
      "text/latex": [
       "$\\displaystyle {G}{}^{2\n",
       "}{}_{1\n",
       "} = \\frac{\\left(-2\\,\\frac{\\partial }{\\partial x}\\frac{\\partial }{\\partial y}\\phi\\left(\\eta,x,y,z\\right)+\\frac{\\partial }{\\partial y}\\frac{\\partial }{\\partial x}\\phi\\left(\\eta,x,y,z\\right)-\\frac{\\partial }{\\partial x}\\frac{\\partial }{\\partial y}\\psi\\left(\\eta,x,y,z\\right)\\right) \\delta}{a\\left(\\eta\\right)^{2}}+\\mathrm{O}\\left(\\delta^{2}\\right)$"
      ],
      "text/plain": [
       "<IPython.core.display.Math object>"
      ]
     },
     "metadata": {},
     "output_type": "display_data"
    },
    {
     "data": {
      "text/latex": [
       "$\\displaystyle {G}{}^{2\n",
       "}{}_{2\n",
       "} = \\frac{\\left(\\frac{\\mathrm{d}}{\\mathrm{d}\\eta}\\,a\\left(\\eta\\right)\\right)^{2}-2\\,\\frac{\\mathrm{d}^{2}}{\\mathrm{d}\\eta^{2}}\\,a\\left(\\eta\\right) a\\left(\\eta\\right)}{a\\left(\\eta\\right)^{4}}+\\frac{\\left(-2 \\left(\\frac{\\mathrm{d}}{\\mathrm{d}\\eta}\\,a\\left(\\eta\\right)\\right)^{2}\\,\\psi\\left(\\eta,x,y,z\\right)-4\\,\\frac{\\mathrm{d}}{\\mathrm{d}\\eta}\\,a\\left(\\eta\\right) \\frac{\\partial }{\\partial \\eta}\\phi\\left(\\eta,x,y,z\\right) a\\left(\\eta\\right)+2\\,\\frac{\\mathrm{d}}{\\mathrm{d}\\eta}\\,a\\left(\\eta\\right) \\frac{\\partial }{\\partial \\eta}\\psi\\left(\\eta,x,y,z\\right) a\\left(\\eta\\right)+4\\,\\frac{\\mathrm{d}^{2}}{\\mathrm{d}\\eta^{2}}\\,a\\left(\\eta\\right) a\\left(\\eta\\right) \\psi\\left(\\eta,x,y,z\\right)-2\\,\\frac{\\partial^2 }{\\partial \\eta^2}\\phi\\left(\\eta,x,y,z\\right) a\\left(\\eta\\right)^{2}+\\frac{\\partial^2 }{\\partial x^2}\\phi\\left(\\eta,x,y,z\\right) a\\left(\\eta\\right)^{2}+\\frac{\\partial^2 }{\\partial z^2}\\phi\\left(\\eta,x,y,z\\right) a\\left(\\eta\\right)^{2}+\\frac{\\partial^2 }{\\partial x^2}\\psi\\left(\\eta,x,y,z\\right) a\\left(\\eta\\right)^{2}+\\frac{\\partial^2 }{\\partial z^2}\\psi\\left(\\eta,x,y,z\\right) a\\left(\\eta\\right)^{2}\\right) \\delta}{a\\left(\\eta\\right)^{4}}+\\mathrm{O}\\left(\\delta^{2}\\right)$"
      ],
      "text/plain": [
       "<IPython.core.display.Math object>"
      ]
     },
     "metadata": {},
     "output_type": "display_data"
    },
    {
     "data": {
      "text/latex": [
       "$\\displaystyle {G}{}^{2\n",
       "}{}_{3\n",
       "} = \\frac{\\left(-2\\,\\frac{\\partial }{\\partial y}\\frac{\\partial }{\\partial z}\\phi\\left(\\eta,x,y,z\\right)+\\frac{\\partial }{\\partial z}\\frac{\\partial }{\\partial y}\\phi\\left(\\eta,x,y,z\\right)-\\frac{\\partial }{\\partial y}\\frac{\\partial }{\\partial z}\\psi\\left(\\eta,x,y,z\\right)\\right) \\delta}{a\\left(\\eta\\right)^{2}}+\\mathrm{O}\\left(\\delta^{2}\\right)$"
      ],
      "text/plain": [
       "<IPython.core.display.Math object>"
      ]
     },
     "metadata": {},
     "output_type": "display_data"
    },
    {
     "data": {
      "text/latex": [
       "$\\displaystyle {G}{}^{3\n",
       "}{}_{0\n",
       "} = \\frac{\\left(2\\,\\frac{\\mathrm{d}}{\\mathrm{d}\\eta}\\,a\\left(\\eta\\right) \\frac{\\partial }{\\partial z}\\psi\\left(\\eta,x,y,z\\right)-2\\,\\frac{\\partial }{\\partial \\eta}\\frac{\\partial }{\\partial z}\\phi\\left(\\eta,x,y,z\\right) a\\left(\\eta\\right)-\\frac{\\partial }{\\partial \\eta}\\frac{\\partial }{\\partial z}\\psi\\left(\\eta,x,y,z\\right) a\\left(\\eta\\right)+\\frac{\\partial }{\\partial z}\\frac{\\partial }{\\partial \\eta}\\psi\\left(\\eta,x,y,z\\right) a\\left(\\eta\\right)\\right) \\delta}{a\\left(\\eta\\right)^{3}}+\\mathrm{O}\\left(\\delta^{2}\\right)$"
      ],
      "text/plain": [
       "<IPython.core.display.Math object>"
      ]
     },
     "metadata": {},
     "output_type": "display_data"
    },
    {
     "data": {
      "text/latex": [
       "$\\displaystyle {G}{}^{3\n",
       "}{}_{1\n",
       "} = \\frac{\\left(-2\\,\\frac{\\partial }{\\partial x}\\frac{\\partial }{\\partial z}\\phi\\left(\\eta,x,y,z\\right)+\\frac{\\partial }{\\partial z}\\frac{\\partial }{\\partial x}\\phi\\left(\\eta,x,y,z\\right)-\\frac{\\partial }{\\partial x}\\frac{\\partial }{\\partial z}\\psi\\left(\\eta,x,y,z\\right)\\right) \\delta}{a\\left(\\eta\\right)^{2}}+\\mathrm{O}\\left(\\delta^{2}\\right)$"
      ],
      "text/plain": [
       "<IPython.core.display.Math object>"
      ]
     },
     "metadata": {},
     "output_type": "display_data"
    },
    {
     "data": {
      "text/latex": [
       "$\\displaystyle {G}{}^{3\n",
       "}{}_{2\n",
       "} = \\frac{\\left(-2\\,\\frac{\\partial }{\\partial y}\\frac{\\partial }{\\partial z}\\phi\\left(\\eta,x,y,z\\right)+\\frac{\\partial }{\\partial z}\\frac{\\partial }{\\partial y}\\phi\\left(\\eta,x,y,z\\right)-\\frac{\\partial }{\\partial y}\\frac{\\partial }{\\partial z}\\psi\\left(\\eta,x,y,z\\right)\\right) \\delta}{a\\left(\\eta\\right)^{2}}+\\mathrm{O}\\left(\\delta^{2}\\right)$"
      ],
      "text/plain": [
       "<IPython.core.display.Math object>"
      ]
     },
     "metadata": {},
     "output_type": "display_data"
    },
    {
     "data": {
      "text/latex": [
       "$\\displaystyle {G}{}^{3\n",
       "}{}_{3\n",
       "} = \\frac{\\left(\\frac{\\mathrm{d}}{\\mathrm{d}\\eta}\\,a\\left(\\eta\\right)\\right)^{2}-2\\,\\frac{\\mathrm{d}^{2}}{\\mathrm{d}\\eta^{2}}\\,a\\left(\\eta\\right) a\\left(\\eta\\right)}{a\\left(\\eta\\right)^{4}}+\\frac{\\left(-2 \\left(\\frac{\\mathrm{d}}{\\mathrm{d}\\eta}\\,a\\left(\\eta\\right)\\right)^{2}\\,\\psi\\left(\\eta,x,y,z\\right)-4\\,\\frac{\\mathrm{d}}{\\mathrm{d}\\eta}\\,a\\left(\\eta\\right) \\frac{\\partial }{\\partial \\eta}\\phi\\left(\\eta,x,y,z\\right) a\\left(\\eta\\right)+2\\,\\frac{\\mathrm{d}}{\\mathrm{d}\\eta}\\,a\\left(\\eta\\right) \\frac{\\partial }{\\partial \\eta}\\psi\\left(\\eta,x,y,z\\right) a\\left(\\eta\\right)+4\\,\\frac{\\mathrm{d}^{2}}{\\mathrm{d}\\eta^{2}}\\,a\\left(\\eta\\right) a\\left(\\eta\\right) \\psi\\left(\\eta,x,y,z\\right)-2\\,\\frac{\\partial^2 }{\\partial \\eta^2}\\phi\\left(\\eta,x,y,z\\right) a\\left(\\eta\\right)^{2}+\\frac{\\partial^2 }{\\partial x^2}\\phi\\left(\\eta,x,y,z\\right) a\\left(\\eta\\right)^{2}+\\frac{\\partial^2 }{\\partial y^2}\\phi\\left(\\eta,x,y,z\\right) a\\left(\\eta\\right)^{2}+\\frac{\\partial^2 }{\\partial x^2}\\psi\\left(\\eta,x,y,z\\right) a\\left(\\eta\\right)^{2}+\\frac{\\partial^2 }{\\partial y^2}\\psi\\left(\\eta,x,y,z\\right) a\\left(\\eta\\right)^{2}\\right) \\delta}{a\\left(\\eta\\right)^{4}}+\\mathrm{O}\\left(\\delta^{2}\\right)$"
      ],
      "text/plain": [
       "<IPython.core.display.Math object>"
      ]
     },
     "metadata": {},
     "output_type": "display_data"
    }
   ],
   "source": [
    "# To calculate the default combination of the Einstein Tensor, i.e., (_,_):\n",
    "#G = pt.einstein()\n",
    "\n",
    "# To calculate all the combinations:\n",
    "G = pt.einstein(All = True)\n",
    "\n",
    "# To display the Einstein Tensor:\n",
    "G.display('^,_',aslist=True)\n",
    "\n",
    "# To show the tensor components as a list:\n",
    "# G.display(aslist = True)"
   ]
  },
  {
   "cell_type": "markdown",
   "metadata": {},
   "source": [
    "## Vector Perturbations in $G_{\\mu \\nu}$"
   ]
  },
  {
   "cell_type": "code",
   "execution_count": 15,
   "metadata": {},
   "outputs": [
    {
     "name": "stdout",
     "output_type": "stream",
     "text": [
      "The metric has already been defined. Do you want to overwrite it? (yes/no)y\n",
      "The metric has been redefined. Standard tensors have been deleted.\n",
      "\n",
      "Dimension = 4\n",
      "Coordinates = eta,x,y,z\n",
      "Metric was defined successfully: \n",
      "\n"
     ]
    },
    {
     "data": {
      "text/latex": [
       "$\\displaystyle ds^2 = \\left(-a\\left(\\eta\\right)^{2}\\right) \\cdot d\\eta^2+\\left(a\\left(\\eta\\right)^{2}\\right) \\cdot dx^2+\\left(2\\,a\\left(\\eta\\right)^{2}\\,\\mathrm{hxy}\\left(\\eta,x,y,z\\right) \\delta\\right) \\cdot dx \\cdot dy+\\left(2\\,a\\left(\\eta\\right)^{2}\\,\\mathrm{hxz}\\left(\\eta,x,y,z\\right) \\delta\\right) \\cdot dx \\cdot dz+\\left(a\\left(\\eta\\right)^{2}\\right) \\cdot dy^2+\\left(2\\,a\\left(\\eta\\right)^{2}\\,\\mathrm{hyz}\\left(\\eta,x,y,z\\right) \\delta\\right) \\cdot dy \\cdot dz+\\left(a\\left(\\eta\\right)^{2}\\right) \\cdot dz^2$"
      ],
      "text/plain": [
       "<IPython.core.display.Math object>"
      ]
     },
     "metadata": {},
     "output_type": "display_data"
    },
    {
     "data": {
      "text/latex": [
       "$\\displaystyle \\left(\\begin{array}{cccc}-a\\left(\\eta\\right)^{2}&0&0&0\\\\0&a\\left(\\eta\\right)^{2}&a\\left(\\eta\\right)^{2}\\,\\mathrm{hxy}\\left(\\eta,x,y,z\\right) \\delta&a\\left(\\eta\\right)^{2}\\,\\mathrm{hxz}\\left(\\eta,x,y,z\\right) \\delta\\\\0&a\\left(\\eta\\right)^{2}\\,\\mathrm{hxy}\\left(\\eta,x,y,z\\right) \\delta&a\\left(\\eta\\right)^{2}&a\\left(\\eta\\right)^{2}\\,\\mathrm{hyz}\\left(\\eta,x,y,z\\right) \\delta\\\\0&a\\left(\\eta\\right)^{2}\\,\\mathrm{hxz}\\left(\\eta,x,y,z\\right) \\delta&a\\left(\\eta\\right)^{2}\\,\\mathrm{hyz}\\left(\\eta,x,y,z\\right) \\delta&a\\left(\\eta\\right)^{2}\\end{array}\\right)\n",
       "$"
      ],
      "text/plain": [
       "<IPython.core.display.Math object>"
      ]
     },
     "metadata": {},
     "output_type": "display_data"
    }
   ],
   "source": [
    "# Define the coordinates to be used\n",
    "#t,x,y,z = pt.def_coords('eta,x,y,z')\n",
    "# Define any constant (more than one constant can be defined at the same time)\n",
    "#a = pt.new_fun('a','eta')\n",
    "#phi = pt.new_fun('phi','eta,x,y,z')\n",
    "#psi = pt.new_fun('psi','eta,x,y,z')\n",
    "\n",
    "hxy = pt.new_fun('hxy','eta,x,y,z')\n",
    "hxz = pt.new_fun('hxz','eta,x,y,z')\n",
    "hyz = pt.new_fun('hyz','eta,x,y,z')\n",
    "\n",
    "\n",
    "#epsilon = pt.new_con('epsilon')\n",
    "#pt.setorder(epsilon,1)\n",
    "g = pt.create_metric('ds2 = a**2*(-deta**2 + dx**2 + dy**2 + dz**2 + 2*delta*hxy*dx*dy + 2*delta*hxz*dx*dz + 2*delta*hyz*dy*dz)')"
   ]
  },
  {
   "cell_type": "code",
   "execution_count": 16,
   "metadata": {
    "scrolled": false
   },
   "outputs": [
    {
     "data": {
      "text/latex": [
       "Christoffel $\\Gamma_{\\alpha \\beta \\gamma}$ and $\\Gamma^{\\alpha}_{\\beta \\gamma}$"
      ],
      "text/plain": [
       "<IPython.core.display.Latex object>"
      ]
     },
     "metadata": {},
     "output_type": "display_data"
    },
    {
     "data": {
      "application/vnd.jupyter.widget-view+json": {
       "model_id": "bbeea89129b349c584bfd5b59aed9130",
       "version_major": 2,
       "version_minor": 0
      },
      "text/plain": [
       "  0%|          | 0/64 [00:00<?, ?it/s]"
      ]
     },
     "metadata": {},
     "output_type": "display_data"
    },
    {
     "data": {
      "text/latex": [
       "Riemann Tensor $R^{\\alpha}_{\\beta \\gamma \\delta}$"
      ],
      "text/plain": [
       "<IPython.core.display.Latex object>"
      ]
     },
     "metadata": {},
     "output_type": "display_data"
    },
    {
     "data": {
      "application/vnd.jupyter.widget-view+json": {
       "model_id": "8f1d52140a8e45b8bb97bc039904fa4e",
       "version_major": 2,
       "version_minor": 0
      },
      "text/plain": [
       "  0%|          | 0/256 [00:00<?, ?it/s]"
      ]
     },
     "metadata": {},
     "output_type": "display_data"
    },
    {
     "data": {
      "text/latex": [
       "Ricci Tensor $R_{\\alpha \\beta}$"
      ],
      "text/plain": [
       "<IPython.core.display.Latex object>"
      ]
     },
     "metadata": {},
     "output_type": "display_data"
    },
    {
     "data": {
      "application/vnd.jupyter.widget-view+json": {
       "model_id": "034dfd94db7143df829136050d3505e3",
       "version_major": 2,
       "version_minor": 0
      },
      "text/plain": [
       "  0%|          | 0/16 [00:00<?, ?it/s]"
      ]
     },
     "metadata": {},
     "output_type": "display_data"
    },
    {
     "data": {
      "text/latex": [
       "Ricci Scalar $R$"
      ],
      "text/plain": [
       "<IPython.core.display.Latex object>"
      ]
     },
     "metadata": {},
     "output_type": "display_data"
    },
    {
     "data": {
      "application/vnd.jupyter.widget-view+json": {
       "model_id": "09b784efadd8414d98767f9473773545",
       "version_major": 2,
       "version_minor": 0
      },
      "text/plain": [
       "  0%|          | 0/16 [00:00<?, ?it/s]"
      ]
     },
     "metadata": {},
     "output_type": "display_data"
    },
    {
     "data": {
      "text/latex": [
       "Einstein Tensor $G_{\\alpha \\beta}$"
      ],
      "text/plain": [
       "<IPython.core.display.Latex object>"
      ]
     },
     "metadata": {},
     "output_type": "display_data"
    },
    {
     "data": {
      "application/vnd.jupyter.widget-view+json": {
       "model_id": "1dbdb12448824953bc7202212abee80a",
       "version_major": 2,
       "version_minor": 0
      },
      "text/plain": [
       "  0%|          | 0/16 [00:00<?, ?it/s]"
      ]
     },
     "metadata": {},
     "output_type": "display_data"
    },
    {
     "data": {
      "application/vnd.jupyter.widget-view+json": {
       "model_id": "3bbbdd10a59a489fb3eb7caee661afc0",
       "version_major": 2,
       "version_minor": 0
      },
      "text/plain": [
       "Einstein Tensor $G{^\\alpha}{_\\beta}$:   0%|          | 0/16 [00:00<?, ?it/s]"
      ]
     },
     "metadata": {},
     "output_type": "display_data"
    },
    {
     "data": {
      "application/vnd.jupyter.widget-view+json": {
       "model_id": "b3d78cb4bbbf4779b1b8140f3b235f47",
       "version_major": 2,
       "version_minor": 0
      },
      "text/plain": [
       "Einstein Tensor $G{^\\alpha}{^\\beta}$:   0%|          | 0/16 [00:00<?, ?it/s]"
      ]
     },
     "metadata": {},
     "output_type": "display_data"
    },
    {
     "data": {
      "application/vnd.jupyter.widget-view+json": {
       "model_id": "ddc14d60d0ac4b4b84ef262fb5d108fc",
       "version_major": 2,
       "version_minor": 0
      },
      "text/plain": [
       "Einstein Tensor $G{_\\alpha}{^\\beta}$:   0%|          | 0/16 [00:00<?, ?it/s]"
      ]
     },
     "metadata": {},
     "output_type": "display_data"
    },
    {
     "data": {
      "text/latex": [
       "All other indexes of Einstein Tensor $G$  already calculated."
      ],
      "text/plain": [
       "<IPython.core.display.Latex object>"
      ]
     },
     "metadata": {},
     "output_type": "display_data"
    },
    {
     "data": {
      "text/latex": [
       "$\\displaystyle {G}{}^{0\n",
       "}{}_{0\n",
       "} = -\\frac{3 \\left(\\frac{\\mathrm{d}}{\\mathrm{d}\\eta}\\,a\\left(\\eta\\right)\\right)^{2}}{a\\left(\\eta\\right)^{4}}-\\frac{\\frac{1}{2} \\left(\\frac{\\partial }{\\partial x}\\frac{\\partial }{\\partial y}\\mathrm{hxy}\\left(\\eta,x,y,z\\right)+\\frac{\\partial }{\\partial y}\\frac{\\partial }{\\partial x}\\mathrm{hxy}\\left(\\eta,x,y,z\\right)+\\frac{\\partial }{\\partial x}\\frac{\\partial }{\\partial z}\\mathrm{hxz}\\left(\\eta,x,y,z\\right)+\\frac{\\partial }{\\partial z}\\frac{\\partial }{\\partial x}\\mathrm{hxz}\\left(\\eta,x,y,z\\right)+\\frac{\\partial }{\\partial y}\\frac{\\partial }{\\partial z}\\mathrm{hyz}\\left(\\eta,x,y,z\\right)+\\frac{\\partial }{\\partial z}\\frac{\\partial }{\\partial y}\\mathrm{hyz}\\left(\\eta,x,y,z\\right)\\right) \\delta}{a\\left(\\eta\\right)^{2}}+\\mathrm{O}\\left(\\delta^{2}\\right)$"
      ],
      "text/plain": [
       "<IPython.core.display.Math object>"
      ]
     },
     "metadata": {},
     "output_type": "display_data"
    },
    {
     "data": {
      "text/latex": [
       "$\\displaystyle {G}{}^{0\n",
       "}{}_{1\n",
       "} = -\\frac{\\frac{1}{2} \\left(\\frac{\\partial }{\\partial \\eta}\\frac{\\partial }{\\partial y}\\mathrm{hxy}\\left(\\eta,x,y,z\\right)+\\frac{\\partial }{\\partial \\eta}\\frac{\\partial }{\\partial z}\\mathrm{hxz}\\left(\\eta,x,y,z\\right)\\right) \\delta}{a\\left(\\eta\\right)^{2}}+\\mathrm{O}\\left(\\delta^{2}\\right)$"
      ],
      "text/plain": [
       "<IPython.core.display.Math object>"
      ]
     },
     "metadata": {},
     "output_type": "display_data"
    },
    {
     "data": {
      "text/latex": [
       "$\\displaystyle {G}{}^{0\n",
       "}{}_{2\n",
       "} = -\\frac{\\frac{1}{2} \\left(\\frac{\\partial }{\\partial \\eta}\\frac{\\partial }{\\partial x}\\mathrm{hxy}\\left(\\eta,x,y,z\\right)+\\frac{\\partial }{\\partial \\eta}\\frac{\\partial }{\\partial z}\\mathrm{hyz}\\left(\\eta,x,y,z\\right)\\right) \\delta}{a\\left(\\eta\\right)^{2}}+\\mathrm{O}\\left(\\delta^{2}\\right)$"
      ],
      "text/plain": [
       "<IPython.core.display.Math object>"
      ]
     },
     "metadata": {},
     "output_type": "display_data"
    },
    {
     "data": {
      "text/latex": [
       "$\\displaystyle {G}{}^{0\n",
       "}{}_{3\n",
       "} = -\\frac{\\frac{1}{2} \\left(\\frac{\\partial }{\\partial \\eta}\\frac{\\partial }{\\partial x}\\mathrm{hxz}\\left(\\eta,x,y,z\\right)+\\frac{\\partial }{\\partial \\eta}\\frac{\\partial }{\\partial y}\\mathrm{hyz}\\left(\\eta,x,y,z\\right)\\right) \\delta}{a\\left(\\eta\\right)^{2}}+\\mathrm{O}\\left(\\delta^{2}\\right)$"
      ],
      "text/plain": [
       "<IPython.core.display.Math object>"
      ]
     },
     "metadata": {},
     "output_type": "display_data"
    },
    {
     "data": {
      "text/latex": [
       "$\\displaystyle {G}{}^{1\n",
       "}{}_{0\n",
       "} = \\frac{\\frac{1}{2} \\left(\\frac{\\partial }{\\partial \\eta}\\frac{\\partial }{\\partial y}\\mathrm{hxy}\\left(\\eta,x,y,z\\right)+\\frac{\\partial }{\\partial \\eta}\\frac{\\partial }{\\partial z}\\mathrm{hxz}\\left(\\eta,x,y,z\\right)\\right) \\delta}{a\\left(\\eta\\right)^{2}}+\\mathrm{O}\\left(\\delta^{2}\\right)$"
      ],
      "text/plain": [
       "<IPython.core.display.Math object>"
      ]
     },
     "metadata": {},
     "output_type": "display_data"
    },
    {
     "data": {
      "text/latex": [
       "$\\displaystyle {G}{}^{1\n",
       "}{}_{1\n",
       "} = \\frac{\\left(\\frac{\\mathrm{d}}{\\mathrm{d}\\eta}\\,a\\left(\\eta\\right)\\right)^{2}-2\\,\\frac{\\mathrm{d}^{2}}{\\mathrm{d}\\eta^{2}}\\,a\\left(\\eta\\right) a\\left(\\eta\\right)}{a\\left(\\eta\\right)^{4}}+\\frac{\\frac{1}{2} \\left(\\frac{\\partial }{\\partial x}\\frac{\\partial }{\\partial y}\\mathrm{hxy}\\left(\\eta,x,y,z\\right)-\\frac{\\partial }{\\partial y}\\frac{\\partial }{\\partial x}\\mathrm{hxy}\\left(\\eta,x,y,z\\right)+\\frac{\\partial }{\\partial x}\\frac{\\partial }{\\partial z}\\mathrm{hxz}\\left(\\eta,x,y,z\\right)-\\frac{\\partial }{\\partial z}\\frac{\\partial }{\\partial x}\\mathrm{hxz}\\left(\\eta,x,y,z\\right)-\\frac{\\partial }{\\partial y}\\frac{\\partial }{\\partial z}\\mathrm{hyz}\\left(\\eta,x,y,z\\right)-\\frac{\\partial }{\\partial z}\\frac{\\partial }{\\partial y}\\mathrm{hyz}\\left(\\eta,x,y,z\\right)\\right) \\delta}{a\\left(\\eta\\right)^{2}}+\\mathrm{O}\\left(\\delta^{2}\\right)$"
      ],
      "text/plain": [
       "<IPython.core.display.Math object>"
      ]
     },
     "metadata": {},
     "output_type": "display_data"
    },
    {
     "data": {
      "text/latex": [
       "$\\displaystyle {G}{}^{1\n",
       "}{}_{2\n",
       "} = \\frac{\\frac{1}{2} \\left(2\\,\\frac{\\mathrm{d}}{\\mathrm{d}\\eta}\\,a\\left(\\eta\\right) \\frac{\\partial }{\\partial \\eta}\\mathrm{hxy}\\left(\\eta,x,y,z\\right)+\\frac{\\partial^2 }{\\partial \\eta^2}\\mathrm{hxy}\\left(\\eta,x,y,z\\right) a\\left(\\eta\\right)-\\frac{\\partial^2 }{\\partial z^2}\\mathrm{hxy}\\left(\\eta,x,y,z\\right) a\\left(\\eta\\right)+\\frac{\\partial }{\\partial y}\\frac{\\partial }{\\partial z}\\mathrm{hxz}\\left(\\eta,x,y,z\\right) a\\left(\\eta\\right)+\\frac{\\partial }{\\partial x}\\frac{\\partial }{\\partial z}\\mathrm{hyz}\\left(\\eta,x,y,z\\right) a\\left(\\eta\\right)\\right) \\delta}{a\\left(\\eta\\right)^{3}}+\\mathrm{O}\\left(\\delta^{2}\\right)$"
      ],
      "text/plain": [
       "<IPython.core.display.Math object>"
      ]
     },
     "metadata": {},
     "output_type": "display_data"
    },
    {
     "data": {
      "text/latex": [
       "$\\displaystyle {G}{}^{1\n",
       "}{}_{3\n",
       "} = \\frac{\\frac{1}{2} \\left(2\\,\\frac{\\mathrm{d}}{\\mathrm{d}\\eta}\\,a\\left(\\eta\\right) \\frac{\\partial }{\\partial \\eta}\\mathrm{hxz}\\left(\\eta,x,y,z\\right)+\\frac{\\partial }{\\partial z}\\frac{\\partial }{\\partial y}\\mathrm{hxy}\\left(\\eta,x,y,z\\right) a\\left(\\eta\\right)+\\frac{\\partial^2 }{\\partial \\eta^2}\\mathrm{hxz}\\left(\\eta,x,y,z\\right) a\\left(\\eta\\right)-\\frac{\\partial^2 }{\\partial y^2}\\mathrm{hxz}\\left(\\eta,x,y,z\\right) a\\left(\\eta\\right)+\\frac{\\partial }{\\partial x}\\frac{\\partial }{\\partial y}\\mathrm{hyz}\\left(\\eta,x,y,z\\right) a\\left(\\eta\\right)\\right) \\delta}{a\\left(\\eta\\right)^{3}}+\\mathrm{O}\\left(\\delta^{2}\\right)$"
      ],
      "text/plain": [
       "<IPython.core.display.Math object>"
      ]
     },
     "metadata": {},
     "output_type": "display_data"
    },
    {
     "data": {
      "text/latex": [
       "$\\displaystyle {G}{}^{2\n",
       "}{}_{0\n",
       "} = \\frac{\\frac{1}{2} \\left(\\frac{\\partial }{\\partial \\eta}\\frac{\\partial }{\\partial x}\\mathrm{hxy}\\left(\\eta,x,y,z\\right)+\\frac{\\partial }{\\partial \\eta}\\frac{\\partial }{\\partial z}\\mathrm{hyz}\\left(\\eta,x,y,z\\right)\\right) \\delta}{a\\left(\\eta\\right)^{2}}+\\mathrm{O}\\left(\\delta^{2}\\right)$"
      ],
      "text/plain": [
       "<IPython.core.display.Math object>"
      ]
     },
     "metadata": {},
     "output_type": "display_data"
    },
    {
     "data": {
      "text/latex": [
       "$\\displaystyle {G}{}^{2\n",
       "}{}_{1\n",
       "} = \\frac{\\frac{1}{2} \\left(2\\,\\frac{\\mathrm{d}}{\\mathrm{d}\\eta}\\,a\\left(\\eta\\right) \\frac{\\partial }{\\partial \\eta}\\mathrm{hxy}\\left(\\eta,x,y,z\\right)+\\frac{\\partial^2 }{\\partial \\eta^2}\\mathrm{hxy}\\left(\\eta,x,y,z\\right) a\\left(\\eta\\right)-\\frac{\\partial^2 }{\\partial z^2}\\mathrm{hxy}\\left(\\eta,x,y,z\\right) a\\left(\\eta\\right)+\\frac{\\partial }{\\partial y}\\frac{\\partial }{\\partial z}\\mathrm{hxz}\\left(\\eta,x,y,z\\right) a\\left(\\eta\\right)+\\frac{\\partial }{\\partial x}\\frac{\\partial }{\\partial z}\\mathrm{hyz}\\left(\\eta,x,y,z\\right) a\\left(\\eta\\right)\\right) \\delta}{a\\left(\\eta\\right)^{3}}+\\mathrm{O}\\left(\\delta^{2}\\right)$"
      ],
      "text/plain": [
       "<IPython.core.display.Math object>"
      ]
     },
     "metadata": {},
     "output_type": "display_data"
    },
    {
     "data": {
      "text/latex": [
       "$\\displaystyle {G}{}^{2\n",
       "}{}_{2\n",
       "} = \\frac{\\left(\\frac{\\mathrm{d}}{\\mathrm{d}\\eta}\\,a\\left(\\eta\\right)\\right)^{2}-2\\,\\frac{\\mathrm{d}^{2}}{\\mathrm{d}\\eta^{2}}\\,a\\left(\\eta\\right) a\\left(\\eta\\right)}{a\\left(\\eta\\right)^{4}}+\\frac{\\frac{1}{2} \\left(-\\frac{\\partial }{\\partial x}\\frac{\\partial }{\\partial y}\\mathrm{hxy}\\left(\\eta,x,y,z\\right)+\\frac{\\partial }{\\partial y}\\frac{\\partial }{\\partial x}\\mathrm{hxy}\\left(\\eta,x,y,z\\right)-\\frac{\\partial }{\\partial x}\\frac{\\partial }{\\partial z}\\mathrm{hxz}\\left(\\eta,x,y,z\\right)-\\frac{\\partial }{\\partial z}\\frac{\\partial }{\\partial x}\\mathrm{hxz}\\left(\\eta,x,y,z\\right)+\\frac{\\partial }{\\partial y}\\frac{\\partial }{\\partial z}\\mathrm{hyz}\\left(\\eta,x,y,z\\right)-\\frac{\\partial }{\\partial z}\\frac{\\partial }{\\partial y}\\mathrm{hyz}\\left(\\eta,x,y,z\\right)\\right) \\delta}{a\\left(\\eta\\right)^{2}}+\\mathrm{O}\\left(\\delta^{2}\\right)$"
      ],
      "text/plain": [
       "<IPython.core.display.Math object>"
      ]
     },
     "metadata": {},
     "output_type": "display_data"
    },
    {
     "data": {
      "text/latex": [
       "$\\displaystyle {G}{}^{2\n",
       "}{}_{3\n",
       "} = \\frac{\\frac{1}{2} \\left(2\\,\\frac{\\mathrm{d}}{\\mathrm{d}\\eta}\\,a\\left(\\eta\\right) \\frac{\\partial }{\\partial \\eta}\\mathrm{hyz}\\left(\\eta,x,y,z\\right)+\\frac{\\partial }{\\partial z}\\frac{\\partial }{\\partial x}\\mathrm{hxy}\\left(\\eta,x,y,z\\right) a\\left(\\eta\\right)+\\frac{\\partial }{\\partial y}\\frac{\\partial }{\\partial x}\\mathrm{hxz}\\left(\\eta,x,y,z\\right) a\\left(\\eta\\right)+\\frac{\\partial^2 }{\\partial \\eta^2}\\mathrm{hyz}\\left(\\eta,x,y,z\\right) a\\left(\\eta\\right)-\\frac{\\partial^2 }{\\partial x^2}\\mathrm{hyz}\\left(\\eta,x,y,z\\right) a\\left(\\eta\\right)\\right) \\delta}{a\\left(\\eta\\right)^{3}}+\\mathrm{O}\\left(\\delta^{2}\\right)$"
      ],
      "text/plain": [
       "<IPython.core.display.Math object>"
      ]
     },
     "metadata": {},
     "output_type": "display_data"
    },
    {
     "data": {
      "text/latex": [
       "$\\displaystyle {G}{}^{3\n",
       "}{}_{0\n",
       "} = \\frac{\\frac{1}{2} \\left(\\frac{\\partial }{\\partial \\eta}\\frac{\\partial }{\\partial x}\\mathrm{hxz}\\left(\\eta,x,y,z\\right)+\\frac{\\partial }{\\partial \\eta}\\frac{\\partial }{\\partial y}\\mathrm{hyz}\\left(\\eta,x,y,z\\right)\\right) \\delta}{a\\left(\\eta\\right)^{2}}+\\mathrm{O}\\left(\\delta^{2}\\right)$"
      ],
      "text/plain": [
       "<IPython.core.display.Math object>"
      ]
     },
     "metadata": {},
     "output_type": "display_data"
    },
    {
     "data": {
      "text/latex": [
       "$\\displaystyle {G}{}^{3\n",
       "}{}_{1\n",
       "} = \\frac{\\frac{1}{2} \\left(2\\,\\frac{\\mathrm{d}}{\\mathrm{d}\\eta}\\,a\\left(\\eta\\right) \\frac{\\partial }{\\partial \\eta}\\mathrm{hxz}\\left(\\eta,x,y,z\\right)+\\frac{\\partial }{\\partial z}\\frac{\\partial }{\\partial y}\\mathrm{hxy}\\left(\\eta,x,y,z\\right) a\\left(\\eta\\right)+\\frac{\\partial^2 }{\\partial \\eta^2}\\mathrm{hxz}\\left(\\eta,x,y,z\\right) a\\left(\\eta\\right)-\\frac{\\partial^2 }{\\partial y^2}\\mathrm{hxz}\\left(\\eta,x,y,z\\right) a\\left(\\eta\\right)+\\frac{\\partial }{\\partial x}\\frac{\\partial }{\\partial y}\\mathrm{hyz}\\left(\\eta,x,y,z\\right) a\\left(\\eta\\right)\\right) \\delta}{a\\left(\\eta\\right)^{3}}+\\mathrm{O}\\left(\\delta^{2}\\right)$"
      ],
      "text/plain": [
       "<IPython.core.display.Math object>"
      ]
     },
     "metadata": {},
     "output_type": "display_data"
    },
    {
     "data": {
      "text/latex": [
       "$\\displaystyle {G}{}^{3\n",
       "}{}_{2\n",
       "} = \\frac{\\frac{1}{2} \\left(2\\,\\frac{\\mathrm{d}}{\\mathrm{d}\\eta}\\,a\\left(\\eta\\right) \\frac{\\partial }{\\partial \\eta}\\mathrm{hyz}\\left(\\eta,x,y,z\\right)+\\frac{\\partial }{\\partial z}\\frac{\\partial }{\\partial x}\\mathrm{hxy}\\left(\\eta,x,y,z\\right) a\\left(\\eta\\right)+\\frac{\\partial }{\\partial y}\\frac{\\partial }{\\partial x}\\mathrm{hxz}\\left(\\eta,x,y,z\\right) a\\left(\\eta\\right)+\\frac{\\partial^2 }{\\partial \\eta^2}\\mathrm{hyz}\\left(\\eta,x,y,z\\right) a\\left(\\eta\\right)-\\frac{\\partial^2 }{\\partial x^2}\\mathrm{hyz}\\left(\\eta,x,y,z\\right) a\\left(\\eta\\right)\\right) \\delta}{a\\left(\\eta\\right)^{3}}+\\mathrm{O}\\left(\\delta^{2}\\right)$"
      ],
      "text/plain": [
       "<IPython.core.display.Math object>"
      ]
     },
     "metadata": {},
     "output_type": "display_data"
    },
    {
     "data": {
      "text/latex": [
       "$\\displaystyle {G}{}^{3\n",
       "}{}_{3\n",
       "} = \\frac{\\left(\\frac{\\mathrm{d}}{\\mathrm{d}\\eta}\\,a\\left(\\eta\\right)\\right)^{2}-2\\,\\frac{\\mathrm{d}^{2}}{\\mathrm{d}\\eta^{2}}\\,a\\left(\\eta\\right) a\\left(\\eta\\right)}{a\\left(\\eta\\right)^{4}}+\\frac{\\frac{1}{2} \\left(-\\frac{\\partial }{\\partial x}\\frac{\\partial }{\\partial y}\\mathrm{hxy}\\left(\\eta,x,y,z\\right)-\\frac{\\partial }{\\partial y}\\frac{\\partial }{\\partial x}\\mathrm{hxy}\\left(\\eta,x,y,z\\right)-\\frac{\\partial }{\\partial x}\\frac{\\partial }{\\partial z}\\mathrm{hxz}\\left(\\eta,x,y,z\\right)+\\frac{\\partial }{\\partial z}\\frac{\\partial }{\\partial x}\\mathrm{hxz}\\left(\\eta,x,y,z\\right)-\\frac{\\partial }{\\partial y}\\frac{\\partial }{\\partial z}\\mathrm{hyz}\\left(\\eta,x,y,z\\right)+\\frac{\\partial }{\\partial z}\\frac{\\partial }{\\partial y}\\mathrm{hyz}\\left(\\eta,x,y,z\\right)\\right) \\delta}{a\\left(\\eta\\right)^{2}}+\\mathrm{O}\\left(\\delta^{2}\\right)$"
      ],
      "text/plain": [
       "<IPython.core.display.Math object>"
      ]
     },
     "metadata": {},
     "output_type": "display_data"
    }
   ],
   "source": [
    "# To calculate the default combination of the Einstein Tensor, i.e., (_,_):\n",
    "#G = pt.einstein()\n",
    "\n",
    "# To calculate all the combinations:\n",
    "G = pt.einstein(All = True)\n",
    "\n",
    "# To display the Einstein Tensor:\n",
    "G.display('^,_',aslist=True)\n",
    "\n",
    "# To show the tensor components as a list:\n",
    "# G.display(aslist = True)"
   ]
  },
  {
   "cell_type": "code",
   "execution_count": 17,
   "metadata": {},
   "outputs": [
    {
     "data": {
      "text/latex": [
       "$\\displaystyle {G}{}_{0\n",
       "}{}_{0\n",
       "} = \\frac{3 \\left(\\frac{\\mathrm{d}}{\\mathrm{d}\\eta}\\,a\\left(\\eta\\right)\\right)^{2}}{a\\left(\\eta\\right)^{2}}+\\frac{1}{2} \\left(\\frac{\\partial }{\\partial x}\\frac{\\partial }{\\partial y}\\mathrm{hxy}\\left(\\eta,x,y,z\\right)+\\frac{\\partial }{\\partial y}\\frac{\\partial }{\\partial x}\\mathrm{hxy}\\left(\\eta,x,y,z\\right)+\\frac{\\partial }{\\partial x}\\frac{\\partial }{\\partial z}\\mathrm{hxz}\\left(\\eta,x,y,z\\right)+\\frac{\\partial }{\\partial z}\\frac{\\partial }{\\partial x}\\mathrm{hxz}\\left(\\eta,x,y,z\\right)+\\frac{\\partial }{\\partial y}\\frac{\\partial }{\\partial z}\\mathrm{hyz}\\left(\\eta,x,y,z\\right)+\\frac{\\partial }{\\partial z}\\frac{\\partial }{\\partial y}\\mathrm{hyz}\\left(\\eta,x,y,z\\right)\\right) \\delta+\\mathrm{O}\\left(\\delta^{2}\\right)$"
      ],
      "text/plain": [
       "<IPython.core.display.Math object>"
      ]
     },
     "metadata": {},
     "output_type": "display_data"
    },
    {
     "data": {
      "text/latex": [
       "$\\displaystyle {G}{}_{0\n",
       "}{}_{1\n",
       "} = \\frac{1}{2} \\left(\\frac{\\partial }{\\partial \\eta}\\frac{\\partial }{\\partial y}\\mathrm{hxy}\\left(\\eta,x,y,z\\right)+\\frac{\\partial }{\\partial \\eta}\\frac{\\partial }{\\partial z}\\mathrm{hxz}\\left(\\eta,x,y,z\\right)\\right) \\delta+\\mathrm{O}\\left(\\delta^{2}\\right)$"
      ],
      "text/plain": [
       "<IPython.core.display.Math object>"
      ]
     },
     "metadata": {},
     "output_type": "display_data"
    },
    {
     "data": {
      "text/latex": [
       "$\\displaystyle {G}{}_{0\n",
       "}{}_{2\n",
       "} = \\frac{1}{2} \\left(\\frac{\\partial }{\\partial \\eta}\\frac{\\partial }{\\partial x}\\mathrm{hxy}\\left(\\eta,x,y,z\\right)+\\frac{\\partial }{\\partial \\eta}\\frac{\\partial }{\\partial z}\\mathrm{hyz}\\left(\\eta,x,y,z\\right)\\right) \\delta+\\mathrm{O}\\left(\\delta^{2}\\right)$"
      ],
      "text/plain": [
       "<IPython.core.display.Math object>"
      ]
     },
     "metadata": {},
     "output_type": "display_data"
    },
    {
     "data": {
      "text/latex": [
       "$\\displaystyle {G}{}_{0\n",
       "}{}_{3\n",
       "} = \\frac{1}{2} \\left(\\frac{\\partial }{\\partial \\eta}\\frac{\\partial }{\\partial x}\\mathrm{hxz}\\left(\\eta,x,y,z\\right)+\\frac{\\partial }{\\partial \\eta}\\frac{\\partial }{\\partial y}\\mathrm{hyz}\\left(\\eta,x,y,z\\right)\\right) \\delta+\\mathrm{O}\\left(\\delta^{2}\\right)$"
      ],
      "text/plain": [
       "<IPython.core.display.Math object>"
      ]
     },
     "metadata": {},
     "output_type": "display_data"
    },
    {
     "data": {
      "text/latex": [
       "$\\displaystyle {G}{}_{1\n",
       "}{}_{0\n",
       "} = \\frac{1}{2} \\left(\\frac{\\partial }{\\partial \\eta}\\frac{\\partial }{\\partial y}\\mathrm{hxy}\\left(\\eta,x,y,z\\right)+\\frac{\\partial }{\\partial \\eta}\\frac{\\partial }{\\partial z}\\mathrm{hxz}\\left(\\eta,x,y,z\\right)\\right) \\delta+\\mathrm{O}\\left(\\delta^{2}\\right)$"
      ],
      "text/plain": [
       "<IPython.core.display.Math object>"
      ]
     },
     "metadata": {},
     "output_type": "display_data"
    },
    {
     "data": {
      "text/latex": [
       "$\\displaystyle {G}{}_{1\n",
       "}{}_{1\n",
       "} = \\frac{\\left(\\frac{\\mathrm{d}}{\\mathrm{d}\\eta}\\,a\\left(\\eta\\right)\\right)^{2}-2\\,\\frac{\\mathrm{d}^{2}}{\\mathrm{d}\\eta^{2}}\\,a\\left(\\eta\\right) a\\left(\\eta\\right)}{a\\left(\\eta\\right)^{2}}+\\left(\\frac{\\frac{\\partial }{\\partial x}\\frac{\\partial }{\\partial y}\\mathrm{hxy}\\left(\\eta,x,y,z\\right)}{2}-\\frac{\\frac{\\partial }{\\partial y}\\frac{\\partial }{\\partial x}\\mathrm{hxy}\\left(\\eta,x,y,z\\right)}{2}+\\frac{\\frac{\\partial }{\\partial x}\\frac{\\partial }{\\partial z}\\mathrm{hxz}\\left(\\eta,x,y,z\\right)}{2}-\\frac{\\frac{\\partial }{\\partial z}\\frac{\\partial }{\\partial x}\\mathrm{hxz}\\left(\\eta,x,y,z\\right)}{2}-\\frac{\\frac{\\partial }{\\partial y}\\frac{\\partial }{\\partial z}\\mathrm{hyz}\\left(\\eta,x,y,z\\right)}{2}-\\frac{\\frac{\\partial }{\\partial z}\\frac{\\partial }{\\partial y}\\mathrm{hyz}\\left(\\eta,x,y,z\\right)}{2}\\right) \\delta+\\mathrm{O}\\left(\\delta^{2}\\right)$"
      ],
      "text/plain": [
       "<IPython.core.display.Math object>"
      ]
     },
     "metadata": {},
     "output_type": "display_data"
    },
    {
     "data": {
      "text/latex": [
       "$\\displaystyle {G}{}_{1\n",
       "}{}_{2\n",
       "} = \\frac{\\frac{1}{2} \\left(2 \\left(\\frac{\\mathrm{d}}{\\mathrm{d}\\eta}\\,a\\left(\\eta\\right)\\right)^{2}\\,\\mathrm{hxy}\\left(\\eta,x,y,z\\right)+2\\,\\frac{\\mathrm{d}}{\\mathrm{d}\\eta}\\,a\\left(\\eta\\right) \\frac{\\partial }{\\partial \\eta}\\mathrm{hxy}\\left(\\eta,x,y,z\\right) a\\left(\\eta\\right)-4\\,\\frac{\\mathrm{d}^{2}}{\\mathrm{d}\\eta^{2}}\\,a\\left(\\eta\\right) a\\left(\\eta\\right) \\mathrm{hxy}\\left(\\eta,x,y,z\\right)+\\frac{\\partial^2 }{\\partial \\eta^2}\\mathrm{hxy}\\left(\\eta,x,y,z\\right) a\\left(\\eta\\right)^{2}-\\frac{\\partial^2 }{\\partial z^2}\\mathrm{hxy}\\left(\\eta,x,y,z\\right) a\\left(\\eta\\right)^{2}+\\frac{\\partial }{\\partial y}\\frac{\\partial }{\\partial z}\\mathrm{hxz}\\left(\\eta,x,y,z\\right) a\\left(\\eta\\right)^{2}+\\frac{\\partial }{\\partial x}\\frac{\\partial }{\\partial z}\\mathrm{hyz}\\left(\\eta,x,y,z\\right) a\\left(\\eta\\right)^{2}\\right) \\delta}{a\\left(\\eta\\right)^{2}}+\\mathrm{O}\\left(\\delta^{2}\\right)$"
      ],
      "text/plain": [
       "<IPython.core.display.Math object>"
      ]
     },
     "metadata": {},
     "output_type": "display_data"
    },
    {
     "data": {
      "text/latex": [
       "$\\displaystyle {G}{}_{1\n",
       "}{}_{3\n",
       "} = \\frac{\\frac{1}{2} \\left(2 \\left(\\frac{\\mathrm{d}}{\\mathrm{d}\\eta}\\,a\\left(\\eta\\right)\\right)^{2}\\,\\mathrm{hxz}\\left(\\eta,x,y,z\\right)+2\\,\\frac{\\mathrm{d}}{\\mathrm{d}\\eta}\\,a\\left(\\eta\\right) \\frac{\\partial }{\\partial \\eta}\\mathrm{hxz}\\left(\\eta,x,y,z\\right) a\\left(\\eta\\right)-4\\,\\frac{\\mathrm{d}^{2}}{\\mathrm{d}\\eta^{2}}\\,a\\left(\\eta\\right) a\\left(\\eta\\right) \\mathrm{hxz}\\left(\\eta,x,y,z\\right)+\\frac{\\partial }{\\partial z}\\frac{\\partial }{\\partial y}\\mathrm{hxy}\\left(\\eta,x,y,z\\right) a\\left(\\eta\\right)^{2}+\\frac{\\partial^2 }{\\partial \\eta^2}\\mathrm{hxz}\\left(\\eta,x,y,z\\right) a\\left(\\eta\\right)^{2}-\\frac{\\partial^2 }{\\partial y^2}\\mathrm{hxz}\\left(\\eta,x,y,z\\right) a\\left(\\eta\\right)^{2}+\\frac{\\partial }{\\partial x}\\frac{\\partial }{\\partial y}\\mathrm{hyz}\\left(\\eta,x,y,z\\right) a\\left(\\eta\\right)^{2}\\right) \\delta}{a\\left(\\eta\\right)^{2}}+\\mathrm{O}\\left(\\delta^{2}\\right)$"
      ],
      "text/plain": [
       "<IPython.core.display.Math object>"
      ]
     },
     "metadata": {},
     "output_type": "display_data"
    },
    {
     "data": {
      "text/latex": [
       "$\\displaystyle {G}{}_{2\n",
       "}{}_{0\n",
       "} = \\frac{1}{2} \\left(\\frac{\\partial }{\\partial \\eta}\\frac{\\partial }{\\partial x}\\mathrm{hxy}\\left(\\eta,x,y,z\\right)+\\frac{\\partial }{\\partial \\eta}\\frac{\\partial }{\\partial z}\\mathrm{hyz}\\left(\\eta,x,y,z\\right)\\right) \\delta+\\mathrm{O}\\left(\\delta^{2}\\right)$"
      ],
      "text/plain": [
       "<IPython.core.display.Math object>"
      ]
     },
     "metadata": {},
     "output_type": "display_data"
    },
    {
     "data": {
      "text/latex": [
       "$\\displaystyle {G}{}_{2\n",
       "}{}_{1\n",
       "} = \\frac{\\frac{1}{2} \\left(2 \\left(\\frac{\\mathrm{d}}{\\mathrm{d}\\eta}\\,a\\left(\\eta\\right)\\right)^{2}\\,\\mathrm{hxy}\\left(\\eta,x,y,z\\right)+2\\,\\frac{\\mathrm{d}}{\\mathrm{d}\\eta}\\,a\\left(\\eta\\right) \\frac{\\partial }{\\partial \\eta}\\mathrm{hxy}\\left(\\eta,x,y,z\\right) a\\left(\\eta\\right)-4\\,\\frac{\\mathrm{d}^{2}}{\\mathrm{d}\\eta^{2}}\\,a\\left(\\eta\\right) a\\left(\\eta\\right) \\mathrm{hxy}\\left(\\eta,x,y,z\\right)+\\frac{\\partial^2 }{\\partial \\eta^2}\\mathrm{hxy}\\left(\\eta,x,y,z\\right) a\\left(\\eta\\right)^{2}-\\frac{\\partial^2 }{\\partial z^2}\\mathrm{hxy}\\left(\\eta,x,y,z\\right) a\\left(\\eta\\right)^{2}+\\frac{\\partial }{\\partial y}\\frac{\\partial }{\\partial z}\\mathrm{hxz}\\left(\\eta,x,y,z\\right) a\\left(\\eta\\right)^{2}+\\frac{\\partial }{\\partial x}\\frac{\\partial }{\\partial z}\\mathrm{hyz}\\left(\\eta,x,y,z\\right) a\\left(\\eta\\right)^{2}\\right) \\delta}{a\\left(\\eta\\right)^{2}}+\\mathrm{O}\\left(\\delta^{2}\\right)$"
      ],
      "text/plain": [
       "<IPython.core.display.Math object>"
      ]
     },
     "metadata": {},
     "output_type": "display_data"
    },
    {
     "data": {
      "text/latex": [
       "$\\displaystyle {G}{}_{2\n",
       "}{}_{2\n",
       "} = \\frac{\\left(\\frac{\\mathrm{d}}{\\mathrm{d}\\eta}\\,a\\left(\\eta\\right)\\right)^{2}-2\\,\\frac{\\mathrm{d}^{2}}{\\mathrm{d}\\eta^{2}}\\,a\\left(\\eta\\right) a\\left(\\eta\\right)}{a\\left(\\eta\\right)^{2}}+\\left(-\\frac{\\frac{\\partial }{\\partial x}\\frac{\\partial }{\\partial y}\\mathrm{hxy}\\left(\\eta,x,y,z\\right)}{2}+\\frac{\\frac{\\partial }{\\partial y}\\frac{\\partial }{\\partial x}\\mathrm{hxy}\\left(\\eta,x,y,z\\right)}{2}-\\frac{\\frac{\\partial }{\\partial x}\\frac{\\partial }{\\partial z}\\mathrm{hxz}\\left(\\eta,x,y,z\\right)}{2}-\\frac{\\frac{\\partial }{\\partial z}\\frac{\\partial }{\\partial x}\\mathrm{hxz}\\left(\\eta,x,y,z\\right)}{2}+\\frac{\\frac{\\partial }{\\partial y}\\frac{\\partial }{\\partial z}\\mathrm{hyz}\\left(\\eta,x,y,z\\right)}{2}-\\frac{\\frac{\\partial }{\\partial z}\\frac{\\partial }{\\partial y}\\mathrm{hyz}\\left(\\eta,x,y,z\\right)}{2}\\right) \\delta+\\mathrm{O}\\left(\\delta^{2}\\right)$"
      ],
      "text/plain": [
       "<IPython.core.display.Math object>"
      ]
     },
     "metadata": {},
     "output_type": "display_data"
    },
    {
     "data": {
      "text/latex": [
       "$\\displaystyle {G}{}_{2\n",
       "}{}_{3\n",
       "} = \\frac{\\frac{1}{2} \\left(2 \\left(\\frac{\\mathrm{d}}{\\mathrm{d}\\eta}\\,a\\left(\\eta\\right)\\right)^{2}\\,\\mathrm{hyz}\\left(\\eta,x,y,z\\right)+2\\,\\frac{\\mathrm{d}}{\\mathrm{d}\\eta}\\,a\\left(\\eta\\right) \\frac{\\partial }{\\partial \\eta}\\mathrm{hyz}\\left(\\eta,x,y,z\\right) a\\left(\\eta\\right)-4\\,\\frac{\\mathrm{d}^{2}}{\\mathrm{d}\\eta^{2}}\\,a\\left(\\eta\\right) a\\left(\\eta\\right) \\mathrm{hyz}\\left(\\eta,x,y,z\\right)+\\frac{\\partial }{\\partial z}\\frac{\\partial }{\\partial x}\\mathrm{hxy}\\left(\\eta,x,y,z\\right) a\\left(\\eta\\right)^{2}+\\frac{\\partial }{\\partial y}\\frac{\\partial }{\\partial x}\\mathrm{hxz}\\left(\\eta,x,y,z\\right) a\\left(\\eta\\right)^{2}+\\frac{\\partial^2 }{\\partial \\eta^2}\\mathrm{hyz}\\left(\\eta,x,y,z\\right) a\\left(\\eta\\right)^{2}-\\frac{\\partial^2 }{\\partial x^2}\\mathrm{hyz}\\left(\\eta,x,y,z\\right) a\\left(\\eta\\right)^{2}\\right) \\delta}{a\\left(\\eta\\right)^{2}}+\\mathrm{O}\\left(\\delta^{2}\\right)$"
      ],
      "text/plain": [
       "<IPython.core.display.Math object>"
      ]
     },
     "metadata": {},
     "output_type": "display_data"
    },
    {
     "data": {
      "text/latex": [
       "$\\displaystyle {G}{}_{3\n",
       "}{}_{0\n",
       "} = \\frac{1}{2} \\left(\\frac{\\partial }{\\partial \\eta}\\frac{\\partial }{\\partial x}\\mathrm{hxz}\\left(\\eta,x,y,z\\right)+\\frac{\\partial }{\\partial \\eta}\\frac{\\partial }{\\partial y}\\mathrm{hyz}\\left(\\eta,x,y,z\\right)\\right) \\delta+\\mathrm{O}\\left(\\delta^{2}\\right)$"
      ],
      "text/plain": [
       "<IPython.core.display.Math object>"
      ]
     },
     "metadata": {},
     "output_type": "display_data"
    },
    {
     "data": {
      "text/latex": [
       "$\\displaystyle {G}{}_{3\n",
       "}{}_{1\n",
       "} = \\frac{\\frac{1}{2} \\left(2 \\left(\\frac{\\mathrm{d}}{\\mathrm{d}\\eta}\\,a\\left(\\eta\\right)\\right)^{2}\\,\\mathrm{hxz}\\left(\\eta,x,y,z\\right)+2\\,\\frac{\\mathrm{d}}{\\mathrm{d}\\eta}\\,a\\left(\\eta\\right) \\frac{\\partial }{\\partial \\eta}\\mathrm{hxz}\\left(\\eta,x,y,z\\right) a\\left(\\eta\\right)-4\\,\\frac{\\mathrm{d}^{2}}{\\mathrm{d}\\eta^{2}}\\,a\\left(\\eta\\right) a\\left(\\eta\\right) \\mathrm{hxz}\\left(\\eta,x,y,z\\right)+\\frac{\\partial }{\\partial z}\\frac{\\partial }{\\partial y}\\mathrm{hxy}\\left(\\eta,x,y,z\\right) a\\left(\\eta\\right)^{2}+\\frac{\\partial^2 }{\\partial \\eta^2}\\mathrm{hxz}\\left(\\eta,x,y,z\\right) a\\left(\\eta\\right)^{2}-\\frac{\\partial^2 }{\\partial y^2}\\mathrm{hxz}\\left(\\eta,x,y,z\\right) a\\left(\\eta\\right)^{2}+\\frac{\\partial }{\\partial x}\\frac{\\partial }{\\partial y}\\mathrm{hyz}\\left(\\eta,x,y,z\\right) a\\left(\\eta\\right)^{2}\\right) \\delta}{a\\left(\\eta\\right)^{2}}+\\mathrm{O}\\left(\\delta^{2}\\right)$"
      ],
      "text/plain": [
       "<IPython.core.display.Math object>"
      ]
     },
     "metadata": {},
     "output_type": "display_data"
    },
    {
     "data": {
      "text/latex": [
       "$\\displaystyle {G}{}_{3\n",
       "}{}_{2\n",
       "} = \\frac{\\frac{1}{2} \\left(2 \\left(\\frac{\\mathrm{d}}{\\mathrm{d}\\eta}\\,a\\left(\\eta\\right)\\right)^{2}\\,\\mathrm{hyz}\\left(\\eta,x,y,z\\right)+2\\,\\frac{\\mathrm{d}}{\\mathrm{d}\\eta}\\,a\\left(\\eta\\right) \\frac{\\partial }{\\partial \\eta}\\mathrm{hyz}\\left(\\eta,x,y,z\\right) a\\left(\\eta\\right)-4\\,\\frac{\\mathrm{d}^{2}}{\\mathrm{d}\\eta^{2}}\\,a\\left(\\eta\\right) a\\left(\\eta\\right) \\mathrm{hyz}\\left(\\eta,x,y,z\\right)+\\frac{\\partial }{\\partial z}\\frac{\\partial }{\\partial x}\\mathrm{hxy}\\left(\\eta,x,y,z\\right) a\\left(\\eta\\right)^{2}+\\frac{\\partial }{\\partial y}\\frac{\\partial }{\\partial x}\\mathrm{hxz}\\left(\\eta,x,y,z\\right) a\\left(\\eta\\right)^{2}+\\frac{\\partial^2 }{\\partial \\eta^2}\\mathrm{hyz}\\left(\\eta,x,y,z\\right) a\\left(\\eta\\right)^{2}-\\frac{\\partial^2 }{\\partial x^2}\\mathrm{hyz}\\left(\\eta,x,y,z\\right) a\\left(\\eta\\right)^{2}\\right) \\delta}{a\\left(\\eta\\right)^{2}}+\\mathrm{O}\\left(\\delta^{2}\\right)$"
      ],
      "text/plain": [
       "<IPython.core.display.Math object>"
      ]
     },
     "metadata": {},
     "output_type": "display_data"
    },
    {
     "data": {
      "text/latex": [
       "$\\displaystyle {G}{}_{3\n",
       "}{}_{3\n",
       "} = \\frac{\\left(\\frac{\\mathrm{d}}{\\mathrm{d}\\eta}\\,a\\left(\\eta\\right)\\right)^{2}-2\\,\\frac{\\mathrm{d}^{2}}{\\mathrm{d}\\eta^{2}}\\,a\\left(\\eta\\right) a\\left(\\eta\\right)}{a\\left(\\eta\\right)^{2}}+\\left(-\\frac{\\frac{\\partial }{\\partial x}\\frac{\\partial }{\\partial y}\\mathrm{hxy}\\left(\\eta,x,y,z\\right)}{2}-\\frac{\\frac{\\partial }{\\partial y}\\frac{\\partial }{\\partial x}\\mathrm{hxy}\\left(\\eta,x,y,z\\right)}{2}-\\frac{\\frac{\\partial }{\\partial x}\\frac{\\partial }{\\partial z}\\mathrm{hxz}\\left(\\eta,x,y,z\\right)}{2}+\\frac{\\frac{\\partial }{\\partial z}\\frac{\\partial }{\\partial x}\\mathrm{hxz}\\left(\\eta,x,y,z\\right)}{2}-\\frac{\\frac{\\partial }{\\partial y}\\frac{\\partial }{\\partial z}\\mathrm{hyz}\\left(\\eta,x,y,z\\right)}{2}+\\frac{\\frac{\\partial }{\\partial z}\\frac{\\partial }{\\partial y}\\mathrm{hyz}\\left(\\eta,x,y,z\\right)}{2}\\right) \\delta+\\mathrm{O}\\left(\\delta^{2}\\right)$"
      ],
      "text/plain": [
       "<IPython.core.display.Math object>"
      ]
     },
     "metadata": {},
     "output_type": "display_data"
    }
   ],
   "source": [
    "G.display('_,_',aslist=True)"
   ]
  },
  {
   "cell_type": "markdown",
   "metadata": {},
   "source": [
    "### Tensor Perturbations in $G_{\\mu\\nu}$"
   ]
  },
  {
   "cell_type": "code",
   "execution_count": 18,
   "metadata": {},
   "outputs": [
    {
     "name": "stdout",
     "output_type": "stream",
     "text": [
      "The metric has already been defined. Do you want to overwrite it? (yes/no)y\n",
      "The metric has been redefined. Standard tensors have been deleted.\n",
      "\n",
      "Dimension = 4\n",
      "Coordinates = eta,x,y,z\n",
      "Metric was defined successfully: \n",
      "\n"
     ]
    },
    {
     "data": {
      "text/latex": [
       "$\\displaystyle ds^2 = \\left(-a\\left(\\eta\\right)^{2}\\right) \\cdot d\\eta^2+\\left(a\\left(\\eta\\right)^{2}\\right) \\cdot dx^2+\\left(2\\,a\\left(\\eta\\right)^{2}\\,\\mathrm{hxy}\\left(\\eta,x,y,z\\right) \\delta\\right) \\cdot dx \\cdot dy+\\left(2\\,a\\left(\\eta\\right)^{2}\\,\\mathrm{hxz}\\left(\\eta,x,y,z\\right) \\delta\\right) \\cdot dx \\cdot dz+\\left(a\\left(\\eta\\right)^{2}\\right) \\cdot dy^2+\\left(2\\,a\\left(\\eta\\right)^{2}\\,\\mathrm{hyz}\\left(\\eta,x,y,z\\right) \\delta\\right) \\cdot dy \\cdot dz+\\left(a\\left(\\eta\\right)^{2}\\right) \\cdot dz^2$"
      ],
      "text/plain": [
       "<IPython.core.display.Math object>"
      ]
     },
     "metadata": {},
     "output_type": "display_data"
    },
    {
     "data": {
      "text/latex": [
       "$\\displaystyle \\left(\\begin{array}{cccc}-a\\left(\\eta\\right)^{2}&0&0&0\\\\0&a\\left(\\eta\\right)^{2}&a\\left(\\eta\\right)^{2}\\,\\mathrm{hxy}\\left(\\eta,x,y,z\\right) \\delta&a\\left(\\eta\\right)^{2}\\,\\mathrm{hxz}\\left(\\eta,x,y,z\\right) \\delta\\\\0&a\\left(\\eta\\right)^{2}\\,\\mathrm{hxy}\\left(\\eta,x,y,z\\right) \\delta&a\\left(\\eta\\right)^{2}&a\\left(\\eta\\right)^{2}\\,\\mathrm{hyz}\\left(\\eta,x,y,z\\right) \\delta\\\\0&a\\left(\\eta\\right)^{2}\\,\\mathrm{hxz}\\left(\\eta,x,y,z\\right) \\delta&a\\left(\\eta\\right)^{2}\\,\\mathrm{hyz}\\left(\\eta,x,y,z\\right) \\delta&a\\left(\\eta\\right)^{2}\\end{array}\\right)\n",
       "$"
      ],
      "text/plain": [
       "<IPython.core.display.Math object>"
      ]
     },
     "metadata": {},
     "output_type": "display_data"
    }
   ],
   "source": [
    "\n",
    "\n",
    "hxy = pt.new_fun('hxy','eta,x,y,z')\n",
    "hxz = pt.new_fun('hxz','eta,x,y,z')\n",
    "hyz = pt.new_fun('hyz','eta,x,y,z')\n",
    "\n",
    "g = pt.create_metric('ds2 = a**2*(-deta**2 + dx**2 + dy**2 + dz**2 + 2*delta*hxy*dx*dy + 2*delta*hxz*dx*dz + 2*delta*hyz*dy*dz)')"
   ]
  },
  {
   "cell_type": "code",
   "execution_count": 19,
   "metadata": {},
   "outputs": [
    {
     "data": {
      "text/latex": [
       "Christoffel $\\Gamma_{\\alpha \\beta \\gamma}$ and $\\Gamma^{\\alpha}_{\\beta \\gamma}$"
      ],
      "text/plain": [
       "<IPython.core.display.Latex object>"
      ]
     },
     "metadata": {},
     "output_type": "display_data"
    },
    {
     "data": {
      "application/vnd.jupyter.widget-view+json": {
       "model_id": "ed0d6c51233e409fb7fea1238baba343",
       "version_major": 2,
       "version_minor": 0
      },
      "text/plain": [
       "  0%|          | 0/64 [00:00<?, ?it/s]"
      ]
     },
     "metadata": {},
     "output_type": "display_data"
    },
    {
     "data": {
      "text/latex": [
       "Riemann Tensor $R^{\\alpha}_{\\beta \\gamma \\delta}$"
      ],
      "text/plain": [
       "<IPython.core.display.Latex object>"
      ]
     },
     "metadata": {},
     "output_type": "display_data"
    },
    {
     "data": {
      "application/vnd.jupyter.widget-view+json": {
       "model_id": "c886a1f4daad49dc80822fc873ade746",
       "version_major": 2,
       "version_minor": 0
      },
      "text/plain": [
       "  0%|          | 0/256 [00:00<?, ?it/s]"
      ]
     },
     "metadata": {},
     "output_type": "display_data"
    },
    {
     "data": {
      "text/latex": [
       "Ricci Tensor $R_{\\alpha \\beta}$"
      ],
      "text/plain": [
       "<IPython.core.display.Latex object>"
      ]
     },
     "metadata": {},
     "output_type": "display_data"
    },
    {
     "data": {
      "application/vnd.jupyter.widget-view+json": {
       "model_id": "a25330396b074d5eaf356ab430244fb9",
       "version_major": 2,
       "version_minor": 0
      },
      "text/plain": [
       "  0%|          | 0/16 [00:00<?, ?it/s]"
      ]
     },
     "metadata": {},
     "output_type": "display_data"
    },
    {
     "data": {
      "text/latex": [
       "Ricci Scalar $R$"
      ],
      "text/plain": [
       "<IPython.core.display.Latex object>"
      ]
     },
     "metadata": {},
     "output_type": "display_data"
    },
    {
     "data": {
      "application/vnd.jupyter.widget-view+json": {
       "model_id": "e4df9046848e4dacb7a170262a397035",
       "version_major": 2,
       "version_minor": 0
      },
      "text/plain": [
       "  0%|          | 0/16 [00:00<?, ?it/s]"
      ]
     },
     "metadata": {},
     "output_type": "display_data"
    },
    {
     "data": {
      "text/latex": [
       "Einstein Tensor $G_{\\alpha \\beta}$"
      ],
      "text/plain": [
       "<IPython.core.display.Latex object>"
      ]
     },
     "metadata": {},
     "output_type": "display_data"
    },
    {
     "data": {
      "application/vnd.jupyter.widget-view+json": {
       "model_id": "9dbae7412551439aacc002119805dbdc",
       "version_major": 2,
       "version_minor": 0
      },
      "text/plain": [
       "  0%|          | 0/16 [00:00<?, ?it/s]"
      ]
     },
     "metadata": {},
     "output_type": "display_data"
    },
    {
     "data": {
      "application/vnd.jupyter.widget-view+json": {
       "model_id": "1c68c9922f234cf19fffc2b99aac416f",
       "version_major": 2,
       "version_minor": 0
      },
      "text/plain": [
       "Einstein Tensor $G{^\\alpha}{_\\beta}$:   0%|          | 0/16 [00:00<?, ?it/s]"
      ]
     },
     "metadata": {},
     "output_type": "display_data"
    },
    {
     "data": {
      "application/vnd.jupyter.widget-view+json": {
       "model_id": "b1dc524cd291446a9bc26887cda50eef",
       "version_major": 2,
       "version_minor": 0
      },
      "text/plain": [
       "Einstein Tensor $G{^\\alpha}{^\\beta}$:   0%|          | 0/16 [00:00<?, ?it/s]"
      ]
     },
     "metadata": {},
     "output_type": "display_data"
    },
    {
     "data": {
      "application/vnd.jupyter.widget-view+json": {
       "model_id": "b98c075bbd414643adf48331d869d301",
       "version_major": 2,
       "version_minor": 0
      },
      "text/plain": [
       "Einstein Tensor $G{_\\alpha}{^\\beta}$:   0%|          | 0/16 [00:00<?, ?it/s]"
      ]
     },
     "metadata": {},
     "output_type": "display_data"
    },
    {
     "data": {
      "text/latex": [
       "All other indexes of Einstein Tensor $G$  already calculated."
      ],
      "text/plain": [
       "<IPython.core.display.Latex object>"
      ]
     },
     "metadata": {},
     "output_type": "display_data"
    },
    {
     "data": {
      "text/latex": [
       "$\\displaystyle {G}{}^{0\n",
       "}{}_{0\n",
       "} = -\\frac{3 \\left(\\frac{\\mathrm{d}}{\\mathrm{d}\\eta}\\,a\\left(\\eta\\right)\\right)^{2}}{a\\left(\\eta\\right)^{4}}-\\frac{\\frac{1}{2} \\left(\\frac{\\partial }{\\partial x}\\frac{\\partial }{\\partial y}\\mathrm{hxy}\\left(\\eta,x,y,z\\right)+\\frac{\\partial }{\\partial y}\\frac{\\partial }{\\partial x}\\mathrm{hxy}\\left(\\eta,x,y,z\\right)+\\frac{\\partial }{\\partial x}\\frac{\\partial }{\\partial z}\\mathrm{hxz}\\left(\\eta,x,y,z\\right)+\\frac{\\partial }{\\partial z}\\frac{\\partial }{\\partial x}\\mathrm{hxz}\\left(\\eta,x,y,z\\right)+\\frac{\\partial }{\\partial y}\\frac{\\partial }{\\partial z}\\mathrm{hyz}\\left(\\eta,x,y,z\\right)+\\frac{\\partial }{\\partial z}\\frac{\\partial }{\\partial y}\\mathrm{hyz}\\left(\\eta,x,y,z\\right)\\right) \\delta}{a\\left(\\eta\\right)^{2}}+\\mathrm{O}\\left(\\delta^{2}\\right)$"
      ],
      "text/plain": [
       "<IPython.core.display.Math object>"
      ]
     },
     "metadata": {},
     "output_type": "display_data"
    },
    {
     "data": {
      "text/latex": [
       "$\\displaystyle {G}{}^{0\n",
       "}{}_{1\n",
       "} = -\\frac{\\frac{1}{2} \\left(\\frac{\\partial }{\\partial \\eta}\\frac{\\partial }{\\partial y}\\mathrm{hxy}\\left(\\eta,x,y,z\\right)+\\frac{\\partial }{\\partial \\eta}\\frac{\\partial }{\\partial z}\\mathrm{hxz}\\left(\\eta,x,y,z\\right)\\right) \\delta}{a\\left(\\eta\\right)^{2}}+\\mathrm{O}\\left(\\delta^{2}\\right)$"
      ],
      "text/plain": [
       "<IPython.core.display.Math object>"
      ]
     },
     "metadata": {},
     "output_type": "display_data"
    },
    {
     "data": {
      "text/latex": [
       "$\\displaystyle {G}{}^{0\n",
       "}{}_{2\n",
       "} = -\\frac{\\frac{1}{2} \\left(\\frac{\\partial }{\\partial \\eta}\\frac{\\partial }{\\partial x}\\mathrm{hxy}\\left(\\eta,x,y,z\\right)+\\frac{\\partial }{\\partial \\eta}\\frac{\\partial }{\\partial z}\\mathrm{hyz}\\left(\\eta,x,y,z\\right)\\right) \\delta}{a\\left(\\eta\\right)^{2}}+\\mathrm{O}\\left(\\delta^{2}\\right)$"
      ],
      "text/plain": [
       "<IPython.core.display.Math object>"
      ]
     },
     "metadata": {},
     "output_type": "display_data"
    },
    {
     "data": {
      "text/latex": [
       "$\\displaystyle {G}{}^{0\n",
       "}{}_{3\n",
       "} = -\\frac{\\frac{1}{2} \\left(\\frac{\\partial }{\\partial \\eta}\\frac{\\partial }{\\partial x}\\mathrm{hxz}\\left(\\eta,x,y,z\\right)+\\frac{\\partial }{\\partial \\eta}\\frac{\\partial }{\\partial y}\\mathrm{hyz}\\left(\\eta,x,y,z\\right)\\right) \\delta}{a\\left(\\eta\\right)^{2}}+\\mathrm{O}\\left(\\delta^{2}\\right)$"
      ],
      "text/plain": [
       "<IPython.core.display.Math object>"
      ]
     },
     "metadata": {},
     "output_type": "display_data"
    },
    {
     "data": {
      "text/latex": [
       "$\\displaystyle {G}{}^{1\n",
       "}{}_{0\n",
       "} = \\frac{\\frac{1}{2} \\left(\\frac{\\partial }{\\partial \\eta}\\frac{\\partial }{\\partial y}\\mathrm{hxy}\\left(\\eta,x,y,z\\right)+\\frac{\\partial }{\\partial \\eta}\\frac{\\partial }{\\partial z}\\mathrm{hxz}\\left(\\eta,x,y,z\\right)\\right) \\delta}{a\\left(\\eta\\right)^{2}}+\\mathrm{O}\\left(\\delta^{2}\\right)$"
      ],
      "text/plain": [
       "<IPython.core.display.Math object>"
      ]
     },
     "metadata": {},
     "output_type": "display_data"
    },
    {
     "data": {
      "text/latex": [
       "$\\displaystyle {G}{}^{1\n",
       "}{}_{1\n",
       "} = \\frac{\\left(\\frac{\\mathrm{d}}{\\mathrm{d}\\eta}\\,a\\left(\\eta\\right)\\right)^{2}-2\\,\\frac{\\mathrm{d}^{2}}{\\mathrm{d}\\eta^{2}}\\,a\\left(\\eta\\right) a\\left(\\eta\\right)}{a\\left(\\eta\\right)^{4}}+\\frac{\\frac{1}{2} \\left(\\frac{\\partial }{\\partial x}\\frac{\\partial }{\\partial y}\\mathrm{hxy}\\left(\\eta,x,y,z\\right)-\\frac{\\partial }{\\partial y}\\frac{\\partial }{\\partial x}\\mathrm{hxy}\\left(\\eta,x,y,z\\right)+\\frac{\\partial }{\\partial x}\\frac{\\partial }{\\partial z}\\mathrm{hxz}\\left(\\eta,x,y,z\\right)-\\frac{\\partial }{\\partial z}\\frac{\\partial }{\\partial x}\\mathrm{hxz}\\left(\\eta,x,y,z\\right)-\\frac{\\partial }{\\partial y}\\frac{\\partial }{\\partial z}\\mathrm{hyz}\\left(\\eta,x,y,z\\right)-\\frac{\\partial }{\\partial z}\\frac{\\partial }{\\partial y}\\mathrm{hyz}\\left(\\eta,x,y,z\\right)\\right) \\delta}{a\\left(\\eta\\right)^{2}}+\\mathrm{O}\\left(\\delta^{2}\\right)$"
      ],
      "text/plain": [
       "<IPython.core.display.Math object>"
      ]
     },
     "metadata": {},
     "output_type": "display_data"
    },
    {
     "data": {
      "text/latex": [
       "$\\displaystyle {G}{}^{1\n",
       "}{}_{2\n",
       "} = \\frac{\\frac{1}{2} \\left(2\\,\\frac{\\mathrm{d}}{\\mathrm{d}\\eta}\\,a\\left(\\eta\\right) \\frac{\\partial }{\\partial \\eta}\\mathrm{hxy}\\left(\\eta,x,y,z\\right)+\\frac{\\partial^2 }{\\partial \\eta^2}\\mathrm{hxy}\\left(\\eta,x,y,z\\right) a\\left(\\eta\\right)-\\frac{\\partial^2 }{\\partial z^2}\\mathrm{hxy}\\left(\\eta,x,y,z\\right) a\\left(\\eta\\right)+\\frac{\\partial }{\\partial y}\\frac{\\partial }{\\partial z}\\mathrm{hxz}\\left(\\eta,x,y,z\\right) a\\left(\\eta\\right)+\\frac{\\partial }{\\partial x}\\frac{\\partial }{\\partial z}\\mathrm{hyz}\\left(\\eta,x,y,z\\right) a\\left(\\eta\\right)\\right) \\delta}{a\\left(\\eta\\right)^{3}}+\\mathrm{O}\\left(\\delta^{2}\\right)$"
      ],
      "text/plain": [
       "<IPython.core.display.Math object>"
      ]
     },
     "metadata": {},
     "output_type": "display_data"
    },
    {
     "data": {
      "text/latex": [
       "$\\displaystyle {G}{}^{1\n",
       "}{}_{3\n",
       "} = \\frac{\\frac{1}{2} \\left(2\\,\\frac{\\mathrm{d}}{\\mathrm{d}\\eta}\\,a\\left(\\eta\\right) \\frac{\\partial }{\\partial \\eta}\\mathrm{hxz}\\left(\\eta,x,y,z\\right)+\\frac{\\partial }{\\partial z}\\frac{\\partial }{\\partial y}\\mathrm{hxy}\\left(\\eta,x,y,z\\right) a\\left(\\eta\\right)+\\frac{\\partial^2 }{\\partial \\eta^2}\\mathrm{hxz}\\left(\\eta,x,y,z\\right) a\\left(\\eta\\right)-\\frac{\\partial^2 }{\\partial y^2}\\mathrm{hxz}\\left(\\eta,x,y,z\\right) a\\left(\\eta\\right)+\\frac{\\partial }{\\partial x}\\frac{\\partial }{\\partial y}\\mathrm{hyz}\\left(\\eta,x,y,z\\right) a\\left(\\eta\\right)\\right) \\delta}{a\\left(\\eta\\right)^{3}}+\\mathrm{O}\\left(\\delta^{2}\\right)$"
      ],
      "text/plain": [
       "<IPython.core.display.Math object>"
      ]
     },
     "metadata": {},
     "output_type": "display_data"
    },
    {
     "data": {
      "text/latex": [
       "$\\displaystyle {G}{}^{2\n",
       "}{}_{0\n",
       "} = \\frac{\\frac{1}{2} \\left(\\frac{\\partial }{\\partial \\eta}\\frac{\\partial }{\\partial x}\\mathrm{hxy}\\left(\\eta,x,y,z\\right)+\\frac{\\partial }{\\partial \\eta}\\frac{\\partial }{\\partial z}\\mathrm{hyz}\\left(\\eta,x,y,z\\right)\\right) \\delta}{a\\left(\\eta\\right)^{2}}+\\mathrm{O}\\left(\\delta^{2}\\right)$"
      ],
      "text/plain": [
       "<IPython.core.display.Math object>"
      ]
     },
     "metadata": {},
     "output_type": "display_data"
    },
    {
     "data": {
      "text/latex": [
       "$\\displaystyle {G}{}^{2\n",
       "}{}_{1\n",
       "} = \\frac{\\frac{1}{2} \\left(2\\,\\frac{\\mathrm{d}}{\\mathrm{d}\\eta}\\,a\\left(\\eta\\right) \\frac{\\partial }{\\partial \\eta}\\mathrm{hxy}\\left(\\eta,x,y,z\\right)+\\frac{\\partial^2 }{\\partial \\eta^2}\\mathrm{hxy}\\left(\\eta,x,y,z\\right) a\\left(\\eta\\right)-\\frac{\\partial^2 }{\\partial z^2}\\mathrm{hxy}\\left(\\eta,x,y,z\\right) a\\left(\\eta\\right)+\\frac{\\partial }{\\partial y}\\frac{\\partial }{\\partial z}\\mathrm{hxz}\\left(\\eta,x,y,z\\right) a\\left(\\eta\\right)+\\frac{\\partial }{\\partial x}\\frac{\\partial }{\\partial z}\\mathrm{hyz}\\left(\\eta,x,y,z\\right) a\\left(\\eta\\right)\\right) \\delta}{a\\left(\\eta\\right)^{3}}+\\mathrm{O}\\left(\\delta^{2}\\right)$"
      ],
      "text/plain": [
       "<IPython.core.display.Math object>"
      ]
     },
     "metadata": {},
     "output_type": "display_data"
    },
    {
     "data": {
      "text/latex": [
       "$\\displaystyle {G}{}^{2\n",
       "}{}_{2\n",
       "} = \\frac{\\left(\\frac{\\mathrm{d}}{\\mathrm{d}\\eta}\\,a\\left(\\eta\\right)\\right)^{2}-2\\,\\frac{\\mathrm{d}^{2}}{\\mathrm{d}\\eta^{2}}\\,a\\left(\\eta\\right) a\\left(\\eta\\right)}{a\\left(\\eta\\right)^{4}}+\\frac{\\frac{1}{2} \\left(-\\frac{\\partial }{\\partial x}\\frac{\\partial }{\\partial y}\\mathrm{hxy}\\left(\\eta,x,y,z\\right)+\\frac{\\partial }{\\partial y}\\frac{\\partial }{\\partial x}\\mathrm{hxy}\\left(\\eta,x,y,z\\right)-\\frac{\\partial }{\\partial x}\\frac{\\partial }{\\partial z}\\mathrm{hxz}\\left(\\eta,x,y,z\\right)-\\frac{\\partial }{\\partial z}\\frac{\\partial }{\\partial x}\\mathrm{hxz}\\left(\\eta,x,y,z\\right)+\\frac{\\partial }{\\partial y}\\frac{\\partial }{\\partial z}\\mathrm{hyz}\\left(\\eta,x,y,z\\right)-\\frac{\\partial }{\\partial z}\\frac{\\partial }{\\partial y}\\mathrm{hyz}\\left(\\eta,x,y,z\\right)\\right) \\delta}{a\\left(\\eta\\right)^{2}}+\\mathrm{O}\\left(\\delta^{2}\\right)$"
      ],
      "text/plain": [
       "<IPython.core.display.Math object>"
      ]
     },
     "metadata": {},
     "output_type": "display_data"
    },
    {
     "data": {
      "text/latex": [
       "$\\displaystyle {G}{}^{2\n",
       "}{}_{3\n",
       "} = \\frac{\\frac{1}{2} \\left(2\\,\\frac{\\mathrm{d}}{\\mathrm{d}\\eta}\\,a\\left(\\eta\\right) \\frac{\\partial }{\\partial \\eta}\\mathrm{hyz}\\left(\\eta,x,y,z\\right)+\\frac{\\partial }{\\partial z}\\frac{\\partial }{\\partial x}\\mathrm{hxy}\\left(\\eta,x,y,z\\right) a\\left(\\eta\\right)+\\frac{\\partial }{\\partial y}\\frac{\\partial }{\\partial x}\\mathrm{hxz}\\left(\\eta,x,y,z\\right) a\\left(\\eta\\right)+\\frac{\\partial^2 }{\\partial \\eta^2}\\mathrm{hyz}\\left(\\eta,x,y,z\\right) a\\left(\\eta\\right)-\\frac{\\partial^2 }{\\partial x^2}\\mathrm{hyz}\\left(\\eta,x,y,z\\right) a\\left(\\eta\\right)\\right) \\delta}{a\\left(\\eta\\right)^{3}}+\\mathrm{O}\\left(\\delta^{2}\\right)$"
      ],
      "text/plain": [
       "<IPython.core.display.Math object>"
      ]
     },
     "metadata": {},
     "output_type": "display_data"
    },
    {
     "data": {
      "text/latex": [
       "$\\displaystyle {G}{}^{3\n",
       "}{}_{0\n",
       "} = \\frac{\\frac{1}{2} \\left(\\frac{\\partial }{\\partial \\eta}\\frac{\\partial }{\\partial x}\\mathrm{hxz}\\left(\\eta,x,y,z\\right)+\\frac{\\partial }{\\partial \\eta}\\frac{\\partial }{\\partial y}\\mathrm{hyz}\\left(\\eta,x,y,z\\right)\\right) \\delta}{a\\left(\\eta\\right)^{2}}+\\mathrm{O}\\left(\\delta^{2}\\right)$"
      ],
      "text/plain": [
       "<IPython.core.display.Math object>"
      ]
     },
     "metadata": {},
     "output_type": "display_data"
    },
    {
     "data": {
      "text/latex": [
       "$\\displaystyle {G}{}^{3\n",
       "}{}_{1\n",
       "} = \\frac{\\frac{1}{2} \\left(2\\,\\frac{\\mathrm{d}}{\\mathrm{d}\\eta}\\,a\\left(\\eta\\right) \\frac{\\partial }{\\partial \\eta}\\mathrm{hxz}\\left(\\eta,x,y,z\\right)+\\frac{\\partial }{\\partial z}\\frac{\\partial }{\\partial y}\\mathrm{hxy}\\left(\\eta,x,y,z\\right) a\\left(\\eta\\right)+\\frac{\\partial^2 }{\\partial \\eta^2}\\mathrm{hxz}\\left(\\eta,x,y,z\\right) a\\left(\\eta\\right)-\\frac{\\partial^2 }{\\partial y^2}\\mathrm{hxz}\\left(\\eta,x,y,z\\right) a\\left(\\eta\\right)+\\frac{\\partial }{\\partial x}\\frac{\\partial }{\\partial y}\\mathrm{hyz}\\left(\\eta,x,y,z\\right) a\\left(\\eta\\right)\\right) \\delta}{a\\left(\\eta\\right)^{3}}+\\mathrm{O}\\left(\\delta^{2}\\right)$"
      ],
      "text/plain": [
       "<IPython.core.display.Math object>"
      ]
     },
     "metadata": {},
     "output_type": "display_data"
    },
    {
     "data": {
      "text/latex": [
       "$\\displaystyle {G}{}^{3\n",
       "}{}_{2\n",
       "} = \\frac{\\frac{1}{2} \\left(2\\,\\frac{\\mathrm{d}}{\\mathrm{d}\\eta}\\,a\\left(\\eta\\right) \\frac{\\partial }{\\partial \\eta}\\mathrm{hyz}\\left(\\eta,x,y,z\\right)+\\frac{\\partial }{\\partial z}\\frac{\\partial }{\\partial x}\\mathrm{hxy}\\left(\\eta,x,y,z\\right) a\\left(\\eta\\right)+\\frac{\\partial }{\\partial y}\\frac{\\partial }{\\partial x}\\mathrm{hxz}\\left(\\eta,x,y,z\\right) a\\left(\\eta\\right)+\\frac{\\partial^2 }{\\partial \\eta^2}\\mathrm{hyz}\\left(\\eta,x,y,z\\right) a\\left(\\eta\\right)-\\frac{\\partial^2 }{\\partial x^2}\\mathrm{hyz}\\left(\\eta,x,y,z\\right) a\\left(\\eta\\right)\\right) \\delta}{a\\left(\\eta\\right)^{3}}+\\mathrm{O}\\left(\\delta^{2}\\right)$"
      ],
      "text/plain": [
       "<IPython.core.display.Math object>"
      ]
     },
     "metadata": {},
     "output_type": "display_data"
    },
    {
     "data": {
      "text/latex": [
       "$\\displaystyle {G}{}^{3\n",
       "}{}_{3\n",
       "} = \\frac{\\left(\\frac{\\mathrm{d}}{\\mathrm{d}\\eta}\\,a\\left(\\eta\\right)\\right)^{2}-2\\,\\frac{\\mathrm{d}^{2}}{\\mathrm{d}\\eta^{2}}\\,a\\left(\\eta\\right) a\\left(\\eta\\right)}{a\\left(\\eta\\right)^{4}}+\\frac{\\frac{1}{2} \\left(-\\frac{\\partial }{\\partial x}\\frac{\\partial }{\\partial y}\\mathrm{hxy}\\left(\\eta,x,y,z\\right)-\\frac{\\partial }{\\partial y}\\frac{\\partial }{\\partial x}\\mathrm{hxy}\\left(\\eta,x,y,z\\right)-\\frac{\\partial }{\\partial x}\\frac{\\partial }{\\partial z}\\mathrm{hxz}\\left(\\eta,x,y,z\\right)+\\frac{\\partial }{\\partial z}\\frac{\\partial }{\\partial x}\\mathrm{hxz}\\left(\\eta,x,y,z\\right)-\\frac{\\partial }{\\partial y}\\frac{\\partial }{\\partial z}\\mathrm{hyz}\\left(\\eta,x,y,z\\right)+\\frac{\\partial }{\\partial z}\\frac{\\partial }{\\partial y}\\mathrm{hyz}\\left(\\eta,x,y,z\\right)\\right) \\delta}{a\\left(\\eta\\right)^{2}}+\\mathrm{O}\\left(\\delta^{2}\\right)$"
      ],
      "text/plain": [
       "<IPython.core.display.Math object>"
      ]
     },
     "metadata": {},
     "output_type": "display_data"
    }
   ],
   "source": [
    "# To calculate the default combination of the Einstein Tensor, i.e., (_,_):\n",
    "#G = pt.einstein()\n",
    "\n",
    "# To calculate all the combinations:\n",
    "G = pt.einstein(All = True)\n",
    "\n",
    "# To display the Einstein Tensor:\n",
    "G.display('^,_',aslist=True)\n",
    "\n",
    "# To show the tensor components as a list:\n",
    "# G.display(aslist = True)"
   ]
  },
  {
   "cell_type": "markdown",
   "metadata": {},
   "source": [
    "## hasta acá todo bien :) "
   ]
  },
  {
   "cell_type": "markdown",
   "metadata": {},
   "source": [
    "The display method uses matrix notation for all tensors with rank $\\leq$ 2 by default. To display the tensor components as a list, the user must include the \"aslist = True\" argument."
   ]
  },
  {
   "cell_type": "code",
   "execution_count": 20,
   "metadata": {},
   "outputs": [
    {
     "name": "stdout",
     "output_type": "stream",
     "text": [
      "Elements assigned correctly to the components ^\n"
     ]
    },
    {
     "data": {
      "text/latex": [
       "$\\displaystyle \\left(\\begin{array}{c}1\\\\0\\\\0\\\\0\\end{array}\\right)\n",
       "$"
      ],
      "text/plain": [
       "<IPython.core.display.Math object>"
      ]
     },
     "metadata": {},
     "output_type": "display_data"
    }
   ],
   "source": [
    "# To define an arbitrary tensor, indicating the name and rank of the tensor.\n",
    "U = pt.new_ten('U',1)\n",
    "# To assign a list or array (even numpy arrays) to a particular component of the tensor.\n",
    "U.assign([1,0,0,0],'^')\n",
    "# Display the tensor, or vector in this particular example.\n",
    "U.display('^')"
   ]
  },
  {
   "cell_type": "markdown",
   "metadata": {},
   "source": [
    "Note that pytearcat uses the definition of \"vectors\" as Columns, and \"one-forms\" as Rows. \n",
    "\n",
    "- A 1-vector is a Tensor with one contravariant index $A^{\\mu}$.\n",
    "\n",
    "- A 1-form is a Tensor with one covariant index $A_{\\mu}$."
   ]
  },
  {
   "cell_type": "code",
   "execution_count": 21,
   "metadata": {},
   "outputs": [
    {
     "data": {
      "text/latex": [
       "$\\displaystyle \\left(\\begin{array}{cccc}\\rho\\left(t\\right)+P\\left(t\\right)-\\frac{P\\left(t\\right)}{a\\left(\\eta\\right)^{2}}&0&0&0\\\\0&\\left(\\frac1{a\\left(\\eta\\right)^{2}}+\\mathrm{O}\\left(\\delta^{2}\\right)\\right) P\\left(t\\right)&\\left(-\\frac{\\mathrm{hxy}\\left(\\eta,x,y,z\\right) \\delta}{a\\left(\\eta\\right)^{2}}+\\mathrm{O}\\left(\\delta^{2}\\right)\\right) P\\left(t\\right)&\\left(-\\frac{\\mathrm{hxz}\\left(\\eta,x,y,z\\right) \\delta}{a\\left(\\eta\\right)^{2}}+\\mathrm{O}\\left(\\delta^{2}\\right)\\right) P\\left(t\\right)\\\\0&\\left(-\\frac{\\mathrm{hxy}\\left(\\eta,x,y,z\\right) \\delta}{a\\left(\\eta\\right)^{2}}+\\mathrm{O}\\left(\\delta^{2}\\right)\\right) P\\left(t\\right)&\\left(\\frac1{a\\left(\\eta\\right)^{2}}+\\mathrm{O}\\left(\\delta^{2}\\right)\\right) P\\left(t\\right)&\\left(-\\frac{\\mathrm{hyz}\\left(\\eta,x,y,z\\right) \\delta}{a\\left(\\eta\\right)^{2}}+\\mathrm{O}\\left(\\delta^{2}\\right)\\right) P\\left(t\\right)\\\\0&\\left(-\\frac{\\mathrm{hxz}\\left(\\eta,x,y,z\\right) \\delta}{a\\left(\\eta\\right)^{2}}+\\mathrm{O}\\left(\\delta^{2}\\right)\\right) P\\left(t\\right)&\\left(-\\frac{\\mathrm{hyz}\\left(\\eta,x,y,z\\right) \\delta}{a\\left(\\eta\\right)^{2}}+\\mathrm{O}\\left(\\delta^{2}\\right)\\right) P\\left(t\\right)&\\left(\\frac1{a\\left(\\eta\\right)^{2}}+\\mathrm{O}\\left(\\delta^{2}\\right)\\right) P\\left(t\\right)\\end{array}\\right)\n",
       "$"
      ],
      "text/plain": [
       "<IPython.core.display.Math object>"
      ]
     },
     "metadata": {},
     "output_type": "display_data"
    }
   ],
   "source": [
    "rho = pt.new_fun('rho','t')\n",
    "P = pt.new_fun('P','t')\n",
    "\n",
    "T = pt.new_ten('T',2)\n",
    "\n",
    "T.assign((rho+P)*U(\"^mu\")*U(\"^nu\")+P*g(\"^mu,^nu\"),\"^mu,^nu\")\n",
    "\n",
    "# One could also save the result of a tensor operation in a variable\n",
    "# For example: T_value = (rho+P/c**2)*U(\"^mu\")*U(\"^nu\")-P*g(\"^mu,^nu\")\n",
    "# And then, to assing that value to the tensor: \n",
    "# T.assign(T_value,'^mu,^nu')\n",
    "\n",
    "T.display('^,^')"
   ]
  },
  {
   "cell_type": "code",
   "execution_count": 22,
   "metadata": {},
   "outputs": [
    {
     "data": {
      "application/vnd.jupyter.widget-view+json": {
       "model_id": "d9ce69c3f61847b786599a1a9dfb84a7",
       "version_major": 2,
       "version_minor": 0
      },
      "text/plain": [
       "T Tensor $T{_\\alpha}{^\\beta}$:   0%|          | 0/16 [00:00<?, ?it/s]"
      ]
     },
     "metadata": {},
     "output_type": "display_data"
    },
    {
     "data": {
      "application/vnd.jupyter.widget-view+json": {
       "model_id": "6dd50e7037394c2a9fe9e21933501e04",
       "version_major": 2,
       "version_minor": 0
      },
      "text/plain": [
       "T Tensor $T{_\\alpha}{_\\beta}$:   0%|          | 0/16 [00:00<?, ?it/s]"
      ]
     },
     "metadata": {},
     "output_type": "display_data"
    },
    {
     "data": {
      "application/vnd.jupyter.widget-view+json": {
       "model_id": "c611c10942da4dbbbbb062d8b694b26f",
       "version_major": 2,
       "version_minor": 0
      },
      "text/plain": [
       "T Tensor $T{^\\alpha}{_\\beta}$:   0%|          | 0/16 [00:00<?, ?it/s]"
      ]
     },
     "metadata": {},
     "output_type": "display_data"
    },
    {
     "data": {
      "text/latex": [
       "All other indexes of T Tensor $T$  already calculated."
      ],
      "text/plain": [
       "<IPython.core.display.Latex object>"
      ]
     },
     "metadata": {},
     "output_type": "display_data"
    },
    {
     "data": {
      "text/latex": [
       "$\\displaystyle \\left(\\begin{array}{cccc}a\\left(\\eta\\right)^{2}\\,a\\left(\\eta\\right)^{2} \\left(\\rho\\left(t\\right)+P\\left(t\\right)-\\frac{P\\left(t\\right)}{a\\left(\\eta\\right)^{2}}\\right)&0&0&0\\\\0&P\\left(t\\right) a\\left(\\eta\\right)^{2}+\\mathrm{O}\\left(\\delta^{2}\\right)&P\\left(t\\right) a\\left(\\eta\\right)^{2}\\,\\mathrm{hxy}\\left(\\eta,x,y,z\\right) \\delta+\\mathrm{O}\\left(\\delta^{2}\\right)&P\\left(t\\right) a\\left(\\eta\\right)^{2}\\,\\mathrm{hxz}\\left(\\eta,x,y,z\\right) \\delta+\\mathrm{O}\\left(\\delta^{2}\\right)\\\\0&P\\left(t\\right) a\\left(\\eta\\right)^{2}\\,\\mathrm{hxy}\\left(\\eta,x,y,z\\right) \\delta+\\mathrm{O}\\left(\\delta^{2}\\right)&P\\left(t\\right) a\\left(\\eta\\right)^{2}+\\mathrm{O}\\left(\\delta^{2}\\right)&P\\left(t\\right) a\\left(\\eta\\right)^{2}\\,\\mathrm{hyz}\\left(\\eta,x,y,z\\right) \\delta+\\mathrm{O}\\left(\\delta^{2}\\right)\\\\0&P\\left(t\\right) a\\left(\\eta\\right)^{2}\\,\\mathrm{hxz}\\left(\\eta,x,y,z\\right) \\delta+\\mathrm{O}\\left(\\delta^{2}\\right)&P\\left(t\\right) a\\left(\\eta\\right)^{2}\\,\\mathrm{hyz}\\left(\\eta,x,y,z\\right) \\delta+\\mathrm{O}\\left(\\delta^{2}\\right)&P\\left(t\\right) a\\left(\\eta\\right)^{2}+\\mathrm{O}\\left(\\delta^{2}\\right)\\end{array}\\right)\n",
       "$"
      ],
      "text/plain": [
       "<IPython.core.display.Math object>"
      ]
     },
     "metadata": {},
     "output_type": "display_data"
    }
   ],
   "source": [
    "# To calculate the rest of index combinations of the tensor:\n",
    "T.indexcomb('^,^')\n",
    "T.display('_,_')"
   ]
  },
  {
   "cell_type": "code",
   "execution_count": 23,
   "metadata": {},
   "outputs": [
    {
     "data": {
      "text/html": [
       "$$ 0 $$"
      ],
      "text/latex": [
       "0"
      ],
      "text/plain": []
     },
     "execution_count": 23,
     "metadata": {},
     "output_type": "execute_result"
    }
   ],
   "source": [
    "R(\"^0,_0,_0,_0\")"
   ]
  },
  {
   "cell_type": "code",
   "execution_count": null,
   "metadata": {},
   "outputs": [],
   "source": []
  }
 ],
 "metadata": {
  "kernelspec": {
   "display_name": "Python 3",
   "language": "python",
   "name": "python3"
  },
  "language_info": {
   "codemirror_mode": {
    "name": "ipython",
    "version": 3
   },
   "file_extension": ".py",
   "mimetype": "text/x-python",
   "name": "python",
   "nbconvert_exporter": "python",
   "pygments_lexer": "ipython3",
   "version": "3.8.8"
  }
 },
 "nbformat": 4,
 "nbformat_minor": 4
}
