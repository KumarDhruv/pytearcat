{
 "cells": [
  {
   "cell_type": "code",
   "execution_count": 1,
   "metadata": {},
   "outputs": [],
   "source": [
    "import pytearcat as pt"
   ]
  },
  {
   "cell_type": "markdown",
   "metadata": {},
   "source": [
    "## Scalar Perturbations in $G_{\\mu \\nu}$"
   ]
  },
  {
   "cell_type": "code",
   "execution_count": 2,
   "metadata": {},
   "outputs": [
    {
     "name": "stdout",
     "output_type": "stream",
     "text": [
      "Remember that the time coordinate must be the first coordinate.\n",
      "en metric: eta,x,y,z\n",
      "\n",
      "Dimension = 4\n",
      "Coordinates = eta,x,y,z\n",
      "Metric was defined successfully: \n",
      "\n"
     ]
    },
    {
     "data": {
      "text/latex": [
       "$\\displaystyle ds^2 = \\left(- 2 \\epsilon a^{2}{\\left(\\eta \\right)} \\psi{\\left(\\eta,x,y,z \\right)} - a^{2}{\\left(\\eta \\right)}\\right) \\cdot d\\eta^2+\\left(2 \\epsilon a^{2}{\\left(\\eta \\right)} \\phi{\\left(\\eta,x,y,z \\right)} + a^{2}{\\left(\\eta \\right)}\\right) \\cdot dx^2+\\left(2 \\epsilon a^{2}{\\left(\\eta \\right)} \\phi{\\left(\\eta,x,y,z \\right)} + a^{2}{\\left(\\eta \\right)}\\right) \\cdot dy^2+\\left(2 \\epsilon a^{2}{\\left(\\eta \\right)} \\phi{\\left(\\eta,x,y,z \\right)} + a^{2}{\\left(\\eta \\right)}\\right) \\cdot dz^2$"
      ],
      "text/plain": [
       "<IPython.core.display.Math object>"
      ]
     },
     "metadata": {},
     "output_type": "display_data"
    },
    {
     "data": {
      "text/latex": [
       "$\\displaystyle \\left[\\begin{matrix}- 2 \\epsilon a^{2}{\\left(\\eta \\right)} \\psi{\\left(\\eta,x,y,z \\right)} - a^{2}{\\left(\\eta \\right)} & 0 & 0 & 0\\\\0 & 2 \\epsilon a^{2}{\\left(\\eta \\right)} \\phi{\\left(\\eta,x,y,z \\right)} + a^{2}{\\left(\\eta \\right)} & 0 & 0\\\\0 & 0 & 2 \\epsilon a^{2}{\\left(\\eta \\right)} \\phi{\\left(\\eta,x,y,z \\right)} + a^{2}{\\left(\\eta \\right)} & 0\\\\0 & 0 & 0 & 2 \\epsilon a^{2}{\\left(\\eta \\right)} \\phi{\\left(\\eta,x,y,z \\right)} + a^{2}{\\left(\\eta \\right)}\\end{matrix}\\right]$"
      ],
      "text/plain": [
       "Matrix([\n",
       "[-2*epsilon*a(eta)**2*psi(eta, x, y, z) - a(eta)**2,                                                 0,                                                 0,                                                 0],\n",
       "[                                                 0, 2*epsilon*a(eta)**2*phi(eta, x, y, z) + a(eta)**2,                                                 0,                                                 0],\n",
       "[                                                 0,                                                 0, 2*epsilon*a(eta)**2*phi(eta, x, y, z) + a(eta)**2,                                                 0],\n",
       "[                                                 0,                                                 0,                                                 0, 2*epsilon*a(eta)**2*phi(eta, x, y, z) + a(eta)**2]])"
      ]
     },
     "metadata": {},
     "output_type": "display_data"
    }
   ],
   "source": [
    "# Define the coordinates to be used\n",
    "t,x,y,z = pt.def_coords('eta,x,y,z')\n",
    "# Define any constant (more than one constant can be defined at the same time)\n",
    "a = pt.new_fun('a','eta')\n",
    "phi = pt.new_fun('phi','eta,x,y,z')\n",
    "psi = pt.new_fun('psi','eta,x,y,z')\n",
    "epsilon = pt.new_con('epsilon')\n",
    "pt.setorder(epsilon,1)\n",
    "g = pt.create_metric('ds2 = a**2*(-(1+2*epsilon*psi)*deta**2 + (1+2*epsilon*phi)*dx**2+(1+2*epsilon*phi)*dy**2+(1+2*epsilon*phi)*dz**2)')"
   ]
  },
  {
   "cell_type": "code",
   "execution_count": 3,
   "metadata": {
    "scrolled": false
   },
   "outputs": [
    {
     "data": {
      "text/latex": [
       "Christoffel $\\Gamma_{\\alpha \\beta \\gamma}$ and $\\Gamma^{\\alpha}_{\\beta \\gamma}$"
      ],
      "text/plain": [
       "<IPython.core.display.Latex object>"
      ]
     },
     "metadata": {},
     "output_type": "display_data"
    },
    {
     "data": {
      "application/vnd.jupyter.widget-view+json": {
       "model_id": "34e6281be0f94027a8bdf32d87eed460",
       "version_major": 2,
       "version_minor": 0
      },
      "text/plain": [
       "  0%|          | 0/64 [00:00<?, ?it/s]"
      ]
     },
     "metadata": {},
     "output_type": "display_data"
    },
    {
     "data": {
      "text/latex": [
       "$\\displaystyle {\\Gamma}{}_{0}{}_{0}{}_{0} = - \\epsilon a^{2}{\\left(\\eta \\right)} \\frac{\\partial}{\\partial \\eta} \\psi{\\left(\\eta,x,y,z \\right)} - 2 \\epsilon a{\\left(\\eta \\right)} \\psi{\\left(\\eta,x,y,z \\right)} \\frac{d}{d \\eta} a{\\left(\\eta \\right)} - a{\\left(\\eta \\right)} \\frac{d}{d \\eta} a{\\left(\\eta \\right)}$"
      ],
      "text/plain": [
       "<IPython.core.display.Math object>"
      ]
     },
     "metadata": {},
     "output_type": "display_data"
    },
    {
     "data": {
      "text/latex": [
       "$\\displaystyle {\\Gamma}{}_{0}{}_{0}{}_{1} = - \\epsilon a^{2}{\\left(\\eta \\right)} \\frac{\\partial}{\\partial x} \\psi{\\left(\\eta,x,y,z \\right)}$"
      ],
      "text/plain": [
       "<IPython.core.display.Math object>"
      ]
     },
     "metadata": {},
     "output_type": "display_data"
    },
    {
     "data": {
      "text/latex": [
       "$\\displaystyle {\\Gamma}{}_{0}{}_{0}{}_{2} = - \\epsilon a^{2}{\\left(\\eta \\right)} \\frac{\\partial}{\\partial y} \\psi{\\left(\\eta,x,y,z \\right)}$"
      ],
      "text/plain": [
       "<IPython.core.display.Math object>"
      ]
     },
     "metadata": {},
     "output_type": "display_data"
    },
    {
     "data": {
      "text/latex": [
       "$\\displaystyle {\\Gamma}{}_{0}{}_{0}{}_{3} = - \\epsilon a^{2}{\\left(\\eta \\right)} \\frac{\\partial}{\\partial z} \\psi{\\left(\\eta,x,y,z \\right)}$"
      ],
      "text/plain": [
       "<IPython.core.display.Math object>"
      ]
     },
     "metadata": {},
     "output_type": "display_data"
    },
    {
     "data": {
      "text/latex": [
       "$\\displaystyle {\\Gamma}{}_{0}{}_{1}{}_{0} = - \\epsilon a^{2}{\\left(\\eta \\right)} \\frac{\\partial}{\\partial x} \\psi{\\left(\\eta,x,y,z \\right)}$"
      ],
      "text/plain": [
       "<IPython.core.display.Math object>"
      ]
     },
     "metadata": {},
     "output_type": "display_data"
    },
    {
     "data": {
      "text/latex": [
       "$\\displaystyle {\\Gamma}{}_{0}{}_{1}{}_{1} = - \\epsilon a^{2}{\\left(\\eta \\right)} \\frac{\\partial}{\\partial \\eta} \\phi{\\left(\\eta,x,y,z \\right)} - 2 \\epsilon a{\\left(\\eta \\right)} \\phi{\\left(\\eta,x,y,z \\right)} \\frac{d}{d \\eta} a{\\left(\\eta \\right)} - a{\\left(\\eta \\right)} \\frac{d}{d \\eta} a{\\left(\\eta \\right)}$"
      ],
      "text/plain": [
       "<IPython.core.display.Math object>"
      ]
     },
     "metadata": {},
     "output_type": "display_data"
    },
    {
     "data": {
      "text/latex": [
       "$\\displaystyle {\\Gamma}{}_{0}{}_{2}{}_{0} = - \\epsilon a^{2}{\\left(\\eta \\right)} \\frac{\\partial}{\\partial y} \\psi{\\left(\\eta,x,y,z \\right)}$"
      ],
      "text/plain": [
       "<IPython.core.display.Math object>"
      ]
     },
     "metadata": {},
     "output_type": "display_data"
    },
    {
     "data": {
      "text/latex": [
       "$\\displaystyle {\\Gamma}{}_{0}{}_{2}{}_{2} = - \\epsilon a^{2}{\\left(\\eta \\right)} \\frac{\\partial}{\\partial \\eta} \\phi{\\left(\\eta,x,y,z \\right)} - 2 \\epsilon a{\\left(\\eta \\right)} \\phi{\\left(\\eta,x,y,z \\right)} \\frac{d}{d \\eta} a{\\left(\\eta \\right)} - a{\\left(\\eta \\right)} \\frac{d}{d \\eta} a{\\left(\\eta \\right)}$"
      ],
      "text/plain": [
       "<IPython.core.display.Math object>"
      ]
     },
     "metadata": {},
     "output_type": "display_data"
    },
    {
     "data": {
      "text/latex": [
       "$\\displaystyle {\\Gamma}{}_{0}{}_{3}{}_{0} = - \\epsilon a^{2}{\\left(\\eta \\right)} \\frac{\\partial}{\\partial z} \\psi{\\left(\\eta,x,y,z \\right)}$"
      ],
      "text/plain": [
       "<IPython.core.display.Math object>"
      ]
     },
     "metadata": {},
     "output_type": "display_data"
    },
    {
     "data": {
      "text/latex": [
       "$\\displaystyle {\\Gamma}{}_{0}{}_{3}{}_{3} = - \\epsilon a^{2}{\\left(\\eta \\right)} \\frac{\\partial}{\\partial \\eta} \\phi{\\left(\\eta,x,y,z \\right)} - 2 \\epsilon a{\\left(\\eta \\right)} \\phi{\\left(\\eta,x,y,z \\right)} \\frac{d}{d \\eta} a{\\left(\\eta \\right)} - a{\\left(\\eta \\right)} \\frac{d}{d \\eta} a{\\left(\\eta \\right)}$"
      ],
      "text/plain": [
       "<IPython.core.display.Math object>"
      ]
     },
     "metadata": {},
     "output_type": "display_data"
    },
    {
     "data": {
      "text/latex": [
       "$\\displaystyle {\\Gamma}{}_{1}{}_{0}{}_{0} = \\epsilon a^{2}{\\left(\\eta \\right)} \\frac{\\partial}{\\partial x} \\psi{\\left(\\eta,x,y,z \\right)}$"
      ],
      "text/plain": [
       "<IPython.core.display.Math object>"
      ]
     },
     "metadata": {},
     "output_type": "display_data"
    },
    {
     "data": {
      "text/latex": [
       "$\\displaystyle {\\Gamma}{}_{1}{}_{0}{}_{1} = \\epsilon a^{2}{\\left(\\eta \\right)} \\frac{\\partial}{\\partial \\eta} \\phi{\\left(\\eta,x,y,z \\right)} + 2 \\epsilon a{\\left(\\eta \\right)} \\phi{\\left(\\eta,x,y,z \\right)} \\frac{d}{d \\eta} a{\\left(\\eta \\right)} + a{\\left(\\eta \\right)} \\frac{d}{d \\eta} a{\\left(\\eta \\right)}$"
      ],
      "text/plain": [
       "<IPython.core.display.Math object>"
      ]
     },
     "metadata": {},
     "output_type": "display_data"
    },
    {
     "data": {
      "text/latex": [
       "$\\displaystyle {\\Gamma}{}_{1}{}_{1}{}_{0} = \\epsilon a^{2}{\\left(\\eta \\right)} \\frac{\\partial}{\\partial \\eta} \\phi{\\left(\\eta,x,y,z \\right)} + 2 \\epsilon a{\\left(\\eta \\right)} \\phi{\\left(\\eta,x,y,z \\right)} \\frac{d}{d \\eta} a{\\left(\\eta \\right)} + a{\\left(\\eta \\right)} \\frac{d}{d \\eta} a{\\left(\\eta \\right)}$"
      ],
      "text/plain": [
       "<IPython.core.display.Math object>"
      ]
     },
     "metadata": {},
     "output_type": "display_data"
    },
    {
     "data": {
      "text/latex": [
       "$\\displaystyle {\\Gamma}{}_{1}{}_{1}{}_{1} = \\epsilon a^{2}{\\left(\\eta \\right)} \\frac{\\partial}{\\partial x} \\phi{\\left(\\eta,x,y,z \\right)}$"
      ],
      "text/plain": [
       "<IPython.core.display.Math object>"
      ]
     },
     "metadata": {},
     "output_type": "display_data"
    },
    {
     "data": {
      "text/latex": [
       "$\\displaystyle {\\Gamma}{}_{1}{}_{1}{}_{2} = \\epsilon a^{2}{\\left(\\eta \\right)} \\frac{\\partial}{\\partial y} \\phi{\\left(\\eta,x,y,z \\right)}$"
      ],
      "text/plain": [
       "<IPython.core.display.Math object>"
      ]
     },
     "metadata": {},
     "output_type": "display_data"
    },
    {
     "data": {
      "text/latex": [
       "$\\displaystyle {\\Gamma}{}_{1}{}_{1}{}_{3} = \\epsilon a^{2}{\\left(\\eta \\right)} \\frac{\\partial}{\\partial z} \\phi{\\left(\\eta,x,y,z \\right)}$"
      ],
      "text/plain": [
       "<IPython.core.display.Math object>"
      ]
     },
     "metadata": {},
     "output_type": "display_data"
    },
    {
     "data": {
      "text/latex": [
       "$\\displaystyle {\\Gamma}{}_{1}{}_{2}{}_{1} = \\epsilon a^{2}{\\left(\\eta \\right)} \\frac{\\partial}{\\partial y} \\phi{\\left(\\eta,x,y,z \\right)}$"
      ],
      "text/plain": [
       "<IPython.core.display.Math object>"
      ]
     },
     "metadata": {},
     "output_type": "display_data"
    },
    {
     "data": {
      "text/latex": [
       "$\\displaystyle {\\Gamma}{}_{1}{}_{2}{}_{2} = - \\epsilon a^{2}{\\left(\\eta \\right)} \\frac{\\partial}{\\partial x} \\phi{\\left(\\eta,x,y,z \\right)}$"
      ],
      "text/plain": [
       "<IPython.core.display.Math object>"
      ]
     },
     "metadata": {},
     "output_type": "display_data"
    },
    {
     "data": {
      "text/latex": [
       "$\\displaystyle {\\Gamma}{}_{1}{}_{3}{}_{1} = \\epsilon a^{2}{\\left(\\eta \\right)} \\frac{\\partial}{\\partial z} \\phi{\\left(\\eta,x,y,z \\right)}$"
      ],
      "text/plain": [
       "<IPython.core.display.Math object>"
      ]
     },
     "metadata": {},
     "output_type": "display_data"
    },
    {
     "data": {
      "text/latex": [
       "$\\displaystyle {\\Gamma}{}_{1}{}_{3}{}_{3} = - \\epsilon a^{2}{\\left(\\eta \\right)} \\frac{\\partial}{\\partial x} \\phi{\\left(\\eta,x,y,z \\right)}$"
      ],
      "text/plain": [
       "<IPython.core.display.Math object>"
      ]
     },
     "metadata": {},
     "output_type": "display_data"
    },
    {
     "data": {
      "text/latex": [
       "$\\displaystyle {\\Gamma}{}_{2}{}_{0}{}_{0} = \\epsilon a^{2}{\\left(\\eta \\right)} \\frac{\\partial}{\\partial y} \\psi{\\left(\\eta,x,y,z \\right)}$"
      ],
      "text/plain": [
       "<IPython.core.display.Math object>"
      ]
     },
     "metadata": {},
     "output_type": "display_data"
    },
    {
     "data": {
      "text/latex": [
       "$\\displaystyle {\\Gamma}{}_{2}{}_{0}{}_{2} = \\epsilon a^{2}{\\left(\\eta \\right)} \\frac{\\partial}{\\partial \\eta} \\phi{\\left(\\eta,x,y,z \\right)} + 2 \\epsilon a{\\left(\\eta \\right)} \\phi{\\left(\\eta,x,y,z \\right)} \\frac{d}{d \\eta} a{\\left(\\eta \\right)} + a{\\left(\\eta \\right)} \\frac{d}{d \\eta} a{\\left(\\eta \\right)}$"
      ],
      "text/plain": [
       "<IPython.core.display.Math object>"
      ]
     },
     "metadata": {},
     "output_type": "display_data"
    },
    {
     "data": {
      "text/latex": [
       "$\\displaystyle {\\Gamma}{}_{2}{}_{1}{}_{1} = - \\epsilon a^{2}{\\left(\\eta \\right)} \\frac{\\partial}{\\partial y} \\phi{\\left(\\eta,x,y,z \\right)}$"
      ],
      "text/plain": [
       "<IPython.core.display.Math object>"
      ]
     },
     "metadata": {},
     "output_type": "display_data"
    },
    {
     "data": {
      "text/latex": [
       "$\\displaystyle {\\Gamma}{}_{2}{}_{1}{}_{2} = \\epsilon a^{2}{\\left(\\eta \\right)} \\frac{\\partial}{\\partial x} \\phi{\\left(\\eta,x,y,z \\right)}$"
      ],
      "text/plain": [
       "<IPython.core.display.Math object>"
      ]
     },
     "metadata": {},
     "output_type": "display_data"
    },
    {
     "data": {
      "text/latex": [
       "$\\displaystyle {\\Gamma}{}_{2}{}_{2}{}_{0} = \\epsilon a^{2}{\\left(\\eta \\right)} \\frac{\\partial}{\\partial \\eta} \\phi{\\left(\\eta,x,y,z \\right)} + 2 \\epsilon a{\\left(\\eta \\right)} \\phi{\\left(\\eta,x,y,z \\right)} \\frac{d}{d \\eta} a{\\left(\\eta \\right)} + a{\\left(\\eta \\right)} \\frac{d}{d \\eta} a{\\left(\\eta \\right)}$"
      ],
      "text/plain": [
       "<IPython.core.display.Math object>"
      ]
     },
     "metadata": {},
     "output_type": "display_data"
    },
    {
     "data": {
      "text/latex": [
       "$\\displaystyle {\\Gamma}{}_{2}{}_{2}{}_{1} = \\epsilon a^{2}{\\left(\\eta \\right)} \\frac{\\partial}{\\partial x} \\phi{\\left(\\eta,x,y,z \\right)}$"
      ],
      "text/plain": [
       "<IPython.core.display.Math object>"
      ]
     },
     "metadata": {},
     "output_type": "display_data"
    },
    {
     "data": {
      "text/latex": [
       "$\\displaystyle {\\Gamma}{}_{2}{}_{2}{}_{2} = \\epsilon a^{2}{\\left(\\eta \\right)} \\frac{\\partial}{\\partial y} \\phi{\\left(\\eta,x,y,z \\right)}$"
      ],
      "text/plain": [
       "<IPython.core.display.Math object>"
      ]
     },
     "metadata": {},
     "output_type": "display_data"
    },
    {
     "data": {
      "text/latex": [
       "$\\displaystyle {\\Gamma}{}_{2}{}_{2}{}_{3} = \\epsilon a^{2}{\\left(\\eta \\right)} \\frac{\\partial}{\\partial z} \\phi{\\left(\\eta,x,y,z \\right)}$"
      ],
      "text/plain": [
       "<IPython.core.display.Math object>"
      ]
     },
     "metadata": {},
     "output_type": "display_data"
    },
    {
     "data": {
      "text/latex": [
       "$\\displaystyle {\\Gamma}{}_{2}{}_{3}{}_{2} = \\epsilon a^{2}{\\left(\\eta \\right)} \\frac{\\partial}{\\partial z} \\phi{\\left(\\eta,x,y,z \\right)}$"
      ],
      "text/plain": [
       "<IPython.core.display.Math object>"
      ]
     },
     "metadata": {},
     "output_type": "display_data"
    },
    {
     "data": {
      "text/latex": [
       "$\\displaystyle {\\Gamma}{}_{2}{}_{3}{}_{3} = - \\epsilon a^{2}{\\left(\\eta \\right)} \\frac{\\partial}{\\partial y} \\phi{\\left(\\eta,x,y,z \\right)}$"
      ],
      "text/plain": [
       "<IPython.core.display.Math object>"
      ]
     },
     "metadata": {},
     "output_type": "display_data"
    },
    {
     "data": {
      "text/latex": [
       "$\\displaystyle {\\Gamma}{}_{3}{}_{0}{}_{0} = \\epsilon a^{2}{\\left(\\eta \\right)} \\frac{\\partial}{\\partial z} \\psi{\\left(\\eta,x,y,z \\right)}$"
      ],
      "text/plain": [
       "<IPython.core.display.Math object>"
      ]
     },
     "metadata": {},
     "output_type": "display_data"
    },
    {
     "data": {
      "text/latex": [
       "$\\displaystyle {\\Gamma}{}_{3}{}_{0}{}_{3} = \\epsilon a^{2}{\\left(\\eta \\right)} \\frac{\\partial}{\\partial \\eta} \\phi{\\left(\\eta,x,y,z \\right)} + 2 \\epsilon a{\\left(\\eta \\right)} \\phi{\\left(\\eta,x,y,z \\right)} \\frac{d}{d \\eta} a{\\left(\\eta \\right)} + a{\\left(\\eta \\right)} \\frac{d}{d \\eta} a{\\left(\\eta \\right)}$"
      ],
      "text/plain": [
       "<IPython.core.display.Math object>"
      ]
     },
     "metadata": {},
     "output_type": "display_data"
    },
    {
     "data": {
      "text/latex": [
       "$\\displaystyle {\\Gamma}{}_{3}{}_{1}{}_{1} = - \\epsilon a^{2}{\\left(\\eta \\right)} \\frac{\\partial}{\\partial z} \\phi{\\left(\\eta,x,y,z \\right)}$"
      ],
      "text/plain": [
       "<IPython.core.display.Math object>"
      ]
     },
     "metadata": {},
     "output_type": "display_data"
    },
    {
     "data": {
      "text/latex": [
       "$\\displaystyle {\\Gamma}{}_{3}{}_{1}{}_{3} = \\epsilon a^{2}{\\left(\\eta \\right)} \\frac{\\partial}{\\partial x} \\phi{\\left(\\eta,x,y,z \\right)}$"
      ],
      "text/plain": [
       "<IPython.core.display.Math object>"
      ]
     },
     "metadata": {},
     "output_type": "display_data"
    },
    {
     "data": {
      "text/latex": [
       "$\\displaystyle {\\Gamma}{}_{3}{}_{2}{}_{2} = - \\epsilon a^{2}{\\left(\\eta \\right)} \\frac{\\partial}{\\partial z} \\phi{\\left(\\eta,x,y,z \\right)}$"
      ],
      "text/plain": [
       "<IPython.core.display.Math object>"
      ]
     },
     "metadata": {},
     "output_type": "display_data"
    },
    {
     "data": {
      "text/latex": [
       "$\\displaystyle {\\Gamma}{}_{3}{}_{2}{}_{3} = \\epsilon a^{2}{\\left(\\eta \\right)} \\frac{\\partial}{\\partial y} \\phi{\\left(\\eta,x,y,z \\right)}$"
      ],
      "text/plain": [
       "<IPython.core.display.Math object>"
      ]
     },
     "metadata": {},
     "output_type": "display_data"
    },
    {
     "data": {
      "text/latex": [
       "$\\displaystyle {\\Gamma}{}_{3}{}_{3}{}_{0} = \\epsilon a^{2}{\\left(\\eta \\right)} \\frac{\\partial}{\\partial \\eta} \\phi{\\left(\\eta,x,y,z \\right)} + 2 \\epsilon a{\\left(\\eta \\right)} \\phi{\\left(\\eta,x,y,z \\right)} \\frac{d}{d \\eta} a{\\left(\\eta \\right)} + a{\\left(\\eta \\right)} \\frac{d}{d \\eta} a{\\left(\\eta \\right)}$"
      ],
      "text/plain": [
       "<IPython.core.display.Math object>"
      ]
     },
     "metadata": {},
     "output_type": "display_data"
    },
    {
     "data": {
      "text/latex": [
       "$\\displaystyle {\\Gamma}{}_{3}{}_{3}{}_{1} = \\epsilon a^{2}{\\left(\\eta \\right)} \\frac{\\partial}{\\partial x} \\phi{\\left(\\eta,x,y,z \\right)}$"
      ],
      "text/plain": [
       "<IPython.core.display.Math object>"
      ]
     },
     "metadata": {},
     "output_type": "display_data"
    },
    {
     "data": {
      "text/latex": [
       "$\\displaystyle {\\Gamma}{}_{3}{}_{3}{}_{2} = \\epsilon a^{2}{\\left(\\eta \\right)} \\frac{\\partial}{\\partial y} \\phi{\\left(\\eta,x,y,z \\right)}$"
      ],
      "text/plain": [
       "<IPython.core.display.Math object>"
      ]
     },
     "metadata": {},
     "output_type": "display_data"
    },
    {
     "data": {
      "text/latex": [
       "$\\displaystyle {\\Gamma}{}_{3}{}_{3}{}_{3} = \\epsilon a^{2}{\\left(\\eta \\right)} \\frac{\\partial}{\\partial z} \\phi{\\left(\\eta,x,y,z \\right)}$"
      ],
      "text/plain": [
       "<IPython.core.display.Math object>"
      ]
     },
     "metadata": {},
     "output_type": "display_data"
    },
    {
     "data": {
      "text/latex": [
       "$\\displaystyle {\\Gamma}{}^{0}{}_{0}{}_{0} = \\frac{\\frac{d}{d \\eta} a{\\left(\\eta \\right)}}{a{\\left(\\eta \\right)}} + \\epsilon \\frac{\\partial}{\\partial \\eta} \\psi{\\left(\\eta,x,y,z \\right)} + O\\left(\\epsilon^{2}\\right)$"
      ],
      "text/plain": [
       "<IPython.core.display.Math object>"
      ]
     },
     "metadata": {},
     "output_type": "display_data"
    },
    {
     "data": {
      "text/latex": [
       "$\\displaystyle {\\Gamma}{}^{0}{}_{0}{}_{1} = \\epsilon \\frac{\\partial}{\\partial x} \\psi{\\left(\\eta,x,y,z \\right)} + O\\left(\\epsilon^{2}\\right)$"
      ],
      "text/plain": [
       "<IPython.core.display.Math object>"
      ]
     },
     "metadata": {},
     "output_type": "display_data"
    },
    {
     "data": {
      "text/latex": [
       "$\\displaystyle {\\Gamma}{}^{0}{}_{0}{}_{2} = \\epsilon \\frac{\\partial}{\\partial y} \\psi{\\left(\\eta,x,y,z \\right)} + O\\left(\\epsilon^{2}\\right)$"
      ],
      "text/plain": [
       "<IPython.core.display.Math object>"
      ]
     },
     "metadata": {},
     "output_type": "display_data"
    },
    {
     "data": {
      "text/latex": [
       "$\\displaystyle {\\Gamma}{}^{0}{}_{0}{}_{3} = \\epsilon \\frac{\\partial}{\\partial z} \\psi{\\left(\\eta,x,y,z \\right)} + O\\left(\\epsilon^{2}\\right)$"
      ],
      "text/plain": [
       "<IPython.core.display.Math object>"
      ]
     },
     "metadata": {},
     "output_type": "display_data"
    },
    {
     "data": {
      "text/latex": [
       "$\\displaystyle {\\Gamma}{}^{0}{}_{1}{}_{0} = \\epsilon \\frac{\\partial}{\\partial x} \\psi{\\left(\\eta,x,y,z \\right)} + O\\left(\\epsilon^{2}\\right)$"
      ],
      "text/plain": [
       "<IPython.core.display.Math object>"
      ]
     },
     "metadata": {},
     "output_type": "display_data"
    },
    {
     "data": {
      "text/latex": [
       "$\\displaystyle {\\Gamma}{}^{0}{}_{1}{}_{1} = \\frac{\\frac{d}{d \\eta} a{\\left(\\eta \\right)}}{a{\\left(\\eta \\right)}} - \\frac{2 \\epsilon \\psi{\\left(\\eta,x,y,z \\right)} \\frac{d}{d \\eta} a{\\left(\\eta \\right)}}{a{\\left(\\eta \\right)}} + \\frac{2 \\epsilon \\phi{\\left(\\eta,x,y,z \\right)} \\frac{d}{d \\eta} a{\\left(\\eta \\right)}}{a{\\left(\\eta \\right)}} + \\epsilon \\frac{\\partial}{\\partial \\eta} \\phi{\\left(\\eta,x,y,z \\right)} + O\\left(\\epsilon^{2}\\right)$"
      ],
      "text/plain": [
       "<IPython.core.display.Math object>"
      ]
     },
     "metadata": {},
     "output_type": "display_data"
    },
    {
     "data": {
      "text/latex": [
       "$\\displaystyle {\\Gamma}{}^{0}{}_{2}{}_{0} = \\epsilon \\frac{\\partial}{\\partial y} \\psi{\\left(\\eta,x,y,z \\right)} + O\\left(\\epsilon^{2}\\right)$"
      ],
      "text/plain": [
       "<IPython.core.display.Math object>"
      ]
     },
     "metadata": {},
     "output_type": "display_data"
    },
    {
     "data": {
      "text/latex": [
       "$\\displaystyle {\\Gamma}{}^{0}{}_{2}{}_{2} = \\frac{\\frac{d}{d \\eta} a{\\left(\\eta \\right)}}{a{\\left(\\eta \\right)}} - \\frac{2 \\epsilon \\psi{\\left(\\eta,x,y,z \\right)} \\frac{d}{d \\eta} a{\\left(\\eta \\right)}}{a{\\left(\\eta \\right)}} + \\frac{2 \\epsilon \\phi{\\left(\\eta,x,y,z \\right)} \\frac{d}{d \\eta} a{\\left(\\eta \\right)}}{a{\\left(\\eta \\right)}} + \\epsilon \\frac{\\partial}{\\partial \\eta} \\phi{\\left(\\eta,x,y,z \\right)} + O\\left(\\epsilon^{2}\\right)$"
      ],
      "text/plain": [
       "<IPython.core.display.Math object>"
      ]
     },
     "metadata": {},
     "output_type": "display_data"
    },
    {
     "data": {
      "text/latex": [
       "$\\displaystyle {\\Gamma}{}^{0}{}_{3}{}_{0} = \\epsilon \\frac{\\partial}{\\partial z} \\psi{\\left(\\eta,x,y,z \\right)} + O\\left(\\epsilon^{2}\\right)$"
      ],
      "text/plain": [
       "<IPython.core.display.Math object>"
      ]
     },
     "metadata": {},
     "output_type": "display_data"
    },
    {
     "data": {
      "text/latex": [
       "$\\displaystyle {\\Gamma}{}^{0}{}_{3}{}_{3} = \\frac{\\frac{d}{d \\eta} a{\\left(\\eta \\right)}}{a{\\left(\\eta \\right)}} - \\frac{2 \\epsilon \\psi{\\left(\\eta,x,y,z \\right)} \\frac{d}{d \\eta} a{\\left(\\eta \\right)}}{a{\\left(\\eta \\right)}} + \\frac{2 \\epsilon \\phi{\\left(\\eta,x,y,z \\right)} \\frac{d}{d \\eta} a{\\left(\\eta \\right)}}{a{\\left(\\eta \\right)}} + \\epsilon \\frac{\\partial}{\\partial \\eta} \\phi{\\left(\\eta,x,y,z \\right)} + O\\left(\\epsilon^{2}\\right)$"
      ],
      "text/plain": [
       "<IPython.core.display.Math object>"
      ]
     },
     "metadata": {},
     "output_type": "display_data"
    },
    {
     "data": {
      "text/latex": [
       "$\\displaystyle {\\Gamma}{}^{1}{}_{0}{}_{0} = \\epsilon \\frac{\\partial}{\\partial x} \\psi{\\left(\\eta,x,y,z \\right)} + O\\left(\\epsilon^{2}\\right)$"
      ],
      "text/plain": [
       "<IPython.core.display.Math object>"
      ]
     },
     "metadata": {},
     "output_type": "display_data"
    },
    {
     "data": {
      "text/latex": [
       "$\\displaystyle {\\Gamma}{}^{1}{}_{0}{}_{1} = \\frac{\\frac{d}{d \\eta} a{\\left(\\eta \\right)}}{a{\\left(\\eta \\right)}} + \\epsilon \\frac{\\partial}{\\partial \\eta} \\phi{\\left(\\eta,x,y,z \\right)} + O\\left(\\epsilon^{2}\\right)$"
      ],
      "text/plain": [
       "<IPython.core.display.Math object>"
      ]
     },
     "metadata": {},
     "output_type": "display_data"
    },
    {
     "data": {
      "text/latex": [
       "$\\displaystyle {\\Gamma}{}^{1}{}_{1}{}_{0} = \\frac{\\frac{d}{d \\eta} a{\\left(\\eta \\right)}}{a{\\left(\\eta \\right)}} + \\epsilon \\frac{\\partial}{\\partial \\eta} \\phi{\\left(\\eta,x,y,z \\right)} + O\\left(\\epsilon^{2}\\right)$"
      ],
      "text/plain": [
       "<IPython.core.display.Math object>"
      ]
     },
     "metadata": {},
     "output_type": "display_data"
    },
    {
     "data": {
      "text/latex": [
       "$\\displaystyle {\\Gamma}{}^{1}{}_{1}{}_{1} = \\epsilon \\frac{\\partial}{\\partial x} \\phi{\\left(\\eta,x,y,z \\right)} + O\\left(\\epsilon^{2}\\right)$"
      ],
      "text/plain": [
       "<IPython.core.display.Math object>"
      ]
     },
     "metadata": {},
     "output_type": "display_data"
    },
    {
     "data": {
      "text/latex": [
       "$\\displaystyle {\\Gamma}{}^{1}{}_{1}{}_{2} = \\epsilon \\frac{\\partial}{\\partial y} \\phi{\\left(\\eta,x,y,z \\right)} + O\\left(\\epsilon^{2}\\right)$"
      ],
      "text/plain": [
       "<IPython.core.display.Math object>"
      ]
     },
     "metadata": {},
     "output_type": "display_data"
    },
    {
     "data": {
      "text/latex": [
       "$\\displaystyle {\\Gamma}{}^{1}{}_{1}{}_{3} = \\epsilon \\frac{\\partial}{\\partial z} \\phi{\\left(\\eta,x,y,z \\right)} + O\\left(\\epsilon^{2}\\right)$"
      ],
      "text/plain": [
       "<IPython.core.display.Math object>"
      ]
     },
     "metadata": {},
     "output_type": "display_data"
    },
    {
     "data": {
      "text/latex": [
       "$\\displaystyle {\\Gamma}{}^{1}{}_{2}{}_{1} = \\epsilon \\frac{\\partial}{\\partial y} \\phi{\\left(\\eta,x,y,z \\right)} + O\\left(\\epsilon^{2}\\right)$"
      ],
      "text/plain": [
       "<IPython.core.display.Math object>"
      ]
     },
     "metadata": {},
     "output_type": "display_data"
    },
    {
     "data": {
      "text/latex": [
       "$\\displaystyle {\\Gamma}{}^{1}{}_{2}{}_{2} = - \\epsilon \\frac{\\partial}{\\partial x} \\phi{\\left(\\eta,x,y,z \\right)} + O\\left(\\epsilon^{2}\\right)$"
      ],
      "text/plain": [
       "<IPython.core.display.Math object>"
      ]
     },
     "metadata": {},
     "output_type": "display_data"
    },
    {
     "data": {
      "text/latex": [
       "$\\displaystyle {\\Gamma}{}^{1}{}_{3}{}_{1} = \\epsilon \\frac{\\partial}{\\partial z} \\phi{\\left(\\eta,x,y,z \\right)} + O\\left(\\epsilon^{2}\\right)$"
      ],
      "text/plain": [
       "<IPython.core.display.Math object>"
      ]
     },
     "metadata": {},
     "output_type": "display_data"
    },
    {
     "data": {
      "text/latex": [
       "$\\displaystyle {\\Gamma}{}^{1}{}_{3}{}_{3} = - \\epsilon \\frac{\\partial}{\\partial x} \\phi{\\left(\\eta,x,y,z \\right)} + O\\left(\\epsilon^{2}\\right)$"
      ],
      "text/plain": [
       "<IPython.core.display.Math object>"
      ]
     },
     "metadata": {},
     "output_type": "display_data"
    },
    {
     "data": {
      "text/latex": [
       "$\\displaystyle {\\Gamma}{}^{2}{}_{0}{}_{0} = \\epsilon \\frac{\\partial}{\\partial y} \\psi{\\left(\\eta,x,y,z \\right)} + O\\left(\\epsilon^{2}\\right)$"
      ],
      "text/plain": [
       "<IPython.core.display.Math object>"
      ]
     },
     "metadata": {},
     "output_type": "display_data"
    },
    {
     "data": {
      "text/latex": [
       "$\\displaystyle {\\Gamma}{}^{2}{}_{0}{}_{2} = \\frac{\\frac{d}{d \\eta} a{\\left(\\eta \\right)}}{a{\\left(\\eta \\right)}} + \\epsilon \\frac{\\partial}{\\partial \\eta} \\phi{\\left(\\eta,x,y,z \\right)} + O\\left(\\epsilon^{2}\\right)$"
      ],
      "text/plain": [
       "<IPython.core.display.Math object>"
      ]
     },
     "metadata": {},
     "output_type": "display_data"
    },
    {
     "data": {
      "text/latex": [
       "$\\displaystyle {\\Gamma}{}^{2}{}_{1}{}_{1} = - \\epsilon \\frac{\\partial}{\\partial y} \\phi{\\left(\\eta,x,y,z \\right)} + O\\left(\\epsilon^{2}\\right)$"
      ],
      "text/plain": [
       "<IPython.core.display.Math object>"
      ]
     },
     "metadata": {},
     "output_type": "display_data"
    },
    {
     "data": {
      "text/latex": [
       "$\\displaystyle {\\Gamma}{}^{2}{}_{1}{}_{2} = \\epsilon \\frac{\\partial}{\\partial x} \\phi{\\left(\\eta,x,y,z \\right)} + O\\left(\\epsilon^{2}\\right)$"
      ],
      "text/plain": [
       "<IPython.core.display.Math object>"
      ]
     },
     "metadata": {},
     "output_type": "display_data"
    },
    {
     "data": {
      "text/latex": [
       "$\\displaystyle {\\Gamma}{}^{2}{}_{2}{}_{0} = \\frac{\\frac{d}{d \\eta} a{\\left(\\eta \\right)}}{a{\\left(\\eta \\right)}} + \\epsilon \\frac{\\partial}{\\partial \\eta} \\phi{\\left(\\eta,x,y,z \\right)} + O\\left(\\epsilon^{2}\\right)$"
      ],
      "text/plain": [
       "<IPython.core.display.Math object>"
      ]
     },
     "metadata": {},
     "output_type": "display_data"
    },
    {
     "data": {
      "text/latex": [
       "$\\displaystyle {\\Gamma}{}^{2}{}_{2}{}_{1} = \\epsilon \\frac{\\partial}{\\partial x} \\phi{\\left(\\eta,x,y,z \\right)} + O\\left(\\epsilon^{2}\\right)$"
      ],
      "text/plain": [
       "<IPython.core.display.Math object>"
      ]
     },
     "metadata": {},
     "output_type": "display_data"
    },
    {
     "data": {
      "text/latex": [
       "$\\displaystyle {\\Gamma}{}^{2}{}_{2}{}_{2} = \\epsilon \\frac{\\partial}{\\partial y} \\phi{\\left(\\eta,x,y,z \\right)} + O\\left(\\epsilon^{2}\\right)$"
      ],
      "text/plain": [
       "<IPython.core.display.Math object>"
      ]
     },
     "metadata": {},
     "output_type": "display_data"
    },
    {
     "data": {
      "text/latex": [
       "$\\displaystyle {\\Gamma}{}^{2}{}_{2}{}_{3} = \\epsilon \\frac{\\partial}{\\partial z} \\phi{\\left(\\eta,x,y,z \\right)} + O\\left(\\epsilon^{2}\\right)$"
      ],
      "text/plain": [
       "<IPython.core.display.Math object>"
      ]
     },
     "metadata": {},
     "output_type": "display_data"
    },
    {
     "data": {
      "text/latex": [
       "$\\displaystyle {\\Gamma}{}^{2}{}_{3}{}_{2} = \\epsilon \\frac{\\partial}{\\partial z} \\phi{\\left(\\eta,x,y,z \\right)} + O\\left(\\epsilon^{2}\\right)$"
      ],
      "text/plain": [
       "<IPython.core.display.Math object>"
      ]
     },
     "metadata": {},
     "output_type": "display_data"
    },
    {
     "data": {
      "text/latex": [
       "$\\displaystyle {\\Gamma}{}^{2}{}_{3}{}_{3} = - \\epsilon \\frac{\\partial}{\\partial y} \\phi{\\left(\\eta,x,y,z \\right)} + O\\left(\\epsilon^{2}\\right)$"
      ],
      "text/plain": [
       "<IPython.core.display.Math object>"
      ]
     },
     "metadata": {},
     "output_type": "display_data"
    },
    {
     "data": {
      "text/latex": [
       "$\\displaystyle {\\Gamma}{}^{3}{}_{0}{}_{0} = \\epsilon \\frac{\\partial}{\\partial z} \\psi{\\left(\\eta,x,y,z \\right)} + O\\left(\\epsilon^{2}\\right)$"
      ],
      "text/plain": [
       "<IPython.core.display.Math object>"
      ]
     },
     "metadata": {},
     "output_type": "display_data"
    },
    {
     "data": {
      "text/latex": [
       "$\\displaystyle {\\Gamma}{}^{3}{}_{0}{}_{3} = \\frac{\\frac{d}{d \\eta} a{\\left(\\eta \\right)}}{a{\\left(\\eta \\right)}} + \\epsilon \\frac{\\partial}{\\partial \\eta} \\phi{\\left(\\eta,x,y,z \\right)} + O\\left(\\epsilon^{2}\\right)$"
      ],
      "text/plain": [
       "<IPython.core.display.Math object>"
      ]
     },
     "metadata": {},
     "output_type": "display_data"
    },
    {
     "data": {
      "text/latex": [
       "$\\displaystyle {\\Gamma}{}^{3}{}_{1}{}_{1} = - \\epsilon \\frac{\\partial}{\\partial z} \\phi{\\left(\\eta,x,y,z \\right)} + O\\left(\\epsilon^{2}\\right)$"
      ],
      "text/plain": [
       "<IPython.core.display.Math object>"
      ]
     },
     "metadata": {},
     "output_type": "display_data"
    },
    {
     "data": {
      "text/latex": [
       "$\\displaystyle {\\Gamma}{}^{3}{}_{1}{}_{3} = \\epsilon \\frac{\\partial}{\\partial x} \\phi{\\left(\\eta,x,y,z \\right)} + O\\left(\\epsilon^{2}\\right)$"
      ],
      "text/plain": [
       "<IPython.core.display.Math object>"
      ]
     },
     "metadata": {},
     "output_type": "display_data"
    },
    {
     "data": {
      "text/latex": [
       "$\\displaystyle {\\Gamma}{}^{3}{}_{2}{}_{2} = - \\epsilon \\frac{\\partial}{\\partial z} \\phi{\\left(\\eta,x,y,z \\right)} + O\\left(\\epsilon^{2}\\right)$"
      ],
      "text/plain": [
       "<IPython.core.display.Math object>"
      ]
     },
     "metadata": {},
     "output_type": "display_data"
    },
    {
     "data": {
      "text/latex": [
       "$\\displaystyle {\\Gamma}{}^{3}{}_{2}{}_{3} = \\epsilon \\frac{\\partial}{\\partial y} \\phi{\\left(\\eta,x,y,z \\right)} + O\\left(\\epsilon^{2}\\right)$"
      ],
      "text/plain": [
       "<IPython.core.display.Math object>"
      ]
     },
     "metadata": {},
     "output_type": "display_data"
    },
    {
     "data": {
      "text/latex": [
       "$\\displaystyle {\\Gamma}{}^{3}{}_{3}{}_{0} = \\frac{\\frac{d}{d \\eta} a{\\left(\\eta \\right)}}{a{\\left(\\eta \\right)}} + \\epsilon \\frac{\\partial}{\\partial \\eta} \\phi{\\left(\\eta,x,y,z \\right)} + O\\left(\\epsilon^{2}\\right)$"
      ],
      "text/plain": [
       "<IPython.core.display.Math object>"
      ]
     },
     "metadata": {},
     "output_type": "display_data"
    },
    {
     "data": {
      "text/latex": [
       "$\\displaystyle {\\Gamma}{}^{3}{}_{3}{}_{1} = \\epsilon \\frac{\\partial}{\\partial x} \\phi{\\left(\\eta,x,y,z \\right)} + O\\left(\\epsilon^{2}\\right)$"
      ],
      "text/plain": [
       "<IPython.core.display.Math object>"
      ]
     },
     "metadata": {},
     "output_type": "display_data"
    },
    {
     "data": {
      "text/latex": [
       "$\\displaystyle {\\Gamma}{}^{3}{}_{3}{}_{2} = \\epsilon \\frac{\\partial}{\\partial y} \\phi{\\left(\\eta,x,y,z \\right)} + O\\left(\\epsilon^{2}\\right)$"
      ],
      "text/plain": [
       "<IPython.core.display.Math object>"
      ]
     },
     "metadata": {},
     "output_type": "display_data"
    },
    {
     "data": {
      "text/latex": [
       "$\\displaystyle {\\Gamma}{}^{3}{}_{3}{}_{3} = \\epsilon \\frac{\\partial}{\\partial z} \\phi{\\left(\\eta,x,y,z \\right)} + O\\left(\\epsilon^{2}\\right)$"
      ],
      "text/plain": [
       "<IPython.core.display.Math object>"
      ]
     },
     "metadata": {},
     "output_type": "display_data"
    }
   ],
   "source": [
    "# To calculate the First and Second kind Christoffel Symbols:\n",
    "Chr = pt.christoffel()\n",
    "\n",
    "# To calculate the first kind without the second kind:\n",
    "# Chr = pt.christoffel(Second_kind = False)\n",
    "\n",
    "# To calculate the second kind without the first kind:\n",
    "# Chr = pt.christoffel(First_kind = False)\n",
    "\n",
    "# To display the tensor:\n",
    "Chr.display()\n",
    "\n",
    "# By default it displays all the non zero components for the two kinds of Christoffel Symbols.\n",
    "\n",
    "# To display only a particular combination of indices, e.g., the Second kind:\n",
    "# Chr.display(\"^,_,_\")"
   ]
  },
  {
   "cell_type": "code",
   "execution_count": null,
   "metadata": {},
   "outputs": [],
   "source": [
    "# To calculate the default combination of the Riemann Tensor, i.e, (^,_,_,_): \n",
    "R = pt.riemann()\n",
    "\n",
    "# To calculate all the combinations:\n",
    "# R = pt.riemann(All = True)\n",
    "\n",
    "# To display the default Riemann tensor:\n",
    "R.display(\"^,_,_,_\")\n",
    "\n"
   ]
  },
  {
   "cell_type": "markdown",
   "metadata": {},
   "source": [
    "Remember that if there is no argument, the display method will show the non zero components of the tensor with all lower indices (\"_ ,_ ,_ ,_ \"), which, in this case, has not been calculated."
   ]
  },
  {
   "cell_type": "code",
   "execution_count": null,
   "metadata": {},
   "outputs": [],
   "source": [
    "# To calculate the default combination of the Ricci Tensor, i.e., (_,_):\n",
    "Ric = pt.ricci()\n",
    "\n",
    "# To calculate all the combinations:\n",
    "# Ric = pt.ricci(All = True)\n",
    "\n",
    "# To calculate the Ricci Scalar:\n",
    "RicS = pt.ricci_scalar()"
   ]
  },
  {
   "cell_type": "code",
   "execution_count": null,
   "metadata": {},
   "outputs": [],
   "source": [
    "# To display the Ricci Tensor (by default it displays the tensor with all lower indices):\n",
    "Ric.display(aslist=True)\n",
    "\n",
    "# To display the Ricci Scalar:\n",
    "RicS.display()"
   ]
  },
  {
   "cell_type": "code",
   "execution_count": null,
   "metadata": {},
   "outputs": [],
   "source": [
    "# To calculate the default combination of the Einstein Tensor, i.e., (_,_):\n",
    "#G = pt.einstein()\n",
    "\n",
    "# To calculate all the combinations:\n",
    "G = pt.einstein(All = True)\n",
    "\n",
    "# To display the Einstein Tensor:\n",
    "G.display('^,_',aslist=True)\n",
    "\n",
    "# To show the tensor components as a list:\n",
    "# G.display(aslist = True)"
   ]
  },
  {
   "cell_type": "markdown",
   "metadata": {},
   "source": [
    "## Vector Perturbations in $G_{\\mu \\nu}$"
   ]
  },
  {
   "cell_type": "code",
   "execution_count": 6,
   "metadata": {},
   "outputs": [
    {
     "name": "stdout",
     "output_type": "stream",
     "text": [
      "Function hxy(eta,x,y,z) is already defined\n",
      "Function hxz(eta,x,y,z) is already defined\n",
      "Function hyz(eta,x,y,z) is already defined\n",
      "The metric has already been defined. Do you want to overwrite it? (yes/no)y\n",
      "The metric has been redefined. Standard tensors have been deleted.\n",
      "en metric: eta,x,y,z\n",
      "\n",
      "Dimension = 4\n",
      "Coordinates = eta,x,y,z\n",
      "Metric was defined successfully: \n",
      "\n"
     ]
    },
    {
     "data": {
      "text/latex": [
       "$\\displaystyle ds^2 = - a^{2}{\\left(\\eta \\right)} \\cdot d\\eta^2+a^{2}{\\left(\\eta \\right)} \\cdot dx^2+2 \\epsilon a^{2}{\\left(\\eta \\right)} \\operatorname{hxy}{\\left(\\eta,x,y,z \\right)} \\cdot dx \\cdot dy+2 \\epsilon a^{2}{\\left(\\eta \\right)} \\operatorname{hxz}{\\left(\\eta,x,y,z \\right)} \\cdot dx \\cdot dz+a^{2}{\\left(\\eta \\right)} \\cdot dy^2+2 \\epsilon a^{2}{\\left(\\eta \\right)} \\operatorname{hyz}{\\left(\\eta,x,y,z \\right)} \\cdot dy \\cdot dz+a^{2}{\\left(\\eta \\right)} \\cdot dz^2$"
      ],
      "text/plain": [
       "<IPython.core.display.Math object>"
      ]
     },
     "metadata": {},
     "output_type": "display_data"
    },
    {
     "data": {
      "text/latex": [
       "$\\displaystyle \\left[\\begin{matrix}- a^{2}{\\left(\\eta \\right)} & 0 & 0 & 0\\\\0 & a^{2}{\\left(\\eta \\right)} & \\epsilon a^{2}{\\left(\\eta \\right)} \\operatorname{hxy}{\\left(\\eta,x,y,z \\right)} & \\epsilon a^{2}{\\left(\\eta \\right)} \\operatorname{hxz}{\\left(\\eta,x,y,z \\right)}\\\\0 & \\epsilon a^{2}{\\left(\\eta \\right)} \\operatorname{hxy}{\\left(\\eta,x,y,z \\right)} & a^{2}{\\left(\\eta \\right)} & \\epsilon a^{2}{\\left(\\eta \\right)} \\operatorname{hyz}{\\left(\\eta,x,y,z \\right)}\\\\0 & \\epsilon a^{2}{\\left(\\eta \\right)} \\operatorname{hxz}{\\left(\\eta,x,y,z \\right)} & \\epsilon a^{2}{\\left(\\eta \\right)} \\operatorname{hyz}{\\left(\\eta,x,y,z \\right)} & a^{2}{\\left(\\eta \\right)}\\end{matrix}\\right]$"
      ],
      "text/plain": [
       "⎡  2                                                                          \n",
       "⎢-a (η)             0                        0                        0       \n",
       "⎢                                                                             \n",
       "⎢                  2                 2                        2               \n",
       "⎢  0              a (η)           ε⋅a (η)⋅hxy(η, x, y, z)  ε⋅a (η)⋅hxz(η, x, y\n",
       "⎢                                                                             \n",
       "⎢           2                               2                 2               \n",
       "⎢  0     ε⋅a (η)⋅hxy(η, x, y, z)           a (η)           ε⋅a (η)⋅hyz(η, x, y\n",
       "⎢                                                                             \n",
       "⎢           2                        2                               2        \n",
       "⎣  0     ε⋅a (η)⋅hxz(η, x, y, z)  ε⋅a (η)⋅hyz(η, x, y, z)           a (η)     \n",
       "\n",
       "    ⎤\n",
       "    ⎥\n",
       "    ⎥\n",
       "    ⎥\n",
       ", z)⎥\n",
       "    ⎥\n",
       "    ⎥\n",
       ", z)⎥\n",
       "    ⎥\n",
       "    ⎥\n",
       "    ⎦"
      ]
     },
     "metadata": {},
     "output_type": "display_data"
    }
   ],
   "source": [
    "# Define the coordinates to be used\n",
    "#t,x,y,z = pt.def_coords('eta,x,y,z')\n",
    "# Define any constant (more than one constant can be defined at the same time)\n",
    "#a = pt.new_fun('a','eta')\n",
    "#phi = pt.new_fun('phi','eta,x,y,z')\n",
    "#psi = pt.new_fun('psi','eta,x,y,z')\n",
    "\n",
    "hxy = pt.new_fun('hxy','eta,x,y,z')\n",
    "hxz = pt.new_fun('hxz','eta,x,y,z')\n",
    "hyz = pt.new_fun('hyz','eta,x,y,z')\n",
    "\n",
    "\n",
    "#epsilon = pt.new_con('epsilon')\n",
    "#pt.setorder(epsilon,1)\n",
    "g = pt.create_metric('ds2 = a**2*(-deta**2 + dx**2 + dy**2 + dz**2 + 2*epsilon*hxy*dx*dy + 2*epsilon*hxz*dx*dz + 2*epsilon*hyz*dy*dz)')"
   ]
  },
  {
   "cell_type": "code",
   "execution_count": 7,
   "metadata": {
    "scrolled": false
   },
   "outputs": [
    {
     "data": {
      "text/latex": [
       "Christoffel $\\Gamma_{\\alpha \\beta \\gamma}$ and $\\Gamma^{\\alpha}_{\\beta \\gamma}$"
      ],
      "text/plain": [
       "<IPython.core.display.Latex object>"
      ]
     },
     "metadata": {},
     "output_type": "display_data"
    },
    {
     "data": {
      "application/vnd.jupyter.widget-view+json": {
       "model_id": "1de9131e99dd4b5b910b2be837cb2896",
       "version_major": 2,
       "version_minor": 0
      },
      "text/plain": [
       "  0%|          | 0/64 [00:00<?, ?it/s]"
      ]
     },
     "metadata": {},
     "output_type": "display_data"
    },
    {
     "data": {
      "text/latex": [
       "Riemann Tensor $R^{\\alpha}_{\\beta \\gamma \\delta}$"
      ],
      "text/plain": [
       "<IPython.core.display.Latex object>"
      ]
     },
     "metadata": {},
     "output_type": "display_data"
    },
    {
     "data": {
      "application/vnd.jupyter.widget-view+json": {
       "model_id": "90a2e7ae2dd247c5b510b862d572a85d",
       "version_major": 2,
       "version_minor": 0
      },
      "text/plain": [
       "  0%|          | 0/256 [00:00<?, ?it/s]"
      ]
     },
     "metadata": {},
     "output_type": "display_data"
    },
    {
     "data": {
      "text/latex": [
       "Ricci Tensor $R_{\\alpha \\beta}$"
      ],
      "text/plain": [
       "<IPython.core.display.Latex object>"
      ]
     },
     "metadata": {},
     "output_type": "display_data"
    },
    {
     "data": {
      "application/vnd.jupyter.widget-view+json": {
       "model_id": "848681248c33423eb0142f78b79101ba",
       "version_major": 2,
       "version_minor": 0
      },
      "text/plain": [
       "  0%|          | 0/16 [00:00<?, ?it/s]"
      ]
     },
     "metadata": {},
     "output_type": "display_data"
    },
    {
     "data": {
      "text/latex": [
       "Ricci Scalar $R$"
      ],
      "text/plain": [
       "<IPython.core.display.Latex object>"
      ]
     },
     "metadata": {},
     "output_type": "display_data"
    },
    {
     "data": {
      "application/vnd.jupyter.widget-view+json": {
       "model_id": "c4b3ef215b2e4f419435150d61cdfe28",
       "version_major": 2,
       "version_minor": 0
      },
      "text/plain": [
       "  0%|          | 0/16 [00:00<?, ?it/s]"
      ]
     },
     "metadata": {},
     "output_type": "display_data"
    },
    {
     "data": {
      "text/latex": [
       "Einstein Tensor $G_{\\alpha \\beta}$"
      ],
      "text/plain": [
       "<IPython.core.display.Latex object>"
      ]
     },
     "metadata": {},
     "output_type": "display_data"
    },
    {
     "data": {
      "application/vnd.jupyter.widget-view+json": {
       "model_id": "70c8d540830140419c40a41ad59d33ee",
       "version_major": 2,
       "version_minor": 0
      },
      "text/plain": [
       "  0%|          | 0/16 [00:00<?, ?it/s]"
      ]
     },
     "metadata": {},
     "output_type": "display_data"
    },
    {
     "data": {
      "application/vnd.jupyter.widget-view+json": {
       "model_id": "8e334e8cb75f4fdd9314e28b62e3a6fc",
       "version_major": 2,
       "version_minor": 0
      },
      "text/plain": [
       "Einstein Tensor $G{^\\alpha}{_\\beta}$:   0%|          | 0/16 [00:00<?, ?it/s]"
      ]
     },
     "metadata": {},
     "output_type": "display_data"
    },
    {
     "data": {
      "application/vnd.jupyter.widget-view+json": {
       "model_id": "1564cf8711fa41d29326186797912054",
       "version_major": 2,
       "version_minor": 0
      },
      "text/plain": [
       "Einstein Tensor $G{^\\alpha}{^\\beta}$:   0%|          | 0/16 [00:00<?, ?it/s]"
      ]
     },
     "metadata": {},
     "output_type": "display_data"
    },
    {
     "data": {
      "application/vnd.jupyter.widget-view+json": {
       "model_id": "15b35067dbd745549c5acfcb4ce7d03e",
       "version_major": 2,
       "version_minor": 0
      },
      "text/plain": [
       "Einstein Tensor $G{_\\alpha}{^\\beta}$:   0%|          | 0/16 [00:00<?, ?it/s]"
      ]
     },
     "metadata": {},
     "output_type": "display_data"
    },
    {
     "data": {
      "text/latex": [
       "All other indexes of Einstein Tensor $G$  already calculated."
      ],
      "text/plain": [
       "<IPython.core.display.Latex object>"
      ]
     },
     "metadata": {},
     "output_type": "display_data"
    },
    {
     "data": {
      "text/latex": [
       "$\\displaystyle {G}{}^{0}{}_{0} = - \\frac{3 \\left(\\frac{d}{d \\eta} a{\\left(\\eta \\right)}\\right)^{2}}{a^{4}{\\left(\\eta \\right)}} - \\frac{\\epsilon \\frac{\\partial^{2}}{\\partial z\\partial y} \\operatorname{hyz}{\\left(\\eta,x,y,z \\right)}}{a^{2}{\\left(\\eta \\right)}} - \\frac{\\epsilon \\frac{\\partial^{2}}{\\partial z\\partial x} \\operatorname{hxz}{\\left(\\eta,x,y,z \\right)}}{a^{2}{\\left(\\eta \\right)}} - \\frac{\\epsilon \\frac{\\partial^{2}}{\\partial y\\partial x} \\operatorname{hxy}{\\left(\\eta,x,y,z \\right)}}{a^{2}{\\left(\\eta \\right)}} + O\\left(\\epsilon^{2}\\right)$"
      ],
      "text/plain": [
       "<IPython.core.display.Math object>"
      ]
     },
     "metadata": {},
     "output_type": "display_data"
    },
    {
     "data": {
      "text/latex": [
       "$\\displaystyle {G}{}^{0}{}_{1} = - \\frac{\\epsilon \\frac{\\partial^{2}}{\\partial z\\partial \\eta} \\operatorname{hxz}{\\left(\\eta,x,y,z \\right)}}{2 a^{2}{\\left(\\eta \\right)}} - \\frac{\\epsilon \\frac{\\partial^{2}}{\\partial y\\partial \\eta} \\operatorname{hxy}{\\left(\\eta,x,y,z \\right)}}{2 a^{2}{\\left(\\eta \\right)}} + O\\left(\\epsilon^{2}\\right)$"
      ],
      "text/plain": [
       "<IPython.core.display.Math object>"
      ]
     },
     "metadata": {},
     "output_type": "display_data"
    },
    {
     "data": {
      "text/latex": [
       "$\\displaystyle {G}{}^{0}{}_{2} = - \\frac{\\epsilon \\frac{\\partial^{2}}{\\partial z\\partial \\eta} \\operatorname{hyz}{\\left(\\eta,x,y,z \\right)}}{2 a^{2}{\\left(\\eta \\right)}} - \\frac{\\epsilon \\frac{\\partial^{2}}{\\partial x\\partial \\eta} \\operatorname{hxy}{\\left(\\eta,x,y,z \\right)}}{2 a^{2}{\\left(\\eta \\right)}} + O\\left(\\epsilon^{2}\\right)$"
      ],
      "text/plain": [
       "<IPython.core.display.Math object>"
      ]
     },
     "metadata": {},
     "output_type": "display_data"
    },
    {
     "data": {
      "text/latex": [
       "$\\displaystyle {G}{}^{0}{}_{3} = - \\frac{\\epsilon \\frac{\\partial^{2}}{\\partial y\\partial \\eta} \\operatorname{hyz}{\\left(\\eta,x,y,z \\right)}}{2 a^{2}{\\left(\\eta \\right)}} - \\frac{\\epsilon \\frac{\\partial^{2}}{\\partial x\\partial \\eta} \\operatorname{hxz}{\\left(\\eta,x,y,z \\right)}}{2 a^{2}{\\left(\\eta \\right)}} + O\\left(\\epsilon^{2}\\right)$"
      ],
      "text/plain": [
       "<IPython.core.display.Math object>"
      ]
     },
     "metadata": {},
     "output_type": "display_data"
    },
    {
     "data": {
      "text/latex": [
       "$\\displaystyle {G}{}^{1}{}_{0} = \\frac{\\epsilon \\frac{\\partial^{2}}{\\partial z\\partial \\eta} \\operatorname{hxz}{\\left(\\eta,x,y,z \\right)}}{2 a^{2}{\\left(\\eta \\right)}} + \\frac{\\epsilon \\frac{\\partial^{2}}{\\partial y\\partial \\eta} \\operatorname{hxy}{\\left(\\eta,x,y,z \\right)}}{2 a^{2}{\\left(\\eta \\right)}} + O\\left(\\epsilon^{2}\\right)$"
      ],
      "text/plain": [
       "<IPython.core.display.Math object>"
      ]
     },
     "metadata": {},
     "output_type": "display_data"
    },
    {
     "data": {
      "text/latex": [
       "$\\displaystyle {G}{}^{1}{}_{1} = \\frac{\\left(\\frac{d}{d \\eta} a{\\left(\\eta \\right)}\\right)^{2}}{a^{4}{\\left(\\eta \\right)}} - \\frac{2 \\frac{d^{2}}{d \\eta^{2}} a{\\left(\\eta \\right)}}{a^{3}{\\left(\\eta \\right)}} - \\frac{\\epsilon \\frac{\\partial^{2}}{\\partial z\\partial y} \\operatorname{hyz}{\\left(\\eta,x,y,z \\right)}}{a^{2}{\\left(\\eta \\right)}} + O\\left(\\epsilon^{2}\\right)$"
      ],
      "text/plain": [
       "<IPython.core.display.Math object>"
      ]
     },
     "metadata": {},
     "output_type": "display_data"
    },
    {
     "data": {
      "text/latex": [
       "$\\displaystyle {G}{}^{1}{}_{2} = \\frac{\\epsilon \\frac{d}{d \\eta} a{\\left(\\eta \\right)} \\frac{\\partial}{\\partial \\eta} \\operatorname{hxy}{\\left(\\eta,x,y,z \\right)}}{a^{3}{\\left(\\eta \\right)}} + \\frac{\\epsilon \\frac{\\partial^{2}}{\\partial z\\partial x} \\operatorname{hyz}{\\left(\\eta,x,y,z \\right)}}{2 a^{2}{\\left(\\eta \\right)}} + \\frac{\\epsilon \\frac{\\partial^{2}}{\\partial z\\partial y} \\operatorname{hxz}{\\left(\\eta,x,y,z \\right)}}{2 a^{2}{\\left(\\eta \\right)}} - \\frac{\\epsilon \\frac{\\partial^{2}}{\\partial z^{2}} \\operatorname{hxy}{\\left(\\eta,x,y,z \\right)}}{2 a^{2}{\\left(\\eta \\right)}} + \\frac{\\epsilon \\frac{\\partial^{2}}{\\partial \\eta^{2}} \\operatorname{hxy}{\\left(\\eta,x,y,z \\right)}}{2 a^{2}{\\left(\\eta \\right)}} + O\\left(\\epsilon^{2}\\right)$"
      ],
      "text/plain": [
       "<IPython.core.display.Math object>"
      ]
     },
     "metadata": {},
     "output_type": "display_data"
    },
    {
     "data": {
      "text/latex": [
       "$\\displaystyle {G}{}^{1}{}_{3} = \\frac{\\epsilon \\frac{d}{d \\eta} a{\\left(\\eta \\right)} \\frac{\\partial}{\\partial \\eta} \\operatorname{hxz}{\\left(\\eta,x,y,z \\right)}}{a^{3}{\\left(\\eta \\right)}} + \\frac{\\epsilon \\frac{\\partial^{2}}{\\partial y\\partial x} \\operatorname{hyz}{\\left(\\eta,x,y,z \\right)}}{2 a^{2}{\\left(\\eta \\right)}} + \\frac{\\epsilon \\frac{\\partial^{2}}{\\partial z\\partial y} \\operatorname{hxy}{\\left(\\eta,x,y,z \\right)}}{2 a^{2}{\\left(\\eta \\right)}} - \\frac{\\epsilon \\frac{\\partial^{2}}{\\partial y^{2}} \\operatorname{hxz}{\\left(\\eta,x,y,z \\right)}}{2 a^{2}{\\left(\\eta \\right)}} + \\frac{\\epsilon \\frac{\\partial^{2}}{\\partial \\eta^{2}} \\operatorname{hxz}{\\left(\\eta,x,y,z \\right)}}{2 a^{2}{\\left(\\eta \\right)}} + O\\left(\\epsilon^{2}\\right)$"
      ],
      "text/plain": [
       "<IPython.core.display.Math object>"
      ]
     },
     "metadata": {},
     "output_type": "display_data"
    },
    {
     "data": {
      "text/latex": [
       "$\\displaystyle {G}{}^{2}{}_{0} = \\frac{\\epsilon \\frac{\\partial^{2}}{\\partial z\\partial \\eta} \\operatorname{hyz}{\\left(\\eta,x,y,z \\right)}}{2 a^{2}{\\left(\\eta \\right)}} + \\frac{\\epsilon \\frac{\\partial^{2}}{\\partial x\\partial \\eta} \\operatorname{hxy}{\\left(\\eta,x,y,z \\right)}}{2 a^{2}{\\left(\\eta \\right)}} + O\\left(\\epsilon^{2}\\right)$"
      ],
      "text/plain": [
       "<IPython.core.display.Math object>"
      ]
     },
     "metadata": {},
     "output_type": "display_data"
    },
    {
     "data": {
      "text/latex": [
       "$\\displaystyle {G}{}^{2}{}_{1} = \\frac{\\epsilon \\frac{d}{d \\eta} a{\\left(\\eta \\right)} \\frac{\\partial}{\\partial \\eta} \\operatorname{hxy}{\\left(\\eta,x,y,z \\right)}}{a^{3}{\\left(\\eta \\right)}} + \\frac{\\epsilon \\frac{\\partial^{2}}{\\partial z\\partial x} \\operatorname{hyz}{\\left(\\eta,x,y,z \\right)}}{2 a^{2}{\\left(\\eta \\right)}} + \\frac{\\epsilon \\frac{\\partial^{2}}{\\partial z\\partial y} \\operatorname{hxz}{\\left(\\eta,x,y,z \\right)}}{2 a^{2}{\\left(\\eta \\right)}} - \\frac{\\epsilon \\frac{\\partial^{2}}{\\partial z^{2}} \\operatorname{hxy}{\\left(\\eta,x,y,z \\right)}}{2 a^{2}{\\left(\\eta \\right)}} + \\frac{\\epsilon \\frac{\\partial^{2}}{\\partial \\eta^{2}} \\operatorname{hxy}{\\left(\\eta,x,y,z \\right)}}{2 a^{2}{\\left(\\eta \\right)}} + O\\left(\\epsilon^{2}\\right)$"
      ],
      "text/plain": [
       "<IPython.core.display.Math object>"
      ]
     },
     "metadata": {},
     "output_type": "display_data"
    },
    {
     "data": {
      "text/latex": [
       "$\\displaystyle {G}{}^{2}{}_{2} = \\frac{\\left(\\frac{d}{d \\eta} a{\\left(\\eta \\right)}\\right)^{2}}{a^{4}{\\left(\\eta \\right)}} - \\frac{2 \\frac{d^{2}}{d \\eta^{2}} a{\\left(\\eta \\right)}}{a^{3}{\\left(\\eta \\right)}} - \\frac{\\epsilon \\frac{\\partial^{2}}{\\partial z\\partial x} \\operatorname{hxz}{\\left(\\eta,x,y,z \\right)}}{a^{2}{\\left(\\eta \\right)}} + O\\left(\\epsilon^{2}\\right)$"
      ],
      "text/plain": [
       "<IPython.core.display.Math object>"
      ]
     },
     "metadata": {},
     "output_type": "display_data"
    },
    {
     "data": {
      "text/latex": [
       "$\\displaystyle {G}{}^{2}{}_{3} = \\frac{\\epsilon \\frac{d}{d \\eta} a{\\left(\\eta \\right)} \\frac{\\partial}{\\partial \\eta} \\operatorname{hyz}{\\left(\\eta,x,y,z \\right)}}{a^{3}{\\left(\\eta \\right)}} + \\frac{\\epsilon \\frac{\\partial^{2}}{\\partial y\\partial x} \\operatorname{hxz}{\\left(\\eta,x,y,z \\right)}}{2 a^{2}{\\left(\\eta \\right)}} + \\frac{\\epsilon \\frac{\\partial^{2}}{\\partial z\\partial x} \\operatorname{hxy}{\\left(\\eta,x,y,z \\right)}}{2 a^{2}{\\left(\\eta \\right)}} - \\frac{\\epsilon \\frac{\\partial^{2}}{\\partial x^{2}} \\operatorname{hyz}{\\left(\\eta,x,y,z \\right)}}{2 a^{2}{\\left(\\eta \\right)}} + \\frac{\\epsilon \\frac{\\partial^{2}}{\\partial \\eta^{2}} \\operatorname{hyz}{\\left(\\eta,x,y,z \\right)}}{2 a^{2}{\\left(\\eta \\right)}} + O\\left(\\epsilon^{2}\\right)$"
      ],
      "text/plain": [
       "<IPython.core.display.Math object>"
      ]
     },
     "metadata": {},
     "output_type": "display_data"
    },
    {
     "data": {
      "text/latex": [
       "$\\displaystyle {G}{}^{3}{}_{0} = \\frac{\\epsilon \\frac{\\partial^{2}}{\\partial y\\partial \\eta} \\operatorname{hyz}{\\left(\\eta,x,y,z \\right)}}{2 a^{2}{\\left(\\eta \\right)}} + \\frac{\\epsilon \\frac{\\partial^{2}}{\\partial x\\partial \\eta} \\operatorname{hxz}{\\left(\\eta,x,y,z \\right)}}{2 a^{2}{\\left(\\eta \\right)}} + O\\left(\\epsilon^{2}\\right)$"
      ],
      "text/plain": [
       "<IPython.core.display.Math object>"
      ]
     },
     "metadata": {},
     "output_type": "display_data"
    },
    {
     "data": {
      "text/latex": [
       "$\\displaystyle {G}{}^{3}{}_{1} = \\frac{\\epsilon \\frac{d}{d \\eta} a{\\left(\\eta \\right)} \\frac{\\partial}{\\partial \\eta} \\operatorname{hxz}{\\left(\\eta,x,y,z \\right)}}{a^{3}{\\left(\\eta \\right)}} + \\frac{\\epsilon \\frac{\\partial^{2}}{\\partial y\\partial x} \\operatorname{hyz}{\\left(\\eta,x,y,z \\right)}}{2 a^{2}{\\left(\\eta \\right)}} + \\frac{\\epsilon \\frac{\\partial^{2}}{\\partial z\\partial y} \\operatorname{hxy}{\\left(\\eta,x,y,z \\right)}}{2 a^{2}{\\left(\\eta \\right)}} - \\frac{\\epsilon \\frac{\\partial^{2}}{\\partial y^{2}} \\operatorname{hxz}{\\left(\\eta,x,y,z \\right)}}{2 a^{2}{\\left(\\eta \\right)}} + \\frac{\\epsilon \\frac{\\partial^{2}}{\\partial \\eta^{2}} \\operatorname{hxz}{\\left(\\eta,x,y,z \\right)}}{2 a^{2}{\\left(\\eta \\right)}} + O\\left(\\epsilon^{2}\\right)$"
      ],
      "text/plain": [
       "<IPython.core.display.Math object>"
      ]
     },
     "metadata": {},
     "output_type": "display_data"
    },
    {
     "data": {
      "text/latex": [
       "$\\displaystyle {G}{}^{3}{}_{2} = \\frac{\\epsilon \\frac{d}{d \\eta} a{\\left(\\eta \\right)} \\frac{\\partial}{\\partial \\eta} \\operatorname{hyz}{\\left(\\eta,x,y,z \\right)}}{a^{3}{\\left(\\eta \\right)}} + \\frac{\\epsilon \\frac{\\partial^{2}}{\\partial y\\partial x} \\operatorname{hxz}{\\left(\\eta,x,y,z \\right)}}{2 a^{2}{\\left(\\eta \\right)}} + \\frac{\\epsilon \\frac{\\partial^{2}}{\\partial z\\partial x} \\operatorname{hxy}{\\left(\\eta,x,y,z \\right)}}{2 a^{2}{\\left(\\eta \\right)}} - \\frac{\\epsilon \\frac{\\partial^{2}}{\\partial x^{2}} \\operatorname{hyz}{\\left(\\eta,x,y,z \\right)}}{2 a^{2}{\\left(\\eta \\right)}} + \\frac{\\epsilon \\frac{\\partial^{2}}{\\partial \\eta^{2}} \\operatorname{hyz}{\\left(\\eta,x,y,z \\right)}}{2 a^{2}{\\left(\\eta \\right)}} + O\\left(\\epsilon^{2}\\right)$"
      ],
      "text/plain": [
       "<IPython.core.display.Math object>"
      ]
     },
     "metadata": {},
     "output_type": "display_data"
    },
    {
     "data": {
      "text/latex": [
       "$\\displaystyle {G}{}^{3}{}_{3} = \\frac{\\left(\\frac{d}{d \\eta} a{\\left(\\eta \\right)}\\right)^{2}}{a^{4}{\\left(\\eta \\right)}} - \\frac{2 \\frac{d^{2}}{d \\eta^{2}} a{\\left(\\eta \\right)}}{a^{3}{\\left(\\eta \\right)}} - \\frac{\\epsilon \\frac{\\partial^{2}}{\\partial y\\partial x} \\operatorname{hxy}{\\left(\\eta,x,y,z \\right)}}{a^{2}{\\left(\\eta \\right)}} + O\\left(\\epsilon^{2}\\right)$"
      ],
      "text/plain": [
       "<IPython.core.display.Math object>"
      ]
     },
     "metadata": {},
     "output_type": "display_data"
    }
   ],
   "source": [
    "# To calculate the default combination of the Einstein Tensor, i.e., (_,_):\n",
    "#G = pt.einstein()\n",
    "\n",
    "# To calculate all the combinations:\n",
    "G = pt.einstein(All = True)\n",
    "\n",
    "# To display the Einstein Tensor:\n",
    "G.display('^,_',aslist=True)\n",
    "\n",
    "# To show the tensor components as a list:\n",
    "# G.display(aslist = True)"
   ]
  },
  {
   "cell_type": "code",
   "execution_count": 11,
   "metadata": {},
   "outputs": [
    {
     "data": {
      "text/latex": [
       "$\\displaystyle {G}{}_{0}{}_{0} = \\frac{3 \\left(\\frac{d}{d \\eta} a{\\left(\\eta \\right)}\\right)^{2}}{a^{2}{\\left(\\eta \\right)}} + \\epsilon \\frac{\\partial^{2}}{\\partial z\\partial y} \\operatorname{hyz}{\\left(\\eta,x,y,z \\right)} + \\epsilon \\frac{\\partial^{2}}{\\partial z\\partial x} \\operatorname{hxz}{\\left(\\eta,x,y,z \\right)} + \\epsilon \\frac{\\partial^{2}}{\\partial y\\partial x} \\operatorname{hxy}{\\left(\\eta,x,y,z \\right)} + O\\left(\\epsilon^{2}\\right)$"
      ],
      "text/plain": [
       "<IPython.core.display.Math object>"
      ]
     },
     "metadata": {},
     "output_type": "display_data"
    },
    {
     "data": {
      "text/latex": [
       "$\\displaystyle {G}{}_{0}{}_{1} = \\frac{\\epsilon \\frac{\\partial^{2}}{\\partial z\\partial \\eta} \\operatorname{hxz}{\\left(\\eta,x,y,z \\right)}}{2} + \\frac{\\epsilon \\frac{\\partial^{2}}{\\partial y\\partial \\eta} \\operatorname{hxy}{\\left(\\eta,x,y,z \\right)}}{2} + O\\left(\\epsilon^{2}\\right)$"
      ],
      "text/plain": [
       "<IPython.core.display.Math object>"
      ]
     },
     "metadata": {},
     "output_type": "display_data"
    },
    {
     "data": {
      "text/latex": [
       "$\\displaystyle {G}{}_{0}{}_{2} = \\frac{\\epsilon \\frac{\\partial^{2}}{\\partial z\\partial \\eta} \\operatorname{hyz}{\\left(\\eta,x,y,z \\right)}}{2} + \\frac{\\epsilon \\frac{\\partial^{2}}{\\partial x\\partial \\eta} \\operatorname{hxy}{\\left(\\eta,x,y,z \\right)}}{2} + O\\left(\\epsilon^{2}\\right)$"
      ],
      "text/plain": [
       "<IPython.core.display.Math object>"
      ]
     },
     "metadata": {},
     "output_type": "display_data"
    },
    {
     "data": {
      "text/latex": [
       "$\\displaystyle {G}{}_{0}{}_{3} = \\frac{\\epsilon \\frac{\\partial^{2}}{\\partial y\\partial \\eta} \\operatorname{hyz}{\\left(\\eta,x,y,z \\right)}}{2} + \\frac{\\epsilon \\frac{\\partial^{2}}{\\partial x\\partial \\eta} \\operatorname{hxz}{\\left(\\eta,x,y,z \\right)}}{2} + O\\left(\\epsilon^{2}\\right)$"
      ],
      "text/plain": [
       "<IPython.core.display.Math object>"
      ]
     },
     "metadata": {},
     "output_type": "display_data"
    },
    {
     "data": {
      "text/latex": [
       "$\\displaystyle {G}{}_{1}{}_{0} = \\frac{\\epsilon \\frac{\\partial^{2}}{\\partial z\\partial \\eta} \\operatorname{hxz}{\\left(\\eta,x,y,z \\right)}}{2} + \\frac{\\epsilon \\frac{\\partial^{2}}{\\partial y\\partial \\eta} \\operatorname{hxy}{\\left(\\eta,x,y,z \\right)}}{2} + O\\left(\\epsilon^{2}\\right)$"
      ],
      "text/plain": [
       "<IPython.core.display.Math object>"
      ]
     },
     "metadata": {},
     "output_type": "display_data"
    },
    {
     "data": {
      "text/latex": [
       "$\\displaystyle {G}{}_{1}{}_{1} = \\frac{\\left(\\frac{d}{d \\eta} a{\\left(\\eta \\right)}\\right)^{2}}{a^{2}{\\left(\\eta \\right)}} - \\frac{2 \\frac{d^{2}}{d \\eta^{2}} a{\\left(\\eta \\right)}}{a{\\left(\\eta \\right)}} - \\epsilon \\frac{\\partial^{2}}{\\partial z\\partial y} \\operatorname{hyz}{\\left(\\eta,x,y,z \\right)} + O\\left(\\epsilon^{2}\\right)$"
      ],
      "text/plain": [
       "<IPython.core.display.Math object>"
      ]
     },
     "metadata": {},
     "output_type": "display_data"
    },
    {
     "data": {
      "text/latex": [
       "$\\displaystyle {G}{}_{1}{}_{2} = \\frac{\\epsilon \\operatorname{hxy}{\\left(\\eta,x,y,z \\right)} \\left(\\frac{d}{d \\eta} a{\\left(\\eta \\right)}\\right)^{2}}{a^{2}{\\left(\\eta \\right)}} + \\frac{\\epsilon \\frac{d}{d \\eta} a{\\left(\\eta \\right)} \\frac{\\partial}{\\partial \\eta} \\operatorname{hxy}{\\left(\\eta,x,y,z \\right)}}{a{\\left(\\eta \\right)}} - \\frac{2 \\epsilon \\operatorname{hxy}{\\left(\\eta,x,y,z \\right)} \\frac{d^{2}}{d \\eta^{2}} a{\\left(\\eta \\right)}}{a{\\left(\\eta \\right)}} + \\frac{\\epsilon \\frac{\\partial^{2}}{\\partial z\\partial x} \\operatorname{hyz}{\\left(\\eta,x,y,z \\right)}}{2} + \\frac{\\epsilon \\frac{\\partial^{2}}{\\partial z\\partial y} \\operatorname{hxz}{\\left(\\eta,x,y,z \\right)}}{2} - \\frac{\\epsilon \\frac{\\partial^{2}}{\\partial z^{2}} \\operatorname{hxy}{\\left(\\eta,x,y,z \\right)}}{2} + \\frac{\\epsilon \\frac{\\partial^{2}}{\\partial \\eta^{2}} \\operatorname{hxy}{\\left(\\eta,x,y,z \\right)}}{2} + O\\left(\\epsilon^{2}\\right)$"
      ],
      "text/plain": [
       "<IPython.core.display.Math object>"
      ]
     },
     "metadata": {},
     "output_type": "display_data"
    },
    {
     "data": {
      "text/latex": [
       "$\\displaystyle {G}{}_{1}{}_{3} = \\frac{\\epsilon \\operatorname{hxz}{\\left(\\eta,x,y,z \\right)} \\left(\\frac{d}{d \\eta} a{\\left(\\eta \\right)}\\right)^{2}}{a^{2}{\\left(\\eta \\right)}} + \\frac{\\epsilon \\frac{d}{d \\eta} a{\\left(\\eta \\right)} \\frac{\\partial}{\\partial \\eta} \\operatorname{hxz}{\\left(\\eta,x,y,z \\right)}}{a{\\left(\\eta \\right)}} - \\frac{2 \\epsilon \\operatorname{hxz}{\\left(\\eta,x,y,z \\right)} \\frac{d^{2}}{d \\eta^{2}} a{\\left(\\eta \\right)}}{a{\\left(\\eta \\right)}} + \\frac{\\epsilon \\frac{\\partial^{2}}{\\partial y\\partial x} \\operatorname{hyz}{\\left(\\eta,x,y,z \\right)}}{2} + \\frac{\\epsilon \\frac{\\partial^{2}}{\\partial z\\partial y} \\operatorname{hxy}{\\left(\\eta,x,y,z \\right)}}{2} - \\frac{\\epsilon \\frac{\\partial^{2}}{\\partial y^{2}} \\operatorname{hxz}{\\left(\\eta,x,y,z \\right)}}{2} + \\frac{\\epsilon \\frac{\\partial^{2}}{\\partial \\eta^{2}} \\operatorname{hxz}{\\left(\\eta,x,y,z \\right)}}{2} + O\\left(\\epsilon^{2}\\right)$"
      ],
      "text/plain": [
       "<IPython.core.display.Math object>"
      ]
     },
     "metadata": {},
     "output_type": "display_data"
    },
    {
     "data": {
      "text/latex": [
       "$\\displaystyle {G}{}_{2}{}_{0} = \\frac{\\epsilon \\frac{\\partial^{2}}{\\partial z\\partial \\eta} \\operatorname{hyz}{\\left(\\eta,x,y,z \\right)}}{2} + \\frac{\\epsilon \\frac{\\partial^{2}}{\\partial x\\partial \\eta} \\operatorname{hxy}{\\left(\\eta,x,y,z \\right)}}{2} + O\\left(\\epsilon^{2}\\right)$"
      ],
      "text/plain": [
       "<IPython.core.display.Math object>"
      ]
     },
     "metadata": {},
     "output_type": "display_data"
    },
    {
     "data": {
      "text/latex": [
       "$\\displaystyle {G}{}_{2}{}_{1} = \\frac{\\epsilon \\operatorname{hxy}{\\left(\\eta,x,y,z \\right)} \\left(\\frac{d}{d \\eta} a{\\left(\\eta \\right)}\\right)^{2}}{a^{2}{\\left(\\eta \\right)}} + \\frac{\\epsilon \\frac{d}{d \\eta} a{\\left(\\eta \\right)} \\frac{\\partial}{\\partial \\eta} \\operatorname{hxy}{\\left(\\eta,x,y,z \\right)}}{a{\\left(\\eta \\right)}} - \\frac{2 \\epsilon \\operatorname{hxy}{\\left(\\eta,x,y,z \\right)} \\frac{d^{2}}{d \\eta^{2}} a{\\left(\\eta \\right)}}{a{\\left(\\eta \\right)}} + \\frac{\\epsilon \\frac{\\partial^{2}}{\\partial z\\partial x} \\operatorname{hyz}{\\left(\\eta,x,y,z \\right)}}{2} + \\frac{\\epsilon \\frac{\\partial^{2}}{\\partial z\\partial y} \\operatorname{hxz}{\\left(\\eta,x,y,z \\right)}}{2} - \\frac{\\epsilon \\frac{\\partial^{2}}{\\partial z^{2}} \\operatorname{hxy}{\\left(\\eta,x,y,z \\right)}}{2} + \\frac{\\epsilon \\frac{\\partial^{2}}{\\partial \\eta^{2}} \\operatorname{hxy}{\\left(\\eta,x,y,z \\right)}}{2} + O\\left(\\epsilon^{2}\\right)$"
      ],
      "text/plain": [
       "<IPython.core.display.Math object>"
      ]
     },
     "metadata": {},
     "output_type": "display_data"
    },
    {
     "data": {
      "text/latex": [
       "$\\displaystyle {G}{}_{2}{}_{2} = \\frac{\\left(\\frac{d}{d \\eta} a{\\left(\\eta \\right)}\\right)^{2}}{a^{2}{\\left(\\eta \\right)}} - \\frac{2 \\frac{d^{2}}{d \\eta^{2}} a{\\left(\\eta \\right)}}{a{\\left(\\eta \\right)}} - \\epsilon \\frac{\\partial^{2}}{\\partial z\\partial x} \\operatorname{hxz}{\\left(\\eta,x,y,z \\right)} + O\\left(\\epsilon^{2}\\right)$"
      ],
      "text/plain": [
       "<IPython.core.display.Math object>"
      ]
     },
     "metadata": {},
     "output_type": "display_data"
    },
    {
     "data": {
      "text/latex": [
       "$\\displaystyle {G}{}_{2}{}_{3} = \\frac{\\epsilon \\operatorname{hyz}{\\left(\\eta,x,y,z \\right)} \\left(\\frac{d}{d \\eta} a{\\left(\\eta \\right)}\\right)^{2}}{a^{2}{\\left(\\eta \\right)}} + \\frac{\\epsilon \\frac{d}{d \\eta} a{\\left(\\eta \\right)} \\frac{\\partial}{\\partial \\eta} \\operatorname{hyz}{\\left(\\eta,x,y,z \\right)}}{a{\\left(\\eta \\right)}} - \\frac{2 \\epsilon \\operatorname{hyz}{\\left(\\eta,x,y,z \\right)} \\frac{d^{2}}{d \\eta^{2}} a{\\left(\\eta \\right)}}{a{\\left(\\eta \\right)}} + \\frac{\\epsilon \\frac{\\partial^{2}}{\\partial y\\partial x} \\operatorname{hxz}{\\left(\\eta,x,y,z \\right)}}{2} + \\frac{\\epsilon \\frac{\\partial^{2}}{\\partial z\\partial x} \\operatorname{hxy}{\\left(\\eta,x,y,z \\right)}}{2} - \\frac{\\epsilon \\frac{\\partial^{2}}{\\partial x^{2}} \\operatorname{hyz}{\\left(\\eta,x,y,z \\right)}}{2} + \\frac{\\epsilon \\frac{\\partial^{2}}{\\partial \\eta^{2}} \\operatorname{hyz}{\\left(\\eta,x,y,z \\right)}}{2} + O\\left(\\epsilon^{2}\\right)$"
      ],
      "text/plain": [
       "<IPython.core.display.Math object>"
      ]
     },
     "metadata": {},
     "output_type": "display_data"
    },
    {
     "data": {
      "text/latex": [
       "$\\displaystyle {G}{}_{3}{}_{0} = \\frac{\\epsilon \\frac{\\partial^{2}}{\\partial y\\partial \\eta} \\operatorname{hyz}{\\left(\\eta,x,y,z \\right)}}{2} + \\frac{\\epsilon \\frac{\\partial^{2}}{\\partial x\\partial \\eta} \\operatorname{hxz}{\\left(\\eta,x,y,z \\right)}}{2} + O\\left(\\epsilon^{2}\\right)$"
      ],
      "text/plain": [
       "<IPython.core.display.Math object>"
      ]
     },
     "metadata": {},
     "output_type": "display_data"
    },
    {
     "data": {
      "text/latex": [
       "$\\displaystyle {G}{}_{3}{}_{1} = \\frac{\\epsilon \\operatorname{hxz}{\\left(\\eta,x,y,z \\right)} \\left(\\frac{d}{d \\eta} a{\\left(\\eta \\right)}\\right)^{2}}{a^{2}{\\left(\\eta \\right)}} + \\frac{\\epsilon \\frac{d}{d \\eta} a{\\left(\\eta \\right)} \\frac{\\partial}{\\partial \\eta} \\operatorname{hxz}{\\left(\\eta,x,y,z \\right)}}{a{\\left(\\eta \\right)}} - \\frac{2 \\epsilon \\operatorname{hxz}{\\left(\\eta,x,y,z \\right)} \\frac{d^{2}}{d \\eta^{2}} a{\\left(\\eta \\right)}}{a{\\left(\\eta \\right)}} + \\frac{\\epsilon \\frac{\\partial^{2}}{\\partial y\\partial x} \\operatorname{hyz}{\\left(\\eta,x,y,z \\right)}}{2} + \\frac{\\epsilon \\frac{\\partial^{2}}{\\partial z\\partial y} \\operatorname{hxy}{\\left(\\eta,x,y,z \\right)}}{2} - \\frac{\\epsilon \\frac{\\partial^{2}}{\\partial y^{2}} \\operatorname{hxz}{\\left(\\eta,x,y,z \\right)}}{2} + \\frac{\\epsilon \\frac{\\partial^{2}}{\\partial \\eta^{2}} \\operatorname{hxz}{\\left(\\eta,x,y,z \\right)}}{2} + O\\left(\\epsilon^{2}\\right)$"
      ],
      "text/plain": [
       "<IPython.core.display.Math object>"
      ]
     },
     "metadata": {},
     "output_type": "display_data"
    },
    {
     "data": {
      "text/latex": [
       "$\\displaystyle {G}{}_{3}{}_{2} = \\frac{\\epsilon \\operatorname{hyz}{\\left(\\eta,x,y,z \\right)} \\left(\\frac{d}{d \\eta} a{\\left(\\eta \\right)}\\right)^{2}}{a^{2}{\\left(\\eta \\right)}} + \\frac{\\epsilon \\frac{d}{d \\eta} a{\\left(\\eta \\right)} \\frac{\\partial}{\\partial \\eta} \\operatorname{hyz}{\\left(\\eta,x,y,z \\right)}}{a{\\left(\\eta \\right)}} - \\frac{2 \\epsilon \\operatorname{hyz}{\\left(\\eta,x,y,z \\right)} \\frac{d^{2}}{d \\eta^{2}} a{\\left(\\eta \\right)}}{a{\\left(\\eta \\right)}} + \\frac{\\epsilon \\frac{\\partial^{2}}{\\partial y\\partial x} \\operatorname{hxz}{\\left(\\eta,x,y,z \\right)}}{2} + \\frac{\\epsilon \\frac{\\partial^{2}}{\\partial z\\partial x} \\operatorname{hxy}{\\left(\\eta,x,y,z \\right)}}{2} - \\frac{\\epsilon \\frac{\\partial^{2}}{\\partial x^{2}} \\operatorname{hyz}{\\left(\\eta,x,y,z \\right)}}{2} + \\frac{\\epsilon \\frac{\\partial^{2}}{\\partial \\eta^{2}} \\operatorname{hyz}{\\left(\\eta,x,y,z \\right)}}{2} + O\\left(\\epsilon^{2}\\right)$"
      ],
      "text/plain": [
       "<IPython.core.display.Math object>"
      ]
     },
     "metadata": {},
     "output_type": "display_data"
    },
    {
     "data": {
      "text/latex": [
       "$\\displaystyle {G}{}_{3}{}_{3} = \\frac{\\left(\\frac{d}{d \\eta} a{\\left(\\eta \\right)}\\right)^{2}}{a^{2}{\\left(\\eta \\right)}} - \\frac{2 \\frac{d^{2}}{d \\eta^{2}} a{\\left(\\eta \\right)}}{a{\\left(\\eta \\right)}} - \\epsilon \\frac{\\partial^{2}}{\\partial y\\partial x} \\operatorname{hxy}{\\left(\\eta,x,y,z \\right)} + O\\left(\\epsilon^{2}\\right)$"
      ],
      "text/plain": [
       "<IPython.core.display.Math object>"
      ]
     },
     "metadata": {},
     "output_type": "display_data"
    }
   ],
   "source": [
    "G.display('_,_',aslist=True)"
   ]
  },
  {
   "cell_type": "markdown",
   "metadata": {},
   "source": [
    "### Tensor Perturbations in $G_{\\mu\\nu}$"
   ]
  },
  {
   "cell_type": "code",
   "execution_count": 8,
   "metadata": {},
   "outputs": [
    {
     "name": "stdout",
     "output_type": "stream",
     "text": [
      "Function hxy(eta,x,y,z) is already defined\n",
      "Function hxz(eta,x,y,z) is already defined\n",
      "Function hyz(eta,x,y,z) is already defined\n",
      "The metric has already been defined. Do you want to overwrite it? (yes/no)y\n",
      "The metric has been redefined. Standard tensors have been deleted.\n",
      "en metric: eta,x,y,z\n",
      "\n",
      "Dimension = 4\n",
      "Coordinates = eta,x,y,z\n",
      "Metric was defined successfully: \n",
      "\n"
     ]
    },
    {
     "data": {
      "text/latex": [
       "$\\displaystyle ds^2 = - a^{2}{\\left(\\eta \\right)} \\cdot d\\eta^2+a^{2}{\\left(\\eta \\right)} \\cdot dx^2+2 \\epsilon a^{2}{\\left(\\eta \\right)} \\operatorname{hxy}{\\left(\\eta,x,y,z \\right)} \\cdot dx \\cdot dy+2 \\epsilon a^{2}{\\left(\\eta \\right)} \\operatorname{hxz}{\\left(\\eta,x,y,z \\right)} \\cdot dx \\cdot dz+a^{2}{\\left(\\eta \\right)} \\cdot dy^2+2 \\epsilon a^{2}{\\left(\\eta \\right)} \\operatorname{hyz}{\\left(\\eta,x,y,z \\right)} \\cdot dy \\cdot dz+a^{2}{\\left(\\eta \\right)} \\cdot dz^2$"
      ],
      "text/plain": [
       "<IPython.core.display.Math object>"
      ]
     },
     "metadata": {},
     "output_type": "display_data"
    },
    {
     "data": {
      "text/latex": [
       "$\\displaystyle \\left[\\begin{matrix}- a^{2}{\\left(\\eta \\right)} & 0 & 0 & 0\\\\0 & a^{2}{\\left(\\eta \\right)} & \\epsilon a^{2}{\\left(\\eta \\right)} \\operatorname{hxy}{\\left(\\eta,x,y,z \\right)} & \\epsilon a^{2}{\\left(\\eta \\right)} \\operatorname{hxz}{\\left(\\eta,x,y,z \\right)}\\\\0 & \\epsilon a^{2}{\\left(\\eta \\right)} \\operatorname{hxy}{\\left(\\eta,x,y,z \\right)} & a^{2}{\\left(\\eta \\right)} & \\epsilon a^{2}{\\left(\\eta \\right)} \\operatorname{hyz}{\\left(\\eta,x,y,z \\right)}\\\\0 & \\epsilon a^{2}{\\left(\\eta \\right)} \\operatorname{hxz}{\\left(\\eta,x,y,z \\right)} & \\epsilon a^{2}{\\left(\\eta \\right)} \\operatorname{hyz}{\\left(\\eta,x,y,z \\right)} & a^{2}{\\left(\\eta \\right)}\\end{matrix}\\right]$"
      ],
      "text/plain": [
       "⎡  2                                                                          \n",
       "⎢-a (η)             0                        0                        0       \n",
       "⎢                                                                             \n",
       "⎢                  2                 2                        2               \n",
       "⎢  0              a (η)           ε⋅a (η)⋅hxy(η, x, y, z)  ε⋅a (η)⋅hxz(η, x, y\n",
       "⎢                                                                             \n",
       "⎢           2                               2                 2               \n",
       "⎢  0     ε⋅a (η)⋅hxy(η, x, y, z)           a (η)           ε⋅a (η)⋅hyz(η, x, y\n",
       "⎢                                                                             \n",
       "⎢           2                        2                               2        \n",
       "⎣  0     ε⋅a (η)⋅hxz(η, x, y, z)  ε⋅a (η)⋅hyz(η, x, y, z)           a (η)     \n",
       "\n",
       "    ⎤\n",
       "    ⎥\n",
       "    ⎥\n",
       "    ⎥\n",
       ", z)⎥\n",
       "    ⎥\n",
       "    ⎥\n",
       ", z)⎥\n",
       "    ⎥\n",
       "    ⎥\n",
       "    ⎦"
      ]
     },
     "metadata": {},
     "output_type": "display_data"
    }
   ],
   "source": [
    "\n",
    "\n",
    "hxy = pt.new_fun('hxy','eta,x,y,z')\n",
    "hxz = pt.new_fun('hxz','eta,x,y,z')\n",
    "hyz = pt.new_fun('hyz','eta,x,y,z')\n",
    "\n",
    "g = pt.create_metric('ds2 = a**2*(-deta**2 + dx**2 + dy**2 + dz**2 + 2*epsilon*hxy*dx*dy + 2*epsilon*hxz*dx*dz + 2*epsilon*hyz*dy*dz)')"
   ]
  },
  {
   "cell_type": "code",
   "execution_count": 9,
   "metadata": {},
   "outputs": [
    {
     "data": {
      "text/latex": [
       "Christoffel $\\Gamma_{\\alpha \\beta \\gamma}$ and $\\Gamma^{\\alpha}_{\\beta \\gamma}$"
      ],
      "text/plain": [
       "<IPython.core.display.Latex object>"
      ]
     },
     "metadata": {},
     "output_type": "display_data"
    },
    {
     "data": {
      "application/vnd.jupyter.widget-view+json": {
       "model_id": "4e9e1b107b7d447482e3aa6991ffe2c5",
       "version_major": 2,
       "version_minor": 0
      },
      "text/plain": [
       "  0%|          | 0/64 [00:00<?, ?it/s]"
      ]
     },
     "metadata": {},
     "output_type": "display_data"
    },
    {
     "data": {
      "text/latex": [
       "Riemann Tensor $R^{\\alpha}_{\\beta \\gamma \\delta}$"
      ],
      "text/plain": [
       "<IPython.core.display.Latex object>"
      ]
     },
     "metadata": {},
     "output_type": "display_data"
    },
    {
     "data": {
      "application/vnd.jupyter.widget-view+json": {
       "model_id": "835d0b8cf29f4ae089d3c8005bb7f686",
       "version_major": 2,
       "version_minor": 0
      },
      "text/plain": [
       "  0%|          | 0/256 [00:00<?, ?it/s]"
      ]
     },
     "metadata": {},
     "output_type": "display_data"
    },
    {
     "data": {
      "text/latex": [
       "Ricci Tensor $R_{\\alpha \\beta}$"
      ],
      "text/plain": [
       "<IPython.core.display.Latex object>"
      ]
     },
     "metadata": {},
     "output_type": "display_data"
    },
    {
     "data": {
      "application/vnd.jupyter.widget-view+json": {
       "model_id": "a3c26feec6fd45fab6da496f2181176d",
       "version_major": 2,
       "version_minor": 0
      },
      "text/plain": [
       "  0%|          | 0/16 [00:00<?, ?it/s]"
      ]
     },
     "metadata": {},
     "output_type": "display_data"
    },
    {
     "data": {
      "text/latex": [
       "Ricci Scalar $R$"
      ],
      "text/plain": [
       "<IPython.core.display.Latex object>"
      ]
     },
     "metadata": {},
     "output_type": "display_data"
    },
    {
     "data": {
      "application/vnd.jupyter.widget-view+json": {
       "model_id": "7c07b44bbba5417896262c991db63e1d",
       "version_major": 2,
       "version_minor": 0
      },
      "text/plain": [
       "  0%|          | 0/16 [00:00<?, ?it/s]"
      ]
     },
     "metadata": {},
     "output_type": "display_data"
    },
    {
     "data": {
      "text/latex": [
       "Einstein Tensor $G_{\\alpha \\beta}$"
      ],
      "text/plain": [
       "<IPython.core.display.Latex object>"
      ]
     },
     "metadata": {},
     "output_type": "display_data"
    },
    {
     "data": {
      "application/vnd.jupyter.widget-view+json": {
       "model_id": "13d22b663f8f489ea96628a94e40ca16",
       "version_major": 2,
       "version_minor": 0
      },
      "text/plain": [
       "  0%|          | 0/16 [00:00<?, ?it/s]"
      ]
     },
     "metadata": {},
     "output_type": "display_data"
    },
    {
     "data": {
      "application/vnd.jupyter.widget-view+json": {
       "model_id": "0abb20e5c05e41f1b4f4f419c03ddd4f",
       "version_major": 2,
       "version_minor": 0
      },
      "text/plain": [
       "Einstein Tensor $G{^\\alpha}{_\\beta}$:   0%|          | 0/16 [00:00<?, ?it/s]"
      ]
     },
     "metadata": {},
     "output_type": "display_data"
    },
    {
     "data": {
      "application/vnd.jupyter.widget-view+json": {
       "model_id": "a17c70fbf46f4efabd3d5b26d4baa775",
       "version_major": 2,
       "version_minor": 0
      },
      "text/plain": [
       "Einstein Tensor $G{^\\alpha}{^\\beta}$:   0%|          | 0/16 [00:00<?, ?it/s]"
      ]
     },
     "metadata": {},
     "output_type": "display_data"
    },
    {
     "data": {
      "application/vnd.jupyter.widget-view+json": {
       "model_id": "f388564fbbe54869a62483481ac64764",
       "version_major": 2,
       "version_minor": 0
      },
      "text/plain": [
       "Einstein Tensor $G{_\\alpha}{^\\beta}$:   0%|          | 0/16 [00:00<?, ?it/s]"
      ]
     },
     "metadata": {},
     "output_type": "display_data"
    },
    {
     "data": {
      "text/latex": [
       "All other indexes of Einstein Tensor $G$  already calculated."
      ],
      "text/plain": [
       "<IPython.core.display.Latex object>"
      ]
     },
     "metadata": {},
     "output_type": "display_data"
    },
    {
     "data": {
      "text/latex": [
       "$\\displaystyle {G}{}^{0}{}_{0} = - \\frac{3 \\left(\\frac{d}{d \\eta} a{\\left(\\eta \\right)}\\right)^{2}}{a^{4}{\\left(\\eta \\right)}} - \\frac{\\epsilon \\frac{\\partial^{2}}{\\partial z\\partial y} \\operatorname{hyz}{\\left(\\eta,x,y,z \\right)}}{a^{2}{\\left(\\eta \\right)}} - \\frac{\\epsilon \\frac{\\partial^{2}}{\\partial z\\partial x} \\operatorname{hxz}{\\left(\\eta,x,y,z \\right)}}{a^{2}{\\left(\\eta \\right)}} - \\frac{\\epsilon \\frac{\\partial^{2}}{\\partial y\\partial x} \\operatorname{hxy}{\\left(\\eta,x,y,z \\right)}}{a^{2}{\\left(\\eta \\right)}} + O\\left(\\epsilon^{2}\\right)$"
      ],
      "text/plain": [
       "<IPython.core.display.Math object>"
      ]
     },
     "metadata": {},
     "output_type": "display_data"
    },
    {
     "data": {
      "text/latex": [
       "$\\displaystyle {G}{}^{0}{}_{1} = - \\frac{\\epsilon \\frac{\\partial^{2}}{\\partial z\\partial \\eta} \\operatorname{hxz}{\\left(\\eta,x,y,z \\right)}}{2 a^{2}{\\left(\\eta \\right)}} - \\frac{\\epsilon \\frac{\\partial^{2}}{\\partial y\\partial \\eta} \\operatorname{hxy}{\\left(\\eta,x,y,z \\right)}}{2 a^{2}{\\left(\\eta \\right)}} + O\\left(\\epsilon^{2}\\right)$"
      ],
      "text/plain": [
       "<IPython.core.display.Math object>"
      ]
     },
     "metadata": {},
     "output_type": "display_data"
    },
    {
     "data": {
      "text/latex": [
       "$\\displaystyle {G}{}^{0}{}_{2} = - \\frac{\\epsilon \\frac{\\partial^{2}}{\\partial z\\partial \\eta} \\operatorname{hyz}{\\left(\\eta,x,y,z \\right)}}{2 a^{2}{\\left(\\eta \\right)}} - \\frac{\\epsilon \\frac{\\partial^{2}}{\\partial x\\partial \\eta} \\operatorname{hxy}{\\left(\\eta,x,y,z \\right)}}{2 a^{2}{\\left(\\eta \\right)}} + O\\left(\\epsilon^{2}\\right)$"
      ],
      "text/plain": [
       "<IPython.core.display.Math object>"
      ]
     },
     "metadata": {},
     "output_type": "display_data"
    },
    {
     "data": {
      "text/latex": [
       "$\\displaystyle {G}{}^{0}{}_{3} = - \\frac{\\epsilon \\frac{\\partial^{2}}{\\partial y\\partial \\eta} \\operatorname{hyz}{\\left(\\eta,x,y,z \\right)}}{2 a^{2}{\\left(\\eta \\right)}} - \\frac{\\epsilon \\frac{\\partial^{2}}{\\partial x\\partial \\eta} \\operatorname{hxz}{\\left(\\eta,x,y,z \\right)}}{2 a^{2}{\\left(\\eta \\right)}} + O\\left(\\epsilon^{2}\\right)$"
      ],
      "text/plain": [
       "<IPython.core.display.Math object>"
      ]
     },
     "metadata": {},
     "output_type": "display_data"
    },
    {
     "data": {
      "text/latex": [
       "$\\displaystyle {G}{}^{1}{}_{0} = \\frac{\\epsilon \\frac{\\partial^{2}}{\\partial z\\partial \\eta} \\operatorname{hxz}{\\left(\\eta,x,y,z \\right)}}{2 a^{2}{\\left(\\eta \\right)}} + \\frac{\\epsilon \\frac{\\partial^{2}}{\\partial y\\partial \\eta} \\operatorname{hxy}{\\left(\\eta,x,y,z \\right)}}{2 a^{2}{\\left(\\eta \\right)}} + O\\left(\\epsilon^{2}\\right)$"
      ],
      "text/plain": [
       "<IPython.core.display.Math object>"
      ]
     },
     "metadata": {},
     "output_type": "display_data"
    },
    {
     "data": {
      "text/latex": [
       "$\\displaystyle {G}{}^{1}{}_{1} = \\frac{\\left(\\frac{d}{d \\eta} a{\\left(\\eta \\right)}\\right)^{2}}{a^{4}{\\left(\\eta \\right)}} - \\frac{2 \\frac{d^{2}}{d \\eta^{2}} a{\\left(\\eta \\right)}}{a^{3}{\\left(\\eta \\right)}} - \\frac{\\epsilon \\frac{\\partial^{2}}{\\partial z\\partial y} \\operatorname{hyz}{\\left(\\eta,x,y,z \\right)}}{a^{2}{\\left(\\eta \\right)}} + O\\left(\\epsilon^{2}\\right)$"
      ],
      "text/plain": [
       "<IPython.core.display.Math object>"
      ]
     },
     "metadata": {},
     "output_type": "display_data"
    },
    {
     "data": {
      "text/latex": [
       "$\\displaystyle {G}{}^{1}{}_{2} = \\frac{\\epsilon \\frac{d}{d \\eta} a{\\left(\\eta \\right)} \\frac{\\partial}{\\partial \\eta} \\operatorname{hxy}{\\left(\\eta,x,y,z \\right)}}{a^{3}{\\left(\\eta \\right)}} + \\frac{\\epsilon \\frac{\\partial^{2}}{\\partial z\\partial x} \\operatorname{hyz}{\\left(\\eta,x,y,z \\right)}}{2 a^{2}{\\left(\\eta \\right)}} + \\frac{\\epsilon \\frac{\\partial^{2}}{\\partial z\\partial y} \\operatorname{hxz}{\\left(\\eta,x,y,z \\right)}}{2 a^{2}{\\left(\\eta \\right)}} - \\frac{\\epsilon \\frac{\\partial^{2}}{\\partial z^{2}} \\operatorname{hxy}{\\left(\\eta,x,y,z \\right)}}{2 a^{2}{\\left(\\eta \\right)}} + \\frac{\\epsilon \\frac{\\partial^{2}}{\\partial \\eta^{2}} \\operatorname{hxy}{\\left(\\eta,x,y,z \\right)}}{2 a^{2}{\\left(\\eta \\right)}} + O\\left(\\epsilon^{2}\\right)$"
      ],
      "text/plain": [
       "<IPython.core.display.Math object>"
      ]
     },
     "metadata": {},
     "output_type": "display_data"
    },
    {
     "data": {
      "text/latex": [
       "$\\displaystyle {G}{}^{1}{}_{3} = \\frac{\\epsilon \\frac{d}{d \\eta} a{\\left(\\eta \\right)} \\frac{\\partial}{\\partial \\eta} \\operatorname{hxz}{\\left(\\eta,x,y,z \\right)}}{a^{3}{\\left(\\eta \\right)}} + \\frac{\\epsilon \\frac{\\partial^{2}}{\\partial y\\partial x} \\operatorname{hyz}{\\left(\\eta,x,y,z \\right)}}{2 a^{2}{\\left(\\eta \\right)}} + \\frac{\\epsilon \\frac{\\partial^{2}}{\\partial z\\partial y} \\operatorname{hxy}{\\left(\\eta,x,y,z \\right)}}{2 a^{2}{\\left(\\eta \\right)}} - \\frac{\\epsilon \\frac{\\partial^{2}}{\\partial y^{2}} \\operatorname{hxz}{\\left(\\eta,x,y,z \\right)}}{2 a^{2}{\\left(\\eta \\right)}} + \\frac{\\epsilon \\frac{\\partial^{2}}{\\partial \\eta^{2}} \\operatorname{hxz}{\\left(\\eta,x,y,z \\right)}}{2 a^{2}{\\left(\\eta \\right)}} + O\\left(\\epsilon^{2}\\right)$"
      ],
      "text/plain": [
       "<IPython.core.display.Math object>"
      ]
     },
     "metadata": {},
     "output_type": "display_data"
    },
    {
     "data": {
      "text/latex": [
       "$\\displaystyle {G}{}^{2}{}_{0} = \\frac{\\epsilon \\frac{\\partial^{2}}{\\partial z\\partial \\eta} \\operatorname{hyz}{\\left(\\eta,x,y,z \\right)}}{2 a^{2}{\\left(\\eta \\right)}} + \\frac{\\epsilon \\frac{\\partial^{2}}{\\partial x\\partial \\eta} \\operatorname{hxy}{\\left(\\eta,x,y,z \\right)}}{2 a^{2}{\\left(\\eta \\right)}} + O\\left(\\epsilon^{2}\\right)$"
      ],
      "text/plain": [
       "<IPython.core.display.Math object>"
      ]
     },
     "metadata": {},
     "output_type": "display_data"
    },
    {
     "data": {
      "text/latex": [
       "$\\displaystyle {G}{}^{2}{}_{1} = \\frac{\\epsilon \\frac{d}{d \\eta} a{\\left(\\eta \\right)} \\frac{\\partial}{\\partial \\eta} \\operatorname{hxy}{\\left(\\eta,x,y,z \\right)}}{a^{3}{\\left(\\eta \\right)}} + \\frac{\\epsilon \\frac{\\partial^{2}}{\\partial z\\partial x} \\operatorname{hyz}{\\left(\\eta,x,y,z \\right)}}{2 a^{2}{\\left(\\eta \\right)}} + \\frac{\\epsilon \\frac{\\partial^{2}}{\\partial z\\partial y} \\operatorname{hxz}{\\left(\\eta,x,y,z \\right)}}{2 a^{2}{\\left(\\eta \\right)}} - \\frac{\\epsilon \\frac{\\partial^{2}}{\\partial z^{2}} \\operatorname{hxy}{\\left(\\eta,x,y,z \\right)}}{2 a^{2}{\\left(\\eta \\right)}} + \\frac{\\epsilon \\frac{\\partial^{2}}{\\partial \\eta^{2}} \\operatorname{hxy}{\\left(\\eta,x,y,z \\right)}}{2 a^{2}{\\left(\\eta \\right)}} + O\\left(\\epsilon^{2}\\right)$"
      ],
      "text/plain": [
       "<IPython.core.display.Math object>"
      ]
     },
     "metadata": {},
     "output_type": "display_data"
    },
    {
     "data": {
      "text/latex": [
       "$\\displaystyle {G}{}^{2}{}_{2} = \\frac{\\left(\\frac{d}{d \\eta} a{\\left(\\eta \\right)}\\right)^{2}}{a^{4}{\\left(\\eta \\right)}} - \\frac{2 \\frac{d^{2}}{d \\eta^{2}} a{\\left(\\eta \\right)}}{a^{3}{\\left(\\eta \\right)}} - \\frac{\\epsilon \\frac{\\partial^{2}}{\\partial z\\partial x} \\operatorname{hxz}{\\left(\\eta,x,y,z \\right)}}{a^{2}{\\left(\\eta \\right)}} + O\\left(\\epsilon^{2}\\right)$"
      ],
      "text/plain": [
       "<IPython.core.display.Math object>"
      ]
     },
     "metadata": {},
     "output_type": "display_data"
    },
    {
     "data": {
      "text/latex": [
       "$\\displaystyle {G}{}^{2}{}_{3} = \\frac{\\epsilon \\frac{d}{d \\eta} a{\\left(\\eta \\right)} \\frac{\\partial}{\\partial \\eta} \\operatorname{hyz}{\\left(\\eta,x,y,z \\right)}}{a^{3}{\\left(\\eta \\right)}} + \\frac{\\epsilon \\frac{\\partial^{2}}{\\partial y\\partial x} \\operatorname{hxz}{\\left(\\eta,x,y,z \\right)}}{2 a^{2}{\\left(\\eta \\right)}} + \\frac{\\epsilon \\frac{\\partial^{2}}{\\partial z\\partial x} \\operatorname{hxy}{\\left(\\eta,x,y,z \\right)}}{2 a^{2}{\\left(\\eta \\right)}} - \\frac{\\epsilon \\frac{\\partial^{2}}{\\partial x^{2}} \\operatorname{hyz}{\\left(\\eta,x,y,z \\right)}}{2 a^{2}{\\left(\\eta \\right)}} + \\frac{\\epsilon \\frac{\\partial^{2}}{\\partial \\eta^{2}} \\operatorname{hyz}{\\left(\\eta,x,y,z \\right)}}{2 a^{2}{\\left(\\eta \\right)}} + O\\left(\\epsilon^{2}\\right)$"
      ],
      "text/plain": [
       "<IPython.core.display.Math object>"
      ]
     },
     "metadata": {},
     "output_type": "display_data"
    },
    {
     "data": {
      "text/latex": [
       "$\\displaystyle {G}{}^{3}{}_{0} = \\frac{\\epsilon \\frac{\\partial^{2}}{\\partial y\\partial \\eta} \\operatorname{hyz}{\\left(\\eta,x,y,z \\right)}}{2 a^{2}{\\left(\\eta \\right)}} + \\frac{\\epsilon \\frac{\\partial^{2}}{\\partial x\\partial \\eta} \\operatorname{hxz}{\\left(\\eta,x,y,z \\right)}}{2 a^{2}{\\left(\\eta \\right)}} + O\\left(\\epsilon^{2}\\right)$"
      ],
      "text/plain": [
       "<IPython.core.display.Math object>"
      ]
     },
     "metadata": {},
     "output_type": "display_data"
    },
    {
     "data": {
      "text/latex": [
       "$\\displaystyle {G}{}^{3}{}_{1} = \\frac{\\epsilon \\frac{d}{d \\eta} a{\\left(\\eta \\right)} \\frac{\\partial}{\\partial \\eta} \\operatorname{hxz}{\\left(\\eta,x,y,z \\right)}}{a^{3}{\\left(\\eta \\right)}} + \\frac{\\epsilon \\frac{\\partial^{2}}{\\partial y\\partial x} \\operatorname{hyz}{\\left(\\eta,x,y,z \\right)}}{2 a^{2}{\\left(\\eta \\right)}} + \\frac{\\epsilon \\frac{\\partial^{2}}{\\partial z\\partial y} \\operatorname{hxy}{\\left(\\eta,x,y,z \\right)}}{2 a^{2}{\\left(\\eta \\right)}} - \\frac{\\epsilon \\frac{\\partial^{2}}{\\partial y^{2}} \\operatorname{hxz}{\\left(\\eta,x,y,z \\right)}}{2 a^{2}{\\left(\\eta \\right)}} + \\frac{\\epsilon \\frac{\\partial^{2}}{\\partial \\eta^{2}} \\operatorname{hxz}{\\left(\\eta,x,y,z \\right)}}{2 a^{2}{\\left(\\eta \\right)}} + O\\left(\\epsilon^{2}\\right)$"
      ],
      "text/plain": [
       "<IPython.core.display.Math object>"
      ]
     },
     "metadata": {},
     "output_type": "display_data"
    },
    {
     "data": {
      "text/latex": [
       "$\\displaystyle {G}{}^{3}{}_{2} = \\frac{\\epsilon \\frac{d}{d \\eta} a{\\left(\\eta \\right)} \\frac{\\partial}{\\partial \\eta} \\operatorname{hyz}{\\left(\\eta,x,y,z \\right)}}{a^{3}{\\left(\\eta \\right)}} + \\frac{\\epsilon \\frac{\\partial^{2}}{\\partial y\\partial x} \\operatorname{hxz}{\\left(\\eta,x,y,z \\right)}}{2 a^{2}{\\left(\\eta \\right)}} + \\frac{\\epsilon \\frac{\\partial^{2}}{\\partial z\\partial x} \\operatorname{hxy}{\\left(\\eta,x,y,z \\right)}}{2 a^{2}{\\left(\\eta \\right)}} - \\frac{\\epsilon \\frac{\\partial^{2}}{\\partial x^{2}} \\operatorname{hyz}{\\left(\\eta,x,y,z \\right)}}{2 a^{2}{\\left(\\eta \\right)}} + \\frac{\\epsilon \\frac{\\partial^{2}}{\\partial \\eta^{2}} \\operatorname{hyz}{\\left(\\eta,x,y,z \\right)}}{2 a^{2}{\\left(\\eta \\right)}} + O\\left(\\epsilon^{2}\\right)$"
      ],
      "text/plain": [
       "<IPython.core.display.Math object>"
      ]
     },
     "metadata": {},
     "output_type": "display_data"
    },
    {
     "data": {
      "text/latex": [
       "$\\displaystyle {G}{}^{3}{}_{3} = \\frac{\\left(\\frac{d}{d \\eta} a{\\left(\\eta \\right)}\\right)^{2}}{a^{4}{\\left(\\eta \\right)}} - \\frac{2 \\frac{d^{2}}{d \\eta^{2}} a{\\left(\\eta \\right)}}{a^{3}{\\left(\\eta \\right)}} - \\frac{\\epsilon \\frac{\\partial^{2}}{\\partial y\\partial x} \\operatorname{hxy}{\\left(\\eta,x,y,z \\right)}}{a^{2}{\\left(\\eta \\right)}} + O\\left(\\epsilon^{2}\\right)$"
      ],
      "text/plain": [
       "<IPython.core.display.Math object>"
      ]
     },
     "metadata": {},
     "output_type": "display_data"
    }
   ],
   "source": [
    "# To calculate the default combination of the Einstein Tensor, i.e., (_,_):\n",
    "#G = pt.einstein()\n",
    "\n",
    "# To calculate all the combinations:\n",
    "G = pt.einstein(All = True)\n",
    "\n",
    "# To display the Einstein Tensor:\n",
    "G.display('^,_',aslist=True)\n",
    "\n",
    "# To show the tensor components as a list:\n",
    "# G.display(aslist = True)"
   ]
  },
  {
   "cell_type": "markdown",
   "metadata": {},
   "source": [
    "## hasta acá todo bien :) "
   ]
  },
  {
   "cell_type": "markdown",
   "metadata": {},
   "source": [
    "The display method uses matrix notation for all tensors with rank $\\leq$ 2 by default. To display the tensor components as a list, the user must include the \"aslist = True\" argument."
   ]
  },
  {
   "cell_type": "code",
   "execution_count": null,
   "metadata": {},
   "outputs": [],
   "source": [
    "# To define an arbitrary tensor, indicating the name and rank of the tensor.\n",
    "U = pt.new_ten('U',1)\n",
    "# To assign a list or array (even numpy arrays) to a particular component of the tensor.\n",
    "U.assign([1,0,0,0],'^')\n",
    "# Display the tensor, or vector in this particular example.\n",
    "U.display('^')"
   ]
  },
  {
   "cell_type": "markdown",
   "metadata": {},
   "source": [
    "Note that pytearcat uses the definition of \"vectors\" as Columns, and \"one-forms\" as Rows. \n",
    "\n",
    "- A 1-vector is a Tensor with one contravariant index $A^{\\mu}$.\n",
    "\n",
    "- A 1-form is a Tensor with one covariant index $A_{\\mu}$."
   ]
  },
  {
   "cell_type": "code",
   "execution_count": null,
   "metadata": {},
   "outputs": [],
   "source": [
    "rho = pt.new_fun('rho','t')\n",
    "P = pt.new_fun('P','t')\n",
    "\n",
    "T = pt.new_ten('T',2)\n",
    "\n",
    "T.assign((rho+P)*U(\"^mu\")*U(\"^nu\")+P*g(\"^mu,^nu\"),\"^mu,^nu\")\n",
    "\n",
    "# One could also save the result of a tensor operation in a variable\n",
    "# For example: T_value = (rho+P/c**2)*U(\"^mu\")*U(\"^nu\")-P*g(\"^mu,^nu\")\n",
    "# And then, to assing that value to the tensor: \n",
    "# T.assign(T_value,'^mu,^nu')\n",
    "\n",
    "T.display('^,^')"
   ]
  },
  {
   "cell_type": "code",
   "execution_count": null,
   "metadata": {},
   "outputs": [],
   "source": [
    "# To calculate the rest of index combinations of the tensor:\n",
    "T.indexcomb('^,^')\n",
    "T.display('_,_')"
   ]
  }
 ],
 "metadata": {
  "kernelspec": {
   "display_name": "Python 3",
   "language": "python",
   "name": "python3"
  },
  "language_info": {
   "codemirror_mode": {
    "name": "ipython",
    "version": 3
   },
   "file_extension": ".py",
   "mimetype": "text/x-python",
   "name": "python",
   "nbconvert_exporter": "python",
   "pygments_lexer": "ipython3",
   "version": "3.8.2"
  }
 },
 "nbformat": 4,
 "nbformat_minor": 4
}
