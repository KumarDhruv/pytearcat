{
 "cells": [
  {
   "cell_type": "code",
   "execution_count": 31,
   "metadata": {},
   "outputs": [],
   "source": [
    "import pytearcat as pt"
   ]
  },
  {
   "cell_type": "code",
   "execution_count": 32,
   "metadata": {},
   "outputs": [
    {
     "name": "stdout",
     "output_type": "stream",
     "text": [
      "Remember that the time coordinate must be the first coordinate.\n",
      "Constant(s) already defined.\n",
      "The metric has already been defined. Do you want to overwrite it? (yes/no)y\n",
      "The metric has been redefined. Standard tensors have been deleted.\n",
      "\n",
      "Dimension = 4\n",
      "Coordinates = t,r,theta,phi\n",
      "Metric was defined successfully: \n",
      "\n"
     ]
    },
    {
     "data": {
      "text/latex": [
       "$\\displaystyle ds^2 = \\left(-1\\right) \\cdot dt^2+\\left(-\\frac{a\\left(t\\right)^{2}}{k\\,r^{2}-1}\\right) \\cdot dr^2+\\left(r^{2}\\,a\\left(t\\right)^{2}\\right) \\cdot d\\theta^2+\\left(r^{2}\\,a\\left(t\\right)^{2} \\sin ^{2}\\theta\\right) \\cdot d\\phi^2$"
      ],
      "text/plain": [
       "<IPython.core.display.Math object>"
      ]
     },
     "metadata": {},
     "output_type": "display_data"
    },
    {
     "data": {
      "text/latex": [
       "$\\displaystyle \\left(\\begin{array}{cccc}-1&0&0&0\\\\0&-\\frac{a\\left(t\\right)^{2}}{k\\,r^{2}-1}&0&0\\\\0&0&r^{2}\\,a\\left(t\\right)^{2}&0\\\\0&0&0&r^{2}\\,a\\left(t\\right)^{2} \\sin ^{2}\\theta\\end{array}\\right)\n",
       "$"
      ],
      "text/plain": [
       "<IPython.core.display.Math object>"
      ]
     },
     "metadata": {},
     "output_type": "display_data"
    }
   ],
   "source": [
    "# Define the coordinates to be used\n",
    "t,r,theta,phi = pt.def_coords('t,r,theta,phi')\n",
    "# Define any constant (more than one constant can be defined at the same time)\n",
    "k,c = pt.new_con('k','c')\n",
    "a = pt.new_fun('a','t')\n",
    "g = pt.create_metric('ds2 = -dt**2 + a**2*(1/(1-k*r**2)*dr**2 + r**2*dtheta**2 + r**2*sin(theta)**2*dphi**2)')"
   ]
  },
  {
   "cell_type": "code",
   "execution_count": 33,
   "metadata": {},
   "outputs": [
    {
     "data": {
      "text/latex": [
       "Christoffel $\\Gamma_{\\alpha \\beta \\gamma}$ and $\\Gamma^{\\alpha}_{\\beta \\gamma}$"
      ],
      "text/plain": [
       "<IPython.core.display.Latex object>"
      ]
     },
     "metadata": {},
     "output_type": "display_data"
    },
    {
     "data": {
      "application/vnd.jupyter.widget-view+json": {
       "model_id": "750acef8aef44bf386e40ccaa12fa027",
       "version_major": 2,
       "version_minor": 0
      },
      "text/plain": [
       "  0%|          | 0/64 [00:00<?, ?it/s]"
      ]
     },
     "metadata": {},
     "output_type": "display_data"
    },
    {
     "data": {
      "text/latex": [
       "$\\displaystyle {\\Gamma}{}_{0\n",
       "}{}_{1\n",
       "}{}_{1\n",
       "} = \\frac{\\frac{\\mathrm{d}}{\\mathrm{d}t}\\,a\\left(t\\right) a\\left(t\\right)}{k\\,r^{2}-1}$"
      ],
      "text/plain": [
       "<IPython.core.display.Math object>"
      ]
     },
     "metadata": {},
     "output_type": "display_data"
    },
    {
     "data": {
      "text/latex": [
       "$\\displaystyle {\\Gamma}{}_{0\n",
       "}{}_{2\n",
       "}{}_{2\n",
       "} = -r^{2}\\,\\frac{\\mathrm{d}}{\\mathrm{d}t}\\,a\\left(t\\right) a\\left(t\\right)$"
      ],
      "text/plain": [
       "<IPython.core.display.Math object>"
      ]
     },
     "metadata": {},
     "output_type": "display_data"
    },
    {
     "data": {
      "text/latex": [
       "$\\displaystyle {\\Gamma}{}_{0\n",
       "}{}_{3\n",
       "}{}_{3\n",
       "} = -r^{2}\\,\\frac{\\mathrm{d}}{\\mathrm{d}t}\\,a\\left(t\\right) a\\left(t\\right) \\sin ^{2}\\theta$"
      ],
      "text/plain": [
       "<IPython.core.display.Math object>"
      ]
     },
     "metadata": {},
     "output_type": "display_data"
    },
    {
     "data": {
      "text/latex": [
       "$\\displaystyle {\\Gamma}{}_{1\n",
       "}{}_{0\n",
       "}{}_{1\n",
       "} = -\\frac{\\frac{\\mathrm{d}}{\\mathrm{d}t}\\,a\\left(t\\right) a\\left(t\\right)}{k\\,r^{2}-1}$"
      ],
      "text/plain": [
       "<IPython.core.display.Math object>"
      ]
     },
     "metadata": {},
     "output_type": "display_data"
    },
    {
     "data": {
      "text/latex": [
       "$\\displaystyle {\\Gamma}{}_{1\n",
       "}{}_{1\n",
       "}{}_{0\n",
       "} = -\\frac{\\frac{\\mathrm{d}}{\\mathrm{d}t}\\,a\\left(t\\right) a\\left(t\\right)}{k\\,r^{2}-1}$"
      ],
      "text/plain": [
       "<IPython.core.display.Math object>"
      ]
     },
     "metadata": {},
     "output_type": "display_data"
    },
    {
     "data": {
      "text/latex": [
       "$\\displaystyle {\\Gamma}{}_{1\n",
       "}{}_{1\n",
       "}{}_{1\n",
       "} = \\frac{k\\,r\\,a\\left(t\\right)^{2}}{k^{2}\\,r^{4}-2\\,k\\,r^{2}+1}$"
      ],
      "text/plain": [
       "<IPython.core.display.Math object>"
      ]
     },
     "metadata": {},
     "output_type": "display_data"
    },
    {
     "data": {
      "text/latex": [
       "$\\displaystyle {\\Gamma}{}_{1\n",
       "}{}_{2\n",
       "}{}_{2\n",
       "} = -r\\,a\\left(t\\right)^{2}$"
      ],
      "text/plain": [
       "<IPython.core.display.Math object>"
      ]
     },
     "metadata": {},
     "output_type": "display_data"
    },
    {
     "data": {
      "text/latex": [
       "$\\displaystyle {\\Gamma}{}_{1\n",
       "}{}_{3\n",
       "}{}_{3\n",
       "} = -r\\,a\\left(t\\right)^{2} \\sin ^{2}\\theta$"
      ],
      "text/plain": [
       "<IPython.core.display.Math object>"
      ]
     },
     "metadata": {},
     "output_type": "display_data"
    },
    {
     "data": {
      "text/latex": [
       "$\\displaystyle {\\Gamma}{}_{2\n",
       "}{}_{0\n",
       "}{}_{2\n",
       "} = r^{2}\\,\\frac{\\mathrm{d}}{\\mathrm{d}t}\\,a\\left(t\\right) a\\left(t\\right)$"
      ],
      "text/plain": [
       "<IPython.core.display.Math object>"
      ]
     },
     "metadata": {},
     "output_type": "display_data"
    },
    {
     "data": {
      "text/latex": [
       "$\\displaystyle {\\Gamma}{}_{2\n",
       "}{}_{1\n",
       "}{}_{2\n",
       "} = r\\,a\\left(t\\right)^{2}$"
      ],
      "text/plain": [
       "<IPython.core.display.Math object>"
      ]
     },
     "metadata": {},
     "output_type": "display_data"
    },
    {
     "data": {
      "text/latex": [
       "$\\displaystyle {\\Gamma}{}_{2\n",
       "}{}_{2\n",
       "}{}_{0\n",
       "} = r^{2}\\,\\frac{\\mathrm{d}}{\\mathrm{d}t}\\,a\\left(t\\right) a\\left(t\\right)$"
      ],
      "text/plain": [
       "<IPython.core.display.Math object>"
      ]
     },
     "metadata": {},
     "output_type": "display_data"
    },
    {
     "data": {
      "text/latex": [
       "$\\displaystyle {\\Gamma}{}_{2\n",
       "}{}_{2\n",
       "}{}_{1\n",
       "} = r\\,a\\left(t\\right)^{2}$"
      ],
      "text/plain": [
       "<IPython.core.display.Math object>"
      ]
     },
     "metadata": {},
     "output_type": "display_data"
    },
    {
     "data": {
      "text/latex": [
       "$\\displaystyle {\\Gamma}{}_{2\n",
       "}{}_{3\n",
       "}{}_{3\n",
       "} = -\\frac{r^{2}\\,a\\left(t\\right)^{2} \\tan \\theta}{\\tan ^{2}\\theta+1}$"
      ],
      "text/plain": [
       "<IPython.core.display.Math object>"
      ]
     },
     "metadata": {},
     "output_type": "display_data"
    },
    {
     "data": {
      "text/latex": [
       "$\\displaystyle {\\Gamma}{}_{3\n",
       "}{}_{0\n",
       "}{}_{3\n",
       "} = r^{2}\\,\\frac{\\mathrm{d}}{\\mathrm{d}t}\\,a\\left(t\\right) a\\left(t\\right) \\sin ^{2}\\theta$"
      ],
      "text/plain": [
       "<IPython.core.display.Math object>"
      ]
     },
     "metadata": {},
     "output_type": "display_data"
    },
    {
     "data": {
      "text/latex": [
       "$\\displaystyle {\\Gamma}{}_{3\n",
       "}{}_{1\n",
       "}{}_{3\n",
       "} = r\\,a\\left(t\\right)^{2} \\sin ^{2}\\theta$"
      ],
      "text/plain": [
       "<IPython.core.display.Math object>"
      ]
     },
     "metadata": {},
     "output_type": "display_data"
    },
    {
     "data": {
      "text/latex": [
       "$\\displaystyle {\\Gamma}{}_{3\n",
       "}{}_{2\n",
       "}{}_{3\n",
       "} = \\frac{r^{2}\\,a\\left(t\\right)^{2} \\tan \\theta}{\\tan ^{2}\\theta+1}$"
      ],
      "text/plain": [
       "<IPython.core.display.Math object>"
      ]
     },
     "metadata": {},
     "output_type": "display_data"
    },
    {
     "data": {
      "text/latex": [
       "$\\displaystyle {\\Gamma}{}_{3\n",
       "}{}_{3\n",
       "}{}_{0\n",
       "} = r^{2}\\,\\frac{\\mathrm{d}}{\\mathrm{d}t}\\,a\\left(t\\right) a\\left(t\\right) \\sin ^{2}\\theta$"
      ],
      "text/plain": [
       "<IPython.core.display.Math object>"
      ]
     },
     "metadata": {},
     "output_type": "display_data"
    },
    {
     "data": {
      "text/latex": [
       "$\\displaystyle {\\Gamma}{}_{3\n",
       "}{}_{3\n",
       "}{}_{1\n",
       "} = r\\,a\\left(t\\right)^{2} \\sin ^{2}\\theta$"
      ],
      "text/plain": [
       "<IPython.core.display.Math object>"
      ]
     },
     "metadata": {},
     "output_type": "display_data"
    },
    {
     "data": {
      "text/latex": [
       "$\\displaystyle {\\Gamma}{}_{3\n",
       "}{}_{3\n",
       "}{}_{2\n",
       "} = \\frac{r^{2}\\,a\\left(t\\right)^{2} \\tan \\theta}{\\tan ^{2}\\theta+1}$"
      ],
      "text/plain": [
       "<IPython.core.display.Math object>"
      ]
     },
     "metadata": {},
     "output_type": "display_data"
    },
    {
     "data": {
      "text/latex": [
       "$\\displaystyle {\\Gamma}{}^{0\n",
       "}{}_{1\n",
       "}{}_{1\n",
       "} = -\\frac{\\frac{\\mathrm{d}}{\\mathrm{d}t}\\,a\\left(t\\right) a\\left(t\\right)}{k\\,r^{2}-1}$"
      ],
      "text/plain": [
       "<IPython.core.display.Math object>"
      ]
     },
     "metadata": {},
     "output_type": "display_data"
    },
    {
     "data": {
      "text/latex": [
       "$\\displaystyle {\\Gamma}{}^{0\n",
       "}{}_{2\n",
       "}{}_{2\n",
       "} = r^{2}\\,\\frac{\\mathrm{d}}{\\mathrm{d}t}\\,a\\left(t\\right) a\\left(t\\right)$"
      ],
      "text/plain": [
       "<IPython.core.display.Math object>"
      ]
     },
     "metadata": {},
     "output_type": "display_data"
    },
    {
     "data": {
      "text/latex": [
       "$\\displaystyle {\\Gamma}{}^{0\n",
       "}{}_{3\n",
       "}{}_{3\n",
       "} = r^{2}\\,\\frac{\\mathrm{d}}{\\mathrm{d}t}\\,a\\left(t\\right) a\\left(t\\right) \\sin ^{2}\\theta$"
      ],
      "text/plain": [
       "<IPython.core.display.Math object>"
      ]
     },
     "metadata": {},
     "output_type": "display_data"
    },
    {
     "data": {
      "text/latex": [
       "$\\displaystyle {\\Gamma}{}^{1\n",
       "}{}_{0\n",
       "}{}_{1\n",
       "} = \\frac{\\frac{\\mathrm{d}}{\\mathrm{d}t}\\,a\\left(t\\right)}{a\\left(t\\right)}$"
      ],
      "text/plain": [
       "<IPython.core.display.Math object>"
      ]
     },
     "metadata": {},
     "output_type": "display_data"
    },
    {
     "data": {
      "text/latex": [
       "$\\displaystyle {\\Gamma}{}^{1\n",
       "}{}_{1\n",
       "}{}_{0\n",
       "} = \\frac{\\frac{\\mathrm{d}}{\\mathrm{d}t}\\,a\\left(t\\right)}{a\\left(t\\right)}$"
      ],
      "text/plain": [
       "<IPython.core.display.Math object>"
      ]
     },
     "metadata": {},
     "output_type": "display_data"
    },
    {
     "data": {
      "text/latex": [
       "$\\displaystyle {\\Gamma}{}^{1\n",
       "}{}_{1\n",
       "}{}_{1\n",
       "} = -\\frac{k\\,r}{k\\,r^{2}-1}$"
      ],
      "text/plain": [
       "<IPython.core.display.Math object>"
      ]
     },
     "metadata": {},
     "output_type": "display_data"
    },
    {
     "data": {
      "text/latex": [
       "$\\displaystyle {\\Gamma}{}^{1\n",
       "}{}_{2\n",
       "}{}_{2\n",
       "} = k\\,r^{3}-r$"
      ],
      "text/plain": [
       "<IPython.core.display.Math object>"
      ]
     },
     "metadata": {},
     "output_type": "display_data"
    },
    {
     "data": {
      "text/latex": [
       "$\\displaystyle {\\Gamma}{}^{1\n",
       "}{}_{3\n",
       "}{}_{3\n",
       "} = k\\,r^{3} \\sin ^{2}\\theta-r \\sin ^{2}\\theta$"
      ],
      "text/plain": [
       "<IPython.core.display.Math object>"
      ]
     },
     "metadata": {},
     "output_type": "display_data"
    },
    {
     "data": {
      "text/latex": [
       "$\\displaystyle {\\Gamma}{}^{2\n",
       "}{}_{0\n",
       "}{}_{2\n",
       "} = \\frac{\\frac{\\mathrm{d}}{\\mathrm{d}t}\\,a\\left(t\\right)}{a\\left(t\\right)}$"
      ],
      "text/plain": [
       "<IPython.core.display.Math object>"
      ]
     },
     "metadata": {},
     "output_type": "display_data"
    },
    {
     "data": {
      "text/latex": [
       "$\\displaystyle {\\Gamma}{}^{2\n",
       "}{}_{1\n",
       "}{}_{2\n",
       "} = \\frac1{r}$"
      ],
      "text/plain": [
       "<IPython.core.display.Math object>"
      ]
     },
     "metadata": {},
     "output_type": "display_data"
    },
    {
     "data": {
      "text/latex": [
       "$\\displaystyle {\\Gamma}{}^{2\n",
       "}{}_{2\n",
       "}{}_{0\n",
       "} = \\frac{\\frac{\\mathrm{d}}{\\mathrm{d}t}\\,a\\left(t\\right)}{a\\left(t\\right)}$"
      ],
      "text/plain": [
       "<IPython.core.display.Math object>"
      ]
     },
     "metadata": {},
     "output_type": "display_data"
    },
    {
     "data": {
      "text/latex": [
       "$\\displaystyle {\\Gamma}{}^{2\n",
       "}{}_{2\n",
       "}{}_{1\n",
       "} = \\frac1{r}$"
      ],
      "text/plain": [
       "<IPython.core.display.Math object>"
      ]
     },
     "metadata": {},
     "output_type": "display_data"
    },
    {
     "data": {
      "text/latex": [
       "$\\displaystyle {\\Gamma}{}^{2\n",
       "}{}_{3\n",
       "}{}_{3\n",
       "} = -\\frac{\\tan \\theta}{\\tan ^{2}\\theta+1}$"
      ],
      "text/plain": [
       "<IPython.core.display.Math object>"
      ]
     },
     "metadata": {},
     "output_type": "display_data"
    },
    {
     "data": {
      "text/latex": [
       "$\\displaystyle {\\Gamma}{}^{3\n",
       "}{}_{0\n",
       "}{}_{3\n",
       "} = \\frac{\\frac{\\mathrm{d}}{\\mathrm{d}t}\\,a\\left(t\\right)}{a\\left(t\\right)}$"
      ],
      "text/plain": [
       "<IPython.core.display.Math object>"
      ]
     },
     "metadata": {},
     "output_type": "display_data"
    },
    {
     "data": {
      "text/latex": [
       "$\\displaystyle {\\Gamma}{}^{3\n",
       "}{}_{1\n",
       "}{}_{3\n",
       "} = \\frac1{r}$"
      ],
      "text/plain": [
       "<IPython.core.display.Math object>"
      ]
     },
     "metadata": {},
     "output_type": "display_data"
    },
    {
     "data": {
      "text/latex": [
       "$\\displaystyle {\\Gamma}{}^{3\n",
       "}{}_{2\n",
       "}{}_{3\n",
       "} = \\frac1{\\tan \\theta}$"
      ],
      "text/plain": [
       "<IPython.core.display.Math object>"
      ]
     },
     "metadata": {},
     "output_type": "display_data"
    },
    {
     "data": {
      "text/latex": [
       "$\\displaystyle {\\Gamma}{}^{3\n",
       "}{}_{3\n",
       "}{}_{0\n",
       "} = \\frac{\\frac{\\mathrm{d}}{\\mathrm{d}t}\\,a\\left(t\\right)}{a\\left(t\\right)}$"
      ],
      "text/plain": [
       "<IPython.core.display.Math object>"
      ]
     },
     "metadata": {},
     "output_type": "display_data"
    },
    {
     "data": {
      "text/latex": [
       "$\\displaystyle {\\Gamma}{}^{3\n",
       "}{}_{3\n",
       "}{}_{1\n",
       "} = \\frac1{r}$"
      ],
      "text/plain": [
       "<IPython.core.display.Math object>"
      ]
     },
     "metadata": {},
     "output_type": "display_data"
    },
    {
     "data": {
      "text/latex": [
       "$\\displaystyle {\\Gamma}{}^{3\n",
       "}{}_{3\n",
       "}{}_{2\n",
       "} = \\frac1{\\tan \\theta}$"
      ],
      "text/plain": [
       "<IPython.core.display.Math object>"
      ]
     },
     "metadata": {},
     "output_type": "display_data"
    }
   ],
   "source": [
    "Chr = pt.christoffel()\n",
    "Chr.display()"
   ]
  },
  {
   "cell_type": "code",
   "execution_count": 34,
   "metadata": {
    "scrolled": false
   },
   "outputs": [
    {
     "data": {
      "text/latex": [
       "First and Second Kind Christoffel Symbol $\\Gamma_{\\alpha \\beta \\gamma}$ and $\\Gamma^{\\alpha}_{\\beta \\gamma}$ already calculated"
      ],
      "text/plain": [
       "<IPython.core.display.Latex object>"
      ]
     },
     "metadata": {},
     "output_type": "display_data"
    },
    {
     "data": {
      "text/latex": [
       "$\\displaystyle {\\Gamma}{}_{0\n",
       "}{}_{1\n",
       "}{}_{1\n",
       "} = \\frac{\\frac{\\mathrm{d}}{\\mathrm{d}t}\\,a\\left(t\\right) a\\left(t\\right)}{k\\,r^{2}-1}$"
      ],
      "text/plain": [
       "<IPython.core.display.Math object>"
      ]
     },
     "metadata": {},
     "output_type": "display_data"
    },
    {
     "data": {
      "text/latex": [
       "$\\displaystyle {\\Gamma}{}_{0\n",
       "}{}_{2\n",
       "}{}_{2\n",
       "} = -r^{2}\\,\\frac{\\mathrm{d}}{\\mathrm{d}t}\\,a\\left(t\\right) a\\left(t\\right)$"
      ],
      "text/plain": [
       "<IPython.core.display.Math object>"
      ]
     },
     "metadata": {},
     "output_type": "display_data"
    },
    {
     "data": {
      "text/latex": [
       "$\\displaystyle {\\Gamma}{}_{0\n",
       "}{}_{3\n",
       "}{}_{3\n",
       "} = -r^{2}\\,\\frac{\\mathrm{d}}{\\mathrm{d}t}\\,a\\left(t\\right) a\\left(t\\right) \\sin ^{2}\\theta$"
      ],
      "text/plain": [
       "<IPython.core.display.Math object>"
      ]
     },
     "metadata": {},
     "output_type": "display_data"
    },
    {
     "data": {
      "text/latex": [
       "$\\displaystyle {\\Gamma}{}_{1\n",
       "}{}_{0\n",
       "}{}_{1\n",
       "} = -\\frac{\\frac{\\mathrm{d}}{\\mathrm{d}t}\\,a\\left(t\\right) a\\left(t\\right)}{k\\,r^{2}-1}$"
      ],
      "text/plain": [
       "<IPython.core.display.Math object>"
      ]
     },
     "metadata": {},
     "output_type": "display_data"
    },
    {
     "data": {
      "text/latex": [
       "$\\displaystyle {\\Gamma}{}_{1\n",
       "}{}_{1\n",
       "}{}_{0\n",
       "} = -\\frac{\\frac{\\mathrm{d}}{\\mathrm{d}t}\\,a\\left(t\\right) a\\left(t\\right)}{k\\,r^{2}-1}$"
      ],
      "text/plain": [
       "<IPython.core.display.Math object>"
      ]
     },
     "metadata": {},
     "output_type": "display_data"
    },
    {
     "data": {
      "text/latex": [
       "$\\displaystyle {\\Gamma}{}_{1\n",
       "}{}_{1\n",
       "}{}_{1\n",
       "} = \\frac{k\\,r\\,a\\left(t\\right)^{2}}{k^{2}\\,r^{4}-2\\,k\\,r^{2}+1}$"
      ],
      "text/plain": [
       "<IPython.core.display.Math object>"
      ]
     },
     "metadata": {},
     "output_type": "display_data"
    },
    {
     "data": {
      "text/latex": [
       "$\\displaystyle {\\Gamma}{}_{1\n",
       "}{}_{2\n",
       "}{}_{2\n",
       "} = -r\\,a\\left(t\\right)^{2}$"
      ],
      "text/plain": [
       "<IPython.core.display.Math object>"
      ]
     },
     "metadata": {},
     "output_type": "display_data"
    },
    {
     "data": {
      "text/latex": [
       "$\\displaystyle {\\Gamma}{}_{1\n",
       "}{}_{3\n",
       "}{}_{3\n",
       "} = -r\\,a\\left(t\\right)^{2} \\sin ^{2}\\theta$"
      ],
      "text/plain": [
       "<IPython.core.display.Math object>"
      ]
     },
     "metadata": {},
     "output_type": "display_data"
    },
    {
     "data": {
      "text/latex": [
       "$\\displaystyle {\\Gamma}{}_{2\n",
       "}{}_{0\n",
       "}{}_{2\n",
       "} = r^{2}\\,\\frac{\\mathrm{d}}{\\mathrm{d}t}\\,a\\left(t\\right) a\\left(t\\right)$"
      ],
      "text/plain": [
       "<IPython.core.display.Math object>"
      ]
     },
     "metadata": {},
     "output_type": "display_data"
    },
    {
     "data": {
      "text/latex": [
       "$\\displaystyle {\\Gamma}{}_{2\n",
       "}{}_{1\n",
       "}{}_{2\n",
       "} = r\\,a\\left(t\\right)^{2}$"
      ],
      "text/plain": [
       "<IPython.core.display.Math object>"
      ]
     },
     "metadata": {},
     "output_type": "display_data"
    },
    {
     "data": {
      "text/latex": [
       "$\\displaystyle {\\Gamma}{}_{2\n",
       "}{}_{2\n",
       "}{}_{0\n",
       "} = r^{2}\\,\\frac{\\mathrm{d}}{\\mathrm{d}t}\\,a\\left(t\\right) a\\left(t\\right)$"
      ],
      "text/plain": [
       "<IPython.core.display.Math object>"
      ]
     },
     "metadata": {},
     "output_type": "display_data"
    },
    {
     "data": {
      "text/latex": [
       "$\\displaystyle {\\Gamma}{}_{2\n",
       "}{}_{2\n",
       "}{}_{1\n",
       "} = r\\,a\\left(t\\right)^{2}$"
      ],
      "text/plain": [
       "<IPython.core.display.Math object>"
      ]
     },
     "metadata": {},
     "output_type": "display_data"
    },
    {
     "data": {
      "text/latex": [
       "$\\displaystyle {\\Gamma}{}_{2\n",
       "}{}_{3\n",
       "}{}_{3\n",
       "} = -\\frac{r^{2}\\,a\\left(t\\right)^{2} \\tan \\theta}{\\tan ^{2}\\theta+1}$"
      ],
      "text/plain": [
       "<IPython.core.display.Math object>"
      ]
     },
     "metadata": {},
     "output_type": "display_data"
    },
    {
     "data": {
      "text/latex": [
       "$\\displaystyle {\\Gamma}{}_{3\n",
       "}{}_{0\n",
       "}{}_{3\n",
       "} = r^{2}\\,\\frac{\\mathrm{d}}{\\mathrm{d}t}\\,a\\left(t\\right) a\\left(t\\right) \\sin ^{2}\\theta$"
      ],
      "text/plain": [
       "<IPython.core.display.Math object>"
      ]
     },
     "metadata": {},
     "output_type": "display_data"
    },
    {
     "data": {
      "text/latex": [
       "$\\displaystyle {\\Gamma}{}_{3\n",
       "}{}_{1\n",
       "}{}_{3\n",
       "} = r\\,a\\left(t\\right)^{2} \\sin ^{2}\\theta$"
      ],
      "text/plain": [
       "<IPython.core.display.Math object>"
      ]
     },
     "metadata": {},
     "output_type": "display_data"
    },
    {
     "data": {
      "text/latex": [
       "$\\displaystyle {\\Gamma}{}_{3\n",
       "}{}_{2\n",
       "}{}_{3\n",
       "} = \\frac{r^{2}\\,a\\left(t\\right)^{2} \\tan \\theta}{\\tan ^{2}\\theta+1}$"
      ],
      "text/plain": [
       "<IPython.core.display.Math object>"
      ]
     },
     "metadata": {},
     "output_type": "display_data"
    },
    {
     "data": {
      "text/latex": [
       "$\\displaystyle {\\Gamma}{}_{3\n",
       "}{}_{3\n",
       "}{}_{0\n",
       "} = r^{2}\\,\\frac{\\mathrm{d}}{\\mathrm{d}t}\\,a\\left(t\\right) a\\left(t\\right) \\sin ^{2}\\theta$"
      ],
      "text/plain": [
       "<IPython.core.display.Math object>"
      ]
     },
     "metadata": {},
     "output_type": "display_data"
    },
    {
     "data": {
      "text/latex": [
       "$\\displaystyle {\\Gamma}{}_{3\n",
       "}{}_{3\n",
       "}{}_{1\n",
       "} = r\\,a\\left(t\\right)^{2} \\sin ^{2}\\theta$"
      ],
      "text/plain": [
       "<IPython.core.display.Math object>"
      ]
     },
     "metadata": {},
     "output_type": "display_data"
    },
    {
     "data": {
      "text/latex": [
       "$\\displaystyle {\\Gamma}{}_{3\n",
       "}{}_{3\n",
       "}{}_{2\n",
       "} = \\frac{r^{2}\\,a\\left(t\\right)^{2} \\tan \\theta}{\\tan ^{2}\\theta+1}$"
      ],
      "text/plain": [
       "<IPython.core.display.Math object>"
      ]
     },
     "metadata": {},
     "output_type": "display_data"
    },
    {
     "data": {
      "text/latex": [
       "$\\displaystyle {\\Gamma}{}^{0\n",
       "}{}_{1\n",
       "}{}_{1\n",
       "} = -\\frac{\\frac{\\mathrm{d}}{\\mathrm{d}t}\\,a\\left(t\\right) a\\left(t\\right)}{k\\,r^{2}-1}$"
      ],
      "text/plain": [
       "<IPython.core.display.Math object>"
      ]
     },
     "metadata": {},
     "output_type": "display_data"
    },
    {
     "data": {
      "text/latex": [
       "$\\displaystyle {\\Gamma}{}^{0\n",
       "}{}_{2\n",
       "}{}_{2\n",
       "} = r^{2}\\,\\frac{\\mathrm{d}}{\\mathrm{d}t}\\,a\\left(t\\right) a\\left(t\\right)$"
      ],
      "text/plain": [
       "<IPython.core.display.Math object>"
      ]
     },
     "metadata": {},
     "output_type": "display_data"
    },
    {
     "data": {
      "text/latex": [
       "$\\displaystyle {\\Gamma}{}^{0\n",
       "}{}_{3\n",
       "}{}_{3\n",
       "} = r^{2}\\,\\frac{\\mathrm{d}}{\\mathrm{d}t}\\,a\\left(t\\right) a\\left(t\\right) \\sin ^{2}\\theta$"
      ],
      "text/plain": [
       "<IPython.core.display.Math object>"
      ]
     },
     "metadata": {},
     "output_type": "display_data"
    },
    {
     "data": {
      "text/latex": [
       "$\\displaystyle {\\Gamma}{}^{1\n",
       "}{}_{0\n",
       "}{}_{1\n",
       "} = \\frac{\\frac{\\mathrm{d}}{\\mathrm{d}t}\\,a\\left(t\\right)}{a\\left(t\\right)}$"
      ],
      "text/plain": [
       "<IPython.core.display.Math object>"
      ]
     },
     "metadata": {},
     "output_type": "display_data"
    },
    {
     "data": {
      "text/latex": [
       "$\\displaystyle {\\Gamma}{}^{1\n",
       "}{}_{1\n",
       "}{}_{0\n",
       "} = \\frac{\\frac{\\mathrm{d}}{\\mathrm{d}t}\\,a\\left(t\\right)}{a\\left(t\\right)}$"
      ],
      "text/plain": [
       "<IPython.core.display.Math object>"
      ]
     },
     "metadata": {},
     "output_type": "display_data"
    },
    {
     "data": {
      "text/latex": [
       "$\\displaystyle {\\Gamma}{}^{1\n",
       "}{}_{1\n",
       "}{}_{1\n",
       "} = -\\frac{k\\,r}{k\\,r^{2}-1}$"
      ],
      "text/plain": [
       "<IPython.core.display.Math object>"
      ]
     },
     "metadata": {},
     "output_type": "display_data"
    },
    {
     "data": {
      "text/latex": [
       "$\\displaystyle {\\Gamma}{}^{1\n",
       "}{}_{2\n",
       "}{}_{2\n",
       "} = k\\,r^{3}-r$"
      ],
      "text/plain": [
       "<IPython.core.display.Math object>"
      ]
     },
     "metadata": {},
     "output_type": "display_data"
    },
    {
     "data": {
      "text/latex": [
       "$\\displaystyle {\\Gamma}{}^{1\n",
       "}{}_{3\n",
       "}{}_{3\n",
       "} = k\\,r^{3} \\sin ^{2}\\theta-r \\sin ^{2}\\theta$"
      ],
      "text/plain": [
       "<IPython.core.display.Math object>"
      ]
     },
     "metadata": {},
     "output_type": "display_data"
    },
    {
     "data": {
      "text/latex": [
       "$\\displaystyle {\\Gamma}{}^{2\n",
       "}{}_{0\n",
       "}{}_{2\n",
       "} = \\frac{\\frac{\\mathrm{d}}{\\mathrm{d}t}\\,a\\left(t\\right)}{a\\left(t\\right)}$"
      ],
      "text/plain": [
       "<IPython.core.display.Math object>"
      ]
     },
     "metadata": {},
     "output_type": "display_data"
    },
    {
     "data": {
      "text/latex": [
       "$\\displaystyle {\\Gamma}{}^{2\n",
       "}{}_{1\n",
       "}{}_{2\n",
       "} = \\frac1{r}$"
      ],
      "text/plain": [
       "<IPython.core.display.Math object>"
      ]
     },
     "metadata": {},
     "output_type": "display_data"
    },
    {
     "data": {
      "text/latex": [
       "$\\displaystyle {\\Gamma}{}^{2\n",
       "}{}_{2\n",
       "}{}_{0\n",
       "} = \\frac{\\frac{\\mathrm{d}}{\\mathrm{d}t}\\,a\\left(t\\right)}{a\\left(t\\right)}$"
      ],
      "text/plain": [
       "<IPython.core.display.Math object>"
      ]
     },
     "metadata": {},
     "output_type": "display_data"
    },
    {
     "data": {
      "text/latex": [
       "$\\displaystyle {\\Gamma}{}^{2\n",
       "}{}_{2\n",
       "}{}_{1\n",
       "} = \\frac1{r}$"
      ],
      "text/plain": [
       "<IPython.core.display.Math object>"
      ]
     },
     "metadata": {},
     "output_type": "display_data"
    },
    {
     "data": {
      "text/latex": [
       "$\\displaystyle {\\Gamma}{}^{2\n",
       "}{}_{3\n",
       "}{}_{3\n",
       "} = -\\frac{\\tan \\theta}{\\tan ^{2}\\theta+1}$"
      ],
      "text/plain": [
       "<IPython.core.display.Math object>"
      ]
     },
     "metadata": {},
     "output_type": "display_data"
    },
    {
     "data": {
      "text/latex": [
       "$\\displaystyle {\\Gamma}{}^{3\n",
       "}{}_{0\n",
       "}{}_{3\n",
       "} = \\frac{\\frac{\\mathrm{d}}{\\mathrm{d}t}\\,a\\left(t\\right)}{a\\left(t\\right)}$"
      ],
      "text/plain": [
       "<IPython.core.display.Math object>"
      ]
     },
     "metadata": {},
     "output_type": "display_data"
    },
    {
     "data": {
      "text/latex": [
       "$\\displaystyle {\\Gamma}{}^{3\n",
       "}{}_{1\n",
       "}{}_{3\n",
       "} = \\frac1{r}$"
      ],
      "text/plain": [
       "<IPython.core.display.Math object>"
      ]
     },
     "metadata": {},
     "output_type": "display_data"
    },
    {
     "data": {
      "text/latex": [
       "$\\displaystyle {\\Gamma}{}^{3\n",
       "}{}_{2\n",
       "}{}_{3\n",
       "} = \\frac1{\\tan \\theta}$"
      ],
      "text/plain": [
       "<IPython.core.display.Math object>"
      ]
     },
     "metadata": {},
     "output_type": "display_data"
    },
    {
     "data": {
      "text/latex": [
       "$\\displaystyle {\\Gamma}{}^{3\n",
       "}{}_{3\n",
       "}{}_{0\n",
       "} = \\frac{\\frac{\\mathrm{d}}{\\mathrm{d}t}\\,a\\left(t\\right)}{a\\left(t\\right)}$"
      ],
      "text/plain": [
       "<IPython.core.display.Math object>"
      ]
     },
     "metadata": {},
     "output_type": "display_data"
    },
    {
     "data": {
      "text/latex": [
       "$\\displaystyle {\\Gamma}{}^{3\n",
       "}{}_{3\n",
       "}{}_{1\n",
       "} = \\frac1{r}$"
      ],
      "text/plain": [
       "<IPython.core.display.Math object>"
      ]
     },
     "metadata": {},
     "output_type": "display_data"
    },
    {
     "data": {
      "text/latex": [
       "$\\displaystyle {\\Gamma}{}^{3\n",
       "}{}_{3\n",
       "}{}_{2\n",
       "} = \\frac1{\\tan \\theta}$"
      ],
      "text/plain": [
       "<IPython.core.display.Math object>"
      ]
     },
     "metadata": {},
     "output_type": "display_data"
    }
   ],
   "source": [
    "# To calculate the First and Second kind Christoffel Symbols:\n",
    "Chr = pt.christoffel()\n",
    "\n",
    "# To calculate the first kind without the second kind:\n",
    "# Chr = pt.christoffel(Second_kind = False)\n",
    "\n",
    "# To calculate the second kind without the first kind:\n",
    "# Chr = pt.christoffel(First_kind = False)\n",
    "\n",
    "# To display the tensor:\n",
    "Chr.display()\n",
    "\n",
    "# By default it displays all the non zero components for the two kinds of Christoffel Symbols.\n",
    "\n",
    "# To display only a particular combination of indices, e.g., the Second kind:\n",
    "# Chr.display(\"^,_,_\")"
   ]
  },
  {
   "cell_type": "code",
   "execution_count": 35,
   "metadata": {},
   "outputs": [
    {
     "data": {
      "text/latex": [
       "Riemann Tensor $R^{\\alpha}_{\\beta \\gamma \\delta}$"
      ],
      "text/plain": [
       "<IPython.core.display.Latex object>"
      ]
     },
     "metadata": {},
     "output_type": "display_data"
    },
    {
     "data": {
      "application/vnd.jupyter.widget-view+json": {
       "model_id": "986fdd2010a4466bbd7e31a487cc6a8b",
       "version_major": 2,
       "version_minor": 0
      },
      "text/plain": [
       "  0%|          | 0/256 [00:00<?, ?it/s]"
      ]
     },
     "metadata": {},
     "output_type": "display_data"
    },
    {
     "data": {
      "text/latex": [
       "$\\displaystyle {R}{}^{0\n",
       "}{}_{1\n",
       "}{}_{0\n",
       "}{}_{1\n",
       "} = -\\frac{\\frac{\\mathrm{d}^{2}}{\\mathrm{d}t^{2}}\\,a\\left(t\\right) a\\left(t\\right)}{k\\,r^{2}-1}$"
      ],
      "text/plain": [
       "<IPython.core.display.Math object>"
      ]
     },
     "metadata": {},
     "output_type": "display_data"
    },
    {
     "data": {
      "text/latex": [
       "$\\displaystyle {R}{}^{0\n",
       "}{}_{1\n",
       "}{}_{1\n",
       "}{}_{0\n",
       "} = \\frac{\\frac{\\mathrm{d}^{2}}{\\mathrm{d}t^{2}}\\,a\\left(t\\right) a\\left(t\\right)}{k\\,r^{2}-1}$"
      ],
      "text/plain": [
       "<IPython.core.display.Math object>"
      ]
     },
     "metadata": {},
     "output_type": "display_data"
    },
    {
     "data": {
      "text/latex": [
       "$\\displaystyle {R}{}^{0\n",
       "}{}_{2\n",
       "}{}_{0\n",
       "}{}_{2\n",
       "} = r^{2}\\,\\frac{\\mathrm{d}^{2}}{\\mathrm{d}t^{2}}\\,a\\left(t\\right) a\\left(t\\right)$"
      ],
      "text/plain": [
       "<IPython.core.display.Math object>"
      ]
     },
     "metadata": {},
     "output_type": "display_data"
    },
    {
     "data": {
      "text/latex": [
       "$\\displaystyle {R}{}^{0\n",
       "}{}_{2\n",
       "}{}_{2\n",
       "}{}_{0\n",
       "} = -r^{2}\\,\\frac{\\mathrm{d}^{2}}{\\mathrm{d}t^{2}}\\,a\\left(t\\right) a\\left(t\\right)$"
      ],
      "text/plain": [
       "<IPython.core.display.Math object>"
      ]
     },
     "metadata": {},
     "output_type": "display_data"
    },
    {
     "data": {
      "text/latex": [
       "$\\displaystyle {R}{}^{0\n",
       "}{}_{3\n",
       "}{}_{0\n",
       "}{}_{3\n",
       "} = r^{2}\\,\\frac{\\mathrm{d}^{2}}{\\mathrm{d}t^{2}}\\,a\\left(t\\right) a\\left(t\\right) \\sin ^{2}\\theta$"
      ],
      "text/plain": [
       "<IPython.core.display.Math object>"
      ]
     },
     "metadata": {},
     "output_type": "display_data"
    },
    {
     "data": {
      "text/latex": [
       "$\\displaystyle {R}{}^{0\n",
       "}{}_{3\n",
       "}{}_{3\n",
       "}{}_{0\n",
       "} = -r^{2}\\,\\frac{\\mathrm{d}^{2}}{\\mathrm{d}t^{2}}\\,a\\left(t\\right) a\\left(t\\right) \\sin ^{2}\\theta$"
      ],
      "text/plain": [
       "<IPython.core.display.Math object>"
      ]
     },
     "metadata": {},
     "output_type": "display_data"
    },
    {
     "data": {
      "text/latex": [
       "$\\displaystyle {R}{}^{1\n",
       "}{}_{0\n",
       "}{}_{0\n",
       "}{}_{1\n",
       "} = \\frac{\\frac{\\mathrm{d}^{2}}{\\mathrm{d}t^{2}}\\,a\\left(t\\right)}{a\\left(t\\right)}$"
      ],
      "text/plain": [
       "<IPython.core.display.Math object>"
      ]
     },
     "metadata": {},
     "output_type": "display_data"
    },
    {
     "data": {
      "text/latex": [
       "$\\displaystyle {R}{}^{1\n",
       "}{}_{0\n",
       "}{}_{1\n",
       "}{}_{0\n",
       "} = -\\frac{\\frac{\\mathrm{d}^{2}}{\\mathrm{d}t^{2}}\\,a\\left(t\\right)}{a\\left(t\\right)}$"
      ],
      "text/plain": [
       "<IPython.core.display.Math object>"
      ]
     },
     "metadata": {},
     "output_type": "display_data"
    },
    {
     "data": {
      "text/latex": [
       "$\\displaystyle {R}{}^{1\n",
       "}{}_{2\n",
       "}{}_{1\n",
       "}{}_{2\n",
       "} = k\\,r^{2}+r^{2} \\left(\\frac{\\mathrm{d}}{\\mathrm{d}t}\\,a\\left(t\\right)\\right)^{2}$"
      ],
      "text/plain": [
       "<IPython.core.display.Math object>"
      ]
     },
     "metadata": {},
     "output_type": "display_data"
    },
    {
     "data": {
      "text/latex": [
       "$\\displaystyle {R}{}^{1\n",
       "}{}_{2\n",
       "}{}_{2\n",
       "}{}_{1\n",
       "} = -k\\,r^{2}-r^{2} \\left(\\frac{\\mathrm{d}}{\\mathrm{d}t}\\,a\\left(t\\right)\\right)^{2}$"
      ],
      "text/plain": [
       "<IPython.core.display.Math object>"
      ]
     },
     "metadata": {},
     "output_type": "display_data"
    },
    {
     "data": {
      "text/latex": [
       "$\\displaystyle {R}{}^{1\n",
       "}{}_{3\n",
       "}{}_{1\n",
       "}{}_{3\n",
       "} = k\\,r^{2} \\sin ^{2}\\theta+r^{2} \\left(\\frac{\\mathrm{d}}{\\mathrm{d}t}\\,a\\left(t\\right)\\right)^{2} \\sin ^{2}\\theta$"
      ],
      "text/plain": [
       "<IPython.core.display.Math object>"
      ]
     },
     "metadata": {},
     "output_type": "display_data"
    },
    {
     "data": {
      "text/latex": [
       "$\\displaystyle {R}{}^{1\n",
       "}{}_{3\n",
       "}{}_{3\n",
       "}{}_{1\n",
       "} = -k\\,r^{2} \\sin ^{2}\\theta-r^{2} \\left(\\frac{\\mathrm{d}}{\\mathrm{d}t}\\,a\\left(t\\right)\\right)^{2} \\sin ^{2}\\theta$"
      ],
      "text/plain": [
       "<IPython.core.display.Math object>"
      ]
     },
     "metadata": {},
     "output_type": "display_data"
    },
    {
     "data": {
      "text/latex": [
       "$\\displaystyle {R}{}^{2\n",
       "}{}_{0\n",
       "}{}_{0\n",
       "}{}_{2\n",
       "} = \\frac{\\frac{\\mathrm{d}^{2}}{\\mathrm{d}t^{2}}\\,a\\left(t\\right)}{a\\left(t\\right)}$"
      ],
      "text/plain": [
       "<IPython.core.display.Math object>"
      ]
     },
     "metadata": {},
     "output_type": "display_data"
    },
    {
     "data": {
      "text/latex": [
       "$\\displaystyle {R}{}^{2\n",
       "}{}_{0\n",
       "}{}_{2\n",
       "}{}_{0\n",
       "} = -\\frac{\\frac{\\mathrm{d}^{2}}{\\mathrm{d}t^{2}}\\,a\\left(t\\right)}{a\\left(t\\right)}$"
      ],
      "text/plain": [
       "<IPython.core.display.Math object>"
      ]
     },
     "metadata": {},
     "output_type": "display_data"
    },
    {
     "data": {
      "text/latex": [
       "$\\displaystyle {R}{}^{2\n",
       "}{}_{1\n",
       "}{}_{1\n",
       "}{}_{2\n",
       "} = \\frac{k+\\left(\\frac{\\mathrm{d}}{\\mathrm{d}t}\\,a\\left(t\\right)\\right)^{2}}{k\\,r^{2}-1}$"
      ],
      "text/plain": [
       "<IPython.core.display.Math object>"
      ]
     },
     "metadata": {},
     "output_type": "display_data"
    },
    {
     "data": {
      "text/latex": [
       "$\\displaystyle {R}{}^{2\n",
       "}{}_{1\n",
       "}{}_{2\n",
       "}{}_{1\n",
       "} = -\\frac{k+\\left(\\frac{\\mathrm{d}}{\\mathrm{d}t}\\,a\\left(t\\right)\\right)^{2}}{k\\,r^{2}-1}$"
      ],
      "text/plain": [
       "<IPython.core.display.Math object>"
      ]
     },
     "metadata": {},
     "output_type": "display_data"
    },
    {
     "data": {
      "text/latex": [
       "$\\displaystyle {R}{}^{2\n",
       "}{}_{3\n",
       "}{}_{2\n",
       "}{}_{3\n",
       "} = \\frac{k\\,r^{2} \\tan ^{2}\\theta+r^{2} \\left(\\frac{\\mathrm{d}}{\\mathrm{d}t}\\,a\\left(t\\right)\\right)^{2} \\tan ^{2}\\theta}{\\tan ^{2}\\theta+1}$"
      ],
      "text/plain": [
       "<IPython.core.display.Math object>"
      ]
     },
     "metadata": {},
     "output_type": "display_data"
    },
    {
     "data": {
      "text/latex": [
       "$\\displaystyle {R}{}^{2\n",
       "}{}_{3\n",
       "}{}_{3\n",
       "}{}_{2\n",
       "} = -\\frac{k\\,r^{2} \\tan ^{2}\\theta+r^{2} \\left(\\frac{\\mathrm{d}}{\\mathrm{d}t}\\,a\\left(t\\right)\\right)^{2} \\tan ^{2}\\theta}{\\tan ^{2}\\theta+1}$"
      ],
      "text/plain": [
       "<IPython.core.display.Math object>"
      ]
     },
     "metadata": {},
     "output_type": "display_data"
    },
    {
     "data": {
      "text/latex": [
       "$\\displaystyle {R}{}^{3\n",
       "}{}_{0\n",
       "}{}_{0\n",
       "}{}_{3\n",
       "} = \\frac{\\frac{\\mathrm{d}^{2}}{\\mathrm{d}t^{2}}\\,a\\left(t\\right)}{a\\left(t\\right)}$"
      ],
      "text/plain": [
       "<IPython.core.display.Math object>"
      ]
     },
     "metadata": {},
     "output_type": "display_data"
    },
    {
     "data": {
      "text/latex": [
       "$\\displaystyle {R}{}^{3\n",
       "}{}_{0\n",
       "}{}_{3\n",
       "}{}_{0\n",
       "} = -\\frac{\\frac{\\mathrm{d}^{2}}{\\mathrm{d}t^{2}}\\,a\\left(t\\right)}{a\\left(t\\right)}$"
      ],
      "text/plain": [
       "<IPython.core.display.Math object>"
      ]
     },
     "metadata": {},
     "output_type": "display_data"
    },
    {
     "data": {
      "text/latex": [
       "$\\displaystyle {R}{}^{3\n",
       "}{}_{1\n",
       "}{}_{1\n",
       "}{}_{3\n",
       "} = \\frac{k+\\left(\\frac{\\mathrm{d}}{\\mathrm{d}t}\\,a\\left(t\\right)\\right)^{2}}{k\\,r^{2}-1}$"
      ],
      "text/plain": [
       "<IPython.core.display.Math object>"
      ]
     },
     "metadata": {},
     "output_type": "display_data"
    },
    {
     "data": {
      "text/latex": [
       "$\\displaystyle {R}{}^{3\n",
       "}{}_{1\n",
       "}{}_{3\n",
       "}{}_{1\n",
       "} = -\\frac{k+\\left(\\frac{\\mathrm{d}}{\\mathrm{d}t}\\,a\\left(t\\right)\\right)^{2}}{k\\,r^{2}-1}$"
      ],
      "text/plain": [
       "<IPython.core.display.Math object>"
      ]
     },
     "metadata": {},
     "output_type": "display_data"
    },
    {
     "data": {
      "text/latex": [
       "$\\displaystyle {R}{}^{3\n",
       "}{}_{2\n",
       "}{}_{2\n",
       "}{}_{3\n",
       "} = -k\\,r^{2}-r^{2} \\left(\\frac{\\mathrm{d}}{\\mathrm{d}t}\\,a\\left(t\\right)\\right)^{2}$"
      ],
      "text/plain": [
       "<IPython.core.display.Math object>"
      ]
     },
     "metadata": {},
     "output_type": "display_data"
    },
    {
     "data": {
      "text/latex": [
       "$\\displaystyle {R}{}^{3\n",
       "}{}_{2\n",
       "}{}_{3\n",
       "}{}_{2\n",
       "} = k\\,r^{2}+r^{2} \\left(\\frac{\\mathrm{d}}{\\mathrm{d}t}\\,a\\left(t\\right)\\right)^{2}$"
      ],
      "text/plain": [
       "<IPython.core.display.Math object>"
      ]
     },
     "metadata": {},
     "output_type": "display_data"
    }
   ],
   "source": [
    "R = pt.riemann()\n",
    "R.display(\"^,_,_,_\")"
   ]
  },
  {
   "cell_type": "code",
   "execution_count": 36,
   "metadata": {},
   "outputs": [
    {
     "data": {
      "text/latex": [
       "Riemann Tensor $R_{\\alpha \\beta \\gamma \\delta}$ already calculated"
      ],
      "text/plain": [
       "<IPython.core.display.Latex object>"
      ]
     },
     "metadata": {},
     "output_type": "display_data"
    },
    {
     "data": {
      "text/latex": [
       "$\\displaystyle {R}{}^{0\n",
       "}{}_{1\n",
       "}{}_{0\n",
       "}{}_{1\n",
       "} = -\\frac{\\frac{\\mathrm{d}^{2}}{\\mathrm{d}t^{2}}\\,a\\left(t\\right) a\\left(t\\right)}{k\\,r^{2}-1}$"
      ],
      "text/plain": [
       "<IPython.core.display.Math object>"
      ]
     },
     "metadata": {},
     "output_type": "display_data"
    },
    {
     "data": {
      "text/latex": [
       "$\\displaystyle {R}{}^{0\n",
       "}{}_{1\n",
       "}{}_{1\n",
       "}{}_{0\n",
       "} = \\frac{\\frac{\\mathrm{d}^{2}}{\\mathrm{d}t^{2}}\\,a\\left(t\\right) a\\left(t\\right)}{k\\,r^{2}-1}$"
      ],
      "text/plain": [
       "<IPython.core.display.Math object>"
      ]
     },
     "metadata": {},
     "output_type": "display_data"
    },
    {
     "data": {
      "text/latex": [
       "$\\displaystyle {R}{}^{0\n",
       "}{}_{2\n",
       "}{}_{0\n",
       "}{}_{2\n",
       "} = r^{2}\\,\\frac{\\mathrm{d}^{2}}{\\mathrm{d}t^{2}}\\,a\\left(t\\right) a\\left(t\\right)$"
      ],
      "text/plain": [
       "<IPython.core.display.Math object>"
      ]
     },
     "metadata": {},
     "output_type": "display_data"
    },
    {
     "data": {
      "text/latex": [
       "$\\displaystyle {R}{}^{0\n",
       "}{}_{2\n",
       "}{}_{2\n",
       "}{}_{0\n",
       "} = -r^{2}\\,\\frac{\\mathrm{d}^{2}}{\\mathrm{d}t^{2}}\\,a\\left(t\\right) a\\left(t\\right)$"
      ],
      "text/plain": [
       "<IPython.core.display.Math object>"
      ]
     },
     "metadata": {},
     "output_type": "display_data"
    },
    {
     "data": {
      "text/latex": [
       "$\\displaystyle {R}{}^{0\n",
       "}{}_{3\n",
       "}{}_{0\n",
       "}{}_{3\n",
       "} = r^{2}\\,\\frac{\\mathrm{d}^{2}}{\\mathrm{d}t^{2}}\\,a\\left(t\\right) a\\left(t\\right) \\sin ^{2}\\theta$"
      ],
      "text/plain": [
       "<IPython.core.display.Math object>"
      ]
     },
     "metadata": {},
     "output_type": "display_data"
    },
    {
     "data": {
      "text/latex": [
       "$\\displaystyle {R}{}^{0\n",
       "}{}_{3\n",
       "}{}_{3\n",
       "}{}_{0\n",
       "} = -r^{2}\\,\\frac{\\mathrm{d}^{2}}{\\mathrm{d}t^{2}}\\,a\\left(t\\right) a\\left(t\\right) \\sin ^{2}\\theta$"
      ],
      "text/plain": [
       "<IPython.core.display.Math object>"
      ]
     },
     "metadata": {},
     "output_type": "display_data"
    },
    {
     "data": {
      "text/latex": [
       "$\\displaystyle {R}{}^{1\n",
       "}{}_{0\n",
       "}{}_{0\n",
       "}{}_{1\n",
       "} = \\frac{\\frac{\\mathrm{d}^{2}}{\\mathrm{d}t^{2}}\\,a\\left(t\\right)}{a\\left(t\\right)}$"
      ],
      "text/plain": [
       "<IPython.core.display.Math object>"
      ]
     },
     "metadata": {},
     "output_type": "display_data"
    },
    {
     "data": {
      "text/latex": [
       "$\\displaystyle {R}{}^{1\n",
       "}{}_{0\n",
       "}{}_{1\n",
       "}{}_{0\n",
       "} = -\\frac{\\frac{\\mathrm{d}^{2}}{\\mathrm{d}t^{2}}\\,a\\left(t\\right)}{a\\left(t\\right)}$"
      ],
      "text/plain": [
       "<IPython.core.display.Math object>"
      ]
     },
     "metadata": {},
     "output_type": "display_data"
    },
    {
     "data": {
      "text/latex": [
       "$\\displaystyle {R}{}^{1\n",
       "}{}_{2\n",
       "}{}_{1\n",
       "}{}_{2\n",
       "} = k\\,r^{2}+r^{2} \\left(\\frac{\\mathrm{d}}{\\mathrm{d}t}\\,a\\left(t\\right)\\right)^{2}$"
      ],
      "text/plain": [
       "<IPython.core.display.Math object>"
      ]
     },
     "metadata": {},
     "output_type": "display_data"
    },
    {
     "data": {
      "text/latex": [
       "$\\displaystyle {R}{}^{1\n",
       "}{}_{2\n",
       "}{}_{2\n",
       "}{}_{1\n",
       "} = -k\\,r^{2}-r^{2} \\left(\\frac{\\mathrm{d}}{\\mathrm{d}t}\\,a\\left(t\\right)\\right)^{2}$"
      ],
      "text/plain": [
       "<IPython.core.display.Math object>"
      ]
     },
     "metadata": {},
     "output_type": "display_data"
    },
    {
     "data": {
      "text/latex": [
       "$\\displaystyle {R}{}^{1\n",
       "}{}_{3\n",
       "}{}_{1\n",
       "}{}_{3\n",
       "} = k\\,r^{2} \\sin ^{2}\\theta+r^{2} \\left(\\frac{\\mathrm{d}}{\\mathrm{d}t}\\,a\\left(t\\right)\\right)^{2} \\sin ^{2}\\theta$"
      ],
      "text/plain": [
       "<IPython.core.display.Math object>"
      ]
     },
     "metadata": {},
     "output_type": "display_data"
    },
    {
     "data": {
      "text/latex": [
       "$\\displaystyle {R}{}^{1\n",
       "}{}_{3\n",
       "}{}_{3\n",
       "}{}_{1\n",
       "} = -k\\,r^{2} \\sin ^{2}\\theta-r^{2} \\left(\\frac{\\mathrm{d}}{\\mathrm{d}t}\\,a\\left(t\\right)\\right)^{2} \\sin ^{2}\\theta$"
      ],
      "text/plain": [
       "<IPython.core.display.Math object>"
      ]
     },
     "metadata": {},
     "output_type": "display_data"
    },
    {
     "data": {
      "text/latex": [
       "$\\displaystyle {R}{}^{2\n",
       "}{}_{0\n",
       "}{}_{0\n",
       "}{}_{2\n",
       "} = \\frac{\\frac{\\mathrm{d}^{2}}{\\mathrm{d}t^{2}}\\,a\\left(t\\right)}{a\\left(t\\right)}$"
      ],
      "text/plain": [
       "<IPython.core.display.Math object>"
      ]
     },
     "metadata": {},
     "output_type": "display_data"
    },
    {
     "data": {
      "text/latex": [
       "$\\displaystyle {R}{}^{2\n",
       "}{}_{0\n",
       "}{}_{2\n",
       "}{}_{0\n",
       "} = -\\frac{\\frac{\\mathrm{d}^{2}}{\\mathrm{d}t^{2}}\\,a\\left(t\\right)}{a\\left(t\\right)}$"
      ],
      "text/plain": [
       "<IPython.core.display.Math object>"
      ]
     },
     "metadata": {},
     "output_type": "display_data"
    },
    {
     "data": {
      "text/latex": [
       "$\\displaystyle {R}{}^{2\n",
       "}{}_{1\n",
       "}{}_{1\n",
       "}{}_{2\n",
       "} = \\frac{k+\\left(\\frac{\\mathrm{d}}{\\mathrm{d}t}\\,a\\left(t\\right)\\right)^{2}}{k\\,r^{2}-1}$"
      ],
      "text/plain": [
       "<IPython.core.display.Math object>"
      ]
     },
     "metadata": {},
     "output_type": "display_data"
    },
    {
     "data": {
      "text/latex": [
       "$\\displaystyle {R}{}^{2\n",
       "}{}_{1\n",
       "}{}_{2\n",
       "}{}_{1\n",
       "} = -\\frac{k+\\left(\\frac{\\mathrm{d}}{\\mathrm{d}t}\\,a\\left(t\\right)\\right)^{2}}{k\\,r^{2}-1}$"
      ],
      "text/plain": [
       "<IPython.core.display.Math object>"
      ]
     },
     "metadata": {},
     "output_type": "display_data"
    },
    {
     "data": {
      "text/latex": [
       "$\\displaystyle {R}{}^{2\n",
       "}{}_{3\n",
       "}{}_{2\n",
       "}{}_{3\n",
       "} = \\frac{k\\,r^{2} \\tan ^{2}\\theta+r^{2} \\left(\\frac{\\mathrm{d}}{\\mathrm{d}t}\\,a\\left(t\\right)\\right)^{2} \\tan ^{2}\\theta}{\\tan ^{2}\\theta+1}$"
      ],
      "text/plain": [
       "<IPython.core.display.Math object>"
      ]
     },
     "metadata": {},
     "output_type": "display_data"
    },
    {
     "data": {
      "text/latex": [
       "$\\displaystyle {R}{}^{2\n",
       "}{}_{3\n",
       "}{}_{3\n",
       "}{}_{2\n",
       "} = -\\frac{k\\,r^{2} \\tan ^{2}\\theta+r^{2} \\left(\\frac{\\mathrm{d}}{\\mathrm{d}t}\\,a\\left(t\\right)\\right)^{2} \\tan ^{2}\\theta}{\\tan ^{2}\\theta+1}$"
      ],
      "text/plain": [
       "<IPython.core.display.Math object>"
      ]
     },
     "metadata": {},
     "output_type": "display_data"
    },
    {
     "data": {
      "text/latex": [
       "$\\displaystyle {R}{}^{3\n",
       "}{}_{0\n",
       "}{}_{0\n",
       "}{}_{3\n",
       "} = \\frac{\\frac{\\mathrm{d}^{2}}{\\mathrm{d}t^{2}}\\,a\\left(t\\right)}{a\\left(t\\right)}$"
      ],
      "text/plain": [
       "<IPython.core.display.Math object>"
      ]
     },
     "metadata": {},
     "output_type": "display_data"
    },
    {
     "data": {
      "text/latex": [
       "$\\displaystyle {R}{}^{3\n",
       "}{}_{0\n",
       "}{}_{3\n",
       "}{}_{0\n",
       "} = -\\frac{\\frac{\\mathrm{d}^{2}}{\\mathrm{d}t^{2}}\\,a\\left(t\\right)}{a\\left(t\\right)}$"
      ],
      "text/plain": [
       "<IPython.core.display.Math object>"
      ]
     },
     "metadata": {},
     "output_type": "display_data"
    },
    {
     "data": {
      "text/latex": [
       "$\\displaystyle {R}{}^{3\n",
       "}{}_{1\n",
       "}{}_{1\n",
       "}{}_{3\n",
       "} = \\frac{k+\\left(\\frac{\\mathrm{d}}{\\mathrm{d}t}\\,a\\left(t\\right)\\right)^{2}}{k\\,r^{2}-1}$"
      ],
      "text/plain": [
       "<IPython.core.display.Math object>"
      ]
     },
     "metadata": {},
     "output_type": "display_data"
    },
    {
     "data": {
      "text/latex": [
       "$\\displaystyle {R}{}^{3\n",
       "}{}_{1\n",
       "}{}_{3\n",
       "}{}_{1\n",
       "} = -\\frac{k+\\left(\\frac{\\mathrm{d}}{\\mathrm{d}t}\\,a\\left(t\\right)\\right)^{2}}{k\\,r^{2}-1}$"
      ],
      "text/plain": [
       "<IPython.core.display.Math object>"
      ]
     },
     "metadata": {},
     "output_type": "display_data"
    },
    {
     "data": {
      "text/latex": [
       "$\\displaystyle {R}{}^{3\n",
       "}{}_{2\n",
       "}{}_{2\n",
       "}{}_{3\n",
       "} = -k\\,r^{2}-r^{2} \\left(\\frac{\\mathrm{d}}{\\mathrm{d}t}\\,a\\left(t\\right)\\right)^{2}$"
      ],
      "text/plain": [
       "<IPython.core.display.Math object>"
      ]
     },
     "metadata": {},
     "output_type": "display_data"
    },
    {
     "data": {
      "text/latex": [
       "$\\displaystyle {R}{}^{3\n",
       "}{}_{2\n",
       "}{}_{3\n",
       "}{}_{2\n",
       "} = k\\,r^{2}+r^{2} \\left(\\frac{\\mathrm{d}}{\\mathrm{d}t}\\,a\\left(t\\right)\\right)^{2}$"
      ],
      "text/plain": [
       "<IPython.core.display.Math object>"
      ]
     },
     "metadata": {},
     "output_type": "display_data"
    }
   ],
   "source": [
    "# To calculate the default combination of the Riemann Tensor, i.e, (^,_,_,_): \n",
    "R = pt.riemann()\n",
    "\n",
    "# To calculate all the combinations:\n",
    "# R = pt.riemann(All = True)\n",
    "\n",
    "# To display the default Riemann tensor:\n",
    "R.display(\"^,_,_,_\")\n",
    "\n"
   ]
  },
  {
   "cell_type": "code",
   "execution_count": 38,
   "metadata": {},
   "outputs": [
    {
     "data": {
      "text/plain": [
       "<pytearcat.Tensor.core.tdata.Tdata at 0x13ac5905d90>"
      ]
     },
     "execution_count": 38,
     "metadata": {},
     "output_type": "execute_result"
    }
   ],
   "source": [
    "g(\"^b,^c\")*R(\"^a,_b,_c,_d\")"
   ]
  },
  {
   "cell_type": "markdown",
   "metadata": {},
   "source": [
    "Remember that if there is no argument, the display method will show the non zero components of the tensor with all lower indices (\"_ ,_ ,_ ,_ \"), which, in this case, has not been calculated."
   ]
  },
  {
   "cell_type": "code",
   "execution_count": 6,
   "metadata": {},
   "outputs": [
    {
     "data": {
      "text/latex": [
       "Ricci Tensor $R_{\\alpha \\beta}$"
      ],
      "text/plain": [
       "<IPython.core.display.Latex object>"
      ]
     },
     "metadata": {},
     "output_type": "display_data"
    },
    {
     "data": {
      "application/vnd.jupyter.widget-view+json": {
       "model_id": "b7ed38148dfa4c2eaa412118e9594033",
       "version_major": 2,
       "version_minor": 0
      },
      "text/plain": [
       "  0%|          | 0/16 [00:00<?, ?it/s]"
      ]
     },
     "metadata": {},
     "output_type": "display_data"
    },
    {
     "data": {
      "text/latex": [
       "$\\displaystyle \\left(\\begin{array}{cccc}-\\frac{3\\,\\frac{\\mathrm{d}^{2}}{\\mathrm{d}t^{2}}\\,a\\left(t\\right)}{a\\left(t\\right)}&0&0&0\\\\0&\\frac{-2\\,k-2 \\left(\\frac{\\mathrm{d}}{\\mathrm{d}t}\\,a\\left(t\\right)\\right)^{2}-\\frac{\\mathrm{d}^{2}}{\\mathrm{d}t^{2}}\\,a\\left(t\\right) a\\left(t\\right)}{k\\,r^{2}-1}&0&0\\\\0&0&2\\,k\\,r^{2}+2\\,r^{2} \\left(\\frac{\\mathrm{d}}{\\mathrm{d}t}\\,a\\left(t\\right)\\right)^{2}+r^{2}\\,\\frac{\\mathrm{d}^{2}}{\\mathrm{d}t^{2}}\\,a\\left(t\\right) a\\left(t\\right)&0\\\\0&0&0&\\frac{2\\,k\\,r^{2} \\tan ^{2}\\theta+2\\,r^{2} \\left(\\frac{\\mathrm{d}}{\\mathrm{d}t}\\,a\\left(t\\right)\\right)^{2} \\tan ^{2}\\theta+r^{2}\\,\\frac{\\mathrm{d}^{2}}{\\mathrm{d}t^{2}}\\,a\\left(t\\right) a\\left(t\\right) \\tan ^{2}\\theta}{\\tan ^{2}\\theta+1}\\end{array}\\right)\n",
       "$"
      ],
      "text/plain": [
       "<IPython.core.display.Math object>"
      ]
     },
     "metadata": {},
     "output_type": "display_data"
    }
   ],
   "source": [
    "Ric = pt.ricci()\n",
    "Ric.display(\"_,_\")"
   ]
  },
  {
   "cell_type": "code",
   "execution_count": 10,
   "metadata": {},
   "outputs": [
    {
     "data": {
      "text/latex": [
       "$\\displaystyle {R}{}_{0\n",
       "}{}_{0\n",
       "} = -\\frac{3\\,\\frac{\\mathrm{d}^{2}}{\\mathrm{d}t^{2}}\\,a\\left(t\\right)}{a\\left(t\\right)}$"
      ],
      "text/plain": [
       "<IPython.core.display.Math object>"
      ]
     },
     "metadata": {},
     "output_type": "display_data"
    },
    {
     "data": {
      "text/latex": [
       "$\\displaystyle {R}{}_{1\n",
       "}{}_{1\n",
       "} = \\frac{-2\\,k-2 \\left(\\frac{\\mathrm{d}}{\\mathrm{d}t}\\,a\\left(t\\right)\\right)^{2}-\\frac{\\mathrm{d}^{2}}{\\mathrm{d}t^{2}}\\,a\\left(t\\right) a\\left(t\\right)}{k\\,r^{2}-1}$"
      ],
      "text/plain": [
       "<IPython.core.display.Math object>"
      ]
     },
     "metadata": {},
     "output_type": "display_data"
    },
    {
     "data": {
      "text/latex": [
       "$\\displaystyle {R}{}_{2\n",
       "}{}_{2\n",
       "} = 2\\,k\\,r^{2}+2\\,r^{2} \\left(\\frac{\\mathrm{d}}{\\mathrm{d}t}\\,a\\left(t\\right)\\right)^{2}+r^{2}\\,\\frac{\\mathrm{d}^{2}}{\\mathrm{d}t^{2}}\\,a\\left(t\\right) a\\left(t\\right)$"
      ],
      "text/plain": [
       "<IPython.core.display.Math object>"
      ]
     },
     "metadata": {},
     "output_type": "display_data"
    },
    {
     "data": {
      "text/latex": [
       "$\\displaystyle {R}{}_{3\n",
       "}{}_{3\n",
       "} = \\frac{2\\,k\\,r^{2} \\tan ^{2}\\theta+2\\,r^{2} \\left(\\frac{\\mathrm{d}}{\\mathrm{d}t}\\,a\\left(t\\right)\\right)^{2} \\tan ^{2}\\theta+r^{2}\\,\\frac{\\mathrm{d}^{2}}{\\mathrm{d}t^{2}}\\,a\\left(t\\right) a\\left(t\\right) \\tan ^{2}\\theta}{\\tan ^{2}\\theta+1}$"
      ],
      "text/plain": [
       "<IPython.core.display.Math object>"
      ]
     },
     "metadata": {},
     "output_type": "display_data"
    }
   ],
   "source": [
    "Ric.display(\"_,_\",aslist= True)"
   ]
  },
  {
   "cell_type": "code",
   "execution_count": 7,
   "metadata": {},
   "outputs": [
    {
     "data": {
      "text/latex": [
       "Ricci Scalar $R$"
      ],
      "text/plain": [
       "<IPython.core.display.Latex object>"
      ]
     },
     "metadata": {},
     "output_type": "display_data"
    },
    {
     "data": {
      "application/vnd.jupyter.widget-view+json": {
       "model_id": "4fc2beceb43441a18ec24385beb71dbf",
       "version_major": 2,
       "version_minor": 0
      },
      "text/plain": [
       "  0%|          | 0/16 [00:00<?, ?it/s]"
      ]
     },
     "metadata": {},
     "output_type": "display_data"
    },
    {
     "data": {
      "text/latex": [
       "$\\displaystyle \\frac{6\\,k+6 \\left(\\frac{\\mathrm{d}}{\\mathrm{d}t}\\,a\\left(t\\right)\\right)^{2}+6\\,\\frac{\\mathrm{d}^{2}}{\\mathrm{d}t^{2}}\\,a\\left(t\\right) a\\left(t\\right)}{a\\left(t\\right)^{2}}$"
      ],
      "text/plain": [
       "<IPython.core.display.Math object>"
      ]
     },
     "metadata": {},
     "output_type": "display_data"
    }
   ],
   "source": [
    "S = pt.ricci_scalar()\n",
    "S.display()"
   ]
  },
  {
   "cell_type": "code",
   "execution_count": 9,
   "metadata": {},
   "outputs": [
    {
     "data": {
      "text/latex": [
       "$\\displaystyle \\frac{6\\,k+6 \\left(\\frac{\\mathrm{d}}{\\mathrm{d}t}\\,a\\left(t\\right)\\right)^{2}+6\\,\\frac{\\mathrm{d}^{2}}{\\mathrm{d}t^{2}}\\,a\\left(t\\right) a\\left(t\\right)}{a\\left(t\\right)^{2}}$"
      ],
      "text/plain": [
       "<IPython.core.display.Math object>"
      ]
     },
     "metadata": {},
     "output_type": "display_data"
    }
   ],
   "source": [
    "S.display()"
   ]
  },
  {
   "cell_type": "code",
   "execution_count": 5,
   "metadata": {},
   "outputs": [
    {
     "data": {
      "text/latex": [
       "Ricci Tensor $R_{\\alpha \\beta}$"
      ],
      "text/plain": [
       "<IPython.core.display.Latex object>"
      ]
     },
     "metadata": {},
     "output_type": "display_data"
    },
    {
     "data": {
      "application/vnd.jupyter.widget-view+json": {
       "model_id": "b38be4eaca084f8ebcfb008656ae44e3",
       "version_major": 2,
       "version_minor": 0
      },
      "text/plain": [
       "  0%|          | 0/16 [00:00<?, ?it/s]"
      ]
     },
     "metadata": {},
     "output_type": "display_data"
    },
    {
     "data": {
      "text/latex": [
       "Ricci Scalar $R$"
      ],
      "text/plain": [
       "<IPython.core.display.Latex object>"
      ]
     },
     "metadata": {},
     "output_type": "display_data"
    },
    {
     "data": {
      "application/vnd.jupyter.widget-view+json": {
       "model_id": "f195c4eb8b0044f0b1688209a35b87d9",
       "version_major": 2,
       "version_minor": 0
      },
      "text/plain": [
       "  0%|          | 0/16 [00:00<?, ?it/s]"
      ]
     },
     "metadata": {},
     "output_type": "display_data"
    }
   ],
   "source": [
    "# To calculate the default combination of the Ricci Tensor, i.e., (_,_):\n",
    "Ric = pt.ricci()\n",
    "\n",
    "# To calculate all the combinations:\n",
    "# Ric = pt.ricci(All = True)\n",
    "\n",
    "# To calculate the Ricci Scalar:\n",
    "RicS = pt.ricci_scalar()"
   ]
  },
  {
   "cell_type": "code",
   "execution_count": 6,
   "metadata": {},
   "outputs": [
    {
     "data": {
      "text/latex": [
       "$\\displaystyle \\left[\\begin{matrix}- \\frac{3 \\frac{d^{2}}{d t^{2}} a{\\left(t \\right)}}{a{\\left(t \\right)}} & 0 & 0 & 0\\\\0 & - \\frac{2 k + a{\\left(t \\right)} \\frac{d^{2}}{d t^{2}} a{\\left(t \\right)} + 2 \\left(\\frac{d}{d t} a{\\left(t \\right)}\\right)^{2}}{k r^{2} - 1} & 0 & 0\\\\0 & 0 & r^{2} \\left(2 k + a{\\left(t \\right)} \\frac{d^{2}}{d t^{2}} a{\\left(t \\right)} + 2 \\left(\\frac{d}{d t} a{\\left(t \\right)}\\right)^{2}\\right) & 0\\\\0 & 0 & 0 & r^{2} \\left(2 k + a{\\left(t \\right)} \\frac{d^{2}}{d t^{2}} a{\\left(t \\right)} + 2 \\left(\\frac{d}{d t} a{\\left(t \\right)}\\right)^{2}\\right) \\sin^{2}{\\left(\\theta \\right)}\\end{matrix}\\right]$"
      ],
      "text/plain": [
       "⎡     2                                                                       \n",
       "⎢    d                                                                        \n",
       "⎢-3⋅───(a(t))                                                                 \n",
       "⎢     2                                                                       \n",
       "⎢   dt                                                                        \n",
       "⎢─────────────                     0                                          \n",
       "⎢     a(t)                                                                    \n",
       "⎢                                                                             \n",
       "⎢                ⎛             2                     2⎞                       \n",
       "⎢                ⎜            d            ⎛d       ⎞ ⎟                       \n",
       "⎢               -⎜2⋅k + a(t)⋅───(a(t)) + 2⋅⎜──(a(t))⎟ ⎟                       \n",
       "⎢                ⎜             2           ⎝dt      ⎠ ⎟                       \n",
       "⎢                ⎝           dt                       ⎠                       \n",
       "⎢      0        ────────────────────────────────────────                      \n",
       "⎢                                  2                                          \n",
       "⎢                               k⋅r  - 1                                      \n",
       "⎢                                                                             \n",
       "⎢                                                            ⎛             2  \n",
       "⎢                                                          2 ⎜            d   \n",
       "⎢      0                           0                      r ⋅⎜2⋅k + a(t)⋅───(a\n",
       "⎢                                                            ⎜             2  \n",
       "⎢                                                            ⎝           dt   \n",
       "⎢                                                                             \n",
       "⎢                                                                             \n",
       "⎢                                                                             \n",
       "⎢      0                           0                                          \n",
       "⎢                                                                             \n",
       "⎣                                                                             \n",
       "\n",
       "                                                                        ⎤\n",
       "                                                                        ⎥\n",
       "                                                                        ⎥\n",
       "                                                                        ⎥\n",
       "                                                                        ⎥\n",
       "0                                              0                        ⎥\n",
       "                                                                        ⎥\n",
       "                                                                        ⎥\n",
       "                                                                        ⎥\n",
       "                                                                        ⎥\n",
       "                                                                        ⎥\n",
       "                                                                        ⎥\n",
       "                                                                        ⎥\n",
       "0                                              0                        ⎥\n",
       "                                                                        ⎥\n",
       "                                                                        ⎥\n",
       "                                                                        ⎥\n",
       "                   2⎞                                                   ⎥\n",
       "         ⎛d       ⎞ ⎟                                                   ⎥\n",
       "(t)) + 2⋅⎜──(a(t))⎟ ⎟                          0                        ⎥\n",
       "         ⎝dt      ⎠ ⎟                                                   ⎥\n",
       "                    ⎠                                                   ⎥\n",
       "                                                                        ⎥\n",
       "                          ⎛             2                     2⎞        ⎥\n",
       "                        2 ⎜            d            ⎛d       ⎞ ⎟    2   ⎥\n",
       "0                      r ⋅⎜2⋅k + a(t)⋅───(a(t)) + 2⋅⎜──(a(t))⎟ ⎟⋅sin (θ)⎥\n",
       "                          ⎜             2           ⎝dt      ⎠ ⎟        ⎥\n",
       "                          ⎝           dt                       ⎠        ⎦"
      ]
     },
     "metadata": {},
     "output_type": "display_data"
    },
    {
     "data": {
      "text/latex": [
       "$\\displaystyle \\frac{6 \\left(k + a{\\left(t \\right)} \\frac{d^{2}}{d t^{2}} a{\\left(t \\right)} + \\left(\\frac{d}{d t} a{\\left(t \\right)}\\right)^{2}\\right)}{a^{2}{\\left(t \\right)}}$"
      ],
      "text/plain": [
       "<IPython.core.display.Math object>"
      ]
     },
     "metadata": {},
     "output_type": "display_data"
    }
   ],
   "source": [
    "# To display the Ricci Tensor (by default it displays the tensor with all lower indices):\n",
    "Ric.display()\n",
    "\n",
    "# To display the Ricci Scalar:\n",
    "RicS.display()"
   ]
  },
  {
   "cell_type": "code",
   "execution_count": 11,
   "metadata": {},
   "outputs": [
    {
     "data": {
      "text/latex": [
       "Einstein Tensor $G_{\\alpha \\beta}$"
      ],
      "text/plain": [
       "<IPython.core.display.Latex object>"
      ]
     },
     "metadata": {},
     "output_type": "display_data"
    },
    {
     "data": {
      "application/vnd.jupyter.widget-view+json": {
       "model_id": "0ec29a969ff541e3897b27866f0d8858",
       "version_major": 2,
       "version_minor": 0
      },
      "text/plain": [
       "  0%|          | 0/16 [00:00<?, ?it/s]"
      ]
     },
     "metadata": {},
     "output_type": "display_data"
    },
    {
     "data": {
      "text/latex": [
       "$\\displaystyle \\left(\\begin{array}{cccc}\\frac{3\\,k+3 \\left(\\frac{\\mathrm{d}}{\\mathrm{d}t}\\,a\\left(t\\right)\\right)^{2}}{a\\left(t\\right)^{2}}&0&0&0\\\\0&\\frac{k+\\left(\\frac{\\mathrm{d}}{\\mathrm{d}t}\\,a\\left(t\\right)\\right)^{2}+2\\,\\frac{\\mathrm{d}^{2}}{\\mathrm{d}t^{2}}\\,a\\left(t\\right) a\\left(t\\right)}{k\\,r^{2}-1}&0&0\\\\0&0&-k\\,r^{2}-r^{2} \\left(\\frac{\\mathrm{d}}{\\mathrm{d}t}\\,a\\left(t\\right)\\right)^{2}-2\\,r^{2}\\,\\frac{\\mathrm{d}^{2}}{\\mathrm{d}t^{2}}\\,a\\left(t\\right) a\\left(t\\right)&0\\\\0&0&0&\\frac{-k\\,r^{2} \\tan ^{2}\\theta-r^{2} \\left(\\frac{\\mathrm{d}}{\\mathrm{d}t}\\,a\\left(t\\right)\\right)^{2} \\tan ^{2}\\theta-2\\,r^{2}\\,\\frac{\\mathrm{d}^{2}}{\\mathrm{d}t^{2}}\\,a\\left(t\\right) a\\left(t\\right) \\tan ^{2}\\theta}{\\tan ^{2}\\theta+1}\\end{array}\\right)\n",
       "$"
      ],
      "text/plain": [
       "<IPython.core.display.Math object>"
      ]
     },
     "metadata": {},
     "output_type": "display_data"
    }
   ],
   "source": [
    "G = pt.einstein()\n",
    "G.display()"
   ]
  },
  {
   "cell_type": "code",
   "execution_count": 7,
   "metadata": {},
   "outputs": [
    {
     "data": {
      "text/latex": [
       "Einstein Tensor $G_{\\alpha \\beta}$"
      ],
      "text/plain": [
       "<IPython.core.display.Latex object>"
      ]
     },
     "metadata": {},
     "output_type": "display_data"
    },
    {
     "data": {
      "application/vnd.jupyter.widget-view+json": {
       "model_id": "70a2d469eec740148192302e1e21a7f5",
       "version_major": 2,
       "version_minor": 0
      },
      "text/plain": [
       "  0%|          | 0/16 [00:00<?, ?it/s]"
      ]
     },
     "metadata": {},
     "output_type": "display_data"
    },
    {
     "data": {
      "text/latex": [
       "$\\displaystyle \\left[\\begin{matrix}\\frac{3 \\left(k + \\left(\\frac{d}{d t} a{\\left(t \\right)}\\right)^{2}\\right)}{a^{2}{\\left(t \\right)}} & 0 & 0 & 0\\\\0 & \\frac{k + 2 a{\\left(t \\right)} \\frac{d^{2}}{d t^{2}} a{\\left(t \\right)} + \\left(\\frac{d}{d t} a{\\left(t \\right)}\\right)^{2}}{k r^{2} - 1} & 0 & 0\\\\0 & 0 & - r^{2} \\left(k + 2 a{\\left(t \\right)} \\frac{d^{2}}{d t^{2}} a{\\left(t \\right)} + \\left(\\frac{d}{d t} a{\\left(t \\right)}\\right)^{2}\\right) & 0\\\\0 & 0 & 0 & - r^{2} \\left(k + 2 a{\\left(t \\right)} \\frac{d^{2}}{d t^{2}} a{\\left(t \\right)} + \\left(\\frac{d}{d t} a{\\left(t \\right)}\\right)^{2}\\right) \\sin^{2}{\\left(\\theta \\right)}\\end{matrix}\\right]$"
      ],
      "text/plain": [
       "⎡  ⎛              2⎞                                                          \n",
       "⎢  ⎜    ⎛d       ⎞ ⎟                                                          \n",
       "⎢3⋅⎜k + ⎜──(a(t))⎟ ⎟                                                          \n",
       "⎢  ⎝    ⎝dt      ⎠ ⎠                                                          \n",
       "⎢───────────────────                  0                                      0\n",
       "⎢        2                                                                    \n",
       "⎢       a (t)                                                                 \n",
       "⎢                                                                             \n",
       "⎢                                  2                   2                      \n",
       "⎢                                 d          ⎛d       ⎞                       \n",
       "⎢                     k + 2⋅a(t)⋅───(a(t)) + ⎜──(a(t))⎟                       \n",
       "⎢                                  2         ⎝dt      ⎠                       \n",
       "⎢                                dt                                           \n",
       "⎢         0           ──────────────────────────────────                     0\n",
       "⎢                                     2                                       \n",
       "⎢                                  k⋅r  - 1                                   \n",
       "⎢                                                                             \n",
       "⎢                                                             ⎛             2 \n",
       "⎢                                                           2 ⎜            d  \n",
       "⎢         0                           0                   -r ⋅⎜k + 2⋅a(t)⋅───(\n",
       "⎢                                                             ⎜             2 \n",
       "⎢                                                             ⎝           dt  \n",
       "⎢                                                                             \n",
       "⎢                                                                             \n",
       "⎢                                                                             \n",
       "⎢         0                           0                                      0\n",
       "⎢                                                                             \n",
       "⎣                                                                             \n",
       "\n",
       "                                                                      ⎤\n",
       "                                                                      ⎥\n",
       "                                                                      ⎥\n",
       "                                                                      ⎥\n",
       "                                             0                        ⎥\n",
       "                                                                      ⎥\n",
       "                                                                      ⎥\n",
       "                                                                      ⎥\n",
       "                                                                      ⎥\n",
       "                                                                      ⎥\n",
       "                                                                      ⎥\n",
       "                                                                      ⎥\n",
       "                                                                      ⎥\n",
       "                                             0                        ⎥\n",
       "                                                                      ⎥\n",
       "                                                                      ⎥\n",
       "                                                                      ⎥\n",
       "                  2⎞                                                  ⎥\n",
       "        ⎛d       ⎞ ⎟                                                  ⎥\n",
       "a(t)) + ⎜──(a(t))⎟ ⎟                         0                        ⎥\n",
       "        ⎝dt      ⎠ ⎟                                                  ⎥\n",
       "                   ⎠                                                  ⎥\n",
       "                                                                      ⎥\n",
       "                          ⎛             2                   2⎞        ⎥\n",
       "                        2 ⎜            d          ⎛d       ⎞ ⎟    2   ⎥\n",
       "                      -r ⋅⎜k + 2⋅a(t)⋅───(a(t)) + ⎜──(a(t))⎟ ⎟⋅sin (θ)⎥\n",
       "                          ⎜             2         ⎝dt      ⎠ ⎟        ⎥\n",
       "                          ⎝           dt                     ⎠        ⎦"
      ]
     },
     "metadata": {},
     "output_type": "display_data"
    }
   ],
   "source": [
    "# To calculate the default combination of the Einstein Tensor, i.e., (_,_):\n",
    "G = pt.einstein()\n",
    "\n",
    "# To calculate all the combinations:\n",
    "# G = pt.einstein(All = True)\n",
    "\n",
    "# To display the Einstein Tensor:\n",
    "G.display()\n",
    "\n",
    "# To show the tensor components as a list:\n",
    "# G.display(aslist = True)"
   ]
  },
  {
   "cell_type": "code",
   "execution_count": 17,
   "metadata": {},
   "outputs": [
    {
     "data": {
      "text/plain": [
       "['_,_', '_,^', '^,_', '^,^']"
      ]
     },
     "execution_count": 17,
     "metadata": {},
     "output_type": "execute_result"
    }
   ],
   "source": [
    "G."
   ]
  },
  {
   "cell_type": "markdown",
   "metadata": {},
   "source": [
    "The display method uses matrix notation for all tensors with rank $\\leq$ 2 by default. To display the tensor components as a list, the user must include the \"aslist = True\" argument."
   ]
  },
  {
   "cell_type": "code",
   "execution_count": 3,
   "metadata": {},
   "outputs": [
    {
     "name": "stdout",
     "output_type": "stream",
     "text": [
      "Elements assigned correctly to the components ^\n"
     ]
    },
    {
     "data": {
      "text/latex": [
       "$\\displaystyle \\left(\\begin{array}{c}1\\\\0\\\\0\\\\0\\end{array}\\right)\n",
       "$"
      ],
      "text/plain": [
       "<IPython.core.display.Math object>"
      ]
     },
     "metadata": {},
     "output_type": "display_data"
    }
   ],
   "source": [
    "# To define an arbitrary tensor, indicating the name and rank of the tensor.\n",
    "U = pt.new_ten('U',1)\n",
    "# To assign a list or array (even numpy arrays) to a particular component of the tensor.\n",
    "U.assign([1,0,0,0],'^')\n",
    "# Display the tensor, or vector in this particular example.\n",
    "U.display('^')"
   ]
  },
  {
   "cell_type": "code",
   "execution_count": 4,
   "metadata": {},
   "outputs": [
    {
     "data": {
      "text/latex": [
       "$\\displaystyle \\left(\\begin{array}{c}1\\\\0\\\\0\\\\0\\end{array}\\right)\n",
       "$"
      ],
      "text/plain": [
       "<IPython.core.display.Math object>"
      ]
     },
     "metadata": {},
     "output_type": "display_data"
    }
   ],
   "source": [
    "U.display('^')"
   ]
  },
  {
   "cell_type": "code",
   "execution_count": 5,
   "metadata": {},
   "outputs": [
    {
     "data": {
      "text/latex": [
       "$\\displaystyle \\left[undef,undef,undef,undef\\right]\n",
       "$"
      ],
      "text/plain": [
       "<IPython.core.display.Math object>"
      ]
     },
     "metadata": {},
     "output_type": "display_data"
    }
   ],
   "source": [
    "U.display('_')"
   ]
  },
  {
   "cell_type": "markdown",
   "metadata": {},
   "source": [
    "Note that pytearcat uses the definition of \"vectors\" as Columns, and \"one-forms\" as Rows. \n",
    "\n",
    "- A 1-vector is a Tensor with one contravariant index $A^{\\mu}$.\n",
    "\n",
    "- A 1-form is a Tensor with one covariant index $A_{\\mu}$."
   ]
  },
  {
   "cell_type": "code",
   "execution_count": 22,
   "metadata": {},
   "outputs": [
    {
     "data": {
      "text/latex": [
       "$\\displaystyle \\left(\\begin{array}{cccc}\\rho\\left(t\\right)&0&0&0\\\\0&\\frac{-k\\,r^{2}\\,P\\left(t\\right)+P\\left(t\\right)}{a\\left(t\\right)^{2}}&0&0\\\\0&0&\\frac{P\\left(t\\right)}{r^{2}\\,a\\left(t\\right)^{2}}&0\\\\0&0&0&\\frac{P\\left(t\\right)}{r^{2}\\,a\\left(t\\right)^{2} \\sin ^{2}\\theta}\\end{array}\\right)\n",
       "$"
      ],
      "text/plain": [
       "<IPython.core.display.Math object>"
      ]
     },
     "metadata": {},
     "output_type": "display_data"
    }
   ],
   "source": [
    "rho = pt.new_fun('rho','t')\n",
    "P = pt.new_fun('P','t')\n",
    "\n",
    "T = pt.new_ten('T',2)\n",
    "\n",
    "T.assign((rho+P)*U(\"^mu\")*U(\"^nu\")+P*g(\"^mu,^nu\"),\"^mu,^nu\")\n",
    "\n",
    "# One could also save the result of a tensor operation in a variable\n",
    "# For example: T_value = (rho+P/c**2)*U(\"^mu\")*U(\"^nu\")-P*g(\"^mu,^nu\")\n",
    "# And then, to assing that value to the tensor: \n",
    "# T.assign(T_value,'^mu,^nu')\n",
    "\n",
    "T.simplify()\n",
    "\n",
    "T.display('^,^')"
   ]
  },
  {
   "cell_type": "code",
   "execution_count": 23,
   "metadata": {},
   "outputs": [
    {
     "data": {
      "text/latex": [
       "$\\displaystyle \\left(\\begin{array}{cccc}\\rho\\left(t\\right)&0&0&0\\\\0&\\frac{-k\\,r^{2}\\,P\\left(t\\right)+P\\left(t\\right)}{a\\left(t\\right)^{2}}&0&0\\\\0&0&\\frac{P\\left(t\\right)}{r^{2}\\,a\\left(t\\right)^{2}}&0\\\\0&0&0&\\frac{P\\left(t\\right)}{r^{2}\\,a\\left(t\\right)^{2} \\sin ^{2}\\theta}\\end{array}\\right)\n",
       "$"
      ],
      "text/plain": [
       "<IPython.core.display.Math object>"
      ]
     },
     "metadata": {},
     "output_type": "display_data"
    }
   ],
   "source": [
    "T.display('^,^')"
   ]
  },
  {
   "cell_type": "code",
   "execution_count": 24,
   "metadata": {},
   "outputs": [
    {
     "data": {
      "application/vnd.jupyter.widget-view+json": {
       "model_id": "a3b6675d64674338a2f65efdbb2694c1",
       "version_major": 2,
       "version_minor": 0
      },
      "text/plain": [
       "T Tensor $T{_\\alpha}{^\\beta}$:   0%|          | 0/16 [00:00<?, ?it/s]"
      ]
     },
     "metadata": {},
     "output_type": "display_data"
    },
    {
     "data": {
      "application/vnd.jupyter.widget-view+json": {
       "model_id": "7e8ecde37b7f4d87a68db346a5964026",
       "version_major": 2,
       "version_minor": 0
      },
      "text/plain": [
       "T Tensor $T{_\\alpha}{_\\beta}$:   0%|          | 0/16 [00:00<?, ?it/s]"
      ]
     },
     "metadata": {},
     "output_type": "display_data"
    },
    {
     "data": {
      "application/vnd.jupyter.widget-view+json": {
       "model_id": "ebfe563d6de94aaf93779ed115e02942",
       "version_major": 2,
       "version_minor": 0
      },
      "text/plain": [
       "T Tensor $T{^\\alpha}{_\\beta}$:   0%|          | 0/16 [00:00<?, ?it/s]"
      ]
     },
     "metadata": {},
     "output_type": "display_data"
    },
    {
     "data": {
      "text/latex": [
       "All other indexes of T Tensor $T$  already calculated."
      ],
      "text/plain": [
       "<IPython.core.display.Latex object>"
      ]
     },
     "metadata": {},
     "output_type": "display_data"
    },
    {
     "data": {
      "text/latex": [
       "$\\displaystyle \\left(\\begin{array}{cccc}\\rho\\left(t\\right)&0&0&0\\\\0&-\\frac{P\\left(t\\right) a\\left(t\\right)^{2}}{k\\,r^{2}-1}&0&0\\\\0&0&r^{2}\\,P\\left(t\\right) a\\left(t\\right)^{2}&0\\\\0&0&0&r^{2}\\,P\\left(t\\right) a\\left(t\\right)^{2} \\sin ^{2}\\theta\\end{array}\\right)\n",
       "$"
      ],
      "text/plain": [
       "<IPython.core.display.Math object>"
      ]
     },
     "metadata": {},
     "output_type": "display_data"
    }
   ],
   "source": [
    "# To calculate the rest of index combinations of the tensor:\n",
    "T.indexcomb('^,^')\n",
    "T.simplify()\n",
    "T.display('_,_')"
   ]
  },
  {
   "cell_type": "code",
   "execution_count": 25,
   "metadata": {},
   "outputs": [
    {
     "data": {
      "text/latex": [
       "$\\displaystyle \\left(\\begin{array}{cccc}\\rho\\left(t\\right)&0&0&0\\\\0&-\\frac{P\\left(t\\right) a\\left(t\\right)^{2}}{k\\,r^{2}-1}&0&0\\\\0&0&r^{2}\\,P\\left(t\\right) a\\left(t\\right)^{2}&0\\\\0&0&0&r^{2}\\,P\\left(t\\right) a\\left(t\\right)^{2} \\sin ^{2}\\theta\\end{array}\\right)\n",
       "$"
      ],
      "text/plain": [
       "<IPython.core.display.Math object>"
      ]
     },
     "metadata": {},
     "output_type": "display_data"
    }
   ],
   "source": [
    "T.simplify()\n",
    "T.display()"
   ]
  },
  {
   "cell_type": "code",
   "execution_count": 28,
   "metadata": {},
   "outputs": [
    {
     "data": {
      "text/latex": [
       "$\\displaystyle \\left(\\begin{array}{c}\\frac{3\\,\\frac{\\mathrm{d}}{\\mathrm{d}t}\\,a\\left(t\\right) P\\left(t\\right)+3\\,\\frac{\\mathrm{d}}{\\mathrm{d}t}\\,a\\left(t\\right) \\rho\\left(t\\right)+\\frac{\\mathrm{d}}{\\mathrm{d}t}\\,\\rho\\left(t\\right) a\\left(t\\right)}{a\\left(t\\right)}\\\\0\\\\0\\\\0\\end{array}\\right)\n",
       "$"
      ],
      "text/plain": [
       "<IPython.core.display.Math object>"
      ]
     },
     "metadata": {},
     "output_type": "display_data"
    }
   ],
   "source": [
    "datos = pt.C(T(\"^mu,^nu\"),\"_nu\")\n",
    "cons = pt.new_ten('cons',1)\n",
    "cons.assign(datos,\"^mu\")\n",
    "cons.simplify()\n",
    "cons.display('^')"
   ]
  },
  {
   "cell_type": "code",
   "execution_count": 30,
   "metadata": {},
   "outputs": [
    {
     "data": {
      "text/plain": [
       "<pytearcat.Tensor.core.tdata.Tdata at 0x13ac4bc9ac0>"
      ]
     },
     "execution_count": 30,
     "metadata": {},
     "output_type": "execute_result"
    }
   ],
   "source": [
    "T(\"^mu,^nu\")"
   ]
  },
  {
   "cell_type": "code",
   "execution_count": 29,
   "metadata": {},
   "outputs": [
    {
     "data": {
      "text/latex": [
       "$\\displaystyle \\left(\\begin{array}{c}\\frac{-3\\,\\frac{\\mathrm{d}}{\\mathrm{d}t}\\,a\\left(t\\right) P\\left(t\\right)-3\\,\\frac{\\mathrm{d}}{\\mathrm{d}t}\\,a\\left(t\\right) \\rho\\left(t\\right)-\\frac{\\mathrm{d}}{\\mathrm{d}t}\\,\\rho\\left(t\\right) a\\left(t\\right)}{a\\left(t\\right)}\\\\0\\\\0\\\\0\\end{array}\\right)\n",
       "$"
      ],
      "text/plain": [
       "<IPython.core.display.Math object>"
      ]
     },
     "metadata": {},
     "output_type": "display_data"
    }
   ],
   "source": [
    "datos = pt.C(T(\"_mu,_nu\"),\"^nu\")\n",
    "cons = pt.new_ten('cons',1)\n",
    "cons.assign(datos,\"^mu\")\n",
    "cons.simplify()\n",
    "cons.display('^')"
   ]
  },
  {
   "cell_type": "code",
   "execution_count": null,
   "metadata": {},
   "outputs": [],
   "source": []
  }
 ],
 "metadata": {
  "kernelspec": {
   "display_name": "Python 3",
   "language": "python",
   "name": "python3"
  },
  "language_info": {
   "codemirror_mode": {
    "name": "ipython",
    "version": 3
   },
   "file_extension": ".py",
   "mimetype": "text/x-python",
   "name": "python",
   "nbconvert_exporter": "python",
   "pygments_lexer": "ipython3",
   "version": "3.8.8"
  }
 },
 "nbformat": 4,
 "nbformat_minor": 4
}
