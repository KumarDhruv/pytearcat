{
 "cells": [
  {
   "cell_type": "code",
   "execution_count": 1,
   "metadata": {},
   "outputs": [
    {
     "name": "stdout",
     "output_type": "stream",
     "text": [
      "Remember that the time coordinate must be the first coordinate.\n",
      "\n",
      "Dimension = 4\n",
      "Coordinates = t,x,y,z\n",
      "Metric was defined successfully: \n",
      "\n"
     ]
    },
    {
     "data": {
      "text/latex": [
       "$\\displaystyle ds^2 = \\left(1\\right) \\cdot dt^2+\\left(-1\\right) \\cdot dx^2+\\left(-1\\right) \\cdot dy^2+\\left(-1\\right) \\cdot dz^2$"
      ],
      "text/plain": [
       "<IPython.core.display.Math object>"
      ]
     },
     "metadata": {},
     "output_type": "display_data"
    },
    {
     "data": {
      "text/latex": [
       "$\\displaystyle \\left(\\begin{array}{cccc}1&0&0&0\\\\0&-1&0&0\\\\0&0&-1&0\\\\0&0&0&-1\\end{array}\\right)\n",
       "$"
      ],
      "text/plain": [
       "<IPython.core.display.Math object>"
      ]
     },
     "metadata": {},
     "output_type": "display_data"
    }
   ],
   "source": [
    "import pytearcat as pt\n",
    "# Define the coordinates to be used\n",
    "t,x,y,z = pt.def_coords('t,x,y,z')\n",
    "# Define any constant (more than one constant can be defined at the same time)\n",
    "c = pt.new_con('c')\n",
    "Ax = pt.new_fun('Ax','t,x,y,z')\n",
    "Ay = pt.new_fun('Ay','t,x,y,z')\n",
    "Az = pt.new_fun('Az','t,x,y,z')\n",
    "phi = pt.new_fun('phi','t,x,y,z')\n",
    "g = pt.create_metric('ds2 = +dt**2 + -(dx**2 + dy**2 + dz**2)')"
   ]
  },
  {
   "cell_type": "code",
   "execution_count": 2,
   "metadata": {},
   "outputs": [
    {
     "name": "stdout",
     "output_type": "stream",
     "text": [
      "Elements assigned correctly to the components ^\n"
     ]
    },
    {
     "data": {
      "text/latex": [
       "$\\displaystyle \\left(\\begin{array}{c}\\phi\\left(t,x,y,z\\right)\\\\\\mathrm{Ax}\\left(t,x,y,z\\right)\\\\\\mathrm{Ay}\\left(t,x,y,z\\right)\\\\\\mathrm{Az}\\left(t,x,y,z\\right)\\end{array}\\right)\n",
       "$"
      ],
      "text/plain": [
       "<IPython.core.display.Math object>"
      ]
     },
     "metadata": {},
     "output_type": "display_data"
    }
   ],
   "source": [
    "A = pt.new_ten('A',1)\n",
    "A.assign([phi,Ax,Ay,Az],'^')\n",
    "A.display('^')"
   ]
  },
  {
   "cell_type": "code",
   "execution_count": 3,
   "metadata": {
    "scrolled": false
   },
   "outputs": [
    {
     "data": {
      "text/latex": [
       "$\\displaystyle \\left(\\begin{array}{cccc}0&\\frac{\\partial }{\\partial t}\\mathrm{Ax}\\left(t,x,y,z\\right)+\\frac{\\partial }{\\partial x}\\phi\\left(t,x,y,z\\right)&\\frac{\\partial }{\\partial t}\\mathrm{Ay}\\left(t,x,y,z\\right)+\\frac{\\partial }{\\partial y}\\phi\\left(t,x,y,z\\right)&\\frac{\\partial }{\\partial t}\\mathrm{Az}\\left(t,x,y,z\\right)+\\frac{\\partial }{\\partial z}\\phi\\left(t,x,y,z\\right)\\\\-\\frac{\\partial }{\\partial x}\\phi\\left(t,x,y,z\\right)-\\frac{\\partial }{\\partial t}\\mathrm{Ax}\\left(t,x,y,z\\right)&0&-\\frac{\\partial }{\\partial x}\\mathrm{Ay}\\left(t,x,y,z\\right)+\\frac{\\partial }{\\partial y}\\mathrm{Ax}\\left(t,x,y,z\\right)&-\\frac{\\partial }{\\partial x}\\mathrm{Az}\\left(t,x,y,z\\right)+\\frac{\\partial }{\\partial z}\\mathrm{Ax}\\left(t,x,y,z\\right)\\\\-\\frac{\\partial }{\\partial y}\\phi\\left(t,x,y,z\\right)-\\frac{\\partial }{\\partial t}\\mathrm{Ay}\\left(t,x,y,z\\right)&-\\frac{\\partial }{\\partial y}\\mathrm{Ax}\\left(t,x,y,z\\right)+\\frac{\\partial }{\\partial x}\\mathrm{Ay}\\left(t,x,y,z\\right)&0&-\\frac{\\partial }{\\partial y}\\mathrm{Az}\\left(t,x,y,z\\right)+\\frac{\\partial }{\\partial z}\\mathrm{Ay}\\left(t,x,y,z\\right)\\\\-\\frac{\\partial }{\\partial z}\\phi\\left(t,x,y,z\\right)-\\frac{\\partial }{\\partial t}\\mathrm{Az}\\left(t,x,y,z\\right)&-\\frac{\\partial }{\\partial z}\\mathrm{Ax}\\left(t,x,y,z\\right)+\\frac{\\partial }{\\partial x}\\mathrm{Az}\\left(t,x,y,z\\right)&-\\frac{\\partial }{\\partial z}\\mathrm{Ay}\\left(t,x,y,z\\right)+\\frac{\\partial }{\\partial y}\\mathrm{Az}\\left(t,x,y,z\\right)&0\\end{array}\\right)\n",
       "$"
      ],
      "text/plain": [
       "<IPython.core.display.Math object>"
      ]
     },
     "metadata": {},
     "output_type": "display_data"
    }
   ],
   "source": [
    "F = pt.new_ten('F',2)\n",
    "\n",
    "F.assign(pt.D(A('^nu'),'^mu')-pt.D(A('^mu'),'^nu'),\"^mu,^nu\")\n",
    "\n",
    "# One could also save the result of a tensor operation in a variable\n",
    "# For example: F_value = pt.D(A('^nu'),'^mu')-pt.D(A('^mu'),'^nu')\n",
    "# And then, to assing that value to the tensor: \n",
    "# F.assign(F_value,'^mu,^nu')\n",
    "\n",
    "F.display('^,^')"
   ]
  },
  {
   "cell_type": "code",
   "execution_count": 4,
   "metadata": {},
   "outputs": [
    {
     "data": {
      "application/vnd.jupyter.widget-view+json": {
       "model_id": "4ae3ec648e764a24ba1af7e6848e436b",
       "version_major": 2,
       "version_minor": 0
      },
      "text/plain": [
       "F Tensor $F{_\\alpha}{^\\beta}$:   0%|          | 0/16 [00:00<?, ?it/s]"
      ]
     },
     "metadata": {},
     "output_type": "display_data"
    },
    {
     "data": {
      "application/vnd.jupyter.widget-view+json": {
       "model_id": "6bae02e3304b46c893ff521064a30f61",
       "version_major": 2,
       "version_minor": 0
      },
      "text/plain": [
       "F Tensor $F{_\\alpha}{_\\beta}$:   0%|          | 0/16 [00:00<?, ?it/s]"
      ]
     },
     "metadata": {},
     "output_type": "display_data"
    },
    {
     "data": {
      "application/vnd.jupyter.widget-view+json": {
       "model_id": "bfb4a7b9b3d04763a563a075561e97f0",
       "version_major": 2,
       "version_minor": 0
      },
      "text/plain": [
       "F Tensor $F{^\\alpha}{_\\beta}$:   0%|          | 0/16 [00:00<?, ?it/s]"
      ]
     },
     "metadata": {},
     "output_type": "display_data"
    },
    {
     "data": {
      "text/latex": [
       "All other indexes of F Tensor $F$  already calculated."
      ],
      "text/plain": [
       "<IPython.core.display.Latex object>"
      ]
     },
     "metadata": {},
     "output_type": "display_data"
    },
    {
     "data": {
      "text/latex": [
       "$\\displaystyle -2\\,\\frac{\\partial }{\\partial t}\\mathrm{Ax}\\left(t,x,y,z\\right)^{2}-4\\,\\frac{\\partial }{\\partial t}\\mathrm{Ax}\\left(t,x,y,z\\right) \\frac{\\partial }{\\partial x}\\phi\\left(t,x,y,z\\right)+2\\,\\frac{\\partial }{\\partial y}\\mathrm{Ax}\\left(t,x,y,z\\right)^{2}-4\\,\\frac{\\partial }{\\partial y}\\mathrm{Ax}\\left(t,x,y,z\\right) \\frac{\\partial }{\\partial x}\\mathrm{Ay}\\left(t,x,y,z\\right)+2\\,\\frac{\\partial }{\\partial z}\\mathrm{Ax}\\left(t,x,y,z\\right)^{2}-4\\,\\frac{\\partial }{\\partial z}\\mathrm{Ax}\\left(t,x,y,z\\right) \\frac{\\partial }{\\partial x}\\mathrm{Az}\\left(t,x,y,z\\right)-2\\,\\frac{\\partial }{\\partial t}\\mathrm{Ay}\\left(t,x,y,z\\right)^{2}-4\\,\\frac{\\partial }{\\partial t}\\mathrm{Ay}\\left(t,x,y,z\\right) \\frac{\\partial }{\\partial y}\\phi\\left(t,x,y,z\\right)+2\\,\\frac{\\partial }{\\partial x}\\mathrm{Ay}\\left(t,x,y,z\\right)^{2}+2\\,\\frac{\\partial }{\\partial z}\\mathrm{Ay}\\left(t,x,y,z\\right)^{2}-4\\,\\frac{\\partial }{\\partial z}\\mathrm{Ay}\\left(t,x,y,z\\right) \\frac{\\partial }{\\partial y}\\mathrm{Az}\\left(t,x,y,z\\right)-2\\,\\frac{\\partial }{\\partial t}\\mathrm{Az}\\left(t,x,y,z\\right)^{2}-4\\,\\frac{\\partial }{\\partial t}\\mathrm{Az}\\left(t,x,y,z\\right) \\frac{\\partial }{\\partial z}\\phi\\left(t,x,y,z\\right)+2\\,\\frac{\\partial }{\\partial x}\\mathrm{Az}\\left(t,x,y,z\\right)^{2}+2\\,\\frac{\\partial }{\\partial y}\\mathrm{Az}\\left(t,x,y,z\\right)^{2}-2\\,\\frac{\\partial }{\\partial x}\\phi\\left(t,x,y,z\\right)^{2}-2\\,\\frac{\\partial }{\\partial y}\\phi\\left(t,x,y,z\\right)^{2}-2\\,\\frac{\\partial }{\\partial z}\\phi\\left(t,x,y,z\\right)^{2}$"
      ],
      "text/plain": [
       "<IPython.core.display.Math object>"
      ]
     },
     "metadata": {},
     "output_type": "display_data"
    }
   ],
   "source": [
    "F.indexcomb('^,^')\n",
    "\n",
    "pt.display(pt.simplify(F(\"_mu,_nu\")*F(\"^mu,^nu\")))"
   ]
  },
  {
   "cell_type": "code",
   "execution_count": 10,
   "metadata": {},
   "outputs": [
    {
     "data": {
      "text/html": [
       "$$ -2 \\left(\\frac{\\partial }{\\partial t}\\mathrm{Ax}\\left(t,x,y,z\\right)^{2}+2\\,\\frac{\\partial }{\\partial t}\\mathrm{Ax}\\left(t,x,y,z\\right) \\frac{\\partial }{\\partial x}\\phi\\left(t,x,y,z\\right)+\\frac{\\partial }{\\partial x}\\phi\\left(t,x,y,z\\right)^{2}+\\frac{\\partial }{\\partial t}\\mathrm{Ay}\\left(t,x,y,z\\right)^{2}+2\\,\\frac{\\partial }{\\partial t}\\mathrm{Ay}\\left(t,x,y,z\\right) \\frac{\\partial }{\\partial y}\\phi\\left(t,x,y,z\\right)+\\frac{\\partial }{\\partial y}\\phi\\left(t,x,y,z\\right)^{2}+\\frac{\\partial }{\\partial t}\\mathrm{Az}\\left(t,x,y,z\\right)^{2}+2\\,\\frac{\\partial }{\\partial t}\\mathrm{Az}\\left(t,x,y,z\\right) \\frac{\\partial }{\\partial z}\\phi\\left(t,x,y,z\\right)+\\frac{\\partial }{\\partial z}\\phi\\left(t,x,y,z\\right)^{2}-\\frac{\\partial }{\\partial x}\\mathrm{Ay}\\left(t,x,y,z\\right)^{2}+2\\,\\frac{\\partial }{\\partial x}\\mathrm{Ay}\\left(t,x,y,z\\right) \\frac{\\partial }{\\partial y}\\mathrm{Ax}\\left(t,x,y,z\\right)-\\frac{\\partial }{\\partial y}\\mathrm{Ax}\\left(t,x,y,z\\right)^{2}-\\frac{\\partial }{\\partial x}\\mathrm{Az}\\left(t,x,y,z\\right)^{2}+2\\,\\frac{\\partial }{\\partial x}\\mathrm{Az}\\left(t,x,y,z\\right) \\frac{\\partial }{\\partial z}\\mathrm{Ax}\\left(t,x,y,z\\right)-\\frac{\\partial }{\\partial z}\\mathrm{Ax}\\left(t,x,y,z\\right)^{2}-\\frac{\\partial }{\\partial y}\\mathrm{Az}\\left(t,x,y,z\\right)^{2}+2\\,\\frac{\\partial }{\\partial y}\\mathrm{Az}\\left(t,x,y,z\\right) \\frac{\\partial }{\\partial z}\\mathrm{Ay}\\left(t,x,y,z\\right)-\\frac{\\partial }{\\partial z}\\mathrm{Ay}\\left(t,x,y,z\\right)^{2}\\right) $$"
      ],
      "text/latex": [
       "-2 \\left(\\mathrm{Ax}^{\\left(1\\right)}\\left(t,x,y,z\\right)^{2}+2\\,\\mathrm{Ax}^{\\left(1\\right)}\\left(t,x,y,z\\right) \\varphi^{\\left(2\\right)}\\left(t,x,y,z\\right)+\\varphi^{\\left(2\\right)}\\left(t,x,y,z\\right)^{2}+\\mathrm{Ay}^{\\left(1\\right)}\\left(t,x,y,z\\right)^{2}+2\\,\\mathrm{Ay}^{\\left(1\\right)}\\left(t,x,y,z\\right) \\varphi^{\\left(3\\right)}\\left(t,x,y,z\\right)+\\varphi^{\\left(3\\right)}\\left(t,x,y,z\\right)^{2}+\\mathrm{Az}^{\\left(1\\right)}\\left(t,x,y,z\\right)^{2}+2\\,\\mathrm{Az}^{\\left(1\\right)}\\left(t,x,y,z\\right) \\varphi^{\\left(4\\right)}\\left(t,x,y,z\\right)+\\varphi^{\\left(4\\right)}\\left(t,x,y,z\\right)^{2}-\\mathrm{Ay}^{\\left(2\\right)}\\left(t,x,y,z\\right)^{2}+2\\,\\mathrm{Ay}^{\\left(2\\right)}\\left(t,x,y,z\\right) \\mathrm{Ax}^{\\left(3\\right)}\\left(t,x,y,z\\right)-\\mathrm{Ax}^{\\left(3\\right)}\\left(t,x,y,z\\right)^{2}-\\mathrm{Az}^{\\left(2\\right)}\\left(t,x,y,z\\right)^{2}+2\\,\\mathrm{Az}^{\\left(2\\right)}\\left(t,x,y,z\\right) \\mathrm{Ax}^{\\left(4\\right)}\\left(t,x,y,z\\right)-\\mathrm{Ax}^{\\left(4\\right)}\\left(t,x,y,z\\right)^{2}-\\mathrm{Az}^{\\left(3\\right)}\\left(t,x,y,z\\right)^{2}+2\\,\\mathrm{Az}^{\\left(3\\right)}\\left(t,x,y,z\\right) \\mathrm{Ay}^{\\left(4\\right)}\\left(t,x,y,z\\right)-\\mathrm{Ay}^{\\left(4\\right)}\\left(t,x,y,z\\right)^{2}\\right)"
      ],
      "text/plain": []
     },
     "execution_count": 10,
     "metadata": {},
     "output_type": "execute_result"
    }
   ],
   "source": [
    "pt.factor(F(\"_mu,_nu\")*F(\"^mu,^nu\"))"
   ]
  },
  {
   "cell_type": "markdown",
   "metadata": {},
   "source": [
    "This is the of the inner product of the electromagnetic tensor\n",
    "\n",
    "$$F_{\\mu\\nu}F^{\\mu\\nu} = 2\\left(B^2-E^2\\right)$$"
   ]
  },
  {
   "cell_type": "markdown",
   "metadata": {},
   "source": [
    "### PseudoScalar Invariant"
   ]
  },
  {
   "cell_type": "code",
   "execution_count": 11,
   "metadata": {},
   "outputs": [],
   "source": [
    "LC = pt.LeviCivita(convention=-1)"
   ]
  },
  {
   "cell_type": "code",
   "execution_count": 12,
   "metadata": {
    "scrolled": true
   },
   "outputs": [
    {
     "data": {
      "text/html": [
       "$$ 4 \\left(\\frac{\\partial }{\\partial y}\\mathrm{Az}\\left(t,x,y,z\\right) \\frac{\\partial }{\\partial t}\\mathrm{Ax}\\left(t,x,y,z\\right)+\\frac{\\partial }{\\partial y}\\mathrm{Az}\\left(t,x,y,z\\right) \\frac{\\partial }{\\partial x}\\phi\\left(t,x,y,z\\right)-\\frac{\\partial }{\\partial z}\\mathrm{Ay}\\left(t,x,y,z\\right) \\frac{\\partial }{\\partial t}\\mathrm{Ax}\\left(t,x,y,z\\right)-\\frac{\\partial }{\\partial z}\\mathrm{Ay}\\left(t,x,y,z\\right) \\frac{\\partial }{\\partial x}\\phi\\left(t,x,y,z\\right)-\\frac{\\partial }{\\partial x}\\mathrm{Az}\\left(t,x,y,z\\right) \\frac{\\partial }{\\partial t}\\mathrm{Ay}\\left(t,x,y,z\\right)-\\frac{\\partial }{\\partial x}\\mathrm{Az}\\left(t,x,y,z\\right) \\frac{\\partial }{\\partial y}\\phi\\left(t,x,y,z\\right)+\\frac{\\partial }{\\partial z}\\mathrm{Ax}\\left(t,x,y,z\\right) \\frac{\\partial }{\\partial t}\\mathrm{Ay}\\left(t,x,y,z\\right)+\\frac{\\partial }{\\partial z}\\mathrm{Ax}\\left(t,x,y,z\\right) \\frac{\\partial }{\\partial y}\\phi\\left(t,x,y,z\\right)+\\frac{\\partial }{\\partial x}\\mathrm{Ay}\\left(t,x,y,z\\right) \\frac{\\partial }{\\partial t}\\mathrm{Az}\\left(t,x,y,z\\right)+\\frac{\\partial }{\\partial x}\\mathrm{Ay}\\left(t,x,y,z\\right) \\frac{\\partial }{\\partial z}\\phi\\left(t,x,y,z\\right)-\\frac{\\partial }{\\partial y}\\mathrm{Ax}\\left(t,x,y,z\\right) \\frac{\\partial }{\\partial t}\\mathrm{Az}\\left(t,x,y,z\\right)-\\frac{\\partial }{\\partial y}\\mathrm{Ax}\\left(t,x,y,z\\right) \\frac{\\partial }{\\partial z}\\phi\\left(t,x,y,z\\right)\\right) $$"
      ],
      "text/latex": [
       "4 \\left(\\mathrm{Az}^{\\left(3\\right)}\\left(t,x,y,z\\right) \\mathrm{Ax}^{\\left(1\\right)}\\left(t,x,y,z\\right)+\\mathrm{Az}^{\\left(3\\right)}\\left(t,x,y,z\\right) \\varphi^{\\left(2\\right)}\\left(t,x,y,z\\right)-\\mathrm{Ay}^{\\left(4\\right)}\\left(t,x,y,z\\right) \\mathrm{Ax}^{\\left(1\\right)}\\left(t,x,y,z\\right)-\\mathrm{Ay}^{\\left(4\\right)}\\left(t,x,y,z\\right) \\varphi^{\\left(2\\right)}\\left(t,x,y,z\\right)-\\mathrm{Az}^{\\left(2\\right)}\\left(t,x,y,z\\right) \\mathrm{Ay}^{\\left(1\\right)}\\left(t,x,y,z\\right)-\\mathrm{Az}^{\\left(2\\right)}\\left(t,x,y,z\\right) \\varphi^{\\left(3\\right)}\\left(t,x,y,z\\right)+\\mathrm{Ax}^{\\left(4\\right)}\\left(t,x,y,z\\right) \\mathrm{Ay}^{\\left(1\\right)}\\left(t,x,y,z\\right)+\\mathrm{Ax}^{\\left(4\\right)}\\left(t,x,y,z\\right) \\varphi^{\\left(3\\right)}\\left(t,x,y,z\\right)+\\mathrm{Ay}^{\\left(2\\right)}\\left(t,x,y,z\\right) \\mathrm{Az}^{\\left(1\\right)}\\left(t,x,y,z\\right)+\\mathrm{Ay}^{\\left(2\\right)}\\left(t,x,y,z\\right) \\varphi^{\\left(4\\right)}\\left(t,x,y,z\\right)-\\mathrm{Ax}^{\\left(3\\right)}\\left(t,x,y,z\\right) \\mathrm{Az}^{\\left(1\\right)}\\left(t,x,y,z\\right)-\\mathrm{Ax}^{\\left(3\\right)}\\left(t,x,y,z\\right) \\varphi^{\\left(4\\right)}\\left(t,x,y,z\\right)\\right)"
      ],
      "text/plain": []
     },
     "execution_count": 12,
     "metadata": {},
     "output_type": "execute_result"
    }
   ],
   "source": [
    "value = (1/2)*LC('_alpha,_beta,_gamma,_delta')*F('^alpha,^beta')*F('^gamma,^delta')\n",
    "\n",
    "value.factor()"
   ]
  },
  {
   "cell_type": "markdown",
   "metadata": {},
   "source": [
    "This gives $$-4\\vec{B}\\cdot\\vec{E}$$"
   ]
  },
  {
   "cell_type": "code",
   "execution_count": 13,
   "metadata": {},
   "outputs": [
    {
     "data": {
      "text/latex": [
       "$\\displaystyle \\left(\\begin{array}{cccc}0.0&-0.5 \\left(-\\frac{\\partial }{\\partial y}\\mathrm{Az}\\left(t,x,y,z\\right)+\\frac{\\partial }{\\partial z}\\mathrm{Ay}\\left(t,x,y,z\\right)\\right)+0.5 \\left(-\\frac{\\partial }{\\partial z}\\mathrm{Ay}\\left(t,x,y,z\\right)+\\frac{\\partial }{\\partial y}\\mathrm{Az}\\left(t,x,y,z\\right)\\right)&0.5 \\left(-\\frac{\\partial }{\\partial x}\\mathrm{Az}\\left(t,x,y,z\\right)+\\frac{\\partial }{\\partial z}\\mathrm{Ax}\\left(t,x,y,z\\right)\\right)-0.5 \\left(-\\frac{\\partial }{\\partial z}\\mathrm{Ax}\\left(t,x,y,z\\right)+\\frac{\\partial }{\\partial x}\\mathrm{Az}\\left(t,x,y,z\\right)\\right)&-0.5 \\left(-\\frac{\\partial }{\\partial x}\\mathrm{Ay}\\left(t,x,y,z\\right)+\\frac{\\partial }{\\partial y}\\mathrm{Ax}\\left(t,x,y,z\\right)\\right)+0.5 \\left(-\\frac{\\partial }{\\partial y}\\mathrm{Ax}\\left(t,x,y,z\\right)+\\frac{\\partial }{\\partial x}\\mathrm{Ay}\\left(t,x,y,z\\right)\\right)\\\\0.5 \\left(-\\frac{\\partial }{\\partial y}\\mathrm{Az}\\left(t,x,y,z\\right)+\\frac{\\partial }{\\partial z}\\mathrm{Ay}\\left(t,x,y,z\\right)\\right)-0.5 \\left(-\\frac{\\partial }{\\partial z}\\mathrm{Ay}\\left(t,x,y,z\\right)+\\frac{\\partial }{\\partial y}\\mathrm{Az}\\left(t,x,y,z\\right)\\right)&0.0&-0.5 \\left(-\\frac{\\partial }{\\partial t}\\mathrm{Az}\\left(t,x,y,z\\right)-\\frac{\\partial }{\\partial z}\\phi\\left(t,x,y,z\\right)\\right)+0.5 \\left(\\frac{\\partial }{\\partial z}\\phi\\left(t,x,y,z\\right)+\\frac{\\partial }{\\partial t}\\mathrm{Az}\\left(t,x,y,z\\right)\\right)&0.5 \\left(-\\frac{\\partial }{\\partial t}\\mathrm{Ay}\\left(t,x,y,z\\right)-\\frac{\\partial }{\\partial y}\\phi\\left(t,x,y,z\\right)\\right)-0.5 \\left(\\frac{\\partial }{\\partial y}\\phi\\left(t,x,y,z\\right)+\\frac{\\partial }{\\partial t}\\mathrm{Ay}\\left(t,x,y,z\\right)\\right)\\\\-0.5 \\left(-\\frac{\\partial }{\\partial x}\\mathrm{Az}\\left(t,x,y,z\\right)+\\frac{\\partial }{\\partial z}\\mathrm{Ax}\\left(t,x,y,z\\right)\\right)+0.5 \\left(-\\frac{\\partial }{\\partial z}\\mathrm{Ax}\\left(t,x,y,z\\right)+\\frac{\\partial }{\\partial x}\\mathrm{Az}\\left(t,x,y,z\\right)\\right)&0.5 \\left(-\\frac{\\partial }{\\partial t}\\mathrm{Az}\\left(t,x,y,z\\right)-\\frac{\\partial }{\\partial z}\\phi\\left(t,x,y,z\\right)\\right)-0.5 \\left(\\frac{\\partial }{\\partial z}\\phi\\left(t,x,y,z\\right)+\\frac{\\partial }{\\partial t}\\mathrm{Az}\\left(t,x,y,z\\right)\\right)&0.0&-0.5 \\left(-\\frac{\\partial }{\\partial t}\\mathrm{Ax}\\left(t,x,y,z\\right)-\\frac{\\partial }{\\partial x}\\phi\\left(t,x,y,z\\right)\\right)+0.5 \\left(\\frac{\\partial }{\\partial x}\\phi\\left(t,x,y,z\\right)+\\frac{\\partial }{\\partial t}\\mathrm{Ax}\\left(t,x,y,z\\right)\\right)\\\\0.5 \\left(-\\frac{\\partial }{\\partial x}\\mathrm{Ay}\\left(t,x,y,z\\right)+\\frac{\\partial }{\\partial y}\\mathrm{Ax}\\left(t,x,y,z\\right)\\right)-0.5 \\left(-\\frac{\\partial }{\\partial y}\\mathrm{Ax}\\left(t,x,y,z\\right)+\\frac{\\partial }{\\partial x}\\mathrm{Ay}\\left(t,x,y,z\\right)\\right)&-0.5 \\left(-\\frac{\\partial }{\\partial t}\\mathrm{Ay}\\left(t,x,y,z\\right)-\\frac{\\partial }{\\partial y}\\phi\\left(t,x,y,z\\right)\\right)+0.5 \\left(\\frac{\\partial }{\\partial y}\\phi\\left(t,x,y,z\\right)+\\frac{\\partial }{\\partial t}\\mathrm{Ay}\\left(t,x,y,z\\right)\\right)&0.5 \\left(-\\frac{\\partial }{\\partial t}\\mathrm{Ax}\\left(t,x,y,z\\right)-\\frac{\\partial }{\\partial x}\\phi\\left(t,x,y,z\\right)\\right)-0.5 \\left(\\frac{\\partial }{\\partial x}\\phi\\left(t,x,y,z\\right)+\\frac{\\partial }{\\partial t}\\mathrm{Ax}\\left(t,x,y,z\\right)\\right)&0.0\\end{array}\\right)\n",
       "$"
      ],
      "text/plain": [
       "<IPython.core.display.Math object>"
      ]
     },
     "metadata": {},
     "output_type": "display_data"
    }
   ],
   "source": [
    "I2 = (1/2)*LC('^alpha,^beta,^gamma,^delta')*F('_gamma,_delta')\n",
    "\n",
    "tensorG = pt.new_ten('tensorG',2)\n",
    "\n",
    "tensorG.assign(I2,'^alpha,^beta')\n",
    "\n",
    "tensorG.simplify()\n",
    "\n",
    "tensorG.display('^,^')"
   ]
  },
  {
   "cell_type": "markdown",
   "metadata": {},
   "source": [
    "## Relationship with the classic fields"
   ]
  },
  {
   "cell_type": "markdown",
   "metadata": {},
   "source": [
    "Working with space coordinates only"
   ]
  },
  {
   "cell_type": "code",
   "execution_count": 14,
   "metadata": {},
   "outputs": [],
   "source": [
    "pt.set_space_time(False) # this function defines that the calculations will ignore the temporal component"
   ]
  },
  {
   "cell_type": "code",
   "execution_count": 17,
   "metadata": {},
   "outputs": [],
   "source": [
    "LC = pt.LeviCivita(convention=1)\n",
    "\n",
    "B = pt.new_ten('B',1)\n",
    "\n",
    "B_dat = -(1/2)*LC('_i,_j,_k')*F('^j,^k')\n",
    "\n",
    "B.assign(B_dat,'_i')\n",
    "\n",
    "B.factor()"
   ]
  },
  {
   "cell_type": "code",
   "execution_count": 18,
   "metadata": {},
   "outputs": [
    {
     "data": {
      "text/latex": [
       "$\\displaystyle \\left[\\frac{\\partial }{\\partial y}\\mathrm{Az}\\left(t,x,y,z\\right)-\\frac{\\partial }{\\partial z}\\mathrm{Ay}\\left(t,x,y,z\\right),-\\frac{\\partial }{\\partial x}\\mathrm{Az}\\left(t,x,y,z\\right)+\\frac{\\partial }{\\partial z}\\mathrm{Ax}\\left(t,x,y,z\\right),\\frac{\\partial }{\\partial x}\\mathrm{Ay}\\left(t,x,y,z\\right)-\\frac{\\partial }{\\partial y}\\mathrm{Ax}\\left(t,x,y,z\\right)\\right]\n",
       "$"
      ],
      "text/plain": [
       "<IPython.core.display.Math object>"
      ]
     },
     "metadata": {},
     "output_type": "display_data"
    }
   ],
   "source": [
    "B.display()"
   ]
  },
  {
   "cell_type": "code",
   "execution_count": 19,
   "metadata": {},
   "outputs": [],
   "source": [
    "KR = pt.KroneckerDelta()"
   ]
  },
  {
   "cell_type": "code",
   "execution_count": 20,
   "metadata": {},
   "outputs": [
    {
     "data": {
      "text/latex": [
       "$\\displaystyle \\left(\\begin{array}{cccc}1&0&0&0\\\\0&1&0&0\\\\0&0&1&0\\\\0&0&0&1\\end{array}\\right)\n",
       "$"
      ],
      "text/plain": [
       "<IPython.core.display.Math object>"
      ]
     },
     "metadata": {},
     "output_type": "display_data"
    }
   ],
   "source": [
    "KR.display(spatial=False)"
   ]
  },
  {
   "cell_type": "markdown",
   "metadata": {},
   "source": [
    "We return to work with the temporal component"
   ]
  },
  {
   "cell_type": "code",
   "execution_count": 21,
   "metadata": {},
   "outputs": [],
   "source": [
    "pt.set_space_time(True)"
   ]
  },
  {
   "cell_type": "code",
   "execution_count": 22,
   "metadata": {},
   "outputs": [
    {
     "data": {
      "text/plain": [
       "<pytearcat.tensor.core.tdata.Tdata at 0x252fc3b8ac0>"
      ]
     },
     "execution_count": 22,
     "metadata": {},
     "output_type": "execute_result"
    }
   ],
   "source": [
    "F('^i,^j')"
   ]
  },
  {
   "cell_type": "code",
   "execution_count": 23,
   "metadata": {},
   "outputs": [
    {
     "data": {
      "text/latex": [
       "$\\displaystyle \\left[\\frac{\\partial }{\\partial t}\\mathrm{Ax}\\left(t,x,y,z\\right)+\\frac{\\partial }{\\partial x}\\phi\\left(t,x,y,z\\right),\\frac{\\partial }{\\partial t}\\mathrm{Ay}\\left(t,x,y,z\\right)+\\frac{\\partial }{\\partial y}\\phi\\left(t,x,y,z\\right),\\frac{\\partial }{\\partial t}\\mathrm{Az}\\left(t,x,y,z\\right)+\\frac{\\partial }{\\partial z}\\phi\\left(t,x,y,z\\right)\\right]\n",
       "$"
      ],
      "text/plain": [
       "<IPython.core.display.Math object>"
      ]
     },
     "metadata": {},
     "output_type": "display_data"
    }
   ],
   "source": [
    "E = pt.new_ten('E',1)\n",
    "\n",
    "lol = F('^0,^j')\n",
    "\n",
    "E.assign(lol,'_j')\n",
    "\n",
    "E.display(\"_\",spatial=True)"
   ]
  },
  {
   "cell_type": "markdown",
   "metadata": {},
   "source": [
    "## Bianchi Identity"
   ]
  },
  {
   "cell_type": "code",
   "execution_count": 24,
   "metadata": {},
   "outputs": [
    {
     "data": {
      "text/latex": [
       "$\\displaystyle {BI}{}_{0\n",
       "}{}_{1\n",
       "}{}_{2\n",
       "} = -\\frac{\\partial }{\\partial t}\\frac{\\partial }{\\partial y}\\mathrm{Ax}\\left(t,x,y,z\\right)-\\frac{\\partial }{\\partial x}\\frac{\\partial }{\\partial y}\\phi\\left(t,x,y,z\\right)+\\frac{\\partial }{\\partial y}\\frac{\\partial }{\\partial t}\\mathrm{Ax}\\left(t,x,y,z\\right)-\\frac{\\partial }{\\partial x}\\frac{\\partial }{\\partial t}\\mathrm{Ay}\\left(t,x,y,z\\right)+\\frac{\\partial }{\\partial t}\\frac{\\partial }{\\partial x}\\mathrm{Ay}\\left(t,x,y,z\\right)+\\frac{\\partial }{\\partial y}\\frac{\\partial }{\\partial x}\\phi\\left(t,x,y,z\\right)$"
      ],
      "text/plain": [
       "<IPython.core.display.Math object>"
      ]
     },
     "metadata": {},
     "output_type": "display_data"
    },
    {
     "data": {
      "text/latex": [
       "$\\displaystyle {BI}{}_{0\n",
       "}{}_{1\n",
       "}{}_{3\n",
       "} = -\\frac{\\partial }{\\partial t}\\frac{\\partial }{\\partial z}\\mathrm{Ax}\\left(t,x,y,z\\right)-\\frac{\\partial }{\\partial x}\\frac{\\partial }{\\partial z}\\phi\\left(t,x,y,z\\right)+\\frac{\\partial }{\\partial z}\\frac{\\partial }{\\partial t}\\mathrm{Ax}\\left(t,x,y,z\\right)-\\frac{\\partial }{\\partial x}\\frac{\\partial }{\\partial t}\\mathrm{Az}\\left(t,x,y,z\\right)+\\frac{\\partial }{\\partial t}\\frac{\\partial }{\\partial x}\\mathrm{Az}\\left(t,x,y,z\\right)+\\frac{\\partial }{\\partial z}\\frac{\\partial }{\\partial x}\\phi\\left(t,x,y,z\\right)$"
      ],
      "text/plain": [
       "<IPython.core.display.Math object>"
      ]
     },
     "metadata": {},
     "output_type": "display_data"
    },
    {
     "data": {
      "text/latex": [
       "$\\displaystyle {BI}{}_{0\n",
       "}{}_{2\n",
       "}{}_{1\n",
       "} = -\\frac{\\partial }{\\partial t}\\frac{\\partial }{\\partial x}\\mathrm{Ay}\\left(t,x,y,z\\right)-\\frac{\\partial }{\\partial y}\\frac{\\partial }{\\partial x}\\phi\\left(t,x,y,z\\right)-\\frac{\\partial }{\\partial y}\\frac{\\partial }{\\partial t}\\mathrm{Ax}\\left(t,x,y,z\\right)+\\frac{\\partial }{\\partial x}\\frac{\\partial }{\\partial t}\\mathrm{Ay}\\left(t,x,y,z\\right)+\\frac{\\partial }{\\partial t}\\frac{\\partial }{\\partial y}\\mathrm{Ax}\\left(t,x,y,z\\right)+\\frac{\\partial }{\\partial x}\\frac{\\partial }{\\partial y}\\phi\\left(t,x,y,z\\right)$"
      ],
      "text/plain": [
       "<IPython.core.display.Math object>"
      ]
     },
     "metadata": {},
     "output_type": "display_data"
    },
    {
     "data": {
      "text/latex": [
       "$\\displaystyle {BI}{}_{0\n",
       "}{}_{2\n",
       "}{}_{3\n",
       "} = -\\frac{\\partial }{\\partial t}\\frac{\\partial }{\\partial z}\\mathrm{Ay}\\left(t,x,y,z\\right)-\\frac{\\partial }{\\partial y}\\frac{\\partial }{\\partial z}\\phi\\left(t,x,y,z\\right)+\\frac{\\partial }{\\partial z}\\frac{\\partial }{\\partial t}\\mathrm{Ay}\\left(t,x,y,z\\right)-\\frac{\\partial }{\\partial y}\\frac{\\partial }{\\partial t}\\mathrm{Az}\\left(t,x,y,z\\right)+\\frac{\\partial }{\\partial t}\\frac{\\partial }{\\partial y}\\mathrm{Az}\\left(t,x,y,z\\right)+\\frac{\\partial }{\\partial z}\\frac{\\partial }{\\partial y}\\phi\\left(t,x,y,z\\right)$"
      ],
      "text/plain": [
       "<IPython.core.display.Math object>"
      ]
     },
     "metadata": {},
     "output_type": "display_data"
    },
    {
     "data": {
      "text/latex": [
       "$\\displaystyle {BI}{}_{0\n",
       "}{}_{3\n",
       "}{}_{1\n",
       "} = -\\frac{\\partial }{\\partial t}\\frac{\\partial }{\\partial x}\\mathrm{Az}\\left(t,x,y,z\\right)-\\frac{\\partial }{\\partial z}\\frac{\\partial }{\\partial x}\\phi\\left(t,x,y,z\\right)-\\frac{\\partial }{\\partial z}\\frac{\\partial }{\\partial t}\\mathrm{Ax}\\left(t,x,y,z\\right)+\\frac{\\partial }{\\partial x}\\frac{\\partial }{\\partial t}\\mathrm{Az}\\left(t,x,y,z\\right)+\\frac{\\partial }{\\partial t}\\frac{\\partial }{\\partial z}\\mathrm{Ax}\\left(t,x,y,z\\right)+\\frac{\\partial }{\\partial x}\\frac{\\partial }{\\partial z}\\phi\\left(t,x,y,z\\right)$"
      ],
      "text/plain": [
       "<IPython.core.display.Math object>"
      ]
     },
     "metadata": {},
     "output_type": "display_data"
    },
    {
     "data": {
      "text/latex": [
       "$\\displaystyle {BI}{}_{0\n",
       "}{}_{3\n",
       "}{}_{2\n",
       "} = -\\frac{\\partial }{\\partial t}\\frac{\\partial }{\\partial y}\\mathrm{Az}\\left(t,x,y,z\\right)-\\frac{\\partial }{\\partial z}\\frac{\\partial }{\\partial y}\\phi\\left(t,x,y,z\\right)-\\frac{\\partial }{\\partial z}\\frac{\\partial }{\\partial t}\\mathrm{Ay}\\left(t,x,y,z\\right)+\\frac{\\partial }{\\partial y}\\frac{\\partial }{\\partial t}\\mathrm{Az}\\left(t,x,y,z\\right)+\\frac{\\partial }{\\partial t}\\frac{\\partial }{\\partial z}\\mathrm{Ay}\\left(t,x,y,z\\right)+\\frac{\\partial }{\\partial y}\\frac{\\partial }{\\partial z}\\phi\\left(t,x,y,z\\right)$"
      ],
      "text/plain": [
       "<IPython.core.display.Math object>"
      ]
     },
     "metadata": {},
     "output_type": "display_data"
    },
    {
     "data": {
      "text/latex": [
       "$\\displaystyle {BI}{}_{1\n",
       "}{}_{0\n",
       "}{}_{2\n",
       "} = \\mathrm{Ax}^{\\left(1,3\\right)}\\left(t,x,y,z\\right)+\\frac{\\partial }{\\partial x}\\frac{\\partial }{\\partial y}\\phi\\left(t,x,y,z\\right)-\\frac{\\partial }{\\partial t}\\frac{\\partial }{\\partial x}\\mathrm{Ay}\\left(t,x,y,z\\right)-\\frac{\\partial }{\\partial y}\\frac{\\partial }{\\partial x}\\phi\\left(t,x,y,z\\right)-\\frac{\\partial }{\\partial y}\\frac{\\partial }{\\partial t}\\mathrm{Ax}\\left(t,x,y,z\\right)+\\frac{\\partial }{\\partial x}\\frac{\\partial }{\\partial t}\\mathrm{Ay}\\left(t,x,y,z\\right)$"
      ],
      "text/plain": [
       "<IPython.core.display.Math object>"
      ]
     },
     "metadata": {},
     "output_type": "display_data"
    },
    {
     "data": {
      "text/latex": [
       "$\\displaystyle {BI}{}_{1\n",
       "}{}_{0\n",
       "}{}_{3\n",
       "} = \\mathrm{Ax}^{\\left(1,4\\right)}\\left(t,x,y,z\\right)+\\frac{\\partial }{\\partial x}\\frac{\\partial }{\\partial z}\\phi\\left(t,x,y,z\\right)-\\frac{\\partial }{\\partial t}\\frac{\\partial }{\\partial x}\\mathrm{Az}\\left(t,x,y,z\\right)-\\frac{\\partial }{\\partial z}\\frac{\\partial }{\\partial x}\\phi\\left(t,x,y,z\\right)-\\frac{\\partial }{\\partial z}\\frac{\\partial }{\\partial t}\\mathrm{Ax}\\left(t,x,y,z\\right)+\\frac{\\partial }{\\partial x}\\frac{\\partial }{\\partial t}\\mathrm{Az}\\left(t,x,y,z\\right)$"
      ],
      "text/plain": [
       "<IPython.core.display.Math object>"
      ]
     },
     "metadata": {},
     "output_type": "display_data"
    },
    {
     "data": {
      "text/latex": [
       "$\\displaystyle {BI}{}_{1\n",
       "}{}_{2\n",
       "}{}_{0\n",
       "} = \\mathrm{Ax}^{\\left(3,1\\right)}\\left(t,x,y,z\\right)-\\frac{\\partial }{\\partial x}\\frac{\\partial }{\\partial t}\\mathrm{Ay}\\left(t,x,y,z\\right)+\\frac{\\partial }{\\partial t}\\frac{\\partial }{\\partial x}\\mathrm{Ay}\\left(t,x,y,z\\right)+\\frac{\\partial }{\\partial y}\\frac{\\partial }{\\partial x}\\phi\\left(t,x,y,z\\right)-\\frac{\\partial }{\\partial t}\\frac{\\partial }{\\partial y}\\mathrm{Ax}\\left(t,x,y,z\\right)-\\frac{\\partial }{\\partial x}\\frac{\\partial }{\\partial y}\\phi\\left(t,x,y,z\\right)$"
      ],
      "text/plain": [
       "<IPython.core.display.Math object>"
      ]
     },
     "metadata": {},
     "output_type": "display_data"
    },
    {
     "data": {
      "text/latex": [
       "$\\displaystyle {BI}{}_{1\n",
       "}{}_{2\n",
       "}{}_{3\n",
       "} = \\mathrm{Ax}^{\\left(3,4\\right)}\\left(t,x,y,z\\right)-\\frac{\\partial }{\\partial x}\\frac{\\partial }{\\partial z}\\mathrm{Ay}\\left(t,x,y,z\\right)+\\frac{\\partial }{\\partial z}\\frac{\\partial }{\\partial x}\\mathrm{Ay}\\left(t,x,y,z\\right)-\\frac{\\partial }{\\partial y}\\frac{\\partial }{\\partial x}\\mathrm{Az}\\left(t,x,y,z\\right)-\\frac{\\partial }{\\partial z}\\frac{\\partial }{\\partial y}\\mathrm{Ax}\\left(t,x,y,z\\right)+\\frac{\\partial }{\\partial x}\\frac{\\partial }{\\partial y}\\mathrm{Az}\\left(t,x,y,z\\right)$"
      ],
      "text/plain": [
       "<IPython.core.display.Math object>"
      ]
     },
     "metadata": {},
     "output_type": "display_data"
    },
    {
     "data": {
      "text/latex": [
       "$\\displaystyle {BI}{}_{1\n",
       "}{}_{3\n",
       "}{}_{0\n",
       "} = \\mathrm{Ax}^{\\left(4,1\\right)}\\left(t,x,y,z\\right)-\\frac{\\partial }{\\partial x}\\frac{\\partial }{\\partial t}\\mathrm{Az}\\left(t,x,y,z\\right)+\\frac{\\partial }{\\partial t}\\frac{\\partial }{\\partial x}\\mathrm{Az}\\left(t,x,y,z\\right)+\\frac{\\partial }{\\partial z}\\frac{\\partial }{\\partial x}\\phi\\left(t,x,y,z\\right)-\\frac{\\partial }{\\partial t}\\frac{\\partial }{\\partial z}\\mathrm{Ax}\\left(t,x,y,z\\right)-\\frac{\\partial }{\\partial x}\\frac{\\partial }{\\partial z}\\phi\\left(t,x,y,z\\right)$"
      ],
      "text/plain": [
       "<IPython.core.display.Math object>"
      ]
     },
     "metadata": {},
     "output_type": "display_data"
    },
    {
     "data": {
      "text/latex": [
       "$\\displaystyle {BI}{}_{1\n",
       "}{}_{3\n",
       "}{}_{2\n",
       "} = \\mathrm{Ax}^{\\left(4,3\\right)}\\left(t,x,y,z\\right)-\\frac{\\partial }{\\partial x}\\frac{\\partial }{\\partial y}\\mathrm{Az}\\left(t,x,y,z\\right)-\\frac{\\partial }{\\partial z}\\frac{\\partial }{\\partial x}\\mathrm{Ay}\\left(t,x,y,z\\right)+\\frac{\\partial }{\\partial y}\\frac{\\partial }{\\partial x}\\mathrm{Az}\\left(t,x,y,z\\right)-\\frac{\\partial }{\\partial y}\\frac{\\partial }{\\partial z}\\mathrm{Ax}\\left(t,x,y,z\\right)+\\frac{\\partial }{\\partial x}\\frac{\\partial }{\\partial z}\\mathrm{Ay}\\left(t,x,y,z\\right)$"
      ],
      "text/plain": [
       "<IPython.core.display.Math object>"
      ]
     },
     "metadata": {},
     "output_type": "display_data"
    },
    {
     "data": {
      "text/latex": [
       "$\\displaystyle {BI}{}_{2\n",
       "}{}_{0\n",
       "}{}_{1\n",
       "} = \\mathrm{Ay}^{\\left(1,2\\right)}\\left(t,x,y,z\\right)+\\frac{\\partial }{\\partial y}\\frac{\\partial }{\\partial x}\\phi\\left(t,x,y,z\\right)-\\frac{\\partial }{\\partial t}\\frac{\\partial }{\\partial y}\\mathrm{Ax}\\left(t,x,y,z\\right)-\\frac{\\partial }{\\partial x}\\frac{\\partial }{\\partial y}\\phi\\left(t,x,y,z\\right)+\\frac{\\partial }{\\partial y}\\frac{\\partial }{\\partial t}\\mathrm{Ax}\\left(t,x,y,z\\right)-\\frac{\\partial }{\\partial x}\\frac{\\partial }{\\partial t}\\mathrm{Ay}\\left(t,x,y,z\\right)$"
      ],
      "text/plain": [
       "<IPython.core.display.Math object>"
      ]
     },
     "metadata": {},
     "output_type": "display_data"
    },
    {
     "data": {
      "text/latex": [
       "$\\displaystyle {BI}{}_{2\n",
       "}{}_{0\n",
       "}{}_{3\n",
       "} = \\mathrm{Ay}^{\\left(1,4\\right)}\\left(t,x,y,z\\right)+\\frac{\\partial }{\\partial y}\\frac{\\partial }{\\partial z}\\phi\\left(t,x,y,z\\right)-\\frac{\\partial }{\\partial t}\\frac{\\partial }{\\partial y}\\mathrm{Az}\\left(t,x,y,z\\right)-\\frac{\\partial }{\\partial z}\\frac{\\partial }{\\partial y}\\phi\\left(t,x,y,z\\right)-\\frac{\\partial }{\\partial z}\\frac{\\partial }{\\partial t}\\mathrm{Ay}\\left(t,x,y,z\\right)+\\frac{\\partial }{\\partial y}\\frac{\\partial }{\\partial t}\\mathrm{Az}\\left(t,x,y,z\\right)$"
      ],
      "text/plain": [
       "<IPython.core.display.Math object>"
      ]
     },
     "metadata": {},
     "output_type": "display_data"
    },
    {
     "data": {
      "text/latex": [
       "$\\displaystyle {BI}{}_{2\n",
       "}{}_{1\n",
       "}{}_{0\n",
       "} = -\\frac{\\partial }{\\partial y}\\frac{\\partial }{\\partial t}\\mathrm{Ax}\\left(t,x,y,z\\right)+\\frac{\\partial }{\\partial x}\\frac{\\partial }{\\partial t}\\mathrm{Ay}\\left(t,x,y,z\\right)+\\frac{\\partial }{\\partial t}\\frac{\\partial }{\\partial y}\\mathrm{Ax}\\left(t,x,y,z\\right)+\\frac{\\partial }{\\partial x}\\frac{\\partial }{\\partial y}\\phi\\left(t,x,y,z\\right)-\\frac{\\partial }{\\partial t}\\frac{\\partial }{\\partial x}\\mathrm{Ay}\\left(t,x,y,z\\right)-\\frac{\\partial }{\\partial y}\\frac{\\partial }{\\partial x}\\phi\\left(t,x,y,z\\right)$"
      ],
      "text/plain": [
       "<IPython.core.display.Math object>"
      ]
     },
     "metadata": {},
     "output_type": "display_data"
    },
    {
     "data": {
      "text/latex": [
       "$\\displaystyle {BI}{}_{2\n",
       "}{}_{1\n",
       "}{}_{3\n",
       "} = -\\frac{\\partial }{\\partial y}\\frac{\\partial }{\\partial z}\\mathrm{Ax}\\left(t,x,y,z\\right)+\\frac{\\partial }{\\partial x}\\frac{\\partial }{\\partial z}\\mathrm{Ay}\\left(t,x,y,z\\right)+\\frac{\\partial }{\\partial z}\\frac{\\partial }{\\partial y}\\mathrm{Ax}\\left(t,x,y,z\\right)-\\frac{\\partial }{\\partial x}\\frac{\\partial }{\\partial y}\\mathrm{Az}\\left(t,x,y,z\\right)-\\frac{\\partial }{\\partial z}\\frac{\\partial }{\\partial x}\\mathrm{Ay}\\left(t,x,y,z\\right)+\\frac{\\partial }{\\partial y}\\frac{\\partial }{\\partial x}\\mathrm{Az}\\left(t,x,y,z\\right)$"
      ],
      "text/plain": [
       "<IPython.core.display.Math object>"
      ]
     },
     "metadata": {},
     "output_type": "display_data"
    },
    {
     "data": {
      "text/latex": [
       "$\\displaystyle {BI}{}_{2\n",
       "}{}_{3\n",
       "}{}_{0\n",
       "} = \\mathrm{Ay}^{\\left(4,1\\right)}\\left(t,x,y,z\\right)-\\frac{\\partial }{\\partial y}\\frac{\\partial }{\\partial t}\\mathrm{Az}\\left(t,x,y,z\\right)+\\frac{\\partial }{\\partial t}\\frac{\\partial }{\\partial y}\\mathrm{Az}\\left(t,x,y,z\\right)+\\frac{\\partial }{\\partial z}\\frac{\\partial }{\\partial y}\\phi\\left(t,x,y,z\\right)-\\frac{\\partial }{\\partial t}\\frac{\\partial }{\\partial z}\\mathrm{Ay}\\left(t,x,y,z\\right)-\\frac{\\partial }{\\partial y}\\frac{\\partial }{\\partial z}\\phi\\left(t,x,y,z\\right)$"
      ],
      "text/plain": [
       "<IPython.core.display.Math object>"
      ]
     },
     "metadata": {},
     "output_type": "display_data"
    },
    {
     "data": {
      "text/latex": [
       "$\\displaystyle {BI}{}_{2\n",
       "}{}_{3\n",
       "}{}_{1\n",
       "} = \\mathrm{Ay}^{\\left(4,2\\right)}\\left(t,x,y,z\\right)-\\frac{\\partial }{\\partial y}\\frac{\\partial }{\\partial x}\\mathrm{Az}\\left(t,x,y,z\\right)-\\frac{\\partial }{\\partial z}\\frac{\\partial }{\\partial y}\\mathrm{Ax}\\left(t,x,y,z\\right)+\\frac{\\partial }{\\partial x}\\frac{\\partial }{\\partial y}\\mathrm{Az}\\left(t,x,y,z\\right)+\\frac{\\partial }{\\partial y}\\frac{\\partial }{\\partial z}\\mathrm{Ax}\\left(t,x,y,z\\right)-\\frac{\\partial }{\\partial x}\\frac{\\partial }{\\partial z}\\mathrm{Ay}\\left(t,x,y,z\\right)$"
      ],
      "text/plain": [
       "<IPython.core.display.Math object>"
      ]
     },
     "metadata": {},
     "output_type": "display_data"
    },
    {
     "data": {
      "text/latex": [
       "$\\displaystyle {BI}{}_{3\n",
       "}{}_{0\n",
       "}{}_{1\n",
       "} = \\mathrm{Az}^{\\left(1,2\\right)}\\left(t,x,y,z\\right)+\\frac{\\partial }{\\partial z}\\frac{\\partial }{\\partial x}\\phi\\left(t,x,y,z\\right)-\\frac{\\partial }{\\partial t}\\frac{\\partial }{\\partial z}\\mathrm{Ax}\\left(t,x,y,z\\right)-\\frac{\\partial }{\\partial x}\\frac{\\partial }{\\partial z}\\phi\\left(t,x,y,z\\right)+\\frac{\\partial }{\\partial z}\\frac{\\partial }{\\partial t}\\mathrm{Ax}\\left(t,x,y,z\\right)-\\frac{\\partial }{\\partial x}\\frac{\\partial }{\\partial t}\\mathrm{Az}\\left(t,x,y,z\\right)$"
      ],
      "text/plain": [
       "<IPython.core.display.Math object>"
      ]
     },
     "metadata": {},
     "output_type": "display_data"
    },
    {
     "data": {
      "text/latex": [
       "$\\displaystyle {BI}{}_{3\n",
       "}{}_{0\n",
       "}{}_{2\n",
       "} = \\mathrm{Az}^{\\left(1,3\\right)}\\left(t,x,y,z\\right)+\\frac{\\partial }{\\partial z}\\frac{\\partial }{\\partial y}\\phi\\left(t,x,y,z\\right)-\\frac{\\partial }{\\partial t}\\frac{\\partial }{\\partial z}\\mathrm{Ay}\\left(t,x,y,z\\right)-\\frac{\\partial }{\\partial y}\\frac{\\partial }{\\partial z}\\phi\\left(t,x,y,z\\right)+\\frac{\\partial }{\\partial z}\\frac{\\partial }{\\partial t}\\mathrm{Ay}\\left(t,x,y,z\\right)-\\frac{\\partial }{\\partial y}\\frac{\\partial }{\\partial t}\\mathrm{Az}\\left(t,x,y,z\\right)$"
      ],
      "text/plain": [
       "<IPython.core.display.Math object>"
      ]
     },
     "metadata": {},
     "output_type": "display_data"
    },
    {
     "data": {
      "text/latex": [
       "$\\displaystyle {BI}{}_{3\n",
       "}{}_{1\n",
       "}{}_{0\n",
       "} = -\\frac{\\partial }{\\partial z}\\frac{\\partial }{\\partial t}\\mathrm{Ax}\\left(t,x,y,z\\right)+\\frac{\\partial }{\\partial x}\\frac{\\partial }{\\partial t}\\mathrm{Az}\\left(t,x,y,z\\right)+\\frac{\\partial }{\\partial t}\\frac{\\partial }{\\partial z}\\mathrm{Ax}\\left(t,x,y,z\\right)+\\frac{\\partial }{\\partial x}\\frac{\\partial }{\\partial z}\\phi\\left(t,x,y,z\\right)-\\frac{\\partial }{\\partial t}\\frac{\\partial }{\\partial x}\\mathrm{Az}\\left(t,x,y,z\\right)-\\frac{\\partial }{\\partial z}\\frac{\\partial }{\\partial x}\\phi\\left(t,x,y,z\\right)$"
      ],
      "text/plain": [
       "<IPython.core.display.Math object>"
      ]
     },
     "metadata": {},
     "output_type": "display_data"
    },
    {
     "data": {
      "text/latex": [
       "$\\displaystyle {BI}{}_{3\n",
       "}{}_{1\n",
       "}{}_{2\n",
       "} = -\\frac{\\partial }{\\partial z}\\frac{\\partial }{\\partial y}\\mathrm{Ax}\\left(t,x,y,z\\right)+\\frac{\\partial }{\\partial x}\\frac{\\partial }{\\partial y}\\mathrm{Az}\\left(t,x,y,z\\right)+\\frac{\\partial }{\\partial y}\\frac{\\partial }{\\partial z}\\mathrm{Ax}\\left(t,x,y,z\\right)-\\frac{\\partial }{\\partial x}\\frac{\\partial }{\\partial z}\\mathrm{Ay}\\left(t,x,y,z\\right)+\\frac{\\partial }{\\partial z}\\frac{\\partial }{\\partial x}\\mathrm{Ay}\\left(t,x,y,z\\right)-\\frac{\\partial }{\\partial y}\\frac{\\partial }{\\partial x}\\mathrm{Az}\\left(t,x,y,z\\right)$"
      ],
      "text/plain": [
       "<IPython.core.display.Math object>"
      ]
     },
     "metadata": {},
     "output_type": "display_data"
    },
    {
     "data": {
      "text/latex": [
       "$\\displaystyle {BI}{}_{3\n",
       "}{}_{2\n",
       "}{}_{0\n",
       "} = -\\frac{\\partial }{\\partial z}\\frac{\\partial }{\\partial t}\\mathrm{Ay}\\left(t,x,y,z\\right)+\\frac{\\partial }{\\partial y}\\frac{\\partial }{\\partial t}\\mathrm{Az}\\left(t,x,y,z\\right)+\\frac{\\partial }{\\partial t}\\frac{\\partial }{\\partial z}\\mathrm{Ay}\\left(t,x,y,z\\right)+\\frac{\\partial }{\\partial y}\\frac{\\partial }{\\partial z}\\phi\\left(t,x,y,z\\right)-\\frac{\\partial }{\\partial t}\\frac{\\partial }{\\partial y}\\mathrm{Az}\\left(t,x,y,z\\right)-\\frac{\\partial }{\\partial z}\\frac{\\partial }{\\partial y}\\phi\\left(t,x,y,z\\right)$"
      ],
      "text/plain": [
       "<IPython.core.display.Math object>"
      ]
     },
     "metadata": {},
     "output_type": "display_data"
    },
    {
     "data": {
      "text/latex": [
       "$\\displaystyle {BI}{}_{3\n",
       "}{}_{2\n",
       "}{}_{1\n",
       "} = -\\frac{\\partial }{\\partial z}\\frac{\\partial }{\\partial x}\\mathrm{Ay}\\left(t,x,y,z\\right)+\\frac{\\partial }{\\partial y}\\frac{\\partial }{\\partial x}\\mathrm{Az}\\left(t,x,y,z\\right)-\\frac{\\partial }{\\partial y}\\frac{\\partial }{\\partial z}\\mathrm{Ax}\\left(t,x,y,z\\right)+\\frac{\\partial }{\\partial x}\\frac{\\partial }{\\partial z}\\mathrm{Ay}\\left(t,x,y,z\\right)+\\frac{\\partial }{\\partial z}\\frac{\\partial }{\\partial y}\\mathrm{Ax}\\left(t,x,y,z\\right)-\\frac{\\partial }{\\partial x}\\frac{\\partial }{\\partial y}\\mathrm{Az}\\left(t,x,y,z\\right)$"
      ],
      "text/plain": [
       "<IPython.core.display.Math object>"
      ]
     },
     "metadata": {},
     "output_type": "display_data"
    }
   ],
   "source": [
    "BI = pt.new_ten('BI',3)\n",
    "\n",
    "BI_dat = pt.D(F('_a,_b'),'_c') + pt.D(F('_b,_c'),'_a') + pt.D(F('_c,_a'),'_b')\n",
    "\n",
    "BI.assign(BI_dat,'_a,_b,_c')\n",
    "\n",
    "BI.factor()\n",
    "\n",
    "BI.display()"
   ]
  },
  {
   "cell_type": "markdown",
   "metadata": {},
   "source": [
    "## Maxwell's Equations"
   ]
  },
  {
   "cell_type": "markdown",
   "metadata": {},
   "source": [
    "We can replace the elements of a tensor. For example, with arbitrary functions."
   ]
  },
  {
   "cell_type": "code",
   "execution_count": 25,
   "metadata": {},
   "outputs": [],
   "source": [
    "Ex = pt.new_fun('Ex','t,x,y,z')\n",
    "Ey = pt.new_fun('Ey','t,x,y,z')\n",
    "Ez = pt.new_fun('Ez','t,x,y,z')\n",
    "\n",
    "Bx = pt.new_fun('Bx','t,x,y,z')\n",
    "By = pt.new_fun('By','t,x,y,z')\n",
    "Bz = pt.new_fun('Bz','t,x,y,z')"
   ]
  },
  {
   "cell_type": "code",
   "execution_count": 26,
   "metadata": {},
   "outputs": [],
   "source": [
    "F_simplified = [[0,-Ex,-Ey,-Ez],[Ex,0,-Bz,By],[Ey,Bz,0,-Bx],[Ez,-By,Bx,0]]"
   ]
  },
  {
   "cell_type": "code",
   "execution_count": 27,
   "metadata": {},
   "outputs": [
    {
     "name": "stdout",
     "output_type": "stream",
     "text": [
      "Elements assigned correctly to the components ^,^\n"
     ]
    },
    {
     "data": {
      "text/latex": [
       "$\\displaystyle \\left(\\begin{array}{cccc}0&-\\mathrm{Ex}\\left(t,x,y,z\\right)&-\\mathrm{Ey}\\left(t,x,y,z\\right)&-\\mathrm{Ez}\\left(t,x,y,z\\right)\\\\\\mathrm{Ex}\\left(t,x,y,z\\right)&0&-\\mathrm{Bz}\\left(t,x,y,z\\right)&\\mathrm{By}\\left(t,x,y,z\\right)\\\\\\mathrm{Ey}\\left(t,x,y,z\\right)&\\mathrm{Bz}\\left(t,x,y,z\\right)&0&-\\mathrm{Bx}\\left(t,x,y,z\\right)\\\\\\mathrm{Ez}\\left(t,x,y,z\\right)&-\\mathrm{By}\\left(t,x,y,z\\right)&\\mathrm{Bx}\\left(t,x,y,z\\right)&0\\end{array}\\right)\n",
       "$"
      ],
      "text/plain": [
       "<IPython.core.display.Math object>"
      ]
     },
     "metadata": {},
     "output_type": "display_data"
    }
   ],
   "source": [
    "F.assign(F_simplified,'^,^')\n",
    "F.display('^,^')"
   ]
  },
  {
   "cell_type": "code",
   "execution_count": 28,
   "metadata": {},
   "outputs": [
    {
     "data": {
      "text/latex": [
       "$\\displaystyle \\left(\\begin{array}{c}\\frac{\\partial }{\\partial x}\\mathrm{Ex}\\left(t,x,y,z\\right)+\\frac{\\partial }{\\partial y}\\mathrm{Ey}\\left(t,x,y,z\\right)+\\frac{\\partial }{\\partial z}\\mathrm{Ez}\\left(t,x,y,z\\right)\\\\-\\frac{\\partial }{\\partial t}\\mathrm{Ex}\\left(t,x,y,z\\right)+\\frac{\\partial }{\\partial y}\\mathrm{Bz}\\left(t,x,y,z\\right)-\\frac{\\partial }{\\partial z}\\mathrm{By}\\left(t,x,y,z\\right)\\\\-\\frac{\\partial }{\\partial t}\\mathrm{Ey}\\left(t,x,y,z\\right)-\\frac{\\partial }{\\partial x}\\mathrm{Bz}\\left(t,x,y,z\\right)+\\frac{\\partial }{\\partial z}\\mathrm{Bx}\\left(t,x,y,z\\right)\\\\-\\frac{\\partial }{\\partial t}\\mathrm{Ez}\\left(t,x,y,z\\right)+\\frac{\\partial }{\\partial x}\\mathrm{By}\\left(t,x,y,z\\right)-\\frac{\\partial }{\\partial y}\\mathrm{Bx}\\left(t,x,y,z\\right)\\end{array}\\right)\n",
       "$"
      ],
      "text/plain": [
       "<IPython.core.display.Math object>"
      ]
     },
     "metadata": {},
     "output_type": "display_data"
    }
   ],
   "source": [
    "J_left = pt.new_ten('J',1)\n",
    "J_dat_l = pt.D(F('^mu,^nu'),'_mu')\n",
    "\n",
    "J_left.assign(J_dat_l,'^nu')\n",
    "\n",
    "J_left.display('^')"
   ]
  },
  {
   "cell_type": "markdown",
   "metadata": {},
   "source": [
    "This is consistent with "
   ]
  },
  {
   "cell_type": "code",
   "execution_count": 29,
   "metadata": {},
   "outputs": [],
   "source": [
    "rho = pt.new_fun('rho','t,x,y,z')\n",
    "\n",
    "Jx = pt.new_fun('Jx','t,x,y,z')\n",
    "Jy = pt.new_fun('Jy','t,x,y,z')\n",
    "Jz = pt.new_fun('Jz','t,x,y,z')"
   ]
  },
  {
   "cell_type": "code",
   "execution_count": 35,
   "metadata": {},
   "outputs": [
    {
     "name": "stdout",
     "output_type": "stream",
     "text": [
      "Elements assigned correctly to the components ^\n"
     ]
    },
    {
     "data": {
      "text/latex": [
       "$\\displaystyle \\left(\\begin{array}{c}\\rho\\left(t,x,y,z\\right)\\\\\\mathrm{Jx}\\left(t,x,y,z\\right)\\\\\\mathrm{Jy}\\left(t,x,y,z\\right)\\\\\\mathrm{Jz}\\left(t,x,y,z\\right)\\end{array}\\right)\n",
       "$"
      ],
      "text/plain": [
       "<IPython.core.display.Math object>"
      ]
     },
     "metadata": {},
     "output_type": "display_data"
    }
   ],
   "source": [
    "J_right = pt.new_ten('J',1)\n",
    "\n",
    "J_dat_r = [rho,Jx,Jy,Jz]\n",
    "\n",
    "J_right.assign(J_dat_r,'^')\n",
    "\n",
    "J_right.display('^')"
   ]
  },
  {
   "cell_type": "code",
   "execution_count": 36,
   "metadata": {},
   "outputs": [
    {
     "name": "stdout",
     "output_type": "stream",
     "text": [
      "These are the Maxwell's Equations\n"
     ]
    },
    {
     "data": {
      "text/latex": [
       "$\\displaystyle \\left(\\begin{array}{c}\\rho\\left(t,x,y,z\\right)\\\\\\mathrm{Jx}\\left(t,x,y,z\\right)\\\\\\mathrm{Jy}\\left(t,x,y,z\\right)\\\\\\mathrm{Jz}\\left(t,x,y,z\\right)\\end{array}\\right)\n",
       "$"
      ],
      "text/plain": [
       "<IPython.core.display.Math object>"
      ]
     },
     "metadata": {},
     "output_type": "display_data"
    }
   ],
   "source": [
    "print(\"These are the Maxwell's Equations\")\n",
    "\n",
    "J_right.display('^')"
   ]
  },
  {
   "cell_type": "code",
   "execution_count": 37,
   "metadata": {},
   "outputs": [
    {
     "data": {
      "text/latex": [
       "$\\displaystyle \\left(\\begin{array}{c}\\frac{\\partial }{\\partial x}\\mathrm{Ex}\\left(t,x,y,z\\right)+\\frac{\\partial }{\\partial y}\\mathrm{Ey}\\left(t,x,y,z\\right)+\\frac{\\partial }{\\partial z}\\mathrm{Ez}\\left(t,x,y,z\\right)\\\\-\\frac{\\partial }{\\partial t}\\mathrm{Ex}\\left(t,x,y,z\\right)+\\frac{\\partial }{\\partial y}\\mathrm{Bz}\\left(t,x,y,z\\right)-\\frac{\\partial }{\\partial z}\\mathrm{By}\\left(t,x,y,z\\right)\\\\-\\frac{\\partial }{\\partial t}\\mathrm{Ey}\\left(t,x,y,z\\right)-\\frac{\\partial }{\\partial x}\\mathrm{Bz}\\left(t,x,y,z\\right)+\\frac{\\partial }{\\partial z}\\mathrm{Bx}\\left(t,x,y,z\\right)\\\\-\\frac{\\partial }{\\partial t}\\mathrm{Ez}\\left(t,x,y,z\\right)+\\frac{\\partial }{\\partial x}\\mathrm{By}\\left(t,x,y,z\\right)-\\frac{\\partial }{\\partial y}\\mathrm{Bx}\\left(t,x,y,z\\right)\\end{array}\\right)\n",
       "$"
      ],
      "text/plain": [
       "<IPython.core.display.Math object>"
      ]
     },
     "metadata": {},
     "output_type": "display_data"
    }
   ],
   "source": [
    "J_left.display('^')"
   ]
  },
  {
   "cell_type": "code",
   "execution_count": null,
   "metadata": {},
   "outputs": [],
   "source": []
  }
 ],
 "metadata": {
  "kernelspec": {
   "display_name": "Python 3",
   "language": "python",
   "name": "python3"
  },
  "language_info": {
   "codemirror_mode": {
    "name": "ipython",
    "version": 3
   },
   "file_extension": ".py",
   "mimetype": "text/x-python",
   "name": "python",
   "nbconvert_exporter": "python",
   "pygments_lexer": "ipython3",
   "version": "3.8.8"
  }
 },
 "nbformat": 4,
 "nbformat_minor": 4
}
