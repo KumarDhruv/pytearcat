{
 "cells": [
  {
   "cell_type": "code",
   "execution_count": 1,
   "metadata": {},
   "outputs": [],
   "source": [
    "import pytearcat as pt\n",
    "import sympy as sp"
   ]
  },
  {
   "cell_type": "code",
   "execution_count": 2,
   "metadata": {},
   "outputs": [
    {
     "name": "stdout",
     "output_type": "stream",
     "text": [
      "Remember that the time coordinate must be the first coordinate.\n",
      "en metric: t,x,y,z\n",
      "\n",
      "Dimension = 4\n",
      "Coordinates = t,x,y,z\n",
      "Metric was defined successfully: \n",
      "\n"
     ]
    },
    {
     "data": {
      "text/latex": [
       "$\\displaystyle ds^2 = 1 \\cdot dt^2-1 \\cdot dx^2-1 \\cdot dy^2-1 \\cdot dz^2$"
      ],
      "text/plain": [
       "<IPython.core.display.Math object>"
      ]
     },
     "metadata": {},
     "output_type": "display_data"
    },
    {
     "data": {
      "text/latex": [
       "$\\displaystyle \\left[\\begin{matrix}1 & 0 & 0 & 0\\\\0 & -1 & 0 & 0\\\\0 & 0 & -1 & 0\\\\0 & 0 & 0 & -1\\end{matrix}\\right]$"
      ],
      "text/plain": [
       "Matrix([\n",
       "[1,  0,  0,  0],\n",
       "[0, -1,  0,  0],\n",
       "[0,  0, -1,  0],\n",
       "[0,  0,  0, -1]])"
      ]
     },
     "metadata": {},
     "output_type": "display_data"
    }
   ],
   "source": [
    "# Define the coordinates to be used\n",
    "t,x,y,z = pt.def_coords('t,x,y,z')\n",
    "# Define any constant (more than one constant can be defined at the same time)\n",
    "c = pt.new_con('c')\n",
    "Ax = pt.new_fun('Ax','t,x,y,z')\n",
    "Ay = pt.new_fun('Ay','t,x,y,z')\n",
    "Az = pt.new_fun('Az','t,x,y,z')\n",
    "phi = pt.new_fun('phi','t,x,y,z')\n",
    "g = pt.create_metric('ds2 = +dt**2 + -(dx**2 + dy**2 + dz**2)')"
   ]
  },
  {
   "cell_type": "code",
   "execution_count": 3,
   "metadata": {},
   "outputs": [
    {
     "name": "stdout",
     "output_type": "stream",
     "text": [
      "Elements assigned correctly to the components ^\n"
     ]
    },
    {
     "data": {
      "text/latex": [
       "$\\displaystyle \\left[\\begin{matrix}\\phi{\\left(t,x,y,z \\right)}\\\\\\operatorname{Ax}{\\left(t,x,y,z \\right)}\\\\\\operatorname{Ay}{\\left(t,x,y,z \\right)}\\\\\\operatorname{Az}{\\left(t,x,y,z \\right)}\\end{matrix}\\right]$"
      ],
      "text/plain": [
       "⎡φ(t, x, y, z) ⎤\n",
       "⎢              ⎥\n",
       "⎢Ax(t, x, y, z)⎥\n",
       "⎢              ⎥\n",
       "⎢Ay(t, x, y, z)⎥\n",
       "⎢              ⎥\n",
       "⎣Az(t, x, y, z)⎦"
      ]
     },
     "metadata": {},
     "output_type": "display_data"
    }
   ],
   "source": [
    "A = pt.new_ten('A',1)\n",
    "\n",
    "A.assign([phi,Ax,Ay,Az],'^')\n",
    "\n",
    "A.display('^')"
   ]
  },
  {
   "cell_type": "code",
   "execution_count": 4,
   "metadata": {
    "scrolled": false
   },
   "outputs": [
    {
     "data": {
      "text/latex": [
       "$\\displaystyle \\left[\\begin{matrix}0 & \\frac{\\partial}{\\partial t} \\operatorname{Ax}{\\left(t,x,y,z \\right)} + \\frac{\\partial}{\\partial x} \\phi{\\left(t,x,y,z \\right)} & \\frac{\\partial}{\\partial t} \\operatorname{Ay}{\\left(t,x,y,z \\right)} + \\frac{\\partial}{\\partial y} \\phi{\\left(t,x,y,z \\right)} & \\frac{\\partial}{\\partial t} \\operatorname{Az}{\\left(t,x,y,z \\right)} + \\frac{\\partial}{\\partial z} \\phi{\\left(t,x,y,z \\right)}\\\\- \\frac{\\partial}{\\partial t} \\operatorname{Ax}{\\left(t,x,y,z \\right)} - \\frac{\\partial}{\\partial x} \\phi{\\left(t,x,y,z \\right)} & 0 & \\frac{\\partial}{\\partial y} \\operatorname{Ax}{\\left(t,x,y,z \\right)} - \\frac{\\partial}{\\partial x} \\operatorname{Ay}{\\left(t,x,y,z \\right)} & \\frac{\\partial}{\\partial z} \\operatorname{Ax}{\\left(t,x,y,z \\right)} - \\frac{\\partial}{\\partial x} \\operatorname{Az}{\\left(t,x,y,z \\right)}\\\\- \\frac{\\partial}{\\partial t} \\operatorname{Ay}{\\left(t,x,y,z \\right)} - \\frac{\\partial}{\\partial y} \\phi{\\left(t,x,y,z \\right)} & - \\frac{\\partial}{\\partial y} \\operatorname{Ax}{\\left(t,x,y,z \\right)} + \\frac{\\partial}{\\partial x} \\operatorname{Ay}{\\left(t,x,y,z \\right)} & 0 & \\frac{\\partial}{\\partial z} \\operatorname{Ay}{\\left(t,x,y,z \\right)} - \\frac{\\partial}{\\partial y} \\operatorname{Az}{\\left(t,x,y,z \\right)}\\\\- \\frac{\\partial}{\\partial t} \\operatorname{Az}{\\left(t,x,y,z \\right)} - \\frac{\\partial}{\\partial z} \\phi{\\left(t,x,y,z \\right)} & - \\frac{\\partial}{\\partial z} \\operatorname{Ax}{\\left(t,x,y,z \\right)} + \\frac{\\partial}{\\partial x} \\operatorname{Az}{\\left(t,x,y,z \\right)} & - \\frac{\\partial}{\\partial z} \\operatorname{Ay}{\\left(t,x,y,z \\right)} + \\frac{\\partial}{\\partial y} \\operatorname{Az}{\\left(t,x,y,z \\right)} & 0\\end{matrix}\\right]$"
      ],
      "text/plain": [
       "⎡                                           ∂                    ∂            \n",
       "⎢                   0                       ──(Ax(t, x, y, z)) + ──(φ(t, x, y,\n",
       "⎢                                           ∂t                   ∂x           \n",
       "⎢                                                                             \n",
       "⎢  ∂                    ∂                                                     \n",
       "⎢- ──(Ax(t, x, y, z)) - ──(φ(t, x, y, z))                      0              \n",
       "⎢  ∂t                   ∂x                                                    \n",
       "⎢                                                                             \n",
       "⎢  ∂                    ∂                    ∂                    ∂           \n",
       "⎢- ──(Ay(t, x, y, z)) - ──(φ(t, x, y, z))  - ──(Ax(t, x, y, z)) + ──(Ay(t, x, \n",
       "⎢  ∂t                   ∂y                   ∂y                   ∂x          \n",
       "⎢                                                                             \n",
       "⎢  ∂                    ∂                    ∂                    ∂           \n",
       "⎢- ──(Az(t, x, y, z)) - ──(φ(t, x, y, z))  - ──(Ax(t, x, y, z)) + ──(Az(t, x, \n",
       "⎣  ∂t                   ∂z                   ∂z                   ∂x          \n",
       "\n",
       "         ∂                    ∂                    ∂                    ∂     \n",
       " z))     ──(Ay(t, x, y, z)) + ──(φ(t, x, y, z))    ──(Az(t, x, y, z)) + ──(φ(t\n",
       "         ∂t                   ∂y                   ∂t                   ∂z    \n",
       "                                                                              \n",
       "         ∂                    ∂                    ∂                    ∂     \n",
       "         ──(Ax(t, x, y, z)) - ──(Ay(t, x, y, z))   ──(Ax(t, x, y, z)) - ──(Az(\n",
       "         ∂y                   ∂x                   ∂z                   ∂x    \n",
       "                                                                              \n",
       "                                                   ∂                    ∂     \n",
       "y, z))                      0                      ──(Ay(t, x, y, z)) - ──(Az(\n",
       "                                                   ∂z                   ∂y    \n",
       "                                                                              \n",
       "          ∂                    ∂                                              \n",
       "y, z))  - ──(Ay(t, x, y, z)) + ──(Az(t, x, y, z))                     0       \n",
       "          ∂z                   ∂y                                             \n",
       "\n",
       "            ⎤\n",
       ", x, y, z)) ⎥\n",
       "            ⎥\n",
       "            ⎥\n",
       "            ⎥\n",
       "t, x, y, z))⎥\n",
       "            ⎥\n",
       "            ⎥\n",
       "            ⎥\n",
       "t, x, y, z))⎥\n",
       "            ⎥\n",
       "            ⎥\n",
       "            ⎥\n",
       "            ⎥\n",
       "            ⎦"
      ]
     },
     "metadata": {},
     "output_type": "display_data"
    }
   ],
   "source": [
    "F = pt.new_ten('F',2)\n",
    "\n",
    "F.assign(pt.D(A('^nu'),'^mu')-pt.D(A('^mu'),'^nu'),\"^mu,^nu\")\n",
    "\n",
    "# One could also save the result of a tensor operation in a variable\n",
    "# For example: F_value = pt.D(A('^nu'),'^mu')-pt.D(A('^mu'),'^nu')\n",
    "# And then, to assing that value to the tensor: \n",
    "# F.assign(F_value,'^mu,^nu')\n",
    "\n",
    "F.display('^,^')"
   ]
  },
  {
   "cell_type": "code",
   "execution_count": 5,
   "metadata": {},
   "outputs": [
    {
     "data": {
      "application/vnd.jupyter.widget-view+json": {
       "model_id": "4d17a9d28cf14722af41b7d4b6c811d6",
       "version_major": 2,
       "version_minor": 0
      },
      "text/plain": [
       "F Tensor $F{_\\alpha}{^\\beta}$:   0%|          | 0/16 [00:00<?, ?it/s]"
      ]
     },
     "metadata": {},
     "output_type": "display_data"
    },
    {
     "data": {
      "application/vnd.jupyter.widget-view+json": {
       "model_id": "f542aaadcd1f4344985b33905ad6471c",
       "version_major": 2,
       "version_minor": 0
      },
      "text/plain": [
       "F Tensor $F{_\\alpha}{_\\beta}$:   0%|          | 0/16 [00:00<?, ?it/s]"
      ]
     },
     "metadata": {},
     "output_type": "display_data"
    },
    {
     "data": {
      "application/vnd.jupyter.widget-view+json": {
       "model_id": "3b0f25d203e84d7cbcc56e6d6181be2b",
       "version_major": 2,
       "version_minor": 0
      },
      "text/plain": [
       "F Tensor $F{^\\alpha}{_\\beta}$:   0%|          | 0/16 [00:00<?, ?it/s]"
      ]
     },
     "metadata": {},
     "output_type": "display_data"
    },
    {
     "data": {
      "text/latex": [
       "All other indexes of F Tensor $F$  already calculated."
      ],
      "text/plain": [
       "<IPython.core.display.Latex object>"
      ]
     },
     "metadata": {},
     "output_type": "display_data"
    },
    {
     "data": {
      "text/latex": [
       "$\\displaystyle - 2 \\left(\\frac{\\partial}{\\partial t} \\operatorname{Ax}{\\left(t,x,y,z \\right)} + \\frac{\\partial}{\\partial x} \\phi{\\left(t,x,y,z \\right)}\\right)^{2} + 2 \\left(\\frac{\\partial}{\\partial y} \\operatorname{Ax}{\\left(t,x,y,z \\right)} - \\frac{\\partial}{\\partial x} \\operatorname{Ay}{\\left(t,x,y,z \\right)}\\right)^{2} + 2 \\left(\\frac{\\partial}{\\partial z} \\operatorname{Ax}{\\left(t,x,y,z \\right)} - \\frac{\\partial}{\\partial x} \\operatorname{Az}{\\left(t,x,y,z \\right)}\\right)^{2} - 2 \\left(\\frac{\\partial}{\\partial t} \\operatorname{Ay}{\\left(t,x,y,z \\right)} + \\frac{\\partial}{\\partial y} \\phi{\\left(t,x,y,z \\right)}\\right)^{2} + 2 \\left(\\frac{\\partial}{\\partial z} \\operatorname{Ay}{\\left(t,x,y,z \\right)} - \\frac{\\partial}{\\partial y} \\operatorname{Az}{\\left(t,x,y,z \\right)}\\right)^{2} - 2 \\left(\\frac{\\partial}{\\partial t} \\operatorname{Az}{\\left(t,x,y,z \\right)} + \\frac{\\partial}{\\partial z} \\phi{\\left(t,x,y,z \\right)}\\right)^{2}$"
      ],
      "text/plain": [
       "                                            2                                 \n",
       "    ⎛∂                    ∂                ⎞      ⎛∂                    ∂     \n",
       "- 2⋅⎜──(Ax(t, x, y, z)) + ──(φ(t, x, y, z))⎟  + 2⋅⎜──(Ax(t, x, y, z)) - ──(Ay(\n",
       "    ⎝∂t                   ∂x               ⎠      ⎝∂y                   ∂x    \n",
       "\n",
       "             2                                              2                 \n",
       "            ⎞      ⎛∂                    ∂                 ⎞      ⎛∂          \n",
       "t, x, y, z))⎟  + 2⋅⎜──(Ax(t, x, y, z)) - ──(Az(t, x, y, z))⎟  - 2⋅⎜──(Ay(t, x,\n",
       "            ⎠      ⎝∂z                   ∂x                ⎠      ⎝∂t         \n",
       "\n",
       "                            2                                              2  \n",
       "          ∂                ⎞      ⎛∂                    ∂                 ⎞   \n",
       " y, z)) + ──(φ(t, x, y, z))⎟  + 2⋅⎜──(Ay(t, x, y, z)) - ──(Az(t, x, y, z))⎟  -\n",
       "          ∂y               ⎠      ⎝∂z                   ∂y                ⎠   \n",
       "\n",
       "                                           2\n",
       "   ⎛∂                    ∂                ⎞ \n",
       " 2⋅⎜──(Az(t, x, y, z)) + ──(φ(t, x, y, z))⎟ \n",
       "   ⎝∂t                   ∂z               ⎠ "
      ]
     },
     "execution_count": 5,
     "metadata": {},
     "output_type": "execute_result"
    }
   ],
   "source": [
    "F.indexcomb('^,^')\n",
    "\n",
    "sp.simplify(F(\"_mu,_nu\")*F(\"^mu,^nu\"))"
   ]
  },
  {
   "cell_type": "markdown",
   "metadata": {},
   "source": [
    "This is the of the inner product of the electromagnetic tensor\n",
    "\n",
    "$$F_{\\mu\\nu}F^{\\mu\\nu} = 2\\left(B^2-E^2\\right)$$"
   ]
  },
  {
   "cell_type": "markdown",
   "metadata": {},
   "source": [
    "### PseudoScalar Invariant"
   ]
  },
  {
   "cell_type": "code",
   "execution_count": 6,
   "metadata": {},
   "outputs": [],
   "source": [
    "LC = pt.LeviCivita(convention=-1)"
   ]
  },
  {
   "cell_type": "code",
   "execution_count": 7,
   "metadata": {},
   "outputs": [],
   "source": [
    "I = (1/2)*LC('_alpha,_beta,_gamma,_delta')*F('^alpha,^beta')*F('^gamma,^delta')"
   ]
  },
  {
   "cell_type": "code",
   "execution_count": 8,
   "metadata": {},
   "outputs": [
    {
     "data": {
      "text/latex": [
       "$\\displaystyle - 4.0 \\left(\\frac{\\partial}{\\partial t} \\operatorname{Ax}{\\left(t,x,y,z \\right)} + \\frac{\\partial}{\\partial x} \\phi{\\left(t,x,y,z \\right)}\\right) \\left(\\frac{\\partial}{\\partial z} \\operatorname{Ay}{\\left(t,x,y,z \\right)} - \\frac{\\partial}{\\partial y} \\operatorname{Az}{\\left(t,x,y,z \\right)}\\right) - 4.0 \\left(\\frac{\\partial}{\\partial y} \\operatorname{Ax}{\\left(t,x,y,z \\right)} - \\frac{\\partial}{\\partial x} \\operatorname{Ay}{\\left(t,x,y,z \\right)}\\right) \\left(\\frac{\\partial}{\\partial t} \\operatorname{Az}{\\left(t,x,y,z \\right)} + \\frac{\\partial}{\\partial z} \\phi{\\left(t,x,y,z \\right)}\\right) + 4.0 \\left(\\frac{\\partial}{\\partial z} \\operatorname{Ax}{\\left(t,x,y,z \\right)} - \\frac{\\partial}{\\partial x} \\operatorname{Az}{\\left(t,x,y,z \\right)}\\right) \\left(\\frac{\\partial}{\\partial t} \\operatorname{Ay}{\\left(t,x,y,z \\right)} + \\frac{\\partial}{\\partial y} \\phi{\\left(t,x,y,z \\right)}\\right)$"
      ],
      "text/plain": [
       "<IPython.core.display.Math object>"
      ]
     },
     "metadata": {},
     "output_type": "display_data"
    }
   ],
   "source": [
    "pt.display(I.simplify())"
   ]
  },
  {
   "cell_type": "markdown",
   "metadata": {},
   "source": [
    "This gives $$-4\\vec{B}\\cdot\\vec{E}$$"
   ]
  },
  {
   "cell_type": "code",
   "execution_count": 9,
   "metadata": {},
   "outputs": [
    {
     "data": {
      "text/latex": [
       "$\\displaystyle \\left[\\begin{matrix}0 & - 1.0 \\frac{\\partial}{\\partial z} \\operatorname{Ay}{\\left(t,x,y,z \\right)} + 1.0 \\frac{\\partial}{\\partial y} \\operatorname{Az}{\\left(t,x,y,z \\right)} & 1.0 \\frac{\\partial}{\\partial z} \\operatorname{Ax}{\\left(t,x,y,z \\right)} - 1.0 \\frac{\\partial}{\\partial x} \\operatorname{Az}{\\left(t,x,y,z \\right)} & - 1.0 \\frac{\\partial}{\\partial y} \\operatorname{Ax}{\\left(t,x,y,z \\right)} + 1.0 \\frac{\\partial}{\\partial x} \\operatorname{Ay}{\\left(t,x,y,z \\right)}\\\\1.0 \\frac{\\partial}{\\partial z} \\operatorname{Ay}{\\left(t,x,y,z \\right)} - 1.0 \\frac{\\partial}{\\partial y} \\operatorname{Az}{\\left(t,x,y,z \\right)} & 0 & 1.0 \\frac{\\partial}{\\partial t} \\operatorname{Az}{\\left(t,x,y,z \\right)} + 1.0 \\frac{\\partial}{\\partial z} \\phi{\\left(t,x,y,z \\right)} & - 1.0 \\frac{\\partial}{\\partial t} \\operatorname{Ay}{\\left(t,x,y,z \\right)} - 1.0 \\frac{\\partial}{\\partial y} \\phi{\\left(t,x,y,z \\right)}\\\\- 1.0 \\frac{\\partial}{\\partial z} \\operatorname{Ax}{\\left(t,x,y,z \\right)} + 1.0 \\frac{\\partial}{\\partial x} \\operatorname{Az}{\\left(t,x,y,z \\right)} & - 1.0 \\frac{\\partial}{\\partial t} \\operatorname{Az}{\\left(t,x,y,z \\right)} - 1.0 \\frac{\\partial}{\\partial z} \\phi{\\left(t,x,y,z \\right)} & 0 & 1.0 \\frac{\\partial}{\\partial t} \\operatorname{Ax}{\\left(t,x,y,z \\right)} + 1.0 \\frac{\\partial}{\\partial x} \\phi{\\left(t,x,y,z \\right)}\\\\1.0 \\frac{\\partial}{\\partial y} \\operatorname{Ax}{\\left(t,x,y,z \\right)} - 1.0 \\frac{\\partial}{\\partial x} \\operatorname{Ay}{\\left(t,x,y,z \\right)} & 1.0 \\frac{\\partial}{\\partial t} \\operatorname{Ay}{\\left(t,x,y,z \\right)} + 1.0 \\frac{\\partial}{\\partial y} \\phi{\\left(t,x,y,z \\right)} & - 1.0 \\frac{\\partial}{\\partial t} \\operatorname{Ax}{\\left(t,x,y,z \\right)} - 1.0 \\frac{\\partial}{\\partial x} \\phi{\\left(t,x,y,z \\right)} & 0\\end{matrix}\\right]$"
      ],
      "text/plain": [
       "⎡                                                 ∂                        ∂  \n",
       "⎢                      0                        - ──(Ay(t, x, y, z)) + 1.0⋅──(\n",
       "⎢                                                 ∂z                       ∂y \n",
       "⎢                                                                             \n",
       "⎢     ∂                    ∂                                                  \n",
       "⎢ 1.0⋅──(Ay(t, x, y, z)) - ──(Az(t, x, y, z))                         0       \n",
       "⎢     ∂z                   ∂y                                                 \n",
       "⎢                                                                             \n",
       "⎢  ∂                        ∂                        ∂                    ∂   \n",
       "⎢- ──(Ax(t, x, y, z)) + 1.0⋅──(Az(t, x, y, z))     - ──(Az(t, x, y, z)) - ──(φ\n",
       "⎢  ∂z                       ∂x                       ∂t                   ∂z  \n",
       "⎢                                                                             \n",
       "⎢     ∂                    ∂                        ∂                        ∂\n",
       "⎢ 1.0⋅──(Ax(t, x, y, z)) - ──(Ay(t, x, y, z))   1.0⋅──(Ay(t, x, y, z)) + 1.0⋅─\n",
       "⎣     ∂y                   ∂x                       ∂t                       ∂\n",
       "\n",
       "                       ∂                    ∂                       ∂         \n",
       "Az(t, x, y, z))    1.0⋅──(Ax(t, x, y, z)) - ──(Az(t, x, y, z))    - ──(Ax(t, x\n",
       "                       ∂z                   ∂x                      ∂y        \n",
       "                                                                              \n",
       "                      ∂                        ∂                       ∂      \n",
       "                  1.0⋅──(Az(t, x, y, z)) + 1.0⋅──(φ(t, x, y, z))     - ──(Ay(t\n",
       "                      ∂t                       ∂z                      ∂t     \n",
       "                                                                              \n",
       "                                                                      ∂       \n",
       "(t, x, y, z))                           0                         1.0⋅──(Ax(t,\n",
       "                                                                      ∂t      \n",
       "                                                                              \n",
       "                       ∂                    ∂                                 \n",
       "─(φ(t, x, y, z))     - ──(Ax(t, x, y, z)) - ──(φ(t, x, y, z))                 \n",
       "y                      ∂t                   ∂x                                \n",
       "\n",
       "               ∂                  ⎤\n",
       ", y, z)) + 1.0⋅──(Ay(t, x, y, z)) ⎥\n",
       "               ∂x                 ⎥\n",
       "                                  ⎥\n",
       "              ∂                   ⎥\n",
       ", x, y, z)) - ──(φ(t, x, y, z))   ⎥\n",
       "              ∂y                  ⎥\n",
       "                                  ⎥\n",
       "                 ∂                ⎥\n",
       " x, y, z)) + 1.0⋅──(φ(t, x, y, z))⎥\n",
       "                 ∂x               ⎥\n",
       "                                  ⎥\n",
       "                                  ⎥\n",
       "          0                       ⎥\n",
       "                                  ⎦"
      ]
     },
     "metadata": {},
     "output_type": "display_data"
    }
   ],
   "source": [
    "I2 = (1/2)*LC('^alpha,^beta,^gamma,^delta')*F('_gamma,_delta')\n",
    "\n",
    "G = pt.new_ten('G',2)\n",
    "\n",
    "G.assign(I2,'^alpha,^beta')\n",
    "\n",
    "G.simplify()\n",
    "\n",
    "G.display('^,^')"
   ]
  },
  {
   "cell_type": "markdown",
   "metadata": {},
   "source": [
    "## Relationship with the classic fields"
   ]
  },
  {
   "cell_type": "markdown",
   "metadata": {},
   "source": [
    "Working with space coordinates only"
   ]
  },
  {
   "cell_type": "code",
   "execution_count": 10,
   "metadata": {},
   "outputs": [],
   "source": [
    "pt.set_space_time(False) # this function defines that the calculations will ignore the temporal component"
   ]
  },
  {
   "cell_type": "code",
   "execution_count": 11,
   "metadata": {},
   "outputs": [],
   "source": [
    "LC = pt.LeviCivita(convention=1)\n",
    "\n",
    "B = pt.new_ten('B',1)\n",
    "\n",
    "B_dat = -(1/2)*LC('_i,_j,_k')*F('^j,^k')\n",
    "\n",
    "B.assign(B_dat,'_i')"
   ]
  },
  {
   "cell_type": "code",
   "execution_count": 12,
   "metadata": {},
   "outputs": [
    {
     "data": {
      "text/plain": [
       "1"
      ]
     },
     "execution_count": 12,
     "metadata": {},
     "output_type": "execute_result"
    }
   ],
   "source": [
    "LC('_i,_j,_k').elements[0][1][2]"
   ]
  },
  {
   "cell_type": "code",
   "execution_count": 13,
   "metadata": {},
   "outputs": [
    {
     "data": {
      "text/latex": [
       "$\\displaystyle \\left[\\begin{matrix}- 1.0 \\frac{\\partial}{\\partial z} \\operatorname{Ay}{\\left(t,x,y,z \\right)} + 1.0 \\frac{\\partial}{\\partial y} \\operatorname{Az}{\\left(t,x,y,z \\right)} & 1.0 \\frac{\\partial}{\\partial z} \\operatorname{Ax}{\\left(t,x,y,z \\right)} - 1.0 \\frac{\\partial}{\\partial x} \\operatorname{Az}{\\left(t,x,y,z \\right)} & - 1.0 \\frac{\\partial}{\\partial y} \\operatorname{Ax}{\\left(t,x,y,z \\right)} + 1.0 \\frac{\\partial}{\\partial x} \\operatorname{Ay}{\\left(t,x,y,z \\right)}\\end{matrix}\\right]$"
      ],
      "text/plain": [
       "⎡  ∂                        ∂                       ∂                    ∂    \n",
       "⎢- ──(Ay(t, x, y, z)) + 1.0⋅──(Az(t, x, y, z))  1.0⋅──(Ax(t, x, y, z)) - ──(Az\n",
       "⎣  ∂z                       ∂y                      ∂z                   ∂x   \n",
       "\n",
       "                 ∂                        ∂                 ⎤\n",
       "(t, x, y, z))  - ──(Ax(t, x, y, z)) + 1.0⋅──(Ay(t, x, y, z))⎥\n",
       "                 ∂y                       ∂x                ⎦"
      ]
     },
     "metadata": {},
     "output_type": "display_data"
    }
   ],
   "source": [
    "B.display()"
   ]
  },
  {
   "cell_type": "code",
   "execution_count": 14,
   "metadata": {},
   "outputs": [],
   "source": [
    "KR = pt.KroneckerDelta()"
   ]
  },
  {
   "cell_type": "code",
   "execution_count": 15,
   "metadata": {},
   "outputs": [
    {
     "data": {
      "text/latex": [
       "$\\displaystyle \\left[\\begin{matrix}1 & 0 & 0 & 0\\\\0 & 1 & 0 & 0\\\\0 & 0 & 1 & 0\\\\0 & 0 & 0 & 1\\end{matrix}\\right]$"
      ],
      "text/plain": [
       "⎡1  0  0  0⎤\n",
       "⎢          ⎥\n",
       "⎢0  1  0  0⎥\n",
       "⎢          ⎥\n",
       "⎢0  0  1  0⎥\n",
       "⎢          ⎥\n",
       "⎣0  0  0  1⎦"
      ]
     },
     "metadata": {},
     "output_type": "display_data"
    }
   ],
   "source": [
    "KR.display(spatial=False)"
   ]
  },
  {
   "cell_type": "markdown",
   "metadata": {},
   "source": [
    "We return to work with the temporal component"
   ]
  },
  {
   "cell_type": "code",
   "execution_count": 16,
   "metadata": {},
   "outputs": [],
   "source": [
    "pt.set_space_time(True)"
   ]
  },
  {
   "cell_type": "code",
   "execution_count": 17,
   "metadata": {},
   "outputs": [
    {
     "name": "stdout",
     "output_type": "stream",
     "text": [
      "Elements assigned correctly to the components _\n"
     ]
    },
    {
     "data": {
      "text/latex": [
       "$\\displaystyle \\left[\\begin{matrix}\\frac{\\partial}{\\partial t} \\operatorname{Ax}{\\left(t,x,y,z \\right)} + \\frac{\\partial}{\\partial x} \\phi{\\left(t,x,y,z \\right)} & \\frac{\\partial}{\\partial t} \\operatorname{Ay}{\\left(t,x,y,z \\right)} + \\frac{\\partial}{\\partial y} \\phi{\\left(t,x,y,z \\right)} & \\frac{\\partial}{\\partial t} \\operatorname{Az}{\\left(t,x,y,z \\right)} + \\frac{\\partial}{\\partial z} \\phi{\\left(t,x,y,z \\right)}\\end{matrix}\\right]$"
      ],
      "text/plain": [
       "⎡∂                    ∂                  ∂                    ∂               \n",
       "⎢──(Ax(t, x, y, z)) + ──(φ(t, x, y, z))  ──(Ay(t, x, y, z)) + ──(φ(t, x, y, z)\n",
       "⎣∂t                   ∂x                 ∂t                   ∂y              \n",
       "\n",
       "   ∂                    ∂                ⎤\n",
       ")  ──(Az(t, x, y, z)) + ──(φ(t, x, y, z))⎥\n",
       "   ∂t                   ∂z               ⎦"
      ]
     },
     "metadata": {},
     "output_type": "display_data"
    }
   ],
   "source": [
    "E = pt.new_ten('E',1)\n",
    "\n",
    "E_dat = []\n",
    "\n",
    "for i in range(4):\n",
    "    \n",
    "    E_dat.append(F('^i,^j').elements[0][i])\n",
    "\n",
    "E.assign(E_dat,'_')\n",
    "\n",
    "E.display(spatial=True)"
   ]
  },
  {
   "cell_type": "markdown",
   "metadata": {},
   "source": [
    "## Bianchi Identity"
   ]
  },
  {
   "cell_type": "code",
   "execution_count": 18,
   "metadata": {},
   "outputs": [
    {
     "name": "stdout",
     "output_type": "stream",
     "text": [
      "All components are zero\n"
     ]
    }
   ],
   "source": [
    "BI = pt.new_ten('BI',3)\n",
    "\n",
    "BI_dat = pt.D(F('_a,_b'),'_c') + pt.D(F('_b,_c'),'_a') + pt.D(F('_c,_a'),'_b')\n",
    "\n",
    "BI.assign(BI_dat,'_a,_b,_c')\n",
    "\n",
    "BI.display()"
   ]
  },
  {
   "cell_type": "code",
   "execution_count": 19,
   "metadata": {},
   "outputs": [
    {
     "data": {
      "text/latex": [
       "$\\displaystyle \\left[ \\left[ \\left[ 0, \\  0, \\  0, \\  0\\right], \\  \\left[ 0, \\  0, \\  0, \\  0\\right], \\  \\left[ 0, \\  0, \\  0, \\  0\\right], \\  \\left[ 0, \\  0, \\  0, \\  0\\right]\\right], \\  \\left[ \\left[ 0, \\  0, \\  0, \\  0\\right], \\  \\left[ 0, \\  0, \\  0, \\  0\\right], \\  \\left[ 0, \\  0, \\  0, \\  0\\right], \\  \\left[ 0, \\  0, \\  0, \\  0\\right]\\right], \\  \\left[ \\left[ 0, \\  0, \\  0, \\  0\\right], \\  \\left[ 0, \\  0, \\  0, \\  0\\right], \\  \\left[ 0, \\  0, \\  0, \\  0\\right], \\  \\left[ 0, \\  0, \\  0, \\  0\\right]\\right], \\  \\left[ \\left[ 0, \\  0, \\  0, \\  0\\right], \\  \\left[ 0, \\  0, \\  0, \\  0\\right], \\  \\left[ 0, \\  0, \\  0, \\  0\\right], \\  \\left[ 0, \\  0, \\  0, \\  0\\right]\\right]\\right]$"
      ],
      "text/plain": [
       "<IPython.core.display.Math object>"
      ]
     },
     "metadata": {},
     "output_type": "display_data"
    }
   ],
   "source": [
    "pt.display(BI_dat.elements)"
   ]
  },
  {
   "cell_type": "markdown",
   "metadata": {},
   "source": [
    "## Maxwell's Equations"
   ]
  },
  {
   "cell_type": "markdown",
   "metadata": {},
   "source": [
    "We can replace the elements of a tensor. For example, with arbitrary functions."
   ]
  },
  {
   "cell_type": "code",
   "execution_count": 25,
   "metadata": {},
   "outputs": [],
   "source": [
    "Ex = pt.new_fun('Ex','t,x,y,z')\n",
    "Ey = pt.new_fun('Ey','t,x,y,z')\n",
    "Ez = pt.new_fun('Ez','t,x,y,z')\n",
    "\n",
    "Bx = pt.new_fun('Bx','t,x,y,z')\n",
    "By = pt.new_fun('By','t,x,y,z')\n",
    "Bz = pt.new_fun('Bz','t,x,y,z')"
   ]
  },
  {
   "cell_type": "code",
   "execution_count": 33,
   "metadata": {},
   "outputs": [],
   "source": [
    "F_simplified = [[0,-Ex,-Ey,-Ez],[Ex,0,-Bz,By],[Ey,Bz,0,-Bx],[Ez,-By,Bx,0]]"
   ]
  },
  {
   "cell_type": "code",
   "execution_count": 34,
   "metadata": {},
   "outputs": [
    {
     "name": "stdout",
     "output_type": "stream",
     "text": [
      "Elements assigned correctly to the components ^,^\n"
     ]
    },
    {
     "data": {
      "text/latex": [
       "$\\displaystyle \\left[\\begin{matrix}0 & - \\operatorname{Ex}{\\left(t,x,y,z \\right)} & - \\operatorname{Ey}{\\left(t,x,y,z \\right)} & - \\operatorname{Ez}{\\left(t,x,y,z \\right)}\\\\\\operatorname{Ex}{\\left(t,x,y,z \\right)} & 0 & - \\operatorname{Bz}{\\left(t,x,y,z \\right)} & \\operatorname{By}{\\left(t,x,y,z \\right)}\\\\\\operatorname{Ey}{\\left(t,x,y,z \\right)} & \\operatorname{Bz}{\\left(t,x,y,z \\right)} & 0 & - \\operatorname{Bx}{\\left(t,x,y,z \\right)}\\\\\\operatorname{Ez}{\\left(t,x,y,z \\right)} & - \\operatorname{By}{\\left(t,x,y,z \\right)} & \\operatorname{Bx}{\\left(t,x,y,z \\right)} & 0\\end{matrix}\\right]$"
      ],
      "text/plain": [
       "⎡      0         -Ex(t, x, y, z)  -Ey(t, x, y, z)  -Ez(t, x, y, z)⎤\n",
       "⎢                                                                 ⎥\n",
       "⎢Ex(t, x, y, z)         0         -Bz(t, x, y, z)  By(t, x, y, z) ⎥\n",
       "⎢                                                                 ⎥\n",
       "⎢Ey(t, x, y, z)  Bz(t, x, y, z)          0         -Bx(t, x, y, z)⎥\n",
       "⎢                                                                 ⎥\n",
       "⎣Ez(t, x, y, z)  -By(t, x, y, z)  Bx(t, x, y, z)          0       ⎦"
      ]
     },
     "metadata": {},
     "output_type": "display_data"
    }
   ],
   "source": [
    "F.assign(F_simplified,'^,^')\n",
    "F.display('^,^')"
   ]
  },
  {
   "cell_type": "code",
   "execution_count": 40,
   "metadata": {},
   "outputs": [
    {
     "data": {
      "text/latex": [
       "$\\displaystyle \\left[\\begin{matrix}\\frac{\\partial}{\\partial x} \\operatorname{Ex}{\\left(t,x,y,z \\right)} + \\frac{\\partial}{\\partial y} \\operatorname{Ey}{\\left(t,x,y,z \\right)} + \\frac{\\partial}{\\partial z} \\operatorname{Ez}{\\left(t,x,y,z \\right)}\\\\- \\frac{\\partial}{\\partial z} \\operatorname{By}{\\left(t,x,y,z \\right)} + \\frac{\\partial}{\\partial y} \\operatorname{Bz}{\\left(t,x,y,z \\right)} - \\frac{\\partial}{\\partial t} \\operatorname{Ex}{\\left(t,x,y,z \\right)}\\\\\\frac{\\partial}{\\partial z} \\operatorname{Bx}{\\left(t,x,y,z \\right)} - \\frac{\\partial}{\\partial x} \\operatorname{Bz}{\\left(t,x,y,z \\right)} - \\frac{\\partial}{\\partial t} \\operatorname{Ey}{\\left(t,x,y,z \\right)}\\\\- \\frac{\\partial}{\\partial y} \\operatorname{Bx}{\\left(t,x,y,z \\right)} + \\frac{\\partial}{\\partial x} \\operatorname{By}{\\left(t,x,y,z \\right)} - \\frac{\\partial}{\\partial t} \\operatorname{Ez}{\\left(t,x,y,z \\right)}\\end{matrix}\\right]$"
      ],
      "text/plain": [
       "⎡ ∂                    ∂                    ∂                  ⎤\n",
       "⎢ ──(Ex(t, x, y, z)) + ──(Ey(t, x, y, z)) + ──(Ez(t, x, y, z)) ⎥\n",
       "⎢ ∂x                   ∂y                   ∂z                 ⎥\n",
       "⎢                                                              ⎥\n",
       "⎢  ∂                    ∂                    ∂                 ⎥\n",
       "⎢- ──(By(t, x, y, z)) + ──(Bz(t, x, y, z)) - ──(Ex(t, x, y, z))⎥\n",
       "⎢  ∂z                   ∂y                   ∂t                ⎥\n",
       "⎢                                                              ⎥\n",
       "⎢ ∂                    ∂                    ∂                  ⎥\n",
       "⎢ ──(Bx(t, x, y, z)) - ──(Bz(t, x, y, z)) - ──(Ey(t, x, y, z)) ⎥\n",
       "⎢ ∂z                   ∂x                   ∂t                 ⎥\n",
       "⎢                                                              ⎥\n",
       "⎢  ∂                    ∂                    ∂                 ⎥\n",
       "⎢- ──(Bx(t, x, y, z)) + ──(By(t, x, y, z)) - ──(Ez(t, x, y, z))⎥\n",
       "⎣  ∂y                   ∂x                   ∂t                ⎦"
      ]
     },
     "metadata": {},
     "output_type": "display_data"
    }
   ],
   "source": [
    "J_left = pt.new_ten('J',1)\n",
    "J_dat_l = pt.D(F('^mu,^nu'),'_mu')\n",
    "\n",
    "J_left.assign(J_dat_l,'^nu')\n",
    "\n",
    "J_left.display('^')"
   ]
  },
  {
   "cell_type": "markdown",
   "metadata": {},
   "source": [
    "This is consistent with "
   ]
  },
  {
   "cell_type": "code",
   "execution_count": 39,
   "metadata": {},
   "outputs": [
    {
     "name": "stdout",
     "output_type": "stream",
     "text": [
      "Function rho(t,x,y,z) is already defined\n"
     ]
    }
   ],
   "source": [
    "rho = pt.new_fun('rho','t,x,y,z')\n",
    "\n",
    "Jx = pt.new_fun('Jx','t,x,y,z')\n",
    "Jy = pt.new_fun('Jy','t,x,y,z')\n",
    "Jz = pt.new_fun('Jz','t,x,y,z')"
   ]
  },
  {
   "cell_type": "code",
   "execution_count": 43,
   "metadata": {},
   "outputs": [
    {
     "name": "stdout",
     "output_type": "stream",
     "text": [
      "Elements assigned correctly to the components ^\n"
     ]
    },
    {
     "data": {
      "text/latex": [
       "$\\displaystyle \\left[\\begin{matrix}\\rho{\\left(t,x,y,z \\right)}\\\\\\operatorname{Jx}{\\left(t,x,y,z \\right)}\\\\\\operatorname{Jy}{\\left(t,x,y,z \\right)}\\\\\\operatorname{Jz}{\\left(t,x,y,z \\right)}\\end{matrix}\\right]$"
      ],
      "text/plain": [
       "⎡ρ(t, x, y, z) ⎤\n",
       "⎢              ⎥\n",
       "⎢Jx(t, x, y, z)⎥\n",
       "⎢              ⎥\n",
       "⎢Jy(t, x, y, z)⎥\n",
       "⎢              ⎥\n",
       "⎣Jz(t, x, y, z)⎦"
      ]
     },
     "metadata": {},
     "output_type": "display_data"
    }
   ],
   "source": [
    "\n",
    "\n",
    "J_right = pt.new_ten('J',1)\n",
    "\n",
    "J_dat_r = [rho,Jx,Jy,Jz]\n",
    "\n",
    "J_right.assign(J_dat_r,'^')\n",
    "\n",
    "J_right.display('^')"
   ]
  },
  {
   "cell_type": "code",
   "execution_count": 53,
   "metadata": {},
   "outputs": [
    {
     "name": "stdout",
     "output_type": "stream",
     "text": [
      "These are the Maxwell's Equations\n"
     ]
    },
    {
     "data": {
      "text/latex": [
       "$\\displaystyle \\left[\\begin{matrix}\\rho{\\left(t,x,y,z \\right)}\\\\\\operatorname{Jx}{\\left(t,x,y,z \\right)}\\\\\\operatorname{Jy}{\\left(t,x,y,z \\right)}\\\\\\operatorname{Jz}{\\left(t,x,y,z \\right)}\\end{matrix}\\right]$"
      ],
      "text/plain": [
       "⎡ρ(t, x, y, z) ⎤\n",
       "⎢              ⎥\n",
       "⎢Jx(t, x, y, z)⎥\n",
       "⎢              ⎥\n",
       "⎢Jy(t, x, y, z)⎥\n",
       "⎢              ⎥\n",
       "⎣Jz(t, x, y, z)⎦"
      ]
     },
     "metadata": {},
     "output_type": "display_data"
    },
    {
     "data": {
      "text/latex": [
       "$\\displaystyle \\left[\\begin{matrix}\\frac{\\partial}{\\partial x} \\operatorname{Ex}{\\left(t,x,y,z \\right)} + \\frac{\\partial}{\\partial y} \\operatorname{Ey}{\\left(t,x,y,z \\right)} + \\frac{\\partial}{\\partial z} \\operatorname{Ez}{\\left(t,x,y,z \\right)}\\\\- \\frac{\\partial}{\\partial z} \\operatorname{By}{\\left(t,x,y,z \\right)} + \\frac{\\partial}{\\partial y} \\operatorname{Bz}{\\left(t,x,y,z \\right)} - \\frac{\\partial}{\\partial t} \\operatorname{Ex}{\\left(t,x,y,z \\right)}\\\\\\frac{\\partial}{\\partial z} \\operatorname{Bx}{\\left(t,x,y,z \\right)} - \\frac{\\partial}{\\partial x} \\operatorname{Bz}{\\left(t,x,y,z \\right)} - \\frac{\\partial}{\\partial t} \\operatorname{Ey}{\\left(t,x,y,z \\right)}\\\\- \\frac{\\partial}{\\partial y} \\operatorname{Bx}{\\left(t,x,y,z \\right)} + \\frac{\\partial}{\\partial x} \\operatorname{By}{\\left(t,x,y,z \\right)} - \\frac{\\partial}{\\partial t} \\operatorname{Ez}{\\left(t,x,y,z \\right)}\\end{matrix}\\right]$"
      ],
      "text/plain": [
       "⎡ ∂                    ∂                    ∂                  ⎤\n",
       "⎢ ──(Ex(t, x, y, z)) + ──(Ey(t, x, y, z)) + ──(Ez(t, x, y, z)) ⎥\n",
       "⎢ ∂x                   ∂y                   ∂z                 ⎥\n",
       "⎢                                                              ⎥\n",
       "⎢  ∂                    ∂                    ∂                 ⎥\n",
       "⎢- ──(By(t, x, y, z)) + ──(Bz(t, x, y, z)) - ──(Ex(t, x, y, z))⎥\n",
       "⎢  ∂z                   ∂y                   ∂t                ⎥\n",
       "⎢                                                              ⎥\n",
       "⎢ ∂                    ∂                    ∂                  ⎥\n",
       "⎢ ──(Bx(t, x, y, z)) - ──(Bz(t, x, y, z)) - ──(Ey(t, x, y, z)) ⎥\n",
       "⎢ ∂z                   ∂x                   ∂t                 ⎥\n",
       "⎢                                                              ⎥\n",
       "⎢  ∂                    ∂                    ∂                 ⎥\n",
       "⎢- ──(Bx(t, x, y, z)) + ──(By(t, x, y, z)) - ──(Ez(t, x, y, z))⎥\n",
       "⎣  ∂y                   ∂x                   ∂t                ⎦"
      ]
     },
     "metadata": {},
     "output_type": "display_data"
    },
    {
     "name": "stdout",
     "output_type": "stream",
     "text": [
      "None None\n"
     ]
    }
   ],
   "source": [
    "print(\"These are the Maxwell's Equations\")\n",
    "\n",
    "print(J_right.display('^'),J_left.display('^'))"
   ]
  },
  {
   "cell_type": "code",
   "execution_count": null,
   "metadata": {},
   "outputs": [],
   "source": []
  }
 ],
 "metadata": {
  "kernelspec": {
   "display_name": "Python 3",
   "language": "python",
   "name": "python3"
  },
  "language_info": {
   "codemirror_mode": {
    "name": "ipython",
    "version": 3
   },
   "file_extension": ".py",
   "mimetype": "text/x-python",
   "name": "python",
   "nbconvert_exporter": "python",
   "pygments_lexer": "ipython3",
   "version": "3.8.2"
  }
 },
 "nbformat": 4,
 "nbformat_minor": 4
}
