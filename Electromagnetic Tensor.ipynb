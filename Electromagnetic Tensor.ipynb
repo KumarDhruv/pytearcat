{
 "cells": [
  {
   "cell_type": "code",
   "execution_count": 19,
   "metadata": {},
   "outputs": [],
   "source": [
    "import pytearcat as pt\n",
    "import sympy as sp"
   ]
  },
  {
   "cell_type": "code",
   "execution_count": 2,
   "metadata": {},
   "outputs": [
    {
     "name": "stdout",
     "output_type": "stream",
     "text": [
      "Remember that the time coordinate must be the first coordinate.\n",
      "\n",
      "Dimension = 4\n",
      "Coordinates = t,x,y,z\n",
      "Metric was defined successfully: \n",
      "\n"
     ]
    },
    {
     "data": {
      "text/latex": [
       "$\\displaystyle ds^2 = 1 \\cdot dt^2-1 \\cdot dx^2-1 \\cdot dy^2-1 \\cdot dz^2$"
      ],
      "text/plain": [
       "<IPython.core.display.Math object>"
      ]
     },
     "metadata": {},
     "output_type": "display_data"
    },
    {
     "data": {
      "text/latex": [
       "$\\displaystyle \\left[\\begin{matrix}1 & 0 & 0 & 0\\\\0 & -1 & 0 & 0\\\\0 & 0 & -1 & 0\\\\0 & 0 & 0 & -1\\end{matrix}\\right]$"
      ],
      "text/plain": [
       "Matrix([\n",
       "[1,  0,  0,  0],\n",
       "[0, -1,  0,  0],\n",
       "[0,  0, -1,  0],\n",
       "[0,  0,  0, -1]])"
      ]
     },
     "metadata": {},
     "output_type": "display_data"
    }
   ],
   "source": [
    "# Define the coordinates to be used\n",
    "t,x,y,z = pt.def_coords('t,x,y,z')\n",
    "# Define any constant (more than one constant can be defined at the same time)\n",
    "c = pt.new_con('c')\n",
    "Ax = pt.new_fun('Ax','t,x,y,z')\n",
    "Ay = pt.new_fun('Ay','t,x,y,z')\n",
    "Az = pt.new_fun('Az','t,x,y,z')\n",
    "phi = pt.new_fun('phi','t,x,y,z')\n",
    "g = pt.create_metric('ds2 = +dt**2 + -(dx**2 + dy**2 + dz**2)')"
   ]
  },
  {
   "cell_type": "code",
   "execution_count": 3,
   "metadata": {},
   "outputs": [
    {
     "name": "stdout",
     "output_type": "stream",
     "text": [
      "Elements assigned correctly to the components ^\n"
     ]
    },
    {
     "data": {
      "text/latex": [
       "$\\displaystyle \\left[\\begin{matrix}\\phi{\\left(t,x,y,z \\right)}\\\\\\operatorname{Ax}{\\left(t,x,y,z \\right)}\\\\\\operatorname{Ay}{\\left(t,x,y,z \\right)}\\\\\\operatorname{Az}{\\left(t,x,y,z \\right)}\\end{matrix}\\right]$"
      ],
      "text/plain": [
       "⎡φ(t, x, y, z) ⎤\n",
       "⎢              ⎥\n",
       "⎢Ax(t, x, y, z)⎥\n",
       "⎢              ⎥\n",
       "⎢Ay(t, x, y, z)⎥\n",
       "⎢              ⎥\n",
       "⎣Az(t, x, y, z)⎦"
      ]
     },
     "metadata": {},
     "output_type": "display_data"
    }
   ],
   "source": [
    "A = pt.new_ten('A',1)\n",
    "\n",
    "A.assign([phi,Ax,Ay,Az],'^')\n",
    "\n",
    "A.display('^')"
   ]
  },
  {
   "cell_type": "code",
   "execution_count": 5,
   "metadata": {
    "scrolled": false
   },
   "outputs": [
    {
     "data": {
      "text/latex": [
       "$\\displaystyle \\left[\\begin{matrix}0 & \\frac{\\partial}{\\partial t} \\operatorname{Ax}{\\left(t,x,y,z \\right)} + \\frac{\\partial}{\\partial x} \\phi{\\left(t,x,y,z \\right)} & \\frac{\\partial}{\\partial t} \\operatorname{Ay}{\\left(t,x,y,z \\right)} + \\frac{\\partial}{\\partial y} \\phi{\\left(t,x,y,z \\right)} & \\frac{\\partial}{\\partial t} \\operatorname{Az}{\\left(t,x,y,z \\right)} + \\frac{\\partial}{\\partial z} \\phi{\\left(t,x,y,z \\right)}\\\\- \\frac{\\partial}{\\partial t} \\operatorname{Ax}{\\left(t,x,y,z \\right)} - \\frac{\\partial}{\\partial x} \\phi{\\left(t,x,y,z \\right)} & 0 & \\frac{\\partial}{\\partial y} \\operatorname{Ax}{\\left(t,x,y,z \\right)} - \\frac{\\partial}{\\partial x} \\operatorname{Ay}{\\left(t,x,y,z \\right)} & \\frac{\\partial}{\\partial z} \\operatorname{Ax}{\\left(t,x,y,z \\right)} - \\frac{\\partial}{\\partial x} \\operatorname{Az}{\\left(t,x,y,z \\right)}\\\\- \\frac{\\partial}{\\partial t} \\operatorname{Ay}{\\left(t,x,y,z \\right)} - \\frac{\\partial}{\\partial y} \\phi{\\left(t,x,y,z \\right)} & - \\frac{\\partial}{\\partial y} \\operatorname{Ax}{\\left(t,x,y,z \\right)} + \\frac{\\partial}{\\partial x} \\operatorname{Ay}{\\left(t,x,y,z \\right)} & 0 & \\frac{\\partial}{\\partial z} \\operatorname{Ay}{\\left(t,x,y,z \\right)} - \\frac{\\partial}{\\partial y} \\operatorname{Az}{\\left(t,x,y,z \\right)}\\\\- \\frac{\\partial}{\\partial t} \\operatorname{Az}{\\left(t,x,y,z \\right)} - \\frac{\\partial}{\\partial z} \\phi{\\left(t,x,y,z \\right)} & - \\frac{\\partial}{\\partial z} \\operatorname{Ax}{\\left(t,x,y,z \\right)} + \\frac{\\partial}{\\partial x} \\operatorname{Az}{\\left(t,x,y,z \\right)} & - \\frac{\\partial}{\\partial z} \\operatorname{Ay}{\\left(t,x,y,z \\right)} + \\frac{\\partial}{\\partial y} \\operatorname{Az}{\\left(t,x,y,z \\right)} & 0\\end{matrix}\\right]$"
      ],
      "text/plain": [
       "⎡                                           ∂                    ∂            \n",
       "⎢                   0                       ──(Ax(t, x, y, z)) + ──(φ(t, x, y,\n",
       "⎢                                           ∂t                   ∂x           \n",
       "⎢                                                                             \n",
       "⎢  ∂                    ∂                                                     \n",
       "⎢- ──(Ax(t, x, y, z)) - ──(φ(t, x, y, z))                      0              \n",
       "⎢  ∂t                   ∂x                                                    \n",
       "⎢                                                                             \n",
       "⎢  ∂                    ∂                    ∂                    ∂           \n",
       "⎢- ──(Ay(t, x, y, z)) - ──(φ(t, x, y, z))  - ──(Ax(t, x, y, z)) + ──(Ay(t, x, \n",
       "⎢  ∂t                   ∂y                   ∂y                   ∂x          \n",
       "⎢                                                                             \n",
       "⎢  ∂                    ∂                    ∂                    ∂           \n",
       "⎢- ──(Az(t, x, y, z)) - ──(φ(t, x, y, z))  - ──(Ax(t, x, y, z)) + ──(Az(t, x, \n",
       "⎣  ∂t                   ∂z                   ∂z                   ∂x          \n",
       "\n",
       "         ∂                    ∂                    ∂                    ∂     \n",
       " z))     ──(Ay(t, x, y, z)) + ──(φ(t, x, y, z))    ──(Az(t, x, y, z)) + ──(φ(t\n",
       "         ∂t                   ∂y                   ∂t                   ∂z    \n",
       "                                                                              \n",
       "         ∂                    ∂                    ∂                    ∂     \n",
       "         ──(Ax(t, x, y, z)) - ──(Ay(t, x, y, z))   ──(Ax(t, x, y, z)) - ──(Az(\n",
       "         ∂y                   ∂x                   ∂z                   ∂x    \n",
       "                                                                              \n",
       "                                                   ∂                    ∂     \n",
       "y, z))                      0                      ──(Ay(t, x, y, z)) - ──(Az(\n",
       "                                                   ∂z                   ∂y    \n",
       "                                                                              \n",
       "          ∂                    ∂                                              \n",
       "y, z))  - ──(Ay(t, x, y, z)) + ──(Az(t, x, y, z))                     0       \n",
       "          ∂z                   ∂y                                             \n",
       "\n",
       "            ⎤\n",
       ", x, y, z)) ⎥\n",
       "            ⎥\n",
       "            ⎥\n",
       "            ⎥\n",
       "t, x, y, z))⎥\n",
       "            ⎥\n",
       "            ⎥\n",
       "            ⎥\n",
       "t, x, y, z))⎥\n",
       "            ⎥\n",
       "            ⎥\n",
       "            ⎥\n",
       "            ⎥\n",
       "            ⎦"
      ]
     },
     "metadata": {},
     "output_type": "display_data"
    }
   ],
   "source": [
    "F = pt.new_ten('F',2)\n",
    "\n",
    "F.assign(pt.D(A('^nu'),'^mu')-pt.D(A('^mu'),'^nu'),\"^mu,^nu\")\n",
    "\n",
    "# One could also save the result of a tensor operation in a variable\n",
    "# For example: F_value = pt.D(A('^nu'),'^mu')-pt.D(A('^mu'),'^nu')\n",
    "# And then, to assing that value to the tensor: \n",
    "# F.assign(F_value,'^mu,^nu')\n",
    "\n",
    "F.display('^,^')"
   ]
  },
  {
   "cell_type": "code",
   "execution_count": 20,
   "metadata": {},
   "outputs": [
    {
     "data": {
      "application/vnd.jupyter.widget-view+json": {
       "model_id": "d92c51f306c84beca6bf428aa0afd2ea",
       "version_major": 2,
       "version_minor": 0
      },
      "text/plain": [
       "F Tensor $F{_\\alpha}{^\\beta}$:   0%|          | 0/16 [00:00<?, ?it/s]"
      ]
     },
     "metadata": {},
     "output_type": "display_data"
    },
    {
     "data": {
      "application/vnd.jupyter.widget-view+json": {
       "model_id": "f8c8983973da493da14c6475ecd8d37a",
       "version_major": 2,
       "version_minor": 0
      },
      "text/plain": [
       "F Tensor $F{_\\alpha}{_\\beta}$:   0%|          | 0/16 [00:00<?, ?it/s]"
      ]
     },
     "metadata": {},
     "output_type": "display_data"
    },
    {
     "data": {
      "text/latex": [
       "All other indexes of F Tensor $F$  already calculated."
      ],
      "text/plain": [
       "<IPython.core.display.Latex object>"
      ]
     },
     "metadata": {},
     "output_type": "display_data"
    },
    {
     "data": {
      "text/latex": [
       "$\\displaystyle - 2 \\left(\\frac{\\partial}{\\partial t} \\operatorname{Ax}{\\left(t,x,y,z \\right)} + \\frac{\\partial}{\\partial x} \\phi{\\left(t,x,y,z \\right)}\\right)^{2} + 2 \\left(\\frac{\\partial}{\\partial y} \\operatorname{Ax}{\\left(t,x,y,z \\right)} - \\frac{\\partial}{\\partial x} \\operatorname{Ay}{\\left(t,x,y,z \\right)}\\right)^{2} + 2 \\left(\\frac{\\partial}{\\partial z} \\operatorname{Ax}{\\left(t,x,y,z \\right)} - \\frac{\\partial}{\\partial x} \\operatorname{Az}{\\left(t,x,y,z \\right)}\\right)^{2} - 2 \\left(\\frac{\\partial}{\\partial t} \\operatorname{Ay}{\\left(t,x,y,z \\right)} + \\frac{\\partial}{\\partial y} \\phi{\\left(t,x,y,z \\right)}\\right)^{2} + 2 \\left(\\frac{\\partial}{\\partial z} \\operatorname{Ay}{\\left(t,x,y,z \\right)} - \\frac{\\partial}{\\partial y} \\operatorname{Az}{\\left(t,x,y,z \\right)}\\right)^{2} - 2 \\left(\\frac{\\partial}{\\partial t} \\operatorname{Az}{\\left(t,x,y,z \\right)} + \\frac{\\partial}{\\partial z} \\phi{\\left(t,x,y,z \\right)}\\right)^{2}$"
      ],
      "text/plain": [
       "                                            2                                 \n",
       "    ⎛∂                    ∂                ⎞      ⎛∂                    ∂     \n",
       "- 2⋅⎜──(Ax(t, x, y, z)) + ──(φ(t, x, y, z))⎟  + 2⋅⎜──(Ax(t, x, y, z)) - ──(Ay(\n",
       "    ⎝∂t                   ∂x               ⎠      ⎝∂y                   ∂x    \n",
       "\n",
       "             2                                              2                 \n",
       "            ⎞      ⎛∂                    ∂                 ⎞      ⎛∂          \n",
       "t, x, y, z))⎟  + 2⋅⎜──(Ax(t, x, y, z)) - ──(Az(t, x, y, z))⎟  - 2⋅⎜──(Ay(t, x,\n",
       "            ⎠      ⎝∂z                   ∂x                ⎠      ⎝∂t         \n",
       "\n",
       "                            2                                              2  \n",
       "          ∂                ⎞      ⎛∂                    ∂                 ⎞   \n",
       " y, z)) + ──(φ(t, x, y, z))⎟  + 2⋅⎜──(Ay(t, x, y, z)) - ──(Az(t, x, y, z))⎟  -\n",
       "          ∂y               ⎠      ⎝∂z                   ∂y                ⎠   \n",
       "\n",
       "                                           2\n",
       "   ⎛∂                    ∂                ⎞ \n",
       " 2⋅⎜──(Az(t, x, y, z)) + ──(φ(t, x, y, z))⎟ \n",
       "   ⎝∂t                   ∂z               ⎠ "
      ]
     },
     "execution_count": 20,
     "metadata": {},
     "output_type": "execute_result"
    }
   ],
   "source": [
    "F.indexcomb('^,^')\n",
    "\n",
    "sp.simplify(F(\"_mu,_nu\")*F(\"^mu,^nu\"))"
   ]
  },
  {
   "cell_type": "markdown",
   "metadata": {},
   "source": [
    "This is the of the inner product of the electromagnetic tensor\n",
    "\n",
    "$$F_{\\mu\\nu}F^{\\mu\\nu} = 2\\left(B^2-E^2\\right)$$"
   ]
  },
  {
   "cell_type": "code",
   "execution_count": null,
   "metadata": {},
   "outputs": [],
   "source": []
  }
 ],
 "metadata": {
  "kernelspec": {
   "display_name": "Python 3",
   "language": "python",
   "name": "python3"
  },
  "language_info": {
   "codemirror_mode": {
    "name": "ipython",
    "version": 3
   },
   "file_extension": ".py",
   "mimetype": "text/x-python",
   "name": "python",
   "nbconvert_exporter": "python",
   "pygments_lexer": "ipython3",
   "version": "3.8.2"
  }
 },
 "nbformat": 4,
 "nbformat_minor": 4
}
