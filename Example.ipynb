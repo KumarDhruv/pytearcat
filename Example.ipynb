{
 "cells": [
  {
   "cell_type": "code",
   "execution_count": 1,
   "metadata": {},
   "outputs": [],
   "source": [
    "import pytensor as pt"
   ]
  },
  {
   "cell_type": "code",
   "execution_count": 2,
   "metadata": {},
   "outputs": [
    {
     "output_type": "stream",
     "name": "stdout",
     "text": [
      "Remember that the time coordinate must be the first coordinate.\n",
      "Metric was defined successfully: \n",
      "\n",
      "Dimension = 4\n",
      "Coordinates = t,x,y,z\n"
     ]
    },
    {
     "output_type": "display_data",
     "data": {
      "text/plain": "<IPython.core.display.Math object>",
      "text/latex": "$\\displaystyle ds^2 = -1 \\cdot dt^2+a{\\left(t \\right)} \\cdot dx^2+a{\\left(t \\right)} \\cdot dy^2+a{\\left(t \\right)} \\cdot dz^2$"
     },
     "metadata": {}
    },
    {
     "output_type": "display_data",
     "data": {
      "text/plain": "<IPython.core.display.Math object>",
      "text/latex": "$\\displaystyle \\left[\\begin{matrix}-1 & 0 & 0 & 0\\\\0 & a{\\left(t \\right)} & 0 & 0\\\\0 & 0 & a{\\left(t \\right)} & 0\\\\0 & 0 & 0 & a{\\left(t \\right)}\\end{matrix}\\right]$"
     },
     "metadata": {}
    }
   ],
   "source": [
    "t,x,y,z = pt.def_coords('t,x,y,z')\n",
    "a = pt.new_fun('a','t')\n",
    "g = pt.create_metric('ds2 = -dt*dt + a*(dx**2 + dy**2 + dz**2)')"
   ]
  },
  {
   "cell_type": "markdown",
   "metadata": {},
   "source": [
    "#### We define the coordinates for the metric. Also, define the functions needed to construct the metric to be used. Then, we finally build the metric tensor from the line element $ds^2$. In this case, we used\n",
    "\n",
    "$$ds^2 = -dt^2 + a(t)\\,(dx^2 +dy^2 + dz^2) $$"
   ]
  },
  {
   "cell_type": "markdown",
   "metadata": {},
   "source": [
    "#### We can use this function to compute the Einstein tensor of the metric already defined."
   ]
  },
  {
   "cell_type": "code",
   "execution_count": 3,
   "metadata": {},
   "outputs": [
    {
     "output_type": "display_data",
     "data": {
      "text/plain": "HBox(children=(IntProgress(value=0, description='Christoffel $\\\\Gamma_{\\\\alpha \\\\beta \\\\gamma}$ and $\\\\Gamma^{…",
      "application/vnd.jupyter.widget-view+json": {
       "version_major": 2,
       "version_minor": 0,
       "model_id": "4114b92cf955435b8d2be09d1631cd16"
      }
     },
     "metadata": {}
    },
    {
     "output_type": "stream",
     "name": "stdout",
     "text": [
      "\n"
     ]
    },
    {
     "output_type": "display_data",
     "data": {
      "text/plain": "HBox(children=(IntProgress(value=0, description='Riemann Tensor $R^{\\\\alpha}_{\\\\beta \\\\gamma \\\\delta}$', max=2…",
      "application/vnd.jupyter.widget-view+json": {
       "version_major": 2,
       "version_minor": 0,
       "model_id": "af2b02cdccc4423daddbab1012b10db5"
      }
     },
     "metadata": {}
    },
    {
     "output_type": "stream",
     "name": "stdout",
     "text": [
      "\n"
     ]
    },
    {
     "output_type": "display_data",
     "data": {
      "text/plain": "HBox(children=(IntProgress(value=0, description='Ricci Tensor $R_{\\\\alpha \\\\beta}$', max=16, style=ProgressSty…",
      "application/vnd.jupyter.widget-view+json": {
       "version_major": 2,
       "version_minor": 0,
       "model_id": "ccf9cf186a9144d389d067fefbfd76da"
      }
     },
     "metadata": {}
    },
    {
     "output_type": "stream",
     "name": "stdout",
     "text": [
      "\n"
     ]
    },
    {
     "output_type": "display_data",
     "data": {
      "text/plain": "HBox(children=(IntProgress(value=0, description='Ricci Scalar $R$', max=16, style=ProgressStyle(description_wi…",
      "application/vnd.jupyter.widget-view+json": {
       "version_major": 2,
       "version_minor": 0,
       "model_id": "64677cbe351744a2bc88b73ff371226a"
      }
     },
     "metadata": {}
    },
    {
     "output_type": "stream",
     "name": "stdout",
     "text": [
      "\n"
     ]
    },
    {
     "output_type": "display_data",
     "data": {
      "text/plain": "HBox(children=(IntProgress(value=0, description='Einstein Tensor $G_{\\\\alpha \\\\beta}$', max=16, style=Progress…",
      "application/vnd.jupyter.widget-view+json": {
       "version_major": 2,
       "version_minor": 0,
       "model_id": "689211bb4d1a4554a173ec2018764fc9"
      }
     },
     "metadata": {}
    },
    {
     "output_type": "stream",
     "name": "stdout",
     "text": [
      "\n"
     ]
    }
   ],
   "source": [
    "G = pt.einstein()"
   ]
  },
  {
   "cell_type": "markdown",
   "metadata": {},
   "source": [
    "#### The tensor computed is an object of the class Tensor. It has some attributes, for example, we can display the non-zero components of that tensor using the following line of code"
   ]
  },
  {
   "cell_type": "code",
   "execution_count": 4,
   "metadata": {},
   "outputs": [
    {
     "output_type": "display_data",
     "data": {
      "text/plain": "<IPython.core.display.Math object>",
      "text/latex": "$\\displaystyle {G}{}_{0}{}_{0} = \\frac{3 \\left(\\frac{d}{d t} a{\\left(t \\right)}\\right)^{2}}{4 a^{2}{\\left(t \\right)}}$"
     },
     "metadata": {}
    },
    {
     "output_type": "display_data",
     "data": {
      "text/plain": "<IPython.core.display.Math object>",
      "text/latex": "$\\displaystyle {G}{}_{1}{}_{1} = - \\frac{4 a{\\left(t \\right)} \\frac{d^{2}}{d t^{2}} a{\\left(t \\right)} - \\left(\\frac{d}{d t} a{\\left(t \\right)}\\right)^{2}}{4 a{\\left(t \\right)}}$"
     },
     "metadata": {}
    },
    {
     "output_type": "display_data",
     "data": {
      "text/plain": "<IPython.core.display.Math object>",
      "text/latex": "$\\displaystyle {G}{}_{2}{}_{2} = - \\frac{4 a{\\left(t \\right)} \\frac{d^{2}}{d t^{2}} a{\\left(t \\right)} - \\left(\\frac{d}{d t} a{\\left(t \\right)}\\right)^{2}}{4 a{\\left(t \\right)}}$"
     },
     "metadata": {}
    },
    {
     "output_type": "display_data",
     "data": {
      "text/plain": "<IPython.core.display.Math object>",
      "text/latex": "$\\displaystyle {G}{}_{3}{}_{3} = - \\frac{4 a{\\left(t \\right)} \\frac{d^{2}}{d t^{2}} a{\\left(t \\right)} - \\left(\\frac{d}{d t} a{\\left(t \\right)}\\right)^{2}}{4 a{\\left(t \\right)}}$"
     },
     "metadata": {}
    }
   ],
   "source": [
    "G.display(lista=True)"
   ]
  },
  {
   "cell_type": "markdown",
   "metadata": {},
   "source": [
    "#### Here we show the capability of performing covariant and non-covariant derivatives of a Tensor. "
   ]
  },
  {
   "cell_type": "code",
   "execution_count": 5,
   "metadata": {},
   "outputs": [],
   "source": [
    "A = pt.D(G('_a,_b'),'_c')\n",
    "B = pt.C(G('_a,_b'),'_c')"
   ]
  },
  {
   "cell_type": "markdown",
   "metadata": {},
   "source": [
    "#### This returns a different type of object that is related to the particular choise of indexes above. However, this object is diectly related to the tensors and we can assign its \"value\" to a tensor."
   ]
  },
  {
   "cell_type": "code",
   "execution_count": 6,
   "metadata": {},
   "outputs": [],
   "source": [
    "# Define the tensor Der and assign the value obtained above.\n",
    "Der = pt.new_ten('Der',3)\n",
    "Der.assign(A,'_a,_b,_c')\n",
    "Der.simplify()\n",
    "\n",
    "# Define the tensor Cov and assign the value obtained above.\n",
    "Cov = pt.new_ten('Cov',3)\n",
    "Cov.assign(B,'_a,_b,_c')\n",
    "Cov.simplify()"
   ]
  },
  {
   "cell_type": "code",
   "execution_count": 7,
   "metadata": {},
   "outputs": [
    {
     "output_type": "display_data",
     "data": {
      "text/plain": "<IPython.core.display.Math object>",
      "text/latex": "$\\displaystyle {Der}{}_{0}{}_{0}{}_{0} = \\frac{3 \\left(a{\\left(t \\right)} \\frac{d^{2}}{d t^{2}} a{\\left(t \\right)} - \\left(\\frac{d}{d t} a{\\left(t \\right)}\\right)^{2}\\right) \\frac{d}{d t} a{\\left(t \\right)}}{2 a^{3}{\\left(t \\right)}}$"
     },
     "metadata": {}
    },
    {
     "output_type": "display_data",
     "data": {
      "text/plain": "<IPython.core.display.Math object>",
      "text/latex": "$\\displaystyle {Der}{}_{1}{}_{1}{}_{0} = - \\frac{d^{3}}{d t^{3}} a{\\left(t \\right)} + \\frac{\\frac{d}{d t} a{\\left(t \\right)} \\frac{d^{2}}{d t^{2}} a{\\left(t \\right)}}{2 a{\\left(t \\right)}} - \\frac{\\left(\\frac{d}{d t} a{\\left(t \\right)}\\right)^{3}}{4 a^{2}{\\left(t \\right)}}$"
     },
     "metadata": {}
    },
    {
     "output_type": "display_data",
     "data": {
      "text/plain": "<IPython.core.display.Math object>",
      "text/latex": "$\\displaystyle {Der}{}_{2}{}_{2}{}_{0} = - \\frac{d^{3}}{d t^{3}} a{\\left(t \\right)} + \\frac{\\frac{d}{d t} a{\\left(t \\right)} \\frac{d^{2}}{d t^{2}} a{\\left(t \\right)}}{2 a{\\left(t \\right)}} - \\frac{\\left(\\frac{d}{d t} a{\\left(t \\right)}\\right)^{3}}{4 a^{2}{\\left(t \\right)}}$"
     },
     "metadata": {}
    },
    {
     "output_type": "display_data",
     "data": {
      "text/plain": "<IPython.core.display.Math object>",
      "text/latex": "$\\displaystyle {Der}{}_{3}{}_{3}{}_{0} = - \\frac{d^{3}}{d t^{3}} a{\\left(t \\right)} + \\frac{\\frac{d}{d t} a{\\left(t \\right)} \\frac{d^{2}}{d t^{2}} a{\\left(t \\right)}}{2 a{\\left(t \\right)}} - \\frac{\\left(\\frac{d}{d t} a{\\left(t \\right)}\\right)^{3}}{4 a^{2}{\\left(t \\right)}}$"
     },
     "metadata": {}
    }
   ],
   "source": [
    "Der.display(\"_,_,_\")"
   ]
  },
  {
   "cell_type": "code",
   "execution_count": 8,
   "metadata": {},
   "outputs": [
    {
     "output_type": "display_data",
     "data": {
      "text/plain": "<IPython.core.display.Math object>",
      "text/latex": "$\\displaystyle {Cov}{}_{0}{}_{0}{}_{0} = \\frac{3 \\left(a{\\left(t \\right)} \\frac{d^{2}}{d t^{2}} a{\\left(t \\right)} - \\left(\\frac{d}{d t} a{\\left(t \\right)}\\right)^{2}\\right) \\frac{d}{d t} a{\\left(t \\right)}}{2 a^{3}{\\left(t \\right)}}$"
     },
     "metadata": {}
    },
    {
     "output_type": "display_data",
     "data": {
      "text/plain": "<IPython.core.display.Math object>",
      "text/latex": "$\\displaystyle {Cov}{}_{0}{}_{1}{}_{1} = \\frac{\\left(a{\\left(t \\right)} \\frac{d^{2}}{d t^{2}} a{\\left(t \\right)} - \\left(\\frac{d}{d t} a{\\left(t \\right)}\\right)^{2}\\right) \\frac{d}{d t} a{\\left(t \\right)}}{2 a^{2}{\\left(t \\right)}}$"
     },
     "metadata": {}
    },
    {
     "output_type": "display_data",
     "data": {
      "text/plain": "<IPython.core.display.Math object>",
      "text/latex": "$\\displaystyle {Cov}{}_{0}{}_{2}{}_{2} = \\frac{\\left(a{\\left(t \\right)} \\frac{d^{2}}{d t^{2}} a{\\left(t \\right)} - \\left(\\frac{d}{d t} a{\\left(t \\right)}\\right)^{2}\\right) \\frac{d}{d t} a{\\left(t \\right)}}{2 a^{2}{\\left(t \\right)}}$"
     },
     "metadata": {}
    },
    {
     "output_type": "display_data",
     "data": {
      "text/plain": "<IPython.core.display.Math object>",
      "text/latex": "$\\displaystyle {Cov}{}_{0}{}_{3}{}_{3} = \\frac{\\left(a{\\left(t \\right)} \\frac{d^{2}}{d t^{2}} a{\\left(t \\right)} - \\left(\\frac{d}{d t} a{\\left(t \\right)}\\right)^{2}\\right) \\frac{d}{d t} a{\\left(t \\right)}}{2 a^{2}{\\left(t \\right)}}$"
     },
     "metadata": {}
    },
    {
     "output_type": "display_data",
     "data": {
      "text/plain": "<IPython.core.display.Math object>",
      "text/latex": "$\\displaystyle {Cov}{}_{1}{}_{0}{}_{1} = \\frac{\\left(a{\\left(t \\right)} \\frac{d^{2}}{d t^{2}} a{\\left(t \\right)} - \\left(\\frac{d}{d t} a{\\left(t \\right)}\\right)^{2}\\right) \\frac{d}{d t} a{\\left(t \\right)}}{2 a^{2}{\\left(t \\right)}}$"
     },
     "metadata": {}
    },
    {
     "output_type": "display_data",
     "data": {
      "text/plain": "<IPython.core.display.Math object>",
      "text/latex": "$\\displaystyle {Cov}{}_{1}{}_{1}{}_{0} = - \\frac{d^{3}}{d t^{3}} a{\\left(t \\right)} + \\frac{3 \\frac{d}{d t} a{\\left(t \\right)} \\frac{d^{2}}{d t^{2}} a{\\left(t \\right)}}{2 a{\\left(t \\right)}} - \\frac{\\left(\\frac{d}{d t} a{\\left(t \\right)}\\right)^{3}}{2 a^{2}{\\left(t \\right)}}$"
     },
     "metadata": {}
    },
    {
     "output_type": "display_data",
     "data": {
      "text/plain": "<IPython.core.display.Math object>",
      "text/latex": "$\\displaystyle {Cov}{}_{2}{}_{0}{}_{2} = \\frac{\\left(a{\\left(t \\right)} \\frac{d^{2}}{d t^{2}} a{\\left(t \\right)} - \\left(\\frac{d}{d t} a{\\left(t \\right)}\\right)^{2}\\right) \\frac{d}{d t} a{\\left(t \\right)}}{2 a^{2}{\\left(t \\right)}}$"
     },
     "metadata": {}
    },
    {
     "output_type": "display_data",
     "data": {
      "text/plain": "<IPython.core.display.Math object>",
      "text/latex": "$\\displaystyle {Cov}{}_{2}{}_{2}{}_{0} = - \\frac{d^{3}}{d t^{3}} a{\\left(t \\right)} + \\frac{3 \\frac{d}{d t} a{\\left(t \\right)} \\frac{d^{2}}{d t^{2}} a{\\left(t \\right)}}{2 a{\\left(t \\right)}} - \\frac{\\left(\\frac{d}{d t} a{\\left(t \\right)}\\right)^{3}}{2 a^{2}{\\left(t \\right)}}$"
     },
     "metadata": {}
    },
    {
     "output_type": "display_data",
     "data": {
      "text/plain": "<IPython.core.display.Math object>",
      "text/latex": "$\\displaystyle {Cov}{}_{3}{}_{0}{}_{3} = \\frac{\\left(a{\\left(t \\right)} \\frac{d^{2}}{d t^{2}} a{\\left(t \\right)} - \\left(\\frac{d}{d t} a{\\left(t \\right)}\\right)^{2}\\right) \\frac{d}{d t} a{\\left(t \\right)}}{2 a^{2}{\\left(t \\right)}}$"
     },
     "metadata": {}
    },
    {
     "output_type": "display_data",
     "data": {
      "text/plain": "<IPython.core.display.Math object>",
      "text/latex": "$\\displaystyle {Cov}{}_{3}{}_{3}{}_{0} = - \\frac{d^{3}}{d t^{3}} a{\\left(t \\right)} + \\frac{3 \\frac{d}{d t} a{\\left(t \\right)} \\frac{d^{2}}{d t^{2}} a{\\left(t \\right)}}{2 a{\\left(t \\right)}} - \\frac{\\left(\\frac{d}{d t} a{\\left(t \\right)}\\right)^{3}}{2 a^{2}{\\left(t \\right)}}$"
     },
     "metadata": {}
    }
   ],
   "source": [
    "Cov.display(\"_,_,_\")"
   ]
  },
  {
   "cell_type": "markdown",
   "metadata": {},
   "source": [
    "#### We can also perform simple tensor operations. For example we can raise one index of the tensor $G$ and assign its value to another tensor $T$"
   ]
  },
  {
   "cell_type": "code",
   "execution_count": 9,
   "metadata": {},
   "outputs": [],
   "source": [
    "Td = G(\"_a,_b\")*g(\"^b,^c\")"
   ]
  },
  {
   "cell_type": "code",
   "execution_count": 10,
   "metadata": {},
   "outputs": [],
   "source": [
    "T = pt.new_ten('T',2)\n",
    "T.assign(Td,\"_a,^c\")"
   ]
  },
  {
   "cell_type": "code",
   "execution_count": 11,
   "metadata": {},
   "outputs": [
    {
     "output_type": "display_data",
     "data": {
      "text/plain": "<IPython.core.display.Math object>",
      "text/latex": "$\\displaystyle {T}{}_{0}{}^{0} = - \\frac{3 \\left(\\frac{d}{d t} a{\\left(t \\right)}\\right)^{2}}{4 a^{2}{\\left(t \\right)}}$"
     },
     "metadata": {}
    },
    {
     "output_type": "display_data",
     "data": {
      "text/plain": "<IPython.core.display.Math object>",
      "text/latex": "$\\displaystyle {T}{}_{1}{}^{1} = - \\frac{4 a{\\left(t \\right)} \\frac{d^{2}}{d t^{2}} a{\\left(t \\right)} - \\left(\\frac{d}{d t} a{\\left(t \\right)}\\right)^{2}}{4 a^{2}{\\left(t \\right)}}$"
     },
     "metadata": {}
    },
    {
     "output_type": "display_data",
     "data": {
      "text/plain": "<IPython.core.display.Math object>",
      "text/latex": "$\\displaystyle {T}{}_{2}{}^{2} = - \\frac{4 a{\\left(t \\right)} \\frac{d^{2}}{d t^{2}} a{\\left(t \\right)} - \\left(\\frac{d}{d t} a{\\left(t \\right)}\\right)^{2}}{4 a^{2}{\\left(t \\right)}}$"
     },
     "metadata": {}
    },
    {
     "output_type": "display_data",
     "data": {
      "text/plain": "<IPython.core.display.Math object>",
      "text/latex": "$\\displaystyle {T}{}_{3}{}^{3} = - \\frac{4 a{\\left(t \\right)} \\frac{d^{2}}{d t^{2}} a{\\left(t \\right)} - \\left(\\frac{d}{d t} a{\\left(t \\right)}\\right)^{2}}{4 a^{2}{\\left(t \\right)}}$"
     },
     "metadata": {}
    }
   ],
   "source": [
    "T.display(\"_,^\",lista=True)"
   ]
  },
  {
   "cell_type": "code",
   "execution_count": null,
   "metadata": {},
   "outputs": [],
   "source": []
  }
 ],
 "metadata": {
  "kernelspec": {
   "display_name": "Python 3",
   "language": "python",
   "name": "python3"
  },
  "language_info": {
   "codemirror_mode": {
    "name": "ipython",
    "version": 3
   },
   "file_extension": ".py",
   "mimetype": "text/x-python",
   "name": "python",
   "nbconvert_exporter": "python",
   "pygments_lexer": "ipython3",
   "version": "3.7.3-final"
  }
 },
 "nbformat": 4,
 "nbformat_minor": 2
}