{
 "cells": [
  {
   "cell_type": "code",
   "execution_count": 1,
   "metadata": {},
   "outputs": [],
   "source": [
    "import metric\n",
    "from tensor_class import Tensor,D,C\n",
    "from misc import new_var, new_fun, new_ten, order, new_con\n",
    "from einstein import calculate_einstein_tensor as einstein\n"
   ]
  },
  {
   "cell_type": "markdown",
   "metadata": {},
   "source": [
    "#### We define the coordinates for the metric. Also, define the functions needed to construct the metric to be used. Then, we finally build the metric tensor from the line element $ds^2$. In this case, we used\n",
    "\n",
    "$$ds^2 = -dt^2 + a(t)\\,(dx^2 +dy^2 + dz^2) $$"
   ]
  },
  {
   "cell_type": "code",
   "execution_count": 2,
   "metadata": {},
   "outputs": [
    {
     "name": "stdout",
     "output_type": "stream",
     "text": [
      "Remember that the time coordinate must be the first coordinate.\n",
      "Metric was defined successfully: \n",
      "\n",
      "Dimension = 4\n",
      "Coordinates = t,x,y,z\n"
     ]
    },
    {
     "data": {
      "text/latex": [
       "$\\displaystyle ds^2 = -1 \\cdot dt^2+a{\\left(t \\right)} \\cdot dx^2+a{\\left(t \\right)} \\cdot dy^2+a{\\left(t \\right)} \\cdot dz^2$"
      ],
      "text/plain": [
       "<IPython.core.display.Math object>"
      ]
     },
     "metadata": {},
     "output_type": "display_data"
    },
    {
     "data": {
      "text/latex": [
       "$\\displaystyle \\left[\\begin{matrix}-1 & 0 & 0 & 0\\\\0 & a{\\left(t \\right)} & 0 & 0\\\\0 & 0 & a{\\left(t \\right)} & 0\\\\0 & 0 & 0 & a{\\left(t \\right)}\\end{matrix}\\right]$"
      ],
      "text/plain": [
       "<IPython.core.display.Math object>"
      ]
     },
     "metadata": {},
     "output_type": "display_data"
    }
   ],
   "source": [
    "t,x,y,z = metric.def_coords('t,x,y,z')\n",
    "a = new_fun('a','t')\n",
    "g = metric.create_metric('ds2 = -dt*dt + a*(dx**2 + dy**2 + dz**2)')"
   ]
  },
  {
   "cell_type": "markdown",
   "metadata": {},
   "source": [
    "#### We can use this function to compute the Einstein tensor of the metric already defined."
   ]
  },
  {
   "cell_type": "code",
   "execution_count": 3,
   "metadata": {},
   "outputs": [
    {
     "data": {
      "application/vnd.jupyter.widget-view+json": {
       "model_id": "290084ce2ff04a3385aa9548d5a063ff",
       "version_major": 2,
       "version_minor": 0
      },
      "text/plain": [
       "HBox(children=(IntProgress(value=0, description='Christoffel $\\\\Gamma_{\\\\alpha \\\\beta \\\\gamma}$ and $\\\\Gamma^{…"
      ]
     },
     "metadata": {},
     "output_type": "display_data"
    },
    {
     "name": "stdout",
     "output_type": "stream",
     "text": [
      "\n"
     ]
    },
    {
     "data": {
      "application/vnd.jupyter.widget-view+json": {
       "model_id": "b0d868c7c0434aa19cbeec5dae6e21e1",
       "version_major": 2,
       "version_minor": 0
      },
      "text/plain": [
       "HBox(children=(IntProgress(value=0, description='Riemann Tensor $R^{\\\\alpha}_{\\\\beta \\\\gamma \\\\delta}$', max=2…"
      ]
     },
     "metadata": {},
     "output_type": "display_data"
    },
    {
     "name": "stdout",
     "output_type": "stream",
     "text": [
      "\n"
     ]
    },
    {
     "data": {
      "application/vnd.jupyter.widget-view+json": {
       "model_id": "77719e792495471c998a807e4438fc07",
       "version_major": 2,
       "version_minor": 0
      },
      "text/plain": [
       "HBox(children=(IntProgress(value=0, description='Ricci Tensor $R_{\\\\alpha \\\\beta}$', max=16, style=ProgressSty…"
      ]
     },
     "metadata": {},
     "output_type": "display_data"
    },
    {
     "name": "stdout",
     "output_type": "stream",
     "text": [
      "\n"
     ]
    },
    {
     "data": {
      "application/vnd.jupyter.widget-view+json": {
       "model_id": "5726768794924ad88dde20566e59d0e0",
       "version_major": 2,
       "version_minor": 0
      },
      "text/plain": [
       "HBox(children=(IntProgress(value=0, description='Ricci Scalar $R$', max=16, style=ProgressStyle(description_wi…"
      ]
     },
     "metadata": {},
     "output_type": "display_data"
    },
    {
     "name": "stdout",
     "output_type": "stream",
     "text": [
      "\n"
     ]
    },
    {
     "data": {
      "application/vnd.jupyter.widget-view+json": {
       "model_id": "2f751269598f44f19dd62a9d90019c47",
       "version_major": 2,
       "version_minor": 0
      },
      "text/plain": [
       "HBox(children=(IntProgress(value=0, description='Einstein Tensor $G_{\\\\alpha \\\\beta}$', max=16, style=Progress…"
      ]
     },
     "metadata": {},
     "output_type": "display_data"
    },
    {
     "name": "stdout",
     "output_type": "stream",
     "text": [
      "\n"
     ]
    }
   ],
   "source": [
    "G = einstein()"
   ]
  },
  {
   "cell_type": "markdown",
   "metadata": {},
   "source": [
    "#### The tensor computed is an object of the class Tensor. It has some attributes, for example, we can display the non-zero components of that tensor using the following line of code"
   ]
  },
  {
   "cell_type": "code",
   "execution_count": 4,
   "metadata": {},
   "outputs": [
    {
     "data": {
      "text/latex": [
       "$\\displaystyle {G}{}_{0}{}_{0} = \\frac{3 \\frac{d}{d t} a\\left(t\\right)^2}{4 a\\left(t\\right)^2}$"
      ],
      "text/plain": [
       "<IPython.core.display.Math object>"
      ]
     },
     "metadata": {},
     "output_type": "display_data"
    },
    {
     "data": {
      "text/latex": [
       "$\\displaystyle {G}{}_{1}{}_{1} = \\frac{-1 \\left(4 a\\left(t\\right) \\frac{\\partial^2}{\\partial t^2 } a\\left(t\\right) - \\frac{d}{d t} a\\left(t\\right)^2\\right)}{4 a\\left(t\\right)}$"
      ],
      "text/plain": [
       "<IPython.core.display.Math object>"
      ]
     },
     "metadata": {},
     "output_type": "display_data"
    },
    {
     "data": {
      "text/latex": [
       "$\\displaystyle {G}{}_{2}{}_{2} = \\frac{-1 \\left(4 a\\left(t\\right) \\frac{\\partial^2}{\\partial t^2 } a\\left(t\\right) - \\frac{d}{d t} a\\left(t\\right)^2\\right)}{4 a\\left(t\\right)}$"
      ],
      "text/plain": [
       "<IPython.core.display.Math object>"
      ]
     },
     "metadata": {},
     "output_type": "display_data"
    },
    {
     "data": {
      "text/latex": [
       "$\\displaystyle {G}{}_{3}{}_{3} = \\frac{-1 \\left(4 a\\left(t\\right) \\frac{\\partial^2}{\\partial t^2 } a\\left(t\\right) - \\frac{d}{d t} a\\left(t\\right)^2\\right)}{4 a\\left(t\\right)}$"
      ],
      "text/plain": [
       "<IPython.core.display.Math object>"
      ]
     },
     "metadata": {},
     "output_type": "display_data"
    }
   ],
   "source": [
    "G.display(lista=True)"
   ]
  },
  {
   "cell_type": "markdown",
   "metadata": {},
   "source": [
    "#### Here we show the capability of performing covariant and non-covariant derivatives of a Tensor. "
   ]
  },
  {
   "cell_type": "code",
   "execution_count": 15,
   "metadata": {},
   "outputs": [],
   "source": [
    "A = D(G('_a,_b'),'_c')\n",
    "B = C(G('_a,_b'),'_c')"
   ]
  },
  {
   "cell_type": "markdown",
   "metadata": {},
   "source": [
    "#### This returns a different type of object that is related to the particular choise of indexes above. However, this object is diectly related to the tensors and we can assign its \"value\" to a tensor."
   ]
  },
  {
   "cell_type": "code",
   "execution_count": 25,
   "metadata": {},
   "outputs": [],
   "source": [
    "# Define the tensor Der and assign the value obtained above.\n",
    "Der = new_ten('Der',3)\n",
    "Der.assign(A,'_a,_b,_c')\n",
    "Der.simplify()\n",
    "\n",
    "# Define the tensor Cov and assign the value obtained above.\n",
    "Cov = new_ten('Cov',3)\n",
    "Cov.assign(B,'_a,_b,_c')\n",
    "Cov.simplify()"
   ]
  },
  {
   "cell_type": "code",
   "execution_count": 26,
   "metadata": {},
   "outputs": [
    {
     "data": {
      "text/latex": [
       "$\\displaystyle {Der}{}_{0}{}_{0}{}_{0} = \\frac{3 \\frac{d}{d t} a\\left(t\\right) \\left(a\\left(t\\right) \\frac{\\partial^2}{\\partial t^2 } a\\left(t\\right) - \\frac{d}{d t} a\\left(t\\right)^2\\right)}{2 a\\left(t\\right)^3}$"
      ],
      "text/plain": [
       "<IPython.core.display.Math object>"
      ]
     },
     "metadata": {},
     "output_type": "display_data"
    },
    {
     "data": {
      "text/latex": [
       "$\\displaystyle {Der}{}_{1}{}_{1}{}_{0} = \\left(\\frac{-1}{4}\\right) \\frac{\\frac{d}{d t} a\\left(t\\right)^3}{a\\left(t\\right)^2} + \\left(\\frac{1}{2}\\right) \\frac{\\frac{d}{d t} a\\left(t\\right) \\frac{\\partial^2}{\\partial t^2 } a\\left(t\\right)}{a\\left(t\\right)} - \\frac{\\partial^3}{\\partial t^3 } a\\left(t\\right)$"
      ],
      "text/plain": [
       "<IPython.core.display.Math object>"
      ]
     },
     "metadata": {},
     "output_type": "display_data"
    },
    {
     "data": {
      "text/latex": [
       "$\\displaystyle {Der}{}_{2}{}_{2}{}_{0} = \\left(\\frac{-1}{4}\\right) \\frac{\\frac{d}{d t} a\\left(t\\right)^3}{a\\left(t\\right)^2} + \\left(\\frac{1}{2}\\right) \\frac{\\frac{d}{d t} a\\left(t\\right) \\frac{\\partial^2}{\\partial t^2 } a\\left(t\\right)}{a\\left(t\\right)} - \\frac{\\partial^3}{\\partial t^3 } a\\left(t\\right)$"
      ],
      "text/plain": [
       "<IPython.core.display.Math object>"
      ]
     },
     "metadata": {},
     "output_type": "display_data"
    },
    {
     "data": {
      "text/latex": [
       "$\\displaystyle {Der}{}_{3}{}_{3}{}_{0} = \\left(\\frac{-1}{4}\\right) \\frac{\\frac{d}{d t} a\\left(t\\right)^3}{a\\left(t\\right)^2} + \\left(\\frac{1}{2}\\right) \\frac{\\frac{d}{d t} a\\left(t\\right) \\frac{\\partial^2}{\\partial t^2 } a\\left(t\\right)}{a\\left(t\\right)} - \\frac{\\partial^3}{\\partial t^3 } a\\left(t\\right)$"
      ],
      "text/plain": [
       "<IPython.core.display.Math object>"
      ]
     },
     "metadata": {},
     "output_type": "display_data"
    }
   ],
   "source": [
    "Der.display(\"_,_,_\")"
   ]
  },
  {
   "cell_type": "code",
   "execution_count": 27,
   "metadata": {},
   "outputs": [
    {
     "data": {
      "text/latex": [
       "$\\displaystyle {Cov}{}_{0}{}_{0}{}_{0} = \\frac{3 \\frac{d}{d t} a\\left(t\\right) \\left(a\\left(t\\right) \\frac{\\partial^2}{\\partial t^2 } a\\left(t\\right) - \\frac{d}{d t} a\\left(t\\right)^2\\right)}{2 a\\left(t\\right)^3}$"
      ],
      "text/plain": [
       "<IPython.core.display.Math object>"
      ]
     },
     "metadata": {},
     "output_type": "display_data"
    },
    {
     "data": {
      "text/latex": [
       "$\\displaystyle {Cov}{}_{0}{}_{1}{}_{1} = \\frac{\\frac{d}{d t} a\\left(t\\right) \\left(a\\left(t\\right) \\frac{\\partial^2}{\\partial t^2 } a\\left(t\\right) - \\frac{d}{d t} a\\left(t\\right)^2\\right)}{2 a\\left(t\\right)^2}$"
      ],
      "text/plain": [
       "<IPython.core.display.Math object>"
      ]
     },
     "metadata": {},
     "output_type": "display_data"
    },
    {
     "data": {
      "text/latex": [
       "$\\displaystyle {Cov}{}_{0}{}_{2}{}_{2} = \\frac{\\frac{d}{d t} a\\left(t\\right) \\left(a\\left(t\\right) \\frac{\\partial^2}{\\partial t^2 } a\\left(t\\right) - \\frac{d}{d t} a\\left(t\\right)^2\\right)}{2 a\\left(t\\right)^2}$"
      ],
      "text/plain": [
       "<IPython.core.display.Math object>"
      ]
     },
     "metadata": {},
     "output_type": "display_data"
    },
    {
     "data": {
      "text/latex": [
       "$\\displaystyle {Cov}{}_{0}{}_{3}{}_{3} = \\frac{\\frac{d}{d t} a\\left(t\\right) \\left(a\\left(t\\right) \\frac{\\partial^2}{\\partial t^2 } a\\left(t\\right) - \\frac{d}{d t} a\\left(t\\right)^2\\right)}{2 a\\left(t\\right)^2}$"
      ],
      "text/plain": [
       "<IPython.core.display.Math object>"
      ]
     },
     "metadata": {},
     "output_type": "display_data"
    },
    {
     "data": {
      "text/latex": [
       "$\\displaystyle {Cov}{}_{1}{}_{0}{}_{1} = \\frac{\\frac{d}{d t} a\\left(t\\right) \\left(a\\left(t\\right) \\frac{\\partial^2}{\\partial t^2 } a\\left(t\\right) - \\frac{d}{d t} a\\left(t\\right)^2\\right)}{2 a\\left(t\\right)^2}$"
      ],
      "text/plain": [
       "<IPython.core.display.Math object>"
      ]
     },
     "metadata": {},
     "output_type": "display_data"
    },
    {
     "data": {
      "text/latex": [
       "$\\displaystyle {Cov}{}_{1}{}_{1}{}_{0} = \\left(\\frac{-1}{2}\\right) \\frac{\\frac{d}{d t} a\\left(t\\right)^3}{a\\left(t\\right)^2} + \\left(\\frac{3}{2}\\right) \\frac{\\frac{d}{d t} a\\left(t\\right) \\frac{\\partial^2}{\\partial t^2 } a\\left(t\\right)}{a\\left(t\\right)} - \\frac{\\partial^3}{\\partial t^3 } a\\left(t\\right)$"
      ],
      "text/plain": [
       "<IPython.core.display.Math object>"
      ]
     },
     "metadata": {},
     "output_type": "display_data"
    },
    {
     "data": {
      "text/latex": [
       "$\\displaystyle {Cov}{}_{2}{}_{0}{}_{2} = \\frac{\\frac{d}{d t} a\\left(t\\right) \\left(a\\left(t\\right) \\frac{\\partial^2}{\\partial t^2 } a\\left(t\\right) - \\frac{d}{d t} a\\left(t\\right)^2\\right)}{2 a\\left(t\\right)^2}$"
      ],
      "text/plain": [
       "<IPython.core.display.Math object>"
      ]
     },
     "metadata": {},
     "output_type": "display_data"
    },
    {
     "data": {
      "text/latex": [
       "$\\displaystyle {Cov}{}_{2}{}_{2}{}_{0} = \\left(\\frac{-1}{2}\\right) \\frac{\\frac{d}{d t} a\\left(t\\right)^3}{a\\left(t\\right)^2} + \\left(\\frac{3}{2}\\right) \\frac{\\frac{d}{d t} a\\left(t\\right) \\frac{\\partial^2}{\\partial t^2 } a\\left(t\\right)}{a\\left(t\\right)} - \\frac{\\partial^3}{\\partial t^3 } a\\left(t\\right)$"
      ],
      "text/plain": [
       "<IPython.core.display.Math object>"
      ]
     },
     "metadata": {},
     "output_type": "display_data"
    },
    {
     "data": {
      "text/latex": [
       "$\\displaystyle {Cov}{}_{3}{}_{0}{}_{3} = \\frac{\\frac{d}{d t} a\\left(t\\right) \\left(a\\left(t\\right) \\frac{\\partial^2}{\\partial t^2 } a\\left(t\\right) - \\frac{d}{d t} a\\left(t\\right)^2\\right)}{2 a\\left(t\\right)^2}$"
      ],
      "text/plain": [
       "<IPython.core.display.Math object>"
      ]
     },
     "metadata": {},
     "output_type": "display_data"
    },
    {
     "data": {
      "text/latex": [
       "$\\displaystyle {Cov}{}_{3}{}_{3}{}_{0} = \\left(\\frac{-1}{2}\\right) \\frac{\\frac{d}{d t} a\\left(t\\right)^3}{a\\left(t\\right)^2} + \\left(\\frac{3}{2}\\right) \\frac{\\frac{d}{d t} a\\left(t\\right) \\frac{\\partial^2}{\\partial t^2 } a\\left(t\\right)}{a\\left(t\\right)} - \\frac{\\partial^3}{\\partial t^3 } a\\left(t\\right)$"
      ],
      "text/plain": [
       "<IPython.core.display.Math object>"
      ]
     },
     "metadata": {},
     "output_type": "display_data"
    }
   ],
   "source": [
    "Cov.display(\"_,_,_\")"
   ]
  },
  {
   "cell_type": "markdown",
   "metadata": {},
   "source": [
    "#### We can also perform simple tensor operations. For example we can raise one index of the tensor $G$ and assign its value to another tensor $T$"
   ]
  },
  {
   "cell_type": "code",
   "execution_count": 28,
   "metadata": {},
   "outputs": [],
   "source": [
    "Td = G(\"_a,_b\")*g(\"^b,^c\")"
   ]
  },
  {
   "cell_type": "code",
   "execution_count": 29,
   "metadata": {},
   "outputs": [],
   "source": [
    "T = new_ten('T',2)\n",
    "T.assign(Td,\"_a,^c\")"
   ]
  },
  {
   "cell_type": "code",
   "execution_count": 31,
   "metadata": {},
   "outputs": [
    {
     "data": {
      "text/latex": [
       "$\\displaystyle {T}{}_{0}{}^{0} = \\frac{-3 \\frac{d}{d t} a\\left(t\\right)^2}{4 a\\left(t\\right)^2}$"
      ],
      "text/plain": [
       "<IPython.core.display.Math object>"
      ]
     },
     "metadata": {},
     "output_type": "display_data"
    },
    {
     "data": {
      "text/latex": [
       "$\\displaystyle {T}{}_{1}{}^{1} = \\frac{-1 \\left(4 a\\left(t\\right) \\frac{\\partial^2}{\\partial t^2 } a\\left(t\\right) - \\frac{d}{d t} a\\left(t\\right)^2\\right)}{4 a\\left(t\\right)^2}$"
      ],
      "text/plain": [
       "<IPython.core.display.Math object>"
      ]
     },
     "metadata": {},
     "output_type": "display_data"
    },
    {
     "data": {
      "text/latex": [
       "$\\displaystyle {T}{}_{2}{}^{2} = \\frac{-1 \\left(4 a\\left(t\\right) \\frac{\\partial^2}{\\partial t^2 } a\\left(t\\right) - \\frac{d}{d t} a\\left(t\\right)^2\\right)}{4 a\\left(t\\right)^2}$"
      ],
      "text/plain": [
       "<IPython.core.display.Math object>"
      ]
     },
     "metadata": {},
     "output_type": "display_data"
    },
    {
     "data": {
      "text/latex": [
       "$\\displaystyle {T}{}_{3}{}^{3} = \\frac{-1 \\left(4 a\\left(t\\right) \\frac{\\partial^2}{\\partial t^2 } a\\left(t\\right) - \\frac{d}{d t} a\\left(t\\right)^2\\right)}{4 a\\left(t\\right)^2}$"
      ],
      "text/plain": [
       "<IPython.core.display.Math object>"
      ]
     },
     "metadata": {},
     "output_type": "display_data"
    }
   ],
   "source": [
    "T.display(\"_,^\",lista=True)"
   ]
  }
 ],
 "metadata": {
  "kernelspec": {
   "display_name": "Python 3",
   "language": "python",
   "name": "python3"
  },
  "language_info": {
   "codemirror_mode": {
    "name": "ipython",
    "version": 3
   },
   "file_extension": ".py",
   "mimetype": "text/x-python",
   "name": "python",
   "nbconvert_exporter": "python",
   "pygments_lexer": "ipython3",
   "version": "3.7.3"
  }
 },
 "nbformat": 4,
 "nbformat_minor": 2
}
