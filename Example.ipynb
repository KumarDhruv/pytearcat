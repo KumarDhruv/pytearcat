{
 "cells": [
  {
   "cell_type": "code",
   "execution_count": 1,
   "metadata": {},
   "outputs": [],
   "source": [
    "import pytensor as pt\n",
    "import giacpy as gp\n",
    "import sympy as sp\n",
    "import re as re\n",
    "from IPython.display import display as display_IP, Math as Math_IP, Latex as Latex_IP"
   ]
  },
  {
   "cell_type": "markdown",
   "metadata": {},
   "source": [
    "agregar una excepcion a VARIALBES Q SE LLAMEN EPSILON pq no piede trbajar con eso\n",
    "\n",
    "el usuario tiene q seleciconar el core calc"
   ]
  },
  {
   "cell_type": "code",
   "execution_count": 2,
   "metadata": {
    "scrolled": true
   },
   "outputs": [
    {
     "name": "stdout",
     "output_type": "stream",
     "text": [
      "Remember that the time coordinate must be the first coordinate.\n",
      "\n",
      "Dimension = 4\n",
      "Coordinates = t,x,y,z\n",
      "Metric was defined successfully: \n",
      "\n"
     ]
    },
    {
     "data": {
      "text/latex": [
       "$\\displaystyle ds^2 = \\left(-a\\left(t\\right)^{2}-2\\,a\\left(t\\right)^{2}\\,\\psi\\left(x,y,z\\right) \\kappa\\right) \\cdot dt^2+\\left(a\\left(t\\right)^{2}-2\\,a\\left(t\\right)^{2}\\,\\phi\\left(x,y,z\\right) \\kappa\\right) \\cdot dx^2+\\left(a\\left(t\\right)^{2}-2\\,a\\left(t\\right)^{2}\\,\\phi\\left(x,y,z\\right) \\kappa\\right) \\cdot dy^2+\\left(a\\left(t\\right)^{2}-2\\,a\\left(t\\right)^{2}\\,\\phi\\left(x,y,z\\right) \\kappa\\right) \\cdot dz^2$"
      ],
      "text/plain": [
       "<IPython.core.display.Math object>"
      ]
     },
     "metadata": {},
     "output_type": "display_data"
    },
    {
     "data": {
      "text/latex": [
       "$\\displaystyle \\left(\\begin{array}{cccc}-a\\left(t\\right)^{2}-2\\,a\\left(t\\right)^{2}\\,\\psi\\left(x,y,z\\right) \\kappa&0&0&0\\\\0&a\\left(t\\right)^{2}-2\\,a\\left(t\\right)^{2}\\,\\phi\\left(x,y,z\\right) \\kappa&0&0\\\\0&0&a\\left(t\\right)^{2}-2\\,a\\left(t\\right)^{2}\\,\\phi\\left(x,y,z\\right) \\kappa&0\\\\0&0&0&a\\left(t\\right)^{2}-2\\,a\\left(t\\right)^{2}\\,\\phi\\left(x,y,z\\right) \\kappa\\end{array}\\right)\n",
       "$"
      ],
      "text/plain": [
       "<IPython.core.display.Math object>"
      ]
     },
     "metadata": {},
     "output_type": "display_data"
    }
   ],
   "source": [
    "kappa = pt.new_con('kappa')\n",
    "t,x,y,z = pt.def_coords('t,x,y,z')\n",
    "a = pt.new_fun('a','t')\n",
    "phi = pt.new_fun('phi','x,y,z')\n",
    "psi = pt.new_fun('psi','x,y,z')\n",
    "pt.setorder(kappa,1)\n",
    "\n",
    "g = pt.create_metric('ds2 = -(1+2*kappa*psi)*a**2*dt*dt + (1-2*phi*kappa)*a**2*(dx**2 + dy**2 + dz**2)')"
   ]
  },
  {
   "cell_type": "markdown",
   "metadata": {},
   "source": [
    "#### We define the coordinates for the metric. Also, define the functions needed to construct the metric to be used. Then, we finally build the metric tensor from the line element $ds^2$. In this case, we used\n",
    "\n",
    "$$ds^2 = -dt^2 + a(t)\\,(dx^2 +dy^2 + dz^2) $$"
   ]
  },
  {
   "cell_type": "code",
   "execution_count": 4,
   "metadata": {},
   "outputs": [
    {
     "data": {
      "text/latex": [
       "Christoffel $\\Gamma_{\\alpha \\beta \\gamma}$ and $\\Gamma^{\\alpha}_{\\beta \\gamma}$"
      ],
      "text/plain": [
       "<IPython.core.display.Latex object>"
      ]
     },
     "metadata": {},
     "output_type": "display_data"
    },
    {
     "data": {
      "application/vnd.jupyter.widget-view+json": {
       "model_id": "baa24c0c01d942ac84e448e824a39f12",
       "version_major": 2,
       "version_minor": 0
      },
      "text/plain": [
       "HBox(children=(HTML(value=''), FloatProgress(value=0.0, max=64.0), HTML(value='')))"
      ]
     },
     "metadata": {},
     "output_type": "display_data"
    },
    {
     "name": "stdout",
     "output_type": "stream",
     "text": [
      "\n"
     ]
    },
    {
     "data": {
      "text/latex": [
       "$\\displaystyle {\\Gamma}{}^{0\n",
       "}{}_{0\n",
       "}{}_{0\n",
       "} = \\frac{\\frac{\\mathrm{d}}{\\mathrm{d}t}\\,a\\left(t\\right)}{a\\left(t\\right)}+\\mathrm{O}\\left(\\kappa^{2}\\right)$"
      ],
      "text/plain": [
       "<IPython.core.display.Math object>"
      ]
     },
     "metadata": {},
     "output_type": "display_data"
    },
    {
     "data": {
      "text/latex": [
       "$\\displaystyle {\\Gamma}{}^{0\n",
       "}{}_{0\n",
       "}{}_{1\n",
       "} = \\frac{\\partial }{\\partial x}\\psi\\left(x,y,z\\right) \\kappa+\\mathrm{O}\\left(\\kappa^{2}\\right)$"
      ],
      "text/plain": [
       "<IPython.core.display.Math object>"
      ]
     },
     "metadata": {},
     "output_type": "display_data"
    },
    {
     "data": {
      "text/latex": [
       "$\\displaystyle {\\Gamma}{}^{0\n",
       "}{}_{0\n",
       "}{}_{2\n",
       "} = \\frac{\\partial }{\\partial y}\\psi\\left(x,y,z\\right) \\kappa+\\mathrm{O}\\left(\\kappa^{2}\\right)$"
      ],
      "text/plain": [
       "<IPython.core.display.Math object>"
      ]
     },
     "metadata": {},
     "output_type": "display_data"
    },
    {
     "data": {
      "text/latex": [
       "$\\displaystyle {\\Gamma}{}^{0\n",
       "}{}_{0\n",
       "}{}_{3\n",
       "} = \\frac{\\partial }{\\partial z}\\psi\\left(x,y,z\\right) \\kappa+\\mathrm{O}\\left(\\kappa^{2}\\right)$"
      ],
      "text/plain": [
       "<IPython.core.display.Math object>"
      ]
     },
     "metadata": {},
     "output_type": "display_data"
    },
    {
     "data": {
      "text/latex": [
       "$\\displaystyle {\\Gamma}{}^{0\n",
       "}{}_{1\n",
       "}{}_{0\n",
       "} = \\frac{\\partial }{\\partial x}\\psi\\left(x,y,z\\right) \\kappa+\\mathrm{O}\\left(\\kappa^{2}\\right)$"
      ],
      "text/plain": [
       "<IPython.core.display.Math object>"
      ]
     },
     "metadata": {},
     "output_type": "display_data"
    },
    {
     "data": {
      "text/latex": [
       "$\\displaystyle {\\Gamma}{}^{0\n",
       "}{}_{1\n",
       "}{}_{1\n",
       "} = \\frac{\\frac{\\mathrm{d}}{\\mathrm{d}t}\\,a\\left(t\\right)}{a\\left(t\\right)}+\\frac{\\left(-2\\,\\frac{\\mathrm{d}}{\\mathrm{d}t}\\,a\\left(t\\right) \\phi\\left(x,y,z\\right)-2\\,\\frac{\\mathrm{d}}{\\mathrm{d}t}\\,a\\left(t\\right) \\psi\\left(x,y,z\\right)\\right) \\kappa}{a\\left(t\\right)}+\\mathrm{O}\\left(\\kappa^{2}\\right)$"
      ],
      "text/plain": [
       "<IPython.core.display.Math object>"
      ]
     },
     "metadata": {},
     "output_type": "display_data"
    },
    {
     "data": {
      "text/latex": [
       "$\\displaystyle {\\Gamma}{}^{0\n",
       "}{}_{2\n",
       "}{}_{0\n",
       "} = \\frac{\\partial }{\\partial y}\\psi\\left(x,y,z\\right) \\kappa+\\mathrm{O}\\left(\\kappa^{2}\\right)$"
      ],
      "text/plain": [
       "<IPython.core.display.Math object>"
      ]
     },
     "metadata": {},
     "output_type": "display_data"
    },
    {
     "data": {
      "text/latex": [
       "$\\displaystyle {\\Gamma}{}^{0\n",
       "}{}_{2\n",
       "}{}_{2\n",
       "} = \\frac{\\frac{\\mathrm{d}}{\\mathrm{d}t}\\,a\\left(t\\right)}{a\\left(t\\right)}+\\frac{\\left(-2\\,\\frac{\\mathrm{d}}{\\mathrm{d}t}\\,a\\left(t\\right) \\phi\\left(x,y,z\\right)-2\\,\\frac{\\mathrm{d}}{\\mathrm{d}t}\\,a\\left(t\\right) \\psi\\left(x,y,z\\right)\\right) \\kappa}{a\\left(t\\right)}+\\mathrm{O}\\left(\\kappa^{2}\\right)$"
      ],
      "text/plain": [
       "<IPython.core.display.Math object>"
      ]
     },
     "metadata": {},
     "output_type": "display_data"
    },
    {
     "data": {
      "text/latex": [
       "$\\displaystyle {\\Gamma}{}^{0\n",
       "}{}_{3\n",
       "}{}_{0\n",
       "} = \\frac{\\partial }{\\partial z}\\psi\\left(x,y,z\\right) \\kappa+\\mathrm{O}\\left(\\kappa^{2}\\right)$"
      ],
      "text/plain": [
       "<IPython.core.display.Math object>"
      ]
     },
     "metadata": {},
     "output_type": "display_data"
    },
    {
     "data": {
      "text/latex": [
       "$\\displaystyle {\\Gamma}{}^{0\n",
       "}{}_{3\n",
       "}{}_{3\n",
       "} = \\frac{\\frac{\\mathrm{d}}{\\mathrm{d}t}\\,a\\left(t\\right)}{a\\left(t\\right)}+\\frac{\\left(-2\\,\\frac{\\mathrm{d}}{\\mathrm{d}t}\\,a\\left(t\\right) \\phi\\left(x,y,z\\right)-2\\,\\frac{\\mathrm{d}}{\\mathrm{d}t}\\,a\\left(t\\right) \\psi\\left(x,y,z\\right)\\right) \\kappa}{a\\left(t\\right)}+\\mathrm{O}\\left(\\kappa^{2}\\right)$"
      ],
      "text/plain": [
       "<IPython.core.display.Math object>"
      ]
     },
     "metadata": {},
     "output_type": "display_data"
    },
    {
     "data": {
      "text/latex": [
       "$\\displaystyle {\\Gamma}{}^{1\n",
       "}{}_{0\n",
       "}{}_{0\n",
       "} = \\frac{\\partial }{\\partial x}\\psi\\left(x,y,z\\right) \\kappa+\\mathrm{O}\\left(\\kappa^{2}\\right)$"
      ],
      "text/plain": [
       "<IPython.core.display.Math object>"
      ]
     },
     "metadata": {},
     "output_type": "display_data"
    },
    {
     "data": {
      "text/latex": [
       "$\\displaystyle {\\Gamma}{}^{1\n",
       "}{}_{0\n",
       "}{}_{1\n",
       "} = \\frac{\\frac{\\mathrm{d}}{\\mathrm{d}t}\\,a\\left(t\\right)}{a\\left(t\\right)}+\\mathrm{O}\\left(\\kappa^{2}\\right)$"
      ],
      "text/plain": [
       "<IPython.core.display.Math object>"
      ]
     },
     "metadata": {},
     "output_type": "display_data"
    },
    {
     "data": {
      "text/latex": [
       "$\\displaystyle {\\Gamma}{}^{1\n",
       "}{}_{1\n",
       "}{}_{0\n",
       "} = \\frac{\\frac{\\mathrm{d}}{\\mathrm{d}t}\\,a\\left(t\\right)}{a\\left(t\\right)}+\\mathrm{O}\\left(\\kappa^{2}\\right)$"
      ],
      "text/plain": [
       "<IPython.core.display.Math object>"
      ]
     },
     "metadata": {},
     "output_type": "display_data"
    },
    {
     "data": {
      "text/latex": [
       "$\\displaystyle {\\Gamma}{}^{1\n",
       "}{}_{1\n",
       "}{}_{1\n",
       "} = -\\frac{\\partial }{\\partial x}\\phi\\left(x,y,z\\right) \\kappa+\\mathrm{O}\\left(\\kappa^{2}\\right)$"
      ],
      "text/plain": [
       "<IPython.core.display.Math object>"
      ]
     },
     "metadata": {},
     "output_type": "display_data"
    },
    {
     "data": {
      "text/latex": [
       "$\\displaystyle {\\Gamma}{}^{1\n",
       "}{}_{1\n",
       "}{}_{2\n",
       "} = -\\frac{\\partial }{\\partial y}\\phi\\left(x,y,z\\right) \\kappa+\\mathrm{O}\\left(\\kappa^{2}\\right)$"
      ],
      "text/plain": [
       "<IPython.core.display.Math object>"
      ]
     },
     "metadata": {},
     "output_type": "display_data"
    },
    {
     "data": {
      "text/latex": [
       "$\\displaystyle {\\Gamma}{}^{1\n",
       "}{}_{1\n",
       "}{}_{3\n",
       "} = -\\frac{\\partial }{\\partial z}\\phi\\left(x,y,z\\right) \\kappa+\\mathrm{O}\\left(\\kappa^{2}\\right)$"
      ],
      "text/plain": [
       "<IPython.core.display.Math object>"
      ]
     },
     "metadata": {},
     "output_type": "display_data"
    },
    {
     "data": {
      "text/latex": [
       "$\\displaystyle {\\Gamma}{}^{1\n",
       "}{}_{2\n",
       "}{}_{1\n",
       "} = -\\frac{\\partial }{\\partial y}\\phi\\left(x,y,z\\right) \\kappa+\\mathrm{O}\\left(\\kappa^{2}\\right)$"
      ],
      "text/plain": [
       "<IPython.core.display.Math object>"
      ]
     },
     "metadata": {},
     "output_type": "display_data"
    },
    {
     "data": {
      "text/latex": [
       "$\\displaystyle {\\Gamma}{}^{1\n",
       "}{}_{2\n",
       "}{}_{2\n",
       "} = \\frac{\\partial }{\\partial x}\\phi\\left(x,y,z\\right) \\kappa+\\mathrm{O}\\left(\\kappa^{2}\\right)$"
      ],
      "text/plain": [
       "<IPython.core.display.Math object>"
      ]
     },
     "metadata": {},
     "output_type": "display_data"
    },
    {
     "data": {
      "text/latex": [
       "$\\displaystyle {\\Gamma}{}^{1\n",
       "}{}_{3\n",
       "}{}_{1\n",
       "} = -\\frac{\\partial }{\\partial z}\\phi\\left(x,y,z\\right) \\kappa+\\mathrm{O}\\left(\\kappa^{2}\\right)$"
      ],
      "text/plain": [
       "<IPython.core.display.Math object>"
      ]
     },
     "metadata": {},
     "output_type": "display_data"
    },
    {
     "data": {
      "text/latex": [
       "$\\displaystyle {\\Gamma}{}^{1\n",
       "}{}_{3\n",
       "}{}_{3\n",
       "} = \\frac{\\partial }{\\partial x}\\phi\\left(x,y,z\\right) \\kappa+\\mathrm{O}\\left(\\kappa^{2}\\right)$"
      ],
      "text/plain": [
       "<IPython.core.display.Math object>"
      ]
     },
     "metadata": {},
     "output_type": "display_data"
    },
    {
     "data": {
      "text/latex": [
       "$\\displaystyle {\\Gamma}{}^{2\n",
       "}{}_{0\n",
       "}{}_{0\n",
       "} = \\frac{\\partial }{\\partial y}\\psi\\left(x,y,z\\right) \\kappa+\\mathrm{O}\\left(\\kappa^{2}\\right)$"
      ],
      "text/plain": [
       "<IPython.core.display.Math object>"
      ]
     },
     "metadata": {},
     "output_type": "display_data"
    },
    {
     "data": {
      "text/latex": [
       "$\\displaystyle {\\Gamma}{}^{2\n",
       "}{}_{0\n",
       "}{}_{2\n",
       "} = \\frac{\\frac{\\mathrm{d}}{\\mathrm{d}t}\\,a\\left(t\\right)}{a\\left(t\\right)}+\\mathrm{O}\\left(\\kappa^{2}\\right)$"
      ],
      "text/plain": [
       "<IPython.core.display.Math object>"
      ]
     },
     "metadata": {},
     "output_type": "display_data"
    },
    {
     "data": {
      "text/latex": [
       "$\\displaystyle {\\Gamma}{}^{2\n",
       "}{}_{1\n",
       "}{}_{1\n",
       "} = \\frac{\\partial }{\\partial y}\\phi\\left(x,y,z\\right) \\kappa+\\mathrm{O}\\left(\\kappa^{2}\\right)$"
      ],
      "text/plain": [
       "<IPython.core.display.Math object>"
      ]
     },
     "metadata": {},
     "output_type": "display_data"
    },
    {
     "data": {
      "text/latex": [
       "$\\displaystyle {\\Gamma}{}^{2\n",
       "}{}_{1\n",
       "}{}_{2\n",
       "} = -\\frac{\\partial }{\\partial x}\\phi\\left(x,y,z\\right) \\kappa+\\mathrm{O}\\left(\\kappa^{2}\\right)$"
      ],
      "text/plain": [
       "<IPython.core.display.Math object>"
      ]
     },
     "metadata": {},
     "output_type": "display_data"
    },
    {
     "data": {
      "text/latex": [
       "$\\displaystyle {\\Gamma}{}^{2\n",
       "}{}_{2\n",
       "}{}_{0\n",
       "} = \\frac{\\frac{\\mathrm{d}}{\\mathrm{d}t}\\,a\\left(t\\right)}{a\\left(t\\right)}+\\mathrm{O}\\left(\\kappa^{2}\\right)$"
      ],
      "text/plain": [
       "<IPython.core.display.Math object>"
      ]
     },
     "metadata": {},
     "output_type": "display_data"
    },
    {
     "data": {
      "text/latex": [
       "$\\displaystyle {\\Gamma}{}^{2\n",
       "}{}_{2\n",
       "}{}_{1\n",
       "} = -\\frac{\\partial }{\\partial x}\\phi\\left(x,y,z\\right) \\kappa+\\mathrm{O}\\left(\\kappa^{2}\\right)$"
      ],
      "text/plain": [
       "<IPython.core.display.Math object>"
      ]
     },
     "metadata": {},
     "output_type": "display_data"
    },
    {
     "data": {
      "text/latex": [
       "$\\displaystyle {\\Gamma}{}^{2\n",
       "}{}_{2\n",
       "}{}_{2\n",
       "} = -\\frac{\\partial }{\\partial y}\\phi\\left(x,y,z\\right) \\kappa+\\mathrm{O}\\left(\\kappa^{2}\\right)$"
      ],
      "text/plain": [
       "<IPython.core.display.Math object>"
      ]
     },
     "metadata": {},
     "output_type": "display_data"
    },
    {
     "data": {
      "text/latex": [
       "$\\displaystyle {\\Gamma}{}^{2\n",
       "}{}_{2\n",
       "}{}_{3\n",
       "} = -\\frac{\\partial }{\\partial z}\\phi\\left(x,y,z\\right) \\kappa+\\mathrm{O}\\left(\\kappa^{2}\\right)$"
      ],
      "text/plain": [
       "<IPython.core.display.Math object>"
      ]
     },
     "metadata": {},
     "output_type": "display_data"
    },
    {
     "data": {
      "text/latex": [
       "$\\displaystyle {\\Gamma}{}^{2\n",
       "}{}_{3\n",
       "}{}_{2\n",
       "} = -\\frac{\\partial }{\\partial z}\\phi\\left(x,y,z\\right) \\kappa+\\mathrm{O}\\left(\\kappa^{2}\\right)$"
      ],
      "text/plain": [
       "<IPython.core.display.Math object>"
      ]
     },
     "metadata": {},
     "output_type": "display_data"
    },
    {
     "data": {
      "text/latex": [
       "$\\displaystyle {\\Gamma}{}^{2\n",
       "}{}_{3\n",
       "}{}_{3\n",
       "} = \\frac{\\partial }{\\partial y}\\phi\\left(x,y,z\\right) \\kappa+\\mathrm{O}\\left(\\kappa^{2}\\right)$"
      ],
      "text/plain": [
       "<IPython.core.display.Math object>"
      ]
     },
     "metadata": {},
     "output_type": "display_data"
    },
    {
     "data": {
      "text/latex": [
       "$\\displaystyle {\\Gamma}{}^{3\n",
       "}{}_{0\n",
       "}{}_{0\n",
       "} = \\frac{\\partial }{\\partial z}\\psi\\left(x,y,z\\right) \\kappa+\\mathrm{O}\\left(\\kappa^{2}\\right)$"
      ],
      "text/plain": [
       "<IPython.core.display.Math object>"
      ]
     },
     "metadata": {},
     "output_type": "display_data"
    },
    {
     "data": {
      "text/latex": [
       "$\\displaystyle {\\Gamma}{}^{3\n",
       "}{}_{0\n",
       "}{}_{3\n",
       "} = \\frac{\\frac{\\mathrm{d}}{\\mathrm{d}t}\\,a\\left(t\\right)}{a\\left(t\\right)}+\\mathrm{O}\\left(\\kappa^{2}\\right)$"
      ],
      "text/plain": [
       "<IPython.core.display.Math object>"
      ]
     },
     "metadata": {},
     "output_type": "display_data"
    },
    {
     "data": {
      "text/latex": [
       "$\\displaystyle {\\Gamma}{}^{3\n",
       "}{}_{1\n",
       "}{}_{1\n",
       "} = \\frac{\\partial }{\\partial z}\\phi\\left(x,y,z\\right) \\kappa+\\mathrm{O}\\left(\\kappa^{2}\\right)$"
      ],
      "text/plain": [
       "<IPython.core.display.Math object>"
      ]
     },
     "metadata": {},
     "output_type": "display_data"
    },
    {
     "data": {
      "text/latex": [
       "$\\displaystyle {\\Gamma}{}^{3\n",
       "}{}_{1\n",
       "}{}_{3\n",
       "} = -\\frac{\\partial }{\\partial x}\\phi\\left(x,y,z\\right) \\kappa+\\mathrm{O}\\left(\\kappa^{2}\\right)$"
      ],
      "text/plain": [
       "<IPython.core.display.Math object>"
      ]
     },
     "metadata": {},
     "output_type": "display_data"
    },
    {
     "data": {
      "text/latex": [
       "$\\displaystyle {\\Gamma}{}^{3\n",
       "}{}_{2\n",
       "}{}_{2\n",
       "} = \\frac{\\partial }{\\partial z}\\phi\\left(x,y,z\\right) \\kappa+\\mathrm{O}\\left(\\kappa^{2}\\right)$"
      ],
      "text/plain": [
       "<IPython.core.display.Math object>"
      ]
     },
     "metadata": {},
     "output_type": "display_data"
    },
    {
     "data": {
      "text/latex": [
       "$\\displaystyle {\\Gamma}{}^{3\n",
       "}{}_{2\n",
       "}{}_{3\n",
       "} = -\\frac{\\partial }{\\partial y}\\phi\\left(x,y,z\\right) \\kappa+\\mathrm{O}\\left(\\kappa^{2}\\right)$"
      ],
      "text/plain": [
       "<IPython.core.display.Math object>"
      ]
     },
     "metadata": {},
     "output_type": "display_data"
    },
    {
     "data": {
      "text/latex": [
       "$\\displaystyle {\\Gamma}{}^{3\n",
       "}{}_{3\n",
       "}{}_{0\n",
       "} = \\frac{\\frac{\\mathrm{d}}{\\mathrm{d}t}\\,a\\left(t\\right)}{a\\left(t\\right)}+\\mathrm{O}\\left(\\kappa^{2}\\right)$"
      ],
      "text/plain": [
       "<IPython.core.display.Math object>"
      ]
     },
     "metadata": {},
     "output_type": "display_data"
    },
    {
     "data": {
      "text/latex": [
       "$\\displaystyle {\\Gamma}{}^{3\n",
       "}{}_{3\n",
       "}{}_{1\n",
       "} = -\\frac{\\partial }{\\partial x}\\phi\\left(x,y,z\\right) \\kappa+\\mathrm{O}\\left(\\kappa^{2}\\right)$"
      ],
      "text/plain": [
       "<IPython.core.display.Math object>"
      ]
     },
     "metadata": {},
     "output_type": "display_data"
    },
    {
     "data": {
      "text/latex": [
       "$\\displaystyle {\\Gamma}{}^{3\n",
       "}{}_{3\n",
       "}{}_{2\n",
       "} = -\\frac{\\partial }{\\partial y}\\phi\\left(x,y,z\\right) \\kappa+\\mathrm{O}\\left(\\kappa^{2}\\right)$"
      ],
      "text/plain": [
       "<IPython.core.display.Math object>"
      ]
     },
     "metadata": {},
     "output_type": "display_data"
    },
    {
     "data": {
      "text/latex": [
       "$\\displaystyle {\\Gamma}{}^{3\n",
       "}{}_{3\n",
       "}{}_{3\n",
       "} = -\\frac{\\partial }{\\partial z}\\phi\\left(x,y,z\\right) \\kappa+\\mathrm{O}\\left(\\kappa^{2}\\right)$"
      ],
      "text/plain": [
       "<IPython.core.display.Math object>"
      ]
     },
     "metadata": {},
     "output_type": "display_data"
    }
   ],
   "source": [
    "chris = pt.christoffel()\n",
    "\n",
    "chris.display('^,_,_',aslist=True)"
   ]
  },
  {
   "cell_type": "markdown",
   "metadata": {},
   "source": [
    "#### We can use this function to compute the Einstein tensor of the metric already defined."
   ]
  },
  {
   "cell_type": "code",
   "execution_count": 5,
   "metadata": {
    "scrolled": false
   },
   "outputs": [
    {
     "data": {
      "text/latex": [
       "Riemann Tensor $R^{\\alpha}_{\\beta \\gamma \\delta}$"
      ],
      "text/plain": [
       "<IPython.core.display.Latex object>"
      ]
     },
     "metadata": {},
     "output_type": "display_data"
    },
    {
     "data": {
      "application/vnd.jupyter.widget-view+json": {
       "model_id": "4e8661413f504d30afc4c83bb10bd654",
       "version_major": 2,
       "version_minor": 0
      },
      "text/plain": [
       "HBox(children=(HTML(value=''), FloatProgress(value=0.0, max=256.0), HTML(value='')))"
      ]
     },
     "metadata": {},
     "output_type": "display_data"
    },
    {
     "name": "stdout",
     "output_type": "stream",
     "text": [
      "\n"
     ]
    },
    {
     "data": {
      "text/latex": [
       "Ricci Tensor $R_{\\alpha \\beta}$"
      ],
      "text/plain": [
       "<IPython.core.display.Latex object>"
      ]
     },
     "metadata": {},
     "output_type": "display_data"
    },
    {
     "data": {
      "application/vnd.jupyter.widget-view+json": {
       "model_id": "468f6a21996b43b397f65936ceb13b3d",
       "version_major": 2,
       "version_minor": 0
      },
      "text/plain": [
       "HBox(children=(HTML(value=''), FloatProgress(value=0.0, max=16.0), HTML(value='')))"
      ]
     },
     "metadata": {},
     "output_type": "display_data"
    },
    {
     "name": "stdout",
     "output_type": "stream",
     "text": [
      "\n"
     ]
    },
    {
     "data": {
      "text/latex": [
       "Ricci Scalar $R$"
      ],
      "text/plain": [
       "<IPython.core.display.Latex object>"
      ]
     },
     "metadata": {},
     "output_type": "display_data"
    },
    {
     "data": {
      "application/vnd.jupyter.widget-view+json": {
       "model_id": "72c912b5997a46d99c559cc2460257eb",
       "version_major": 2,
       "version_minor": 0
      },
      "text/plain": [
       "HBox(children=(HTML(value=''), FloatProgress(value=0.0, max=16.0), HTML(value='')))"
      ]
     },
     "metadata": {},
     "output_type": "display_data"
    },
    {
     "name": "stdout",
     "output_type": "stream",
     "text": [
      "\n"
     ]
    },
    {
     "data": {
      "text/latex": [
       "Einstein Tensor $G_{\\alpha \\beta}$"
      ],
      "text/plain": [
       "<IPython.core.display.Latex object>"
      ]
     },
     "metadata": {},
     "output_type": "display_data"
    },
    {
     "data": {
      "application/vnd.jupyter.widget-view+json": {
       "model_id": "6939af6f6af54728a338932643bb9383",
       "version_major": 2,
       "version_minor": 0
      },
      "text/plain": [
       "HBox(children=(HTML(value=''), FloatProgress(value=0.0, max=16.0), HTML(value='')))"
      ]
     },
     "metadata": {},
     "output_type": "display_data"
    },
    {
     "name": "stdout",
     "output_type": "stream",
     "text": [
      "\n",
      "Wall time: 1.51 s\n"
     ]
    }
   ],
   "source": [
    "%%time\n",
    "\n",
    "G = pt.einstein()"
   ]
  },
  {
   "cell_type": "code",
   "execution_count": 9,
   "metadata": {},
   "outputs": [
    {
     "data": {
      "text/html": [
       "<?xml version=\"\"1.0\"\" encoding=\"\"iso-8859-1\"\"?>\n",
       "<!DOCTYPE html PUBLIC \"\"-//W3C//DTD XHTML 1.1 plus MathML 2.0//EN\"\"\n",
       "\"\"http://www.w3.org/TR/MathML2/dtd/xhtml-math11-f.dtd\"\" [\n",
       "<!ENTITY mathml \"\"http://www.w3.org/1998/Math/MathML\"\">\n",
       "]>\n",
       "<html xmlns=\"\"http://www.w3.org/1999/xhtml\"\">\n",
       "<body>\n",
       "\n",
       "<math display=\"block\" xmlns=\"http://www.w3.org/1998/Math/MathML\">\n",
       "\n",
       "<mfrac><mrow><mo>&part;</mo><mo>(</mo><mfrac><mrow><mo>&part;</mo><mi>&phi;</mi></mrow><mrow><mo>&part;</mo><mn>0</mn></mrow></mfrac><mo>)</mo></mrow><mrow><mo>&part;</mo><mn>1</mn></mrow></mfrac><mo>(</mo><mi>x</mi><mo>,</mo><mi>y</mi><mo>,</mo><mi>z</mi><mo>)</mo><mo>-</mo><mrow><mfrac><mrow><mo>&part;</mo><mo>(</mo><mfrac><mrow><mo>&part;</mo><mi>&phi;</mi></mrow><mrow><mo>&part;</mo><mn>1</mn></mrow></mfrac><mo>)</mo></mrow><mrow><mo>&part;</mo><mn>0</mn></mrow></mfrac><mo>(</mo><mi>x</mi><mo>,</mo><mi>y</mi><mo>,</mo><mi>z</mi><mo>)</mo></mrow>\n",
       "\n",
       "</math><br/>\n",
       "\n",
       "</body>\n",
       "</html>\n"
      ],
      "text/latex": [
       "\\varphi^{\\left(1,2\\right)}\\left(x,y,z\\right)-\\varphi^{\\left(2,1\\right)}\\left(x,y,z\\right)"
      ],
      "text/plain": [
       "(diff(diff(phi,0),1))(x,y,z)-((diff(diff(phi,1),0))(x,y,z))"
      ]
     },
     "execution_count": 9,
     "metadata": {},
     "output_type": "execute_result"
    }
   ],
   "source": [
    "gp.simplify(gp.diff(phi,x,y)-gp.diff(phi,y,x))"
   ]
  },
  {
   "cell_type": "code",
   "execution_count": 10,
   "metadata": {},
   "outputs": [],
   "source": [
    "L = gp.diff(phi,x,y)"
   ]
  },
  {
   "cell_type": "code",
   "execution_count": 6,
   "metadata": {},
   "outputs": [
    {
     "data": {
      "text/latex": [
       "$\\displaystyle {G}{}_{0\n",
       "}{}_{0\n",
       "} = \\frac{3 \\left(\\frac{\\mathrm{d}}{\\mathrm{d}t}\\,a\\left(t\\right)\\right)^{2}}{a\\left(t\\right)^{2}}+\\left(2\\,\\frac{\\partial^2 }{\\partial x^2}\\phi\\left(x,y,z\\right)+2\\,\\frac{\\partial^2 }{\\partial y^2}\\phi\\left(x,y,z\\right)+2\\,\\frac{\\partial^2 }{\\partial z^2}\\phi\\left(x,y,z\\right)\\right) \\kappa+\\mathrm{O}\\left(\\kappa^{2}\\right)$"
      ],
      "text/plain": [
       "<IPython.core.display.Math object>"
      ]
     },
     "metadata": {},
     "output_type": "display_data"
    },
    {
     "data": {
      "text/latex": [
       "$\\displaystyle {G}{}_{0\n",
       "}{}_{1\n",
       "} = \\frac{2\\,\\frac{\\mathrm{d}}{\\mathrm{d}t}\\,a\\left(t\\right) \\frac{\\partial }{\\partial x}\\psi\\left(x,y,z\\right) \\kappa}{a\\left(t\\right)}+\\mathrm{O}\\left(\\kappa^{2}\\right)$"
      ],
      "text/plain": [
       "<IPython.core.display.Math object>"
      ]
     },
     "metadata": {},
     "output_type": "display_data"
    },
    {
     "data": {
      "text/latex": [
       "$\\displaystyle {G}{}_{0\n",
       "}{}_{2\n",
       "} = \\frac{2\\,\\frac{\\mathrm{d}}{\\mathrm{d}t}\\,a\\left(t\\right) \\frac{\\partial }{\\partial y}\\psi\\left(x,y,z\\right) \\kappa}{a\\left(t\\right)}+\\mathrm{O}\\left(\\kappa^{2}\\right)$"
      ],
      "text/plain": [
       "<IPython.core.display.Math object>"
      ]
     },
     "metadata": {},
     "output_type": "display_data"
    },
    {
     "data": {
      "text/latex": [
       "$\\displaystyle {G}{}_{0\n",
       "}{}_{3\n",
       "} = \\frac{2\\,\\frac{\\mathrm{d}}{\\mathrm{d}t}\\,a\\left(t\\right) \\frac{\\partial }{\\partial z}\\psi\\left(x,y,z\\right) \\kappa}{a\\left(t\\right)}+\\mathrm{O}\\left(\\kappa^{2}\\right)$"
      ],
      "text/plain": [
       "<IPython.core.display.Math object>"
      ]
     },
     "metadata": {},
     "output_type": "display_data"
    },
    {
     "data": {
      "text/latex": [
       "$\\displaystyle {G}{}_{1\n",
       "}{}_{0\n",
       "} = \\frac{2\\,\\frac{\\mathrm{d}}{\\mathrm{d}t}\\,a\\left(t\\right) \\frac{\\partial }{\\partial x}\\psi\\left(x,y,z\\right) \\kappa}{a\\left(t\\right)}+\\mathrm{O}\\left(\\kappa^{2}\\right)$"
      ],
      "text/plain": [
       "<IPython.core.display.Math object>"
      ]
     },
     "metadata": {},
     "output_type": "display_data"
    },
    {
     "data": {
      "text/latex": [
       "$\\displaystyle {G}{}_{1\n",
       "}{}_{1\n",
       "} = \\frac{\\left(\\frac{\\mathrm{d}}{\\mathrm{d}t}\\,a\\left(t\\right)\\right)^{2}-2\\,\\frac{\\mathrm{d}^{2}}{\\mathrm{d}t^{2}}\\,a\\left(t\\right) a\\left(t\\right)}{a\\left(t\\right)^{2}}+\\frac{\\left(-2 \\left(\\frac{\\mathrm{d}}{\\mathrm{d}t}\\,a\\left(t\\right)\\right)^{2}\\,\\phi\\left(x,y,z\\right)-2 \\left(\\frac{\\mathrm{d}}{\\mathrm{d}t}\\,a\\left(t\\right)\\right)^{2}\\,\\psi\\left(x,y,z\\right)+4\\,\\frac{\\mathrm{d}^{2}}{\\mathrm{d}t^{2}}\\,a\\left(t\\right) a\\left(t\\right) \\phi\\left(x,y,z\\right)+4\\,\\frac{\\mathrm{d}^{2}}{\\mathrm{d}t^{2}}\\,a\\left(t\\right) a\\left(t\\right) \\psi\\left(x,y,z\\right)-\\frac{\\partial^2 }{\\partial y^2}\\phi\\left(x,y,z\\right) a\\left(t\\right)^{2}-\\frac{\\partial^2 }{\\partial z^2}\\phi\\left(x,y,z\\right) a\\left(t\\right)^{2}+\\frac{\\partial^2 }{\\partial y^2}\\psi\\left(x,y,z\\right) a\\left(t\\right)^{2}+\\frac{\\partial^2 }{\\partial z^2}\\psi\\left(x,y,z\\right) a\\left(t\\right)^{2}\\right) \\kappa}{a\\left(t\\right)^{2}}+\\mathrm{O}\\left(\\kappa^{2}\\right)$"
      ],
      "text/plain": [
       "<IPython.core.display.Math object>"
      ]
     },
     "metadata": {},
     "output_type": "display_data"
    },
    {
     "data": {
      "text/latex": [
       "$\\displaystyle {G}{}_{1\n",
       "}{}_{2\n",
       "} = \\left(2\\,\\frac{\\partial }{\\partial x}\\frac{\\partial }{\\partial y}\\phi\\left(x,y,z\\right)-\\frac{\\partial }{\\partial y}\\frac{\\partial }{\\partial x}\\phi\\left(x,y,z\\right)-\\frac{\\partial }{\\partial x}\\frac{\\partial }{\\partial y}\\psi\\left(x,y,z\\right)\\right) \\kappa+\\mathrm{O}\\left(\\kappa^{2}\\right)$"
      ],
      "text/plain": [
       "<IPython.core.display.Math object>"
      ]
     },
     "metadata": {},
     "output_type": "display_data"
    },
    {
     "data": {
      "text/latex": [
       "$\\displaystyle {G}{}_{1\n",
       "}{}_{3\n",
       "} = \\left(2\\,\\frac{\\partial }{\\partial x}\\frac{\\partial }{\\partial z}\\phi\\left(x,y,z\\right)-\\frac{\\partial }{\\partial z}\\frac{\\partial }{\\partial x}\\phi\\left(x,y,z\\right)-\\frac{\\partial }{\\partial x}\\frac{\\partial }{\\partial z}\\psi\\left(x,y,z\\right)\\right) \\kappa+\\mathrm{O}\\left(\\kappa^{2}\\right)$"
      ],
      "text/plain": [
       "<IPython.core.display.Math object>"
      ]
     },
     "metadata": {},
     "output_type": "display_data"
    },
    {
     "data": {
      "text/latex": [
       "$\\displaystyle {G}{}_{2\n",
       "}{}_{0\n",
       "} = \\frac{2\\,\\frac{\\mathrm{d}}{\\mathrm{d}t}\\,a\\left(t\\right) \\frac{\\partial }{\\partial y}\\psi\\left(x,y,z\\right) \\kappa}{a\\left(t\\right)}+\\mathrm{O}\\left(\\kappa^{2}\\right)$"
      ],
      "text/plain": [
       "<IPython.core.display.Math object>"
      ]
     },
     "metadata": {},
     "output_type": "display_data"
    },
    {
     "data": {
      "text/latex": [
       "$\\displaystyle {G}{}_{2\n",
       "}{}_{1\n",
       "} = \\left(2\\,\\frac{\\partial }{\\partial x}\\frac{\\partial }{\\partial y}\\phi\\left(x,y,z\\right)-\\frac{\\partial }{\\partial y}\\frac{\\partial }{\\partial x}\\phi\\left(x,y,z\\right)-\\frac{\\partial }{\\partial x}\\frac{\\partial }{\\partial y}\\psi\\left(x,y,z\\right)\\right) \\kappa+\\mathrm{O}\\left(\\kappa^{2}\\right)$"
      ],
      "text/plain": [
       "<IPython.core.display.Math object>"
      ]
     },
     "metadata": {},
     "output_type": "display_data"
    },
    {
     "data": {
      "text/latex": [
       "$\\displaystyle {G}{}_{2\n",
       "}{}_{2\n",
       "} = \\frac{\\left(\\frac{\\mathrm{d}}{\\mathrm{d}t}\\,a\\left(t\\right)\\right)^{2}-2\\,\\frac{\\mathrm{d}^{2}}{\\mathrm{d}t^{2}}\\,a\\left(t\\right) a\\left(t\\right)}{a\\left(t\\right)^{2}}+\\frac{\\left(-2 \\left(\\frac{\\mathrm{d}}{\\mathrm{d}t}\\,a\\left(t\\right)\\right)^{2}\\,\\phi\\left(x,y,z\\right)-2 \\left(\\frac{\\mathrm{d}}{\\mathrm{d}t}\\,a\\left(t\\right)\\right)^{2}\\,\\psi\\left(x,y,z\\right)+4\\,\\frac{\\mathrm{d}^{2}}{\\mathrm{d}t^{2}}\\,a\\left(t\\right) a\\left(t\\right) \\phi\\left(x,y,z\\right)+4\\,\\frac{\\mathrm{d}^{2}}{\\mathrm{d}t^{2}}\\,a\\left(t\\right) a\\left(t\\right) \\psi\\left(x,y,z\\right)-\\frac{\\partial^2 }{\\partial x^2}\\phi\\left(x,y,z\\right) a\\left(t\\right)^{2}-\\frac{\\partial^2 }{\\partial z^2}\\phi\\left(x,y,z\\right) a\\left(t\\right)^{2}+\\frac{\\partial^2 }{\\partial x^2}\\psi\\left(x,y,z\\right) a\\left(t\\right)^{2}+\\frac{\\partial^2 }{\\partial z^2}\\psi\\left(x,y,z\\right) a\\left(t\\right)^{2}\\right) \\kappa}{a\\left(t\\right)^{2}}+\\mathrm{O}\\left(\\kappa^{2}\\right)$"
      ],
      "text/plain": [
       "<IPython.core.display.Math object>"
      ]
     },
     "metadata": {},
     "output_type": "display_data"
    },
    {
     "data": {
      "text/latex": [
       "$\\displaystyle {G}{}_{2\n",
       "}{}_{3\n",
       "} = \\left(2\\,\\frac{\\partial }{\\partial y}\\frac{\\partial }{\\partial z}\\phi\\left(x,y,z\\right)-\\frac{\\partial }{\\partial z}\\frac{\\partial }{\\partial y}\\phi\\left(x,y,z\\right)-\\frac{\\partial }{\\partial y}\\frac{\\partial }{\\partial z}\\psi\\left(x,y,z\\right)\\right) \\kappa+\\mathrm{O}\\left(\\kappa^{2}\\right)$"
      ],
      "text/plain": [
       "<IPython.core.display.Math object>"
      ]
     },
     "metadata": {},
     "output_type": "display_data"
    },
    {
     "data": {
      "text/latex": [
       "$\\displaystyle {G}{}_{3\n",
       "}{}_{0\n",
       "} = \\frac{2\\,\\frac{\\mathrm{d}}{\\mathrm{d}t}\\,a\\left(t\\right) \\frac{\\partial }{\\partial z}\\psi\\left(x,y,z\\right) \\kappa}{a\\left(t\\right)}+\\mathrm{O}\\left(\\kappa^{2}\\right)$"
      ],
      "text/plain": [
       "<IPython.core.display.Math object>"
      ]
     },
     "metadata": {},
     "output_type": "display_data"
    },
    {
     "data": {
      "text/latex": [
       "$\\displaystyle {G}{}_{3\n",
       "}{}_{1\n",
       "} = \\left(2\\,\\frac{\\partial }{\\partial x}\\frac{\\partial }{\\partial z}\\phi\\left(x,y,z\\right)-\\frac{\\partial }{\\partial z}\\frac{\\partial }{\\partial x}\\phi\\left(x,y,z\\right)-\\frac{\\partial }{\\partial x}\\frac{\\partial }{\\partial z}\\psi\\left(x,y,z\\right)\\right) \\kappa+\\mathrm{O}\\left(\\kappa^{2}\\right)$"
      ],
      "text/plain": [
       "<IPython.core.display.Math object>"
      ]
     },
     "metadata": {},
     "output_type": "display_data"
    },
    {
     "data": {
      "text/latex": [
       "$\\displaystyle {G}{}_{3\n",
       "}{}_{2\n",
       "} = \\left(2\\,\\frac{\\partial }{\\partial y}\\frac{\\partial }{\\partial z}\\phi\\left(x,y,z\\right)-\\frac{\\partial }{\\partial z}\\frac{\\partial }{\\partial y}\\phi\\left(x,y,z\\right)-\\frac{\\partial }{\\partial y}\\frac{\\partial }{\\partial z}\\psi\\left(x,y,z\\right)\\right) \\kappa+\\mathrm{O}\\left(\\kappa^{2}\\right)$"
      ],
      "text/plain": [
       "<IPython.core.display.Math object>"
      ]
     },
     "metadata": {},
     "output_type": "display_data"
    },
    {
     "data": {
      "text/latex": [
       "$\\displaystyle {G}{}_{3\n",
       "}{}_{3\n",
       "} = \\frac{\\left(\\frac{\\mathrm{d}}{\\mathrm{d}t}\\,a\\left(t\\right)\\right)^{2}-2\\,\\frac{\\mathrm{d}^{2}}{\\mathrm{d}t^{2}}\\,a\\left(t\\right) a\\left(t\\right)}{a\\left(t\\right)^{2}}+\\frac{\\left(-2 \\left(\\frac{\\mathrm{d}}{\\mathrm{d}t}\\,a\\left(t\\right)\\right)^{2}\\,\\phi\\left(x,y,z\\right)-2 \\left(\\frac{\\mathrm{d}}{\\mathrm{d}t}\\,a\\left(t\\right)\\right)^{2}\\,\\psi\\left(x,y,z\\right)+4\\,\\frac{\\mathrm{d}^{2}}{\\mathrm{d}t^{2}}\\,a\\left(t\\right) a\\left(t\\right) \\phi\\left(x,y,z\\right)+4\\,\\frac{\\mathrm{d}^{2}}{\\mathrm{d}t^{2}}\\,a\\left(t\\right) a\\left(t\\right) \\psi\\left(x,y,z\\right)-\\frac{\\partial^2 }{\\partial x^2}\\phi\\left(x,y,z\\right) a\\left(t\\right)^{2}-\\frac{\\partial^2 }{\\partial y^2}\\phi\\left(x,y,z\\right) a\\left(t\\right)^{2}+\\frac{\\partial^2 }{\\partial x^2}\\psi\\left(x,y,z\\right) a\\left(t\\right)^{2}+\\frac{\\partial^2 }{\\partial y^2}\\psi\\left(x,y,z\\right) a\\left(t\\right)^{2}\\right) \\kappa}{a\\left(t\\right)^{2}}+\\mathrm{O}\\left(\\kappa^{2}\\right)$"
      ],
      "text/plain": [
       "<IPython.core.display.Math object>"
      ]
     },
     "metadata": {},
     "output_type": "display_data"
    }
   ],
   "source": [
    "G.display('_,_',aslist=True)"
   ]
  },
  {
   "cell_type": "code",
   "execution_count": null,
   "metadata": {
    "scrolled": true
   },
   "outputs": [],
   "source": [
    "A = gp.diff(delta*delta2*gp.cos(rho*phi*rho*gp.diff((phi**2+rho-t**4),t)),theta,phi,rho) + gp.diff(gp.exp(gp.cos(phi))*phi,rho,3)"
   ]
  },
  {
   "cell_type": "code",
   "execution_count": null,
   "metadata": {},
   "outputs": [],
   "source": [
    "lol = r\"%s\"%gp.latex(g.tensor[0][1][1])"
   ]
  },
  {
   "cell_type": "markdown",
   "metadata": {},
   "source": [
    "$${G}{}_{2\n",
    "}{}_{1\n",
    "} = \\frac{3 \\cos ^{2}\\left(2\\,\\rho\\right) \\frac{\\partial }{\\partial \\rho}\\delta\\left(\\rho,\\theta,\\varphi\\right) \\frac{\\partial }{\\partial \\theta}\\delta\\left(\\rho,\\theta,\\varphi\\right) \\delta_{\\mathrm{2}}\\left(\\rho,\\theta,\\varphi\\right)^{2}+\\cos ^{2}\\left(2\\,\\rho\\right) \\frac{\\partial }{\\partial \\rho}\\delta\\left(\\rho,\\theta,\\varphi\\right) \\frac{\\partial }{\\partial \\theta}\\delta_{\\mathrm{2}}\\left(\\rho,\\theta,\\varphi\\right) \\delta\\left(\\rho,\\theta,\\varphi\\right) \\delta_{\\mathrm{2}}\\left(\\rho,\\theta,\\varphi\\right)+\\cos ^{2}\\left(2\\,\\rho\\right) \\frac{\\partial }{\\partial \\theta}\\delta\\left(\\rho,\\theta,\\varphi\\right) \\frac{\\partial }{\\partial \\rho}\\delta_{\\mathrm{2}}\\left(\\rho,\\theta,\\varphi\\right) \\delta\\left(\\rho,\\theta,\\varphi\\right) \\delta_{\\mathrm{2}}\\left(\\rho,\\theta,\\varphi\\right)+3 \\cos ^{2}\\left(2\\,\\rho\\right) \\frac{\\partial }{\\partial \\rho}\\delta_{\\mathrm{2}}\\left(\\rho,\\theta,\\varphi\\right) \\frac{\\partial }{\\partial \\theta}\\delta_{\\mathrm{2}}\\left(\\rho,\\theta,\\varphi\\right) \\delta\\left(\\rho,\\theta,\\varphi\\right)^{2}-4 \\cos ^{2}\\left(2\\,\\rho\\right) \\frac{\\partial }{\\partial \\rho}\\frac{\\partial }{\\partial \\theta}\\delta\\left(\\rho,\\theta,\\varphi\\right) \\delta\\left(\\rho,\\theta,\\varphi\\right) \\delta_{\\mathrm{2}}\\left(\\rho,\\theta,\\varphi\\right)^{2}+2 \\cos ^{2}\\left(2\\,\\rho\\right) \\frac{\\partial }{\\partial \\theta}\\frac{\\partial }{\\partial \\rho}\\delta\\left(\\rho,\\theta,\\varphi\\right) \\delta\\left(\\rho,\\theta,\\varphi\\right) \\delta_{\\mathrm{2}}\\left(\\rho,\\theta,\\varphi\\right)^{2}-4 \\cos ^{2}\\left(2\\,\\rho\\right) \\frac{\\partial }{\\partial \\rho}\\frac{\\partial }{\\partial \\theta}\\delta_{\\mathrm{2}}\\left(\\rho,\\theta,\\varphi\\right) \\delta\\left(\\rho,\\theta,\\varphi\\right)^{2}\\,\\delta_{\\mathrm{2}}\\left(\\rho,\\theta,\\varphi\\right)+2 \\cos ^{2}\\left(2\\,\\rho\\right) \\frac{\\partial }{\\partial \\theta}\\frac{\\partial }{\\partial \\rho}\\delta_{\\mathrm{2}}\\left(\\rho,\\theta,\\varphi\\right) \\delta\\left(\\rho,\\theta,\\varphi\\right)^{2}\\,\\delta_{\\mathrm{2}}\\left(\\rho,\\theta,\\varphi\\right)-2 \\cos \\left(2\\,\\rho\\right) \\frac{\\partial }{\\partial \\rho}\\delta\\left(\\rho,\\theta,\\varphi\\right) \\frac{\\partial }{\\partial \\theta}\\delta_{\\mathrm{2}}\\left(\\rho,\\theta,\\varphi\\right)-2 \\cos \\left(2\\,\\rho\\right) \\frac{\\partial }{\\partial \\theta}\\delta\\left(\\rho,\\theta,\\varphi\\right) \\frac{\\partial }{\\partial \\rho}\\delta_{\\mathrm{2}}\\left(\\rho,\\theta,\\varphi\\right)-2 \\cos \\left(2\\,\\rho\\right) \\frac{\\partial }{\\partial \\theta}\\delta\\left(\\rho,\\theta,\\varphi\\right) \\delta\\left(\\rho,\\theta,\\varphi\\right) \\delta_{\\mathrm{2}}\\left(\\rho,\\theta,\\varphi\\right)^{2} \\sin \\left(2\\,\\rho\\right)-2 \\cos \\left(2\\,\\rho\\right) \\frac{\\partial }{\\partial \\theta}\\delta_{\\mathrm{2}}\\left(\\rho,\\theta,\\varphi\\right) \\delta\\left(\\rho,\\theta,\\varphi\\right)^{2}\\,\\delta_{\\mathrm{2}}\\left(\\rho,\\theta,\\varphi\\right) \\sin \\left(2\\,\\rho\\right)-4 \\cos \\left(2\\,\\rho\\right) \\frac{\\partial }{\\partial \\rho}\\frac{\\partial }{\\partial \\theta}\\delta\\left(\\rho,\\theta,\\varphi\\right) \\delta_{\\mathrm{2}}\\left(\\rho,\\theta,\\varphi\\right)+2 \\cos \\left(2\\,\\rho\\right) \\frac{\\partial }{\\partial \\theta}\\frac{\\partial }{\\partial \\rho}\\delta\\left(\\rho,\\theta,\\varphi\\right) \\delta_{\\mathrm{2}}\\left(\\rho,\\theta,\\varphi\\right)-4 \\cos \\left(2\\,\\rho\\right) \\frac{\\partial }{\\partial \\rho}\\frac{\\partial }{\\partial \\theta}\\delta_{\\mathrm{2}}\\left(\\rho,\\theta,\\varphi\\right) \\delta\\left(\\rho,\\theta,\\varphi\\right)+2 \\cos \\left(2\\,\\rho\\right) \\frac{\\partial }{\\partial \\theta}\\frac{\\partial }{\\partial \\rho}\\delta_{\\mathrm{2}}\\left(\\rho,\\theta,\\varphi\\right) \\delta\\left(\\rho,\\theta,\\varphi\\right)+4\\,\\frac{\\partial }{\\partial \\theta}\\delta\\left(\\rho,\\theta,\\varphi\\right) \\delta_{\\mathrm{2}}\\left(\\rho,\\theta,\\varphi\\right) \\sin \\left(2\\,\\rho\\right)+4\\,\\frac{\\partial }{\\partial \\theta}\\delta_{\\mathrm{2}}\\left(\\rho,\\theta,\\varphi\\right) \\delta\\left(\\rho,\\theta,\\varphi\\right) \\sin \\left(2\\,\\rho\\right)}{4 \\cos ^{2}\\left(2\\,\\rho\\right) \\delta\\left(\\rho,\\theta,\\varphi\\right)^{2}\\,\\delta_{\\mathrm{2}}\\left(\\rho,\\theta,\\varphi\\right)^{2}+8 \\cos \\left(2\\,\\rho\\right) \\delta\\left(\\rho,\\theta,\\varphi\\right) \\delta_{\\mathrm{2}}\\left(\\rho,\\theta,\\varphi\\right)+4}+\\frac{\\left(2 \\cos ^{3}\\left(2\\,\\rho\\right) \\frac{\\partial }{\\partial \\rho}\\delta\\left(\\rho,\\theta,\\varphi\\right) \\frac{\\partial }{\\partial \\theta}\\delta\\left(\\rho,\\theta,\\varphi\\right) \\delta\\left(\\rho,\\theta,\\varphi\\right)^{2}\\,\\delta_{\\mathrm{2}}\\left(\\rho,\\theta,\\varphi\\right)^{3}+\\cos ^{3}\\left(2\\,\\rho\\right) \\frac{\\partial }{\\partial \\rho}\\delta\\left(\\rho,\\theta,\\varphi\\right) \\frac{\\partial }{\\partial \\theta}\\delta_{\\mathrm{2}}\\left(\\rho,\\theta,\\varphi\\right) \\delta\\left(\\rho,\\theta,\\varphi\\right)^{3}\\,\\delta_{\\mathrm{2}}\\left(\\rho,\\theta,\\varphi\\right)^{2}+\\cos ^{3}\\left(2\\,\\rho\\right) \\frac{\\partial }{\\partial \\theta}\\delta\\left(\\rho,\\theta,\\varphi\\right) \\frac{\\partial }{\\partial \\rho}\\delta_{\\mathrm{2}}\\left(\\rho,\\theta,\\varphi\\right) \\delta\\left(\\rho,\\theta,\\varphi\\right)^{3}\\,\\delta_{\\mathrm{2}}\\left(\\rho,\\theta,\\varphi\\right)^{2}-2 \\cos ^{3}\\left(2\\,\\rho\\right) \\frac{\\partial }{\\partial \\rho}\\frac{\\partial }{\\partial \\theta}\\delta\\left(\\rho,\\theta,\\varphi\\right) \\delta\\left(\\rho,\\theta,\\varphi\\right)^{3}\\,\\delta_{\\mathrm{2}}\\left(\\rho,\\theta,\\varphi\\right)^{3}+4 \\cos ^{2}\\left(2\\,\\rho\\right) \\frac{\\partial }{\\partial \\rho}\\delta\\left(\\rho,\\theta,\\varphi\\right) \\frac{\\partial }{\\partial \\theta}\\delta\\left(\\rho,\\theta,\\varphi\\right) \\delta\\left(\\rho,\\theta,\\varphi\\right) \\delta_{\\mathrm{2}}\\left(\\rho,\\theta,\\varphi\\right)^{2}+6 \\cos ^{2}\\left(2\\,\\rho\\right) \\frac{\\partial }{\\partial \\rho}\\delta\\left(\\rho,\\theta,\\varphi\\right) \\frac{\\partial }{\\partial \\theta}\\delta\\left(\\rho,\\theta,\\varphi\\right) \\delta_{\\mathrm{2}}\\left(\\rho,\\theta,\\varphi\\right)^{3}+6 \\cos ^{2}\\left(2\\,\\rho\\right) \\frac{\\partial }{\\partial \\rho}\\delta\\left(\\rho,\\theta,\\varphi\\right) \\frac{\\partial }{\\partial \\theta}\\delta\\left(\\rho,\\theta,\\varphi\\right) \\delta_{\\mathrm{2}}\\left(\\rho,\\theta,\\varphi\\right)^{2}+2 \\cos ^{2}\\left(2\\,\\rho\\right) \\frac{\\partial }{\\partial \\rho}\\delta\\left(\\rho,\\theta,\\varphi\\right) \\frac{\\partial }{\\partial \\theta}\\delta_{\\mathrm{2}}\\left(\\rho,\\theta,\\varphi\\right) \\delta\\left(\\rho,\\theta,\\varphi\\right)^{2}\\,\\delta_{\\mathrm{2}}\\left(\\rho,\\theta,\\varphi\\right)+\\cos ^{2}\\left(2\\,\\rho\\right) \\frac{\\partial }{\\partial \\rho}\\delta\\left(\\rho,\\theta,\\varphi\\right) \\frac{\\partial }{\\partial \\theta}\\delta_{\\mathrm{2}}\\left(\\rho,\\theta,\\varphi\\right) \\delta\\left(\\rho,\\theta,\\varphi\\right) \\delta_{\\mathrm{2}}\\left(\\rho,\\theta,\\varphi\\right)^{2}+4 \\cos ^{2}\\left(2\\,\\rho\\right) \\frac{\\partial }{\\partial \\rho}\\delta\\left(\\rho,\\theta,\\varphi\\right) \\frac{\\partial }{\\partial \\theta}\\delta_{\\mathrm{2}}\\left(\\rho,\\theta,\\varphi\\right) \\delta\\left(\\rho,\\theta,\\varphi\\right) \\delta_{\\mathrm{2}}\\left(\\rho,\\theta,\\varphi\\right)+2 \\cos ^{2}\\left(2\\,\\rho\\right) \\frac{\\partial }{\\partial \\theta}\\delta\\left(\\rho,\\theta,\\varphi\\right) \\frac{\\partial }{\\partial \\rho}\\delta_{\\mathrm{2}}\\left(\\rho,\\theta,\\varphi\\right) \\delta\\left(\\rho,\\theta,\\varphi\\right)^{2}\\,\\delta_{\\mathrm{2}}\\left(\\rho,\\theta,\\varphi\\right)+\\cos ^{2}\\left(2\\,\\rho\\right) \\frac{\\partial }{\\partial \\theta}\\delta\\left(\\rho,\\theta,\\varphi\\right) \\frac{\\partial }{\\partial \\rho}\\delta_{\\mathrm{2}}\\left(\\rho,\\theta,\\varphi\\right) \\delta\\left(\\rho,\\theta,\\varphi\\right) \\delta_{\\mathrm{2}}\\left(\\rho,\\theta,\\varphi\\right)^{2}+4 \\cos ^{2}\\left(2\\,\\rho\\right) \\frac{\\partial }{\\partial \\theta}\\delta\\left(\\rho,\\theta,\\varphi\\right) \\frac{\\partial }{\\partial \\rho}\\delta_{\\mathrm{2}}\\left(\\rho,\\theta,\\varphi\\right) \\delta\\left(\\rho,\\theta,\\varphi\\right) \\delta_{\\mathrm{2}}\\left(\\rho,\\theta,\\varphi\\right)-2 \\cos ^{2}\\left(2\\,\\rho\\right) \\frac{\\partial }{\\partial \\theta}\\delta\\left(\\rho,\\theta,\\varphi\\right) \\delta\\left(\\rho,\\theta,\\varphi\\right)^{3}\\,\\delta_{\\mathrm{2}}\\left(\\rho,\\theta,\\varphi\\right)^{3} \\sin \\left(2\\,\\rho\\right)+6 \\cos ^{2}\\left(2\\,\\rho\\right) \\frac{\\partial }{\\partial \\rho}\\delta_{\\mathrm{2}}\\left(\\rho,\\theta,\\varphi\\right) \\frac{\\partial }{\\partial \\theta}\\delta_{\\mathrm{2}}\\left(\\rho,\\theta,\\varphi\\right) \\delta\\left(\\rho,\\theta,\\varphi\\right)^{2}-6 \\cos ^{2}\\left(2\\,\\rho\\right) \\frac{\\partial }{\\partial \\rho}\\frac{\\partial }{\\partial \\theta}\\delta\\left(\\rho,\\theta,\\varphi\\right) \\delta\\left(\\rho,\\theta,\\varphi\\right)^{2}\\,\\delta_{\\mathrm{2}}\\left(\\rho,\\theta,\\varphi\\right)^{2}-4 \\cos ^{2}\\left(2\\,\\rho\\right) \\frac{\\partial }{\\partial \\rho}\\frac{\\partial }{\\partial \\theta}\\delta\\left(\\rho,\\theta,\\varphi\\right) \\delta\\left(\\rho,\\theta,\\varphi\\right) \\delta_{\\mathrm{2}}\\left(\\rho,\\theta,\\varphi\\right)^{3}-4 \\cos ^{2}\\left(2\\,\\rho\\right) \\frac{\\partial }{\\partial \\rho}\\frac{\\partial }{\\partial \\theta}\\delta\\left(\\rho,\\theta,\\varphi\\right) \\delta\\left(\\rho,\\theta,\\varphi\\right) \\delta_{\\mathrm{2}}\\left(\\rho,\\theta,\\varphi\\right)^{2}+2 \\cos ^{2}\\left(2\\,\\rho\\right) \\frac{\\partial }{\\partial \\theta}\\frac{\\partial }{\\partial \\rho}\\delta\\left(\\rho,\\theta,\\varphi\\right) \\delta\\left(\\rho,\\theta,\\varphi\\right) \\delta_{\\mathrm{2}}\\left(\\rho,\\theta,\\varphi\\right)^{3}+2 \\cos ^{2}\\left(2\\,\\rho\\right) \\frac{\\partial }{\\partial \\theta}\\frac{\\partial }{\\partial \\rho}\\delta\\left(\\rho,\\theta,\\varphi\\right) \\delta\\left(\\rho,\\theta,\\varphi\\right) \\delta_{\\mathrm{2}}\\left(\\rho,\\theta,\\varphi\\right)^{2}-4 \\cos ^{2}\\left(2\\,\\rho\\right) \\frac{\\partial }{\\partial \\rho}\\frac{\\partial }{\\partial \\theta}\\delta_{\\mathrm{2}}\\left(\\rho,\\theta,\\varphi\\right) \\delta\\left(\\rho,\\theta,\\varphi\\right)^{2}\\,\\delta_{\\mathrm{2}}\\left(\\rho,\\theta,\\varphi\\right)+2 \\cos ^{2}\\left(2\\,\\rho\\right) \\frac{\\partial }{\\partial \\theta}\\frac{\\partial }{\\partial \\rho}\\delta_{\\mathrm{2}}\\left(\\rho,\\theta,\\varphi\\right) \\delta\\left(\\rho,\\theta,\\varphi\\right)^{2}\\,\\delta_{\\mathrm{2}}\\left(\\rho,\\theta,\\varphi\\right)+2 \\cos \\left(2\\,\\rho\\right) \\frac{\\partial }{\\partial \\rho}\\delta\\left(\\rho,\\theta,\\varphi\\right) \\frac{\\partial }{\\partial \\theta}\\delta\\left(\\rho,\\theta,\\varphi\\right) \\delta_{\\mathrm{2}}\\left(\\rho,\\theta,\\varphi\\right)+\\cos \\left(2\\,\\rho\\right) \\frac{\\partial }{\\partial \\rho}\\delta\\left(\\rho,\\theta,\\varphi\\right) \\frac{\\partial }{\\partial \\theta}\\delta_{\\mathrm{2}}\\left(\\rho,\\theta,\\varphi\\right) \\delta\\left(\\rho,\\theta,\\varphi\\right)-5 \\cos \\left(2\\,\\rho\\right) \\frac{\\partial }{\\partial \\rho}\\delta\\left(\\rho,\\theta,\\varphi\\right) \\frac{\\partial }{\\partial \\theta}\\delta_{\\mathrm{2}}\\left(\\rho,\\theta,\\varphi\\right) \\delta_{\\mathrm{2}}\\left(\\rho,\\theta,\\varphi\\right)-2 \\cos \\left(2\\,\\rho\\right) \\frac{\\partial }{\\partial \\rho}\\delta\\left(\\rho,\\theta,\\varphi\\right) \\frac{\\partial }{\\partial \\theta}\\delta_{\\mathrm{2}}\\left(\\rho,\\theta,\\varphi\\right)+\\cos \\left(2\\,\\rho\\right) \\frac{\\partial }{\\partial \\theta}\\delta\\left(\\rho,\\theta,\\varphi\\right) \\frac{\\partial }{\\partial \\rho}\\delta_{\\mathrm{2}}\\left(\\rho,\\theta,\\varphi\\right) \\delta\\left(\\rho,\\theta,\\varphi\\right)-5 \\cos \\left(2\\,\\rho\\right) \\frac{\\partial }{\\partial \\theta}\\delta\\left(\\rho,\\theta,\\varphi\\right) \\frac{\\partial }{\\partial \\rho}\\delta_{\\mathrm{2}}\\left(\\rho,\\theta,\\varphi\\right) \\delta_{\\mathrm{2}}\\left(\\rho,\\theta,\\varphi\\right)-2 \\cos \\left(2\\,\\rho\\right) \\frac{\\partial }{\\partial \\theta}\\delta\\left(\\rho,\\theta,\\varphi\\right) \\frac{\\partial }{\\partial \\rho}\\delta_{\\mathrm{2}}\\left(\\rho,\\theta,\\varphi\\right)-4 \\cos \\left(2\\,\\rho\\right) \\frac{\\partial }{\\partial \\theta}\\delta\\left(\\rho,\\theta,\\varphi\\right) \\delta\\left(\\rho,\\theta,\\varphi\\right)^{2}\\,\\delta_{\\mathrm{2}}\\left(\\rho,\\theta,\\varphi\\right)^{2} \\sin \\left(2\\,\\rho\\right)-8 \\cos \\left(2\\,\\rho\\right) \\frac{\\partial }{\\partial \\theta}\\delta\\left(\\rho,\\theta,\\varphi\\right) \\delta\\left(\\rho,\\theta,\\varphi\\right) \\delta_{\\mathrm{2}}\\left(\\rho,\\theta,\\varphi\\right)^{3} \\sin \\left(2\\,\\rho\\right)-8 \\cos \\left(2\\,\\rho\\right) \\frac{\\partial }{\\partial \\theta}\\delta\\left(\\rho,\\theta,\\varphi\\right) \\delta\\left(\\rho,\\theta,\\varphi\\right) \\delta_{\\mathrm{2}}\\left(\\rho,\\theta,\\varphi\\right)^{2} \\sin \\left(2\\,\\rho\\right)-6 \\cos \\left(2\\,\\rho\\right) \\frac{\\partial }{\\partial \\rho}\\delta_{\\mathrm{2}}\\left(\\rho,\\theta,\\varphi\\right) \\frac{\\partial }{\\partial \\theta}\\delta_{\\mathrm{2}}\\left(\\rho,\\theta,\\varphi\\right) \\delta\\left(\\rho,\\theta,\\varphi\\right)-2 \\cos \\left(2\\,\\rho\\right) \\frac{\\partial }{\\partial \\theta}\\delta_{\\mathrm{2}}\\left(\\rho,\\theta,\\varphi\\right) \\delta\\left(\\rho,\\theta,\\varphi\\right)^{2}\\,\\delta_{\\mathrm{2}}\\left(\\rho,\\theta,\\varphi\\right)^{2} \\sin \\left(2\\,\\rho\\right)-8 \\cos \\left(2\\,\\rho\\right) \\frac{\\partial }{\\partial \\theta}\\delta_{\\mathrm{2}}\\left(\\rho,\\theta,\\varphi\\right) \\delta\\left(\\rho,\\theta,\\varphi\\right)^{2}\\,\\delta_{\\mathrm{2}}\\left(\\rho,\\theta,\\varphi\\right) \\sin \\left(2\\,\\rho\\right)-6 \\cos \\left(2\\,\\rho\\right) \\frac{\\partial }{\\partial \\rho}\\frac{\\partial }{\\partial \\theta}\\delta\\left(\\rho,\\theta,\\varphi\\right) \\delta\\left(\\rho,\\theta,\\varphi\\right) \\delta_{\\mathrm{2}}\\left(\\rho,\\theta,\\varphi\\right)-4 \\cos \\left(2\\,\\rho\\right) \\frac{\\partial }{\\partial \\rho}\\frac{\\partial }{\\partial \\theta}\\delta\\left(\\rho,\\theta,\\varphi\\right) \\delta_{\\mathrm{2}}\\left(\\rho,\\theta,\\varphi\\right)^{2}-4 \\cos \\left(2\\,\\rho\\right) \\frac{\\partial }{\\partial \\rho}\\frac{\\partial }{\\partial \\theta}\\delta\\left(\\rho,\\theta,\\varphi\\right) \\delta_{\\mathrm{2}}\\left(\\rho,\\theta,\\varphi\\right)+2 \\cos \\left(2\\,\\rho\\right) \\frac{\\partial }{\\partial \\theta}\\frac{\\partial }{\\partial \\rho}\\delta\\left(\\rho,\\theta,\\varphi\\right) \\delta_{\\mathrm{2}}\\left(\\rho,\\theta,\\varphi\\right)^{2}+2 \\cos \\left(2\\,\\rho\\right) \\frac{\\partial }{\\partial \\theta}\\frac{\\partial }{\\partial \\rho}\\delta\\left(\\rho,\\theta,\\varphi\\right) \\delta_{\\mathrm{2}}\\left(\\rho,\\theta,\\varphi\\right)+4 \\cos \\left(2\\,\\rho\\right) \\frac{\\partial }{\\partial \\rho}\\frac{\\partial }{\\partial \\theta}\\delta_{\\mathrm{2}}\\left(\\rho,\\theta,\\varphi\\right) \\delta\\left(\\rho,\\theta,\\varphi\\right) \\delta_{\\mathrm{2}}\\left(\\rho,\\theta,\\varphi\\right)-4 \\cos \\left(2\\,\\rho\\right) \\frac{\\partial }{\\partial \\rho}\\frac{\\partial }{\\partial \\theta}\\delta_{\\mathrm{2}}\\left(\\rho,\\theta,\\varphi\\right) \\delta\\left(\\rho,\\theta,\\varphi\\right)-2 \\cos \\left(2\\,\\rho\\right) \\frac{\\partial }{\\partial \\theta}\\frac{\\partial }{\\partial \\rho}\\delta_{\\mathrm{2}}\\left(\\rho,\\theta,\\varphi\\right) \\delta\\left(\\rho,\\theta,\\varphi\\right) \\delta_{\\mathrm{2}}\\left(\\rho,\\theta,\\varphi\\right)+2 \\cos \\left(2\\,\\rho\\right) \\frac{\\partial }{\\partial \\theta}\\frac{\\partial }{\\partial \\rho}\\delta_{\\mathrm{2}}\\left(\\rho,\\theta,\\varphi\\right) \\delta\\left(\\rho,\\theta,\\varphi\\right)-2\\,\\frac{\\partial }{\\partial \\theta}\\delta\\left(\\rho,\\theta,\\varphi\\right) \\delta\\left(\\rho,\\theta,\\varphi\\right) \\delta_{\\mathrm{2}}\\left(\\rho,\\theta,\\varphi\\right) \\sin \\left(2\\,\\rho\\right)+4\\,\\frac{\\partial }{\\partial \\theta}\\delta\\left(\\rho,\\theta,\\varphi\\right) \\delta_{\\mathrm{2}}\\left(\\rho,\\theta,\\varphi\\right)^{2} \\sin \\left(2\\,\\rho\\right)+4\\,\\frac{\\partial }{\\partial \\theta}\\delta\\left(\\rho,\\theta,\\varphi\\right) \\delta_{\\mathrm{2}}\\left(\\rho,\\theta,\\varphi\\right) \\sin \\left(2\\,\\rho\\right)+10\\,\\frac{\\partial }{\\partial \\theta}\\delta_{\\mathrm{2}}\\left(\\rho,\\theta,\\varphi\\right) \\delta\\left(\\rho,\\theta,\\varphi\\right) \\delta_{\\mathrm{2}}\\left(\\rho,\\theta,\\varphi\\right) \\sin \\left(2\\,\\rho\\right)+4\\,\\frac{\\partial }{\\partial \\theta}\\delta_{\\mathrm{2}}\\left(\\rho,\\theta,\\varphi\\right) \\delta\\left(\\rho,\\theta,\\varphi\\right) \\sin \\left(2\\,\\rho\\right)-2\\,\\frac{\\partial }{\\partial \\rho}\\frac{\\partial }{\\partial \\theta}\\delta\\left(\\rho,\\theta,\\varphi\\right)+4\\,\\frac{\\partial }{\\partial \\rho}\\frac{\\partial }{\\partial \\theta}\\delta_{\\mathrm{2}}\\left(\\rho,\\theta,\\varphi\\right)-2\\,\\frac{\\partial }{\\partial \\theta}\\frac{\\partial }{\\partial \\rho}\\delta_{\\mathrm{2}}\\left(\\rho,\\theta,\\varphi\\right)\\right) \\kappa}{2 \\cos ^{3}\\left(2\\,\\rho\\right) \\delta\\left(\\rho,\\theta,\\varphi\\right)^{3}\\,\\delta_{\\mathrm{2}}\\left(\\rho,\\theta,\\varphi\\right)^{3}+6 \\cos ^{2}\\left(2\\,\\rho\\right) \\delta\\left(\\rho,\\theta,\\varphi\\right)^{2}\\,\\delta_{\\mathrm{2}}\\left(\\rho,\\theta,\\varphi\\right)^{2}+6 \\cos \\left(2\\,\\rho\\right) \\delta\\left(\\rho,\\theta,\\varphi\\right) \\delta_{\\mathrm{2}}\\left(\\rho,\\theta,\\varphi\\right)+2}+\\mathrm{O}\\left(\\kappa^{2}\\right)$$"
   ]
  },
  {
   "cell_type": "code",
   "execution_count": null,
   "metadata": {},
   "outputs": [],
   "source": [
    "ord_var = pt.Tensor.misc.get_name(pt.Tensor.core.config.ord_var)\n",
    "greek_dict = pt.Tensor.core.config.greek_dict\n",
    "if ord_var in greek_dict:\n",
    "    \n",
    "    ord_var = r\"\\%s\"%ord_var\n",
    "    \n",
    "print(ord_var)\n",
    "    \n",
    "ord_n = pt.Tensor.core.config.ord_n"
   ]
  },
  {
   "cell_type": "code",
   "execution_count": null,
   "metadata": {},
   "outputs": [],
   "source": [
    "structure = r\"%s^{%d} \\operatorname{\\mathrm{order\\_size} }\\left(%s\\right)\"%(ord_var,ord_n+1,ord_var)\n",
    "print(structure)"
   ]
  },
  {
   "cell_type": "code",
   "execution_count": null,
   "metadata": {},
   "outputs": [],
   "source": [
    "structure"
   ]
  },
  {
   "cell_type": "code",
   "execution_count": null,
   "metadata": {},
   "outputs": [],
   "source": [
    "\n",
    "    \n"
   ]
  },
  {
   "cell_type": "code",
   "execution_count": null,
   "metadata": {},
   "outputs": [],
   "source": [
    "display_IP(Math_IP(final))"
   ]
  },
  {
   "cell_type": "code",
   "execution_count": null,
   "metadata": {},
   "outputs": [],
   "source": [
    "re.findall(r'(.*?)'%i,structure)  "
   ]
  },
  {
   "cell_type": "code",
   "execution_count": null,
   "metadata": {},
   "outputs": [],
   "source": [
    "A"
   ]
  },
  {
   "cell_type": "code",
   "execution_count": null,
   "metadata": {},
   "outputs": [],
   "source": [
    "pt.Tensor.core.config.fun"
   ]
  },
  {
   "cell_type": "code",
   "execution_count": null,
   "metadata": {},
   "outputs": [],
   "source": [
    "def prettyorder(element):\n",
    "    \n",
    "    ord_n = pt.Tensor.core.config.ord_n\n",
    "    ord_var = pt.Tensor.misc.get_name(pt.Tensor.core.config.ord_var)\n",
    "    if ord_var in greek_dict:\n",
    "\n",
    "        ord_var = r\"\\%s\"%ord_var\n",
    "\n",
    "    if ord_n+1 > 1:\n",
    "\n",
    "        structure = r\"%s^{%d} \\operatorname{\\mathrm{order\\_size} }\\left(%s\\right)\"%(ord_var,ord_n+1,ord_var)\n",
    "\n",
    "        final = element.replace(r\"%s\"%structure,r\"\\mathrm{O}\\left(%s^{%d}\\right)\"%(ord_var,ord_n+1))\n",
    "\n",
    "    elif ord_n +1 == 1:\n",
    "\n",
    "        structure = r\" \\operatorname{\\mathrm{order\\_size} }\\left(%s\\right)\"%ord_var\n",
    "\n",
    "        final = element.replace(r\"%s\"%structure,r\"\\mathrm{O}\\left(%s\\right)\"%ord_var)\n",
    "        \n",
    "    return final\n",
    "\n"
   ]
  },
  {
   "cell_type": "code",
   "execution_count": null,
   "metadata": {},
   "outputs": [],
   "source": [
    "def gp_pretty_latex(element):\n",
    "    \n",
    "    '''\n",
    "    It takes a  giacpy expression and returns a latex string that is similar to the sympy notation.\n",
    "    \n",
    "        - It rewrites the derivatives\n",
    "        - It rewrites the expansion order\n",
    "    \n",
    "    '''\n",
    "    \n",
    "    names = {}\n",
    "    variables = []\n",
    "\n",
    "    result = element[:]\n",
    "    \n",
    "    greek_dict = pt.Tensor.core.config.greek_dict\n",
    "\n",
    "    for i in pt.Tensor.core.config.fun:\n",
    "\n",
    "        x = r'%s'%str(latex(i))[1:].split(\"\\left\")[0].replace('\\\\','').replace('{','\\\\{').replace('}','\\\\}').replace('mathrm','\\\\\\\\mathrm')\n",
    "\n",
    "        names[x] = str(i).split('(')[1][:-1]\n",
    "\n",
    "    for i in names:\n",
    "\n",
    "        j = re.findall(r'(?<=\\W)%s\\^\\{\\\\left\\((.*?)\\\\right\\)\\}'%i,element)\n",
    "        \n",
    "        for k in j:\n",
    "\n",
    "            ind = k.split(',')\n",
    "\n",
    "            ini,fin = re.search(r'%s\\^\\{\\\\left\\(%s\\\\right\\)\\}'%(i,k),element).span()\n",
    "            \n",
    "            while element[ini] != ' ' and element[ini] != ',' and element[ini] != '\\\\' and element[ini] != '-' and element[ini] != '+':\n",
    "\n",
    "                ini -= 1\n",
    "\n",
    "            string = ''\n",
    "\n",
    "            l_dict = {}\n",
    "\n",
    "            for l in ind: \n",
    "\n",
    "                l_dict[l] = ind.count(l)  \n",
    "                \n",
    "            for l in l_dict:  # L = '1'\n",
    "\n",
    "                y = names[i].split(',')[int(l)-1]\n",
    "                    \n",
    "                if y in greek_dict.keys():\n",
    "                        \n",
    "                    y = r'\\\\%s'%y\n",
    "                \n",
    "                if l_dict[l] == 1:\n",
    "                    \n",
    "                    string += r'\\frac{\\partial }{\\partial %s}'%y\n",
    "\n",
    "                else:\n",
    "\n",
    "                    string += r'\\frac{\\partial^%d }{\\partial %s^%d}'%(l_dict[l],y,l_dict[l])\n",
    "\n",
    "            string+= i\n",
    "\n",
    "            result = result.replace(element[ini:fin],string)    \n",
    "\n",
    "    for func in names:\n",
    "\n",
    "        if func in greek_dict.keys():\n",
    "\n",
    "            result = result.replace(func,pt.Tensor.core.config.greek_dict[func])\n",
    "            \n",
    "    if pt.Tensor.core.config.ord_status == True:\n",
    "\n",
    "        result = prettyorder(result)\n",
    "\n",
    "    return result.replace('\\\\\\\\','\\\\').replace(\"\\\"\",\"\").replace(\"\\\\{\",\"{\").replace(\"\\\\}\",\"}\")"
   ]
  },
  {
   "cell_type": "code",
   "execution_count": null,
   "metadata": {},
   "outputs": [],
   "source": []
  },
  {
   "cell_type": "code",
   "execution_count": null,
   "metadata": {
    "scrolled": true
   },
   "outputs": [],
   "source": [
    "display_IP(Math_IP(gp_pretty_print(lol)))"
   ]
  },
  {
   "cell_type": "code",
   "execution_count": null,
   "metadata": {
    "scrolled": true
   },
   "outputs": [],
   "source": [
    "re.findall(r'(?<=\\W)%s\\^\\{\\\\left\\((.*?)\\\\right\\)\\}'%names[].replace('{','\\\\{').replace('}','\\\\}').replace('mathrm','\\\\\\\\mathrm'),lol)"
   ]
  },
  {
   "cell_type": "code",
   "execution_count": null,
   "metadata": {},
   "outputs": [],
   "source": [
    "hola = 'hola'"
   ]
  },
  {
   "cell_type": "code",
   "execution_count": null,
   "metadata": {
    "scrolled": true
   },
   "outputs": [],
   "source": [
    "hola.replace('a','e')"
   ]
  },
  {
   "cell_type": "code",
   "execution_count": null,
   "metadata": {},
   "outputs": [],
   "source": [
    "hola"
   ]
  },
  {
   "cell_type": "code",
   "execution_count": null,
   "metadata": {},
   "outputs": [],
   "source": []
  },
  {
   "cell_type": "code",
   "execution_count": null,
   "metadata": {},
   "outputs": [],
   "source": [
    "names,lol"
   ]
  },
  {
   "cell_type": "code",
   "execution_count": null,
   "metadata": {},
   "outputs": [],
   "source": []
  },
  {
   "cell_type": "code",
   "execution_count": null,
   "metadata": {},
   "outputs": [],
   "source": []
  },
  {
   "cell_type": "code",
   "execution_count": null,
   "metadata": {
    "scrolled": true
   },
   "outputs": [],
   "source": []
  },
  {
   "cell_type": "code",
   "execution_count": null,
   "metadata": {},
   "outputs": [],
   "source": [
    "G.display('_,_',aslist = True)"
   ]
  },
  {
   "cell_type": "markdown",
   "metadata": {},
   "source": [
    "#### Here we show the capability of performing covariant and non-covariant derivatives of a Tensor. "
   ]
  },
  {
   "cell_type": "code",
   "execution_count": 13,
   "metadata": {},
   "outputs": [],
   "source": [
    "A = pt.D(G('_a,_b'),'_c')\n",
    "B = pt.C(G('_a,_b'),'_c')"
   ]
  },
  {
   "cell_type": "markdown",
   "metadata": {},
   "source": [
    "#### This returns a different type of object that is related to the particular choise of indexes above. However, this object is diectly related to the tensors and we can assign its \"value\" to a tensor."
   ]
  },
  {
   "cell_type": "code",
   "execution_count": 14,
   "metadata": {},
   "outputs": [],
   "source": [
    "# Define the tensor Der and assign the value obtained above.\n",
    "Der = pt.new_ten('Der',3)\n",
    "Der.assign(A,'_a,_b,_c')\n",
    "Der.simplify()\n",
    "\n",
    "# Define the tensor Cov and assign the value obtained above.\n",
    "Cov = pt.new_ten('Cov',3)\n",
    "Cov.assign(B,'_a,_b,_c')\n",
    "Cov.simplify()"
   ]
  },
  {
   "cell_type": "code",
   "execution_count": 15,
   "metadata": {},
   "outputs": [
    {
     "data": {
      "text/latex": [
       "$\\displaystyle {Der}{}_{0\n",
       "}{}_{0\n",
       "}{}_{0\n",
       "} = \\frac{-6 \\left(\\frac{\\mathrm{d}}{\\mathrm{d}t}\\,a\\left(t\\right)\\right)^{3}+6\\,\\frac{\\mathrm{d}}{\\mathrm{d}t}\\,a\\left(t\\right)\\cdot \\frac{\\mathrm{d}^{2}}{\\mathrm{d}t^{2}}\\,a\\left(t\\right) a\\left(t\\right)}{a\\left(t\\right)^{3}}$"
      ],
      "text/plain": [
       "<IPython.core.display.Math object>"
      ]
     },
     "metadata": {},
     "output_type": "display_data"
    },
    {
     "data": {
      "text/latex": [
       "$\\displaystyle {Der}{}_{0\n",
       "}{}_{0\n",
       "}{}_{1\n",
       "} = 2\\,\\kappa \\frac{\\partial^3 }{\\partial x^3}\\phi\\left(x,y,z\\right)+2\\,\\kappa \\frac{\\partial^2 }{\\partial y^2}\\frac{\\partial }{\\partial x}\\phi\\left(x,y,z\\right)+2\\,\\kappa \\frac{\\partial^2 }{\\partial z^2}\\frac{\\partial }{\\partial x}\\phi\\left(x,y,z\\right)$"
      ],
      "text/plain": [
       "<IPython.core.display.Math object>"
      ]
     },
     "metadata": {},
     "output_type": "display_data"
    },
    {
     "data": {
      "text/latex": [
       "$\\displaystyle {Der}{}_{0\n",
       "}{}_{0\n",
       "}{}_{2\n",
       "} = 2\\,\\kappa \\frac{\\partial^2 }{\\partial x^2}\\frac{\\partial }{\\partial y}\\phi\\left(x,y,z\\right)+2\\,\\kappa \\frac{\\partial^3 }{\\partial y^3}\\phi\\left(x,y,z\\right)+2\\,\\kappa \\frac{\\partial^2 }{\\partial z^2}\\frac{\\partial }{\\partial y}\\phi\\left(x,y,z\\right)$"
      ],
      "text/plain": [
       "<IPython.core.display.Math object>"
      ]
     },
     "metadata": {},
     "output_type": "display_data"
    },
    {
     "data": {
      "text/latex": [
       "$\\displaystyle {Der}{}_{0\n",
       "}{}_{0\n",
       "}{}_{3\n",
       "} = 2\\,\\kappa \\frac{\\partial^2 }{\\partial x^2}\\frac{\\partial }{\\partial z}\\phi\\left(x,y,z\\right)+2\\,\\kappa \\frac{\\partial^2 }{\\partial y^2}\\frac{\\partial }{\\partial z}\\phi\\left(x,y,z\\right)+2\\,\\kappa \\frac{\\partial^3 }{\\partial z^3}\\phi\\left(x,y,z\\right)$"
      ],
      "text/plain": [
       "<IPython.core.display.Math object>"
      ]
     },
     "metadata": {},
     "output_type": "display_data"
    },
    {
     "data": {
      "text/latex": [
       "$\\displaystyle {Der}{}_{0\n",
       "}{}_{1\n",
       "}{}_{0\n",
       "} = \\frac{-2\\,\\kappa \\left(\\frac{\\mathrm{d}}{\\mathrm{d}t}\\,a\\left(t\\right)\\right)^{2}\\,\\frac{\\partial }{\\partial x}\\psi\\left(x,y,z\\right)+2\\,\\kappa \\frac{\\mathrm{d}^{2}}{\\mathrm{d}t^{2}}\\,a\\left(t\\right) \\frac{\\partial }{\\partial x}\\psi\\left(x,y,z\\right) a\\left(t\\right)}{a\\left(t\\right)^{2}}$"
      ],
      "text/plain": [
       "<IPython.core.display.Math object>"
      ]
     },
     "metadata": {},
     "output_type": "display_data"
    },
    {
     "data": {
      "text/latex": [
       "$\\displaystyle {Der}{}_{0\n",
       "}{}_{1\n",
       "}{}_{1\n",
       "} = \\frac{2\\,\\kappa \\frac{\\mathrm{d}}{\\mathrm{d}t}\\,a\\left(t\\right) \\frac{\\partial^2 }{\\partial x^2}\\psi\\left(x,y,z\\right)}{a\\left(t\\right)}$"
      ],
      "text/plain": [
       "<IPython.core.display.Math object>"
      ]
     },
     "metadata": {},
     "output_type": "display_data"
    },
    {
     "data": {
      "text/latex": [
       "$\\displaystyle {Der}{}_{0\n",
       "}{}_{1\n",
       "}{}_{2\n",
       "} = \\frac{2\\,\\kappa \\frac{\\mathrm{d}}{\\mathrm{d}t}\\,a\\left(t\\right) \\frac{\\partial }{\\partial x}\\frac{\\partial }{\\partial y}\\psi\\left(x,y,z\\right)}{a\\left(t\\right)}$"
      ],
      "text/plain": [
       "<IPython.core.display.Math object>"
      ]
     },
     "metadata": {},
     "output_type": "display_data"
    },
    {
     "data": {
      "text/latex": [
       "$\\displaystyle {Der}{}_{0\n",
       "}{}_{1\n",
       "}{}_{3\n",
       "} = \\frac{2\\,\\kappa \\frac{\\mathrm{d}}{\\mathrm{d}t}\\,a\\left(t\\right) \\frac{\\partial }{\\partial x}\\frac{\\partial }{\\partial z}\\psi\\left(x,y,z\\right)}{a\\left(t\\right)}$"
      ],
      "text/plain": [
       "<IPython.core.display.Math object>"
      ]
     },
     "metadata": {},
     "output_type": "display_data"
    },
    {
     "data": {
      "text/latex": [
       "$\\displaystyle {Der}{}_{0\n",
       "}{}_{2\n",
       "}{}_{0\n",
       "} = \\frac{-2\\,\\kappa \\left(\\frac{\\mathrm{d}}{\\mathrm{d}t}\\,a\\left(t\\right)\\right)^{2}\\,\\frac{\\partial }{\\partial y}\\psi\\left(x,y,z\\right)+2\\,\\kappa \\frac{\\mathrm{d}^{2}}{\\mathrm{d}t^{2}}\\,a\\left(t\\right) \\frac{\\partial }{\\partial y}\\psi\\left(x,y,z\\right) a\\left(t\\right)}{a\\left(t\\right)^{2}}$"
      ],
      "text/plain": [
       "<IPython.core.display.Math object>"
      ]
     },
     "metadata": {},
     "output_type": "display_data"
    },
    {
     "data": {
      "text/latex": [
       "$\\displaystyle {Der}{}_{0\n",
       "}{}_{2\n",
       "}{}_{1\n",
       "} = \\frac{2\\,\\kappa \\frac{\\mathrm{d}}{\\mathrm{d}t}\\,a\\left(t\\right) \\frac{\\partial }{\\partial y}\\frac{\\partial }{\\partial x}\\psi\\left(x,y,z\\right)}{a\\left(t\\right)}$"
      ],
      "text/plain": [
       "<IPython.core.display.Math object>"
      ]
     },
     "metadata": {},
     "output_type": "display_data"
    },
    {
     "data": {
      "text/latex": [
       "$\\displaystyle {Der}{}_{0\n",
       "}{}_{2\n",
       "}{}_{2\n",
       "} = \\frac{2\\,\\kappa \\frac{\\mathrm{d}}{\\mathrm{d}t}\\,a\\left(t\\right) \\frac{\\partial^2 }{\\partial y^2}\\psi\\left(x,y,z\\right)}{a\\left(t\\right)}$"
      ],
      "text/plain": [
       "<IPython.core.display.Math object>"
      ]
     },
     "metadata": {},
     "output_type": "display_data"
    },
    {
     "data": {
      "text/latex": [
       "$\\displaystyle {Der}{}_{0\n",
       "}{}_{2\n",
       "}{}_{3\n",
       "} = \\frac{2\\,\\kappa \\frac{\\mathrm{d}}{\\mathrm{d}t}\\,a\\left(t\\right) \\frac{\\partial }{\\partial y}\\frac{\\partial }{\\partial z}\\psi\\left(x,y,z\\right)}{a\\left(t\\right)}$"
      ],
      "text/plain": [
       "<IPython.core.display.Math object>"
      ]
     },
     "metadata": {},
     "output_type": "display_data"
    },
    {
     "data": {
      "text/latex": [
       "$\\displaystyle {Der}{}_{0\n",
       "}{}_{3\n",
       "}{}_{0\n",
       "} = \\frac{-2\\,\\kappa \\left(\\frac{\\mathrm{d}}{\\mathrm{d}t}\\,a\\left(t\\right)\\right)^{2}\\,\\frac{\\partial }{\\partial z}\\psi\\left(x,y,z\\right)+2\\,\\kappa \\frac{\\mathrm{d}^{2}}{\\mathrm{d}t^{2}}\\,a\\left(t\\right) \\frac{\\partial }{\\partial z}\\psi\\left(x,y,z\\right) a\\left(t\\right)}{a\\left(t\\right)^{2}}$"
      ],
      "text/plain": [
       "<IPython.core.display.Math object>"
      ]
     },
     "metadata": {},
     "output_type": "display_data"
    },
    {
     "data": {
      "text/latex": [
       "$\\displaystyle {Der}{}_{0\n",
       "}{}_{3\n",
       "}{}_{1\n",
       "} = \\frac{2\\,\\kappa \\frac{\\mathrm{d}}{\\mathrm{d}t}\\,a\\left(t\\right) \\frac{\\partial }{\\partial z}\\frac{\\partial }{\\partial x}\\psi\\left(x,y,z\\right)}{a\\left(t\\right)}$"
      ],
      "text/plain": [
       "<IPython.core.display.Math object>"
      ]
     },
     "metadata": {},
     "output_type": "display_data"
    },
    {
     "data": {
      "text/latex": [
       "$\\displaystyle {Der}{}_{0\n",
       "}{}_{3\n",
       "}{}_{2\n",
       "} = \\frac{2\\,\\kappa \\frac{\\mathrm{d}}{\\mathrm{d}t}\\,a\\left(t\\right) \\frac{\\partial }{\\partial z}\\frac{\\partial }{\\partial y}\\psi\\left(x,y,z\\right)}{a\\left(t\\right)}$"
      ],
      "text/plain": [
       "<IPython.core.display.Math object>"
      ]
     },
     "metadata": {},
     "output_type": "display_data"
    },
    {
     "data": {
      "text/latex": [
       "$\\displaystyle {Der}{}_{0\n",
       "}{}_{3\n",
       "}{}_{3\n",
       "} = \\frac{2\\,\\kappa \\frac{\\mathrm{d}}{\\mathrm{d}t}\\,a\\left(t\\right) \\frac{\\partial^2 }{\\partial z^2}\\psi\\left(x,y,z\\right)}{a\\left(t\\right)}$"
      ],
      "text/plain": [
       "<IPython.core.display.Math object>"
      ]
     },
     "metadata": {},
     "output_type": "display_data"
    },
    {
     "data": {
      "text/latex": [
       "$\\displaystyle {Der}{}_{1\n",
       "}{}_{0\n",
       "}{}_{0\n",
       "} = \\frac{-2\\,\\kappa \\left(\\frac{\\mathrm{d}}{\\mathrm{d}t}\\,a\\left(t\\right)\\right)^{2}\\,\\frac{\\partial }{\\partial x}\\psi\\left(x,y,z\\right)+2\\,\\kappa \\frac{\\mathrm{d}^{2}}{\\mathrm{d}t^{2}}\\,a\\left(t\\right) \\frac{\\partial }{\\partial x}\\psi\\left(x,y,z\\right) a\\left(t\\right)}{a\\left(t\\right)^{2}}$"
      ],
      "text/plain": [
       "<IPython.core.display.Math object>"
      ]
     },
     "metadata": {},
     "output_type": "display_data"
    },
    {
     "data": {
      "text/latex": [
       "$\\displaystyle {Der}{}_{1\n",
       "}{}_{0\n",
       "}{}_{1\n",
       "} = \\frac{2\\,\\kappa \\frac{\\mathrm{d}}{\\mathrm{d}t}\\,a\\left(t\\right) \\frac{\\partial^2 }{\\partial x^2}\\psi\\left(x,y,z\\right)}{a\\left(t\\right)}$"
      ],
      "text/plain": [
       "<IPython.core.display.Math object>"
      ]
     },
     "metadata": {},
     "output_type": "display_data"
    },
    {
     "data": {
      "text/latex": [
       "$\\displaystyle {Der}{}_{1\n",
       "}{}_{0\n",
       "}{}_{2\n",
       "} = \\frac{2\\,\\kappa \\frac{\\mathrm{d}}{\\mathrm{d}t}\\,a\\left(t\\right) \\frac{\\partial }{\\partial x}\\frac{\\partial }{\\partial y}\\psi\\left(x,y,z\\right)}{a\\left(t\\right)}$"
      ],
      "text/plain": [
       "<IPython.core.display.Math object>"
      ]
     },
     "metadata": {},
     "output_type": "display_data"
    },
    {
     "data": {
      "text/latex": [
       "$\\displaystyle {Der}{}_{1\n",
       "}{}_{0\n",
       "}{}_{3\n",
       "} = \\frac{2\\,\\kappa \\frac{\\mathrm{d}}{\\mathrm{d}t}\\,a\\left(t\\right) \\frac{\\partial }{\\partial x}\\frac{\\partial }{\\partial z}\\psi\\left(x,y,z\\right)}{a\\left(t\\right)}$"
      ],
      "text/plain": [
       "<IPython.core.display.Math object>"
      ]
     },
     "metadata": {},
     "output_type": "display_data"
    },
    {
     "data": {
      "text/latex": [
       "$\\displaystyle {Der}{}_{1\n",
       "}{}_{1\n",
       "}{}_{0\n",
       "} = \\frac{4\\,\\kappa \\left(\\frac{\\mathrm{d}}{\\mathrm{d}t}\\,a\\left(t\\right)\\right)^{3}\\,\\phi\\left(x,y,z\\right)+4\\,\\kappa \\left(\\frac{\\mathrm{d}}{\\mathrm{d}t}\\,a\\left(t\\right)\\right)^{3}\\,\\psi\\left(x,y,z\\right)-8\\,\\kappa \\frac{\\mathrm{d}}{\\mathrm{d}t}\\,a\\left(t\\right)\\cdot \\frac{\\mathrm{d}^{2}}{\\mathrm{d}t^{2}}\\,a\\left(t\\right) a\\left(t\\right) \\phi\\left(x,y,z\\right)-8\\,\\kappa \\frac{\\mathrm{d}}{\\mathrm{d}t}\\,a\\left(t\\right)\\cdot \\frac{\\mathrm{d}^{2}}{\\mathrm{d}t^{2}}\\,a\\left(t\\right) a\\left(t\\right) \\psi\\left(x,y,z\\right)+4\\,\\kappa \\frac{\\mathrm{d}^{3}}{\\mathrm{d}t^{3}}\\,a\\left(t\\right) a\\left(t\\right)^{2}\\,\\phi\\left(x,y,z\\right)+4\\,\\kappa \\frac{\\mathrm{d}^{3}}{\\mathrm{d}t^{3}}\\,a\\left(t\\right) a\\left(t\\right)^{2}\\,\\psi\\left(x,y,z\\right)-2 \\left(\\frac{\\mathrm{d}}{\\mathrm{d}t}\\,a\\left(t\\right)\\right)^{3}+4\\,\\frac{\\mathrm{d}}{\\mathrm{d}t}\\,a\\left(t\\right)\\cdot \\frac{\\mathrm{d}^{2}}{\\mathrm{d}t^{2}}\\,a\\left(t\\right) a\\left(t\\right)-2\\,\\frac{\\mathrm{d}^{3}}{\\mathrm{d}t^{3}}\\,a\\left(t\\right) a\\left(t\\right)^{2}}{a\\left(t\\right)^{3}}$"
      ],
      "text/plain": [
       "<IPython.core.display.Math object>"
      ]
     },
     "metadata": {},
     "output_type": "display_data"
    },
    {
     "data": {
      "text/latex": [
       "$\\displaystyle {Der}{}_{1\n",
       "}{}_{1\n",
       "}{}_{1\n",
       "} = \\frac{-2\\,\\kappa \\left(\\frac{\\mathrm{d}}{\\mathrm{d}t}\\,a\\left(t\\right)\\right)^{2}\\,\\frac{\\partial }{\\partial x}\\phi\\left(x,y,z\\right)-2\\,\\kappa \\left(\\frac{\\mathrm{d}}{\\mathrm{d}t}\\,a\\left(t\\right)\\right)^{2}\\,\\frac{\\partial }{\\partial x}\\psi\\left(x,y,z\\right)+4\\,\\kappa \\frac{\\mathrm{d}^{2}}{\\mathrm{d}t^{2}}\\,a\\left(t\\right) \\frac{\\partial }{\\partial x}\\phi\\left(x,y,z\\right) a\\left(t\\right)+4\\,\\kappa \\frac{\\mathrm{d}^{2}}{\\mathrm{d}t^{2}}\\,a\\left(t\\right) \\frac{\\partial }{\\partial x}\\psi\\left(x,y,z\\right) a\\left(t\\right)-\\kappa \\frac{\\partial^2 }{\\partial y^2}\\frac{\\partial }{\\partial x}\\phi\\left(x,y,z\\right) a\\left(t\\right)^{2}-\\kappa \\frac{\\partial^2 }{\\partial z^2}\\frac{\\partial }{\\partial x}\\phi\\left(x,y,z\\right) a\\left(t\\right)^{2}+\\kappa \\frac{\\partial^2 }{\\partial y^2}\\frac{\\partial }{\\partial x}\\psi\\left(x,y,z\\right) a\\left(t\\right)^{2}+\\kappa \\frac{\\partial^2 }{\\partial z^2}\\frac{\\partial }{\\partial x}\\psi\\left(x,y,z\\right) a\\left(t\\right)^{2}}{a\\left(t\\right)^{2}}$"
      ],
      "text/plain": [
       "<IPython.core.display.Math object>"
      ]
     },
     "metadata": {},
     "output_type": "display_data"
    },
    {
     "data": {
      "text/latex": [
       "$\\displaystyle {Der}{}_{1\n",
       "}{}_{1\n",
       "}{}_{2\n",
       "} = \\frac{-2\\,\\kappa \\left(\\frac{\\mathrm{d}}{\\mathrm{d}t}\\,a\\left(t\\right)\\right)^{2}\\,\\frac{\\partial }{\\partial y}\\phi\\left(x,y,z\\right)-2\\,\\kappa \\left(\\frac{\\mathrm{d}}{\\mathrm{d}t}\\,a\\left(t\\right)\\right)^{2}\\,\\frac{\\partial }{\\partial y}\\psi\\left(x,y,z\\right)+4\\,\\kappa \\frac{\\mathrm{d}^{2}}{\\mathrm{d}t^{2}}\\,a\\left(t\\right) \\frac{\\partial }{\\partial y}\\phi\\left(x,y,z\\right) a\\left(t\\right)+4\\,\\kappa \\frac{\\mathrm{d}^{2}}{\\mathrm{d}t^{2}}\\,a\\left(t\\right) \\frac{\\partial }{\\partial y}\\psi\\left(x,y,z\\right) a\\left(t\\right)-\\kappa \\frac{\\partial^3 }{\\partial y^3}\\phi\\left(x,y,z\\right) a\\left(t\\right)^{2}-\\kappa \\frac{\\partial^2 }{\\partial z^2}\\frac{\\partial }{\\partial y}\\phi\\left(x,y,z\\right) a\\left(t\\right)^{2}+\\kappa \\frac{\\partial^3 }{\\partial y^3}\\psi\\left(x,y,z\\right) a\\left(t\\right)^{2}+\\kappa \\frac{\\partial^2 }{\\partial z^2}\\frac{\\partial }{\\partial y}\\psi\\left(x,y,z\\right) a\\left(t\\right)^{2}}{a\\left(t\\right)^{2}}$"
      ],
      "text/plain": [
       "<IPython.core.display.Math object>"
      ]
     },
     "metadata": {},
     "output_type": "display_data"
    },
    {
     "data": {
      "text/latex": [
       "$\\displaystyle {Der}{}_{1\n",
       "}{}_{1\n",
       "}{}_{3\n",
       "} = \\frac{-2\\,\\kappa \\left(\\frac{\\mathrm{d}}{\\mathrm{d}t}\\,a\\left(t\\right)\\right)^{2}\\,\\frac{\\partial }{\\partial z}\\phi\\left(x,y,z\\right)-2\\,\\kappa \\left(\\frac{\\mathrm{d}}{\\mathrm{d}t}\\,a\\left(t\\right)\\right)^{2}\\,\\frac{\\partial }{\\partial z}\\psi\\left(x,y,z\\right)+4\\,\\kappa \\frac{\\mathrm{d}^{2}}{\\mathrm{d}t^{2}}\\,a\\left(t\\right) \\frac{\\partial }{\\partial z}\\phi\\left(x,y,z\\right) a\\left(t\\right)+4\\,\\kappa \\frac{\\mathrm{d}^{2}}{\\mathrm{d}t^{2}}\\,a\\left(t\\right) \\frac{\\partial }{\\partial z}\\psi\\left(x,y,z\\right) a\\left(t\\right)-\\kappa \\frac{\\partial^2 }{\\partial y^2}\\frac{\\partial }{\\partial z}\\phi\\left(x,y,z\\right) a\\left(t\\right)^{2}-\\kappa \\frac{\\partial^3 }{\\partial z^3}\\phi\\left(x,y,z\\right) a\\left(t\\right)^{2}+\\kappa \\frac{\\partial^2 }{\\partial y^2}\\frac{\\partial }{\\partial z}\\psi\\left(x,y,z\\right) a\\left(t\\right)^{2}+\\kappa \\frac{\\partial^3 }{\\partial z^3}\\psi\\left(x,y,z\\right) a\\left(t\\right)^{2}}{a\\left(t\\right)^{2}}$"
      ],
      "text/plain": [
       "<IPython.core.display.Math object>"
      ]
     },
     "metadata": {},
     "output_type": "display_data"
    },
    {
     "data": {
      "text/latex": [
       "$\\displaystyle {Der}{}_{1\n",
       "}{}_{2\n",
       "}{}_{1\n",
       "} = 2\\,\\kappa \\frac{\\partial^2 }{\\partial x^2}\\frac{\\partial }{\\partial y}\\phi\\left(x,y,z\\right)-\\kappa \\frac{\\partial }{\\partial y}\\frac{\\partial^2 }{\\partial x^2}\\phi\\left(x,y,z\\right)-\\kappa \\frac{\\partial^2 }{\\partial x^2}\\frac{\\partial }{\\partial y}\\psi\\left(x,y,z\\right)$"
      ],
      "text/plain": [
       "<IPython.core.display.Math object>"
      ]
     },
     "metadata": {},
     "output_type": "display_data"
    },
    {
     "data": {
      "text/latex": [
       "$\\displaystyle {Der}{}_{1\n",
       "}{}_{2\n",
       "}{}_{2\n",
       "} = 2\\,\\kappa \\frac{\\partial }{\\partial x}\\frac{\\partial^2 }{\\partial y^2}\\phi\\left(x,y,z\\right)-\\kappa \\frac{\\partial^2 }{\\partial y^2}\\frac{\\partial }{\\partial x}\\phi\\left(x,y,z\\right)-\\kappa \\frac{\\partial }{\\partial x}\\frac{\\partial^2 }{\\partial y^2}\\psi\\left(x,y,z\\right)$"
      ],
      "text/plain": [
       "<IPython.core.display.Math object>"
      ]
     },
     "metadata": {},
     "output_type": "display_data"
    },
    {
     "data": {
      "text/latex": [
       "$\\displaystyle {Der}{}_{1\n",
       "}{}_{2\n",
       "}{}_{3\n",
       "} = 2\\,\\kappa \\frac{\\partial }{\\partial x}\\frac{\\partial }{\\partial y}\\frac{\\partial }{\\partial z}\\phi\\left(x,y,z\\right)-\\kappa \\frac{\\partial }{\\partial y}\\frac{\\partial }{\\partial x}\\frac{\\partial }{\\partial z}\\phi\\left(x,y,z\\right)-\\kappa \\frac{\\partial }{\\partial x}\\frac{\\partial }{\\partial y}\\frac{\\partial }{\\partial z}\\psi\\left(x,y,z\\right)$"
      ],
      "text/plain": [
       "<IPython.core.display.Math object>"
      ]
     },
     "metadata": {},
     "output_type": "display_data"
    },
    {
     "data": {
      "text/latex": [
       "$\\displaystyle {Der}{}_{1\n",
       "}{}_{3\n",
       "}{}_{1\n",
       "} = 2\\,\\kappa \\frac{\\partial^2 }{\\partial x^2}\\frac{\\partial }{\\partial z}\\phi\\left(x,y,z\\right)-\\kappa \\frac{\\partial }{\\partial z}\\frac{\\partial^2 }{\\partial x^2}\\phi\\left(x,y,z\\right)-\\kappa \\frac{\\partial^2 }{\\partial x^2}\\frac{\\partial }{\\partial z}\\psi\\left(x,y,z\\right)$"
      ],
      "text/plain": [
       "<IPython.core.display.Math object>"
      ]
     },
     "metadata": {},
     "output_type": "display_data"
    },
    {
     "data": {
      "text/latex": [
       "$\\displaystyle {Der}{}_{1\n",
       "}{}_{3\n",
       "}{}_{2\n",
       "} = 2\\,\\kappa \\frac{\\partial }{\\partial x}\\frac{\\partial }{\\partial z}\\frac{\\partial }{\\partial y}\\phi\\left(x,y,z\\right)-\\kappa \\frac{\\partial }{\\partial z}\\frac{\\partial }{\\partial x}\\frac{\\partial }{\\partial y}\\phi\\left(x,y,z\\right)-\\kappa \\frac{\\partial }{\\partial x}\\frac{\\partial }{\\partial z}\\frac{\\partial }{\\partial y}\\psi\\left(x,y,z\\right)$"
      ],
      "text/plain": [
       "<IPython.core.display.Math object>"
      ]
     },
     "metadata": {},
     "output_type": "display_data"
    },
    {
     "data": {
      "text/latex": [
       "$\\displaystyle {Der}{}_{1\n",
       "}{}_{3\n",
       "}{}_{3\n",
       "} = 2\\,\\kappa \\frac{\\partial }{\\partial x}\\frac{\\partial^2 }{\\partial z^2}\\phi\\left(x,y,z\\right)-\\kappa \\frac{\\partial^2 }{\\partial z^2}\\frac{\\partial }{\\partial x}\\phi\\left(x,y,z\\right)-\\kappa \\frac{\\partial }{\\partial x}\\frac{\\partial^2 }{\\partial z^2}\\psi\\left(x,y,z\\right)$"
      ],
      "text/plain": [
       "<IPython.core.display.Math object>"
      ]
     },
     "metadata": {},
     "output_type": "display_data"
    },
    {
     "data": {
      "text/latex": [
       "$\\displaystyle {Der}{}_{2\n",
       "}{}_{0\n",
       "}{}_{0\n",
       "} = \\frac{-2\\,\\kappa \\left(\\frac{\\mathrm{d}}{\\mathrm{d}t}\\,a\\left(t\\right)\\right)^{2}\\,\\frac{\\partial }{\\partial y}\\psi\\left(x,y,z\\right)+2\\,\\kappa \\frac{\\mathrm{d}^{2}}{\\mathrm{d}t^{2}}\\,a\\left(t\\right) \\frac{\\partial }{\\partial y}\\psi\\left(x,y,z\\right) a\\left(t\\right)}{a\\left(t\\right)^{2}}$"
      ],
      "text/plain": [
       "<IPython.core.display.Math object>"
      ]
     },
     "metadata": {},
     "output_type": "display_data"
    },
    {
     "data": {
      "text/latex": [
       "$\\displaystyle {Der}{}_{2\n",
       "}{}_{0\n",
       "}{}_{1\n",
       "} = \\frac{2\\,\\kappa \\frac{\\mathrm{d}}{\\mathrm{d}t}\\,a\\left(t\\right) \\frac{\\partial }{\\partial y}\\frac{\\partial }{\\partial x}\\psi\\left(x,y,z\\right)}{a\\left(t\\right)}$"
      ],
      "text/plain": [
       "<IPython.core.display.Math object>"
      ]
     },
     "metadata": {},
     "output_type": "display_data"
    },
    {
     "data": {
      "text/latex": [
       "$\\displaystyle {Der}{}_{2\n",
       "}{}_{0\n",
       "}{}_{2\n",
       "} = \\frac{2\\,\\kappa \\frac{\\mathrm{d}}{\\mathrm{d}t}\\,a\\left(t\\right) \\frac{\\partial^2 }{\\partial y^2}\\psi\\left(x,y,z\\right)}{a\\left(t\\right)}$"
      ],
      "text/plain": [
       "<IPython.core.display.Math object>"
      ]
     },
     "metadata": {},
     "output_type": "display_data"
    },
    {
     "data": {
      "text/latex": [
       "$\\displaystyle {Der}{}_{2\n",
       "}{}_{0\n",
       "}{}_{3\n",
       "} = \\frac{2\\,\\kappa \\frac{\\mathrm{d}}{\\mathrm{d}t}\\,a\\left(t\\right) \\frac{\\partial }{\\partial y}\\frac{\\partial }{\\partial z}\\psi\\left(x,y,z\\right)}{a\\left(t\\right)}$"
      ],
      "text/plain": [
       "<IPython.core.display.Math object>"
      ]
     },
     "metadata": {},
     "output_type": "display_data"
    },
    {
     "data": {
      "text/latex": [
       "$\\displaystyle {Der}{}_{2\n",
       "}{}_{1\n",
       "}{}_{1\n",
       "} = 2\\,\\kappa \\frac{\\partial^2 }{\\partial x^2}\\frac{\\partial }{\\partial y}\\phi\\left(x,y,z\\right)-\\kappa \\frac{\\partial }{\\partial y}\\frac{\\partial^2 }{\\partial x^2}\\phi\\left(x,y,z\\right)-\\kappa \\frac{\\partial^2 }{\\partial x^2}\\frac{\\partial }{\\partial y}\\psi\\left(x,y,z\\right)$"
      ],
      "text/plain": [
       "<IPython.core.display.Math object>"
      ]
     },
     "metadata": {},
     "output_type": "display_data"
    },
    {
     "data": {
      "text/latex": [
       "$\\displaystyle {Der}{}_{2\n",
       "}{}_{1\n",
       "}{}_{2\n",
       "} = 2\\,\\kappa \\frac{\\partial }{\\partial x}\\frac{\\partial^2 }{\\partial y^2}\\phi\\left(x,y,z\\right)-\\kappa \\frac{\\partial^2 }{\\partial y^2}\\frac{\\partial }{\\partial x}\\phi\\left(x,y,z\\right)-\\kappa \\frac{\\partial }{\\partial x}\\frac{\\partial^2 }{\\partial y^2}\\psi\\left(x,y,z\\right)$"
      ],
      "text/plain": [
       "<IPython.core.display.Math object>"
      ]
     },
     "metadata": {},
     "output_type": "display_data"
    },
    {
     "data": {
      "text/latex": [
       "$\\displaystyle {Der}{}_{2\n",
       "}{}_{1\n",
       "}{}_{3\n",
       "} = 2\\,\\kappa \\frac{\\partial }{\\partial x}\\frac{\\partial }{\\partial y}\\frac{\\partial }{\\partial z}\\phi\\left(x,y,z\\right)-\\kappa \\frac{\\partial }{\\partial y}\\frac{\\partial }{\\partial x}\\frac{\\partial }{\\partial z}\\phi\\left(x,y,z\\right)-\\kappa \\frac{\\partial }{\\partial x}\\frac{\\partial }{\\partial y}\\frac{\\partial }{\\partial z}\\psi\\left(x,y,z\\right)$"
      ],
      "text/plain": [
       "<IPython.core.display.Math object>"
      ]
     },
     "metadata": {},
     "output_type": "display_data"
    },
    {
     "data": {
      "text/latex": [
       "$\\displaystyle {Der}{}_{2\n",
       "}{}_{2\n",
       "}{}_{0\n",
       "} = \\frac{4\\,\\kappa \\left(\\frac{\\mathrm{d}}{\\mathrm{d}t}\\,a\\left(t\\right)\\right)^{3}\\,\\phi\\left(x,y,z\\right)+4\\,\\kappa \\left(\\frac{\\mathrm{d}}{\\mathrm{d}t}\\,a\\left(t\\right)\\right)^{3}\\,\\psi\\left(x,y,z\\right)-8\\,\\kappa \\frac{\\mathrm{d}}{\\mathrm{d}t}\\,a\\left(t\\right)\\cdot \\frac{\\mathrm{d}^{2}}{\\mathrm{d}t^{2}}\\,a\\left(t\\right) a\\left(t\\right) \\phi\\left(x,y,z\\right)-8\\,\\kappa \\frac{\\mathrm{d}}{\\mathrm{d}t}\\,a\\left(t\\right)\\cdot \\frac{\\mathrm{d}^{2}}{\\mathrm{d}t^{2}}\\,a\\left(t\\right) a\\left(t\\right) \\psi\\left(x,y,z\\right)+4\\,\\kappa \\frac{\\mathrm{d}^{3}}{\\mathrm{d}t^{3}}\\,a\\left(t\\right) a\\left(t\\right)^{2}\\,\\phi\\left(x,y,z\\right)+4\\,\\kappa \\frac{\\mathrm{d}^{3}}{\\mathrm{d}t^{3}}\\,a\\left(t\\right) a\\left(t\\right)^{2}\\,\\psi\\left(x,y,z\\right)-2 \\left(\\frac{\\mathrm{d}}{\\mathrm{d}t}\\,a\\left(t\\right)\\right)^{3}+4\\,\\frac{\\mathrm{d}}{\\mathrm{d}t}\\,a\\left(t\\right)\\cdot \\frac{\\mathrm{d}^{2}}{\\mathrm{d}t^{2}}\\,a\\left(t\\right) a\\left(t\\right)-2\\,\\frac{\\mathrm{d}^{3}}{\\mathrm{d}t^{3}}\\,a\\left(t\\right) a\\left(t\\right)^{2}}{a\\left(t\\right)^{3}}$"
      ],
      "text/plain": [
       "<IPython.core.display.Math object>"
      ]
     },
     "metadata": {},
     "output_type": "display_data"
    },
    {
     "data": {
      "text/latex": [
       "$\\displaystyle {Der}{}_{2\n",
       "}{}_{2\n",
       "}{}_{1\n",
       "} = \\frac{-2\\,\\kappa \\left(\\frac{\\mathrm{d}}{\\mathrm{d}t}\\,a\\left(t\\right)\\right)^{2}\\,\\frac{\\partial }{\\partial x}\\phi\\left(x,y,z\\right)-2\\,\\kappa \\left(\\frac{\\mathrm{d}}{\\mathrm{d}t}\\,a\\left(t\\right)\\right)^{2}\\,\\frac{\\partial }{\\partial x}\\psi\\left(x,y,z\\right)+4\\,\\kappa \\frac{\\mathrm{d}^{2}}{\\mathrm{d}t^{2}}\\,a\\left(t\\right) \\frac{\\partial }{\\partial x}\\phi\\left(x,y,z\\right) a\\left(t\\right)+4\\,\\kappa \\frac{\\mathrm{d}^{2}}{\\mathrm{d}t^{2}}\\,a\\left(t\\right) \\frac{\\partial }{\\partial x}\\psi\\left(x,y,z\\right) a\\left(t\\right)-\\kappa \\frac{\\partial^3 }{\\partial x^3}\\phi\\left(x,y,z\\right) a\\left(t\\right)^{2}-\\kappa \\frac{\\partial^2 }{\\partial z^2}\\frac{\\partial }{\\partial x}\\phi\\left(x,y,z\\right) a\\left(t\\right)^{2}+\\kappa \\frac{\\partial^3 }{\\partial x^3}\\psi\\left(x,y,z\\right) a\\left(t\\right)^{2}+\\kappa \\frac{\\partial^2 }{\\partial z^2}\\frac{\\partial }{\\partial x}\\psi\\left(x,y,z\\right) a\\left(t\\right)^{2}}{a\\left(t\\right)^{2}}$"
      ],
      "text/plain": [
       "<IPython.core.display.Math object>"
      ]
     },
     "metadata": {},
     "output_type": "display_data"
    },
    {
     "data": {
      "text/latex": [
       "$\\displaystyle {Der}{}_{2\n",
       "}{}_{2\n",
       "}{}_{2\n",
       "} = \\frac{-2\\,\\kappa \\left(\\frac{\\mathrm{d}}{\\mathrm{d}t}\\,a\\left(t\\right)\\right)^{2}\\,\\frac{\\partial }{\\partial y}\\phi\\left(x,y,z\\right)-2\\,\\kappa \\left(\\frac{\\mathrm{d}}{\\mathrm{d}t}\\,a\\left(t\\right)\\right)^{2}\\,\\frac{\\partial }{\\partial y}\\psi\\left(x,y,z\\right)+4\\,\\kappa \\frac{\\mathrm{d}^{2}}{\\mathrm{d}t^{2}}\\,a\\left(t\\right) \\frac{\\partial }{\\partial y}\\phi\\left(x,y,z\\right) a\\left(t\\right)+4\\,\\kappa \\frac{\\mathrm{d}^{2}}{\\mathrm{d}t^{2}}\\,a\\left(t\\right) \\frac{\\partial }{\\partial y}\\psi\\left(x,y,z\\right) a\\left(t\\right)-\\kappa \\frac{\\partial^2 }{\\partial x^2}\\frac{\\partial }{\\partial y}\\phi\\left(x,y,z\\right) a\\left(t\\right)^{2}-\\kappa \\frac{\\partial^2 }{\\partial z^2}\\frac{\\partial }{\\partial y}\\phi\\left(x,y,z\\right) a\\left(t\\right)^{2}+\\kappa \\frac{\\partial^2 }{\\partial x^2}\\frac{\\partial }{\\partial y}\\psi\\left(x,y,z\\right) a\\left(t\\right)^{2}+\\kappa \\frac{\\partial^2 }{\\partial z^2}\\frac{\\partial }{\\partial y}\\psi\\left(x,y,z\\right) a\\left(t\\right)^{2}}{a\\left(t\\right)^{2}}$"
      ],
      "text/plain": [
       "<IPython.core.display.Math object>"
      ]
     },
     "metadata": {},
     "output_type": "display_data"
    },
    {
     "data": {
      "text/latex": [
       "$\\displaystyle {Der}{}_{2\n",
       "}{}_{2\n",
       "}{}_{3\n",
       "} = \\frac{-2\\,\\kappa \\left(\\frac{\\mathrm{d}}{\\mathrm{d}t}\\,a\\left(t\\right)\\right)^{2}\\,\\frac{\\partial }{\\partial z}\\phi\\left(x,y,z\\right)-2\\,\\kappa \\left(\\frac{\\mathrm{d}}{\\mathrm{d}t}\\,a\\left(t\\right)\\right)^{2}\\,\\frac{\\partial }{\\partial z}\\psi\\left(x,y,z\\right)+4\\,\\kappa \\frac{\\mathrm{d}^{2}}{\\mathrm{d}t^{2}}\\,a\\left(t\\right) \\frac{\\partial }{\\partial z}\\phi\\left(x,y,z\\right) a\\left(t\\right)+4\\,\\kappa \\frac{\\mathrm{d}^{2}}{\\mathrm{d}t^{2}}\\,a\\left(t\\right) \\frac{\\partial }{\\partial z}\\psi\\left(x,y,z\\right) a\\left(t\\right)-\\kappa \\frac{\\partial^2 }{\\partial x^2}\\frac{\\partial }{\\partial z}\\phi\\left(x,y,z\\right) a\\left(t\\right)^{2}-\\kappa \\frac{\\partial^3 }{\\partial z^3}\\phi\\left(x,y,z\\right) a\\left(t\\right)^{2}+\\kappa \\frac{\\partial^2 }{\\partial x^2}\\frac{\\partial }{\\partial z}\\psi\\left(x,y,z\\right) a\\left(t\\right)^{2}+\\kappa \\frac{\\partial^3 }{\\partial z^3}\\psi\\left(x,y,z\\right) a\\left(t\\right)^{2}}{a\\left(t\\right)^{2}}$"
      ],
      "text/plain": [
       "<IPython.core.display.Math object>"
      ]
     },
     "metadata": {},
     "output_type": "display_data"
    },
    {
     "data": {
      "text/latex": [
       "$\\displaystyle {Der}{}_{2\n",
       "}{}_{3\n",
       "}{}_{1\n",
       "} = 2\\,\\kappa \\frac{\\partial }{\\partial y}\\frac{\\partial }{\\partial z}\\frac{\\partial }{\\partial x}\\phi\\left(x,y,z\\right)-\\kappa \\frac{\\partial }{\\partial z}\\frac{\\partial }{\\partial y}\\frac{\\partial }{\\partial x}\\phi\\left(x,y,z\\right)-\\kappa \\frac{\\partial }{\\partial y}\\frac{\\partial }{\\partial z}\\frac{\\partial }{\\partial x}\\psi\\left(x,y,z\\right)$"
      ],
      "text/plain": [
       "<IPython.core.display.Math object>"
      ]
     },
     "metadata": {},
     "output_type": "display_data"
    },
    {
     "data": {
      "text/latex": [
       "$\\displaystyle {Der}{}_{2\n",
       "}{}_{3\n",
       "}{}_{2\n",
       "} = 2\\,\\kappa \\frac{\\partial^2 }{\\partial y^2}\\frac{\\partial }{\\partial z}\\phi\\left(x,y,z\\right)-\\kappa \\frac{\\partial }{\\partial z}\\frac{\\partial^2 }{\\partial y^2}\\phi\\left(x,y,z\\right)-\\kappa \\frac{\\partial^2 }{\\partial y^2}\\frac{\\partial }{\\partial z}\\psi\\left(x,y,z\\right)$"
      ],
      "text/plain": [
       "<IPython.core.display.Math object>"
      ]
     },
     "metadata": {},
     "output_type": "display_data"
    },
    {
     "data": {
      "text/latex": [
       "$\\displaystyle {Der}{}_{2\n",
       "}{}_{3\n",
       "}{}_{3\n",
       "} = 2\\,\\kappa \\frac{\\partial }{\\partial y}\\frac{\\partial^2 }{\\partial z^2}\\phi\\left(x,y,z\\right)-\\kappa \\frac{\\partial^2 }{\\partial z^2}\\frac{\\partial }{\\partial y}\\phi\\left(x,y,z\\right)-\\kappa \\frac{\\partial }{\\partial y}\\frac{\\partial^2 }{\\partial z^2}\\psi\\left(x,y,z\\right)$"
      ],
      "text/plain": [
       "<IPython.core.display.Math object>"
      ]
     },
     "metadata": {},
     "output_type": "display_data"
    },
    {
     "data": {
      "text/latex": [
       "$\\displaystyle {Der}{}_{3\n",
       "}{}_{0\n",
       "}{}_{0\n",
       "} = \\frac{-2\\,\\kappa \\left(\\frac{\\mathrm{d}}{\\mathrm{d}t}\\,a\\left(t\\right)\\right)^{2}\\,\\frac{\\partial }{\\partial z}\\psi\\left(x,y,z\\right)+2\\,\\kappa \\frac{\\mathrm{d}^{2}}{\\mathrm{d}t^{2}}\\,a\\left(t\\right) \\frac{\\partial }{\\partial z}\\psi\\left(x,y,z\\right) a\\left(t\\right)}{a\\left(t\\right)^{2}}$"
      ],
      "text/plain": [
       "<IPython.core.display.Math object>"
      ]
     },
     "metadata": {},
     "output_type": "display_data"
    },
    {
     "data": {
      "text/latex": [
       "$\\displaystyle {Der}{}_{3\n",
       "}{}_{0\n",
       "}{}_{1\n",
       "} = \\frac{2\\,\\kappa \\frac{\\mathrm{d}}{\\mathrm{d}t}\\,a\\left(t\\right) \\frac{\\partial }{\\partial z}\\frac{\\partial }{\\partial x}\\psi\\left(x,y,z\\right)}{a\\left(t\\right)}$"
      ],
      "text/plain": [
       "<IPython.core.display.Math object>"
      ]
     },
     "metadata": {},
     "output_type": "display_data"
    },
    {
     "data": {
      "text/latex": [
       "$\\displaystyle {Der}{}_{3\n",
       "}{}_{0\n",
       "}{}_{2\n",
       "} = \\frac{2\\,\\kappa \\frac{\\mathrm{d}}{\\mathrm{d}t}\\,a\\left(t\\right) \\frac{\\partial }{\\partial z}\\frac{\\partial }{\\partial y}\\psi\\left(x,y,z\\right)}{a\\left(t\\right)}$"
      ],
      "text/plain": [
       "<IPython.core.display.Math object>"
      ]
     },
     "metadata": {},
     "output_type": "display_data"
    },
    {
     "data": {
      "text/latex": [
       "$\\displaystyle {Der}{}_{3\n",
       "}{}_{0\n",
       "}{}_{3\n",
       "} = \\frac{2\\,\\kappa \\frac{\\mathrm{d}}{\\mathrm{d}t}\\,a\\left(t\\right) \\frac{\\partial^2 }{\\partial z^2}\\psi\\left(x,y,z\\right)}{a\\left(t\\right)}$"
      ],
      "text/plain": [
       "<IPython.core.display.Math object>"
      ]
     },
     "metadata": {},
     "output_type": "display_data"
    },
    {
     "data": {
      "text/latex": [
       "$\\displaystyle {Der}{}_{3\n",
       "}{}_{1\n",
       "}{}_{1\n",
       "} = 2\\,\\kappa \\frac{\\partial^2 }{\\partial x^2}\\frac{\\partial }{\\partial z}\\phi\\left(x,y,z\\right)-\\kappa \\frac{\\partial }{\\partial z}\\frac{\\partial^2 }{\\partial x^2}\\phi\\left(x,y,z\\right)-\\kappa \\frac{\\partial^2 }{\\partial x^2}\\frac{\\partial }{\\partial z}\\psi\\left(x,y,z\\right)$"
      ],
      "text/plain": [
       "<IPython.core.display.Math object>"
      ]
     },
     "metadata": {},
     "output_type": "display_data"
    },
    {
     "data": {
      "text/latex": [
       "$\\displaystyle {Der}{}_{3\n",
       "}{}_{1\n",
       "}{}_{2\n",
       "} = 2\\,\\kappa \\frac{\\partial }{\\partial x}\\frac{\\partial }{\\partial z}\\frac{\\partial }{\\partial y}\\phi\\left(x,y,z\\right)-\\kappa \\frac{\\partial }{\\partial z}\\frac{\\partial }{\\partial x}\\frac{\\partial }{\\partial y}\\phi\\left(x,y,z\\right)-\\kappa \\frac{\\partial }{\\partial x}\\frac{\\partial }{\\partial z}\\frac{\\partial }{\\partial y}\\psi\\left(x,y,z\\right)$"
      ],
      "text/plain": [
       "<IPython.core.display.Math object>"
      ]
     },
     "metadata": {},
     "output_type": "display_data"
    },
    {
     "data": {
      "text/latex": [
       "$\\displaystyle {Der}{}_{3\n",
       "}{}_{1\n",
       "}{}_{3\n",
       "} = 2\\,\\kappa \\frac{\\partial }{\\partial x}\\frac{\\partial^2 }{\\partial z^2}\\phi\\left(x,y,z\\right)-\\kappa \\frac{\\partial^2 }{\\partial z^2}\\frac{\\partial }{\\partial x}\\phi\\left(x,y,z\\right)-\\kappa \\frac{\\partial }{\\partial x}\\frac{\\partial^2 }{\\partial z^2}\\psi\\left(x,y,z\\right)$"
      ],
      "text/plain": [
       "<IPython.core.display.Math object>"
      ]
     },
     "metadata": {},
     "output_type": "display_data"
    },
    {
     "data": {
      "text/latex": [
       "$\\displaystyle {Der}{}_{3\n",
       "}{}_{2\n",
       "}{}_{1\n",
       "} = 2\\,\\kappa \\frac{\\partial }{\\partial y}\\frac{\\partial }{\\partial z}\\frac{\\partial }{\\partial x}\\phi\\left(x,y,z\\right)-\\kappa \\frac{\\partial }{\\partial z}\\frac{\\partial }{\\partial y}\\frac{\\partial }{\\partial x}\\phi\\left(x,y,z\\right)-\\kappa \\frac{\\partial }{\\partial y}\\frac{\\partial }{\\partial z}\\frac{\\partial }{\\partial x}\\psi\\left(x,y,z\\right)$"
      ],
      "text/plain": [
       "<IPython.core.display.Math object>"
      ]
     },
     "metadata": {},
     "output_type": "display_data"
    },
    {
     "data": {
      "text/latex": [
       "$\\displaystyle {Der}{}_{3\n",
       "}{}_{2\n",
       "}{}_{2\n",
       "} = 2\\,\\kappa \\frac{\\partial^2 }{\\partial y^2}\\frac{\\partial }{\\partial z}\\phi\\left(x,y,z\\right)-\\kappa \\frac{\\partial }{\\partial z}\\frac{\\partial^2 }{\\partial y^2}\\phi\\left(x,y,z\\right)-\\kappa \\frac{\\partial^2 }{\\partial y^2}\\frac{\\partial }{\\partial z}\\psi\\left(x,y,z\\right)$"
      ],
      "text/plain": [
       "<IPython.core.display.Math object>"
      ]
     },
     "metadata": {},
     "output_type": "display_data"
    },
    {
     "data": {
      "text/latex": [
       "$\\displaystyle {Der}{}_{3\n",
       "}{}_{2\n",
       "}{}_{3\n",
       "} = 2\\,\\kappa \\frac{\\partial }{\\partial y}\\frac{\\partial^2 }{\\partial z^2}\\phi\\left(x,y,z\\right)-\\kappa \\frac{\\partial^2 }{\\partial z^2}\\frac{\\partial }{\\partial y}\\phi\\left(x,y,z\\right)-\\kappa \\frac{\\partial }{\\partial y}\\frac{\\partial^2 }{\\partial z^2}\\psi\\left(x,y,z\\right)$"
      ],
      "text/plain": [
       "<IPython.core.display.Math object>"
      ]
     },
     "metadata": {},
     "output_type": "display_data"
    },
    {
     "data": {
      "text/latex": [
       "$\\displaystyle {Der}{}_{3\n",
       "}{}_{3\n",
       "}{}_{0\n",
       "} = \\frac{4\\,\\kappa \\left(\\frac{\\mathrm{d}}{\\mathrm{d}t}\\,a\\left(t\\right)\\right)^{3}\\,\\phi\\left(x,y,z\\right)+4\\,\\kappa \\left(\\frac{\\mathrm{d}}{\\mathrm{d}t}\\,a\\left(t\\right)\\right)^{3}\\,\\psi\\left(x,y,z\\right)-8\\,\\kappa \\frac{\\mathrm{d}}{\\mathrm{d}t}\\,a\\left(t\\right)\\cdot \\frac{\\mathrm{d}^{2}}{\\mathrm{d}t^{2}}\\,a\\left(t\\right) a\\left(t\\right) \\phi\\left(x,y,z\\right)-8\\,\\kappa \\frac{\\mathrm{d}}{\\mathrm{d}t}\\,a\\left(t\\right)\\cdot \\frac{\\mathrm{d}^{2}}{\\mathrm{d}t^{2}}\\,a\\left(t\\right) a\\left(t\\right) \\psi\\left(x,y,z\\right)+4\\,\\kappa \\frac{\\mathrm{d}^{3}}{\\mathrm{d}t^{3}}\\,a\\left(t\\right) a\\left(t\\right)^{2}\\,\\phi\\left(x,y,z\\right)+4\\,\\kappa \\frac{\\mathrm{d}^{3}}{\\mathrm{d}t^{3}}\\,a\\left(t\\right) a\\left(t\\right)^{2}\\,\\psi\\left(x,y,z\\right)-2 \\left(\\frac{\\mathrm{d}}{\\mathrm{d}t}\\,a\\left(t\\right)\\right)^{3}+4\\,\\frac{\\mathrm{d}}{\\mathrm{d}t}\\,a\\left(t\\right)\\cdot \\frac{\\mathrm{d}^{2}}{\\mathrm{d}t^{2}}\\,a\\left(t\\right) a\\left(t\\right)-2\\,\\frac{\\mathrm{d}^{3}}{\\mathrm{d}t^{3}}\\,a\\left(t\\right) a\\left(t\\right)^{2}}{a\\left(t\\right)^{3}}$"
      ],
      "text/plain": [
       "<IPython.core.display.Math object>"
      ]
     },
     "metadata": {},
     "output_type": "display_data"
    },
    {
     "data": {
      "text/latex": [
       "$\\displaystyle {Der}{}_{3\n",
       "}{}_{3\n",
       "}{}_{1\n",
       "} = \\frac{-2\\,\\kappa \\left(\\frac{\\mathrm{d}}{\\mathrm{d}t}\\,a\\left(t\\right)\\right)^{2}\\,\\frac{\\partial }{\\partial x}\\phi\\left(x,y,z\\right)-2\\,\\kappa \\left(\\frac{\\mathrm{d}}{\\mathrm{d}t}\\,a\\left(t\\right)\\right)^{2}\\,\\frac{\\partial }{\\partial x}\\psi\\left(x,y,z\\right)+4\\,\\kappa \\frac{\\mathrm{d}^{2}}{\\mathrm{d}t^{2}}\\,a\\left(t\\right) \\frac{\\partial }{\\partial x}\\phi\\left(x,y,z\\right) a\\left(t\\right)+4\\,\\kappa \\frac{\\mathrm{d}^{2}}{\\mathrm{d}t^{2}}\\,a\\left(t\\right) \\frac{\\partial }{\\partial x}\\psi\\left(x,y,z\\right) a\\left(t\\right)-\\kappa \\frac{\\partial^3 }{\\partial x^3}\\phi\\left(x,y,z\\right) a\\left(t\\right)^{2}-\\kappa \\frac{\\partial^2 }{\\partial y^2}\\frac{\\partial }{\\partial x}\\phi\\left(x,y,z\\right) a\\left(t\\right)^{2}+\\kappa \\frac{\\partial^3 }{\\partial x^3}\\psi\\left(x,y,z\\right) a\\left(t\\right)^{2}+\\kappa \\frac{\\partial^2 }{\\partial y^2}\\frac{\\partial }{\\partial x}\\psi\\left(x,y,z\\right) a\\left(t\\right)^{2}}{a\\left(t\\right)^{2}}$"
      ],
      "text/plain": [
       "<IPython.core.display.Math object>"
      ]
     },
     "metadata": {},
     "output_type": "display_data"
    },
    {
     "data": {
      "text/latex": [
       "$\\displaystyle {Der}{}_{3\n",
       "}{}_{3\n",
       "}{}_{2\n",
       "} = \\frac{-2\\,\\kappa \\left(\\frac{\\mathrm{d}}{\\mathrm{d}t}\\,a\\left(t\\right)\\right)^{2}\\,\\frac{\\partial }{\\partial y}\\phi\\left(x,y,z\\right)-2\\,\\kappa \\left(\\frac{\\mathrm{d}}{\\mathrm{d}t}\\,a\\left(t\\right)\\right)^{2}\\,\\frac{\\partial }{\\partial y}\\psi\\left(x,y,z\\right)+4\\,\\kappa \\frac{\\mathrm{d}^{2}}{\\mathrm{d}t^{2}}\\,a\\left(t\\right) \\frac{\\partial }{\\partial y}\\phi\\left(x,y,z\\right) a\\left(t\\right)+4\\,\\kappa \\frac{\\mathrm{d}^{2}}{\\mathrm{d}t^{2}}\\,a\\left(t\\right) \\frac{\\partial }{\\partial y}\\psi\\left(x,y,z\\right) a\\left(t\\right)-\\kappa \\frac{\\partial^2 }{\\partial x^2}\\frac{\\partial }{\\partial y}\\phi\\left(x,y,z\\right) a\\left(t\\right)^{2}-\\kappa \\frac{\\partial^3 }{\\partial y^3}\\phi\\left(x,y,z\\right) a\\left(t\\right)^{2}+\\kappa \\frac{\\partial^2 }{\\partial x^2}\\frac{\\partial }{\\partial y}\\psi\\left(x,y,z\\right) a\\left(t\\right)^{2}+\\kappa \\frac{\\partial^3 }{\\partial y^3}\\psi\\left(x,y,z\\right) a\\left(t\\right)^{2}}{a\\left(t\\right)^{2}}$"
      ],
      "text/plain": [
       "<IPython.core.display.Math object>"
      ]
     },
     "metadata": {},
     "output_type": "display_data"
    },
    {
     "data": {
      "text/latex": [
       "$\\displaystyle {Der}{}_{3\n",
       "}{}_{3\n",
       "}{}_{3\n",
       "} = \\frac{-2\\,\\kappa \\left(\\frac{\\mathrm{d}}{\\mathrm{d}t}\\,a\\left(t\\right)\\right)^{2}\\,\\frac{\\partial }{\\partial z}\\phi\\left(x,y,z\\right)-2\\,\\kappa \\left(\\frac{\\mathrm{d}}{\\mathrm{d}t}\\,a\\left(t\\right)\\right)^{2}\\,\\frac{\\partial }{\\partial z}\\psi\\left(x,y,z\\right)+4\\,\\kappa \\frac{\\mathrm{d}^{2}}{\\mathrm{d}t^{2}}\\,a\\left(t\\right) \\frac{\\partial }{\\partial z}\\phi\\left(x,y,z\\right) a\\left(t\\right)+4\\,\\kappa \\frac{\\mathrm{d}^{2}}{\\mathrm{d}t^{2}}\\,a\\left(t\\right) \\frac{\\partial }{\\partial z}\\psi\\left(x,y,z\\right) a\\left(t\\right)-\\kappa \\frac{\\partial^2 }{\\partial x^2}\\frac{\\partial }{\\partial z}\\phi\\left(x,y,z\\right) a\\left(t\\right)^{2}-\\kappa \\frac{\\partial^2 }{\\partial y^2}\\frac{\\partial }{\\partial z}\\phi\\left(x,y,z\\right) a\\left(t\\right)^{2}+\\kappa \\frac{\\partial^2 }{\\partial x^2}\\frac{\\partial }{\\partial z}\\psi\\left(x,y,z\\right) a\\left(t\\right)^{2}+\\kappa \\frac{\\partial^2 }{\\partial y^2}\\frac{\\partial }{\\partial z}\\psi\\left(x,y,z\\right) a\\left(t\\right)^{2}}{a\\left(t\\right)^{2}}$"
      ],
      "text/plain": [
       "<IPython.core.display.Math object>"
      ]
     },
     "metadata": {},
     "output_type": "display_data"
    }
   ],
   "source": [
    "Der.display('_,_,_')"
   ]
  },
  {
   "cell_type": "code",
   "execution_count": 16,
   "metadata": {},
   "outputs": [
    {
     "data": {
      "text/latex": [
       "$\\displaystyle {Cov}{}_{0\n",
       "}{}_{0\n",
       "}{}_{0\n",
       "} = \\frac{\\kappa^{2}\\,a\\left(t\\right)^{3} \\operatorname{\\mathrm{order\\_size} }\\left(\\kappa\\right)-4\\,\\kappa \\frac{\\mathrm{d}}{\\mathrm{d}t}\\,a\\left(t\\right) \\frac{\\partial^2 }{\\partial x^2}\\phi\\left(x,y,z\\right) a\\left(t\\right)^{2}-4\\,\\kappa \\frac{\\mathrm{d}}{\\mathrm{d}t}\\,a\\left(t\\right) \\frac{\\partial^2 }{\\partial y^2}\\phi\\left(x,y,z\\right) a\\left(t\\right)^{2}-4\\,\\kappa \\frac{\\mathrm{d}}{\\mathrm{d}t}\\,a\\left(t\\right) \\frac{\\partial^2 }{\\partial z^2}\\phi\\left(x,y,z\\right) a\\left(t\\right)^{2}-12 \\left(\\frac{\\mathrm{d}}{\\mathrm{d}t}\\,a\\left(t\\right)\\right)^{3}+6\\,\\frac{\\mathrm{d}}{\\mathrm{d}t}\\,a\\left(t\\right)\\cdot \\frac{\\mathrm{d}^{2}}{\\mathrm{d}t^{2}}\\,a\\left(t\\right) a\\left(t\\right)}{a\\left(t\\right)^{3}}$"
      ],
      "text/plain": [
       "<IPython.core.display.Math object>"
      ]
     },
     "metadata": {},
     "output_type": "display_data"
    },
    {
     "data": {
      "text/latex": [
       "$\\displaystyle {Cov}{}_{0\n",
       "}{}_{0\n",
       "}{}_{1\n",
       "} = \\frac{\\kappa^{2}\\,a\\left(t\\right)^{2} \\operatorname{\\mathrm{order\\_size} }\\left(\\kappa\\right)-10\\,\\kappa \\left(\\frac{\\mathrm{d}}{\\mathrm{d}t}\\,a\\left(t\\right)\\right)^{2}\\,\\frac{\\partial }{\\partial x}\\psi\\left(x,y,z\\right)+2\\,\\kappa \\frac{\\partial^3 }{\\partial x^3}\\phi\\left(x,y,z\\right) a\\left(t\\right)^{2}+2\\,\\kappa \\frac{\\partial^2 }{\\partial y^2}\\frac{\\partial }{\\partial x}\\phi\\left(x,y,z\\right) a\\left(t\\right)^{2}+2\\,\\kappa \\frac{\\partial^2 }{\\partial z^2}\\frac{\\partial }{\\partial x}\\phi\\left(x,y,z\\right) a\\left(t\\right)^{2}}{a\\left(t\\right)^{2}}$"
      ],
      "text/plain": [
       "<IPython.core.display.Math object>"
      ]
     },
     "metadata": {},
     "output_type": "display_data"
    },
    {
     "data": {
      "text/latex": [
       "$\\displaystyle {Cov}{}_{0\n",
       "}{}_{0\n",
       "}{}_{2\n",
       "} = \\frac{\\kappa^{2}\\,a\\left(t\\right)^{2} \\operatorname{\\mathrm{order\\_size} }\\left(\\kappa\\right)-10\\,\\kappa \\left(\\frac{\\mathrm{d}}{\\mathrm{d}t}\\,a\\left(t\\right)\\right)^{2}\\,\\frac{\\partial }{\\partial y}\\psi\\left(x,y,z\\right)+2\\,\\kappa \\frac{\\partial^2 }{\\partial x^2}\\frac{\\partial }{\\partial y}\\phi\\left(x,y,z\\right) a\\left(t\\right)^{2}+2\\,\\kappa \\frac{\\partial^3 }{\\partial y^3}\\phi\\left(x,y,z\\right) a\\left(t\\right)^{2}+2\\,\\kappa \\frac{\\partial^2 }{\\partial z^2}\\frac{\\partial }{\\partial y}\\phi\\left(x,y,z\\right) a\\left(t\\right)^{2}}{a\\left(t\\right)^{2}}$"
      ],
      "text/plain": [
       "<IPython.core.display.Math object>"
      ]
     },
     "metadata": {},
     "output_type": "display_data"
    },
    {
     "data": {
      "text/latex": [
       "$\\displaystyle {Cov}{}_{0\n",
       "}{}_{0\n",
       "}{}_{3\n",
       "} = \\frac{\\kappa^{2}\\,a\\left(t\\right)^{2} \\operatorname{\\mathrm{order\\_size} }\\left(\\kappa\\right)-10\\,\\kappa \\left(\\frac{\\mathrm{d}}{\\mathrm{d}t}\\,a\\left(t\\right)\\right)^{2}\\,\\frac{\\partial }{\\partial z}\\psi\\left(x,y,z\\right)+2\\,\\kappa \\frac{\\partial^2 }{\\partial x^2}\\frac{\\partial }{\\partial z}\\phi\\left(x,y,z\\right) a\\left(t\\right)^{2}+2\\,\\kappa \\frac{\\partial^2 }{\\partial y^2}\\frac{\\partial }{\\partial z}\\phi\\left(x,y,z\\right) a\\left(t\\right)^{2}+2\\,\\kappa \\frac{\\partial^3 }{\\partial z^3}\\phi\\left(x,y,z\\right) a\\left(t\\right)^{2}}{a\\left(t\\right)^{2}}$"
      ],
      "text/plain": [
       "<IPython.core.display.Math object>"
      ]
     },
     "metadata": {},
     "output_type": "display_data"
    },
    {
     "data": {
      "text/latex": [
       "$\\displaystyle {Cov}{}_{0\n",
       "}{}_{1\n",
       "}{}_{0\n",
       "} = \\frac{\\kappa^{2}\\,a\\left(t\\right)^{2} \\operatorname{\\mathrm{order\\_size} }\\left(\\kappa\\right)-10\\,\\kappa \\left(\\frac{\\mathrm{d}}{\\mathrm{d}t}\\,a\\left(t\\right)\\right)^{2}\\,\\frac{\\partial }{\\partial x}\\psi\\left(x,y,z\\right)+4\\,\\kappa \\frac{\\mathrm{d}^{2}}{\\mathrm{d}t^{2}}\\,a\\left(t\\right) \\frac{\\partial }{\\partial x}\\psi\\left(x,y,z\\right) a\\left(t\\right)}{a\\left(t\\right)^{2}}$"
      ],
      "text/plain": [
       "<IPython.core.display.Math object>"
      ]
     },
     "metadata": {},
     "output_type": "display_data"
    },
    {
     "data": {
      "text/latex": [
       "$\\displaystyle {Cov}{}_{0\n",
       "}{}_{1\n",
       "}{}_{1\n",
       "} = \\frac{\\kappa^{2}\\,a\\left(t\\right)^{3} \\operatorname{\\mathrm{order\\_size} }\\left(\\kappa\\right)+8\\,\\kappa \\left(\\frac{\\mathrm{d}}{\\mathrm{d}t}\\,a\\left(t\\right)\\right)^{3}\\,\\phi\\left(x,y,z\\right)+8\\,\\kappa \\left(\\frac{\\mathrm{d}}{\\mathrm{d}t}\\,a\\left(t\\right)\\right)^{3}\\,\\psi\\left(x,y,z\\right)-4\\,\\kappa \\frac{\\mathrm{d}}{\\mathrm{d}t}\\,a\\left(t\\right)\\cdot \\frac{\\mathrm{d}^{2}}{\\mathrm{d}t^{2}}\\,a\\left(t\\right) a\\left(t\\right) \\phi\\left(x,y,z\\right)-4\\,\\kappa \\frac{\\mathrm{d}}{\\mathrm{d}t}\\,a\\left(t\\right)\\cdot \\frac{\\mathrm{d}^{2}}{\\mathrm{d}t^{2}}\\,a\\left(t\\right) a\\left(t\\right) \\psi\\left(x,y,z\\right)-2\\,\\kappa \\frac{\\mathrm{d}}{\\mathrm{d}t}\\,a\\left(t\\right) \\frac{\\partial^2 }{\\partial x^2}\\phi\\left(x,y,z\\right) a\\left(t\\right)^{2}-\\kappa \\frac{\\mathrm{d}}{\\mathrm{d}t}\\,a\\left(t\\right) \\frac{\\partial^2 }{\\partial y^2}\\phi\\left(x,y,z\\right) a\\left(t\\right)^{2}-\\kappa \\frac{\\mathrm{d}}{\\mathrm{d}t}\\,a\\left(t\\right) \\frac{\\partial^2 }{\\partial z^2}\\phi\\left(x,y,z\\right) a\\left(t\\right)^{2}+2\\,\\kappa \\frac{\\mathrm{d}}{\\mathrm{d}t}\\,a\\left(t\\right) \\frac{\\partial^2 }{\\partial x^2}\\psi\\left(x,y,z\\right) a\\left(t\\right)^{2}-\\kappa \\frac{\\mathrm{d}}{\\mathrm{d}t}\\,a\\left(t\\right) \\frac{\\partial^2 }{\\partial y^2}\\psi\\left(x,y,z\\right) a\\left(t\\right)^{2}-\\kappa \\frac{\\mathrm{d}}{\\mathrm{d}t}\\,a\\left(t\\right) \\frac{\\partial^2 }{\\partial z^2}\\psi\\left(x,y,z\\right) a\\left(t\\right)^{2}-4 \\left(\\frac{\\mathrm{d}}{\\mathrm{d}t}\\,a\\left(t\\right)\\right)^{3}+2\\,\\frac{\\mathrm{d}}{\\mathrm{d}t}\\,a\\left(t\\right)\\cdot \\frac{\\mathrm{d}^{2}}{\\mathrm{d}t^{2}}\\,a\\left(t\\right) a\\left(t\\right)}{a\\left(t\\right)^{3}}$"
      ],
      "text/plain": [
       "<IPython.core.display.Math object>"
      ]
     },
     "metadata": {},
     "output_type": "display_data"
    },
    {
     "data": {
      "text/latex": [
       "$\\displaystyle {Cov}{}_{0\n",
       "}{}_{1\n",
       "}{}_{2\n",
       "} = \\frac{\\kappa^{2}\\,a\\left(t\\right) \\operatorname{\\mathrm{order\\_size} }\\left(\\kappa\\right)-2\\,\\kappa \\frac{\\mathrm{d}}{\\mathrm{d}t}\\,a\\left(t\\right) \\frac{\\partial }{\\partial x}\\frac{\\partial }{\\partial y}\\phi\\left(x,y,z\\right)+\\kappa \\frac{\\mathrm{d}}{\\mathrm{d}t}\\,a\\left(t\\right) \\frac{\\partial }{\\partial y}\\frac{\\partial }{\\partial x}\\phi\\left(x,y,z\\right)+3\\,\\kappa \\frac{\\mathrm{d}}{\\mathrm{d}t}\\,a\\left(t\\right) \\frac{\\partial }{\\partial x}\\frac{\\partial }{\\partial y}\\psi\\left(x,y,z\\right)}{a\\left(t\\right)}$"
      ],
      "text/plain": [
       "<IPython.core.display.Math object>"
      ]
     },
     "metadata": {},
     "output_type": "display_data"
    },
    {
     "data": {
      "text/latex": [
       "$\\displaystyle {Cov}{}_{0\n",
       "}{}_{1\n",
       "}{}_{3\n",
       "} = \\frac{\\kappa^{2}\\,a\\left(t\\right) \\operatorname{\\mathrm{order\\_size} }\\left(\\kappa\\right)-2\\,\\kappa \\frac{\\mathrm{d}}{\\mathrm{d}t}\\,a\\left(t\\right) \\frac{\\partial }{\\partial x}\\frac{\\partial }{\\partial z}\\phi\\left(x,y,z\\right)+\\kappa \\frac{\\mathrm{d}}{\\mathrm{d}t}\\,a\\left(t\\right) \\frac{\\partial }{\\partial z}\\frac{\\partial }{\\partial x}\\phi\\left(x,y,z\\right)+3\\,\\kappa \\frac{\\mathrm{d}}{\\mathrm{d}t}\\,a\\left(t\\right) \\frac{\\partial }{\\partial x}\\frac{\\partial }{\\partial z}\\psi\\left(x,y,z\\right)}{a\\left(t\\right)}$"
      ],
      "text/plain": [
       "<IPython.core.display.Math object>"
      ]
     },
     "metadata": {},
     "output_type": "display_data"
    },
    {
     "data": {
      "text/latex": [
       "$\\displaystyle {Cov}{}_{0\n",
       "}{}_{2\n",
       "}{}_{0\n",
       "} = \\frac{\\kappa^{2}\\,a\\left(t\\right)^{2} \\operatorname{\\mathrm{order\\_size} }\\left(\\kappa\\right)-10\\,\\kappa \\left(\\frac{\\mathrm{d}}{\\mathrm{d}t}\\,a\\left(t\\right)\\right)^{2}\\,\\frac{\\partial }{\\partial y}\\psi\\left(x,y,z\\right)+4\\,\\kappa \\frac{\\mathrm{d}^{2}}{\\mathrm{d}t^{2}}\\,a\\left(t\\right) \\frac{\\partial }{\\partial y}\\psi\\left(x,y,z\\right) a\\left(t\\right)}{a\\left(t\\right)^{2}}$"
      ],
      "text/plain": [
       "<IPython.core.display.Math object>"
      ]
     },
     "metadata": {},
     "output_type": "display_data"
    },
    {
     "data": {
      "text/latex": [
       "$\\displaystyle {Cov}{}_{0\n",
       "}{}_{2\n",
       "}{}_{1\n",
       "} = \\frac{\\kappa^{2}\\,a\\left(t\\right) \\operatorname{\\mathrm{order\\_size} }\\left(\\kappa\\right)-2\\,\\kappa \\frac{\\mathrm{d}}{\\mathrm{d}t}\\,a\\left(t\\right) \\frac{\\partial }{\\partial x}\\frac{\\partial }{\\partial y}\\phi\\left(x,y,z\\right)+\\kappa \\frac{\\mathrm{d}}{\\mathrm{d}t}\\,a\\left(t\\right) \\frac{\\partial }{\\partial y}\\frac{\\partial }{\\partial x}\\phi\\left(x,y,z\\right)+\\kappa \\frac{\\mathrm{d}}{\\mathrm{d}t}\\,a\\left(t\\right) \\frac{\\partial }{\\partial x}\\frac{\\partial }{\\partial y}\\psi\\left(x,y,z\\right)+2\\,\\kappa \\frac{\\mathrm{d}}{\\mathrm{d}t}\\,a\\left(t\\right) \\frac{\\partial }{\\partial y}\\frac{\\partial }{\\partial x}\\psi\\left(x,y,z\\right)}{a\\left(t\\right)}$"
      ],
      "text/plain": [
       "<IPython.core.display.Math object>"
      ]
     },
     "metadata": {},
     "output_type": "display_data"
    },
    {
     "data": {
      "text/latex": [
       "$\\displaystyle {Cov}{}_{0\n",
       "}{}_{2\n",
       "}{}_{2\n",
       "} = \\frac{\\kappa^{2}\\,a\\left(t\\right)^{3} \\operatorname{\\mathrm{order\\_size} }\\left(\\kappa\\right)+8\\,\\kappa \\left(\\frac{\\mathrm{d}}{\\mathrm{d}t}\\,a\\left(t\\right)\\right)^{3}\\,\\phi\\left(x,y,z\\right)+8\\,\\kappa \\left(\\frac{\\mathrm{d}}{\\mathrm{d}t}\\,a\\left(t\\right)\\right)^{3}\\,\\psi\\left(x,y,z\\right)-4\\,\\kappa \\frac{\\mathrm{d}}{\\mathrm{d}t}\\,a\\left(t\\right)\\cdot \\frac{\\mathrm{d}^{2}}{\\mathrm{d}t^{2}}\\,a\\left(t\\right) a\\left(t\\right) \\phi\\left(x,y,z\\right)-4\\,\\kappa \\frac{\\mathrm{d}}{\\mathrm{d}t}\\,a\\left(t\\right)\\cdot \\frac{\\mathrm{d}^{2}}{\\mathrm{d}t^{2}}\\,a\\left(t\\right) a\\left(t\\right) \\psi\\left(x,y,z\\right)-\\kappa \\frac{\\mathrm{d}}{\\mathrm{d}t}\\,a\\left(t\\right) \\frac{\\partial^2 }{\\partial x^2}\\phi\\left(x,y,z\\right) a\\left(t\\right)^{2}-2\\,\\kappa \\frac{\\mathrm{d}}{\\mathrm{d}t}\\,a\\left(t\\right) \\frac{\\partial^2 }{\\partial y^2}\\phi\\left(x,y,z\\right) a\\left(t\\right)^{2}-\\kappa \\frac{\\mathrm{d}}{\\mathrm{d}t}\\,a\\left(t\\right) \\frac{\\partial^2 }{\\partial z^2}\\phi\\left(x,y,z\\right) a\\left(t\\right)^{2}-\\kappa \\frac{\\mathrm{d}}{\\mathrm{d}t}\\,a\\left(t\\right) \\frac{\\partial^2 }{\\partial x^2}\\psi\\left(x,y,z\\right) a\\left(t\\right)^{2}+2\\,\\kappa \\frac{\\mathrm{d}}{\\mathrm{d}t}\\,a\\left(t\\right) \\frac{\\partial^2 }{\\partial y^2}\\psi\\left(x,y,z\\right) a\\left(t\\right)^{2}-\\kappa \\frac{\\mathrm{d}}{\\mathrm{d}t}\\,a\\left(t\\right) \\frac{\\partial^2 }{\\partial z^2}\\psi\\left(x,y,z\\right) a\\left(t\\right)^{2}-4 \\left(\\frac{\\mathrm{d}}{\\mathrm{d}t}\\,a\\left(t\\right)\\right)^{3}+2\\,\\frac{\\mathrm{d}}{\\mathrm{d}t}\\,a\\left(t\\right)\\cdot \\frac{\\mathrm{d}^{2}}{\\mathrm{d}t^{2}}\\,a\\left(t\\right) a\\left(t\\right)}{a\\left(t\\right)^{3}}$"
      ],
      "text/plain": [
       "<IPython.core.display.Math object>"
      ]
     },
     "metadata": {},
     "output_type": "display_data"
    },
    {
     "data": {
      "text/latex": [
       "$\\displaystyle {Cov}{}_{0\n",
       "}{}_{2\n",
       "}{}_{3\n",
       "} = \\frac{\\kappa^{2}\\,a\\left(t\\right) \\operatorname{\\mathrm{order\\_size} }\\left(\\kappa\\right)-2\\,\\kappa \\frac{\\mathrm{d}}{\\mathrm{d}t}\\,a\\left(t\\right) \\frac{\\partial }{\\partial y}\\frac{\\partial }{\\partial z}\\phi\\left(x,y,z\\right)+\\kappa \\frac{\\mathrm{d}}{\\mathrm{d}t}\\,a\\left(t\\right) \\frac{\\partial }{\\partial z}\\frac{\\partial }{\\partial y}\\phi\\left(x,y,z\\right)+3\\,\\kappa \\frac{\\mathrm{d}}{\\mathrm{d}t}\\,a\\left(t\\right) \\frac{\\partial }{\\partial y}\\frac{\\partial }{\\partial z}\\psi\\left(x,y,z\\right)}{a\\left(t\\right)}$"
      ],
      "text/plain": [
       "<IPython.core.display.Math object>"
      ]
     },
     "metadata": {},
     "output_type": "display_data"
    },
    {
     "data": {
      "text/latex": [
       "$\\displaystyle {Cov}{}_{0\n",
       "}{}_{3\n",
       "}{}_{0\n",
       "} = \\frac{\\kappa^{2}\\,a\\left(t\\right)^{2} \\operatorname{\\mathrm{order\\_size} }\\left(\\kappa\\right)-10\\,\\kappa \\left(\\frac{\\mathrm{d}}{\\mathrm{d}t}\\,a\\left(t\\right)\\right)^{2}\\,\\frac{\\partial }{\\partial z}\\psi\\left(x,y,z\\right)+4\\,\\kappa \\frac{\\mathrm{d}^{2}}{\\mathrm{d}t^{2}}\\,a\\left(t\\right) \\frac{\\partial }{\\partial z}\\psi\\left(x,y,z\\right) a\\left(t\\right)}{a\\left(t\\right)^{2}}$"
      ],
      "text/plain": [
       "<IPython.core.display.Math object>"
      ]
     },
     "metadata": {},
     "output_type": "display_data"
    },
    {
     "data": {
      "text/latex": [
       "$\\displaystyle {Cov}{}_{0\n",
       "}{}_{3\n",
       "}{}_{1\n",
       "} = \\frac{\\kappa^{2}\\,a\\left(t\\right) \\operatorname{\\mathrm{order\\_size} }\\left(\\kappa\\right)-2\\,\\kappa \\frac{\\mathrm{d}}{\\mathrm{d}t}\\,a\\left(t\\right) \\frac{\\partial }{\\partial x}\\frac{\\partial }{\\partial z}\\phi\\left(x,y,z\\right)+\\kappa \\frac{\\mathrm{d}}{\\mathrm{d}t}\\,a\\left(t\\right) \\frac{\\partial }{\\partial z}\\frac{\\partial }{\\partial x}\\phi\\left(x,y,z\\right)+\\kappa \\frac{\\mathrm{d}}{\\mathrm{d}t}\\,a\\left(t\\right) \\frac{\\partial }{\\partial x}\\frac{\\partial }{\\partial z}\\psi\\left(x,y,z\\right)+2\\,\\kappa \\frac{\\mathrm{d}}{\\mathrm{d}t}\\,a\\left(t\\right) \\frac{\\partial }{\\partial z}\\frac{\\partial }{\\partial x}\\psi\\left(x,y,z\\right)}{a\\left(t\\right)}$"
      ],
      "text/plain": [
       "<IPython.core.display.Math object>"
      ]
     },
     "metadata": {},
     "output_type": "display_data"
    },
    {
     "data": {
      "text/latex": [
       "$\\displaystyle {Cov}{}_{0\n",
       "}{}_{3\n",
       "}{}_{2\n",
       "} = \\frac{\\kappa^{2}\\,a\\left(t\\right) \\operatorname{\\mathrm{order\\_size} }\\left(\\kappa\\right)-2\\,\\kappa \\frac{\\mathrm{d}}{\\mathrm{d}t}\\,a\\left(t\\right) \\frac{\\partial }{\\partial y}\\frac{\\partial }{\\partial z}\\phi\\left(x,y,z\\right)+\\kappa \\frac{\\mathrm{d}}{\\mathrm{d}t}\\,a\\left(t\\right) \\frac{\\partial }{\\partial z}\\frac{\\partial }{\\partial y}\\phi\\left(x,y,z\\right)+\\kappa \\frac{\\mathrm{d}}{\\mathrm{d}t}\\,a\\left(t\\right) \\frac{\\partial }{\\partial y}\\frac{\\partial }{\\partial z}\\psi\\left(x,y,z\\right)+2\\,\\kappa \\frac{\\mathrm{d}}{\\mathrm{d}t}\\,a\\left(t\\right) \\frac{\\partial }{\\partial z}\\frac{\\partial }{\\partial y}\\psi\\left(x,y,z\\right)}{a\\left(t\\right)}$"
      ],
      "text/plain": [
       "<IPython.core.display.Math object>"
      ]
     },
     "metadata": {},
     "output_type": "display_data"
    },
    {
     "data": {
      "text/latex": [
       "$\\displaystyle {Cov}{}_{0\n",
       "}{}_{3\n",
       "}{}_{3\n",
       "} = \\frac{\\kappa^{2}\\,a\\left(t\\right)^{3} \\operatorname{\\mathrm{order\\_size} }\\left(\\kappa\\right)+8\\,\\kappa \\left(\\frac{\\mathrm{d}}{\\mathrm{d}t}\\,a\\left(t\\right)\\right)^{3}\\,\\phi\\left(x,y,z\\right)+8\\,\\kappa \\left(\\frac{\\mathrm{d}}{\\mathrm{d}t}\\,a\\left(t\\right)\\right)^{3}\\,\\psi\\left(x,y,z\\right)-4\\,\\kappa \\frac{\\mathrm{d}}{\\mathrm{d}t}\\,a\\left(t\\right)\\cdot \\frac{\\mathrm{d}^{2}}{\\mathrm{d}t^{2}}\\,a\\left(t\\right) a\\left(t\\right) \\phi\\left(x,y,z\\right)-4\\,\\kappa \\frac{\\mathrm{d}}{\\mathrm{d}t}\\,a\\left(t\\right)\\cdot \\frac{\\mathrm{d}^{2}}{\\mathrm{d}t^{2}}\\,a\\left(t\\right) a\\left(t\\right) \\psi\\left(x,y,z\\right)-\\kappa \\frac{\\mathrm{d}}{\\mathrm{d}t}\\,a\\left(t\\right) \\frac{\\partial^2 }{\\partial x^2}\\phi\\left(x,y,z\\right) a\\left(t\\right)^{2}-\\kappa \\frac{\\mathrm{d}}{\\mathrm{d}t}\\,a\\left(t\\right) \\frac{\\partial^2 }{\\partial y^2}\\phi\\left(x,y,z\\right) a\\left(t\\right)^{2}-2\\,\\kappa \\frac{\\mathrm{d}}{\\mathrm{d}t}\\,a\\left(t\\right) \\frac{\\partial^2 }{\\partial z^2}\\phi\\left(x,y,z\\right) a\\left(t\\right)^{2}-\\kappa \\frac{\\mathrm{d}}{\\mathrm{d}t}\\,a\\left(t\\right) \\frac{\\partial^2 }{\\partial x^2}\\psi\\left(x,y,z\\right) a\\left(t\\right)^{2}-\\kappa \\frac{\\mathrm{d}}{\\mathrm{d}t}\\,a\\left(t\\right) \\frac{\\partial^2 }{\\partial y^2}\\psi\\left(x,y,z\\right) a\\left(t\\right)^{2}+2\\,\\kappa \\frac{\\mathrm{d}}{\\mathrm{d}t}\\,a\\left(t\\right) \\frac{\\partial^2 }{\\partial z^2}\\psi\\left(x,y,z\\right) a\\left(t\\right)^{2}-4 \\left(\\frac{\\mathrm{d}}{\\mathrm{d}t}\\,a\\left(t\\right)\\right)^{3}+2\\,\\frac{\\mathrm{d}}{\\mathrm{d}t}\\,a\\left(t\\right)\\cdot \\frac{\\mathrm{d}^{2}}{\\mathrm{d}t^{2}}\\,a\\left(t\\right) a\\left(t\\right)}{a\\left(t\\right)^{3}}$"
      ],
      "text/plain": [
       "<IPython.core.display.Math object>"
      ]
     },
     "metadata": {},
     "output_type": "display_data"
    },
    {
     "data": {
      "text/latex": [
       "$\\displaystyle {Cov}{}_{1\n",
       "}{}_{0\n",
       "}{}_{0\n",
       "} = \\frac{\\kappa^{2}\\,a\\left(t\\right)^{2} \\operatorname{\\mathrm{order\\_size} }\\left(\\kappa\\right)-10\\,\\kappa \\left(\\frac{\\mathrm{d}}{\\mathrm{d}t}\\,a\\left(t\\right)\\right)^{2}\\,\\frac{\\partial }{\\partial x}\\psi\\left(x,y,z\\right)+4\\,\\kappa \\frac{\\mathrm{d}^{2}}{\\mathrm{d}t^{2}}\\,a\\left(t\\right) \\frac{\\partial }{\\partial x}\\psi\\left(x,y,z\\right) a\\left(t\\right)}{a\\left(t\\right)^{2}}$"
      ],
      "text/plain": [
       "<IPython.core.display.Math object>"
      ]
     },
     "metadata": {},
     "output_type": "display_data"
    },
    {
     "data": {
      "text/latex": [
       "$\\displaystyle {Cov}{}_{1\n",
       "}{}_{0\n",
       "}{}_{1\n",
       "} = \\frac{\\kappa^{2}\\,a\\left(t\\right)^{3} \\operatorname{\\mathrm{order\\_size} }\\left(\\kappa\\right)+8\\,\\kappa \\left(\\frac{\\mathrm{d}}{\\mathrm{d}t}\\,a\\left(t\\right)\\right)^{3}\\,\\phi\\left(x,y,z\\right)+8\\,\\kappa \\left(\\frac{\\mathrm{d}}{\\mathrm{d}t}\\,a\\left(t\\right)\\right)^{3}\\,\\psi\\left(x,y,z\\right)-4\\,\\kappa \\frac{\\mathrm{d}}{\\mathrm{d}t}\\,a\\left(t\\right)\\cdot \\frac{\\mathrm{d}^{2}}{\\mathrm{d}t^{2}}\\,a\\left(t\\right) a\\left(t\\right) \\phi\\left(x,y,z\\right)-4\\,\\kappa \\frac{\\mathrm{d}}{\\mathrm{d}t}\\,a\\left(t\\right)\\cdot \\frac{\\mathrm{d}^{2}}{\\mathrm{d}t^{2}}\\,a\\left(t\\right) a\\left(t\\right) \\psi\\left(x,y,z\\right)-2\\,\\kappa \\frac{\\mathrm{d}}{\\mathrm{d}t}\\,a\\left(t\\right) \\frac{\\partial^2 }{\\partial x^2}\\phi\\left(x,y,z\\right) a\\left(t\\right)^{2}-\\kappa \\frac{\\mathrm{d}}{\\mathrm{d}t}\\,a\\left(t\\right) \\frac{\\partial^2 }{\\partial y^2}\\phi\\left(x,y,z\\right) a\\left(t\\right)^{2}-\\kappa \\frac{\\mathrm{d}}{\\mathrm{d}t}\\,a\\left(t\\right) \\frac{\\partial^2 }{\\partial z^2}\\phi\\left(x,y,z\\right) a\\left(t\\right)^{2}+2\\,\\kappa \\frac{\\mathrm{d}}{\\mathrm{d}t}\\,a\\left(t\\right) \\frac{\\partial^2 }{\\partial x^2}\\psi\\left(x,y,z\\right) a\\left(t\\right)^{2}-\\kappa \\frac{\\mathrm{d}}{\\mathrm{d}t}\\,a\\left(t\\right) \\frac{\\partial^2 }{\\partial y^2}\\psi\\left(x,y,z\\right) a\\left(t\\right)^{2}-\\kappa \\frac{\\mathrm{d}}{\\mathrm{d}t}\\,a\\left(t\\right) \\frac{\\partial^2 }{\\partial z^2}\\psi\\left(x,y,z\\right) a\\left(t\\right)^{2}-4 \\left(\\frac{\\mathrm{d}}{\\mathrm{d}t}\\,a\\left(t\\right)\\right)^{3}+2\\,\\frac{\\mathrm{d}}{\\mathrm{d}t}\\,a\\left(t\\right)\\cdot \\frac{\\mathrm{d}^{2}}{\\mathrm{d}t^{2}}\\,a\\left(t\\right) a\\left(t\\right)}{a\\left(t\\right)^{3}}$"
      ],
      "text/plain": [
       "<IPython.core.display.Math object>"
      ]
     },
     "metadata": {},
     "output_type": "display_data"
    },
    {
     "data": {
      "text/latex": [
       "$\\displaystyle {Cov}{}_{1\n",
       "}{}_{0\n",
       "}{}_{2\n",
       "} = \\frac{\\kappa^{2}\\,a\\left(t\\right) \\operatorname{\\mathrm{order\\_size} }\\left(\\kappa\\right)-2\\,\\kappa \\frac{\\mathrm{d}}{\\mathrm{d}t}\\,a\\left(t\\right) \\frac{\\partial }{\\partial x}\\frac{\\partial }{\\partial y}\\phi\\left(x,y,z\\right)+\\kappa \\frac{\\mathrm{d}}{\\mathrm{d}t}\\,a\\left(t\\right) \\frac{\\partial }{\\partial y}\\frac{\\partial }{\\partial x}\\phi\\left(x,y,z\\right)+3\\,\\kappa \\frac{\\mathrm{d}}{\\mathrm{d}t}\\,a\\left(t\\right) \\frac{\\partial }{\\partial x}\\frac{\\partial }{\\partial y}\\psi\\left(x,y,z\\right)}{a\\left(t\\right)}$"
      ],
      "text/plain": [
       "<IPython.core.display.Math object>"
      ]
     },
     "metadata": {},
     "output_type": "display_data"
    },
    {
     "data": {
      "text/latex": [
       "$\\displaystyle {Cov}{}_{1\n",
       "}{}_{0\n",
       "}{}_{3\n",
       "} = \\frac{\\kappa^{2}\\,a\\left(t\\right) \\operatorname{\\mathrm{order\\_size} }\\left(\\kappa\\right)-2\\,\\kappa \\frac{\\mathrm{d}}{\\mathrm{d}t}\\,a\\left(t\\right) \\frac{\\partial }{\\partial x}\\frac{\\partial }{\\partial z}\\phi\\left(x,y,z\\right)+\\kappa \\frac{\\mathrm{d}}{\\mathrm{d}t}\\,a\\left(t\\right) \\frac{\\partial }{\\partial z}\\frac{\\partial }{\\partial x}\\phi\\left(x,y,z\\right)+3\\,\\kappa \\frac{\\mathrm{d}}{\\mathrm{d}t}\\,a\\left(t\\right) \\frac{\\partial }{\\partial x}\\frac{\\partial }{\\partial z}\\psi\\left(x,y,z\\right)}{a\\left(t\\right)}$"
      ],
      "text/plain": [
       "<IPython.core.display.Math object>"
      ]
     },
     "metadata": {},
     "output_type": "display_data"
    },
    {
     "data": {
      "text/latex": [
       "$\\displaystyle {Cov}{}_{1\n",
       "}{}_{1\n",
       "}{}_{0\n",
       "} = \\frac{\\kappa^{2}\\,a\\left(t\\right)^{3} \\operatorname{\\mathrm{order\\_size} }\\left(\\kappa\\right)+8\\,\\kappa \\left(\\frac{\\mathrm{d}}{\\mathrm{d}t}\\,a\\left(t\\right)\\right)^{3}\\,\\phi\\left(x,y,z\\right)+8\\,\\kappa \\left(\\frac{\\mathrm{d}}{\\mathrm{d}t}\\,a\\left(t\\right)\\right)^{3}\\,\\psi\\left(x,y,z\\right)-16\\,\\kappa \\frac{\\mathrm{d}}{\\mathrm{d}t}\\,a\\left(t\\right)\\cdot \\frac{\\mathrm{d}^{2}}{\\mathrm{d}t^{2}}\\,a\\left(t\\right) a\\left(t\\right) \\phi\\left(x,y,z\\right)-16\\,\\kappa \\frac{\\mathrm{d}}{\\mathrm{d}t}\\,a\\left(t\\right)\\cdot \\frac{\\mathrm{d}^{2}}{\\mathrm{d}t^{2}}\\,a\\left(t\\right) a\\left(t\\right) \\psi\\left(x,y,z\\right)+2\\,\\kappa \\frac{\\mathrm{d}}{\\mathrm{d}t}\\,a\\left(t\\right) \\frac{\\partial^2 }{\\partial y^2}\\phi\\left(x,y,z\\right) a\\left(t\\right)^{2}+2\\,\\kappa \\frac{\\mathrm{d}}{\\mathrm{d}t}\\,a\\left(t\\right) \\frac{\\partial^2 }{\\partial z^2}\\phi\\left(x,y,z\\right) a\\left(t\\right)^{2}-2\\,\\kappa \\frac{\\mathrm{d}}{\\mathrm{d}t}\\,a\\left(t\\right) \\frac{\\partial^2 }{\\partial y^2}\\psi\\left(x,y,z\\right) a\\left(t\\right)^{2}-2\\,\\kappa \\frac{\\mathrm{d}}{\\mathrm{d}t}\\,a\\left(t\\right) \\frac{\\partial^2 }{\\partial z^2}\\psi\\left(x,y,z\\right) a\\left(t\\right)^{2}+4\\,\\kappa \\frac{\\mathrm{d}^{3}}{\\mathrm{d}t^{3}}\\,a\\left(t\\right) a\\left(t\\right)^{2}\\,\\phi\\left(x,y,z\\right)+4\\,\\kappa \\frac{\\mathrm{d}^{3}}{\\mathrm{d}t^{3}}\\,a\\left(t\\right) a\\left(t\\right)^{2}\\,\\psi\\left(x,y,z\\right)-4 \\left(\\frac{\\mathrm{d}}{\\mathrm{d}t}\\,a\\left(t\\right)\\right)^{3}+8\\,\\frac{\\mathrm{d}}{\\mathrm{d}t}\\,a\\left(t\\right)\\cdot \\frac{\\mathrm{d}^{2}}{\\mathrm{d}t^{2}}\\,a\\left(t\\right) a\\left(t\\right)-2\\,\\frac{\\mathrm{d}^{3}}{\\mathrm{d}t^{3}}\\,a\\left(t\\right) a\\left(t\\right)^{2}}{a\\left(t\\right)^{3}}$"
      ],
      "text/plain": [
       "<IPython.core.display.Math object>"
      ]
     },
     "metadata": {},
     "output_type": "display_data"
    },
    {
     "data": {
      "text/latex": [
       "$\\displaystyle {Cov}{}_{1\n",
       "}{}_{1\n",
       "}{}_{1\n",
       "} = \\frac{\\kappa^{2}\\,a\\left(t\\right)^{2} \\operatorname{\\mathrm{order\\_size} }\\left(\\kappa\\right)-6\\,\\kappa \\left(\\frac{\\mathrm{d}}{\\mathrm{d}t}\\,a\\left(t\\right)\\right)^{2}\\,\\frac{\\partial }{\\partial x}\\psi\\left(x,y,z\\right)+4\\,\\kappa \\frac{\\mathrm{d}^{2}}{\\mathrm{d}t^{2}}\\,a\\left(t\\right) \\frac{\\partial }{\\partial x}\\psi\\left(x,y,z\\right) a\\left(t\\right)-\\kappa \\frac{\\partial^2 }{\\partial y^2}\\frac{\\partial }{\\partial x}\\phi\\left(x,y,z\\right) a\\left(t\\right)^{2}-\\kappa \\frac{\\partial^2 }{\\partial z^2}\\frac{\\partial }{\\partial x}\\phi\\left(x,y,z\\right) a\\left(t\\right)^{2}+\\kappa \\frac{\\partial^2 }{\\partial y^2}\\frac{\\partial }{\\partial x}\\psi\\left(x,y,z\\right) a\\left(t\\right)^{2}+\\kappa \\frac{\\partial^2 }{\\partial z^2}\\frac{\\partial }{\\partial x}\\psi\\left(x,y,z\\right) a\\left(t\\right)^{2}}{a\\left(t\\right)^{2}}$"
      ],
      "text/plain": [
       "<IPython.core.display.Math object>"
      ]
     },
     "metadata": {},
     "output_type": "display_data"
    },
    {
     "data": {
      "text/latex": [
       "$\\displaystyle {Cov}{}_{1\n",
       "}{}_{1\n",
       "}{}_{2\n",
       "} = \\frac{\\kappa^{2}\\,a\\left(t\\right)^{2} \\operatorname{\\mathrm{order\\_size} }\\left(\\kappa\\right)-2\\,\\kappa \\left(\\frac{\\mathrm{d}}{\\mathrm{d}t}\\,a\\left(t\\right)\\right)^{2}\\,\\frac{\\partial }{\\partial y}\\psi\\left(x,y,z\\right)+4\\,\\kappa \\frac{\\mathrm{d}^{2}}{\\mathrm{d}t^{2}}\\,a\\left(t\\right) \\frac{\\partial }{\\partial y}\\psi\\left(x,y,z\\right) a\\left(t\\right)-\\kappa \\frac{\\partial^3 }{\\partial y^3}\\phi\\left(x,y,z\\right) a\\left(t\\right)^{2}-\\kappa \\frac{\\partial^2 }{\\partial z^2}\\frac{\\partial }{\\partial y}\\phi\\left(x,y,z\\right) a\\left(t\\right)^{2}+\\kappa \\frac{\\partial^3 }{\\partial y^3}\\psi\\left(x,y,z\\right) a\\left(t\\right)^{2}+\\kappa \\frac{\\partial^2 }{\\partial z^2}\\frac{\\partial }{\\partial y}\\psi\\left(x,y,z\\right) a\\left(t\\right)^{2}}{a\\left(t\\right)^{2}}$"
      ],
      "text/plain": [
       "<IPython.core.display.Math object>"
      ]
     },
     "metadata": {},
     "output_type": "display_data"
    },
    {
     "data": {
      "text/latex": [
       "$\\displaystyle {Cov}{}_{1\n",
       "}{}_{1\n",
       "}{}_{3\n",
       "} = \\frac{\\kappa^{2}\\,a\\left(t\\right)^{2} \\operatorname{\\mathrm{order\\_size} }\\left(\\kappa\\right)-2\\,\\kappa \\left(\\frac{\\mathrm{d}}{\\mathrm{d}t}\\,a\\left(t\\right)\\right)^{2}\\,\\frac{\\partial }{\\partial z}\\psi\\left(x,y,z\\right)+4\\,\\kappa \\frac{\\mathrm{d}^{2}}{\\mathrm{d}t^{2}}\\,a\\left(t\\right) \\frac{\\partial }{\\partial z}\\psi\\left(x,y,z\\right) a\\left(t\\right)-\\kappa \\frac{\\partial^2 }{\\partial y^2}\\frac{\\partial }{\\partial z}\\phi\\left(x,y,z\\right) a\\left(t\\right)^{2}-\\kappa \\frac{\\partial^3 }{\\partial z^3}\\phi\\left(x,y,z\\right) a\\left(t\\right)^{2}+\\kappa \\frac{\\partial^2 }{\\partial y^2}\\frac{\\partial }{\\partial z}\\psi\\left(x,y,z\\right) a\\left(t\\right)^{2}+\\kappa \\frac{\\partial^3 }{\\partial z^3}\\psi\\left(x,y,z\\right) a\\left(t\\right)^{2}}{a\\left(t\\right)^{2}}$"
      ],
      "text/plain": [
       "<IPython.core.display.Math object>"
      ]
     },
     "metadata": {},
     "output_type": "display_data"
    },
    {
     "data": {
      "text/latex": [
       "$\\displaystyle {Cov}{}_{1\n",
       "}{}_{2\n",
       "}{}_{0\n",
       "} = \\frac{\\kappa^{2}\\,a\\left(t\\right) \\operatorname{\\mathrm{order\\_size} }\\left(\\kappa\\right)-4\\,\\kappa \\frac{\\mathrm{d}}{\\mathrm{d}t}\\,a\\left(t\\right) \\frac{\\partial }{\\partial x}\\frac{\\partial }{\\partial y}\\phi\\left(x,y,z\\right)+2\\,\\kappa \\frac{\\mathrm{d}}{\\mathrm{d}t}\\,a\\left(t\\right) \\frac{\\partial }{\\partial y}\\frac{\\partial }{\\partial x}\\phi\\left(x,y,z\\right)+2\\,\\kappa \\frac{\\mathrm{d}}{\\mathrm{d}t}\\,a\\left(t\\right) \\frac{\\partial }{\\partial x}\\frac{\\partial }{\\partial y}\\psi\\left(x,y,z\\right)}{a\\left(t\\right)}$"
      ],
      "text/plain": [
       "<IPython.core.display.Math object>"
      ]
     },
     "metadata": {},
     "output_type": "display_data"
    },
    {
     "data": {
      "text/latex": [
       "$\\displaystyle {Cov}{}_{1\n",
       "}{}_{2\n",
       "}{}_{1\n",
       "} = \\frac{\\kappa^{2}\\,a\\left(t\\right)^{2} \\operatorname{\\mathrm{order\\_size} }\\left(\\kappa\\right)-2\\,\\kappa \\left(\\frac{\\mathrm{d}}{\\mathrm{d}t}\\,a\\left(t\\right)\\right)^{2}\\,\\frac{\\partial }{\\partial y}\\psi\\left(x,y,z\\right)+2\\,\\kappa \\frac{\\partial^2 }{\\partial x^2}\\frac{\\partial }{\\partial y}\\phi\\left(x,y,z\\right) a\\left(t\\right)^{2}-\\kappa \\frac{\\partial }{\\partial y}\\frac{\\partial^2 }{\\partial x^2}\\phi\\left(x,y,z\\right) a\\left(t\\right)^{2}-\\kappa \\frac{\\partial^2 }{\\partial x^2}\\frac{\\partial }{\\partial y}\\psi\\left(x,y,z\\right) a\\left(t\\right)^{2}}{a\\left(t\\right)^{2}}$"
      ],
      "text/plain": [
       "<IPython.core.display.Math object>"
      ]
     },
     "metadata": {},
     "output_type": "display_data"
    },
    {
     "data": {
      "text/latex": [
       "$\\displaystyle {Cov}{}_{1\n",
       "}{}_{2\n",
       "}{}_{2\n",
       "} = \\frac{\\kappa^{2}\\,a\\left(t\\right)^{2} \\operatorname{\\mathrm{order\\_size} }\\left(\\kappa\\right)-2\\,\\kappa \\left(\\frac{\\mathrm{d}}{\\mathrm{d}t}\\,a\\left(t\\right)\\right)^{2}\\,\\frac{\\partial }{\\partial x}\\psi\\left(x,y,z\\right)+2\\,\\kappa \\frac{\\partial }{\\partial x}\\frac{\\partial^2 }{\\partial y^2}\\phi\\left(x,y,z\\right) a\\left(t\\right)^{2}-\\kappa \\frac{\\partial^2 }{\\partial y^2}\\frac{\\partial }{\\partial x}\\phi\\left(x,y,z\\right) a\\left(t\\right)^{2}-\\kappa \\frac{\\partial }{\\partial x}\\frac{\\partial^2 }{\\partial y^2}\\psi\\left(x,y,z\\right) a\\left(t\\right)^{2}}{a\\left(t\\right)^{2}}$"
      ],
      "text/plain": [
       "<IPython.core.display.Math object>"
      ]
     },
     "metadata": {},
     "output_type": "display_data"
    },
    {
     "data": {
      "text/latex": [
       "$\\displaystyle {Cov}{}_{1\n",
       "}{}_{2\n",
       "}{}_{3\n",
       "} = \\mathrm{O}\\left(\\kappa^{2}\\right)+2\\,\\kappa \\frac{\\partial }{\\partial x}\\frac{\\partial }{\\partial y}\\frac{\\partial }{\\partial z}\\phi\\left(x,y,z\\right)-\\kappa \\frac{\\partial }{\\partial y}\\frac{\\partial }{\\partial x}\\frac{\\partial }{\\partial z}\\phi\\left(x,y,z\\right)-\\kappa \\frac{\\partial }{\\partial x}\\frac{\\partial }{\\partial y}\\frac{\\partial }{\\partial z}\\psi\\left(x,y,z\\right)$"
      ],
      "text/plain": [
       "<IPython.core.display.Math object>"
      ]
     },
     "metadata": {},
     "output_type": "display_data"
    },
    {
     "data": {
      "text/latex": [
       "$\\displaystyle {Cov}{}_{1\n",
       "}{}_{3\n",
       "}{}_{0\n",
       "} = \\frac{\\kappa^{2}\\,a\\left(t\\right) \\operatorname{\\mathrm{order\\_size} }\\left(\\kappa\\right)-4\\,\\kappa \\frac{\\mathrm{d}}{\\mathrm{d}t}\\,a\\left(t\\right) \\frac{\\partial }{\\partial x}\\frac{\\partial }{\\partial z}\\phi\\left(x,y,z\\right)+2\\,\\kappa \\frac{\\mathrm{d}}{\\mathrm{d}t}\\,a\\left(t\\right) \\frac{\\partial }{\\partial z}\\frac{\\partial }{\\partial x}\\phi\\left(x,y,z\\right)+2\\,\\kappa \\frac{\\mathrm{d}}{\\mathrm{d}t}\\,a\\left(t\\right) \\frac{\\partial }{\\partial x}\\frac{\\partial }{\\partial z}\\psi\\left(x,y,z\\right)}{a\\left(t\\right)}$"
      ],
      "text/plain": [
       "<IPython.core.display.Math object>"
      ]
     },
     "metadata": {},
     "output_type": "display_data"
    },
    {
     "data": {
      "text/latex": [
       "$\\displaystyle {Cov}{}_{1\n",
       "}{}_{3\n",
       "}{}_{1\n",
       "} = \\frac{\\kappa^{2}\\,a\\left(t\\right)^{2} \\operatorname{\\mathrm{order\\_size} }\\left(\\kappa\\right)-2\\,\\kappa \\left(\\frac{\\mathrm{d}}{\\mathrm{d}t}\\,a\\left(t\\right)\\right)^{2}\\,\\frac{\\partial }{\\partial z}\\psi\\left(x,y,z\\right)+2\\,\\kappa \\frac{\\partial^2 }{\\partial x^2}\\frac{\\partial }{\\partial z}\\phi\\left(x,y,z\\right) a\\left(t\\right)^{2}-\\kappa \\frac{\\partial }{\\partial z}\\frac{\\partial^2 }{\\partial x^2}\\phi\\left(x,y,z\\right) a\\left(t\\right)^{2}-\\kappa \\frac{\\partial^2 }{\\partial x^2}\\frac{\\partial }{\\partial z}\\psi\\left(x,y,z\\right) a\\left(t\\right)^{2}}{a\\left(t\\right)^{2}}$"
      ],
      "text/plain": [
       "<IPython.core.display.Math object>"
      ]
     },
     "metadata": {},
     "output_type": "display_data"
    },
    {
     "data": {
      "text/latex": [
       "$\\displaystyle {Cov}{}_{1\n",
       "}{}_{3\n",
       "}{}_{2\n",
       "} = \\mathrm{O}\\left(\\kappa^{2}\\right)+2\\,\\kappa \\frac{\\partial }{\\partial x}\\frac{\\partial }{\\partial z}\\frac{\\partial }{\\partial y}\\phi\\left(x,y,z\\right)-\\kappa \\frac{\\partial }{\\partial z}\\frac{\\partial }{\\partial x}\\frac{\\partial }{\\partial y}\\phi\\left(x,y,z\\right)-\\kappa \\frac{\\partial }{\\partial x}\\frac{\\partial }{\\partial z}\\frac{\\partial }{\\partial y}\\psi\\left(x,y,z\\right)$"
      ],
      "text/plain": [
       "<IPython.core.display.Math object>"
      ]
     },
     "metadata": {},
     "output_type": "display_data"
    },
    {
     "data": {
      "text/latex": [
       "$\\displaystyle {Cov}{}_{1\n",
       "}{}_{3\n",
       "}{}_{3\n",
       "} = \\frac{\\kappa^{2}\\,a\\left(t\\right)^{2} \\operatorname{\\mathrm{order\\_size} }\\left(\\kappa\\right)-2\\,\\kappa \\left(\\frac{\\mathrm{d}}{\\mathrm{d}t}\\,a\\left(t\\right)\\right)^{2}\\,\\frac{\\partial }{\\partial x}\\psi\\left(x,y,z\\right)+2\\,\\kappa \\frac{\\partial }{\\partial x}\\frac{\\partial^2 }{\\partial z^2}\\phi\\left(x,y,z\\right) a\\left(t\\right)^{2}-\\kappa \\frac{\\partial^2 }{\\partial z^2}\\frac{\\partial }{\\partial x}\\phi\\left(x,y,z\\right) a\\left(t\\right)^{2}-\\kappa \\frac{\\partial }{\\partial x}\\frac{\\partial^2 }{\\partial z^2}\\psi\\left(x,y,z\\right) a\\left(t\\right)^{2}}{a\\left(t\\right)^{2}}$"
      ],
      "text/plain": [
       "<IPython.core.display.Math object>"
      ]
     },
     "metadata": {},
     "output_type": "display_data"
    },
    {
     "data": {
      "text/latex": [
       "$\\displaystyle {Cov}{}_{2\n",
       "}{}_{0\n",
       "}{}_{0\n",
       "} = \\frac{\\kappa^{2}\\,a\\left(t\\right)^{2} \\operatorname{\\mathrm{order\\_size} }\\left(\\kappa\\right)-10\\,\\kappa \\left(\\frac{\\mathrm{d}}{\\mathrm{d}t}\\,a\\left(t\\right)\\right)^{2}\\,\\frac{\\partial }{\\partial y}\\psi\\left(x,y,z\\right)+4\\,\\kappa \\frac{\\mathrm{d}^{2}}{\\mathrm{d}t^{2}}\\,a\\left(t\\right) \\frac{\\partial }{\\partial y}\\psi\\left(x,y,z\\right) a\\left(t\\right)}{a\\left(t\\right)^{2}}$"
      ],
      "text/plain": [
       "<IPython.core.display.Math object>"
      ]
     },
     "metadata": {},
     "output_type": "display_data"
    },
    {
     "data": {
      "text/latex": [
       "$\\displaystyle {Cov}{}_{2\n",
       "}{}_{0\n",
       "}{}_{1\n",
       "} = \\frac{\\kappa^{2}\\,a\\left(t\\right) \\operatorname{\\mathrm{order\\_size} }\\left(\\kappa\\right)-2\\,\\kappa \\frac{\\mathrm{d}}{\\mathrm{d}t}\\,a\\left(t\\right) \\frac{\\partial }{\\partial x}\\frac{\\partial }{\\partial y}\\phi\\left(x,y,z\\right)+\\kappa \\frac{\\mathrm{d}}{\\mathrm{d}t}\\,a\\left(t\\right) \\frac{\\partial }{\\partial y}\\frac{\\partial }{\\partial x}\\phi\\left(x,y,z\\right)+\\kappa \\frac{\\mathrm{d}}{\\mathrm{d}t}\\,a\\left(t\\right) \\frac{\\partial }{\\partial x}\\frac{\\partial }{\\partial y}\\psi\\left(x,y,z\\right)+2\\,\\kappa \\frac{\\mathrm{d}}{\\mathrm{d}t}\\,a\\left(t\\right) \\frac{\\partial }{\\partial y}\\frac{\\partial }{\\partial x}\\psi\\left(x,y,z\\right)}{a\\left(t\\right)}$"
      ],
      "text/plain": [
       "<IPython.core.display.Math object>"
      ]
     },
     "metadata": {},
     "output_type": "display_data"
    },
    {
     "data": {
      "text/latex": [
       "$\\displaystyle {Cov}{}_{2\n",
       "}{}_{0\n",
       "}{}_{2\n",
       "} = \\frac{\\kappa^{2}\\,a\\left(t\\right)^{3} \\operatorname{\\mathrm{order\\_size} }\\left(\\kappa\\right)+8\\,\\kappa \\left(\\frac{\\mathrm{d}}{\\mathrm{d}t}\\,a\\left(t\\right)\\right)^{3}\\,\\phi\\left(x,y,z\\right)+8\\,\\kappa \\left(\\frac{\\mathrm{d}}{\\mathrm{d}t}\\,a\\left(t\\right)\\right)^{3}\\,\\psi\\left(x,y,z\\right)-4\\,\\kappa \\frac{\\mathrm{d}}{\\mathrm{d}t}\\,a\\left(t\\right)\\cdot \\frac{\\mathrm{d}^{2}}{\\mathrm{d}t^{2}}\\,a\\left(t\\right) a\\left(t\\right) \\phi\\left(x,y,z\\right)-4\\,\\kappa \\frac{\\mathrm{d}}{\\mathrm{d}t}\\,a\\left(t\\right)\\cdot \\frac{\\mathrm{d}^{2}}{\\mathrm{d}t^{2}}\\,a\\left(t\\right) a\\left(t\\right) \\psi\\left(x,y,z\\right)-\\kappa \\frac{\\mathrm{d}}{\\mathrm{d}t}\\,a\\left(t\\right) \\frac{\\partial^2 }{\\partial x^2}\\phi\\left(x,y,z\\right) a\\left(t\\right)^{2}-2\\,\\kappa \\frac{\\mathrm{d}}{\\mathrm{d}t}\\,a\\left(t\\right) \\frac{\\partial^2 }{\\partial y^2}\\phi\\left(x,y,z\\right) a\\left(t\\right)^{2}-\\kappa \\frac{\\mathrm{d}}{\\mathrm{d}t}\\,a\\left(t\\right) \\frac{\\partial^2 }{\\partial z^2}\\phi\\left(x,y,z\\right) a\\left(t\\right)^{2}-\\kappa \\frac{\\mathrm{d}}{\\mathrm{d}t}\\,a\\left(t\\right) \\frac{\\partial^2 }{\\partial x^2}\\psi\\left(x,y,z\\right) a\\left(t\\right)^{2}+2\\,\\kappa \\frac{\\mathrm{d}}{\\mathrm{d}t}\\,a\\left(t\\right) \\frac{\\partial^2 }{\\partial y^2}\\psi\\left(x,y,z\\right) a\\left(t\\right)^{2}-\\kappa \\frac{\\mathrm{d}}{\\mathrm{d}t}\\,a\\left(t\\right) \\frac{\\partial^2 }{\\partial z^2}\\psi\\left(x,y,z\\right) a\\left(t\\right)^{2}-4 \\left(\\frac{\\mathrm{d}}{\\mathrm{d}t}\\,a\\left(t\\right)\\right)^{3}+2\\,\\frac{\\mathrm{d}}{\\mathrm{d}t}\\,a\\left(t\\right)\\cdot \\frac{\\mathrm{d}^{2}}{\\mathrm{d}t^{2}}\\,a\\left(t\\right) a\\left(t\\right)}{a\\left(t\\right)^{3}}$"
      ],
      "text/plain": [
       "<IPython.core.display.Math object>"
      ]
     },
     "metadata": {},
     "output_type": "display_data"
    },
    {
     "data": {
      "text/latex": [
       "$\\displaystyle {Cov}{}_{2\n",
       "}{}_{0\n",
       "}{}_{3\n",
       "} = \\frac{\\kappa^{2}\\,a\\left(t\\right) \\operatorname{\\mathrm{order\\_size} }\\left(\\kappa\\right)-2\\,\\kappa \\frac{\\mathrm{d}}{\\mathrm{d}t}\\,a\\left(t\\right) \\frac{\\partial }{\\partial y}\\frac{\\partial }{\\partial z}\\phi\\left(x,y,z\\right)+\\kappa \\frac{\\mathrm{d}}{\\mathrm{d}t}\\,a\\left(t\\right) \\frac{\\partial }{\\partial z}\\frac{\\partial }{\\partial y}\\phi\\left(x,y,z\\right)+3\\,\\kappa \\frac{\\mathrm{d}}{\\mathrm{d}t}\\,a\\left(t\\right) \\frac{\\partial }{\\partial y}\\frac{\\partial }{\\partial z}\\psi\\left(x,y,z\\right)}{a\\left(t\\right)}$"
      ],
      "text/plain": [
       "<IPython.core.display.Math object>"
      ]
     },
     "metadata": {},
     "output_type": "display_data"
    },
    {
     "data": {
      "text/latex": [
       "$\\displaystyle {Cov}{}_{2\n",
       "}{}_{1\n",
       "}{}_{0\n",
       "} = \\frac{\\kappa^{2}\\,a\\left(t\\right) \\operatorname{\\mathrm{order\\_size} }\\left(\\kappa\\right)-4\\,\\kappa \\frac{\\mathrm{d}}{\\mathrm{d}t}\\,a\\left(t\\right) \\frac{\\partial }{\\partial x}\\frac{\\partial }{\\partial y}\\phi\\left(x,y,z\\right)+2\\,\\kappa \\frac{\\mathrm{d}}{\\mathrm{d}t}\\,a\\left(t\\right) \\frac{\\partial }{\\partial y}\\frac{\\partial }{\\partial x}\\phi\\left(x,y,z\\right)+2\\,\\kappa \\frac{\\mathrm{d}}{\\mathrm{d}t}\\,a\\left(t\\right) \\frac{\\partial }{\\partial x}\\frac{\\partial }{\\partial y}\\psi\\left(x,y,z\\right)}{a\\left(t\\right)}$"
      ],
      "text/plain": [
       "<IPython.core.display.Math object>"
      ]
     },
     "metadata": {},
     "output_type": "display_data"
    },
    {
     "data": {
      "text/latex": [
       "$\\displaystyle {Cov}{}_{2\n",
       "}{}_{1\n",
       "}{}_{1\n",
       "} = \\frac{\\kappa^{2}\\,a\\left(t\\right)^{2} \\operatorname{\\mathrm{order\\_size} }\\left(\\kappa\\right)-2\\,\\kappa \\left(\\frac{\\mathrm{d}}{\\mathrm{d}t}\\,a\\left(t\\right)\\right)^{2}\\,\\frac{\\partial }{\\partial y}\\psi\\left(x,y,z\\right)+2\\,\\kappa \\frac{\\partial^2 }{\\partial x^2}\\frac{\\partial }{\\partial y}\\phi\\left(x,y,z\\right) a\\left(t\\right)^{2}-\\kappa \\frac{\\partial }{\\partial y}\\frac{\\partial^2 }{\\partial x^2}\\phi\\left(x,y,z\\right) a\\left(t\\right)^{2}-\\kappa \\frac{\\partial^2 }{\\partial x^2}\\frac{\\partial }{\\partial y}\\psi\\left(x,y,z\\right) a\\left(t\\right)^{2}}{a\\left(t\\right)^{2}}$"
      ],
      "text/plain": [
       "<IPython.core.display.Math object>"
      ]
     },
     "metadata": {},
     "output_type": "display_data"
    },
    {
     "data": {
      "text/latex": [
       "$\\displaystyle {Cov}{}_{2\n",
       "}{}_{1\n",
       "}{}_{2\n",
       "} = \\frac{\\kappa^{2}\\,a\\left(t\\right)^{2} \\operatorname{\\mathrm{order\\_size} }\\left(\\kappa\\right)-2\\,\\kappa \\left(\\frac{\\mathrm{d}}{\\mathrm{d}t}\\,a\\left(t\\right)\\right)^{2}\\,\\frac{\\partial }{\\partial x}\\psi\\left(x,y,z\\right)+2\\,\\kappa \\frac{\\partial }{\\partial x}\\frac{\\partial^2 }{\\partial y^2}\\phi\\left(x,y,z\\right) a\\left(t\\right)^{2}-\\kappa \\frac{\\partial^2 }{\\partial y^2}\\frac{\\partial }{\\partial x}\\phi\\left(x,y,z\\right) a\\left(t\\right)^{2}-\\kappa \\frac{\\partial }{\\partial x}\\frac{\\partial^2 }{\\partial y^2}\\psi\\left(x,y,z\\right) a\\left(t\\right)^{2}}{a\\left(t\\right)^{2}}$"
      ],
      "text/plain": [
       "<IPython.core.display.Math object>"
      ]
     },
     "metadata": {},
     "output_type": "display_data"
    },
    {
     "data": {
      "text/latex": [
       "$\\displaystyle {Cov}{}_{2\n",
       "}{}_{1\n",
       "}{}_{3\n",
       "} = \\mathrm{O}\\left(\\kappa^{2}\\right)+2\\,\\kappa \\frac{\\partial }{\\partial x}\\frac{\\partial }{\\partial y}\\frac{\\partial }{\\partial z}\\phi\\left(x,y,z\\right)-\\kappa \\frac{\\partial }{\\partial y}\\frac{\\partial }{\\partial x}\\frac{\\partial }{\\partial z}\\phi\\left(x,y,z\\right)-\\kappa \\frac{\\partial }{\\partial x}\\frac{\\partial }{\\partial y}\\frac{\\partial }{\\partial z}\\psi\\left(x,y,z\\right)$"
      ],
      "text/plain": [
       "<IPython.core.display.Math object>"
      ]
     },
     "metadata": {},
     "output_type": "display_data"
    },
    {
     "data": {
      "text/latex": [
       "$\\displaystyle {Cov}{}_{2\n",
       "}{}_{2\n",
       "}{}_{0\n",
       "} = \\frac{\\kappa^{2}\\,a\\left(t\\right)^{3} \\operatorname{\\mathrm{order\\_size} }\\left(\\kappa\\right)+8\\,\\kappa \\left(\\frac{\\mathrm{d}}{\\mathrm{d}t}\\,a\\left(t\\right)\\right)^{3}\\,\\phi\\left(x,y,z\\right)+8\\,\\kappa \\left(\\frac{\\mathrm{d}}{\\mathrm{d}t}\\,a\\left(t\\right)\\right)^{3}\\,\\psi\\left(x,y,z\\right)-16\\,\\kappa \\frac{\\mathrm{d}}{\\mathrm{d}t}\\,a\\left(t\\right)\\cdot \\frac{\\mathrm{d}^{2}}{\\mathrm{d}t^{2}}\\,a\\left(t\\right) a\\left(t\\right) \\phi\\left(x,y,z\\right)-16\\,\\kappa \\frac{\\mathrm{d}}{\\mathrm{d}t}\\,a\\left(t\\right)\\cdot \\frac{\\mathrm{d}^{2}}{\\mathrm{d}t^{2}}\\,a\\left(t\\right) a\\left(t\\right) \\psi\\left(x,y,z\\right)+2\\,\\kappa \\frac{\\mathrm{d}}{\\mathrm{d}t}\\,a\\left(t\\right) \\frac{\\partial^2 }{\\partial x^2}\\phi\\left(x,y,z\\right) a\\left(t\\right)^{2}+2\\,\\kappa \\frac{\\mathrm{d}}{\\mathrm{d}t}\\,a\\left(t\\right) \\frac{\\partial^2 }{\\partial z^2}\\phi\\left(x,y,z\\right) a\\left(t\\right)^{2}-2\\,\\kappa \\frac{\\mathrm{d}}{\\mathrm{d}t}\\,a\\left(t\\right) \\frac{\\partial^2 }{\\partial x^2}\\psi\\left(x,y,z\\right) a\\left(t\\right)^{2}-2\\,\\kappa \\frac{\\mathrm{d}}{\\mathrm{d}t}\\,a\\left(t\\right) \\frac{\\partial^2 }{\\partial z^2}\\psi\\left(x,y,z\\right) a\\left(t\\right)^{2}+4\\,\\kappa \\frac{\\mathrm{d}^{3}}{\\mathrm{d}t^{3}}\\,a\\left(t\\right) a\\left(t\\right)^{2}\\,\\phi\\left(x,y,z\\right)+4\\,\\kappa \\frac{\\mathrm{d}^{3}}{\\mathrm{d}t^{3}}\\,a\\left(t\\right) a\\left(t\\right)^{2}\\,\\psi\\left(x,y,z\\right)-4 \\left(\\frac{\\mathrm{d}}{\\mathrm{d}t}\\,a\\left(t\\right)\\right)^{3}+8\\,\\frac{\\mathrm{d}}{\\mathrm{d}t}\\,a\\left(t\\right)\\cdot \\frac{\\mathrm{d}^{2}}{\\mathrm{d}t^{2}}\\,a\\left(t\\right) a\\left(t\\right)-2\\,\\frac{\\mathrm{d}^{3}}{\\mathrm{d}t^{3}}\\,a\\left(t\\right) a\\left(t\\right)^{2}}{a\\left(t\\right)^{3}}$"
      ],
      "text/plain": [
       "<IPython.core.display.Math object>"
      ]
     },
     "metadata": {},
     "output_type": "display_data"
    },
    {
     "data": {
      "text/latex": [
       "$\\displaystyle {Cov}{}_{2\n",
       "}{}_{2\n",
       "}{}_{1\n",
       "} = \\frac{\\kappa^{2}\\,a\\left(t\\right)^{2} \\operatorname{\\mathrm{order\\_size} }\\left(\\kappa\\right)-2\\,\\kappa \\left(\\frac{\\mathrm{d}}{\\mathrm{d}t}\\,a\\left(t\\right)\\right)^{2}\\,\\frac{\\partial }{\\partial x}\\psi\\left(x,y,z\\right)+4\\,\\kappa \\frac{\\mathrm{d}^{2}}{\\mathrm{d}t^{2}}\\,a\\left(t\\right) \\frac{\\partial }{\\partial x}\\psi\\left(x,y,z\\right) a\\left(t\\right)-\\kappa \\frac{\\partial^3 }{\\partial x^3}\\phi\\left(x,y,z\\right) a\\left(t\\right)^{2}-\\kappa \\frac{\\partial^2 }{\\partial z^2}\\frac{\\partial }{\\partial x}\\phi\\left(x,y,z\\right) a\\left(t\\right)^{2}+\\kappa \\frac{\\partial^3 }{\\partial x^3}\\psi\\left(x,y,z\\right) a\\left(t\\right)^{2}+\\kappa \\frac{\\partial^2 }{\\partial z^2}\\frac{\\partial }{\\partial x}\\psi\\left(x,y,z\\right) a\\left(t\\right)^{2}}{a\\left(t\\right)^{2}}$"
      ],
      "text/plain": [
       "<IPython.core.display.Math object>"
      ]
     },
     "metadata": {},
     "output_type": "display_data"
    },
    {
     "data": {
      "text/latex": [
       "$\\displaystyle {Cov}{}_{2\n",
       "}{}_{2\n",
       "}{}_{2\n",
       "} = \\frac{\\kappa^{2}\\,a\\left(t\\right)^{2} \\operatorname{\\mathrm{order\\_size} }\\left(\\kappa\\right)-6\\,\\kappa \\left(\\frac{\\mathrm{d}}{\\mathrm{d}t}\\,a\\left(t\\right)\\right)^{2}\\,\\frac{\\partial }{\\partial y}\\psi\\left(x,y,z\\right)+4\\,\\kappa \\frac{\\mathrm{d}^{2}}{\\mathrm{d}t^{2}}\\,a\\left(t\\right) \\frac{\\partial }{\\partial y}\\psi\\left(x,y,z\\right) a\\left(t\\right)-\\kappa \\frac{\\partial^2 }{\\partial x^2}\\frac{\\partial }{\\partial y}\\phi\\left(x,y,z\\right) a\\left(t\\right)^{2}-\\kappa \\frac{\\partial^2 }{\\partial z^2}\\frac{\\partial }{\\partial y}\\phi\\left(x,y,z\\right) a\\left(t\\right)^{2}+\\kappa \\frac{\\partial^2 }{\\partial x^2}\\frac{\\partial }{\\partial y}\\psi\\left(x,y,z\\right) a\\left(t\\right)^{2}+\\kappa \\frac{\\partial^2 }{\\partial z^2}\\frac{\\partial }{\\partial y}\\psi\\left(x,y,z\\right) a\\left(t\\right)^{2}}{a\\left(t\\right)^{2}}$"
      ],
      "text/plain": [
       "<IPython.core.display.Math object>"
      ]
     },
     "metadata": {},
     "output_type": "display_data"
    },
    {
     "data": {
      "text/latex": [
       "$\\displaystyle {Cov}{}_{2\n",
       "}{}_{2\n",
       "}{}_{3\n",
       "} = \\frac{\\kappa^{2}\\,a\\left(t\\right)^{2} \\operatorname{\\mathrm{order\\_size} }\\left(\\kappa\\right)-2\\,\\kappa \\left(\\frac{\\mathrm{d}}{\\mathrm{d}t}\\,a\\left(t\\right)\\right)^{2}\\,\\frac{\\partial }{\\partial z}\\psi\\left(x,y,z\\right)+4\\,\\kappa \\frac{\\mathrm{d}^{2}}{\\mathrm{d}t^{2}}\\,a\\left(t\\right) \\frac{\\partial }{\\partial z}\\psi\\left(x,y,z\\right) a\\left(t\\right)-\\kappa \\frac{\\partial^2 }{\\partial x^2}\\frac{\\partial }{\\partial z}\\phi\\left(x,y,z\\right) a\\left(t\\right)^{2}-\\kappa \\frac{\\partial^3 }{\\partial z^3}\\phi\\left(x,y,z\\right) a\\left(t\\right)^{2}+\\kappa \\frac{\\partial^2 }{\\partial x^2}\\frac{\\partial }{\\partial z}\\psi\\left(x,y,z\\right) a\\left(t\\right)^{2}+\\kappa \\frac{\\partial^3 }{\\partial z^3}\\psi\\left(x,y,z\\right) a\\left(t\\right)^{2}}{a\\left(t\\right)^{2}}$"
      ],
      "text/plain": [
       "<IPython.core.display.Math object>"
      ]
     },
     "metadata": {},
     "output_type": "display_data"
    },
    {
     "data": {
      "text/latex": [
       "$\\displaystyle {Cov}{}_{2\n",
       "}{}_{3\n",
       "}{}_{0\n",
       "} = \\frac{\\kappa^{2}\\,a\\left(t\\right) \\operatorname{\\mathrm{order\\_size} }\\left(\\kappa\\right)-4\\,\\kappa \\frac{\\mathrm{d}}{\\mathrm{d}t}\\,a\\left(t\\right) \\frac{\\partial }{\\partial y}\\frac{\\partial }{\\partial z}\\phi\\left(x,y,z\\right)+2\\,\\kappa \\frac{\\mathrm{d}}{\\mathrm{d}t}\\,a\\left(t\\right) \\frac{\\partial }{\\partial z}\\frac{\\partial }{\\partial y}\\phi\\left(x,y,z\\right)+2\\,\\kappa \\frac{\\mathrm{d}}{\\mathrm{d}t}\\,a\\left(t\\right) \\frac{\\partial }{\\partial y}\\frac{\\partial }{\\partial z}\\psi\\left(x,y,z\\right)}{a\\left(t\\right)}$"
      ],
      "text/plain": [
       "<IPython.core.display.Math object>"
      ]
     },
     "metadata": {},
     "output_type": "display_data"
    },
    {
     "data": {
      "text/latex": [
       "$\\displaystyle {Cov}{}_{2\n",
       "}{}_{3\n",
       "}{}_{1\n",
       "} = \\mathrm{O}\\left(\\kappa^{2}\\right)+2\\,\\kappa \\frac{\\partial }{\\partial y}\\frac{\\partial }{\\partial z}\\frac{\\partial }{\\partial x}\\phi\\left(x,y,z\\right)-\\kappa \\frac{\\partial }{\\partial z}\\frac{\\partial }{\\partial y}\\frac{\\partial }{\\partial x}\\phi\\left(x,y,z\\right)-\\kappa \\frac{\\partial }{\\partial y}\\frac{\\partial }{\\partial z}\\frac{\\partial }{\\partial x}\\psi\\left(x,y,z\\right)$"
      ],
      "text/plain": [
       "<IPython.core.display.Math object>"
      ]
     },
     "metadata": {},
     "output_type": "display_data"
    },
    {
     "data": {
      "text/latex": [
       "$\\displaystyle {Cov}{}_{2\n",
       "}{}_{3\n",
       "}{}_{2\n",
       "} = \\frac{\\kappa^{2}\\,a\\left(t\\right)^{2} \\operatorname{\\mathrm{order\\_size} }\\left(\\kappa\\right)-2\\,\\kappa \\left(\\frac{\\mathrm{d}}{\\mathrm{d}t}\\,a\\left(t\\right)\\right)^{2}\\,\\frac{\\partial }{\\partial z}\\psi\\left(x,y,z\\right)+2\\,\\kappa \\frac{\\partial^2 }{\\partial y^2}\\frac{\\partial }{\\partial z}\\phi\\left(x,y,z\\right) a\\left(t\\right)^{2}-\\kappa \\frac{\\partial }{\\partial z}\\frac{\\partial^2 }{\\partial y^2}\\phi\\left(x,y,z\\right) a\\left(t\\right)^{2}-\\kappa \\frac{\\partial^2 }{\\partial y^2}\\frac{\\partial }{\\partial z}\\psi\\left(x,y,z\\right) a\\left(t\\right)^{2}}{a\\left(t\\right)^{2}}$"
      ],
      "text/plain": [
       "<IPython.core.display.Math object>"
      ]
     },
     "metadata": {},
     "output_type": "display_data"
    },
    {
     "data": {
      "text/latex": [
       "$\\displaystyle {Cov}{}_{2\n",
       "}{}_{3\n",
       "}{}_{3\n",
       "} = \\frac{\\kappa^{2}\\,a\\left(t\\right)^{2} \\operatorname{\\mathrm{order\\_size} }\\left(\\kappa\\right)-2\\,\\kappa \\left(\\frac{\\mathrm{d}}{\\mathrm{d}t}\\,a\\left(t\\right)\\right)^{2}\\,\\frac{\\partial }{\\partial y}\\psi\\left(x,y,z\\right)+2\\,\\kappa \\frac{\\partial }{\\partial y}\\frac{\\partial^2 }{\\partial z^2}\\phi\\left(x,y,z\\right) a\\left(t\\right)^{2}-\\kappa \\frac{\\partial^2 }{\\partial z^2}\\frac{\\partial }{\\partial y}\\phi\\left(x,y,z\\right) a\\left(t\\right)^{2}-\\kappa \\frac{\\partial }{\\partial y}\\frac{\\partial^2 }{\\partial z^2}\\psi\\left(x,y,z\\right) a\\left(t\\right)^{2}}{a\\left(t\\right)^{2}}$"
      ],
      "text/plain": [
       "<IPython.core.display.Math object>"
      ]
     },
     "metadata": {},
     "output_type": "display_data"
    },
    {
     "data": {
      "text/latex": [
       "$\\displaystyle {Cov}{}_{3\n",
       "}{}_{0\n",
       "}{}_{0\n",
       "} = \\frac{\\kappa^{2}\\,a\\left(t\\right)^{2} \\operatorname{\\mathrm{order\\_size} }\\left(\\kappa\\right)-10\\,\\kappa \\left(\\frac{\\mathrm{d}}{\\mathrm{d}t}\\,a\\left(t\\right)\\right)^{2}\\,\\frac{\\partial }{\\partial z}\\psi\\left(x,y,z\\right)+4\\,\\kappa \\frac{\\mathrm{d}^{2}}{\\mathrm{d}t^{2}}\\,a\\left(t\\right) \\frac{\\partial }{\\partial z}\\psi\\left(x,y,z\\right) a\\left(t\\right)}{a\\left(t\\right)^{2}}$"
      ],
      "text/plain": [
       "<IPython.core.display.Math object>"
      ]
     },
     "metadata": {},
     "output_type": "display_data"
    },
    {
     "data": {
      "text/latex": [
       "$\\displaystyle {Cov}{}_{3\n",
       "}{}_{0\n",
       "}{}_{1\n",
       "} = \\frac{\\kappa^{2}\\,a\\left(t\\right) \\operatorname{\\mathrm{order\\_size} }\\left(\\kappa\\right)-2\\,\\kappa \\frac{\\mathrm{d}}{\\mathrm{d}t}\\,a\\left(t\\right) \\frac{\\partial }{\\partial x}\\frac{\\partial }{\\partial z}\\phi\\left(x,y,z\\right)+\\kappa \\frac{\\mathrm{d}}{\\mathrm{d}t}\\,a\\left(t\\right) \\frac{\\partial }{\\partial z}\\frac{\\partial }{\\partial x}\\phi\\left(x,y,z\\right)+\\kappa \\frac{\\mathrm{d}}{\\mathrm{d}t}\\,a\\left(t\\right) \\frac{\\partial }{\\partial x}\\frac{\\partial }{\\partial z}\\psi\\left(x,y,z\\right)+2\\,\\kappa \\frac{\\mathrm{d}}{\\mathrm{d}t}\\,a\\left(t\\right) \\frac{\\partial }{\\partial z}\\frac{\\partial }{\\partial x}\\psi\\left(x,y,z\\right)}{a\\left(t\\right)}$"
      ],
      "text/plain": [
       "<IPython.core.display.Math object>"
      ]
     },
     "metadata": {},
     "output_type": "display_data"
    },
    {
     "data": {
      "text/latex": [
       "$\\displaystyle {Cov}{}_{3\n",
       "}{}_{0\n",
       "}{}_{2\n",
       "} = \\frac{\\kappa^{2}\\,a\\left(t\\right) \\operatorname{\\mathrm{order\\_size} }\\left(\\kappa\\right)-2\\,\\kappa \\frac{\\mathrm{d}}{\\mathrm{d}t}\\,a\\left(t\\right) \\frac{\\partial }{\\partial y}\\frac{\\partial }{\\partial z}\\phi\\left(x,y,z\\right)+\\kappa \\frac{\\mathrm{d}}{\\mathrm{d}t}\\,a\\left(t\\right) \\frac{\\partial }{\\partial z}\\frac{\\partial }{\\partial y}\\phi\\left(x,y,z\\right)+\\kappa \\frac{\\mathrm{d}}{\\mathrm{d}t}\\,a\\left(t\\right) \\frac{\\partial }{\\partial y}\\frac{\\partial }{\\partial z}\\psi\\left(x,y,z\\right)+2\\,\\kappa \\frac{\\mathrm{d}}{\\mathrm{d}t}\\,a\\left(t\\right) \\frac{\\partial }{\\partial z}\\frac{\\partial }{\\partial y}\\psi\\left(x,y,z\\right)}{a\\left(t\\right)}$"
      ],
      "text/plain": [
       "<IPython.core.display.Math object>"
      ]
     },
     "metadata": {},
     "output_type": "display_data"
    },
    {
     "data": {
      "text/latex": [
       "$\\displaystyle {Cov}{}_{3\n",
       "}{}_{0\n",
       "}{}_{3\n",
       "} = \\frac{\\kappa^{2}\\,a\\left(t\\right)^{3} \\operatorname{\\mathrm{order\\_size} }\\left(\\kappa\\right)+8\\,\\kappa \\left(\\frac{\\mathrm{d}}{\\mathrm{d}t}\\,a\\left(t\\right)\\right)^{3}\\,\\phi\\left(x,y,z\\right)+8\\,\\kappa \\left(\\frac{\\mathrm{d}}{\\mathrm{d}t}\\,a\\left(t\\right)\\right)^{3}\\,\\psi\\left(x,y,z\\right)-4\\,\\kappa \\frac{\\mathrm{d}}{\\mathrm{d}t}\\,a\\left(t\\right)\\cdot \\frac{\\mathrm{d}^{2}}{\\mathrm{d}t^{2}}\\,a\\left(t\\right) a\\left(t\\right) \\phi\\left(x,y,z\\right)-4\\,\\kappa \\frac{\\mathrm{d}}{\\mathrm{d}t}\\,a\\left(t\\right)\\cdot \\frac{\\mathrm{d}^{2}}{\\mathrm{d}t^{2}}\\,a\\left(t\\right) a\\left(t\\right) \\psi\\left(x,y,z\\right)-\\kappa \\frac{\\mathrm{d}}{\\mathrm{d}t}\\,a\\left(t\\right) \\frac{\\partial^2 }{\\partial x^2}\\phi\\left(x,y,z\\right) a\\left(t\\right)^{2}-\\kappa \\frac{\\mathrm{d}}{\\mathrm{d}t}\\,a\\left(t\\right) \\frac{\\partial^2 }{\\partial y^2}\\phi\\left(x,y,z\\right) a\\left(t\\right)^{2}-2\\,\\kappa \\frac{\\mathrm{d}}{\\mathrm{d}t}\\,a\\left(t\\right) \\frac{\\partial^2 }{\\partial z^2}\\phi\\left(x,y,z\\right) a\\left(t\\right)^{2}-\\kappa \\frac{\\mathrm{d}}{\\mathrm{d}t}\\,a\\left(t\\right) \\frac{\\partial^2 }{\\partial x^2}\\psi\\left(x,y,z\\right) a\\left(t\\right)^{2}-\\kappa \\frac{\\mathrm{d}}{\\mathrm{d}t}\\,a\\left(t\\right) \\frac{\\partial^2 }{\\partial y^2}\\psi\\left(x,y,z\\right) a\\left(t\\right)^{2}+2\\,\\kappa \\frac{\\mathrm{d}}{\\mathrm{d}t}\\,a\\left(t\\right) \\frac{\\partial^2 }{\\partial z^2}\\psi\\left(x,y,z\\right) a\\left(t\\right)^{2}-4 \\left(\\frac{\\mathrm{d}}{\\mathrm{d}t}\\,a\\left(t\\right)\\right)^{3}+2\\,\\frac{\\mathrm{d}}{\\mathrm{d}t}\\,a\\left(t\\right)\\cdot \\frac{\\mathrm{d}^{2}}{\\mathrm{d}t^{2}}\\,a\\left(t\\right) a\\left(t\\right)}{a\\left(t\\right)^{3}}$"
      ],
      "text/plain": [
       "<IPython.core.display.Math object>"
      ]
     },
     "metadata": {},
     "output_type": "display_data"
    },
    {
     "data": {
      "text/latex": [
       "$\\displaystyle {Cov}{}_{3\n",
       "}{}_{1\n",
       "}{}_{0\n",
       "} = \\frac{\\kappa^{2}\\,a\\left(t\\right) \\operatorname{\\mathrm{order\\_size} }\\left(\\kappa\\right)-4\\,\\kappa \\frac{\\mathrm{d}}{\\mathrm{d}t}\\,a\\left(t\\right) \\frac{\\partial }{\\partial x}\\frac{\\partial }{\\partial z}\\phi\\left(x,y,z\\right)+2\\,\\kappa \\frac{\\mathrm{d}}{\\mathrm{d}t}\\,a\\left(t\\right) \\frac{\\partial }{\\partial z}\\frac{\\partial }{\\partial x}\\phi\\left(x,y,z\\right)+2\\,\\kappa \\frac{\\mathrm{d}}{\\mathrm{d}t}\\,a\\left(t\\right) \\frac{\\partial }{\\partial x}\\frac{\\partial }{\\partial z}\\psi\\left(x,y,z\\right)}{a\\left(t\\right)}$"
      ],
      "text/plain": [
       "<IPython.core.display.Math object>"
      ]
     },
     "metadata": {},
     "output_type": "display_data"
    },
    {
     "data": {
      "text/latex": [
       "$\\displaystyle {Cov}{}_{3\n",
       "}{}_{1\n",
       "}{}_{1\n",
       "} = \\frac{\\kappa^{2}\\,a\\left(t\\right)^{2} \\operatorname{\\mathrm{order\\_size} }\\left(\\kappa\\right)-2\\,\\kappa \\left(\\frac{\\mathrm{d}}{\\mathrm{d}t}\\,a\\left(t\\right)\\right)^{2}\\,\\frac{\\partial }{\\partial z}\\psi\\left(x,y,z\\right)+2\\,\\kappa \\frac{\\partial^2 }{\\partial x^2}\\frac{\\partial }{\\partial z}\\phi\\left(x,y,z\\right) a\\left(t\\right)^{2}-\\kappa \\frac{\\partial }{\\partial z}\\frac{\\partial^2 }{\\partial x^2}\\phi\\left(x,y,z\\right) a\\left(t\\right)^{2}-\\kappa \\frac{\\partial^2 }{\\partial x^2}\\frac{\\partial }{\\partial z}\\psi\\left(x,y,z\\right) a\\left(t\\right)^{2}}{a\\left(t\\right)^{2}}$"
      ],
      "text/plain": [
       "<IPython.core.display.Math object>"
      ]
     },
     "metadata": {},
     "output_type": "display_data"
    },
    {
     "data": {
      "text/latex": [
       "$\\displaystyle {Cov}{}_{3\n",
       "}{}_{1\n",
       "}{}_{2\n",
       "} = \\mathrm{O}\\left(\\kappa^{2}\\right)+2\\,\\kappa \\frac{\\partial }{\\partial x}\\frac{\\partial }{\\partial z}\\frac{\\partial }{\\partial y}\\phi\\left(x,y,z\\right)-\\kappa \\frac{\\partial }{\\partial z}\\frac{\\partial }{\\partial x}\\frac{\\partial }{\\partial y}\\phi\\left(x,y,z\\right)-\\kappa \\frac{\\partial }{\\partial x}\\frac{\\partial }{\\partial z}\\frac{\\partial }{\\partial y}\\psi\\left(x,y,z\\right)$"
      ],
      "text/plain": [
       "<IPython.core.display.Math object>"
      ]
     },
     "metadata": {},
     "output_type": "display_data"
    },
    {
     "data": {
      "text/latex": [
       "$\\displaystyle {Cov}{}_{3\n",
       "}{}_{1\n",
       "}{}_{3\n",
       "} = \\frac{\\kappa^{2}\\,a\\left(t\\right)^{2} \\operatorname{\\mathrm{order\\_size} }\\left(\\kappa\\right)-2\\,\\kappa \\left(\\frac{\\mathrm{d}}{\\mathrm{d}t}\\,a\\left(t\\right)\\right)^{2}\\,\\frac{\\partial }{\\partial x}\\psi\\left(x,y,z\\right)+2\\,\\kappa \\frac{\\partial }{\\partial x}\\frac{\\partial^2 }{\\partial z^2}\\phi\\left(x,y,z\\right) a\\left(t\\right)^{2}-\\kappa \\frac{\\partial^2 }{\\partial z^2}\\frac{\\partial }{\\partial x}\\phi\\left(x,y,z\\right) a\\left(t\\right)^{2}-\\kappa \\frac{\\partial }{\\partial x}\\frac{\\partial^2 }{\\partial z^2}\\psi\\left(x,y,z\\right) a\\left(t\\right)^{2}}{a\\left(t\\right)^{2}}$"
      ],
      "text/plain": [
       "<IPython.core.display.Math object>"
      ]
     },
     "metadata": {},
     "output_type": "display_data"
    },
    {
     "data": {
      "text/latex": [
       "$\\displaystyle {Cov}{}_{3\n",
       "}{}_{2\n",
       "}{}_{0\n",
       "} = \\frac{\\kappa^{2}\\,a\\left(t\\right) \\operatorname{\\mathrm{order\\_size} }\\left(\\kappa\\right)-4\\,\\kappa \\frac{\\mathrm{d}}{\\mathrm{d}t}\\,a\\left(t\\right) \\frac{\\partial }{\\partial y}\\frac{\\partial }{\\partial z}\\phi\\left(x,y,z\\right)+2\\,\\kappa \\frac{\\mathrm{d}}{\\mathrm{d}t}\\,a\\left(t\\right) \\frac{\\partial }{\\partial z}\\frac{\\partial }{\\partial y}\\phi\\left(x,y,z\\right)+2\\,\\kappa \\frac{\\mathrm{d}}{\\mathrm{d}t}\\,a\\left(t\\right) \\frac{\\partial }{\\partial y}\\frac{\\partial }{\\partial z}\\psi\\left(x,y,z\\right)}{a\\left(t\\right)}$"
      ],
      "text/plain": [
       "<IPython.core.display.Math object>"
      ]
     },
     "metadata": {},
     "output_type": "display_data"
    },
    {
     "data": {
      "text/latex": [
       "$\\displaystyle {Cov}{}_{3\n",
       "}{}_{2\n",
       "}{}_{1\n",
       "} = \\mathrm{O}\\left(\\kappa^{2}\\right)+2\\,\\kappa \\frac{\\partial }{\\partial y}\\frac{\\partial }{\\partial z}\\frac{\\partial }{\\partial x}\\phi\\left(x,y,z\\right)-\\kappa \\frac{\\partial }{\\partial z}\\frac{\\partial }{\\partial y}\\frac{\\partial }{\\partial x}\\phi\\left(x,y,z\\right)-\\kappa \\frac{\\partial }{\\partial y}\\frac{\\partial }{\\partial z}\\frac{\\partial }{\\partial x}\\psi\\left(x,y,z\\right)$"
      ],
      "text/plain": [
       "<IPython.core.display.Math object>"
      ]
     },
     "metadata": {},
     "output_type": "display_data"
    },
    {
     "data": {
      "text/latex": [
       "$\\displaystyle {Cov}{}_{3\n",
       "}{}_{2\n",
       "}{}_{2\n",
       "} = \\frac{\\kappa^{2}\\,a\\left(t\\right)^{2} \\operatorname{\\mathrm{order\\_size} }\\left(\\kappa\\right)-2\\,\\kappa \\left(\\frac{\\mathrm{d}}{\\mathrm{d}t}\\,a\\left(t\\right)\\right)^{2}\\,\\frac{\\partial }{\\partial z}\\psi\\left(x,y,z\\right)+2\\,\\kappa \\frac{\\partial^2 }{\\partial y^2}\\frac{\\partial }{\\partial z}\\phi\\left(x,y,z\\right) a\\left(t\\right)^{2}-\\kappa \\frac{\\partial }{\\partial z}\\frac{\\partial^2 }{\\partial y^2}\\phi\\left(x,y,z\\right) a\\left(t\\right)^{2}-\\kappa \\frac{\\partial^2 }{\\partial y^2}\\frac{\\partial }{\\partial z}\\psi\\left(x,y,z\\right) a\\left(t\\right)^{2}}{a\\left(t\\right)^{2}}$"
      ],
      "text/plain": [
       "<IPython.core.display.Math object>"
      ]
     },
     "metadata": {},
     "output_type": "display_data"
    },
    {
     "data": {
      "text/latex": [
       "$\\displaystyle {Cov}{}_{3\n",
       "}{}_{2\n",
       "}{}_{3\n",
       "} = \\frac{\\kappa^{2}\\,a\\left(t\\right)^{2} \\operatorname{\\mathrm{order\\_size} }\\left(\\kappa\\right)-2\\,\\kappa \\left(\\frac{\\mathrm{d}}{\\mathrm{d}t}\\,a\\left(t\\right)\\right)^{2}\\,\\frac{\\partial }{\\partial y}\\psi\\left(x,y,z\\right)+2\\,\\kappa \\frac{\\partial }{\\partial y}\\frac{\\partial^2 }{\\partial z^2}\\phi\\left(x,y,z\\right) a\\left(t\\right)^{2}-\\kappa \\frac{\\partial^2 }{\\partial z^2}\\frac{\\partial }{\\partial y}\\phi\\left(x,y,z\\right) a\\left(t\\right)^{2}-\\kappa \\frac{\\partial }{\\partial y}\\frac{\\partial^2 }{\\partial z^2}\\psi\\left(x,y,z\\right) a\\left(t\\right)^{2}}{a\\left(t\\right)^{2}}$"
      ],
      "text/plain": [
       "<IPython.core.display.Math object>"
      ]
     },
     "metadata": {},
     "output_type": "display_data"
    },
    {
     "data": {
      "text/latex": [
       "$\\displaystyle {Cov}{}_{3\n",
       "}{}_{3\n",
       "}{}_{0\n",
       "} = \\frac{\\kappa^{2}\\,a\\left(t\\right)^{3} \\operatorname{\\mathrm{order\\_size} }\\left(\\kappa\\right)+8\\,\\kappa \\left(\\frac{\\mathrm{d}}{\\mathrm{d}t}\\,a\\left(t\\right)\\right)^{3}\\,\\phi\\left(x,y,z\\right)+8\\,\\kappa \\left(\\frac{\\mathrm{d}}{\\mathrm{d}t}\\,a\\left(t\\right)\\right)^{3}\\,\\psi\\left(x,y,z\\right)-16\\,\\kappa \\frac{\\mathrm{d}}{\\mathrm{d}t}\\,a\\left(t\\right)\\cdot \\frac{\\mathrm{d}^{2}}{\\mathrm{d}t^{2}}\\,a\\left(t\\right) a\\left(t\\right) \\phi\\left(x,y,z\\right)-16\\,\\kappa \\frac{\\mathrm{d}}{\\mathrm{d}t}\\,a\\left(t\\right)\\cdot \\frac{\\mathrm{d}^{2}}{\\mathrm{d}t^{2}}\\,a\\left(t\\right) a\\left(t\\right) \\psi\\left(x,y,z\\right)+2\\,\\kappa \\frac{\\mathrm{d}}{\\mathrm{d}t}\\,a\\left(t\\right) \\frac{\\partial^2 }{\\partial x^2}\\phi\\left(x,y,z\\right) a\\left(t\\right)^{2}+2\\,\\kappa \\frac{\\mathrm{d}}{\\mathrm{d}t}\\,a\\left(t\\right) \\frac{\\partial^2 }{\\partial y^2}\\phi\\left(x,y,z\\right) a\\left(t\\right)^{2}-2\\,\\kappa \\frac{\\mathrm{d}}{\\mathrm{d}t}\\,a\\left(t\\right) \\frac{\\partial^2 }{\\partial x^2}\\psi\\left(x,y,z\\right) a\\left(t\\right)^{2}-2\\,\\kappa \\frac{\\mathrm{d}}{\\mathrm{d}t}\\,a\\left(t\\right) \\frac{\\partial^2 }{\\partial y^2}\\psi\\left(x,y,z\\right) a\\left(t\\right)^{2}+4\\,\\kappa \\frac{\\mathrm{d}^{3}}{\\mathrm{d}t^{3}}\\,a\\left(t\\right) a\\left(t\\right)^{2}\\,\\phi\\left(x,y,z\\right)+4\\,\\kappa \\frac{\\mathrm{d}^{3}}{\\mathrm{d}t^{3}}\\,a\\left(t\\right) a\\left(t\\right)^{2}\\,\\psi\\left(x,y,z\\right)-4 \\left(\\frac{\\mathrm{d}}{\\mathrm{d}t}\\,a\\left(t\\right)\\right)^{3}+8\\,\\frac{\\mathrm{d}}{\\mathrm{d}t}\\,a\\left(t\\right)\\cdot \\frac{\\mathrm{d}^{2}}{\\mathrm{d}t^{2}}\\,a\\left(t\\right) a\\left(t\\right)-2\\,\\frac{\\mathrm{d}^{3}}{\\mathrm{d}t^{3}}\\,a\\left(t\\right) a\\left(t\\right)^{2}}{a\\left(t\\right)^{3}}$"
      ],
      "text/plain": [
       "<IPython.core.display.Math object>"
      ]
     },
     "metadata": {},
     "output_type": "display_data"
    },
    {
     "data": {
      "text/latex": [
       "$\\displaystyle {Cov}{}_{3\n",
       "}{}_{3\n",
       "}{}_{1\n",
       "} = \\frac{\\kappa^{2}\\,a\\left(t\\right)^{2} \\operatorname{\\mathrm{order\\_size} }\\left(\\kappa\\right)-2\\,\\kappa \\left(\\frac{\\mathrm{d}}{\\mathrm{d}t}\\,a\\left(t\\right)\\right)^{2}\\,\\frac{\\partial }{\\partial x}\\psi\\left(x,y,z\\right)+4\\,\\kappa \\frac{\\mathrm{d}^{2}}{\\mathrm{d}t^{2}}\\,a\\left(t\\right) \\frac{\\partial }{\\partial x}\\psi\\left(x,y,z\\right) a\\left(t\\right)-\\kappa \\frac{\\partial^3 }{\\partial x^3}\\phi\\left(x,y,z\\right) a\\left(t\\right)^{2}-\\kappa \\frac{\\partial^2 }{\\partial y^2}\\frac{\\partial }{\\partial x}\\phi\\left(x,y,z\\right) a\\left(t\\right)^{2}+\\kappa \\frac{\\partial^3 }{\\partial x^3}\\psi\\left(x,y,z\\right) a\\left(t\\right)^{2}+\\kappa \\frac{\\partial^2 }{\\partial y^2}\\frac{\\partial }{\\partial x}\\psi\\left(x,y,z\\right) a\\left(t\\right)^{2}}{a\\left(t\\right)^{2}}$"
      ],
      "text/plain": [
       "<IPython.core.display.Math object>"
      ]
     },
     "metadata": {},
     "output_type": "display_data"
    },
    {
     "data": {
      "text/latex": [
       "$\\displaystyle {Cov}{}_{3\n",
       "}{}_{3\n",
       "}{}_{2\n",
       "} = \\frac{\\kappa^{2}\\,a\\left(t\\right)^{2} \\operatorname{\\mathrm{order\\_size} }\\left(\\kappa\\right)-2\\,\\kappa \\left(\\frac{\\mathrm{d}}{\\mathrm{d}t}\\,a\\left(t\\right)\\right)^{2}\\,\\frac{\\partial }{\\partial y}\\psi\\left(x,y,z\\right)+4\\,\\kappa \\frac{\\mathrm{d}^{2}}{\\mathrm{d}t^{2}}\\,a\\left(t\\right) \\frac{\\partial }{\\partial y}\\psi\\left(x,y,z\\right) a\\left(t\\right)-\\kappa \\frac{\\partial^2 }{\\partial x^2}\\frac{\\partial }{\\partial y}\\phi\\left(x,y,z\\right) a\\left(t\\right)^{2}-\\kappa \\frac{\\partial^3 }{\\partial y^3}\\phi\\left(x,y,z\\right) a\\left(t\\right)^{2}+\\kappa \\frac{\\partial^2 }{\\partial x^2}\\frac{\\partial }{\\partial y}\\psi\\left(x,y,z\\right) a\\left(t\\right)^{2}+\\kappa \\frac{\\partial^3 }{\\partial y^3}\\psi\\left(x,y,z\\right) a\\left(t\\right)^{2}}{a\\left(t\\right)^{2}}$"
      ],
      "text/plain": [
       "<IPython.core.display.Math object>"
      ]
     },
     "metadata": {},
     "output_type": "display_data"
    },
    {
     "data": {
      "text/latex": [
       "$\\displaystyle {Cov}{}_{3\n",
       "}{}_{3\n",
       "}{}_{3\n",
       "} = \\frac{\\kappa^{2}\\,a\\left(t\\right)^{2} \\operatorname{\\mathrm{order\\_size} }\\left(\\kappa\\right)-6\\,\\kappa \\left(\\frac{\\mathrm{d}}{\\mathrm{d}t}\\,a\\left(t\\right)\\right)^{2}\\,\\frac{\\partial }{\\partial z}\\psi\\left(x,y,z\\right)+4\\,\\kappa \\frac{\\mathrm{d}^{2}}{\\mathrm{d}t^{2}}\\,a\\left(t\\right) \\frac{\\partial }{\\partial z}\\psi\\left(x,y,z\\right) a\\left(t\\right)-\\kappa \\frac{\\partial^2 }{\\partial x^2}\\frac{\\partial }{\\partial z}\\phi\\left(x,y,z\\right) a\\left(t\\right)^{2}-\\kappa \\frac{\\partial^2 }{\\partial y^2}\\frac{\\partial }{\\partial z}\\phi\\left(x,y,z\\right) a\\left(t\\right)^{2}+\\kappa \\frac{\\partial^2 }{\\partial x^2}\\frac{\\partial }{\\partial z}\\psi\\left(x,y,z\\right) a\\left(t\\right)^{2}+\\kappa \\frac{\\partial^2 }{\\partial y^2}\\frac{\\partial }{\\partial z}\\psi\\left(x,y,z\\right) a\\left(t\\right)^{2}}{a\\left(t\\right)^{2}}$"
      ],
      "text/plain": [
       "<IPython.core.display.Math object>"
      ]
     },
     "metadata": {},
     "output_type": "display_data"
    }
   ],
   "source": [
    "Cov.display(\"_,_,_\")"
   ]
  },
  {
   "cell_type": "markdown",
   "metadata": {},
   "source": [
    "#### We can also perform simple tensor operations. For example we can raise one index of the tensor $G$ and assign its value to another tensor $T$"
   ]
  },
  {
   "cell_type": "code",
   "execution_count": 17,
   "metadata": {},
   "outputs": [
    {
     "data": {
      "text/plain": [
       "Christoffel tensor defined"
      ]
     },
     "execution_count": 17,
     "metadata": {},
     "output_type": "execute_result"
    }
   ],
   "source": [
    "chris"
   ]
  },
  {
   "cell_type": "code",
   "execution_count": 18,
   "metadata": {},
   "outputs": [],
   "source": [
    "Td = G(\"_a,_b\")*g(\"^b,^c\")#+pt.D(pt.C(G(\"_a,^d\"),'_d'),'^c')"
   ]
  },
  {
   "cell_type": "code",
   "execution_count": 19,
   "metadata": {},
   "outputs": [],
   "source": [
    "T = pt.new_ten('T',2)\n",
    "T.assign(Td,\"_a,^c\")\n",
    "T.simplify()"
   ]
  },
  {
   "cell_type": "code",
   "execution_count": 22,
   "metadata": {},
   "outputs": [
    {
     "name": "stdout",
     "output_type": "stream",
     "text": [
      "kappa**2*order_size(kappa)-3*(diff(a(t),t))**2/(a(t))**4-2*kappa*(diff(diff(phi,1),1))(x,y,z)/(a(t))**2-2*kappa*(diff(diff(phi,2),2))(x,y,z)/(a(t))**2-2*kappa*(diff(diff(phi,0),0))(x,y,z)/(a(t))**2+6*kappa*(diff(a(t),t))**2*psi(x,y,z)/(a(t))**4\n"
     ]
    }
   ],
   "source": [
    "print(T.tensor[1][0][0].expand())"
   ]
  },
  {
   "cell_type": "code",
   "execution_count": 20,
   "metadata": {},
   "outputs": [
    {
     "data": {
      "text/latex": [
       "$\\displaystyle {T}{}_{0\n",
       "}{}^{0\n",
       "} = \\frac{\\kappa^{2}\\,a\\left(t\\right)^{4} \\operatorname{\\mathrm{order\\_size} }\\left(\\kappa\\right)+6\\,\\kappa \\left(\\frac{\\mathrm{d}}{\\mathrm{d}t}\\,a\\left(t\\right)\\right)^{2}\\,\\psi\\left(x,y,z\\right)-2\\,\\kappa \\frac{\\partial^2 }{\\partial x^2}\\phi\\left(x,y,z\\right) a\\left(t\\right)^{2}-2\\,\\kappa \\frac{\\partial^2 }{\\partial y^2}\\phi\\left(x,y,z\\right) a\\left(t\\right)^{2}-2\\,\\kappa \\frac{\\partial^2 }{\\partial z^2}\\phi\\left(x,y,z\\right) a\\left(t\\right)^{2}-3 \\left(\\frac{\\mathrm{d}}{\\mathrm{d}t}\\,a\\left(t\\right)\\right)^{2}}{a\\left(t\\right)^{4}}$"
      ],
      "text/plain": [
       "<IPython.core.display.Math object>"
      ]
     },
     "metadata": {},
     "output_type": "display_data"
    },
    {
     "data": {
      "text/latex": [
       "$\\displaystyle {T}{}_{0\n",
       "}{}^{1\n",
       "} = \\frac{\\kappa^{2}\\,a\\left(t\\right)^{3} \\operatorname{\\mathrm{order\\_size} }\\left(\\kappa\\right)+2\\,\\kappa \\frac{\\mathrm{d}}{\\mathrm{d}t}\\,a\\left(t\\right) \\frac{\\partial }{\\partial x}\\psi\\left(x,y,z\\right)}{a\\left(t\\right)^{3}}$"
      ],
      "text/plain": [
       "<IPython.core.display.Math object>"
      ]
     },
     "metadata": {},
     "output_type": "display_data"
    },
    {
     "data": {
      "text/latex": [
       "$\\displaystyle {T}{}_{0\n",
       "}{}^{2\n",
       "} = \\frac{\\kappa^{2}\\,a\\left(t\\right)^{3} \\operatorname{\\mathrm{order\\_size} }\\left(\\kappa\\right)+2\\,\\kappa \\frac{\\mathrm{d}}{\\mathrm{d}t}\\,a\\left(t\\right) \\frac{\\partial }{\\partial y}\\psi\\left(x,y,z\\right)}{a\\left(t\\right)^{3}}$"
      ],
      "text/plain": [
       "<IPython.core.display.Math object>"
      ]
     },
     "metadata": {},
     "output_type": "display_data"
    },
    {
     "data": {
      "text/latex": [
       "$\\displaystyle {T}{}_{0\n",
       "}{}^{3\n",
       "} = \\frac{\\kappa^{2}\\,a\\left(t\\right)^{3} \\operatorname{\\mathrm{order\\_size} }\\left(\\kappa\\right)+2\\,\\kappa \\frac{\\mathrm{d}}{\\mathrm{d}t}\\,a\\left(t\\right) \\frac{\\partial }{\\partial z}\\psi\\left(x,y,z\\right)}{a\\left(t\\right)^{3}}$"
      ],
      "text/plain": [
       "<IPython.core.display.Math object>"
      ]
     },
     "metadata": {},
     "output_type": "display_data"
    },
    {
     "data": {
      "text/latex": [
       "$\\displaystyle {T}{}_{1\n",
       "}{}^{0\n",
       "} = \\frac{\\kappa^{2}\\,a\\left(t\\right)^{3} \\operatorname{\\mathrm{order\\_size} }\\left(\\kappa\\right)-2\\,\\kappa \\frac{\\mathrm{d}}{\\mathrm{d}t}\\,a\\left(t\\right) \\frac{\\partial }{\\partial x}\\psi\\left(x,y,z\\right)}{a\\left(t\\right)^{3}}$"
      ],
      "text/plain": [
       "<IPython.core.display.Math object>"
      ]
     },
     "metadata": {},
     "output_type": "display_data"
    },
    {
     "data": {
      "text/latex": [
       "$\\displaystyle {T}{}_{1\n",
       "}{}^{1\n",
       "} = \\frac{\\kappa^{2}\\,a\\left(t\\right)^{4} \\operatorname{\\mathrm{order\\_size} }\\left(\\kappa\\right)-2\\,\\kappa \\left(\\frac{\\mathrm{d}}{\\mathrm{d}t}\\,a\\left(t\\right)\\right)^{2}\\,\\psi\\left(x,y,z\\right)+4\\,\\kappa \\frac{\\mathrm{d}^{2}}{\\mathrm{d}t^{2}}\\,a\\left(t\\right) a\\left(t\\right) \\psi\\left(x,y,z\\right)-\\kappa \\frac{\\partial^2 }{\\partial y^2}\\phi\\left(x,y,z\\right) a\\left(t\\right)^{2}-\\kappa \\frac{\\partial^2 }{\\partial z^2}\\phi\\left(x,y,z\\right) a\\left(t\\right)^{2}+\\kappa \\frac{\\partial^2 }{\\partial y^2}\\psi\\left(x,y,z\\right) a\\left(t\\right)^{2}+\\kappa \\frac{\\partial^2 }{\\partial z^2}\\psi\\left(x,y,z\\right) a\\left(t\\right)^{2}+\\left(\\frac{\\mathrm{d}}{\\mathrm{d}t}\\,a\\left(t\\right)\\right)^{2}-2\\,\\frac{\\mathrm{d}^{2}}{\\mathrm{d}t^{2}}\\,a\\left(t\\right) a\\left(t\\right)}{a\\left(t\\right)^{4}}$"
      ],
      "text/plain": [
       "<IPython.core.display.Math object>"
      ]
     },
     "metadata": {},
     "output_type": "display_data"
    },
    {
     "data": {
      "text/latex": [
       "$\\displaystyle {T}{}_{1\n",
       "}{}^{2\n",
       "} = \\frac{\\kappa^{2}\\,a\\left(t\\right)^{2} \\operatorname{\\mathrm{order\\_size} }\\left(\\kappa\\right)+2\\,\\kappa \\frac{\\partial }{\\partial x}\\frac{\\partial }{\\partial y}\\phi\\left(x,y,z\\right)-\\kappa \\frac{\\partial }{\\partial y}\\frac{\\partial }{\\partial x}\\phi\\left(x,y,z\\right)-\\kappa \\frac{\\partial }{\\partial x}\\frac{\\partial }{\\partial y}\\psi\\left(x,y,z\\right)}{a\\left(t\\right)^{2}}$"
      ],
      "text/plain": [
       "<IPython.core.display.Math object>"
      ]
     },
     "metadata": {},
     "output_type": "display_data"
    },
    {
     "data": {
      "text/latex": [
       "$\\displaystyle {T}{}_{1\n",
       "}{}^{3\n",
       "} = \\frac{\\kappa^{2}\\,a\\left(t\\right)^{2} \\operatorname{\\mathrm{order\\_size} }\\left(\\kappa\\right)+2\\,\\kappa \\frac{\\partial }{\\partial x}\\frac{\\partial }{\\partial z}\\phi\\left(x,y,z\\right)-\\kappa \\frac{\\partial }{\\partial z}\\frac{\\partial }{\\partial x}\\phi\\left(x,y,z\\right)-\\kappa \\frac{\\partial }{\\partial x}\\frac{\\partial }{\\partial z}\\psi\\left(x,y,z\\right)}{a\\left(t\\right)^{2}}$"
      ],
      "text/plain": [
       "<IPython.core.display.Math object>"
      ]
     },
     "metadata": {},
     "output_type": "display_data"
    },
    {
     "data": {
      "text/latex": [
       "$\\displaystyle {T}{}_{2\n",
       "}{}^{0\n",
       "} = \\frac{\\kappa^{2}\\,a\\left(t\\right)^{3} \\operatorname{\\mathrm{order\\_size} }\\left(\\kappa\\right)-2\\,\\kappa \\frac{\\mathrm{d}}{\\mathrm{d}t}\\,a\\left(t\\right) \\frac{\\partial }{\\partial y}\\psi\\left(x,y,z\\right)}{a\\left(t\\right)^{3}}$"
      ],
      "text/plain": [
       "<IPython.core.display.Math object>"
      ]
     },
     "metadata": {},
     "output_type": "display_data"
    },
    {
     "data": {
      "text/latex": [
       "$\\displaystyle {T}{}_{2\n",
       "}{}^{1\n",
       "} = \\frac{\\kappa^{2}\\,a\\left(t\\right)^{2} \\operatorname{\\mathrm{order\\_size} }\\left(\\kappa\\right)+2\\,\\kappa \\frac{\\partial }{\\partial x}\\frac{\\partial }{\\partial y}\\phi\\left(x,y,z\\right)-\\kappa \\frac{\\partial }{\\partial y}\\frac{\\partial }{\\partial x}\\phi\\left(x,y,z\\right)-\\kappa \\frac{\\partial }{\\partial x}\\frac{\\partial }{\\partial y}\\psi\\left(x,y,z\\right)}{a\\left(t\\right)^{2}}$"
      ],
      "text/plain": [
       "<IPython.core.display.Math object>"
      ]
     },
     "metadata": {},
     "output_type": "display_data"
    },
    {
     "data": {
      "text/latex": [
       "$\\displaystyle {T}{}_{2\n",
       "}{}^{2\n",
       "} = \\frac{\\kappa^{2}\\,a\\left(t\\right)^{4} \\operatorname{\\mathrm{order\\_size} }\\left(\\kappa\\right)-2\\,\\kappa \\left(\\frac{\\mathrm{d}}{\\mathrm{d}t}\\,a\\left(t\\right)\\right)^{2}\\,\\psi\\left(x,y,z\\right)+4\\,\\kappa \\frac{\\mathrm{d}^{2}}{\\mathrm{d}t^{2}}\\,a\\left(t\\right) a\\left(t\\right) \\psi\\left(x,y,z\\right)-\\kappa \\frac{\\partial^2 }{\\partial x^2}\\phi\\left(x,y,z\\right) a\\left(t\\right)^{2}-\\kappa \\frac{\\partial^2 }{\\partial z^2}\\phi\\left(x,y,z\\right) a\\left(t\\right)^{2}+\\kappa \\frac{\\partial^2 }{\\partial x^2}\\psi\\left(x,y,z\\right) a\\left(t\\right)^{2}+\\kappa \\frac{\\partial^2 }{\\partial z^2}\\psi\\left(x,y,z\\right) a\\left(t\\right)^{2}+\\left(\\frac{\\mathrm{d}}{\\mathrm{d}t}\\,a\\left(t\\right)\\right)^{2}-2\\,\\frac{\\mathrm{d}^{2}}{\\mathrm{d}t^{2}}\\,a\\left(t\\right) a\\left(t\\right)}{a\\left(t\\right)^{4}}$"
      ],
      "text/plain": [
       "<IPython.core.display.Math object>"
      ]
     },
     "metadata": {},
     "output_type": "display_data"
    },
    {
     "data": {
      "text/latex": [
       "$\\displaystyle {T}{}_{2\n",
       "}{}^{3\n",
       "} = \\frac{\\kappa^{2}\\,a\\left(t\\right)^{2} \\operatorname{\\mathrm{order\\_size} }\\left(\\kappa\\right)+2\\,\\kappa \\frac{\\partial }{\\partial y}\\frac{\\partial }{\\partial z}\\phi\\left(x,y,z\\right)-\\kappa \\frac{\\partial }{\\partial z}\\frac{\\partial }{\\partial y}\\phi\\left(x,y,z\\right)-\\kappa \\frac{\\partial }{\\partial y}\\frac{\\partial }{\\partial z}\\psi\\left(x,y,z\\right)}{a\\left(t\\right)^{2}}$"
      ],
      "text/plain": [
       "<IPython.core.display.Math object>"
      ]
     },
     "metadata": {},
     "output_type": "display_data"
    },
    {
     "data": {
      "text/latex": [
       "$\\displaystyle {T}{}_{3\n",
       "}{}^{0\n",
       "} = \\frac{\\kappa^{2}\\,a\\left(t\\right)^{3} \\operatorname{\\mathrm{order\\_size} }\\left(\\kappa\\right)-2\\,\\kappa \\frac{\\mathrm{d}}{\\mathrm{d}t}\\,a\\left(t\\right) \\frac{\\partial }{\\partial z}\\psi\\left(x,y,z\\right)}{a\\left(t\\right)^{3}}$"
      ],
      "text/plain": [
       "<IPython.core.display.Math object>"
      ]
     },
     "metadata": {},
     "output_type": "display_data"
    },
    {
     "data": {
      "text/latex": [
       "$\\displaystyle {T}{}_{3\n",
       "}{}^{1\n",
       "} = \\frac{\\kappa^{2}\\,a\\left(t\\right)^{2} \\operatorname{\\mathrm{order\\_size} }\\left(\\kappa\\right)+2\\,\\kappa \\frac{\\partial }{\\partial x}\\frac{\\partial }{\\partial z}\\phi\\left(x,y,z\\right)-\\kappa \\frac{\\partial }{\\partial z}\\frac{\\partial }{\\partial x}\\phi\\left(x,y,z\\right)-\\kappa \\frac{\\partial }{\\partial x}\\frac{\\partial }{\\partial z}\\psi\\left(x,y,z\\right)}{a\\left(t\\right)^{2}}$"
      ],
      "text/plain": [
       "<IPython.core.display.Math object>"
      ]
     },
     "metadata": {},
     "output_type": "display_data"
    },
    {
     "data": {
      "text/latex": [
       "$\\displaystyle {T}{}_{3\n",
       "}{}^{2\n",
       "} = \\frac{\\kappa^{2}\\,a\\left(t\\right)^{2} \\operatorname{\\mathrm{order\\_size} }\\left(\\kappa\\right)+2\\,\\kappa \\frac{\\partial }{\\partial y}\\frac{\\partial }{\\partial z}\\phi\\left(x,y,z\\right)-\\kappa \\frac{\\partial }{\\partial z}\\frac{\\partial }{\\partial y}\\phi\\left(x,y,z\\right)-\\kappa \\frac{\\partial }{\\partial y}\\frac{\\partial }{\\partial z}\\psi\\left(x,y,z\\right)}{a\\left(t\\right)^{2}}$"
      ],
      "text/plain": [
       "<IPython.core.display.Math object>"
      ]
     },
     "metadata": {},
     "output_type": "display_data"
    },
    {
     "data": {
      "text/latex": [
       "$\\displaystyle {T}{}_{3\n",
       "}{}^{3\n",
       "} = \\frac{\\kappa^{2}\\,a\\left(t\\right)^{4} \\operatorname{\\mathrm{order\\_size} }\\left(\\kappa\\right)-2\\,\\kappa \\left(\\frac{\\mathrm{d}}{\\mathrm{d}t}\\,a\\left(t\\right)\\right)^{2}\\,\\psi\\left(x,y,z\\right)+4\\,\\kappa \\frac{\\mathrm{d}^{2}}{\\mathrm{d}t^{2}}\\,a\\left(t\\right) a\\left(t\\right) \\psi\\left(x,y,z\\right)-\\kappa \\frac{\\partial^2 }{\\partial x^2}\\phi\\left(x,y,z\\right) a\\left(t\\right)^{2}-\\kappa \\frac{\\partial^2 }{\\partial y^2}\\phi\\left(x,y,z\\right) a\\left(t\\right)^{2}+\\kappa \\frac{\\partial^2 }{\\partial x^2}\\psi\\left(x,y,z\\right) a\\left(t\\right)^{2}+\\kappa \\frac{\\partial^2 }{\\partial y^2}\\psi\\left(x,y,z\\right) a\\left(t\\right)^{2}+\\left(\\frac{\\mathrm{d}}{\\mathrm{d}t}\\,a\\left(t\\right)\\right)^{2}-2\\,\\frac{\\mathrm{d}^{2}}{\\mathrm{d}t^{2}}\\,a\\left(t\\right) a\\left(t\\right)}{a\\left(t\\right)^{4}}$"
      ],
      "text/plain": [
       "<IPython.core.display.Math object>"
      ]
     },
     "metadata": {},
     "output_type": "display_data"
    }
   ],
   "source": [
    "T.display('_,^',aslist = True)"
   ]
  },
  {
   "cell_type": "code",
   "execution_count": null,
   "metadata": {},
   "outputs": [],
   "source": []
  }
 ],
 "metadata": {
  "kernelspec": {
   "display_name": "Python 3",
   "language": "python",
   "name": "python3"
  },
  "language_info": {
   "codemirror_mode": {
    "name": "ipython",
    "version": 3
   },
   "file_extension": ".py",
   "mimetype": "text/x-python",
   "name": "python",
   "nbconvert_exporter": "python",
   "pygments_lexer": "ipython3",
   "version": "3.8.5"
  }
 },
 "nbformat": 4,
 "nbformat_minor": 2
}
