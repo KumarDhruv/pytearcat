{
 "metadata": {
  "language_info": {
   "codemirror_mode": {
    "name": "ipython",
    "version": 3
   },
   "file_extension": ".py",
   "mimetype": "text/x-python",
   "name": "python",
   "nbconvert_exporter": "python",
   "pygments_lexer": "ipython3",
   "version": "3.6.10-final"
  },
  "orig_nbformat": 2,
  "kernelspec": {
   "name": "Python 3.6.10 64-bit ('PyTensor': conda)",
   "display_name": "Python 3.6.10 64-bit ('PyTensor': conda)",
   "metadata": {
    "interpreter": {
     "hash": "fe53e6429d3117b5b047f28e5622d5e3b96bdb3e55201b98235f08a04a2176cb"
    }
   }
  }
 },
 "nbformat": 4,
 "nbformat_minor": 2,
 "cells": [
  {
   "cell_type": "code",
   "execution_count": 7,
   "metadata": {},
   "outputs": [],
   "source": [
    "import pytensor as pt\n",
    "import sympy as sp"
   ]
  },
  {
   "cell_type": "code",
   "execution_count": 3,
   "metadata": {},
   "outputs": [
    {
     "output_type": "stream",
     "name": "stdout",
     "text": [
      "Remember that the time coordinate must be the first coordinate.\n",
      "Metric was defined successfully: \n",
      "\n",
      "Dimension = 4\n",
      "Coordinates = t,r,theta,phi\n"
     ]
    },
    {
     "output_type": "display_data",
     "data": {
      "text/plain": "<IPython.core.display.Math object>",
      "text/latex": "$\\displaystyle ds^2 = \\left(\\frac{2 c^{2} \\mu}{r} - c^{2}\\right) \\cdot dt^2+\\frac{1}{- \\frac{2 \\mu}{r} + 1} \\cdot dr^2+r^{2} \\cdot d\\theta^2+r^{2} \\sin^{2}{\\left(\\theta \\right)} \\cdot d\\phi^2$"
     },
     "metadata": {}
    },
    {
     "output_type": "display_data",
     "data": {
      "text/plain": "<IPython.core.display.Math object>",
      "text/latex": "$\\displaystyle \\left[\\begin{matrix}\\frac{2 c^{2} \\mu}{r} - c^{2} & 0 & 0 & 0\\\\0 & \\frac{1}{- \\frac{2 \\mu}{r} + 1} & 0 & 0\\\\0 & 0 & r^{2} & 0\\\\0 & 0 & 0 & r^{2} \\sin^{2}{\\left(\\theta \\right)}\\end{matrix}\\right]$"
     },
     "metadata": {}
    }
   ],
   "source": [
    "t,x,y,z = pt.def_coords('t,r,theta,phi')\n",
    "c, Gs, M, mu, = pt.new_con('c','Gs','M','mu')\n",
    "g = pt.create_metric('ds2 = -c**2*dt**2*(1-2*mu/(r)) + (1-2*mu/(r))**(-1)*dr**2 + r**2 * (dtheta**2 + sin(theta)**2 * dphi**2)')"
   ]
  },
  {
   "cell_type": "code",
   "execution_count": 4,
   "metadata": {},
   "outputs": [
    {
     "output_type": "display_data",
     "data": {
      "text/plain": "HBox(children=(IntProgress(value=0, description='Christoffel $\\\\Gamma_{\\\\alpha \\\\beta \\\\gamma}$ and $\\\\Gamma^{…",
      "application/vnd.jupyter.widget-view+json": {
       "version_major": 2,
       "version_minor": 0,
       "model_id": "89bb5189de0a41659eb913c1ef6a528c"
      }
     },
     "metadata": {}
    },
    {
     "output_type": "stream",
     "name": "stdout",
     "text": [
      "\n"
     ]
    },
    {
     "output_type": "display_data",
     "data": {
      "text/plain": "HBox(children=(IntProgress(value=0, max=64), HTML(value='')))",
      "application/vnd.jupyter.widget-view+json": {
       "version_major": 2,
       "version_minor": 0,
       "model_id": "1cde736940bd4d6caef9bb0dd07f1b64"
      }
     },
     "metadata": {}
    },
    {
     "output_type": "stream",
     "name": "stdout",
     "text": [
      "\n"
     ]
    }
   ],
   "source": [
    "Geodesic = pt.geodesic()"
   ]
  },
  {
   "cell_type": "code",
   "execution_count": 5,
   "metadata": {},
   "outputs": [
    {
     "output_type": "execute_result",
     "data": {
      "text/plain": [
       "(-2*mu*r*Derivative(x__0(s), (s, 2)) + 2*mu*Derivative(x__0(s), s)*Derivative(x__1(s), s) + r**2*Derivative(x__0(s), (s, 2)))/(r*(-2*mu + r))"
      ],
      "text/latex": "$\\displaystyle \\frac{- 2 \\mu r \\frac{d^{2}}{d s^{2}} \\operatorname{x^{0}}{\\left(s \\right)} + 2 \\mu \\frac{d}{d s} \\operatorname{x^{0}}{\\left(s \\right)} \\frac{d}{d s} \\operatorname{x^{1}}{\\left(s \\right)} + r^{2} \\frac{d^{2}}{d s^{2}} \\operatorname{x^{0}}{\\left(s \\right)}}{r \\left(- 2 \\mu + r\\right)}$"
     },
     "metadata": {},
     "execution_count": 5
    }
   ],
   "source": [
    "Geodesic[0][0]"
   ]
  },
  {
   "cell_type": "code",
   "execution_count": 14,
   "metadata": {},
   "outputs": [
    {
     "output_type": "execute_result",
     "data": {
      "text/plain": [
       "(-4*c**2*mu**3*Derivative(x__0(s), s)**2 + 4*c**2*mu**2*r*Derivative(x__0(s), s)**2 - c**2*mu*r**2*Derivative(x__0(s), s)**2 + 4*mu**2*r**3*sin(theta)**2*Derivative(x__3(s), s)**2 + 4*mu**2*r**3*Derivative(x__2(s), s)**2 - 4*mu*r**4*sin(theta)**2*Derivative(x__3(s), s)**2 - 4*mu*r**4*Derivative(x__2(s), s)**2 + 2*mu*r**3*Derivative(x__1(s), (s, 2)) + mu*r**2*Derivative(x__1(s), s)**2 + r**5*sin(theta)**2*Derivative(x__3(s), s)**2 + r**5*Derivative(x__2(s), s)**2 - r**4*Derivative(x__1(s), (s, 2)))/(r**3*(2*mu - r))"
      ],
      "text/latex": "$\\displaystyle \\frac{- 4 c^{2} \\mu^{3} \\left(\\frac{d}{d s} \\operatorname{x^{0}}{\\left(s \\right)}\\right)^{2} + 4 c^{2} \\mu^{2} r \\left(\\frac{d}{d s} \\operatorname{x^{0}}{\\left(s \\right)}\\right)^{2} - c^{2} \\mu r^{2} \\left(\\frac{d}{d s} \\operatorname{x^{0}}{\\left(s \\right)}\\right)^{2} + 4 \\mu^{2} r^{3} \\sin^{2}{\\left(\\theta \\right)} \\left(\\frac{d}{d s} \\operatorname{x^{3}}{\\left(s \\right)}\\right)^{2} + 4 \\mu^{2} r^{3} \\left(\\frac{d}{d s} \\operatorname{x^{2}}{\\left(s \\right)}\\right)^{2} - 4 \\mu r^{4} \\sin^{2}{\\left(\\theta \\right)} \\left(\\frac{d}{d s} \\operatorname{x^{3}}{\\left(s \\right)}\\right)^{2} - 4 \\mu r^{4} \\left(\\frac{d}{d s} \\operatorname{x^{2}}{\\left(s \\right)}\\right)^{2} + 2 \\mu r^{3} \\frac{d^{2}}{d s^{2}} \\operatorname{x^{1}}{\\left(s \\right)} + \\mu r^{2} \\left(\\frac{d}{d s} \\operatorname{x^{1}}{\\left(s \\right)}\\right)^{2} + r^{5} \\sin^{2}{\\left(\\theta \\right)} \\left(\\frac{d}{d s} \\operatorname{x^{3}}{\\left(s \\right)}\\right)^{2} + r^{5} \\left(\\frac{d}{d s} \\operatorname{x^{2}}{\\left(s \\right)}\\right)^{2} - r^{4} \\frac{d^{2}}{d s^{2}} \\operatorname{x^{1}}{\\left(s \\right)}}{r^{3} \\left(2 \\mu - r\\right)}$"
     },
     "metadata": {},
     "execution_count": 14
    }
   ],
   "source": [
    "sp.simplify(Geodesic[0][1])"
   ]
  },
  {
   "cell_type": "code",
   "execution_count": null,
   "metadata": {},
   "outputs": [],
   "source": []
  },
  {
   "cell_type": "code",
   "execution_count": null,
   "metadata": {},
   "outputs": [],
   "source": []
  }
 ]
}