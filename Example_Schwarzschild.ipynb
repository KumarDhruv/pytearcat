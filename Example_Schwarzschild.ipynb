{
 "cells": [
  {
   "cell_type": "markdown",
   "metadata": {},
   "source": [
    "## This Notebook provides an example of general usage of the module pytensor."
   ]
  },
  {
   "cell_type": "markdown",
   "metadata": {},
   "source": [
    "First, we import the module, aswell as other usefull packages."
   ]
  },
  {
   "cell_type": "code",
   "execution_count": 1,
   "metadata": {},
   "outputs": [],
   "source": [
    "import pytearcat as pt\n",
    "import sympy as sp\n",
    "import imp"
   ]
  },
  {
   "cell_type": "code",
   "execution_count": 9,
   "metadata": {},
   "outputs": [],
   "source": [
    "pt.Tensor.core.config.space_time = False\n",
    "Levi = pt.LeviCivita('Levi')"
   ]
  },
  {
   "cell_type": "code",
   "execution_count": 19,
   "metadata": {},
   "outputs": [
    {
     "ename": "IndexError",
     "evalue": "list index out of range",
     "output_type": "error",
     "traceback": [
      "\u001b[0;31m---------------------------------------------------------------------------\u001b[0m",
      "\u001b[0;31mIndexError\u001b[0m                                Traceback (most recent call last)",
      "\u001b[0;32m<ipython-input-19-0e273ad9af11>\u001b[0m in \u001b[0;36m<module>\u001b[0;34m\u001b[0m\n\u001b[1;32m      3\u001b[0m \u001b[0mA\u001b[0m \u001b[0;34m=\u001b[0m \u001b[0mpt\u001b[0m\u001b[0;34m.\u001b[0m\u001b[0mnew_ten\u001b[0m\u001b[0;34m(\u001b[0m\u001b[0;34m'A'\u001b[0m\u001b[0;34m,\u001b[0m\u001b[0;36m2\u001b[0m\u001b[0;34m)\u001b[0m\u001b[0;34m\u001b[0m\u001b[0;34m\u001b[0m\u001b[0m\n\u001b[1;32m      4\u001b[0m \u001b[0;34m\u001b[0m\u001b[0m\n\u001b[0;32m----> 5\u001b[0;31m \u001b[0mA\u001b[0m\u001b[0;34m.\u001b[0m\u001b[0massign\u001b[0m\u001b[0;34m(\u001b[0m\u001b[0mvalue\u001b[0m\u001b[0;34m,\u001b[0m\u001b[0;34m'_,_'\u001b[0m\u001b[0;34m)\u001b[0m\u001b[0;34m\u001b[0m\u001b[0;34m\u001b[0m\u001b[0m\n\u001b[0m",
      "\u001b[0;32m~/Documents/Code/pytearcat/pytearcat/Tensor/tensor_class.py\u001b[0m in \u001b[0;36massign\u001b[0;34m(self, elements, index, All, printing)\u001b[0m\n\u001b[1;32m    749\u001b[0m                 \u001b[0mi\u001b[0m \u001b[0;34m=\u001b[0m \u001b[0;36m0\u001b[0m\u001b[0;34m\u001b[0m\u001b[0;34m\u001b[0m\u001b[0m\n\u001b[1;32m    750\u001b[0m \u001b[0;34m\u001b[0m\u001b[0m\n\u001b[0;32m--> 751\u001b[0;31m                 \u001b[0;32mwhile\u001b[0m \u001b[0mold_lista\u001b[0m\u001b[0;34m[\u001b[0m\u001b[0mj\u001b[0m\u001b[0;34m]\u001b[0m\u001b[0;34m[\u001b[0m\u001b[0;36m1\u001b[0m\u001b[0;34m:\u001b[0m\u001b[0;34m]\u001b[0m \u001b[0;34m!=\u001b[0m \u001b[0mnew_lista\u001b[0m\u001b[0;34m[\u001b[0m\u001b[0mi\u001b[0m\u001b[0;34m]\u001b[0m\u001b[0;34m[\u001b[0m\u001b[0;36m1\u001b[0m\u001b[0;34m:\u001b[0m\u001b[0;34m]\u001b[0m\u001b[0;34m:\u001b[0m\u001b[0;34m\u001b[0m\u001b[0;34m\u001b[0m\u001b[0m\n\u001b[0m\u001b[1;32m    752\u001b[0m \u001b[0;34m\u001b[0m\u001b[0m\n\u001b[1;32m    753\u001b[0m                     \u001b[0mi\u001b[0m \u001b[0;34m+=\u001b[0m \u001b[0;36m1\u001b[0m\u001b[0;34m\u001b[0m\u001b[0;34m\u001b[0m\u001b[0m\n",
      "\u001b[0;31mIndexError\u001b[0m: list index out of range"
     ]
    }
   ],
   "source": [
    "\n",
    "value = g('_i,_j')*g('^i,_k')\n",
    "\n",
    "A = pt.new_ten('A',2)\n",
    "\n",
    "A.assign(value,'_,_')"
   ]
  },
  {
   "cell_type": "code",
   "execution_count": 15,
   "metadata": {},
   "outputs": [
    {
     "data": {
      "text/latex": [
       "$\\displaystyle \\left[\\begin{matrix}\\text{NaN} & \\text{NaN} & \\text{NaN} & \\text{NaN}\\\\\\text{NaN} & \\text{NaN} & \\text{NaN} & \\text{NaN}\\\\\\text{NaN} & \\text{NaN} & \\text{NaN} & \\text{NaN}\\\\\\text{NaN} & \\text{NaN} & \\text{NaN} & \\text{NaN}\\end{matrix}\\right]$"
      ],
      "text/plain": [
       "⎡nan  nan  nan  nan⎤\n",
       "⎢                  ⎥\n",
       "⎢nan  nan  nan  nan⎥\n",
       "⎢                  ⎥\n",
       "⎢nan  nan  nan  nan⎥\n",
       "⎢                  ⎥\n",
       "⎣nan  nan  nan  nan⎦"
      ]
     },
     "metadata": {},
     "output_type": "display_data"
    }
   ],
   "source": [
    "A = pt.new_ten('A',2)\n",
    "A.display('_,_')"
   ]
  },
  {
   "cell_type": "code",
   "execution_count": 7,
   "metadata": {},
   "outputs": [
    {
     "data": {
      "text/latex": [
       "$\\displaystyle {Levi}{}_{0}{}_{1}{}_{2}{}_{3} = 1$"
      ],
      "text/plain": [
       "<IPython.core.display.Math object>"
      ]
     },
     "metadata": {},
     "output_type": "display_data"
    },
    {
     "data": {
      "text/latex": [
       "$\\displaystyle {Levi}{}_{0}{}_{1}{}_{3}{}_{2} = -1$"
      ],
      "text/plain": [
       "<IPython.core.display.Math object>"
      ]
     },
     "metadata": {},
     "output_type": "display_data"
    },
    {
     "data": {
      "text/latex": [
       "$\\displaystyle {Levi}{}_{0}{}_{2}{}_{1}{}_{3} = -1$"
      ],
      "text/plain": [
       "<IPython.core.display.Math object>"
      ]
     },
     "metadata": {},
     "output_type": "display_data"
    },
    {
     "data": {
      "text/latex": [
       "$\\displaystyle {Levi}{}_{0}{}_{2}{}_{3}{}_{1} = 1$"
      ],
      "text/plain": [
       "<IPython.core.display.Math object>"
      ]
     },
     "metadata": {},
     "output_type": "display_data"
    },
    {
     "data": {
      "text/latex": [
       "$\\displaystyle {Levi}{}_{0}{}_{3}{}_{1}{}_{2} = 1$"
      ],
      "text/plain": [
       "<IPython.core.display.Math object>"
      ]
     },
     "metadata": {},
     "output_type": "display_data"
    },
    {
     "data": {
      "text/latex": [
       "$\\displaystyle {Levi}{}_{0}{}_{3}{}_{2}{}_{1} = -1$"
      ],
      "text/plain": [
       "<IPython.core.display.Math object>"
      ]
     },
     "metadata": {},
     "output_type": "display_data"
    },
    {
     "data": {
      "text/latex": [
       "$\\displaystyle {Levi}{}_{1}{}_{0}{}_{2}{}_{3} = -1$"
      ],
      "text/plain": [
       "<IPython.core.display.Math object>"
      ]
     },
     "metadata": {},
     "output_type": "display_data"
    },
    {
     "data": {
      "text/latex": [
       "$\\displaystyle {Levi}{}_{1}{}_{0}{}_{3}{}_{2} = 1$"
      ],
      "text/plain": [
       "<IPython.core.display.Math object>"
      ]
     },
     "metadata": {},
     "output_type": "display_data"
    },
    {
     "data": {
      "text/latex": [
       "$\\displaystyle {Levi}{}_{1}{}_{2}{}_{0}{}_{3} = 1$"
      ],
      "text/plain": [
       "<IPython.core.display.Math object>"
      ]
     },
     "metadata": {},
     "output_type": "display_data"
    },
    {
     "data": {
      "text/latex": [
       "$\\displaystyle {Levi}{}_{1}{}_{2}{}_{3}{}_{0} = -1$"
      ],
      "text/plain": [
       "<IPython.core.display.Math object>"
      ]
     },
     "metadata": {},
     "output_type": "display_data"
    },
    {
     "data": {
      "text/latex": [
       "$\\displaystyle {Levi}{}_{1}{}_{3}{}_{0}{}_{2} = -1$"
      ],
      "text/plain": [
       "<IPython.core.display.Math object>"
      ]
     },
     "metadata": {},
     "output_type": "display_data"
    },
    {
     "data": {
      "text/latex": [
       "$\\displaystyle {Levi}{}_{1}{}_{3}{}_{2}{}_{0} = 1$"
      ],
      "text/plain": [
       "<IPython.core.display.Math object>"
      ]
     },
     "metadata": {},
     "output_type": "display_data"
    },
    {
     "data": {
      "text/latex": [
       "$\\displaystyle {Levi}{}_{2}{}_{0}{}_{1}{}_{3} = 1$"
      ],
      "text/plain": [
       "<IPython.core.display.Math object>"
      ]
     },
     "metadata": {},
     "output_type": "display_data"
    },
    {
     "data": {
      "text/latex": [
       "$\\displaystyle {Levi}{}_{2}{}_{0}{}_{3}{}_{1} = -1$"
      ],
      "text/plain": [
       "<IPython.core.display.Math object>"
      ]
     },
     "metadata": {},
     "output_type": "display_data"
    },
    {
     "data": {
      "text/latex": [
       "$\\displaystyle {Levi}{}_{2}{}_{1}{}_{0}{}_{3} = -1$"
      ],
      "text/plain": [
       "<IPython.core.display.Math object>"
      ]
     },
     "metadata": {},
     "output_type": "display_data"
    },
    {
     "data": {
      "text/latex": [
       "$\\displaystyle {Levi}{}_{2}{}_{1}{}_{3}{}_{0} = 1$"
      ],
      "text/plain": [
       "<IPython.core.display.Math object>"
      ]
     },
     "metadata": {},
     "output_type": "display_data"
    },
    {
     "data": {
      "text/latex": [
       "$\\displaystyle {Levi}{}_{2}{}_{3}{}_{0}{}_{1} = 1$"
      ],
      "text/plain": [
       "<IPython.core.display.Math object>"
      ]
     },
     "metadata": {},
     "output_type": "display_data"
    },
    {
     "data": {
      "text/latex": [
       "$\\displaystyle {Levi}{}_{2}{}_{3}{}_{1}{}_{0} = -1$"
      ],
      "text/plain": [
       "<IPython.core.display.Math object>"
      ]
     },
     "metadata": {},
     "output_type": "display_data"
    },
    {
     "data": {
      "text/latex": [
       "$\\displaystyle {Levi}{}_{3}{}_{0}{}_{1}{}_{2} = -1$"
      ],
      "text/plain": [
       "<IPython.core.display.Math object>"
      ]
     },
     "metadata": {},
     "output_type": "display_data"
    },
    {
     "data": {
      "text/latex": [
       "$\\displaystyle {Levi}{}_{3}{}_{0}{}_{2}{}_{1} = 1$"
      ],
      "text/plain": [
       "<IPython.core.display.Math object>"
      ]
     },
     "metadata": {},
     "output_type": "display_data"
    },
    {
     "data": {
      "text/latex": [
       "$\\displaystyle {Levi}{}_{3}{}_{1}{}_{0}{}_{2} = 1$"
      ],
      "text/plain": [
       "<IPython.core.display.Math object>"
      ]
     },
     "metadata": {},
     "output_type": "display_data"
    },
    {
     "data": {
      "text/latex": [
       "$\\displaystyle {Levi}{}_{3}{}_{1}{}_{2}{}_{0} = -1$"
      ],
      "text/plain": [
       "<IPython.core.display.Math object>"
      ]
     },
     "metadata": {},
     "output_type": "display_data"
    },
    {
     "data": {
      "text/latex": [
       "$\\displaystyle {Levi}{}_{3}{}_{2}{}_{0}{}_{1} = -1$"
      ],
      "text/plain": [
       "<IPython.core.display.Math object>"
      ]
     },
     "metadata": {},
     "output_type": "display_data"
    },
    {
     "data": {
      "text/latex": [
       "$\\displaystyle {Levi}{}_{3}{}_{2}{}_{1}{}_{0} = 1$"
      ],
      "text/plain": [
       "<IPython.core.display.Math object>"
      ]
     },
     "metadata": {},
     "output_type": "display_data"
    }
   ],
   "source": [
    "Levi.display()"
   ]
  },
  {
   "cell_type": "markdown",
   "metadata": {},
   "source": [
    "The coordinates and constants are defined before creating the metric, which in this case corresponds to the Schwarzschild metric. "
   ]
  },
  {
   "cell_type": "code",
   "execution_count": 8,
   "metadata": {},
   "outputs": [
    {
     "name": "stdout",
     "output_type": "stream",
     "text": [
      "Remember that the time coordinate must be the first coordinate.\n",
      "Constant(s) already defined.\n",
      "The metric has already been defined. Do you want to overwrite it? (yes/no)y\n",
      "The metric has been redefined. Standard tensors have been deleted.\n",
      "\n",
      "Dimension = 4\n",
      "Coordinates = t,r,theta,phi\n",
      "Metric was defined successfully: \n",
      "\n"
     ]
    },
    {
     "data": {
      "text/latex": [
       "$\\displaystyle ds^2 = \\left(- \\frac{a}{r} - 1\\right) \\cdot dt^2+\\frac{1}{\\frac{a}{r} + 1} \\cdot dr^2+r^{2} \\cdot d\\theta^2+r^{2} \\sin^{2}{\\left(\\theta \\right)} \\cdot d\\phi^2$"
      ],
      "text/plain": [
       "<IPython.core.display.Math object>"
      ]
     },
     "metadata": {},
     "output_type": "display_data"
    },
    {
     "data": {
      "text/latex": [
       "$\\displaystyle \\left[\\begin{matrix}- \\frac{a}{r} - 1 & 0 & 0 & 0\\\\0 & \\frac{1}{\\frac{a}{r} + 1} & 0 & 0\\\\0 & 0 & r^{2} & 0\\\\0 & 0 & 0 & r^{2} \\sin^{2}{\\left(\\theta \\right)}\\end{matrix}\\right]$"
      ],
      "text/plain": [
       "⎡  a                           ⎤\n",
       "⎢- ─ - 1    0    0       0     ⎥\n",
       "⎢  r                           ⎥\n",
       "⎢                              ⎥\n",
       "⎢           1                  ⎥\n",
       "⎢   0     ─────  0       0     ⎥\n",
       "⎢         a                    ⎥\n",
       "⎢         ─ + 1                ⎥\n",
       "⎢         r                    ⎥\n",
       "⎢                              ⎥\n",
       "⎢                 2            ⎥\n",
       "⎢   0       0    r       0     ⎥\n",
       "⎢                              ⎥\n",
       "⎢                     2    2   ⎥\n",
       "⎣   0       0    0   r ⋅sin (θ)⎦"
      ]
     },
     "metadata": {},
     "output_type": "display_data"
    }
   ],
   "source": [
    "t,r,theta,phi = pt.def_coords('t,r,theta,phi')\n",
    "a = pt.new_con('a','t')\n",
    "g = pt.create_metric('ds2 = -dt**2*(1 + (a/r)) + (1 + (a/r))**(-1)*dr**2 + r**2 * (dtheta**2 + sin(theta)**2 * dphi**2)')"
   ]
  },
  {
   "cell_type": "markdown",
   "metadata": {},
   "source": [
    "We compute the Christoffel symbols of second kind"
   ]
  },
  {
   "cell_type": "code",
   "execution_count": 3,
   "metadata": {},
   "outputs": [
    {
     "data": {
      "text/latex": [
       "Christoffel $\\Gamma_{\\alpha \\beta \\gamma}$ and $\\Gamma^{\\alpha}_{\\beta \\gamma}$"
      ],
      "text/plain": [
       "<IPython.core.display.Latex object>"
      ]
     },
     "metadata": {},
     "output_type": "display_data"
    },
    {
     "data": {
      "application/vnd.jupyter.widget-view+json": {
       "model_id": "fd4360a736af43f289d8a4d8502da042",
       "version_major": 2,
       "version_minor": 0
      },
      "text/plain": [
       "  0%|          | 0/64 [00:00<?, ?it/s]"
      ]
     },
     "metadata": {},
     "output_type": "display_data"
    },
    {
     "data": {
      "text/latex": [
       "$\\displaystyle {\\Gamma}{}^{0}{}_{0}{}_{0} = \\frac{\\frac{d}{d t} a{\\left(t \\right)}}{2 \\left(r + a{\\left(t \\right)}\\right)}$"
      ],
      "text/plain": [
       "<IPython.core.display.Math object>"
      ]
     },
     "metadata": {},
     "output_type": "display_data"
    },
    {
     "data": {
      "text/latex": [
       "$\\displaystyle {\\Gamma}{}^{0}{}_{0}{}_{1} = - \\frac{a{\\left(t \\right)}}{2 r \\left(r + a{\\left(t \\right)}\\right)}$"
      ],
      "text/plain": [
       "<IPython.core.display.Math object>"
      ]
     },
     "metadata": {},
     "output_type": "display_data"
    },
    {
     "data": {
      "text/latex": [
       "$\\displaystyle {\\Gamma}{}^{0}{}_{1}{}_{0} = - \\frac{a{\\left(t \\right)}}{2 r \\left(r + a{\\left(t \\right)}\\right)}$"
      ],
      "text/plain": [
       "<IPython.core.display.Math object>"
      ]
     },
     "metadata": {},
     "output_type": "display_data"
    },
    {
     "data": {
      "text/latex": [
       "$\\displaystyle {\\Gamma}{}^{0}{}_{1}{}_{1} = - \\frac{r^{2} \\frac{d}{d t} a{\\left(t \\right)}}{2 \\left(r + a{\\left(t \\right)}\\right)^{3}}$"
      ],
      "text/plain": [
       "<IPython.core.display.Math object>"
      ]
     },
     "metadata": {},
     "output_type": "display_data"
    },
    {
     "data": {
      "text/latex": [
       "$\\displaystyle {\\Gamma}{}^{1}{}_{0}{}_{0} = - \\frac{\\left(r + a{\\left(t \\right)}\\right) a{\\left(t \\right)}}{2 r^{3}}$"
      ],
      "text/plain": [
       "<IPython.core.display.Math object>"
      ]
     },
     "metadata": {},
     "output_type": "display_data"
    },
    {
     "data": {
      "text/latex": [
       "$\\displaystyle {\\Gamma}{}^{1}{}_{0}{}_{1} = - \\frac{\\frac{d}{d t} a{\\left(t \\right)}}{2 \\left(r + a{\\left(t \\right)}\\right)}$"
      ],
      "text/plain": [
       "<IPython.core.display.Math object>"
      ]
     },
     "metadata": {},
     "output_type": "display_data"
    },
    {
     "data": {
      "text/latex": [
       "$\\displaystyle {\\Gamma}{}^{1}{}_{1}{}_{0} = - \\frac{\\frac{d}{d t} a{\\left(t \\right)}}{2 \\left(r + a{\\left(t \\right)}\\right)}$"
      ],
      "text/plain": [
       "<IPython.core.display.Math object>"
      ]
     },
     "metadata": {},
     "output_type": "display_data"
    },
    {
     "data": {
      "text/latex": [
       "$\\displaystyle {\\Gamma}{}^{1}{}_{1}{}_{1} = \\frac{a{\\left(t \\right)}}{2 r \\left(r + a{\\left(t \\right)}\\right)}$"
      ],
      "text/plain": [
       "<IPython.core.display.Math object>"
      ]
     },
     "metadata": {},
     "output_type": "display_data"
    },
    {
     "data": {
      "text/latex": [
       "$\\displaystyle {\\Gamma}{}^{1}{}_{2}{}_{2} = - r - a{\\left(t \\right)}$"
      ],
      "text/plain": [
       "<IPython.core.display.Math object>"
      ]
     },
     "metadata": {},
     "output_type": "display_data"
    },
    {
     "data": {
      "text/latex": [
       "$\\displaystyle {\\Gamma}{}^{1}{}_{3}{}_{3} = - \\left(r + a{\\left(t \\right)}\\right) \\sin^{2}{\\left(\\theta \\right)}$"
      ],
      "text/plain": [
       "<IPython.core.display.Math object>"
      ]
     },
     "metadata": {},
     "output_type": "display_data"
    },
    {
     "data": {
      "text/latex": [
       "$\\displaystyle {\\Gamma}{}^{2}{}_{1}{}_{2} = \\frac{1}{r}$"
      ],
      "text/plain": [
       "<IPython.core.display.Math object>"
      ]
     },
     "metadata": {},
     "output_type": "display_data"
    },
    {
     "data": {
      "text/latex": [
       "$\\displaystyle {\\Gamma}{}^{2}{}_{2}{}_{1} = \\frac{1}{r}$"
      ],
      "text/plain": [
       "<IPython.core.display.Math object>"
      ]
     },
     "metadata": {},
     "output_type": "display_data"
    },
    {
     "data": {
      "text/latex": [
       "$\\displaystyle {\\Gamma}{}^{2}{}_{3}{}_{3} = - \\sin{\\left(\\theta \\right)} \\cos{\\left(\\theta \\right)}$"
      ],
      "text/plain": [
       "<IPython.core.display.Math object>"
      ]
     },
     "metadata": {},
     "output_type": "display_data"
    },
    {
     "data": {
      "text/latex": [
       "$\\displaystyle {\\Gamma}{}^{3}{}_{1}{}_{3} = \\frac{1}{r}$"
      ],
      "text/plain": [
       "<IPython.core.display.Math object>"
      ]
     },
     "metadata": {},
     "output_type": "display_data"
    },
    {
     "data": {
      "text/latex": [
       "$\\displaystyle {\\Gamma}{}^{3}{}_{2}{}_{3} = \\frac{\\cos{\\left(\\theta \\right)}}{\\sin{\\left(\\theta \\right)}}$"
      ],
      "text/plain": [
       "<IPython.core.display.Math object>"
      ]
     },
     "metadata": {},
     "output_type": "display_data"
    },
    {
     "data": {
      "text/latex": [
       "$\\displaystyle {\\Gamma}{}^{3}{}_{3}{}_{1} = \\frac{1}{r}$"
      ],
      "text/plain": [
       "<IPython.core.display.Math object>"
      ]
     },
     "metadata": {},
     "output_type": "display_data"
    },
    {
     "data": {
      "text/latex": [
       "$\\displaystyle {\\Gamma}{}^{3}{}_{3}{}_{2} = \\frac{\\cos{\\left(\\theta \\right)}}{\\sin{\\left(\\theta \\right)}}$"
      ],
      "text/plain": [
       "<IPython.core.display.Math object>"
      ]
     },
     "metadata": {},
     "output_type": "display_data"
    }
   ],
   "source": [
    "Chr = pt.christoffel()\n",
    "Chr.display('^,_,_',aslist=True)"
   ]
  },
  {
   "cell_type": "markdown",
   "metadata": {},
   "source": [
    "Then, the geodesic is computed."
   ]
  },
  {
   "cell_type": "code",
   "execution_count": 4,
   "metadata": {},
   "outputs": [
    {
     "data": {
      "application/vnd.jupyter.widget-view+json": {
       "model_id": "d8828a7217c54b6cbd76d9f83a661533",
       "version_major": 2,
       "version_minor": 0
      },
      "text/plain": [
       "  0%|          | 0/64 [00:00<?, ?it/s]"
      ]
     },
     "metadata": {},
     "output_type": "display_data"
    }
   ],
   "source": [
    "Geodesic = pt.geodesic()[0]"
   ]
  },
  {
   "cell_type": "code",
   "execution_count": 5,
   "metadata": {},
   "outputs": [
    {
     "data": {
      "text/latex": [
       "$\\displaystyle \\frac{2 r^{4} \\frac{d^{2}}{d s^{2}} \\operatorname{x^{0}}{\\left(s \\right)} + 6 r^{3} a{\\left(t \\right)} \\frac{d^{2}}{d s^{2}} \\operatorname{x^{0}}{\\left(s \\right)} + r^{3} \\frac{d}{d t} a{\\left(t \\right)} \\left(\\frac{d}{d s} \\operatorname{x^{0}}{\\left(s \\right)}\\right)^{2} - r^{3} \\frac{d}{d t} a{\\left(t \\right)} \\left(\\frac{d}{d s} \\operatorname{x^{1}}{\\left(s \\right)}\\right)^{2} + 6 r^{2} a^{2}{\\left(t \\right)} \\frac{d^{2}}{d s^{2}} \\operatorname{x^{0}}{\\left(s \\right)} + 2 r^{2} a{\\left(t \\right)} \\frac{d}{d t} a{\\left(t \\right)} \\left(\\frac{d}{d s} \\operatorname{x^{0}}{\\left(s \\right)}\\right)^{2} - 2 r^{2} a{\\left(t \\right)} \\frac{d}{d s} \\operatorname{x^{0}}{\\left(s \\right)} \\frac{d}{d s} \\operatorname{x^{1}}{\\left(s \\right)} + 2 r a^{3}{\\left(t \\right)} \\frac{d^{2}}{d s^{2}} \\operatorname{x^{0}}{\\left(s \\right)} + r a^{2}{\\left(t \\right)} \\frac{d}{d t} a{\\left(t \\right)} \\left(\\frac{d}{d s} \\operatorname{x^{0}}{\\left(s \\right)}\\right)^{2} - 4 r a^{2}{\\left(t \\right)} \\frac{d}{d s} \\operatorname{x^{0}}{\\left(s \\right)} \\frac{d}{d s} \\operatorname{x^{1}}{\\left(s \\right)} - 2 a^{3}{\\left(t \\right)} \\frac{d}{d s} \\operatorname{x^{0}}{\\left(s \\right)} \\frac{d}{d s} \\operatorname{x^{1}}{\\left(s \\right)}}{2 r \\left(r + a{\\left(t \\right)}\\right)^{3}}$"
      ],
      "text/plain": [
       "       2                      2                                 2             \n",
       "   4  d              3       d            3 d        ⎛d        ⎞     3 d      \n",
       "2⋅r ⋅───(x⁰(s)) + 6⋅r ⋅a(t)⋅───(x⁰(s)) + r ⋅──(a(t))⋅⎜──(x⁰(s))⎟  - r ⋅──(a(t)\n",
       "       2                      2             dt       ⎝ds       ⎠       dt     \n",
       "     ds                     ds                                                \n",
       "──────────────────────────────────────────────────────────────────────────────\n",
       "                                                                              \n",
       "                                                                              \n",
       "\n",
       "             2                2                                        2      \n",
       "  ⎛d        ⎞       2  2     d              2      d        ⎛d        ⎞       \n",
       ")⋅⎜──(x¹(s))⎟  + 6⋅r ⋅a (t)⋅───(x⁰(s)) + 2⋅r ⋅a(t)⋅──(a(t))⋅⎜──(x⁰(s))⎟  - 2⋅r\n",
       "  ⎝ds       ⎠                 2                    dt       ⎝ds       ⎠       \n",
       "                            ds                                                \n",
       "──────────────────────────────────────────────────────────────────────────────\n",
       "                                                                              \n",
       "                                                                2⋅r⋅(r + a(t))\n",
       "\n",
       "                                         2                                    \n",
       "2      d         d                3     d              2    d        ⎛d       \n",
       " ⋅a(t)⋅──(x⁰(s))⋅──(x¹(s)) + 2⋅r⋅a (t)⋅───(x⁰(s)) + r⋅a (t)⋅──(a(t))⋅⎜──(x⁰(s)\n",
       "       ds        ds                      2                  dt       ⎝ds      \n",
       "                                       ds                                     \n",
       "──────────────────────────────────────────────────────────────────────────────\n",
       "3                                                                             \n",
       "                                                                              \n",
       "\n",
       "  2                                                              \n",
       " ⎞         2    d         d              3    d         d        \n",
       ")⎟  - 4⋅r⋅a (t)⋅──(x⁰(s))⋅──(x¹(s)) - 2⋅a (t)⋅──(x⁰(s))⋅──(x¹(s))\n",
       " ⎠              ds        ds                  ds        ds       \n",
       "                                                                 \n",
       "─────────────────────────────────────────────────────────────────\n",
       "                                                                 \n",
       "                                                                 "
      ]
     },
     "execution_count": 5,
     "metadata": {},
     "output_type": "execute_result"
    }
   ],
   "source": [
    "Geodesic[0]"
   ]
  },
  {
   "cell_type": "code",
   "execution_count": 6,
   "metadata": {},
   "outputs": [
    {
     "data": {
      "text/latex": [
       "$\\displaystyle - \\frac{a^{3} \\left(\\frac{d}{d s} \\operatorname{x^{0}}{\\left(s \\right)}\\right)^{2} + 2 a^{2} r^{3} \\sin^{2}{\\left(\\theta \\right)} \\left(\\frac{d}{d s} \\operatorname{x^{3}}{\\left(s \\right)}\\right)^{2} + 2 a^{2} r^{3} \\left(\\frac{d}{d s} \\operatorname{x^{2}}{\\left(s \\right)}\\right)^{2} + 2 a^{2} r \\left(\\frac{d}{d s} \\operatorname{x^{0}}{\\left(s \\right)}\\right)^{2} + 4 a r^{4} \\sin^{2}{\\left(\\theta \\right)} \\left(\\frac{d}{d s} \\operatorname{x^{3}}{\\left(s \\right)}\\right)^{2} + 4 a r^{4} \\left(\\frac{d}{d s} \\operatorname{x^{2}}{\\left(s \\right)}\\right)^{2} - 2 a r^{3} \\frac{d^{2}}{d s^{2}} \\operatorname{x^{1}}{\\left(s \\right)} + a r^{2} \\left(\\frac{d}{d s} \\operatorname{x^{0}}{\\left(s \\right)}\\right)^{2} - a r^{2} \\left(\\frac{d}{d s} \\operatorname{x^{1}}{\\left(s \\right)}\\right)^{2} + 2 r^{5} \\sin^{2}{\\left(\\theta \\right)} \\left(\\frac{d}{d s} \\operatorname{x^{3}}{\\left(s \\right)}\\right)^{2} + 2 r^{5} \\left(\\frac{d}{d s} \\operatorname{x^{2}}{\\left(s \\right)}\\right)^{2} - 2 r^{4} \\frac{d^{2}}{d s^{2}} \\operatorname{x^{1}}{\\left(s \\right)}}{2 r^{3} \\left(a + r\\right)}$"
      ],
      "text/plain": [
       " ⎛              2                              2                      2       \n",
       " ⎜ 3 ⎛d        ⎞       2  3    2    ⎛d        ⎞       2  3 ⎛d        ⎞       2\n",
       "-⎜a ⋅⎜──(x⁰(s))⎟  + 2⋅a ⋅r ⋅sin (θ)⋅⎜──(x³(s))⎟  + 2⋅a ⋅r ⋅⎜──(x²(s))⎟  + 2⋅a \n",
       " ⎜   ⎝ds       ⎠                    ⎝ds       ⎠            ⎝ds       ⎠        \n",
       " ⎝                                                                            \n",
       "──────────────────────────────────────────────────────────────────────────────\n",
       "                                                                              \n",
       "                                                                              \n",
       "\n",
       "              2                             2                     2           \n",
       "   ⎛d        ⎞         4    2    ⎛d        ⎞         4 ⎛d        ⎞         3  \n",
       "⋅r⋅⎜──(x⁰(s))⎟  + 4⋅a⋅r ⋅sin (θ)⋅⎜──(x³(s))⎟  + 4⋅a⋅r ⋅⎜──(x²(s))⎟  - 2⋅a⋅r ⋅─\n",
       "   ⎝ds       ⎠                   ⎝ds       ⎠           ⎝ds       ⎠            \n",
       "                                                                             d\n",
       "──────────────────────────────────────────────────────────────────────────────\n",
       "                                                        3                     \n",
       "                                                     2⋅r ⋅(a + r)             \n",
       "\n",
       " 2                          2                   2                           2 \n",
       "d              2 ⎛d        ⎞       2 ⎛d        ⎞       5    2    ⎛d        ⎞  \n",
       "──(x¹(s)) + a⋅r ⋅⎜──(x⁰(s))⎟  - a⋅r ⋅⎜──(x¹(s))⎟  + 2⋅r ⋅sin (θ)⋅⎜──(x³(s))⎟  \n",
       " 2               ⎝ds       ⎠         ⎝ds       ⎠                 ⎝ds       ⎠  \n",
       "s                                                                             \n",
       "──────────────────────────────────────────────────────────────────────────────\n",
       "                                                                              \n",
       "                                                                              \n",
       "\n",
       "                  2          2       ⎞ \n",
       "     5 ⎛d        ⎞       4  d        ⎟ \n",
       "+ 2⋅r ⋅⎜──(x²(s))⎟  - 2⋅r ⋅───(x¹(s))⎟ \n",
       "       ⎝ds       ⎠           2       ⎟ \n",
       "                           ds        ⎠ \n",
       "───────────────────────────────────────\n",
       "                                       \n",
       "                                       "
      ]
     },
     "execution_count": 6,
     "metadata": {},
     "output_type": "execute_result"
    }
   ],
   "source": [
    "Geodesic[1]"
   ]
  },
  {
   "cell_type": "code",
   "execution_count": 7,
   "metadata": {},
   "outputs": [
    {
     "data": {
      "text/latex": [
       "$\\displaystyle \\frac{- r \\sin{\\left(\\theta \\right)} \\cos{\\left(\\theta \\right)} \\left(\\frac{d}{d s} \\operatorname{x^{3}}{\\left(s \\right)}\\right)^{2} + r \\frac{d^{2}}{d s^{2}} \\operatorname{x^{2}}{\\left(s \\right)} + 2 \\frac{d}{d s} \\operatorname{x^{1}}{\\left(s \\right)} \\frac{d}{d s} \\operatorname{x^{2}}{\\left(s \\right)}}{r}$"
      ],
      "text/plain": [
       "                             2       2                               \n",
       "                  ⎛d        ⎞       d             d         d        \n",
       "- r⋅sin(θ)⋅cos(θ)⋅⎜──(x³(s))⎟  + r⋅───(x²(s)) + 2⋅──(x¹(s))⋅──(x²(s))\n",
       "                  ⎝ds       ⎠        2            ds        ds       \n",
       "                                   ds                                \n",
       "─────────────────────────────────────────────────────────────────────\n",
       "                                  r                                  "
      ]
     },
     "execution_count": 7,
     "metadata": {},
     "output_type": "execute_result"
    }
   ],
   "source": [
    "Geodesic[2]"
   ]
  },
  {
   "cell_type": "code",
   "execution_count": 8,
   "metadata": {},
   "outputs": [
    {
     "data": {
      "text/latex": [
       "$\\displaystyle \\frac{r \\sin{\\left(\\theta \\right)} \\frac{d^{2}}{d s^{2}} \\operatorname{x^{3}}{\\left(s \\right)} + 2 r \\cos{\\left(\\theta \\right)} \\frac{d}{d s} \\operatorname{x^{2}}{\\left(s \\right)} \\frac{d}{d s} \\operatorname{x^{3}}{\\left(s \\right)} + 2 \\sin{\\left(\\theta \\right)} \\frac{d}{d s} \\operatorname{x^{1}}{\\left(s \\right)} \\frac{d}{d s} \\operatorname{x^{3}}{\\left(s \\right)}}{r \\sin{\\left(\\theta \\right)}}$"
      ],
      "text/plain": [
       "           2                                                                  \n",
       "          d                      d         d                    d         d   \n",
       "r⋅sin(θ)⋅───(x³(s)) + 2⋅r⋅cos(θ)⋅──(x²(s))⋅──(x³(s)) + 2⋅sin(θ)⋅──(x¹(s))⋅──(x\n",
       "           2                     ds        ds                   ds        ds  \n",
       "         ds                                                                   \n",
       "──────────────────────────────────────────────────────────────────────────────\n",
       "                                      r⋅sin(θ)                                \n",
       "\n",
       "     \n",
       "     \n",
       "³(s))\n",
       "     \n",
       "     \n",
       "─────\n",
       "     "
      ]
     },
     "execution_count": 8,
     "metadata": {},
     "output_type": "execute_result"
    }
   ],
   "source": [
    "Geodesic[3]"
   ]
  },
  {
   "cell_type": "code",
   "execution_count": null,
   "metadata": {},
   "outputs": [],
   "source": []
  }
 ],
 "metadata": {
  "kernelspec": {
   "display_name": "Python 3",
   "language": "python",
   "name": "python3"
  },
  "language_info": {
   "codemirror_mode": {
    "name": "ipython",
    "version": 3
   },
   "file_extension": ".py",
   "mimetype": "text/x-python",
   "name": "python",
   "nbconvert_exporter": "python",
   "pygments_lexer": "ipython3",
   "version": "3.8.2"
  }
 },
 "nbformat": 4,
 "nbformat_minor": 2
}
