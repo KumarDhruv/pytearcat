{
 "cells": [
  {
   "cell_type": "markdown",
   "metadata": {},
   "source": [
    "## This Notebook provides an example of general usage of the module pytensor."
   ]
  },
  {
   "cell_type": "markdown",
   "metadata": {},
   "source": [
    "First, we import the module, aswell as other usefull packages."
   ]
  },
  {
   "cell_type": "code",
   "execution_count": 1,
   "metadata": {},
   "outputs": [],
   "source": [
    "import pytearcat as pt\n",
    "import sympy as sp"
   ]
  },
  {
   "cell_type": "markdown",
   "metadata": {},
   "source": [
    "The coordinates and constants are defined before creating the metric, which in this case corresponds to the Schwarzschild metric. "
   ]
  },
  {
   "cell_type": "code",
   "execution_count": 2,
   "metadata": {},
   "outputs": [
    {
     "name": "stdout",
     "output_type": "stream",
     "text": [
      "Remember that the time coordinate must be the first coordinate.\n",
      "\n",
      "Dimension = 4\n",
      "Coordinates = t,r,theta,phi\n",
      "Metric was defined successfully: \n",
      "\n"
     ]
    },
    {
     "data": {
      "text/latex": [
       "$\\displaystyle ds^2 = \\left(- \\frac{a}{r} - 1\\right) \\cdot dt^2+\\frac{1}{\\frac{a}{r} + 1} \\cdot dr^2+r^{2} \\cdot d\\theta^2+r^{2} \\sin^{2}{\\left(\\theta \\right)} \\cdot d\\phi^2$"
      ],
      "text/plain": [
       "<IPython.core.display.Math object>"
      ]
     },
     "metadata": {},
     "output_type": "display_data"
    },
    {
     "data": {
      "text/latex": [
       "$\\displaystyle \\left[\\begin{matrix}- \\frac{a}{r} - 1 & 0 & 0 & 0\\\\0 & \\frac{1}{\\frac{a}{r} + 1} & 0 & 0\\\\0 & 0 & r^{2} & 0\\\\0 & 0 & 0 & r^{2} \\sin^{2}{\\left(\\theta \\right)}\\end{matrix}\\right]$"
      ],
      "text/plain": [
       "Matrix([\n",
       "[-a/r - 1,           0,    0,                  0],\n",
       "[       0, 1/(a/r + 1),    0,                  0],\n",
       "[       0,           0, r**2,                  0],\n",
       "[       0,           0,    0, r**2*sin(theta)**2]])"
      ]
     },
     "metadata": {},
     "output_type": "display_data"
    }
   ],
   "source": [
    "t,r,theta,phi = pt.def_coords('t,r,theta,phi')\n",
    "a = pt.new_con('a')\n",
    "g = pt.create_metric('ds2 = -dt**2*(1 + (a/r)) + (1 + (a/r))**(-1)*dr**2 + r**2 * (dtheta**2 + sin(theta)**2 * dphi**2)')"
   ]
  },
  {
   "cell_type": "markdown",
   "metadata": {},
   "source": [
    "We compute the Christoffel symbols of second kind"
   ]
  },
  {
   "cell_type": "code",
   "execution_count": 3,
   "metadata": {},
   "outputs": [
    {
     "data": {
      "text/latex": [
       "Christoffel $\\Gamma_{\\alpha \\beta \\gamma}$ and $\\Gamma^{\\alpha}_{\\beta \\gamma}$"
      ],
      "text/plain": [
       "<IPython.core.display.Latex object>"
      ]
     },
     "metadata": {},
     "output_type": "display_data"
    },
    {
     "data": {
      "application/vnd.jupyter.widget-view+json": {
       "model_id": "215cfab0c90f4504b22a459cdc42da1a",
       "version_major": 2,
       "version_minor": 0
      },
      "text/plain": [
       "  0%|          | 0/64 [00:00<?, ?it/s]"
      ]
     },
     "metadata": {},
     "output_type": "display_data"
    },
    {
     "data": {
      "text/latex": [
       "$\\displaystyle {\\Gamma}{}^{0}{}_{0}{}_{1} = - \\frac{a}{2 r \\left(a + r\\right)}$"
      ],
      "text/plain": [
       "<IPython.core.display.Math object>"
      ]
     },
     "metadata": {},
     "output_type": "display_data"
    },
    {
     "data": {
      "text/latex": [
       "$\\displaystyle {\\Gamma}{}^{0}{}_{1}{}_{0} = - \\frac{a}{2 r \\left(a + r\\right)}$"
      ],
      "text/plain": [
       "<IPython.core.display.Math object>"
      ]
     },
     "metadata": {},
     "output_type": "display_data"
    },
    {
     "data": {
      "text/latex": [
       "$\\displaystyle {\\Gamma}{}^{1}{}_{0}{}_{0} = - \\frac{a \\left(a + r\\right)}{2 r^{3}}$"
      ],
      "text/plain": [
       "<IPython.core.display.Math object>"
      ]
     },
     "metadata": {},
     "output_type": "display_data"
    },
    {
     "data": {
      "text/latex": [
       "$\\displaystyle {\\Gamma}{}^{1}{}_{1}{}_{1} = \\frac{a}{2 r \\left(a + r\\right)}$"
      ],
      "text/plain": [
       "<IPython.core.display.Math object>"
      ]
     },
     "metadata": {},
     "output_type": "display_data"
    },
    {
     "data": {
      "text/latex": [
       "$\\displaystyle {\\Gamma}{}^{1}{}_{2}{}_{2} = - a - r$"
      ],
      "text/plain": [
       "<IPython.core.display.Math object>"
      ]
     },
     "metadata": {},
     "output_type": "display_data"
    },
    {
     "data": {
      "text/latex": [
       "$\\displaystyle {\\Gamma}{}^{1}{}_{3}{}_{3} = - \\left(a + r\\right) \\sin^{2}{\\left(\\theta \\right)}$"
      ],
      "text/plain": [
       "<IPython.core.display.Math object>"
      ]
     },
     "metadata": {},
     "output_type": "display_data"
    },
    {
     "data": {
      "text/latex": [
       "$\\displaystyle {\\Gamma}{}^{2}{}_{1}{}_{2} = \\frac{1}{r}$"
      ],
      "text/plain": [
       "<IPython.core.display.Math object>"
      ]
     },
     "metadata": {},
     "output_type": "display_data"
    },
    {
     "data": {
      "text/latex": [
       "$\\displaystyle {\\Gamma}{}^{2}{}_{2}{}_{1} = \\frac{1}{r}$"
      ],
      "text/plain": [
       "<IPython.core.display.Math object>"
      ]
     },
     "metadata": {},
     "output_type": "display_data"
    },
    {
     "data": {
      "text/latex": [
       "$\\displaystyle {\\Gamma}{}^{2}{}_{3}{}_{3} = - \\sin{\\left(\\theta \\right)} \\cos{\\left(\\theta \\right)}$"
      ],
      "text/plain": [
       "<IPython.core.display.Math object>"
      ]
     },
     "metadata": {},
     "output_type": "display_data"
    },
    {
     "data": {
      "text/latex": [
       "$\\displaystyle {\\Gamma}{}^{3}{}_{1}{}_{3} = \\frac{1}{r}$"
      ],
      "text/plain": [
       "<IPython.core.display.Math object>"
      ]
     },
     "metadata": {},
     "output_type": "display_data"
    },
    {
     "data": {
      "text/latex": [
       "$\\displaystyle {\\Gamma}{}^{3}{}_{2}{}_{3} = \\frac{\\cos{\\left(\\theta \\right)}}{\\sin{\\left(\\theta \\right)}}$"
      ],
      "text/plain": [
       "<IPython.core.display.Math object>"
      ]
     },
     "metadata": {},
     "output_type": "display_data"
    },
    {
     "data": {
      "text/latex": [
       "$\\displaystyle {\\Gamma}{}^{3}{}_{3}{}_{1} = \\frac{1}{r}$"
      ],
      "text/plain": [
       "<IPython.core.display.Math object>"
      ]
     },
     "metadata": {},
     "output_type": "display_data"
    },
    {
     "data": {
      "text/latex": [
       "$\\displaystyle {\\Gamma}{}^{3}{}_{3}{}_{2} = \\frac{\\cos{\\left(\\theta \\right)}}{\\sin{\\left(\\theta \\right)}}$"
      ],
      "text/plain": [
       "<IPython.core.display.Math object>"
      ]
     },
     "metadata": {},
     "output_type": "display_data"
    }
   ],
   "source": [
    "Chr = pt.christoffel()\n",
    "Chr.display('^,_,_',aslist=True)"
   ]
  },
  {
   "cell_type": "markdown",
   "metadata": {},
   "source": [
    "Then, the geodesic is computed."
   ]
  },
  {
   "cell_type": "code",
   "execution_count": 4,
   "metadata": {},
   "outputs": [
    {
     "data": {
      "application/vnd.jupyter.widget-view+json": {
       "model_id": "2aebfbe2fe4e4bc092b24b70373f3559",
       "version_major": 2,
       "version_minor": 0
      },
      "text/plain": [
       "  0%|          | 0/64 [00:00<?, ?it/s]"
      ]
     },
     "metadata": {},
     "output_type": "display_data"
    }
   ],
   "source": [
    "Geodesic = pt.geodesic()[0]"
   ]
  },
  {
   "cell_type": "code",
   "execution_count": 5,
   "metadata": {},
   "outputs": [
    {
     "data": {
      "text/latex": [
       "$\\displaystyle \\frac{a r \\frac{d^{2}}{d s^{2}} \\operatorname{x^{0}}{\\left(s \\right)} - a \\frac{d}{d s} \\operatorname{x^{0}}{\\left(s \\right)} \\frac{d}{d s} \\operatorname{x^{1}}{\\left(s \\right)} + r^{2} \\frac{d^{2}}{d s^{2}} \\operatorname{x^{0}}{\\left(s \\right)}}{r \\left(a + r\\right)}$"
      ],
      "text/plain": [
       "      2                                       2       \n",
       "     d             d         d            2  d        \n",
       "a⋅r⋅───(x⁰(s)) - a⋅──(x⁰(s))⋅──(x¹(s)) + r ⋅───(x⁰(s))\n",
       "      2            ds        ds               2       \n",
       "    ds                                      ds        \n",
       "──────────────────────────────────────────────────────\n",
       "                      r⋅(a + r)                       "
      ]
     },
     "execution_count": 5,
     "metadata": {},
     "output_type": "execute_result"
    }
   ],
   "source": [
    "Geodesic[0]"
   ]
  },
  {
   "cell_type": "code",
   "execution_count": 6,
   "metadata": {},
   "outputs": [
    {
     "data": {
      "text/latex": [
       "$\\displaystyle - \\frac{a^{3} \\left(\\frac{d}{d s} \\operatorname{x^{0}}{\\left(s \\right)}\\right)^{2} + 2 a^{2} r^{3} \\sin^{2}{\\left(\\theta \\right)} \\left(\\frac{d}{d s} \\operatorname{x^{3}}{\\left(s \\right)}\\right)^{2} + 2 a^{2} r^{3} \\left(\\frac{d}{d s} \\operatorname{x^{2}}{\\left(s \\right)}\\right)^{2} + 2 a^{2} r \\left(\\frac{d}{d s} \\operatorname{x^{0}}{\\left(s \\right)}\\right)^{2} + 4 a r^{4} \\sin^{2}{\\left(\\theta \\right)} \\left(\\frac{d}{d s} \\operatorname{x^{3}}{\\left(s \\right)}\\right)^{2} + 4 a r^{4} \\left(\\frac{d}{d s} \\operatorname{x^{2}}{\\left(s \\right)}\\right)^{2} - 2 a r^{3} \\frac{d^{2}}{d s^{2}} \\operatorname{x^{1}}{\\left(s \\right)} + a r^{2} \\left(\\frac{d}{d s} \\operatorname{x^{0}}{\\left(s \\right)}\\right)^{2} - a r^{2} \\left(\\frac{d}{d s} \\operatorname{x^{1}}{\\left(s \\right)}\\right)^{2} + 2 r^{5} \\sin^{2}{\\left(\\theta \\right)} \\left(\\frac{d}{d s} \\operatorname{x^{3}}{\\left(s \\right)}\\right)^{2} + 2 r^{5} \\left(\\frac{d}{d s} \\operatorname{x^{2}}{\\left(s \\right)}\\right)^{2} - 2 r^{4} \\frac{d^{2}}{d s^{2}} \\operatorname{x^{1}}{\\left(s \\right)}}{2 r^{3} \\left(a + r\\right)}$"
      ],
      "text/plain": [
       " ⎛              2                              2                      2       \n",
       " ⎜ 3 ⎛d        ⎞       2  3    2    ⎛d        ⎞       2  3 ⎛d        ⎞       2\n",
       "-⎜a ⋅⎜──(x⁰(s))⎟  + 2⋅a ⋅r ⋅sin (θ)⋅⎜──(x³(s))⎟  + 2⋅a ⋅r ⋅⎜──(x²(s))⎟  + 2⋅a \n",
       " ⎜   ⎝ds       ⎠                    ⎝ds       ⎠            ⎝ds       ⎠        \n",
       " ⎝                                                                            \n",
       "──────────────────────────────────────────────────────────────────────────────\n",
       "                                                                              \n",
       "                                                                              \n",
       "\n",
       "              2                             2                     2           \n",
       "   ⎛d        ⎞         4    2    ⎛d        ⎞         4 ⎛d        ⎞         3  \n",
       "⋅r⋅⎜──(x⁰(s))⎟  + 4⋅a⋅r ⋅sin (θ)⋅⎜──(x³(s))⎟  + 4⋅a⋅r ⋅⎜──(x²(s))⎟  - 2⋅a⋅r ⋅─\n",
       "   ⎝ds       ⎠                   ⎝ds       ⎠           ⎝ds       ⎠            \n",
       "                                                                             d\n",
       "──────────────────────────────────────────────────────────────────────────────\n",
       "                                                        3                     \n",
       "                                                     2⋅r ⋅(a + r)             \n",
       "\n",
       " 2                          2                   2                           2 \n",
       "d              2 ⎛d        ⎞       2 ⎛d        ⎞       5    2    ⎛d        ⎞  \n",
       "──(x¹(s)) + a⋅r ⋅⎜──(x⁰(s))⎟  - a⋅r ⋅⎜──(x¹(s))⎟  + 2⋅r ⋅sin (θ)⋅⎜──(x³(s))⎟  \n",
       " 2               ⎝ds       ⎠         ⎝ds       ⎠                 ⎝ds       ⎠  \n",
       "s                                                                             \n",
       "──────────────────────────────────────────────────────────────────────────────\n",
       "                                                                              \n",
       "                                                                              \n",
       "\n",
       "                  2          2       ⎞ \n",
       "     5 ⎛d        ⎞       4  d        ⎟ \n",
       "+ 2⋅r ⋅⎜──(x²(s))⎟  - 2⋅r ⋅───(x¹(s))⎟ \n",
       "       ⎝ds       ⎠           2       ⎟ \n",
       "                           ds        ⎠ \n",
       "───────────────────────────────────────\n",
       "                                       \n",
       "                                       "
      ]
     },
     "execution_count": 6,
     "metadata": {},
     "output_type": "execute_result"
    }
   ],
   "source": [
    "Geodesic[1]"
   ]
  },
  {
   "cell_type": "code",
   "execution_count": 7,
   "metadata": {},
   "outputs": [
    {
     "data": {
      "text/latex": [
       "$\\displaystyle \\frac{- r \\sin{\\left(\\theta \\right)} \\cos{\\left(\\theta \\right)} \\left(\\frac{d}{d s} \\operatorname{x^{3}}{\\left(s \\right)}\\right)^{2} + r \\frac{d^{2}}{d s^{2}} \\operatorname{x^{2}}{\\left(s \\right)} + 2 \\frac{d}{d s} \\operatorname{x^{1}}{\\left(s \\right)} \\frac{d}{d s} \\operatorname{x^{2}}{\\left(s \\right)}}{r}$"
      ],
      "text/plain": [
       "                             2       2                               \n",
       "                  ⎛d        ⎞       d             d         d        \n",
       "- r⋅sin(θ)⋅cos(θ)⋅⎜──(x³(s))⎟  + r⋅───(x²(s)) + 2⋅──(x¹(s))⋅──(x²(s))\n",
       "                  ⎝ds       ⎠        2            ds        ds       \n",
       "                                   ds                                \n",
       "─────────────────────────────────────────────────────────────────────\n",
       "                                  r                                  "
      ]
     },
     "execution_count": 7,
     "metadata": {},
     "output_type": "execute_result"
    }
   ],
   "source": [
    "Geodesic[2]"
   ]
  },
  {
   "cell_type": "code",
   "execution_count": 8,
   "metadata": {},
   "outputs": [
    {
     "data": {
      "text/latex": [
       "$\\displaystyle \\frac{r \\sin{\\left(\\theta \\right)} \\frac{d^{2}}{d s^{2}} \\operatorname{x^{3}}{\\left(s \\right)} + 2 r \\cos{\\left(\\theta \\right)} \\frac{d}{d s} \\operatorname{x^{2}}{\\left(s \\right)} \\frac{d}{d s} \\operatorname{x^{3}}{\\left(s \\right)} + 2 \\sin{\\left(\\theta \\right)} \\frac{d}{d s} \\operatorname{x^{1}}{\\left(s \\right)} \\frac{d}{d s} \\operatorname{x^{3}}{\\left(s \\right)}}{r \\sin{\\left(\\theta \\right)}}$"
      ],
      "text/plain": [
       "           2                                                                  \n",
       "          d                      d         d                    d         d   \n",
       "r⋅sin(θ)⋅───(x³(s)) + 2⋅r⋅cos(θ)⋅──(x²(s))⋅──(x³(s)) + 2⋅sin(θ)⋅──(x¹(s))⋅──(x\n",
       "           2                     ds        ds                   ds        ds  \n",
       "         ds                                                                   \n",
       "──────────────────────────────────────────────────────────────────────────────\n",
       "                                      r⋅sin(θ)                                \n",
       "\n",
       "     \n",
       "     \n",
       "³(s))\n",
       "     \n",
       "     \n",
       "─────\n",
       "     "
      ]
     },
     "execution_count": 8,
     "metadata": {},
     "output_type": "execute_result"
    }
   ],
   "source": [
    "Geodesic[3]"
   ]
  },
  {
   "cell_type": "code",
   "execution_count": null,
   "metadata": {},
   "outputs": [],
   "source": []
  }
 ],
 "metadata": {
  "kernelspec": {
   "display_name": "Python 3",
   "language": "python",
   "name": "python3"
  },
  "language_info": {
   "codemirror_mode": {
    "name": "ipython",
    "version": 3
   },
   "file_extension": ".py",
   "mimetype": "text/x-python",
   "name": "python",
   "nbconvert_exporter": "python",
   "pygments_lexer": "ipython3",
   "version": "3.8.2"
  }
 },
 "nbformat": 4,
 "nbformat_minor": 2
}
