{
 "cells": [
  {
   "cell_type": "code",
   "execution_count": 1,
   "metadata": {},
   "outputs": [],
   "source": [
    "'''f(R) gravity is an extension of Einstein's General Relativity derived from relaxing the hypothesis that the Hilbert-Einstein action for \n",
    "the gravitational field is strictly linear in the Ricci curvature scalar R, i.e. f(R)=R'''\n",
    "import pytearcat as pt\n",
    "import sympy as sp"
   ]
  },
  {
   "cell_type": "code",
   "execution_count": 2,
   "metadata": {},
   "outputs": [
    {
     "name": "stdout",
     "output_type": "stream",
     "text": [
      "Remember that the time coordinate must be the first coordinate.\n",
      "\n",
      "Dimension = 4\n",
      "Coordinates = t,x,y,z\n",
      "Metric defined successfully: \n",
      "\n"
     ]
    },
    {
     "data": {
      "text/latex": [
       "$\\displaystyle ds^2 = 1 \\cdot dt^2- A^{2}{\\left(t \\right)} \\cdot dx^2- B^{2}{\\left(t \\right)} \\cdot dy^2- B^{2}{\\left(t \\right)} \\cdot dz^2$"
      ],
      "text/plain": [
       "<IPython.core.display.Math object>"
      ]
     },
     "metadata": {},
     "output_type": "display_data"
    },
    {
     "data": {
      "text/latex": [
       "$\\displaystyle \\left[\\begin{matrix}1 & 0 & 0 & 0\\\\0 & - A^{2}{\\left(t \\right)} & 0 & 0\\\\0 & 0 & - B^{2}{\\left(t \\right)} & 0\\\\0 & 0 & 0 & - B^{2}{\\left(t \\right)}\\end{matrix}\\right]$"
      ],
      "text/plain": [
       "Matrix([\n",
       "[1,        0,        0,        0],\n",
       "[0, -A(t)**2,        0,        0],\n",
       "[0,        0, -B(t)**2,        0],\n",
       "[0,        0,        0, -B(t)**2]])"
      ]
     },
     "metadata": {},
     "output_type": "display_data"
    }
   ],
   "source": [
    "# Taking an Example of Spatially Homogeneous and Anisotropic LRS Bianchi Type:-1 Universe\n",
    "t,x,y,z = pt.coords('t,x,y,z')\n",
    "A = pt.fun('A','t')\n",
    "B = pt.fun('B','t')\n",
    "g = pt.metric('ds2 = dt**2 - (A**2*dx**2 + B**2*dy**2 + B**2*dz**2)')"
   ]
  },
  {
   "cell_type": "code",
   "execution_count": 3,
   "metadata": {},
   "outputs": [
    {
     "data": {
      "text/latex": [
       "Christoffel $\\Gamma_{\\alpha \\beta \\gamma}$ and $\\Gamma^{\\alpha}_{\\beta \\gamma}$"
      ],
      "text/plain": [
       "<IPython.core.display.Latex object>"
      ]
     },
     "metadata": {},
     "output_type": "display_data"
    },
    {
     "data": {
      "application/vnd.jupyter.widget-view+json": {
       "model_id": "9aca8a506e554c20b392f0cae9e33747",
       "version_major": 2,
       "version_minor": 0
      },
      "text/plain": [
       "  0%|          | 0/64 [00:00<?, ?it/s]"
      ]
     },
     "metadata": {},
     "output_type": "display_data"
    },
    {
     "data": {
      "text/latex": [
       "$\\displaystyle {\\Gamma}{}^{0}\\,{}_{1}\\,{}_{1}\\, = A{\\left(t \\right)} \\frac{d}{d t} A{\\left(t \\right)}$"
      ],
      "text/plain": [
       "<IPython.core.display.Math object>"
      ]
     },
     "metadata": {},
     "output_type": "display_data"
    },
    {
     "data": {
      "text/latex": [
       "$\\displaystyle {\\Gamma}{}^{0}\\,{}_{2}\\,{}_{2}\\, = B{\\left(t \\right)} \\frac{d}{d t} B{\\left(t \\right)}$"
      ],
      "text/plain": [
       "<IPython.core.display.Math object>"
      ]
     },
     "metadata": {},
     "output_type": "display_data"
    },
    {
     "data": {
      "text/latex": [
       "$\\displaystyle {\\Gamma}{}^{0}\\,{}_{3}\\,{}_{3}\\, = B{\\left(t \\right)} \\frac{d}{d t} B{\\left(t \\right)}$"
      ],
      "text/plain": [
       "<IPython.core.display.Math object>"
      ]
     },
     "metadata": {},
     "output_type": "display_data"
    },
    {
     "data": {
      "text/latex": [
       "$\\displaystyle {\\Gamma}{}^{1}\\,{}_{0}\\,{}_{1}\\, = \\frac{\\frac{d}{d t} A{\\left(t \\right)}}{A{\\left(t \\right)}}$"
      ],
      "text/plain": [
       "<IPython.core.display.Math object>"
      ]
     },
     "metadata": {},
     "output_type": "display_data"
    },
    {
     "data": {
      "text/latex": [
       "$\\displaystyle {\\Gamma}{}^{1}\\,{}_{1}\\,{}_{0}\\, = \\frac{\\frac{d}{d t} A{\\left(t \\right)}}{A{\\left(t \\right)}}$"
      ],
      "text/plain": [
       "<IPython.core.display.Math object>"
      ]
     },
     "metadata": {},
     "output_type": "display_data"
    },
    {
     "data": {
      "text/latex": [
       "$\\displaystyle {\\Gamma}{}^{2}\\,{}_{0}\\,{}_{2}\\, = \\frac{\\frac{d}{d t} B{\\left(t \\right)}}{B{\\left(t \\right)}}$"
      ],
      "text/plain": [
       "<IPython.core.display.Math object>"
      ]
     },
     "metadata": {},
     "output_type": "display_data"
    },
    {
     "data": {
      "text/latex": [
       "$\\displaystyle {\\Gamma}{}^{2}\\,{}_{2}\\,{}_{0}\\, = \\frac{\\frac{d}{d t} B{\\left(t \\right)}}{B{\\left(t \\right)}}$"
      ],
      "text/plain": [
       "<IPython.core.display.Math object>"
      ]
     },
     "metadata": {},
     "output_type": "display_data"
    },
    {
     "data": {
      "text/latex": [
       "$\\displaystyle {\\Gamma}{}^{3}\\,{}_{0}\\,{}_{3}\\, = \\frac{\\frac{d}{d t} B{\\left(t \\right)}}{B{\\left(t \\right)}}$"
      ],
      "text/plain": [
       "<IPython.core.display.Math object>"
      ]
     },
     "metadata": {},
     "output_type": "display_data"
    },
    {
     "data": {
      "text/latex": [
       "$\\displaystyle {\\Gamma}{}^{3}\\,{}_{3}\\,{}_{0}\\, = \\frac{\\frac{d}{d t} B{\\left(t \\right)}}{B{\\left(t \\right)}}$"
      ],
      "text/plain": [
       "<IPython.core.display.Math object>"
      ]
     },
     "metadata": {},
     "output_type": "display_data"
    }
   ],
   "source": [
    "Chr = pt.christoffel()\n",
    "Chr.display(\"^,_,_\")"
   ]
  },
  {
   "cell_type": "code",
   "execution_count": 4,
   "metadata": {},
   "outputs": [
    {
     "data": {
      "text/latex": [
       "Riemann Tensor $R^{\\alpha}_{\\beta \\gamma \\delta}$"
      ],
      "text/plain": [
       "<IPython.core.display.Latex object>"
      ]
     },
     "metadata": {},
     "output_type": "display_data"
    },
    {
     "data": {
      "application/vnd.jupyter.widget-view+json": {
       "model_id": "93289740d85f4eb7aa435a5f4a64e548",
       "version_major": 2,
       "version_minor": 0
      },
      "text/plain": [
       "  0%|          | 0/256 [00:00<?, ?it/s]"
      ]
     },
     "metadata": {},
     "output_type": "display_data"
    },
    {
     "data": {
      "text/latex": [
       "Ricci Tensor $R_{\\alpha \\beta}$"
      ],
      "text/plain": [
       "<IPython.core.display.Latex object>"
      ]
     },
     "metadata": {},
     "output_type": "display_data"
    },
    {
     "data": {
      "application/vnd.jupyter.widget-view+json": {
       "model_id": "4e33aebf18134117be61af38b1a10140",
       "version_major": 2,
       "version_minor": 0
      },
      "text/plain": [
       "  0%|          | 0/16 [00:00<?, ?it/s]"
      ]
     },
     "metadata": {},
     "output_type": "display_data"
    },
    {
     "data": {
      "application/vnd.jupyter.widget-view+json": {
       "model_id": "dd43150fba7b481ea108b00df736ca28",
       "version_major": 2,
       "version_minor": 0
      },
      "text/plain": [
       "  0%|          | 0/16 [00:00<?, ?it/s]"
      ]
     },
     "metadata": {},
     "output_type": "display_data"
    },
    {
     "data": {
      "text/latex": [
       "Ricci Scalar $R$"
      ],
      "text/plain": [
       "<IPython.core.display.Latex object>"
      ]
     },
     "metadata": {},
     "output_type": "display_data"
    },
    {
     "data": {
      "text/latex": [
       "$\\displaystyle \\left[\\begin{matrix}- \\frac{2 A{\\left(t \\right)} \\frac{d^{2}}{d t^{2}} B{\\left(t \\right)} + B{\\left(t \\right)} \\frac{d^{2}}{d t^{2}} A{\\left(t \\right)}}{A{\\left(t \\right)} B{\\left(t \\right)}} & 0 & 0 & 0\\\\0 & \\frac{\\left(B{\\left(t \\right)} \\frac{d^{2}}{d t^{2}} A{\\left(t \\right)} + 2 \\frac{d}{d t} A{\\left(t \\right)} \\frac{d}{d t} B{\\left(t \\right)}\\right) A{\\left(t \\right)}}{B{\\left(t \\right)}} & 0 & 0\\\\0 & 0 & \\frac{A{\\left(t \\right)} B{\\left(t \\right)} \\frac{d^{2}}{d t^{2}} B{\\left(t \\right)} + A{\\left(t \\right)} \\left(\\frac{d}{d t} B{\\left(t \\right)}\\right)^{2} + B{\\left(t \\right)} \\frac{d}{d t} A{\\left(t \\right)} \\frac{d}{d t} B{\\left(t \\right)}}{A{\\left(t \\right)}} & 0\\\\0 & 0 & 0 & \\frac{A{\\left(t \\right)} B{\\left(t \\right)} \\frac{d^{2}}{d t^{2}} B{\\left(t \\right)} + A{\\left(t \\right)} \\left(\\frac{d}{d t} B{\\left(t \\right)}\\right)^{2} + B{\\left(t \\right)} \\frac{d}{d t} A{\\left(t \\right)} \\frac{d}{d t} B{\\left(t \\right)}}{A{\\left(t \\right)}}\\end{matrix}\\right]$"
      ],
      "text/plain": [
       "⎡ ⎛         2                2      ⎞                                         \n",
       "⎢ ⎜        d                d       ⎟                                         \n",
       "⎢-⎜2⋅A(t)⋅───(B(t)) + B(t)⋅───(A(t))⎟                                         \n",
       "⎢ ⎜         2                2      ⎟                                         \n",
       "⎢ ⎝       dt               dt       ⎠                                         \n",
       "⎢─────────────────────────────────────                       0                \n",
       "⎢              A(t)⋅B(t)                                                      \n",
       "⎢                                                                             \n",
       "⎢                                       ⎛       2                            ⎞\n",
       "⎢                                       ⎜      d            d        d       ⎟\n",
       "⎢                                       ⎜B(t)⋅───(A(t)) + 2⋅──(A(t))⋅──(B(t))⎟\n",
       "⎢                                       ⎜       2           dt       dt      ⎟\n",
       "⎢                                       ⎝     dt                             ⎠\n",
       "⎢                  0                    ──────────────────────────────────────\n",
       "⎢                                                           B(t)              \n",
       "⎢                                                                             \n",
       "⎢                                                                             \n",
       "⎢                                                                             \n",
       "⎢                                                                             \n",
       "⎢                                                                             \n",
       "⎢                                                                             \n",
       "⎢                  0                                         0                \n",
       "⎢                                                                             \n",
       "⎢                                                                             \n",
       "⎢                                                                             \n",
       "⎢                                                                             \n",
       "⎢                                                                             \n",
       "⎢                                                                             \n",
       "⎢                                                                             \n",
       "⎢                  0                                         0                \n",
       "⎣                                                                             \n",
       "\n",
       "                                                                              \n",
       "                                                                              \n",
       "                                                                              \n",
       "                                                                              \n",
       "                                                                              \n",
       "                                      0                                       \n",
       "                                                                              \n",
       "                                                                              \n",
       "                                                                              \n",
       "                                                                              \n",
       "⋅A(t)                                                                         \n",
       "                                                                              \n",
       "                                                                              \n",
       "─────                                 0                                       \n",
       "                                                                              \n",
       "                                                                              \n",
       "                   2                        2                                 \n",
       "                  d               ⎛d       ⎞         d        d               \n",
       "       A(t)⋅B(t)⋅───(B(t)) + A(t)⋅⎜──(B(t))⎟  + B(t)⋅──(A(t))⋅──(B(t))        \n",
       "                   2              ⎝dt      ⎠         dt       dt              \n",
       "                 dt                                                           \n",
       "       ───────────────────────────────────────────────────────────────        \n",
       "                                     A(t)                                     \n",
       "                                                                              \n",
       "                                                                              \n",
       "                                                                              \n",
       "                                                                        A(t)⋅B\n",
       "                                                                              \n",
       "                                                                              \n",
       "                                      0                                 ──────\n",
       "                                                                              \n",
       "\n",
       "                                                         ⎤\n",
       "                                                         ⎥\n",
       "                                                         ⎥\n",
       "                                                         ⎥\n",
       "                                                         ⎥\n",
       "                         0                               ⎥\n",
       "                                                         ⎥\n",
       "                                                         ⎥\n",
       "                                                         ⎥\n",
       "                                                         ⎥\n",
       "                                                         ⎥\n",
       "                                                         ⎥\n",
       "                                                         ⎥\n",
       "                         0                               ⎥\n",
       "                                                         ⎥\n",
       "                                                         ⎥\n",
       "                                                         ⎥\n",
       "                                                         ⎥\n",
       "                                                         ⎥\n",
       "                                                         ⎥\n",
       "                                                         ⎥\n",
       "                         0                               ⎥\n",
       "                                                         ⎥\n",
       "                                                         ⎥\n",
       "      2                        2                         ⎥\n",
       "     d               ⎛d       ⎞         d        d       ⎥\n",
       "(t)⋅───(B(t)) + A(t)⋅⎜──(B(t))⎟  + B(t)⋅──(A(t))⋅──(B(t))⎥\n",
       "      2              ⎝dt      ⎠         dt       dt      ⎥\n",
       "    dt                                                   ⎥\n",
       "─────────────────────────────────────────────────────────⎥\n",
       "                        A(t)                             ⎦"
      ]
     },
     "metadata": {},
     "output_type": "display_data"
    },
    {
     "data": {
      "text/latex": [
       "$\\displaystyle - \\frac{2 \\left(2 A{\\left(t \\right)} B{\\left(t \\right)} \\frac{d^{2}}{d t^{2}} B{\\left(t \\right)} + A{\\left(t \\right)} \\left(\\frac{d}{d t} B{\\left(t \\right)}\\right)^{2} + B^{2}{\\left(t \\right)} \\frac{d^{2}}{d t^{2}} A{\\left(t \\right)} + 2 B{\\left(t \\right)} \\frac{d}{d t} A{\\left(t \\right)} \\frac{d}{d t} B{\\left(t \\right)}\\right)}{A{\\left(t \\right)} B^{2}{\\left(t \\right)}}$"
      ],
      "text/plain": [
       "<IPython.core.display.Math object>"
      ]
     },
     "metadata": {},
     "output_type": "display_data"
    }
   ],
   "source": [
    "Ric = pt.ricci()\n",
    "RicS = pt.riccis()\n",
    "Ric.display()\n",
    "pt.display(RicS)"
   ]
  },
  {
   "cell_type": "code",
   "execution_count": 5,
   "metadata": {},
   "outputs": [
    {
     "data": {
      "text/latex": [
       "$\\displaystyle {R}{}_{0}\\,{}_{0}\\, = - \\frac{2 A{\\left(t \\right)} \\frac{d^{2}}{d t^{2}} B{\\left(t \\right)} + B{\\left(t \\right)} \\frac{d^{2}}{d t^{2}} A{\\left(t \\right)}}{A{\\left(t \\right)} B{\\left(t \\right)}}$"
      ],
      "text/plain": [
       "<IPython.core.display.Math object>"
      ]
     },
     "metadata": {},
     "output_type": "display_data"
    },
    {
     "data": {
      "text/latex": [
       "$\\displaystyle {R}{}_{1}\\,{}_{1}\\, = \\frac{\\left(B{\\left(t \\right)} \\frac{d^{2}}{d t^{2}} A{\\left(t \\right)} + 2 \\frac{d}{d t} A{\\left(t \\right)} \\frac{d}{d t} B{\\left(t \\right)}\\right) A{\\left(t \\right)}}{B{\\left(t \\right)}}$"
      ],
      "text/plain": [
       "<IPython.core.display.Math object>"
      ]
     },
     "metadata": {},
     "output_type": "display_data"
    },
    {
     "data": {
      "text/latex": [
       "$\\displaystyle {R}{}_{2}\\,{}_{2}\\, = \\frac{A{\\left(t \\right)} B{\\left(t \\right)} \\frac{d^{2}}{d t^{2}} B{\\left(t \\right)} + A{\\left(t \\right)} \\left(\\frac{d}{d t} B{\\left(t \\right)}\\right)^{2} + B{\\left(t \\right)} \\frac{d}{d t} A{\\left(t \\right)} \\frac{d}{d t} B{\\left(t \\right)}}{A{\\left(t \\right)}}$"
      ],
      "text/plain": [
       "<IPython.core.display.Math object>"
      ]
     },
     "metadata": {},
     "output_type": "display_data"
    },
    {
     "data": {
      "text/latex": [
       "$\\displaystyle {R}{}_{3}\\,{}_{3}\\, = \\frac{A{\\left(t \\right)} B{\\left(t \\right)} \\frac{d^{2}}{d t^{2}} B{\\left(t \\right)} + A{\\left(t \\right)} \\left(\\frac{d}{d t} B{\\left(t \\right)}\\right)^{2} + B{\\left(t \\right)} \\frac{d}{d t} A{\\left(t \\right)} \\frac{d}{d t} B{\\left(t \\right)}}{A{\\left(t \\right)}}$"
      ],
      "text/plain": [
       "<IPython.core.display.Math object>"
      ]
     },
     "metadata": {},
     "output_type": "display_data"
    }
   ],
   "source": [
    "Ric.display('_,_',aslist=True)"
   ]
  },
  {
   "cell_type": "code",
   "execution_count": 6,
   "metadata": {},
   "outputs": [
    {
     "data": {
      "text/plain": [
       "'Keep in mind F is a Function of R '"
      ]
     },
     "execution_count": 6,
     "metadata": {},
     "output_type": "execute_result"
    }
   ],
   "source": [
    "F = sp.Function('F')(t)\n",
    "\"Keep in mind F is a Function of R \"\n",
    "\"So When You see F(t) interpreated this as F \"\n",
    "\"Where You see d(F(t))/dt interpreated rhis as (F') \"\n",
    "\"Where You see d^2(F(t))/(dt^2) interpreated rhis as (F'') \"\n",
    "\"As F is a Function of F(R) where R is a Ricci Scalar F' is d(F(R))/dt and F''is d^2(F(R))/(dt^2) \""
   ]
  },
  {
   "cell_type": "code",
   "execution_count": 7,
   "metadata": {},
   "outputs": [
    {
     "data": {
      "text/latex": [
       "$\\displaystyle {LHS}{}_{0}\\,{}_{0}\\, = - \\frac{F{\\left(t \\right)}}{2} + \\frac{2 \\frac{d}{d t} B{\\left(t \\right)} \\frac{d}{d t} F{\\left(t \\right)}}{B{\\left(t \\right)}} - \\frac{2 \\frac{d^{2}}{d t^{2}} B{\\left(t \\right)} \\frac{d}{d t} F{\\left(t \\right)}}{B{\\left(t \\right)}} + \\frac{\\frac{d}{d t} A{\\left(t \\right)} \\frac{d}{d t} F{\\left(t \\right)}}{A{\\left(t \\right)}} - \\frac{\\frac{d^{2}}{d t^{2}} A{\\left(t \\right)} \\frac{d}{d t} F{\\left(t \\right)}}{A{\\left(t \\right)}}$"
      ],
      "text/plain": [
       "<IPython.core.display.Math object>"
      ]
     },
     "metadata": {},
     "output_type": "display_data"
    },
    {
     "data": {
      "text/latex": [
       "$\\displaystyle {LHS}{}_{1}\\,{}_{1}\\, = \\frac{A^{2}{\\left(t \\right)} F{\\left(t \\right)}}{2} - A^{2}{\\left(t \\right)} \\frac{d^{2}}{d t^{2}} F{\\left(t \\right)} - \\frac{2 A^{2}{\\left(t \\right)} \\frac{d}{d t} B{\\left(t \\right)} \\frac{d}{d t} F{\\left(t \\right)}}{B{\\left(t \\right)}} + A{\\left(t \\right)} \\frac{d^{2}}{d t^{2}} A{\\left(t \\right)} \\frac{d}{d t} F{\\left(t \\right)} + \\frac{2 A{\\left(t \\right)} \\frac{d}{d t} A{\\left(t \\right)} \\frac{d}{d t} B{\\left(t \\right)} \\frac{d}{d t} F{\\left(t \\right)}}{B{\\left(t \\right)}}$"
      ],
      "text/plain": [
       "<IPython.core.display.Math object>"
      ]
     },
     "metadata": {},
     "output_type": "display_data"
    },
    {
     "data": {
      "text/latex": [
       "$\\displaystyle {LHS}{}_{2}\\,{}_{2}\\, = \\frac{B^{2}{\\left(t \\right)} F{\\left(t \\right)}}{2} - B^{2}{\\left(t \\right)} \\frac{d^{2}}{d t^{2}} F{\\left(t \\right)} - B{\\left(t \\right)} \\frac{d}{d t} B{\\left(t \\right)} \\frac{d}{d t} F{\\left(t \\right)} + B{\\left(t \\right)} \\frac{d^{2}}{d t^{2}} B{\\left(t \\right)} \\frac{d}{d t} F{\\left(t \\right)} + \\left(\\frac{d}{d t} B{\\left(t \\right)}\\right)^{2} \\frac{d}{d t} F{\\left(t \\right)} - \\frac{B^{2}{\\left(t \\right)} \\frac{d}{d t} A{\\left(t \\right)} \\frac{d}{d t} F{\\left(t \\right)}}{A{\\left(t \\right)}} + \\frac{B{\\left(t \\right)} \\frac{d}{d t} A{\\left(t \\right)} \\frac{d}{d t} B{\\left(t \\right)} \\frac{d}{d t} F{\\left(t \\right)}}{A{\\left(t \\right)}}$"
      ],
      "text/plain": [
       "<IPython.core.display.Math object>"
      ]
     },
     "metadata": {},
     "output_type": "display_data"
    },
    {
     "data": {
      "text/latex": [
       "$\\displaystyle {LHS}{}_{3}\\,{}_{3}\\, = \\frac{B^{2}{\\left(t \\right)} F{\\left(t \\right)}}{2} - B^{2}{\\left(t \\right)} \\frac{d^{2}}{d t^{2}} F{\\left(t \\right)} - B{\\left(t \\right)} \\frac{d}{d t} B{\\left(t \\right)} \\frac{d}{d t} F{\\left(t \\right)} + B{\\left(t \\right)} \\frac{d^{2}}{d t^{2}} B{\\left(t \\right)} \\frac{d}{d t} F{\\left(t \\right)} + \\left(\\frac{d}{d t} B{\\left(t \\right)}\\right)^{2} \\frac{d}{d t} F{\\left(t \\right)} - \\frac{B^{2}{\\left(t \\right)} \\frac{d}{d t} A{\\left(t \\right)} \\frac{d}{d t} F{\\left(t \\right)}}{A{\\left(t \\right)}} + \\frac{B{\\left(t \\right)} \\frac{d}{d t} A{\\left(t \\right)} \\frac{d}{d t} B{\\left(t \\right)} \\frac{d}{d t} F{\\left(t \\right)}}{A{\\left(t \\right)}}$"
      ],
      "text/plain": [
       "<IPython.core.display.Math object>"
      ]
     },
     "metadata": {},
     "output_type": "display_data"
    }
   ],
   "source": [
    "'''Now we define the Left hand side (LHS) of the Einstein Field Equation in F(R) Gravity as follows'''\n",
    "LHS = pt.ten('LHS',2)\n",
    "DALAMBERT = g('^i,^j')*pt.C(pt.C(F,'_j'),'_i')\n",
    "LHS.assign(sp.diff(F,t)*Ric('_i,_j') - sp.Rational(1,2)*F*g('_i,_j')-pt.C(pt.C(F,'_j'),'_i')+g('_i,_j')*DALAMBERT,'_i,_j')\n",
    "LHS.simplify()\n",
    "LHS.display(\"_,_\",aslist=True)"
   ]
  },
  {
   "cell_type": "code",
   "execution_count": 8,
   "metadata": {},
   "outputs": [
    {
     "data": {
      "image/png": "[encoded data removed]",
      "text/latex": [
       "$\\displaystyle \\frac{d^{2}}{d t^{2}} F{\\left(t \\right)} + \\frac{2 \\frac{d}{d t} B{\\left(t \\right)} \\frac{d}{d t} F{\\left(t \\right)}}{B{\\left(t \\right)}} + \\frac{\\frac{d}{d t} A{\\left(t \\right)} \\frac{d}{d t} F{\\left(t \\right)}}{A{\\left(t \\right)}}$"
      ],
      "text/plain": [
       "              d        d          d        d       \n",
       "  2         2⋅──(B(t))⋅──(F(t))   ──(A(t))⋅──(F(t))\n",
       " d            dt       dt         dt       dt      \n",
       "───(F(t)) + ─────────────────── + ─────────────────\n",
       "  2                 B(t)                 A(t)      \n",
       "dt                                                 "
      ]
     },
     "execution_count": 8,
     "metadata": {},
     "output_type": "execute_result"
    }
   ],
   "source": [
    "'''note: if you want to display only the Dalambert of F Where F is aFunction of R, You can display only this part'''\n",
    "\n",
    "DALAMBERT.simplify()"
   ]
  },
  {
   "cell_type": "code",
   "execution_count": null,
   "metadata": {},
   "outputs": [],
   "source": [
    "'''As We mention F is a FUnction of R so Dalambert result can be interpretated as (F'') + (2B')(F')/B + (2A')(F')/A'''"
   ]
  },
  {
   "cell_type": "code",
   "execution_count": 9,
   "metadata": {},
   "outputs": [
    {
     "data": {
      "text/latex": [
       "$\\displaystyle {LHSwanted}{}_{0}\\,{}_{0}\\, = \\frac{d^{2}}{d t^{2}} F{\\left(t \\right)}$"
      ],
      "text/plain": [
       "<IPython.core.display.Math object>"
      ]
     },
     "metadata": {},
     "output_type": "display_data"
    },
    {
     "data": {
      "text/latex": [
       "$\\displaystyle {LHSwanted}{}_{1}\\,{}_{1}\\, = - A{\\left(t \\right)} \\frac{d}{d t} A{\\left(t \\right)} \\frac{d}{d t} F{\\left(t \\right)}$"
      ],
      "text/plain": [
       "<IPython.core.display.Math object>"
      ]
     },
     "metadata": {},
     "output_type": "display_data"
    },
    {
     "data": {
      "text/latex": [
       "$\\displaystyle {LHSwanted}{}_{2}\\,{}_{2}\\, = - B{\\left(t \\right)} \\frac{d}{d t} B{\\left(t \\right)} \\frac{d}{d t} F{\\left(t \\right)}$"
      ],
      "text/plain": [
       "<IPython.core.display.Math object>"
      ]
     },
     "metadata": {},
     "output_type": "display_data"
    },
    {
     "data": {
      "text/latex": [
       "$\\displaystyle {LHSwanted}{}_{3}\\,{}_{3}\\, = - B{\\left(t \\right)} \\frac{d}{d t} B{\\left(t \\right)} \\frac{d}{d t} F{\\left(t \\right)}$"
      ],
      "text/plain": [
       "<IPython.core.display.Math object>"
      ]
     },
     "metadata": {},
     "output_type": "display_data"
    }
   ],
   "source": [
    "'''if you want to show the LHS of C(C(F,i),j), then you can define a tensor as you want, e.g'''\n",
    "\n",
    "LHSwanted = pt.ten('LHSwanted', 2)\n",
    "LHSwanted.assign(pt.C(pt.C(F,'_j'),'_i'),'_i,_j')\n",
    "LHSwanted.display('_,_',aslist= True)"
   ]
  },
  {
   "cell_type": "code",
   "execution_count": null,
   "metadata": {},
   "outputs": [],
   "source": [
    "''' 1) As we Mention F is a Function of R so Again Above Result Can be interpreated as:-\n",
    "    2) LHS Wanted 00 = F''\n",
    "    3) LHS Wanted 11 = -(A')*(A)*(F')\n",
    "    5) LHS Wanted 11 = -(B')*(B)*(F')\n",
    "    6) LHS Wanted 11 = -(B')*(B)*(F')\n",
    "just Replace F(t) by F where F is a Function of R Which is Ricci Scalar'''"
   ]
  }
 ],
 "metadata": {
  "interpreter": {
   "hash": "2fe84a340ba9287c7cb1571137a812dad7cb370584e1b8cf466a33e4cc3e43d3"
  },
  "kernelspec": {
   "display_name": "Python 3 (ipykernel)",
   "language": "python",
   "name": "python3"
  },
  "language_info": {
   "codemirror_mode": {
    "name": "ipython",
    "version": 3
   },
   "file_extension": ".py",
   "mimetype": "text/x-python",
   "name": "python",
   "nbconvert_exporter": "python",
   "pygments_lexer": "ipython3",
   "version": "3.6.7"
  }
 },
 "nbformat": 4,
 "nbformat_minor": 2
}
