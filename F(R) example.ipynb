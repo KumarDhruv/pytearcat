{
 "cells": [
  {
   "cell_type": "markdown",
   "metadata": {},
   "source": [
    "# $F(R)$ example"
   ]
  },
  {
   "cell_type": "code",
   "execution_count": 1,
   "metadata": {},
   "outputs": [],
   "source": [
    "import pytearcat as pt\n",
    "import sympy as sp"
   ]
  },
  {
   "cell_type": "code",
   "execution_count": 2,
   "metadata": {},
   "outputs": [
    {
     "name": "stdout",
     "output_type": "stream",
     "text": [
      "Remember that the time coordinate must be the first coordinate.\n",
      "\n",
      "Dimension = 4\n",
      "Coordinates = t,x,y,z\n",
      "Metric defined successfully: \n",
      "\n"
     ]
    },
    {
     "data": {
      "text/latex": [
       "$\\displaystyle ds^2 = 1 \\cdot dt^2- A^{2}{\\left(t \\right)} \\cdot dx^2- B^{2}{\\left(t \\right)} \\cdot dy^2- B^{2}{\\left(t \\right)} \\cdot dz^2$"
      ],
      "text/plain": [
       "<IPython.core.display.Math object>"
      ]
     },
     "metadata": {},
     "output_type": "display_data"
    },
    {
     "data": {
      "text/latex": [
       "$\\displaystyle \\left[\\begin{matrix}1 & 0 & 0 & 0\\\\0 & - A^{2}{\\left(t \\right)} & 0 & 0\\\\0 & 0 & - B^{2}{\\left(t \\right)} & 0\\\\0 & 0 & 0 & - B^{2}{\\left(t \\right)}\\end{matrix}\\right]$"
      ],
      "text/plain": [
       "Matrix([\n",
       "[1,        0,        0,        0],\n",
       "[0, -A(t)**2,        0,        0],\n",
       "[0,        0, -B(t)**2,        0],\n",
       "[0,        0,        0, -B(t)**2]])"
      ]
     },
     "metadata": {},
     "output_type": "display_data"
    }
   ],
   "source": [
    "t,x,y,z = pt.coords('t,x,y,z')\n",
    "A = pt.fun('A','t')\n",
    "B = pt.fun('B','t')\n",
    "g = pt.metric('ds2 = dt**2 - (A**2*dx**2 + B**2*dy**2 + B**2*dz**2)')\n",
    "# I am Taking Example of Spatially Homogeneous and Anisotropic LRS Bianchi Type:-1 Universe"
   ]
  },
  {
   "cell_type": "code",
   "execution_count": 3,
   "metadata": {},
   "outputs": [
    {
     "data": {
      "text/latex": [
       "Christoffel $\\Gamma_{\\alpha \\beta \\gamma}$ and $\\Gamma^{\\alpha}_{\\beta \\gamma}$"
      ],
      "text/plain": [
       "<IPython.core.display.Latex object>"
      ]
     },
     "metadata": {},
     "output_type": "display_data"
    },
    {
     "data": {
      "application/vnd.jupyter.widget-view+json": {
       "model_id": "e9996cd7e3f347fdacd036cfdb30c937",
       "version_major": 2,
       "version_minor": 0
      },
      "text/plain": [
       "  0%|          | 0/64 [00:00<?, ?it/s]"
      ]
     },
     "metadata": {},
     "output_type": "display_data"
    },
    {
     "data": {
      "text/latex": [
       "$\\displaystyle {\\Gamma}{}^{0}\\,{}_{1}\\,{}_{1}\\, = A{\\left(t \\right)} \\frac{d}{d t} A{\\left(t \\right)}$"
      ],
      "text/plain": [
       "<IPython.core.display.Math object>"
      ]
     },
     "metadata": {},
     "output_type": "display_data"
    },
    {
     "data": {
      "text/latex": [
       "$\\displaystyle {\\Gamma}{}^{0}\\,{}_{2}\\,{}_{2}\\, = B{\\left(t \\right)} \\frac{d}{d t} B{\\left(t \\right)}$"
      ],
      "text/plain": [
       "<IPython.core.display.Math object>"
      ]
     },
     "metadata": {},
     "output_type": "display_data"
    },
    {
     "data": {
      "text/latex": [
       "$\\displaystyle {\\Gamma}{}^{0}\\,{}_{3}\\,{}_{3}\\, = B{\\left(t \\right)} \\frac{d}{d t} B{\\left(t \\right)}$"
      ],
      "text/plain": [
       "<IPython.core.display.Math object>"
      ]
     },
     "metadata": {},
     "output_type": "display_data"
    },
    {
     "data": {
      "text/latex": [
       "$\\displaystyle {\\Gamma}{}^{1}\\,{}_{0}\\,{}_{1}\\, = \\frac{\\frac{d}{d t} A{\\left(t \\right)}}{A{\\left(t \\right)}}$"
      ],
      "text/plain": [
       "<IPython.core.display.Math object>"
      ]
     },
     "metadata": {},
     "output_type": "display_data"
    },
    {
     "data": {
      "text/latex": [
       "$\\displaystyle {\\Gamma}{}^{1}\\,{}_{1}\\,{}_{0}\\, = \\frac{\\frac{d}{d t} A{\\left(t \\right)}}{A{\\left(t \\right)}}$"
      ],
      "text/plain": [
       "<IPython.core.display.Math object>"
      ]
     },
     "metadata": {},
     "output_type": "display_data"
    },
    {
     "data": {
      "text/latex": [
       "$\\displaystyle {\\Gamma}{}^{2}\\,{}_{0}\\,{}_{2}\\, = \\frac{\\frac{d}{d t} B{\\left(t \\right)}}{B{\\left(t \\right)}}$"
      ],
      "text/plain": [
       "<IPython.core.display.Math object>"
      ]
     },
     "metadata": {},
     "output_type": "display_data"
    },
    {
     "data": {
      "text/latex": [
       "$\\displaystyle {\\Gamma}{}^{2}\\,{}_{2}\\,{}_{0}\\, = \\frac{\\frac{d}{d t} B{\\left(t \\right)}}{B{\\left(t \\right)}}$"
      ],
      "text/plain": [
       "<IPython.core.display.Math object>"
      ]
     },
     "metadata": {},
     "output_type": "display_data"
    },
    {
     "data": {
      "text/latex": [
       "$\\displaystyle {\\Gamma}{}^{3}\\,{}_{0}\\,{}_{3}\\, = \\frac{\\frac{d}{d t} B{\\left(t \\right)}}{B{\\left(t \\right)}}$"
      ],
      "text/plain": [
       "<IPython.core.display.Math object>"
      ]
     },
     "metadata": {},
     "output_type": "display_data"
    },
    {
     "data": {
      "text/latex": [
       "$\\displaystyle {\\Gamma}{}^{3}\\,{}_{3}\\,{}_{0}\\, = \\frac{\\frac{d}{d t} B{\\left(t \\right)}}{B{\\left(t \\right)}}$"
      ],
      "text/plain": [
       "<IPython.core.display.Math object>"
      ]
     },
     "metadata": {},
     "output_type": "display_data"
    }
   ],
   "source": [
    "Chr = pt.christoffel()\n",
    "Chr.display(\"^,_,_\")\n",
    "# For F(R) Theory of Gravity First we Define Non Zero Christoffel Symbol "
   ]
  },
  {
   "cell_type": "code",
   "execution_count": 4,
   "metadata": {},
   "outputs": [
    {
     "data": {
      "text/latex": [
       "Riemann Tensor $R^{\\alpha}_{\\beta \\gamma \\delta}$"
      ],
      "text/plain": [
       "<IPython.core.display.Latex object>"
      ]
     },
     "metadata": {},
     "output_type": "display_data"
    },
    {
     "data": {
      "application/vnd.jupyter.widget-view+json": {
       "model_id": "e1d8427b66a54a1dacca935e26972788",
       "version_major": 2,
       "version_minor": 0
      },
      "text/plain": [
       "  0%|          | 0/256 [00:00<?, ?it/s]"
      ]
     },
     "metadata": {},
     "output_type": "display_data"
    },
    {
     "data": {
      "text/latex": [
       "Ricci Tensor $R_{\\alpha \\beta}$"
      ],
      "text/plain": [
       "<IPython.core.display.Latex object>"
      ]
     },
     "metadata": {},
     "output_type": "display_data"
    },
    {
     "data": {
      "application/vnd.jupyter.widget-view+json": {
       "model_id": "7d1c5081fe9f4d3da61ae4368f4a14a9",
       "version_major": 2,
       "version_minor": 0
      },
      "text/plain": [
       "  0%|          | 0/16 [00:00<?, ?it/s]"
      ]
     },
     "metadata": {},
     "output_type": "display_data"
    },
    {
     "data": {
      "application/vnd.jupyter.widget-view+json": {
       "model_id": "1b5a7f8f41004f2e885185e9e38b6f81",
       "version_major": 2,
       "version_minor": 0
      },
      "text/plain": [
       "  0%|          | 0/16 [00:00<?, ?it/s]"
      ]
     },
     "metadata": {},
     "output_type": "display_data"
    },
    {
     "data": {
      "text/latex": [
       "Ricci Scalar $R$"
      ],
      "text/plain": [
       "<IPython.core.display.Latex object>"
      ]
     },
     "metadata": {},
     "output_type": "display_data"
    },
    {
     "data": {
      "image/png": "[encoded data removed]",
      "text/latex": [
       "$\\displaystyle \\left[\\begin{matrix}- \\frac{2 A{\\left(t \\right)} \\frac{d^{2}}{d t^{2}} B{\\left(t \\right)} + B{\\left(t \\right)} \\frac{d^{2}}{d t^{2}} A{\\left(t \\right)}}{A{\\left(t \\right)} B{\\left(t \\right)}} & 0 & 0 & 0\\\\0 & \\frac{\\left(B{\\left(t \\right)} \\frac{d^{2}}{d t^{2}} A{\\left(t \\right)} + 2 \\frac{d}{d t} A{\\left(t \\right)} \\frac{d}{d t} B{\\left(t \\right)}\\right) A{\\left(t \\right)}}{B{\\left(t \\right)}} & 0 & 0\\\\0 & 0 & \\frac{A{\\left(t \\right)} B{\\left(t \\right)} \\frac{d^{2}}{d t^{2}} B{\\left(t \\right)} + A{\\left(t \\right)} \\left(\\frac{d}{d t} B{\\left(t \\right)}\\right)^{2} + B{\\left(t \\right)} \\frac{d}{d t} A{\\left(t \\right)} \\frac{d}{d t} B{\\left(t \\right)}}{A{\\left(t \\right)}} & 0\\\\0 & 0 & 0 & \\frac{A{\\left(t \\right)} B{\\left(t \\right)} \\frac{d^{2}}{d t^{2}} B{\\left(t \\right)} + A{\\left(t \\right)} \\left(\\frac{d}{d t} B{\\left(t \\right)}\\right)^{2} + B{\\left(t \\right)} \\frac{d}{d t} A{\\left(t \\right)} \\frac{d}{d t} B{\\left(t \\right)}}{A{\\left(t \\right)}}\\end{matrix}\\right]$"
      ],
      "text/plain": [
       "⎡ ⎛         2                2      ⎞                                         \n",
       "⎢ ⎜        d                d       ⎟                                         \n",
       "⎢-⎜2⋅A(t)⋅───(B(t)) + B(t)⋅───(A(t))⎟                                         \n",
       "⎢ ⎜         2                2      ⎟                                         \n",
       "⎢ ⎝       dt               dt       ⎠                                         \n",
       "⎢─────────────────────────────────────                       0                \n",
       "⎢              A(t)⋅B(t)                                                      \n",
       "⎢                                                                             \n",
       "⎢                                       ⎛       2                            ⎞\n",
       "⎢                                       ⎜      d            d        d       ⎟\n",
       "⎢                                       ⎜B(t)⋅───(A(t)) + 2⋅──(A(t))⋅──(B(t))⎟\n",
       "⎢                                       ⎜       2           dt       dt      ⎟\n",
       "⎢                                       ⎝     dt                             ⎠\n",
       "⎢                  0                    ──────────────────────────────────────\n",
       "⎢                                                           B(t)              \n",
       "⎢                                                                             \n",
       "⎢                                                                             \n",
       "⎢                                                                             \n",
       "⎢                                                                             \n",
       "⎢                                                                             \n",
       "⎢                                                                             \n",
       "⎢                  0                                         0                \n",
       "⎢                                                                             \n",
       "⎢                                                                             \n",
       "⎢                                                                             \n",
       "⎢                                                                             \n",
       "⎢                                                                             \n",
       "⎢                                                                             \n",
       "⎢                                                                             \n",
       "⎢                  0                                         0                \n",
       "⎣                                                                             \n",
       "\n",
       "                                                                              \n",
       "                                                                              \n",
       "                                                                              \n",
       "                                                                              \n",
       "                                                                              \n",
       "                                      0                                       \n",
       "                                                                              \n",
       "                                                                              \n",
       "                                                                              \n",
       "                                                                              \n",
       "⋅A(t)                                                                         \n",
       "                                                                              \n",
       "                                                                              \n",
       "─────                                 0                                       \n",
       "                                                                              \n",
       "                                                                              \n",
       "                   2                        2                                 \n",
       "                  d               ⎛d       ⎞         d        d               \n",
       "       A(t)⋅B(t)⋅───(B(t)) + A(t)⋅⎜──(B(t))⎟  + B(t)⋅──(A(t))⋅──(B(t))        \n",
       "                   2              ⎝dt      ⎠         dt       dt              \n",
       "                 dt                                                           \n",
       "       ───────────────────────────────────────────────────────────────        \n",
       "                                     A(t)                                     \n",
       "                                                                              \n",
       "                                                                              \n",
       "                                                                              \n",
       "                                                                        A(t)⋅B\n",
       "                                                                              \n",
       "                                                                              \n",
       "                                      0                                 ──────\n",
       "                                                                              \n",
       "\n",
       "                                                         ⎤\n",
       "                                                         ⎥\n",
       "                                                         ⎥\n",
       "                                                         ⎥\n",
       "                                                         ⎥\n",
       "                         0                               ⎥\n",
       "                                                         ⎥\n",
       "                                                         ⎥\n",
       "                                                         ⎥\n",
       "                                                         ⎥\n",
       "                                                         ⎥\n",
       "                                                         ⎥\n",
       "                                                         ⎥\n",
       "                         0                               ⎥\n",
       "                                                         ⎥\n",
       "                                                         ⎥\n",
       "                                                         ⎥\n",
       "                                                         ⎥\n",
       "                                                         ⎥\n",
       "                                                         ⎥\n",
       "                                                         ⎥\n",
       "                         0                               ⎥\n",
       "                                                         ⎥\n",
       "                                                         ⎥\n",
       "      2                        2                         ⎥\n",
       "     d               ⎛d       ⎞         d        d       ⎥\n",
       "(t)⋅───(B(t)) + A(t)⋅⎜──(B(t))⎟  + B(t)⋅──(A(t))⋅──(B(t))⎥\n",
       "      2              ⎝dt      ⎠         dt       dt      ⎥\n",
       "    dt                                                   ⎥\n",
       "─────────────────────────────────────────────────────────⎥\n",
       "                        A(t)                             ⎦"
      ]
     },
     "metadata": {},
     "output_type": "display_data"
    },
    {
     "data": {
      "text/latex": [
       "$\\displaystyle - \\frac{2 \\cdot \\left(2 A{\\left(t \\right)} B{\\left(t \\right)} \\frac{d^{2}}{d t^{2}} B{\\left(t \\right)} + A{\\left(t \\right)} \\left(\\frac{d}{d t} B{\\left(t \\right)}\\right)^{2} + B^{2}{\\left(t \\right)} \\frac{d^{2}}{d t^{2}} A{\\left(t \\right)} + 2 B{\\left(t \\right)} \\frac{d}{d t} A{\\left(t \\right)} \\frac{d}{d t} B{\\left(t \\right)}\\right)}{A{\\left(t \\right)} B^{2}{\\left(t \\right)}}$"
      ],
      "text/plain": [
       "<IPython.core.display.Math object>"
      ]
     },
     "metadata": {},
     "output_type": "display_data"
    }
   ],
   "source": [
    "Ric = pt.ricci()\n",
    "RicS = pt.riccis()\n",
    "Ric.display()\n",
    "pt.display(RicS)"
   ]
  },
  {
   "cell_type": "code",
   "execution_count": 5,
   "metadata": {},
   "outputs": [
    {
     "data": {
      "application/vnd.jupyter.widget-view+json": {
       "model_id": "2e750fa206204c1bb2633bf644693a4c",
       "version_major": 2,
       "version_minor": 0
      },
      "text/plain": [
       "Ricci Tensor $R{^\\alpha}{_\\beta}$:   0%|          | 0/16 [00:00<?, ?it/s]"
      ]
     },
     "metadata": {},
     "output_type": "display_data"
    },
    {
     "data": {
      "application/vnd.jupyter.widget-view+json": {
       "model_id": "41292806e4e84b30b05de2cc27c13fc6",
       "version_major": 2,
       "version_minor": 0
      },
      "text/plain": [
       "Ricci Tensor $R{^\\alpha}{^\\beta}$:   0%|          | 0/16 [00:00<?, ?it/s]"
      ]
     },
     "metadata": {},
     "output_type": "display_data"
    },
    {
     "data": {
      "application/vnd.jupyter.widget-view+json": {
       "model_id": "0c84b1e61327498097da38c74686774f",
       "version_major": 2,
       "version_minor": 0
      },
      "text/plain": [
       "Ricci Tensor $R{_\\alpha}{^\\beta}$:   0%|          | 0/16 [00:00<?, ?it/s]"
      ]
     },
     "metadata": {},
     "output_type": "display_data"
    },
    {
     "data": {
      "text/latex": [
       "All other indices of Ricci Tensor $R$  already calculated."
      ],
      "text/plain": [
       "<IPython.core.display.Latex object>"
      ]
     },
     "metadata": {},
     "output_type": "display_data"
    }
   ],
   "source": [
    "Ric.complete('_,_')"
   ]
  },
  {
   "cell_type": "code",
   "execution_count": 6,
   "metadata": {
    "scrolled": true
   },
   "outputs": [
    {
     "data": {
      "text/latex": [
       "$\\displaystyle {R}{}_{0}\\,{}_{0}\\, = - \\frac{2 A{\\left(t \\right)} \\frac{d^{2}}{d t^{2}} B{\\left(t \\right)} + B{\\left(t \\right)} \\frac{d^{2}}{d t^{2}} A{\\left(t \\right)}}{A{\\left(t \\right)} B{\\left(t \\right)}}$"
      ],
      "text/plain": [
       "<IPython.core.display.Math object>"
      ]
     },
     "metadata": {},
     "output_type": "display_data"
    },
    {
     "data": {
      "text/latex": [
       "$\\displaystyle {R}{}_{1}\\,{}_{1}\\, = \\frac{\\left(B{\\left(t \\right)} \\frac{d^{2}}{d t^{2}} A{\\left(t \\right)} + 2 \\frac{d}{d t} A{\\left(t \\right)} \\frac{d}{d t} B{\\left(t \\right)}\\right) A{\\left(t \\right)}}{B{\\left(t \\right)}}$"
      ],
      "text/plain": [
       "<IPython.core.display.Math object>"
      ]
     },
     "metadata": {},
     "output_type": "display_data"
    },
    {
     "data": {
      "text/latex": [
       "$\\displaystyle {R}{}_{2}\\,{}_{2}\\, = \\frac{A{\\left(t \\right)} B{\\left(t \\right)} \\frac{d^{2}}{d t^{2}} B{\\left(t \\right)} + A{\\left(t \\right)} \\left(\\frac{d}{d t} B{\\left(t \\right)}\\right)^{2} + B{\\left(t \\right)} \\frac{d}{d t} A{\\left(t \\right)} \\frac{d}{d t} B{\\left(t \\right)}}{A{\\left(t \\right)}}$"
      ],
      "text/plain": [
       "<IPython.core.display.Math object>"
      ]
     },
     "metadata": {},
     "output_type": "display_data"
    },
    {
     "data": {
      "text/latex": [
       "$\\displaystyle {R}{}_{3}\\,{}_{3}\\, = \\frac{A{\\left(t \\right)} B{\\left(t \\right)} \\frac{d^{2}}{d t^{2}} B{\\left(t \\right)} + A{\\left(t \\right)} \\left(\\frac{d}{d t} B{\\left(t \\right)}\\right)^{2} + B{\\left(t \\right)} \\frac{d}{d t} A{\\left(t \\right)} \\frac{d}{d t} B{\\left(t \\right)}}{A{\\left(t \\right)}}$"
      ],
      "text/plain": [
       "<IPython.core.display.Math object>"
      ]
     },
     "metadata": {},
     "output_type": "display_data"
    }
   ],
   "source": [
    "Ric.display('_,_',aslist=True)  # the _,_ components are well defined (they are not nans)"
   ]
  },
  {
   "cell_type": "markdown",
   "metadata": {},
   "source": [
    "The Ricci Scalar is a function of $t$, ONLY OF $t$! \n",
    "Then we can simplify everything saying that is a function of $R$, which is a function of $t$."
   ]
  },
  {
   "cell_type": "code",
   "execution_count": 7,
   "metadata": {},
   "outputs": [],
   "source": [
    "# we have to do the following:\n",
    "R = sp.Function('R')(t) #ricci scalar as a function of t\n",
    "F = sp.Function('F')(R) #F is function of R, f != F\n",
    "f = sp.Function('f')(R) #f is function of R, f != F"
   ]
  },
  {
   "cell_type": "code",
   "execution_count": 8,
   "metadata": {},
   "outputs": [
    {
     "data": {
      "image/png": "[encoded data removed]",
      "text/latex": [
       "$\\displaystyle \\frac{d}{d t} R{\\left(t \\right)} \\frac{d}{d R{\\left(t \\right)}} f{\\left(R{\\left(t \\right)} \\right)}$"
      ],
      "text/plain": [
       "d          d           \n",
       "──(R(t))⋅─────(f(R(t)))\n",
       "dt       dR(t)         "
      ]
     },
     "execution_count": 8,
     "metadata": {},
     "output_type": "execute_result"
    }
   ],
   "source": [
    "#e.g.: if we derivate f with respect to t naturally sympy generates the chain rule as an output:\n",
    "sp.diff(f,t)"
   ]
  },
  {
   "cell_type": "code",
   "execution_count": 29,
   "metadata": {},
   "outputs": [
    {
     "data": {
      "text/latex": [
       "$\\displaystyle {LHS}{}_{0}\\,{}_{0}\\, = - \\frac{f{\\left(R{\\left(t \\right)} \\right)}}{2} - \\frac{2 F{\\left(R{\\left(t \\right)} \\right)} \\frac{d^{2}}{d t^{2}} B{\\left(t \\right)}}{B{\\left(t \\right)}} + \\frac{2 \\frac{d}{d t} B{\\left(t \\right)} \\frac{d}{d R{\\left(t \\right)}} F{\\left(R{\\left(t \\right)} \\right)} \\frac{d}{d t} R{\\left(t \\right)}}{B{\\left(t \\right)}} - \\frac{F{\\left(R{\\left(t \\right)} \\right)} \\frac{d^{2}}{d t^{2}} A{\\left(t \\right)}}{A{\\left(t \\right)}} + \\frac{\\frac{d}{d t} A{\\left(t \\right)} \\frac{d}{d R{\\left(t \\right)}} F{\\left(R{\\left(t \\right)} \\right)} \\frac{d}{d t} R{\\left(t \\right)}}{A{\\left(t \\right)}}$"
      ],
      "text/plain": [
       "<IPython.core.display.Math object>"
      ]
     },
     "metadata": {},
     "output_type": "display_data"
    },
    {
     "data": {
      "text/latex": [
       "$\\displaystyle {LHS}{}_{1}\\,{}_{1}\\, = \\frac{A^{2}{\\left(t \\right)} f{\\left(R{\\left(t \\right)} \\right)}}{2} - A^{2}{\\left(t \\right)} \\frac{d}{d R{\\left(t \\right)}} F{\\left(R{\\left(t \\right)} \\right)} \\frac{d^{2}}{d t^{2}} R{\\left(t \\right)} - A^{2}{\\left(t \\right)} \\frac{d^{2}}{d R{\\left(t \\right)}^{2}} F{\\left(R{\\left(t \\right)} \\right)} \\left(\\frac{d}{d t} R{\\left(t \\right)}\\right)^{2} - \\frac{2 A^{2}{\\left(t \\right)} \\frac{d}{d t} B{\\left(t \\right)} \\frac{d}{d R{\\left(t \\right)}} F{\\left(R{\\left(t \\right)} \\right)} \\frac{d}{d t} R{\\left(t \\right)}}{B{\\left(t \\right)}} + A{\\left(t \\right)} F{\\left(R{\\left(t \\right)} \\right)} \\frac{d^{2}}{d t^{2}} A{\\left(t \\right)} + \\frac{2 A{\\left(t \\right)} F{\\left(R{\\left(t \\right)} \\right)} \\frac{d}{d t} A{\\left(t \\right)} \\frac{d}{d t} B{\\left(t \\right)}}{B{\\left(t \\right)}}$"
      ],
      "text/plain": [
       "<IPython.core.display.Math object>"
      ]
     },
     "metadata": {},
     "output_type": "display_data"
    },
    {
     "data": {
      "text/latex": [
       "$\\displaystyle {LHS}{}_{2}\\,{}_{2}\\, = \\frac{B^{2}{\\left(t \\right)} f{\\left(R{\\left(t \\right)} \\right)}}{2} - B^{2}{\\left(t \\right)} \\frac{d}{d R{\\left(t \\right)}} F{\\left(R{\\left(t \\right)} \\right)} \\frac{d^{2}}{d t^{2}} R{\\left(t \\right)} - B^{2}{\\left(t \\right)} \\frac{d^{2}}{d R{\\left(t \\right)}^{2}} F{\\left(R{\\left(t \\right)} \\right)} \\left(\\frac{d}{d t} R{\\left(t \\right)}\\right)^{2} + B{\\left(t \\right)} F{\\left(R{\\left(t \\right)} \\right)} \\frac{d^{2}}{d t^{2}} B{\\left(t \\right)} - B{\\left(t \\right)} \\frac{d}{d t} B{\\left(t \\right)} \\frac{d}{d R{\\left(t \\right)}} F{\\left(R{\\left(t \\right)} \\right)} \\frac{d}{d t} R{\\left(t \\right)} + F{\\left(R{\\left(t \\right)} \\right)} \\left(\\frac{d}{d t} B{\\left(t \\right)}\\right)^{2} - \\frac{B^{2}{\\left(t \\right)} \\frac{d}{d t} A{\\left(t \\right)} \\frac{d}{d R{\\left(t \\right)}} F{\\left(R{\\left(t \\right)} \\right)} \\frac{d}{d t} R{\\left(t \\right)}}{A{\\left(t \\right)}} + \\frac{B{\\left(t \\right)} F{\\left(R{\\left(t \\right)} \\right)} \\frac{d}{d t} A{\\left(t \\right)} \\frac{d}{d t} B{\\left(t \\right)}}{A{\\left(t \\right)}}$"
      ],
      "text/plain": [
       "<IPython.core.display.Math object>"
      ]
     },
     "metadata": {},
     "output_type": "display_data"
    },
    {
     "data": {
      "text/latex": [
       "$\\displaystyle {LHS}{}_{3}\\,{}_{3}\\, = \\frac{B^{2}{\\left(t \\right)} f{\\left(R{\\left(t \\right)} \\right)}}{2} - B^{2}{\\left(t \\right)} \\frac{d}{d R{\\left(t \\right)}} F{\\left(R{\\left(t \\right)} \\right)} \\frac{d^{2}}{d t^{2}} R{\\left(t \\right)} - B^{2}{\\left(t \\right)} \\frac{d^{2}}{d R{\\left(t \\right)}^{2}} F{\\left(R{\\left(t \\right)} \\right)} \\left(\\frac{d}{d t} R{\\left(t \\right)}\\right)^{2} + B{\\left(t \\right)} F{\\left(R{\\left(t \\right)} \\right)} \\frac{d^{2}}{d t^{2}} B{\\left(t \\right)} - B{\\left(t \\right)} \\frac{d}{d t} B{\\left(t \\right)} \\frac{d}{d R{\\left(t \\right)}} F{\\left(R{\\left(t \\right)} \\right)} \\frac{d}{d t} R{\\left(t \\right)} + F{\\left(R{\\left(t \\right)} \\right)} \\left(\\frac{d}{d t} B{\\left(t \\right)}\\right)^{2} - \\frac{B^{2}{\\left(t \\right)} \\frac{d}{d t} A{\\left(t \\right)} \\frac{d}{d R{\\left(t \\right)}} F{\\left(R{\\left(t \\right)} \\right)} \\frac{d}{d t} R{\\left(t \\right)}}{A{\\left(t \\right)}} + \\frac{B{\\left(t \\right)} F{\\left(R{\\left(t \\right)} \\right)} \\frac{d}{d t} A{\\left(t \\right)} \\frac{d}{d t} B{\\left(t \\right)}}{A{\\left(t \\right)}}$"
      ],
      "text/plain": [
       "<IPython.core.display.Math object>"
      ]
     },
     "metadata": {},
     "output_type": "display_data"
    }
   ],
   "source": [
    "# now we define the left hand side (LHS) of the field equation as follows:\n",
    "LHS = pt.ten('LHS',2)\n",
    "\n",
    "DALAMBERT = g('^i,^j')*pt.C(pt.C(F,'_j'),'_i')\n",
    "\n",
    "LHS.assign(F*Ric('_i,_j') - sp.Rational(1,2)*f*g('_i,_j')-pt.C(pt.C(F,'_j'),'_i')+g('_i,_j')*DALAMBERT,'_i,_j')\n",
    "\n",
    "LHS.simplify()\n",
    "\n",
    "LHS.display(\"_,_\",aslist=True)"
   ]
  },
  {
   "cell_type": "code",
   "execution_count": 32,
   "metadata": {},
   "outputs": [
    {
     "data": {
      "text/latex": [
       "$\\displaystyle \\frac{d}{d R{\\left(t \\right)}} F{\\left(R{\\left(t \\right)} \\right)} \\frac{d^{2}}{d t^{2}} R{\\left(t \\right)} + \\frac{d^{2}}{d R{\\left(t \\right)}^{2}} F{\\left(R{\\left(t \\right)} \\right)} \\left(\\frac{d}{d t} R{\\left(t \\right)}\\right)^{2} + \\frac{2 \\frac{d}{d t} B{\\left(t \\right)} \\frac{d}{d R{\\left(t \\right)}} F{\\left(R{\\left(t \\right)} \\right)} \\frac{d}{d t} R{\\left(t \\right)}}{B{\\left(t \\right)}} + \\frac{\\frac{d}{d t} A{\\left(t \\right)} \\frac{d}{d R{\\left(t \\right)}} F{\\left(R{\\left(t \\right)} \\right)} \\frac{d}{d t} R{\\left(t \\right)}}{A{\\left(t \\right)}}$"
      ],
      "text/plain": [
       "                                                           d          d       \n",
       "                 2            2                      2   2⋅──(B(t))⋅─────(F(R(\n",
       "  d             d            d             ⎛d       ⎞      dt       dR(t)     \n",
       "─────(F(R(t)))⋅───(R(t)) + ──────(F(R(t)))⋅⎜──(R(t))⎟  + ─────────────────────\n",
       "dR(t)            2              2          ⎝dt      ⎠                   B(t)  \n",
       "               dt          dR(t)                                              \n",
       "\n",
       "     d          d          d            d       \n",
       "t)))⋅──(R(t))   ──(A(t))⋅─────(F(R(t)))⋅──(R(t))\n",
       "     dt         dt       dR(t)          dt      \n",
       "───────────── + ────────────────────────────────\n",
       "                              A(t)              \n",
       "                                                "
      ]
     },
     "execution_count": 32,
     "metadata": {},
     "output_type": "execute_result"
    }
   ],
   "source": [
    "# note: if you want to display only the Dalambert of F, then you can display only this part:\n",
    "\n",
    "DALAMBERT.simplify()"
   ]
  },
  {
   "cell_type": "code",
   "execution_count": 42,
   "metadata": {},
   "outputs": [
    {
     "data": {
      "text/latex": [
       "$\\displaystyle {LHSwanted}{}_{0}\\,{}_{0}\\, = \\frac{d}{d R{\\left(t \\right)}} F{\\left(R{\\left(t \\right)} \\right)} \\frac{d^{2}}{d t^{2}} R{\\left(t \\right)} + \\frac{d^{2}}{d R{\\left(t \\right)}^{2}} F{\\left(R{\\left(t \\right)} \\right)} \\left(\\frac{d}{d t} R{\\left(t \\right)}\\right)^{2}$"
      ],
      "text/plain": [
       "<IPython.core.display.Math object>"
      ]
     },
     "metadata": {},
     "output_type": "display_data"
    },
    {
     "data": {
      "text/latex": [
       "$\\displaystyle {LHSwanted}{}_{1}\\,{}_{1}\\, = - A{\\left(t \\right)} \\frac{d}{d t} A{\\left(t \\right)} \\frac{d}{d R{\\left(t \\right)}} F{\\left(R{\\left(t \\right)} \\right)} \\frac{d}{d t} R{\\left(t \\right)}$"
      ],
      "text/plain": [
       "<IPython.core.display.Math object>"
      ]
     },
     "metadata": {},
     "output_type": "display_data"
    },
    {
     "data": {
      "text/latex": [
       "$\\displaystyle {LHSwanted}{}_{2}\\,{}_{2}\\, = - B{\\left(t \\right)} \\frac{d}{d t} B{\\left(t \\right)} \\frac{d}{d R{\\left(t \\right)}} F{\\left(R{\\left(t \\right)} \\right)} \\frac{d}{d t} R{\\left(t \\right)}$"
      ],
      "text/plain": [
       "<IPython.core.display.Math object>"
      ]
     },
     "metadata": {},
     "output_type": "display_data"
    },
    {
     "data": {
      "text/latex": [
       "$\\displaystyle {LHSwanted}{}_{3}\\,{}_{3}\\, = - B{\\left(t \\right)} \\frac{d}{d t} B{\\left(t \\right)} \\frac{d}{d R{\\left(t \\right)}} F{\\left(R{\\left(t \\right)} \\right)} \\frac{d}{d t} R{\\left(t \\right)}$"
      ],
      "text/plain": [
       "<IPython.core.display.Math object>"
      ]
     },
     "metadata": {},
     "output_type": "display_data"
    }
   ],
   "source": [
    "# if you want to show the LHS of C(C(F,_i),_j), then you can define a tensor as you want, e.g.:\n",
    "\n",
    "LHSwanted = pt.ten('LHSwanted', 2)\n",
    "LHSwanted.assign(pt.C(pt.C(F,'_j'),'_i'),'_i,_j')\n",
    "LHSwanted.display('_,_',aslist= True)"
   ]
  },
  {
   "cell_type": "code",
   "execution_count": null,
   "metadata": {},
   "outputs": [],
   "source": []
  },
  {
   "cell_type": "code",
   "execution_count": null,
   "metadata": {},
   "outputs": [],
   "source": []
  }
 ],
 "metadata": {
  "interpreter": {
   "hash": "2fe84a340ba9287c7cb1571137a812dad7cb370584e1b8cf466a33e4cc3e43d3"
  },
  "kernelspec": {
   "display_name": "Python 3 (ipykernel)",
   "language": "python",
   "name": "python3"
  },
  "language_info": {
   "codemirror_mode": {
    "name": "ipython",
    "version": 3
   },
   "file_extension": ".py",
   "mimetype": "text/x-python",
   "name": "python",
   "nbconvert_exporter": "python",
   "pygments_lexer": "ipython3",
   "version": "3.8.9"
  }
 },
 "nbformat": 4,
 "nbformat_minor": 2
}
