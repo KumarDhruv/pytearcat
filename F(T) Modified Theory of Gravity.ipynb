{
 "cells": [
  {
   "cell_type": "code",
   "execution_count": 1,
   "metadata": {},
   "outputs": [
    {
     "name": "stdout",
     "output_type": "stream",
     "text": [
      "Remember that the time coordinate must be the first coordinate.\n",
      "\n",
      "Dimension = 4\n",
      "Coordinates = t,x,y,z\n",
      "Metric defined successfully: \n",
      "\n"
     ]
    },
    {
     "data": {
      "text/latex": [
       "$\\displaystyle ds^2 = 1 \\cdot dt^2- A^{2}{\\left(t \\right)} \\cdot dx^2- A^{2}{\\left(t \\right)} \\cdot dy^2- A^{2}{\\left(t \\right)} \\cdot dz^2$"
      ],
      "text/plain": [
       "<IPython.core.display.Math object>"
      ]
     },
     "metadata": {},
     "output_type": "display_data"
    },
    {
     "data": {
      "text/latex": [
       "$\\displaystyle \\left[\\begin{matrix}1 & 0 & 0 & 0\\\\0 & - A^{2}{\\left(t \\right)} & 0 & 0\\\\0 & 0 & - A^{2}{\\left(t \\right)} & 0\\\\0 & 0 & 0 & - A^{2}{\\left(t \\right)}\\end{matrix}\\right]$"
      ],
      "text/plain": [
       "Matrix([\n",
       "[1,        0,        0,        0],\n",
       "[0, -A(t)**2,        0,        0],\n",
       "[0,        0, -A(t)**2,        0],\n",
       "[0,        0,        0, -A(t)**2]])"
      ]
     },
     "metadata": {},
     "output_type": "display_data"
    }
   ],
   "source": [
    "import pytearcat as pt\n",
    "import sympy as sp\n",
    "t,x,y,z = pt.coords('t,x,y,z')\n",
    "A = pt.fun('A','t')\n",
    "g = pt.metric('ds2 = dt**2 - A**2*dx**2 - A**2*dy**2 - A**2*dz**2')"
   ]
  },
  {
   "cell_type": "code",
   "execution_count": 2,
   "metadata": {},
   "outputs": [
    {
     "name": "stdout",
     "output_type": "stream",
     "text": [
      "Elements assigned correctly to the _,^ components\n",
      "Elements assigned correctly to the ^,_ components\n"
     ]
    },
    {
     "data": {
      "text/latex": [
       "$\\displaystyle \\left[\\begin{matrix}1 & 0 & 0 & 0\\\\0 & A{\\left(t \\right)} & 0 & 0\\\\0 & 0 & A{\\left(t \\right)} & 0\\\\0 & 0 & 0 & A{\\left(t \\right)}\\end{matrix}\\right]$"
      ],
      "text/plain": [
       "⎡1   0     0     0  ⎤\n",
       "⎢                   ⎥\n",
       "⎢0  A(t)   0     0  ⎥\n",
       "⎢                   ⎥\n",
       "⎢0   0    A(t)   0  ⎥\n",
       "⎢                   ⎥\n",
       "⎣0   0     0    A(t)⎦"
      ]
     },
     "metadata": {},
     "output_type": "display_data"
    },
    {
     "data": {
      "text/latex": [
       "$\\displaystyle \\left[\\begin{matrix}1.0 & 0 & 0 & 0\\\\0 & \\frac{1}{A{\\left(t \\right)}} & 0 & 0\\\\0 & 0 & \\frac{1}{A{\\left(t \\right)}} & 0\\\\0 & 0 & 0 & \\frac{1}{A{\\left(t \\right)}}\\end{matrix}\\right]$"
      ],
      "text/plain": [
       "⎡1.0   0     0     0  ⎤\n",
       "⎢                     ⎥\n",
       "⎢      1              ⎥\n",
       "⎢ 0   ────   0     0  ⎥\n",
       "⎢     A(t)            ⎥\n",
       "⎢                     ⎥\n",
       "⎢            1        ⎥\n",
       "⎢ 0    0    ────   0  ⎥\n",
       "⎢           A(t)      ⎥\n",
       "⎢                     ⎥\n",
       "⎢                  1  ⎥\n",
       "⎢ 0    0     0    ────⎥\n",
       "⎣                 A(t)⎦"
      ]
     },
     "metadata": {},
     "output_type": "display_data"
    }
   ],
   "source": [
    "e = pt.ten('e',2)\n",
    "Matrix_e = [[1,0,0,0],[0,A,0,0],[0,0,A,0],[0,0,0,A]]\n",
    "Matrix_e_inv = [[1/1,0,0,0],[0,1/A,0,0],[0,0,1/A,0],[0,0,0,1/A]]\n",
    "e.assign(Matrix_e,'_,^')\n",
    "e.assign(Matrix_e_inv,'^,_')\n",
    "e.display('_,^')\n",
    "e.display('^,_')"
   ]
  },
  {
   "cell_type": "code",
   "execution_count": 3,
   "metadata": {},
   "outputs": [
    {
     "name": "stdout",
     "output_type": "stream",
     "text": [
      "Elements assigned correctly to the ^d,_u,_v components\n"
     ]
    },
    {
     "data": {
      "text/latex": [
       "$\\displaystyle {Gamma}{}^{1}\\,{}_{1}\\,{}_{0}\\, = \\frac{\\frac{d}{d t} A{\\left(t \\right)}}{A{\\left(t \\right)}}$"
      ],
      "text/plain": [
       "<IPython.core.display.Math object>"
      ]
     },
     "metadata": {},
     "output_type": "display_data"
    },
    {
     "data": {
      "text/latex": [
       "$\\displaystyle {Gamma}{}^{2}\\,{}_{2}\\,{}_{0}\\, = \\frac{\\frac{d}{d t} A{\\left(t \\right)}}{A{\\left(t \\right)}}$"
      ],
      "text/plain": [
       "<IPython.core.display.Math object>"
      ]
     },
     "metadata": {},
     "output_type": "display_data"
    },
    {
     "data": {
      "text/latex": [
       "$\\displaystyle {Gamma}{}^{3}\\,{}_{3}\\,{}_{0}\\, = \\frac{\\frac{d}{d t} A{\\left(t \\right)}}{A{\\left(t \\right)}}$"
      ],
      "text/plain": [
       "<IPython.core.display.Math object>"
      ]
     },
     "metadata": {},
     "output_type": "display_data"
    }
   ],
   "source": [
    "Gamma = pt.ten('Gamma',3)\n",
    "Gamma.assign(e('^d,_i')* pt.D(e('_u,^i'),'_v'),\"^d,_u,_v\")\n",
    "Gamma.display('^,_,_')"
   ]
  },
  {
   "cell_type": "code",
   "execution_count": 4,
   "metadata": {},
   "outputs": [
    {
     "data": {
      "image/png": "[encoded data removed]",
      "text/latex": [
       "$\\displaystyle A^{3}{\\left(t \\right)}$"
      ],
      "text/plain": [
       " 3   \n",
       "A (t)"
      ]
     },
     "execution_count": 4,
     "metadata": {},
     "output_type": "execute_result"
    }
   ],
   "source": [
    "det_e = sp.det(sp.Matrix(Matrix_e))\n",
    "det_e"
   ]
  },
  {
   "cell_type": "code",
   "execution_count": 5,
   "metadata": {},
   "outputs": [
    {
     "name": "stdout",
     "output_type": "stream",
     "text": [
      "Elements assigned correctly to the ^d,_u,_v components\n"
     ]
    },
    {
     "data": {
      "text/latex": [
       "$\\displaystyle {T}{}^{1}\\,{}_{0}\\,{}_{1}\\, = \\frac{\\frac{d}{d t} A{\\left(t \\right)}}{A{\\left(t \\right)}}$"
      ],
      "text/plain": [
       "<IPython.core.display.Math object>"
      ]
     },
     "metadata": {},
     "output_type": "display_data"
    },
    {
     "data": {
      "text/latex": [
       "$\\displaystyle {T}{}^{1}\\,{}_{1}\\,{}_{0}\\, = - \\frac{\\frac{d}{d t} A{\\left(t \\right)}}{A{\\left(t \\right)}}$"
      ],
      "text/plain": [
       "<IPython.core.display.Math object>"
      ]
     },
     "metadata": {},
     "output_type": "display_data"
    },
    {
     "data": {
      "text/latex": [
       "$\\displaystyle {T}{}^{2}\\,{}_{0}\\,{}_{2}\\, = \\frac{\\frac{d}{d t} A{\\left(t \\right)}}{A{\\left(t \\right)}}$"
      ],
      "text/plain": [
       "<IPython.core.display.Math object>"
      ]
     },
     "metadata": {},
     "output_type": "display_data"
    },
    {
     "data": {
      "text/latex": [
       "$\\displaystyle {T}{}^{2}\\,{}_{2}\\,{}_{0}\\, = - \\frac{\\frac{d}{d t} A{\\left(t \\right)}}{A{\\left(t \\right)}}$"
      ],
      "text/plain": [
       "<IPython.core.display.Math object>"
      ]
     },
     "metadata": {},
     "output_type": "display_data"
    },
    {
     "data": {
      "text/latex": [
       "$\\displaystyle {T}{}^{3}\\,{}_{0}\\,{}_{3}\\, = \\frac{\\frac{d}{d t} A{\\left(t \\right)}}{A{\\left(t \\right)}}$"
      ],
      "text/plain": [
       "<IPython.core.display.Math object>"
      ]
     },
     "metadata": {},
     "output_type": "display_data"
    },
    {
     "data": {
      "text/latex": [
       "$\\displaystyle {T}{}^{3}\\,{}_{3}\\,{}_{0}\\, = - \\frac{\\frac{d}{d t} A{\\left(t \\right)}}{A{\\left(t \\right)}}$"
      ],
      "text/plain": [
       "<IPython.core.display.Math object>"
      ]
     },
     "metadata": {},
     "output_type": "display_data"
    }
   ],
   "source": [
    "T = pt.ten('T',3)\n",
    "T.assign(Gamma('^d,_v,_u')-Gamma('^d,_u,_v'),\"^d,_u,_v\")\n",
    "T.display('^,_,_')"
   ]
  },
  {
   "cell_type": "code",
   "execution_count": 6,
   "metadata": {},
   "outputs": [
    {
     "data": {
      "application/vnd.jupyter.widget-view+json": {
       "model_id": "19e69e91a8e04aa1a77783905648d4e5",
       "version_major": 2,
       "version_minor": 0
      },
      "text/plain": [
       "T Tensor $T{_\\alpha}{_\\beta}{_\\gamma}$:   0%|          | 0/64 [00:00<?, ?it/s]"
      ]
     },
     "metadata": {},
     "output_type": "display_data"
    },
    {
     "data": {
      "application/vnd.jupyter.widget-view+json": {
       "model_id": "63c45b1537c345fea4c52345ef623616",
       "version_major": 2,
       "version_minor": 0
      },
      "text/plain": [
       "T Tensor $T{^\\alpha}{^\\beta}{_\\gamma}$:   0%|          | 0/64 [00:00<?, ?it/s]"
      ]
     },
     "metadata": {},
     "output_type": "display_data"
    },
    {
     "data": {
      "application/vnd.jupyter.widget-view+json": {
       "model_id": "5e7c3aeda69848459664498bae4f07b1",
       "version_major": 2,
       "version_minor": 0
      },
      "text/plain": [
       "T Tensor $T{^\\alpha}{^\\beta}{^\\gamma}$:   0%|          | 0/64 [00:00<?, ?it/s]"
      ]
     },
     "metadata": {},
     "output_type": "display_data"
    },
    {
     "data": {
      "application/vnd.jupyter.widget-view+json": {
       "model_id": "86aac84822a843d3a84ce7967e6ab7ef",
       "version_major": 2,
       "version_minor": 0
      },
      "text/plain": [
       "T Tensor $T{^\\alpha}{_\\beta}{^\\gamma}$:   0%|          | 0/64 [00:00<?, ?it/s]"
      ]
     },
     "metadata": {},
     "output_type": "display_data"
    },
    {
     "data": {
      "application/vnd.jupyter.widget-view+json": {
       "model_id": "e8a95552b7ee4cc995c2170ac206aa86",
       "version_major": 2,
       "version_minor": 0
      },
      "text/plain": [
       "T Tensor $T{_\\alpha}{^\\beta}{_\\gamma}$:   0%|          | 0/64 [00:00<?, ?it/s]"
      ]
     },
     "metadata": {},
     "output_type": "display_data"
    },
    {
     "data": {
      "application/vnd.jupyter.widget-view+json": {
       "model_id": "720d42d351a542099ffe99bb3be3f3cf",
       "version_major": 2,
       "version_minor": 0
      },
      "text/plain": [
       "T Tensor $T{_\\alpha}{^\\beta}{^\\gamma}$:   0%|          | 0/64 [00:00<?, ?it/s]"
      ]
     },
     "metadata": {},
     "output_type": "display_data"
    },
    {
     "data": {
      "application/vnd.jupyter.widget-view+json": {
       "model_id": "3822166555614b189eeaf5bf46c9337a",
       "version_major": 2,
       "version_minor": 0
      },
      "text/plain": [
       "T Tensor $T{_\\alpha}{_\\beta}{^\\gamma}$:   0%|          | 0/64 [00:00<?, ?it/s]"
      ]
     },
     "metadata": {},
     "output_type": "display_data"
    },
    {
     "data": {
      "text/latex": [
       "All other indices of T Tensor $T$  already calculated."
      ],
      "text/plain": [
       "<IPython.core.display.Latex object>"
      ]
     },
     "metadata": {},
     "output_type": "display_data"
    }
   ],
   "source": [
    "T.complete('^,_,_')"
   ]
  },
  {
   "cell_type": "code",
   "execution_count": 7,
   "metadata": {},
   "outputs": [
    {
     "name": "stdout",
     "output_type": "stream",
     "text": [
      "Elements assigned correctly to the _u,^l,_v components\n"
     ]
    },
    {
     "data": {
      "text/latex": [
       "$\\displaystyle {K}{}_{1}\\,{}^{0}\\,{}_{1}\\, = - A{\\left(t \\right)} \\frac{d}{d t} A{\\left(t \\right)}$"
      ],
      "text/plain": [
       "<IPython.core.display.Math object>"
      ]
     },
     "metadata": {},
     "output_type": "display_data"
    },
    {
     "data": {
      "text/latex": [
       "$\\displaystyle {K}{}_{1}\\,{}^{1}\\,{}_{0}\\, = - \\frac{\\frac{d}{d t} A{\\left(t \\right)}}{A{\\left(t \\right)}}$"
      ],
      "text/plain": [
       "<IPython.core.display.Math object>"
      ]
     },
     "metadata": {},
     "output_type": "display_data"
    },
    {
     "data": {
      "text/latex": [
       "$\\displaystyle {K}{}_{2}\\,{}^{0}\\,{}_{2}\\, = - A{\\left(t \\right)} \\frac{d}{d t} A{\\left(t \\right)}$"
      ],
      "text/plain": [
       "<IPython.core.display.Math object>"
      ]
     },
     "metadata": {},
     "output_type": "display_data"
    },
    {
     "data": {
      "text/latex": [
       "$\\displaystyle {K}{}_{2}\\,{}^{2}\\,{}_{0}\\, = - \\frac{\\frac{d}{d t} A{\\left(t \\right)}}{A{\\left(t \\right)}}$"
      ],
      "text/plain": [
       "<IPython.core.display.Math object>"
      ]
     },
     "metadata": {},
     "output_type": "display_data"
    },
    {
     "data": {
      "text/latex": [
       "$\\displaystyle {K}{}_{3}\\,{}^{0}\\,{}_{3}\\, = - A{\\left(t \\right)} \\frac{d}{d t} A{\\left(t \\right)}$"
      ],
      "text/plain": [
       "<IPython.core.display.Math object>"
      ]
     },
     "metadata": {},
     "output_type": "display_data"
    },
    {
     "data": {
      "text/latex": [
       "$\\displaystyle {K}{}_{3}\\,{}^{3}\\,{}_{0}\\, = - \\frac{\\frac{d}{d t} A{\\left(t \\right)}}{A{\\left(t \\right)}}$"
      ],
      "text/plain": [
       "<IPython.core.display.Math object>"
      ]
     },
     "metadata": {},
     "output_type": "display_data"
    }
   ],
   "source": [
    "K = pt.ten(\"K\",3)\n",
    "K.assign(sp.Rational(1,2)*(T(\"^l,_u,_v\")-T(\"_v,_u,^l\")+T(\"_u,^l,_v\")),'_u,^l,_v')\n",
    "K.display(\"_,^,_\")\n"
   ]
  },
  {
   "cell_type": "code",
   "execution_count": 8,
   "metadata": {},
   "outputs": [
    {
     "data": {
      "application/vnd.jupyter.widget-view+json": {
       "model_id": "8b70ccfd9d394fa3bfbd91983d62cac1",
       "version_major": 2,
       "version_minor": 0
      },
      "text/plain": [
       "K Tensor $K{_\\alpha}{_\\beta}{_\\gamma}$:   0%|          | 0/64 [00:00<?, ?it/s]"
      ]
     },
     "metadata": {},
     "output_type": "display_data"
    },
    {
     "data": {
      "application/vnd.jupyter.widget-view+json": {
       "model_id": "54d4a6ee630d406babcb3849484936d0",
       "version_major": 2,
       "version_minor": 0
      },
      "text/plain": [
       "K Tensor $K{^\\alpha}{_\\beta}{_\\gamma}$:   0%|          | 0/64 [00:00<?, ?it/s]"
      ]
     },
     "metadata": {},
     "output_type": "display_data"
    },
    {
     "data": {
      "application/vnd.jupyter.widget-view+json": {
       "model_id": "0307ccc0d99741a5b23b0a3f1fe318e7",
       "version_major": 2,
       "version_minor": 0
      },
      "text/plain": [
       "K Tensor $K{^\\alpha}{^\\beta}{_\\gamma}$:   0%|          | 0/64 [00:00<?, ?it/s]"
      ]
     },
     "metadata": {},
     "output_type": "display_data"
    },
    {
     "data": {
      "application/vnd.jupyter.widget-view+json": {
       "model_id": "20babdc7811d431a983b8ed28ef56a96",
       "version_major": 2,
       "version_minor": 0
      },
      "text/plain": [
       "K Tensor $K{^\\alpha}{^\\beta}{^\\gamma}$:   0%|          | 0/64 [00:00<?, ?it/s]"
      ]
     },
     "metadata": {},
     "output_type": "display_data"
    },
    {
     "data": {
      "application/vnd.jupyter.widget-view+json": {
       "model_id": "c19b01498d8841c08a963b61351d2157",
       "version_major": 2,
       "version_minor": 0
      },
      "text/plain": [
       "K Tensor $K{^\\alpha}{_\\beta}{^\\gamma}$:   0%|          | 0/64 [00:00<?, ?it/s]"
      ]
     },
     "metadata": {},
     "output_type": "display_data"
    },
    {
     "data": {
      "application/vnd.jupyter.widget-view+json": {
       "model_id": "2becff95dce44cb2aa305085f99c2adc",
       "version_major": 2,
       "version_minor": 0
      },
      "text/plain": [
       "K Tensor $K{_\\alpha}{^\\beta}{^\\gamma}$:   0%|          | 0/64 [00:00<?, ?it/s]"
      ]
     },
     "metadata": {},
     "output_type": "display_data"
    },
    {
     "data": {
      "application/vnd.jupyter.widget-view+json": {
       "model_id": "6b8ccaf3988b4408980944025e2edea4",
       "version_major": 2,
       "version_minor": 0
      },
      "text/plain": [
       "K Tensor $K{_\\alpha}{_\\beta}{^\\gamma}$:   0%|          | 0/64 [00:00<?, ?it/s]"
      ]
     },
     "metadata": {},
     "output_type": "display_data"
    },
    {
     "data": {
      "text/latex": [
       "All other indices of K Tensor $K$  already calculated."
      ],
      "text/plain": [
       "<IPython.core.display.Latex object>"
      ]
     },
     "metadata": {},
     "output_type": "display_data"
    }
   ],
   "source": [
    "K.complete('^,_,_')"
   ]
  },
  {
   "cell_type": "code",
   "execution_count": 9,
   "metadata": {},
   "outputs": [
    {
     "name": "stdout",
     "output_type": "stream",
     "text": [
      "Elements assigned correctly to the _s,^u,^v components\n"
     ]
    },
    {
     "data": {
      "text/latex": [
       "$\\displaystyle {S}{}_{1}\\,{}^{0}\\,{}^{1}\\, = - \\frac{\\frac{d}{d t} A{\\left(t \\right)}}{A{\\left(t \\right)}}$"
      ],
      "text/plain": [
       "<IPython.core.display.Math object>"
      ]
     },
     "metadata": {},
     "output_type": "display_data"
    },
    {
     "data": {
      "text/latex": [
       "$\\displaystyle {S}{}_{1}\\,{}^{1}\\,{}^{0}\\, = \\frac{\\frac{d}{d t} A{\\left(t \\right)}}{A{\\left(t \\right)}}$"
      ],
      "text/plain": [
       "<IPython.core.display.Math object>"
      ]
     },
     "metadata": {},
     "output_type": "display_data"
    },
    {
     "data": {
      "text/latex": [
       "$\\displaystyle {S}{}_{2}\\,{}^{0}\\,{}^{2}\\, = - \\frac{\\frac{d}{d t} A{\\left(t \\right)}}{A{\\left(t \\right)}}$"
      ],
      "text/plain": [
       "<IPython.core.display.Math object>"
      ]
     },
     "metadata": {},
     "output_type": "display_data"
    },
    {
     "data": {
      "text/latex": [
       "$\\displaystyle {S}{}_{2}\\,{}^{2}\\,{}^{0}\\, = \\frac{\\frac{d}{d t} A{\\left(t \\right)}}{A{\\left(t \\right)}}$"
      ],
      "text/plain": [
       "<IPython.core.display.Math object>"
      ]
     },
     "metadata": {},
     "output_type": "display_data"
    },
    {
     "data": {
      "text/latex": [
       "$\\displaystyle {S}{}_{3}\\,{}^{0}\\,{}^{3}\\, = - \\frac{\\frac{d}{d t} A{\\left(t \\right)}}{A{\\left(t \\right)}}$"
      ],
      "text/plain": [
       "<IPython.core.display.Math object>"
      ]
     },
     "metadata": {},
     "output_type": "display_data"
    },
    {
     "data": {
      "text/latex": [
       "$\\displaystyle {S}{}_{3}\\,{}^{3}\\,{}^{0}\\, = \\frac{\\frac{d}{d t} A{\\left(t \\right)}}{A{\\left(t \\right)}}$"
      ],
      "text/plain": [
       "<IPython.core.display.Math object>"
      ]
     },
     "metadata": {},
     "output_type": "display_data"
    }
   ],
   "source": [
    "KD = pt.kdelta()\n",
    "S = pt.ten(\"S\",3)\n",
    "S.assign(sp.Rational(1,2)*(K(\"_s,^u,^v\")-KD('^u,_s')*T(\"_h,^h,^v\")+KD('^v,_s')*T(\"_h,^h,^u\")),'_s,^u,^v')\n",
    "S.display('_,^,^')"
   ]
  },
  {
   "cell_type": "code",
   "execution_count": 10,
   "metadata": {},
   "outputs": [
    {
     "data": {
      "application/vnd.jupyter.widget-view+json": {
       "model_id": "35753796dbca4f569c023c357d12e8a1",
       "version_major": 2,
       "version_minor": 0
      },
      "text/plain": [
       "S Tensor $S{_\\alpha}{_\\beta}{^\\gamma}$:   0%|          | 0/64 [00:00<?, ?it/s]"
      ]
     },
     "metadata": {},
     "output_type": "display_data"
    },
    {
     "data": {
      "application/vnd.jupyter.widget-view+json": {
       "model_id": "3c65007b424243619a12d23e8153ccea",
       "version_major": 2,
       "version_minor": 0
      },
      "text/plain": [
       "S Tensor $S{_\\alpha}{_\\beta}{_\\gamma}$:   0%|          | 0/64 [00:00<?, ?it/s]"
      ]
     },
     "metadata": {},
     "output_type": "display_data"
    },
    {
     "data": {
      "application/vnd.jupyter.widget-view+json": {
       "model_id": "c18b37899c814c11b2b64a0b83dfcc08",
       "version_major": 2,
       "version_minor": 0
      },
      "text/plain": [
       "S Tensor $S{^\\alpha}{_\\beta}{_\\gamma}$:   0%|          | 0/64 [00:00<?, ?it/s]"
      ]
     },
     "metadata": {},
     "output_type": "display_data"
    },
    {
     "data": {
      "application/vnd.jupyter.widget-view+json": {
       "model_id": "f7ad27f149d34c9badc8642a4ab948de",
       "version_major": 2,
       "version_minor": 0
      },
      "text/plain": [
       "S Tensor $S{^\\alpha}{^\\beta}{_\\gamma}$:   0%|          | 0/64 [00:00<?, ?it/s]"
      ]
     },
     "metadata": {},
     "output_type": "display_data"
    },
    {
     "data": {
      "application/vnd.jupyter.widget-view+json": {
       "model_id": "7fef809bd7e24d39ba61bf6b63cbc0c0",
       "version_major": 2,
       "version_minor": 0
      },
      "text/plain": [
       "S Tensor $S{^\\alpha}{^\\beta}{^\\gamma}$:   0%|          | 0/64 [00:00<?, ?it/s]"
      ]
     },
     "metadata": {},
     "output_type": "display_data"
    },
    {
     "data": {
      "application/vnd.jupyter.widget-view+json": {
       "model_id": "9e701641b0bc437fbec9221fec6f7801",
       "version_major": 2,
       "version_minor": 0
      },
      "text/plain": [
       "S Tensor $S{^\\alpha}{_\\beta}{^\\gamma}$:   0%|          | 0/64 [00:00<?, ?it/s]"
      ]
     },
     "metadata": {},
     "output_type": "display_data"
    },
    {
     "data": {
      "application/vnd.jupyter.widget-view+json": {
       "model_id": "c40982bec2284aa6821d3b64c9bb5f90",
       "version_major": 2,
       "version_minor": 0
      },
      "text/plain": [
       "S Tensor $S{_\\alpha}{^\\beta}{_\\gamma}$:   0%|          | 0/64 [00:00<?, ?it/s]"
      ]
     },
     "metadata": {},
     "output_type": "display_data"
    },
    {
     "data": {
      "text/latex": [
       "All other indices of S Tensor $S$  already calculated."
      ],
      "text/plain": [
       "<IPython.core.display.Latex object>"
      ]
     },
     "metadata": {},
     "output_type": "display_data"
    }
   ],
   "source": [
    "S.complete('_,^,^')"
   ]
  },
  {
   "cell_type": "code",
   "execution_count": 11,
   "metadata": {},
   "outputs": [
    {
     "data": {
      "image/png": "[encoded data removed]",
      "text/latex": [
       "$\\displaystyle - \\frac{6 \\left(\\frac{d}{d t} A{\\left(t \\right)}\\right)^{2}}{A^{2}{\\left(t \\right)}}$"
      ],
      "text/plain": [
       "             2 \n",
       "   ⎛d       ⎞  \n",
       "-6⋅⎜──(A(t))⎟  \n",
       "   ⎝dt      ⎠  \n",
       "───────────────\n",
       "      2        \n",
       "     A (t)     "
      ]
     },
     "execution_count": 11,
     "metadata": {},
     "output_type": "execute_result"
    }
   ],
   "source": [
    "sp.simplify(S('^a,^b,^c')*T('_a,_b,_c'))"
   ]
  },
  {
   "cell_type": "code",
   "execution_count": 12,
   "metadata": {},
   "outputs": [
    {
     "data": {
      "text/plain": [
       "(T tensor defined, T(t))"
      ]
     },
     "execution_count": 12,
     "metadata": {},
     "output_type": "execute_result"
    }
   ],
   "source": [
    "Tfun = sp.Function('T')(t) \n",
    "F = sp.Function('F')(Tfun) \n",
    "f = sp.Function('f')(Tfun)\n",
    "sp.diff(f,t)\n",
    "fT=sp.diff(f,Tfun)\n",
    "fTT=sp.diff(f,Tfun,2)\n",
    "T\n",
    "Tfun \n",
    "T,Tfun"
   ]
  },
  {
   "cell_type": "code",
   "execution_count": 13,
   "metadata": {},
   "outputs": [
    {
     "name": "stdout",
     "output_type": "stream",
     "text": [
      "Elements assigned correctly to the ^nu,_mu components\n"
     ]
    },
    {
     "data": {
      "text/latex": [
       "$\\displaystyle {LHS}{}^{0}\\,{}_{0}\\, = \\frac{f{\\left(T{\\left(t \\right)} \\right)}}{4}$"
      ],
      "text/plain": [
       "<IPython.core.display.Math object>"
      ]
     },
     "metadata": {},
     "output_type": "display_data"
    },
    {
     "data": {
      "text/latex": [
       "$\\displaystyle {LHS}{}^{1}\\,{}_{1}\\, = A{\\left(t \\right)} \\frac{d^{2}}{d t^{2}} A{\\left(t \\right)} + \\frac{f{\\left(T{\\left(t \\right)} \\right)}}{4} + 3 \\left(\\frac{d}{d t} A{\\left(t \\right)}\\right)^{2} - \\frac{\\frac{d}{d t} A{\\left(t \\right)} \\frac{d}{d t} T{\\left(t \\right)} \\frac{d^{2}}{d T{\\left(t \\right)}^{2}} f{\\left(T{\\left(t \\right)} \\right)}}{A{\\left(t \\right)}} - \\frac{\\left(\\frac{d}{d t} A{\\left(t \\right)}\\right)^{2} \\frac{d}{d T{\\left(t \\right)}} f{\\left(T{\\left(t \\right)} \\right)}}{A^{2}{\\left(t \\right)}}$"
      ],
      "text/plain": [
       "<IPython.core.display.Math object>"
      ]
     },
     "metadata": {},
     "output_type": "display_data"
    },
    {
     "data": {
      "text/latex": [
       "$\\displaystyle {LHS}{}^{2}\\,{}_{2}\\, = A{\\left(t \\right)} \\frac{d^{2}}{d t^{2}} A{\\left(t \\right)} + \\frac{f{\\left(T{\\left(t \\right)} \\right)}}{4} + 3 \\left(\\frac{d}{d t} A{\\left(t \\right)}\\right)^{2} - \\frac{\\frac{d}{d t} A{\\left(t \\right)} \\frac{d}{d t} T{\\left(t \\right)} \\frac{d^{2}}{d T{\\left(t \\right)}^{2}} f{\\left(T{\\left(t \\right)} \\right)}}{A{\\left(t \\right)}} - \\frac{\\left(\\frac{d}{d t} A{\\left(t \\right)}\\right)^{2} \\frac{d}{d T{\\left(t \\right)}} f{\\left(T{\\left(t \\right)} \\right)}}{A^{2}{\\left(t \\right)}}$"
      ],
      "text/plain": [
       "<IPython.core.display.Math object>"
      ]
     },
     "metadata": {},
     "output_type": "display_data"
    },
    {
     "data": {
      "text/latex": [
       "$\\displaystyle {LHS}{}^{3}\\,{}_{3}\\, = A{\\left(t \\right)} \\frac{d^{2}}{d t^{2}} A{\\left(t \\right)} + \\frac{f{\\left(T{\\left(t \\right)} \\right)}}{4} + 3 \\left(\\frac{d}{d t} A{\\left(t \\right)}\\right)^{2} - \\frac{\\frac{d}{d t} A{\\left(t \\right)} \\frac{d}{d t} T{\\left(t \\right)} \\frac{d^{2}}{d T{\\left(t \\right)}^{2}} f{\\left(T{\\left(t \\right)} \\right)}}{A{\\left(t \\right)}} - \\frac{\\left(\\frac{d}{d t} A{\\left(t \\right)}\\right)^{2} \\frac{d}{d T{\\left(t \\right)}} f{\\left(T{\\left(t \\right)} \\right)}}{A^{2}{\\left(t \\right)}}$"
      ],
      "text/plain": [
       "<IPython.core.display.Math object>"
      ]
     },
     "metadata": {},
     "output_type": "display_data"
    }
   ],
   "source": [
    "LHS = pt.ten('LHS',2)\n",
    "value = (det_e**(-1)*e('_mu,^i')*pt.D(det_e*e('_i,^alpha')*S('_alpha,^nu,^rho'),'_rho') + S('^nu,^lambda,_alpha')*T('^alpha,_lambda,_mu')*(fT)) + S('^nu,^rho,_mu')*pt.D(Tfun,'_rho')*fTT + sp.Rational(1,4)*KD('^nu,_mu')*(f)\n",
    "LHS.assign(value,'^nu,_mu')\n",
    "LHS.simplify()\n",
    "LHS.display(\"^,_\",aslist=True)"
   ]
  },
  {
   "cell_type": "code",
   "execution_count": 14,
   "metadata": {},
   "outputs": [
    {
     "name": "stdout",
     "output_type": "stream",
     "text": [
      "Elements assigned correctly to the _i,^nu components\n"
     ]
    },
    {
     "data": {
      "text/latex": [
       "$\\displaystyle {LHS2}{}_{0}\\,{}^{0}\\, = 0.25 f{\\left(T{\\left(t \\right)} \\right)} - \\frac{3.0 \\left(\\frac{d}{d t} A{\\left(t \\right)}\\right)^{2} \\frac{d}{d T{\\left(t \\right)}} f{\\left(T{\\left(t \\right)} \\right)}}{A^{2}{\\left(t \\right)}}$"
      ],
      "text/plain": [
       "<IPython.core.display.Math object>"
      ]
     },
     "metadata": {},
     "output_type": "display_data"
    },
    {
     "data": {
      "text/latex": [
       "$\\displaystyle {LHS2}{}_{1}\\,{}^{1}\\, = \\frac{f{\\left(T{\\left(t \\right)} \\right)}}{4 A{\\left(t \\right)}} - \\frac{\\frac{d}{d t} A{\\left(t \\right)} \\frac{d}{d t} T{\\left(t \\right)} \\frac{d^{2}}{d T{\\left(t \\right)}^{2}} f{\\left(T{\\left(t \\right)} \\right)}}{A{\\left(t \\right)}} - \\frac{\\frac{d^{2}}{d t^{2}} A{\\left(t \\right)} \\frac{d}{d T{\\left(t \\right)}} f{\\left(T{\\left(t \\right)} \\right)}}{A{\\left(t \\right)}} - \\frac{2 \\left(\\frac{d}{d t} A{\\left(t \\right)}\\right)^{2} \\frac{d}{d T{\\left(t \\right)}} f{\\left(T{\\left(t \\right)} \\right)}}{A^{2}{\\left(t \\right)}} - \\frac{\\left(\\frac{d}{d t} A{\\left(t \\right)}\\right)^{2} \\frac{d}{d T{\\left(t \\right)}} f{\\left(T{\\left(t \\right)} \\right)}}{A^{3}{\\left(t \\right)}}$"
      ],
      "text/plain": [
       "<IPython.core.display.Math object>"
      ]
     },
     "metadata": {},
     "output_type": "display_data"
    },
    {
     "data": {
      "text/latex": [
       "$\\displaystyle {LHS2}{}_{2}\\,{}^{2}\\, = \\frac{f{\\left(T{\\left(t \\right)} \\right)}}{4 A{\\left(t \\right)}} - \\frac{\\frac{d}{d t} A{\\left(t \\right)} \\frac{d}{d t} T{\\left(t \\right)} \\frac{d^{2}}{d T{\\left(t \\right)}^{2}} f{\\left(T{\\left(t \\right)} \\right)}}{A{\\left(t \\right)}} - \\frac{\\frac{d^{2}}{d t^{2}} A{\\left(t \\right)} \\frac{d}{d T{\\left(t \\right)}} f{\\left(T{\\left(t \\right)} \\right)}}{A{\\left(t \\right)}} - \\frac{2 \\left(\\frac{d}{d t} A{\\left(t \\right)}\\right)^{2} \\frac{d}{d T{\\left(t \\right)}} f{\\left(T{\\left(t \\right)} \\right)}}{A^{2}{\\left(t \\right)}} - \\frac{\\left(\\frac{d}{d t} A{\\left(t \\right)}\\right)^{2} \\frac{d}{d T{\\left(t \\right)}} f{\\left(T{\\left(t \\right)} \\right)}}{A^{3}{\\left(t \\right)}}$"
      ],
      "text/plain": [
       "<IPython.core.display.Math object>"
      ]
     },
     "metadata": {},
     "output_type": "display_data"
    },
    {
     "data": {
      "text/latex": [
       "$\\displaystyle {LHS2}{}_{3}\\,{}^{3}\\, = \\frac{f{\\left(T{\\left(t \\right)} \\right)}}{4 A{\\left(t \\right)}} - \\frac{\\frac{d}{d t} A{\\left(t \\right)} \\frac{d}{d t} T{\\left(t \\right)} \\frac{d^{2}}{d T{\\left(t \\right)}^{2}} f{\\left(T{\\left(t \\right)} \\right)}}{A{\\left(t \\right)}} - \\frac{\\frac{d^{2}}{d t^{2}} A{\\left(t \\right)} \\frac{d}{d T{\\left(t \\right)}} f{\\left(T{\\left(t \\right)} \\right)}}{A{\\left(t \\right)}} - \\frac{2 \\left(\\frac{d}{d t} A{\\left(t \\right)}\\right)^{2} \\frac{d}{d T{\\left(t \\right)}} f{\\left(T{\\left(t \\right)} \\right)}}{A^{2}{\\left(t \\right)}} - \\frac{\\left(\\frac{d}{d t} A{\\left(t \\right)}\\right)^{2} \\frac{d}{d T{\\left(t \\right)}} f{\\left(T{\\left(t \\right)} \\right)}}{A^{3}{\\left(t \\right)}}$"
      ],
      "text/plain": [
       "<IPython.core.display.Math object>"
      ]
     },
     "metadata": {},
     "output_type": "display_data"
    }
   ],
   "source": [
    "LHS2 = pt.ten('LHS2',2)\n",
    "value = (det_e**(-1)*pt.D(det_e*S('_i,^mu,^nu'),'_mu') - e('^lemda,_i')*S('_roh,^nu,^mu')*T('^roh,_mu,_lemda'))*(fT) + S('_i,^mu,^nu')*pt.D(Tfun,'_mu')*fTT + sp.Rational(1,4)*e('^nu,_i')*(f)\n",
    "LHS2.assign(value,'_i,^nu')\n",
    "LHS2.simplify()\n",
    "LHS2.expand()\n",
    "LHS2.display(\"_,^\",aslist=True)"
   ]
  },
  {
   "cell_type": "code",
   "execution_count": 15,
   "metadata": {},
   "outputs": [
    {
     "name": "stdout",
     "output_type": "stream",
     "text": [
      "Elements assigned correctly to the _i,^nu components\n"
     ]
    },
    {
     "data": {
      "text/latex": [
       "$\\displaystyle {LHS2}{}_{0}\\,{}^{0}\\, = - \\frac{3.0 \\left(\\frac{d}{d t} A{\\left(t \\right)}\\right)^{2}}{A^{2}{\\left(t \\right)}}$"
      ],
      "text/plain": [
       "<IPython.core.display.Math object>"
      ]
     },
     "metadata": {},
     "output_type": "display_data"
    },
    {
     "data": {
      "text/latex": [
       "$\\displaystyle {LHS2}{}_{1}\\,{}^{1}\\, = - \\frac{\\frac{d^{2}}{d t^{2}} A{\\left(t \\right)}}{A{\\left(t \\right)}} - \\frac{2 \\left(\\frac{d}{d t} A{\\left(t \\right)}\\right)^{2}}{A^{2}{\\left(t \\right)}} - \\frac{\\left(\\frac{d}{d t} A{\\left(t \\right)}\\right)^{2}}{A^{3}{\\left(t \\right)}}$"
      ],
      "text/plain": [
       "<IPython.core.display.Math object>"
      ]
     },
     "metadata": {},
     "output_type": "display_data"
    },
    {
     "data": {
      "text/latex": [
       "$\\displaystyle {LHS2}{}_{2}\\,{}^{2}\\, = - \\frac{\\frac{d^{2}}{d t^{2}} A{\\left(t \\right)}}{A{\\left(t \\right)}} - \\frac{2 \\left(\\frac{d}{d t} A{\\left(t \\right)}\\right)^{2}}{A^{2}{\\left(t \\right)}} - \\frac{\\left(\\frac{d}{d t} A{\\left(t \\right)}\\right)^{2}}{A^{3}{\\left(t \\right)}}$"
      ],
      "text/plain": [
       "<IPython.core.display.Math object>"
      ]
     },
     "metadata": {},
     "output_type": "display_data"
    },
    {
     "data": {
      "text/latex": [
       "$\\displaystyle {LHS2}{}_{3}\\,{}^{3}\\, = - \\frac{\\frac{d^{2}}{d t^{2}} A{\\left(t \\right)}}{A{\\left(t \\right)}} - \\frac{2 \\left(\\frac{d}{d t} A{\\left(t \\right)}\\right)^{2}}{A^{2}{\\left(t \\right)}} - \\frac{\\left(\\frac{d}{d t} A{\\left(t \\right)}\\right)^{2}}{A^{3}{\\left(t \\right)}}$"
      ],
      "text/plain": [
       "<IPython.core.display.Math object>"
      ]
     },
     "metadata": {},
     "output_type": "display_data"
    }
   ],
   "source": [
    "LHS2 = pt.ten('LHS2',2)\n",
    "value = (det_e**(-1)*pt.D(det_e*S('_i,^mu,^nu'),'_mu') - e('^lemda,_i')*S('_roh,^nu,^mu')*T('^roh,_mu,_lemda'))\n",
    "LHS2.assign(value,'_i,^nu')\n",
    "LHS2.simplify()\n",
    "LHS2.expand()\n",
    "LHS2.display(\"_,^\",aslist=True)"
   ]
  }
 ],
 "metadata": {
  "interpreter": {
   "hash": "2fe84a340ba9287c7cb1571137a812dad7cb370584e1b8cf466a33e4cc3e43d3"
  },
  "kernelspec": {
   "display_name": "Python 3 (ipykernel)",
   "language": "python",
   "name": "python3"
  },
  "language_info": {
   "codemirror_mode": {
    "name": "ipython",
    "version": 3
   },
   "file_extension": ".py",
   "mimetype": "text/x-python",
   "name": "python",
   "nbconvert_exporter": "python",
   "pygments_lexer": "ipython3",
   "version": "3.6.7"
  }
 },
 "nbformat": 4,
 "nbformat_minor": 2
}
