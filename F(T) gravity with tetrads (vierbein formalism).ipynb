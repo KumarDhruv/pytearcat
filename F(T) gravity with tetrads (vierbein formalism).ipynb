{
 "cells": [
  {
   "cell_type": "markdown",
   "metadata": {},
   "source": [
    "# F(T) gravity with tetrads (vierbein formalism)"
   ]
  },
  {
   "cell_type": "code",
   "execution_count": null,
   "metadata": {},
   "outputs": [],
   "source": [
    "import pytearcat as pt\n",
    "import sympy as sp\n",
    "t,x,y,z = pt.coords('t,x,y,z')\n",
    "A = pt.fun('A','t')\n",
    "B = pt.fun('B','t')\n",
    "C = pt.fun('C','t')\n",
    "g = pt.metric('ds2 = dt**2 - A**2*dx**2 - B**2*dy**2 - C**2*dz**2')"
   ]
  },
  {
   "cell_type": "code",
   "execution_count": 2,
   "metadata": {},
   "outputs": [
    {
     "name": "stdout",
     "output_type": "stream",
     "text": [
      "Elements assigned correctly to the components _,^\n",
      "Elements assigned correctly to the components ^,_\n"
     ]
    },
    {
     "data": {
      "text/latex": [
       "$\\displaystyle \\left[\\begin{matrix}1 & 0 & 0 & 0\\\\0 & A{\\left(t \\right)} & 0 & 0\\\\0 & 0 & B{\\left(t \\right)} & 0\\\\0 & 0 & 0 & C{\\left(t \\right)}\\end{matrix}\\right]$"
      ],
      "text/plain": [
       "⎡1   0     0     0  ⎤\n",
       "⎢                   ⎥\n",
       "⎢0  A(t)   0     0  ⎥\n",
       "⎢                   ⎥\n",
       "⎢0   0    B(t)   0  ⎥\n",
       "⎢                   ⎥\n",
       "⎣0   0     0    C(t)⎦"
      ]
     },
     "metadata": {},
     "output_type": "display_data"
    },
    {
     "data": {
      "text/latex": [
       "$\\displaystyle \\left[\\begin{matrix}1.0 & 0 & 0 & 0\\\\0 & \\frac{1}{A{\\left(t \\right)}} & 0 & 0\\\\0 & 0 & \\frac{1}{B{\\left(t \\right)}} & 0\\\\0 & 0 & 0 & \\frac{1}{C{\\left(t \\right)}}\\end{matrix}\\right]$"
      ],
      "text/plain": [
       "⎡1.0   0     0     0  ⎤\n",
       "⎢                     ⎥\n",
       "⎢      1              ⎥\n",
       "⎢ 0   ────   0     0  ⎥\n",
       "⎢     A(t)            ⎥\n",
       "⎢                     ⎥\n",
       "⎢            1        ⎥\n",
       "⎢ 0    0    ────   0  ⎥\n",
       "⎢           B(t)      ⎥\n",
       "⎢                     ⎥\n",
       "⎢                  1  ⎥\n",
       "⎢ 0    0     0    ────⎥\n",
       "⎣                 C(t)⎦"
      ]
     },
     "metadata": {},
     "output_type": "display_data"
    }
   ],
   "source": [
    "e = pt.ten('e',2)\n",
    "Matrix_e = [[1,0,0,0],[0,A,0,0],[0,0,B,0],[0,0,0,C]]\n",
    "Matrix_e_inv = [[1/1,0,0,0],[0,1/A,0,0],[0,0,1/B,0],[0,0,0,1/C]]\n",
    "e.assign(Matrix_e,'_,^')\n",
    "e.assign(Matrix_e_inv,'^,_')\n",
    "e.display('_,^')  # --->  e('_i,^j')   #e^-1 unsopported\n",
    "e.display('^,_')  # --->  e('^i,_j') this is the inverse of the other e"
   ]
  },
  {
   "cell_type": "code",
   "execution_count": 3,
   "metadata": {},
   "outputs": [
    {
     "data": {
      "text/latex": [
       "$\\displaystyle A{\\left(t \\right)} B{\\left(t \\right)} C{\\left(t \\right)}$"
      ],
      "text/plain": [
       "A(t)⋅B(t)⋅C(t)"
      ]
     },
     "execution_count": 3,
     "metadata": {},
     "output_type": "execute_result"
    }
   ],
   "source": [
    "det_e = sp.det(sp.Matrix(Matrix_e))\n",
    "det_e"
   ]
  },
  {
   "cell_type": "code",
   "execution_count": 4,
   "metadata": {},
   "outputs": [
    {
     "data": {
      "text/latex": [
       "$\\displaystyle {Gamma}{}^{1}\\,{}_{1}\\,{}_{0}\\, = \\frac{\\frac{d}{d t} A{\\left(t \\right)}}{A{\\left(t \\right)}}$"
      ],
      "text/plain": [
       "<IPython.core.display.Math object>"
      ]
     },
     "metadata": {},
     "output_type": "display_data"
    },
    {
     "data": {
      "text/latex": [
       "$\\displaystyle {Gamma}{}^{2}\\,{}_{2}\\,{}_{0}\\, = \\frac{\\frac{d}{d t} B{\\left(t \\right)}}{B{\\left(t \\right)}}$"
      ],
      "text/plain": [
       "<IPython.core.display.Math object>"
      ]
     },
     "metadata": {},
     "output_type": "display_data"
    },
    {
     "data": {
      "text/latex": [
       "$\\displaystyle {Gamma}{}^{3}\\,{}_{3}\\,{}_{0}\\, = \\frac{\\frac{d}{d t} C{\\left(t \\right)}}{C{\\left(t \\right)}}$"
      ],
      "text/plain": [
       "<IPython.core.display.Math object>"
      ]
     },
     "metadata": {},
     "output_type": "display_data"
    }
   ],
   "source": [
    "Gamma = pt.ten('Gamma',3)\n",
    "Gamma.assign(e('^d,_i')* pt.D(e('_u,^i'),'_v'),\"^d,_u,_v\")\n",
    "Gamma.display('^,_,_')"
   ]
  },
  {
   "cell_type": "code",
   "execution_count": 5,
   "metadata": {},
   "outputs": [
    {
     "data": {
      "text/latex": [
       "$\\displaystyle {T}{}^{1}\\,{}_{0}\\,{}_{1}\\, = \\frac{\\frac{d}{d t} A{\\left(t \\right)}}{A{\\left(t \\right)}}$"
      ],
      "text/plain": [
       "<IPython.core.display.Math object>"
      ]
     },
     "metadata": {},
     "output_type": "display_data"
    },
    {
     "data": {
      "text/latex": [
       "$\\displaystyle {T}{}^{1}\\,{}_{1}\\,{}_{0}\\, = - \\frac{\\frac{d}{d t} A{\\left(t \\right)}}{A{\\left(t \\right)}}$"
      ],
      "text/plain": [
       "<IPython.core.display.Math object>"
      ]
     },
     "metadata": {},
     "output_type": "display_data"
    },
    {
     "data": {
      "text/latex": [
       "$\\displaystyle {T}{}^{2}\\,{}_{0}\\,{}_{2}\\, = \\frac{\\frac{d}{d t} B{\\left(t \\right)}}{B{\\left(t \\right)}}$"
      ],
      "text/plain": [
       "<IPython.core.display.Math object>"
      ]
     },
     "metadata": {},
     "output_type": "display_data"
    },
    {
     "data": {
      "text/latex": [
       "$\\displaystyle {T}{}^{2}\\,{}_{2}\\,{}_{0}\\, = - \\frac{\\frac{d}{d t} B{\\left(t \\right)}}{B{\\left(t \\right)}}$"
      ],
      "text/plain": [
       "<IPython.core.display.Math object>"
      ]
     },
     "metadata": {},
     "output_type": "display_data"
    },
    {
     "data": {
      "text/latex": [
       "$\\displaystyle {T}{}^{3}\\,{}_{0}\\,{}_{3}\\, = \\frac{\\frac{d}{d t} C{\\left(t \\right)}}{C{\\left(t \\right)}}$"
      ],
      "text/plain": [
       "<IPython.core.display.Math object>"
      ]
     },
     "metadata": {},
     "output_type": "display_data"
    },
    {
     "data": {
      "text/latex": [
       "$\\displaystyle {T}{}^{3}\\,{}_{3}\\,{}_{0}\\, = - \\frac{\\frac{d}{d t} C{\\left(t \\right)}}{C{\\left(t \\right)}}$"
      ],
      "text/plain": [
       "<IPython.core.display.Math object>"
      ]
     },
     "metadata": {},
     "output_type": "display_data"
    }
   ],
   "source": [
    "T = pt.ten('T',3)\n",
    "T.assign(Gamma('^d,_v,_u')-Gamma('^d,_u,_v'),\"^d,_u,_v\")\n",
    "T.display('^,_,_')"
   ]
  },
  {
   "cell_type": "code",
   "execution_count": 6,
   "metadata": {},
   "outputs": [
    {
     "data": {
      "application/vnd.jupyter.widget-view+json": {
       "model_id": "aee9964ad9184a628e7dd0557dd422cc",
       "version_major": 2,
       "version_minor": 0
      },
      "text/plain": [
       "T Tensor $T{_\\alpha}{_\\beta}{_\\gamma}$:   0%|          | 0/64 [00:00<?, ?it/s]"
      ]
     },
     "metadata": {},
     "output_type": "display_data"
    },
    {
     "data": {
      "application/vnd.jupyter.widget-view+json": {
       "model_id": "9ae06996ede041378bdbf906df3fe8d5",
       "version_major": 2,
       "version_minor": 0
      },
      "text/plain": [
       "T Tensor $T{^\\alpha}{^\\beta}{_\\gamma}$:   0%|          | 0/64 [00:00<?, ?it/s]"
      ]
     },
     "metadata": {},
     "output_type": "display_data"
    },
    {
     "data": {
      "application/vnd.jupyter.widget-view+json": {
       "model_id": "84baaff4571b4d739b2a2b73a4fdac45",
       "version_major": 2,
       "version_minor": 0
      },
      "text/plain": [
       "T Tensor $T{^\\alpha}{^\\beta}{^\\gamma}$:   0%|          | 0/64 [00:00<?, ?it/s]"
      ]
     },
     "metadata": {},
     "output_type": "display_data"
    },
    {
     "data": {
      "application/vnd.jupyter.widget-view+json": {
       "model_id": "5b555d1f3ea0471a9848f44dec95c6bb",
       "version_major": 2,
       "version_minor": 0
      },
      "text/plain": [
       "T Tensor $T{^\\alpha}{_\\beta}{^\\gamma}$:   0%|          | 0/64 [00:00<?, ?it/s]"
      ]
     },
     "metadata": {},
     "output_type": "display_data"
    },
    {
     "data": {
      "application/vnd.jupyter.widget-view+json": {
       "model_id": "74e137756ebc49769a837aa5be7ffaa1",
       "version_major": 2,
       "version_minor": 0
      },
      "text/plain": [
       "T Tensor $T{_\\alpha}{^\\beta}{_\\gamma}$:   0%|          | 0/64 [00:00<?, ?it/s]"
      ]
     },
     "metadata": {},
     "output_type": "display_data"
    },
    {
     "data": {
      "application/vnd.jupyter.widget-view+json": {
       "model_id": "46abd1a7eaf04dd29f909b4d7e16ed01",
       "version_major": 2,
       "version_minor": 0
      },
      "text/plain": [
       "T Tensor $T{_\\alpha}{^\\beta}{^\\gamma}$:   0%|          | 0/64 [00:00<?, ?it/s]"
      ]
     },
     "metadata": {},
     "output_type": "display_data"
    },
    {
     "data": {
      "application/vnd.jupyter.widget-view+json": {
       "model_id": "946ca0023fb641238ffc68347ef7d909",
       "version_major": 2,
       "version_minor": 0
      },
      "text/plain": [
       "T Tensor $T{_\\alpha}{_\\beta}{^\\gamma}$:   0%|          | 0/64 [00:00<?, ?it/s]"
      ]
     },
     "metadata": {},
     "output_type": "display_data"
    },
    {
     "data": {
      "text/latex": [
       "All other indices of T Tensor $T$  already calculated."
      ],
      "text/plain": [
       "<IPython.core.display.Latex object>"
      ]
     },
     "metadata": {},
     "output_type": "display_data"
    }
   ],
   "source": [
    "T.complete('^,_,_')"
   ]
  },
  {
   "cell_type": "code",
   "execution_count": 7,
   "metadata": {},
   "outputs": [
    {
     "data": {
      "text/latex": [
       "$\\displaystyle {K}{}_{1}\\,{}^{0}\\,{}_{1}\\, = - A{\\left(t \\right)} \\frac{d}{d t} A{\\left(t \\right)}$"
      ],
      "text/plain": [
       "<IPython.core.display.Math object>"
      ]
     },
     "metadata": {},
     "output_type": "display_data"
    },
    {
     "data": {
      "text/latex": [
       "$\\displaystyle {K}{}_{1}\\,{}^{1}\\,{}_{0}\\, = - \\frac{\\frac{d}{d t} A{\\left(t \\right)}}{A{\\left(t \\right)}}$"
      ],
      "text/plain": [
       "<IPython.core.display.Math object>"
      ]
     },
     "metadata": {},
     "output_type": "display_data"
    },
    {
     "data": {
      "text/latex": [
       "$\\displaystyle {K}{}_{2}\\,{}^{0}\\,{}_{2}\\, = - B{\\left(t \\right)} \\frac{d}{d t} B{\\left(t \\right)}$"
      ],
      "text/plain": [
       "<IPython.core.display.Math object>"
      ]
     },
     "metadata": {},
     "output_type": "display_data"
    },
    {
     "data": {
      "text/latex": [
       "$\\displaystyle {K}{}_{2}\\,{}^{2}\\,{}_{0}\\, = - \\frac{\\frac{d}{d t} B{\\left(t \\right)}}{B{\\left(t \\right)}}$"
      ],
      "text/plain": [
       "<IPython.core.display.Math object>"
      ]
     },
     "metadata": {},
     "output_type": "display_data"
    },
    {
     "data": {
      "text/latex": [
       "$\\displaystyle {K}{}_{3}\\,{}^{0}\\,{}_{3}\\, = - C{\\left(t \\right)} \\frac{d}{d t} C{\\left(t \\right)}$"
      ],
      "text/plain": [
       "<IPython.core.display.Math object>"
      ]
     },
     "metadata": {},
     "output_type": "display_data"
    },
    {
     "data": {
      "text/latex": [
       "$\\displaystyle {K}{}_{3}\\,{}^{3}\\,{}_{0}\\, = - \\frac{\\frac{d}{d t} C{\\left(t \\right)}}{C{\\left(t \\right)}}$"
      ],
      "text/plain": [
       "<IPython.core.display.Math object>"
      ]
     },
     "metadata": {},
     "output_type": "display_data"
    }
   ],
   "source": [
    "K = pt.ten(\"K\",3)\n",
    "K.assign(sp.Rational(1,2)*(T(\"^l,_u,_v\")-T(\"_v,_u,^l\")+T(\"_u,^l,_v\")),'_u,^l,_v')\n",
    "K.display(\"_,^,_\")\n"
   ]
  },
  {
   "cell_type": "code",
   "execution_count": 8,
   "metadata": {},
   "outputs": [
    {
     "data": {
      "application/vnd.jupyter.widget-view+json": {
       "model_id": "c3e4b515c68b416d91452bb171c2d01a",
       "version_major": 2,
       "version_minor": 0
      },
      "text/plain": [
       "K Tensor $K{_\\alpha}{_\\beta}{_\\gamma}$:   0%|          | 0/64 [00:00<?, ?it/s]"
      ]
     },
     "metadata": {},
     "output_type": "display_data"
    },
    {
     "data": {
      "application/vnd.jupyter.widget-view+json": {
       "model_id": "304397d990134b8ba245aebd4ca41f2e",
       "version_major": 2,
       "version_minor": 0
      },
      "text/plain": [
       "K Tensor $K{^\\alpha}{_\\beta}{_\\gamma}$:   0%|          | 0/64 [00:00<?, ?it/s]"
      ]
     },
     "metadata": {},
     "output_type": "display_data"
    },
    {
     "data": {
      "application/vnd.jupyter.widget-view+json": {
       "model_id": "fd7c2a9efed54f6c8eb952276bfaffc6",
       "version_major": 2,
       "version_minor": 0
      },
      "text/plain": [
       "K Tensor $K{^\\alpha}{^\\beta}{_\\gamma}$:   0%|          | 0/64 [00:00<?, ?it/s]"
      ]
     },
     "metadata": {},
     "output_type": "display_data"
    },
    {
     "data": {
      "application/vnd.jupyter.widget-view+json": {
       "model_id": "0fc8464bef9f4f0997ccf01e459e897e",
       "version_major": 2,
       "version_minor": 0
      },
      "text/plain": [
       "K Tensor $K{^\\alpha}{^\\beta}{^\\gamma}$:   0%|          | 0/64 [00:00<?, ?it/s]"
      ]
     },
     "metadata": {},
     "output_type": "display_data"
    },
    {
     "data": {
      "application/vnd.jupyter.widget-view+json": {
       "model_id": "86b84f3e15db4bef93381c6f2e5a9701",
       "version_major": 2,
       "version_minor": 0
      },
      "text/plain": [
       "K Tensor $K{^\\alpha}{_\\beta}{^\\gamma}$:   0%|          | 0/64 [00:00<?, ?it/s]"
      ]
     },
     "metadata": {},
     "output_type": "display_data"
    },
    {
     "data": {
      "application/vnd.jupyter.widget-view+json": {
       "model_id": "fc18da6ed2d94e2787f09c75c9ce3642",
       "version_major": 2,
       "version_minor": 0
      },
      "text/plain": [
       "K Tensor $K{_\\alpha}{^\\beta}{^\\gamma}$:   0%|          | 0/64 [00:00<?, ?it/s]"
      ]
     },
     "metadata": {},
     "output_type": "display_data"
    },
    {
     "data": {
      "application/vnd.jupyter.widget-view+json": {
       "model_id": "27746fab261f4be481e689553f78c47b",
       "version_major": 2,
       "version_minor": 0
      },
      "text/plain": [
       "K Tensor $K{_\\alpha}{_\\beta}{^\\gamma}$:   0%|          | 0/64 [00:00<?, ?it/s]"
      ]
     },
     "metadata": {},
     "output_type": "display_data"
    },
    {
     "data": {
      "text/latex": [
       "All other indices of K Tensor $K$  already calculated."
      ],
      "text/plain": [
       "<IPython.core.display.Latex object>"
      ]
     },
     "metadata": {},
     "output_type": "display_data"
    }
   ],
   "source": [
    "K.complete('^,_,_')"
   ]
  },
  {
   "cell_type": "code",
   "execution_count": 9,
   "metadata": {},
   "outputs": [
    {
     "data": {
      "text/latex": [
       "$\\displaystyle {S}{}_{1}\\,{}^{0}\\,{}^{1}\\, = - \\frac{\\frac{d}{d t} C{\\left(t \\right)}}{2 C{\\left(t \\right)}} - \\frac{\\frac{d}{d t} B{\\left(t \\right)}}{2 B{\\left(t \\right)}}$"
      ],
      "text/plain": [
       "<IPython.core.display.Math object>"
      ]
     },
     "metadata": {},
     "output_type": "display_data"
    },
    {
     "data": {
      "text/latex": [
       "$\\displaystyle {S}{}_{1}\\,{}^{1}\\,{}^{0}\\, = \\frac{\\frac{d}{d t} C{\\left(t \\right)}}{2 C{\\left(t \\right)}} + \\frac{\\frac{d}{d t} B{\\left(t \\right)}}{2 B{\\left(t \\right)}}$"
      ],
      "text/plain": [
       "<IPython.core.display.Math object>"
      ]
     },
     "metadata": {},
     "output_type": "display_data"
    },
    {
     "data": {
      "text/latex": [
       "$\\displaystyle {S}{}_{2}\\,{}^{0}\\,{}^{2}\\, = - \\frac{\\frac{d}{d t} C{\\left(t \\right)}}{2 C{\\left(t \\right)}} - \\frac{\\frac{d}{d t} A{\\left(t \\right)}}{2 A{\\left(t \\right)}}$"
      ],
      "text/plain": [
       "<IPython.core.display.Math object>"
      ]
     },
     "metadata": {},
     "output_type": "display_data"
    },
    {
     "data": {
      "text/latex": [
       "$\\displaystyle {S}{}_{2}\\,{}^{2}\\,{}^{0}\\, = \\frac{\\frac{d}{d t} C{\\left(t \\right)}}{2 C{\\left(t \\right)}} + \\frac{\\frac{d}{d t} A{\\left(t \\right)}}{2 A{\\left(t \\right)}}$"
      ],
      "text/plain": [
       "<IPython.core.display.Math object>"
      ]
     },
     "metadata": {},
     "output_type": "display_data"
    },
    {
     "data": {
      "text/latex": [
       "$\\displaystyle {S}{}_{3}\\,{}^{0}\\,{}^{3}\\, = - \\frac{\\frac{d}{d t} B{\\left(t \\right)}}{2 B{\\left(t \\right)}} - \\frac{\\frac{d}{d t} A{\\left(t \\right)}}{2 A{\\left(t \\right)}}$"
      ],
      "text/plain": [
       "<IPython.core.display.Math object>"
      ]
     },
     "metadata": {},
     "output_type": "display_data"
    },
    {
     "data": {
      "text/latex": [
       "$\\displaystyle {S}{}_{3}\\,{}^{3}\\,{}^{0}\\, = \\frac{\\frac{d}{d t} B{\\left(t \\right)}}{2 B{\\left(t \\right)}} + \\frac{\\frac{d}{d t} A{\\left(t \\right)}}{2 A{\\left(t \\right)}}$"
      ],
      "text/plain": [
       "<IPython.core.display.Math object>"
      ]
     },
     "metadata": {},
     "output_type": "display_data"
    }
   ],
   "source": [
    "KD = pt.kdelta()\n",
    "S = pt.ten(\"S\",3)\n",
    "S.assign(sp.Rational(1,2)*(K(\"_s,^u,^v\")-KD('^u,_s')*T(\"_h,^h,^v\")+KD('^v,_s')*T(\"_h,^h,^u\")),'_s,^u,^v')\n",
    "S.display('_,^,^')"
   ]
  },
  {
   "cell_type": "code",
   "execution_count": 10,
   "metadata": {},
   "outputs": [
    {
     "data": {
      "application/vnd.jupyter.widget-view+json": {
       "model_id": "1710864140214f09a923e6ee793ad4b4",
       "version_major": 2,
       "version_minor": 0
      },
      "text/plain": [
       "S Tensor $S{_\\alpha}{_\\beta}{^\\gamma}$:   0%|          | 0/64 [00:00<?, ?it/s]"
      ]
     },
     "metadata": {},
     "output_type": "display_data"
    },
    {
     "data": {
      "application/vnd.jupyter.widget-view+json": {
       "model_id": "140c2efd254e46e897ba828c752c9e9b",
       "version_major": 2,
       "version_minor": 0
      },
      "text/plain": [
       "S Tensor $S{_\\alpha}{_\\beta}{_\\gamma}$:   0%|          | 0/64 [00:00<?, ?it/s]"
      ]
     },
     "metadata": {},
     "output_type": "display_data"
    },
    {
     "data": {
      "application/vnd.jupyter.widget-view+json": {
       "model_id": "013350d8b5924eb5b248ebb0ecb1ee73",
       "version_major": 2,
       "version_minor": 0
      },
      "text/plain": [
       "S Tensor $S{^\\alpha}{_\\beta}{_\\gamma}$:   0%|          | 0/64 [00:00<?, ?it/s]"
      ]
     },
     "metadata": {},
     "output_type": "display_data"
    },
    {
     "data": {
      "application/vnd.jupyter.widget-view+json": {
       "model_id": "4d2d4c0e990a4a5095baba14414a5173",
       "version_major": 2,
       "version_minor": 0
      },
      "text/plain": [
       "S Tensor $S{^\\alpha}{^\\beta}{_\\gamma}$:   0%|          | 0/64 [00:00<?, ?it/s]"
      ]
     },
     "metadata": {},
     "output_type": "display_data"
    },
    {
     "data": {
      "application/vnd.jupyter.widget-view+json": {
       "model_id": "085aba21e1df40a5b706d3acc265fe57",
       "version_major": 2,
       "version_minor": 0
      },
      "text/plain": [
       "S Tensor $S{^\\alpha}{^\\beta}{^\\gamma}$:   0%|          | 0/64 [00:00<?, ?it/s]"
      ]
     },
     "metadata": {},
     "output_type": "display_data"
    },
    {
     "data": {
      "application/vnd.jupyter.widget-view+json": {
       "model_id": "743bc932e6f340fe9debc3a7214a7627",
       "version_major": 2,
       "version_minor": 0
      },
      "text/plain": [
       "S Tensor $S{^\\alpha}{_\\beta}{^\\gamma}$:   0%|          | 0/64 [00:00<?, ?it/s]"
      ]
     },
     "metadata": {},
     "output_type": "display_data"
    },
    {
     "data": {
      "application/vnd.jupyter.widget-view+json": {
       "model_id": "e0ecced5143f46b6aca18285873b7a60",
       "version_major": 2,
       "version_minor": 0
      },
      "text/plain": [
       "S Tensor $S{_\\alpha}{^\\beta}{_\\gamma}$:   0%|          | 0/64 [00:00<?, ?it/s]"
      ]
     },
     "metadata": {},
     "output_type": "display_data"
    },
    {
     "data": {
      "text/latex": [
       "All other indices of S Tensor $S$  already calculated."
      ],
      "text/plain": [
       "<IPython.core.display.Latex object>"
      ]
     },
     "metadata": {},
     "output_type": "display_data"
    }
   ],
   "source": [
    "S.complete('_,^,^')"
   ]
  },
  {
   "cell_type": "code",
   "execution_count": 11,
   "metadata": {},
   "outputs": [
    {
     "data": {
      "text/latex": [
       "$\\displaystyle \\frac{2 \\left(- A{\\left(t \\right)} \\frac{d}{d t} B{\\left(t \\right)} \\frac{d}{d t} C{\\left(t \\right)} - B{\\left(t \\right)} \\frac{d}{d t} A{\\left(t \\right)} \\frac{d}{d t} C{\\left(t \\right)} - C{\\left(t \\right)} \\frac{d}{d t} A{\\left(t \\right)} \\frac{d}{d t} B{\\left(t \\right)}\\right)}{A{\\left(t \\right)} B{\\left(t \\right)} C{\\left(t \\right)}}$"
      ],
      "text/plain": [
       "  ⎛       d        d               d        d               d        d       ⎞\n",
       "2⋅⎜- A(t)⋅──(B(t))⋅──(C(t)) - B(t)⋅──(A(t))⋅──(C(t)) - C(t)⋅──(A(t))⋅──(B(t))⎟\n",
       "  ⎝       dt       dt              dt       dt              dt       dt      ⎠\n",
       "──────────────────────────────────────────────────────────────────────────────\n",
       "                                A(t)⋅B(t)⋅C(t)                                "
      ]
     },
     "execution_count": 11,
     "metadata": {},
     "output_type": "execute_result"
    }
   ],
   "source": [
    "# scalar\n",
    "\n",
    "sp.simplify(S('^a,^b,^c')*T('_a,_b,_c'))"
   ]
  },
  {
   "cell_type": "code",
   "execution_count": 13,
   "metadata": {},
   "outputs": [],
   "source": [
    "# the Torsion is a function of t, ONLY OF t! \n",
    "# Then we can simplify everything saying that is a function of R, which is a function of t.\n",
    "# we have to do the \n",
    "Tfun = sp.Function('T')(t) #Torsion as a function of t\n",
    "F = sp.Function('F')(Tfun) #F is function of T, f != F\n",
    "f = sp.Function('f')(Tfun) #f is function of T, f != F"
   ]
  },
  {
   "cell_type": "code",
   "execution_count": 14,
   "metadata": {},
   "outputs": [
    {
     "data": {
      "text/latex": [
       "$\\displaystyle \\frac{d}{d t} T{\\left(t \\right)} \\frac{d}{d T{\\left(t \\right)}} f{\\left(T{\\left(t \\right)} \\right)}$"
      ],
      "text/plain": [
       "d          d           \n",
       "──(T(t))⋅─────(f(T(t)))\n",
       "dt       dT(t)         "
      ]
     },
     "execution_count": 14,
     "metadata": {},
     "output_type": "execute_result"
    }
   ],
   "source": [
    "#e.g.: if we derivate f with respect to t naturally sympy generates the chain rule as an output:\n",
    "sp.diff(f,t)"
   ]
  },
  {
   "cell_type": "code",
   "execution_count": 15,
   "metadata": {},
   "outputs": [],
   "source": [
    "fT=sp.diff(f,Tfun) #fT\n",
    "fTT=sp.diff(f,Tfun,2) #fT"
   ]
  },
  {
   "cell_type": "code",
   "execution_count": 17,
   "metadata": {},
   "outputs": [
    {
     "data": {
      "text/plain": [
       "(T tensor defined, T(t))"
      ]
     },
     "execution_count": 17,
     "metadata": {},
     "output_type": "execute_result"
    }
   ],
   "source": [
    "T #T is a tensor object\n",
    "Tfun # Tfun is a function\n",
    "T,Tfun"
   ]
  },
  {
   "cell_type": "code",
   "execution_count": 32,
   "metadata": {},
   "outputs": [
    {
     "data": {
      "text/latex": [
       "$\\displaystyle {LHS}{}^{0}\\,{}_{0}\\, = \\frac{T{\\left(t \\right)}}{4} + \\frac{f{\\left(T{\\left(t \\right)} \\right)}}{4}$"
      ],
      "text/plain": [
       "<IPython.core.display.Math object>"
      ]
     },
     "metadata": {},
     "output_type": "display_data"
    },
    {
     "data": {
      "text/latex": [
       "$\\displaystyle {LHS}{}^{1}\\,{}_{1}\\, = \\frac{- 2 \\left(B{\\left(t \\right)} \\frac{d}{d t} C{\\left(t \\right)} + C{\\left(t \\right)} \\frac{d}{d t} B{\\left(t \\right)}\\right) \\left(\\frac{d}{d T{\\left(t \\right)}} f{\\left(T{\\left(t \\right)} \\right)} + 1\\right) B{\\left(t \\right)} C{\\left(t \\right)} \\frac{d}{d t} A{\\left(t \\right)} - 2 \\left(B{\\left(t \\right)} \\frac{d}{d t} C{\\left(t \\right)} + C{\\left(t \\right)} \\frac{d}{d t} B{\\left(t \\right)}\\right) A{\\left(t \\right)} B{\\left(t \\right)} C{\\left(t \\right)} \\frac{d}{d t} T{\\left(t \\right)} \\frac{d^{2}}{d T{\\left(t \\right)}^{2}} f{\\left(T{\\left(t \\right)} \\right)} + \\left(T{\\left(t \\right)} + f{\\left(T{\\left(t \\right)} \\right)}\\right) A{\\left(t \\right)} B^{2}{\\left(t \\right)} C^{2}{\\left(t \\right)} + 2 \\left(\\frac{d}{d T{\\left(t \\right)}} f{\\left(T{\\left(t \\right)} \\right)} + 1\\right) \\left(\\left(B{\\left(t \\right)} \\frac{d}{d t} C{\\left(t \\right)} + C{\\left(t \\right)} \\frac{d}{d t} B{\\left(t \\right)}\\right) A{\\left(t \\right)} B{\\left(t \\right)} \\frac{d}{d t} C{\\left(t \\right)} + \\left(B{\\left(t \\right)} \\frac{d}{d t} C{\\left(t \\right)} + C{\\left(t \\right)} \\frac{d}{d t} B{\\left(t \\right)}\\right) A{\\left(t \\right)} C{\\left(t \\right)} \\frac{d}{d t} B{\\left(t \\right)} + 2 \\left(B{\\left(t \\right)} \\frac{d}{d t} C{\\left(t \\right)} + C{\\left(t \\right)} \\frac{d}{d t} B{\\left(t \\right)}\\right) B{\\left(t \\right)} C{\\left(t \\right)} \\frac{d}{d t} A{\\left(t \\right)} + \\left(B^{2}{\\left(t \\right)} C{\\left(t \\right)} \\frac{d^{2}}{d t^{2}} C{\\left(t \\right)} - B^{2}{\\left(t \\right)} \\left(\\frac{d}{d t} C{\\left(t \\right)}\\right)^{2} + B{\\left(t \\right)} C^{2}{\\left(t \\right)} \\frac{d^{2}}{d t^{2}} B{\\left(t \\right)} - C^{2}{\\left(t \\right)} \\left(\\frac{d}{d t} B{\\left(t \\right)}\\right)^{2}\\right) A{\\left(t \\right)}\\right) A^{2}{\\left(t \\right)}}{4 A{\\left(t \\right)} B^{2}{\\left(t \\right)} C^{2}{\\left(t \\right)}}$"
      ],
      "text/plain": [
       "<IPython.core.display.Math object>"
      ]
     },
     "metadata": {},
     "output_type": "display_data"
    },
    {
     "data": {
      "text/latex": [
       "$\\displaystyle {LHS}{}^{2}\\,{}_{2}\\, = \\frac{- 2 \\left(A{\\left(t \\right)} \\frac{d}{d t} C{\\left(t \\right)} + C{\\left(t \\right)} \\frac{d}{d t} A{\\left(t \\right)}\\right) \\left(\\frac{d}{d T{\\left(t \\right)}} f{\\left(T{\\left(t \\right)} \\right)} + 1\\right) A{\\left(t \\right)} C{\\left(t \\right)} \\frac{d}{d t} B{\\left(t \\right)} - 2 \\left(A{\\left(t \\right)} \\frac{d}{d t} C{\\left(t \\right)} + C{\\left(t \\right)} \\frac{d}{d t} A{\\left(t \\right)}\\right) A{\\left(t \\right)} B{\\left(t \\right)} C{\\left(t \\right)} \\frac{d}{d t} T{\\left(t \\right)} \\frac{d^{2}}{d T{\\left(t \\right)}^{2}} f{\\left(T{\\left(t \\right)} \\right)} + \\left(T{\\left(t \\right)} + f{\\left(T{\\left(t \\right)} \\right)}\\right) A^{2}{\\left(t \\right)} B{\\left(t \\right)} C^{2}{\\left(t \\right)} + 2 \\left(\\frac{d}{d T{\\left(t \\right)}} f{\\left(T{\\left(t \\right)} \\right)} + 1\\right) \\left(\\left(A{\\left(t \\right)} \\frac{d}{d t} C{\\left(t \\right)} + C{\\left(t \\right)} \\frac{d}{d t} A{\\left(t \\right)}\\right) A{\\left(t \\right)} B{\\left(t \\right)} \\frac{d}{d t} C{\\left(t \\right)} + 2 \\left(A{\\left(t \\right)} \\frac{d}{d t} C{\\left(t \\right)} + C{\\left(t \\right)} \\frac{d}{d t} A{\\left(t \\right)}\\right) A{\\left(t \\right)} C{\\left(t \\right)} \\frac{d}{d t} B{\\left(t \\right)} + \\left(A{\\left(t \\right)} \\frac{d}{d t} C{\\left(t \\right)} + C{\\left(t \\right)} \\frac{d}{d t} A{\\left(t \\right)}\\right) B{\\left(t \\right)} C{\\left(t \\right)} \\frac{d}{d t} A{\\left(t \\right)} + \\left(A^{2}{\\left(t \\right)} C{\\left(t \\right)} \\frac{d^{2}}{d t^{2}} C{\\left(t \\right)} - A^{2}{\\left(t \\right)} \\left(\\frac{d}{d t} C{\\left(t \\right)}\\right)^{2} + A{\\left(t \\right)} C^{2}{\\left(t \\right)} \\frac{d^{2}}{d t^{2}} A{\\left(t \\right)} - C^{2}{\\left(t \\right)} \\left(\\frac{d}{d t} A{\\left(t \\right)}\\right)^{2}\\right) B{\\left(t \\right)}\\right) B^{2}{\\left(t \\right)}}{4 A^{2}{\\left(t \\right)} B{\\left(t \\right)} C^{2}{\\left(t \\right)}}$"
      ],
      "text/plain": [
       "<IPython.core.display.Math object>"
      ]
     },
     "metadata": {},
     "output_type": "display_data"
    },
    {
     "data": {
      "text/latex": [
       "$\\displaystyle {LHS}{}^{3}\\,{}_{3}\\, = \\frac{- 2 \\left(A{\\left(t \\right)} \\frac{d}{d t} B{\\left(t \\right)} + B{\\left(t \\right)} \\frac{d}{d t} A{\\left(t \\right)}\\right) \\left(\\frac{d}{d T{\\left(t \\right)}} f{\\left(T{\\left(t \\right)} \\right)} + 1\\right) A{\\left(t \\right)} B{\\left(t \\right)} \\frac{d}{d t} C{\\left(t \\right)} - 2 \\left(A{\\left(t \\right)} \\frac{d}{d t} B{\\left(t \\right)} + B{\\left(t \\right)} \\frac{d}{d t} A{\\left(t \\right)}\\right) A{\\left(t \\right)} B{\\left(t \\right)} C{\\left(t \\right)} \\frac{d}{d t} T{\\left(t \\right)} \\frac{d^{2}}{d T{\\left(t \\right)}^{2}} f{\\left(T{\\left(t \\right)} \\right)} + \\left(T{\\left(t \\right)} + f{\\left(T{\\left(t \\right)} \\right)}\\right) A^{2}{\\left(t \\right)} B^{2}{\\left(t \\right)} C{\\left(t \\right)} + 2 \\left(\\frac{d}{d T{\\left(t \\right)}} f{\\left(T{\\left(t \\right)} \\right)} + 1\\right) \\left(2 \\left(A{\\left(t \\right)} \\frac{d}{d t} B{\\left(t \\right)} + B{\\left(t \\right)} \\frac{d}{d t} A{\\left(t \\right)}\\right) A{\\left(t \\right)} B{\\left(t \\right)} \\frac{d}{d t} C{\\left(t \\right)} + \\left(A{\\left(t \\right)} \\frac{d}{d t} B{\\left(t \\right)} + B{\\left(t \\right)} \\frac{d}{d t} A{\\left(t \\right)}\\right) A{\\left(t \\right)} C{\\left(t \\right)} \\frac{d}{d t} B{\\left(t \\right)} + \\left(A{\\left(t \\right)} \\frac{d}{d t} B{\\left(t \\right)} + B{\\left(t \\right)} \\frac{d}{d t} A{\\left(t \\right)}\\right) B{\\left(t \\right)} C{\\left(t \\right)} \\frac{d}{d t} A{\\left(t \\right)} + \\left(A^{2}{\\left(t \\right)} B{\\left(t \\right)} \\frac{d^{2}}{d t^{2}} B{\\left(t \\right)} - A^{2}{\\left(t \\right)} \\left(\\frac{d}{d t} B{\\left(t \\right)}\\right)^{2} + A{\\left(t \\right)} B^{2}{\\left(t \\right)} \\frac{d^{2}}{d t^{2}} A{\\left(t \\right)} - B^{2}{\\left(t \\right)} \\left(\\frac{d}{d t} A{\\left(t \\right)}\\right)^{2}\\right) C{\\left(t \\right)}\\right) C^{2}{\\left(t \\right)}}{4 A^{2}{\\left(t \\right)} B^{2}{\\left(t \\right)} C{\\left(t \\right)}}$"
      ],
      "text/plain": [
       "<IPython.core.display.Math object>"
      ]
     },
     "metadata": {},
     "output_type": "display_data"
    }
   ],
   "source": [
    "# now we define the left hand side (LHS) of the field equation as follows:\n",
    "LHS = pt.ten('LHS',2)\n",
    "\n",
    "value = det_e**(-1)*e('_mu,^i')*pt.D(det_e*e('_i,^alpha')*S('_alpha,^nu,^rho'),'_rho')*(1+fT) + S('^nu,^lambda,_alpha')*T('^alpha,_lambda,_mu')*(1+fT) + S('^nu,^rho,_mu')*pt.D(Tfun,'_rho')*fTT + sp.Rational(1,4)*KD('^nu,_mu')*(Tfun+f)\n",
    "\n",
    "\n",
    "LHS.assign(value,'^nu,_mu')\n",
    "\n",
    "LHS.simplify()\n",
    "\n",
    "LHS.display(\"^,_\",aslist=True)"
   ]
  },
  {
   "cell_type": "code",
   "execution_count": 41,
   "metadata": {},
   "outputs": [
    {
     "data": {
      "text/latex": [
       "$\\displaystyle \\frac{A^{2}{\\left(t \\right)} \\frac{d^{2}}{d t^{2}} C{\\left(t \\right)} \\frac{d}{d T{\\left(t \\right)}} f{\\left(T{\\left(t \\right)} \\right)}}{2 C{\\left(t \\right)}} + \\frac{A^{2}{\\left(t \\right)} \\frac{d^{2}}{d t^{2}} C{\\left(t \\right)}}{2 C{\\left(t \\right)}} + \\frac{A^{2}{\\left(t \\right)} \\frac{d^{2}}{d t^{2}} B{\\left(t \\right)} \\frac{d}{d T{\\left(t \\right)}} f{\\left(T{\\left(t \\right)} \\right)}}{2 B{\\left(t \\right)}} + \\frac{A^{2}{\\left(t \\right)} \\frac{d^{2}}{d t^{2}} B{\\left(t \\right)}}{2 B{\\left(t \\right)}} + \\frac{A^{2}{\\left(t \\right)} \\frac{d}{d t} B{\\left(t \\right)} \\frac{d}{d t} C{\\left(t \\right)} \\frac{d}{d T{\\left(t \\right)}} f{\\left(T{\\left(t \\right)} \\right)}}{B{\\left(t \\right)} C{\\left(t \\right)}} + \\frac{A^{2}{\\left(t \\right)} \\frac{d}{d t} B{\\left(t \\right)} \\frac{d}{d t} C{\\left(t \\right)}}{B{\\left(t \\right)} C{\\left(t \\right)}} + \\frac{A{\\left(t \\right)} \\frac{d}{d t} A{\\left(t \\right)} \\frac{d}{d t} C{\\left(t \\right)} \\frac{d}{d T{\\left(t \\right)}} f{\\left(T{\\left(t \\right)} \\right)}}{C{\\left(t \\right)}} + \\frac{A{\\left(t \\right)} \\frac{d}{d t} A{\\left(t \\right)} \\frac{d}{d t} C{\\left(t \\right)}}{C{\\left(t \\right)}} + \\frac{A{\\left(t \\right)} \\frac{d}{d t} A{\\left(t \\right)} \\frac{d}{d t} B{\\left(t \\right)} \\frac{d}{d T{\\left(t \\right)}} f{\\left(T{\\left(t \\right)} \\right)}}{B{\\left(t \\right)}} + \\frac{A{\\left(t \\right)} \\frac{d}{d t} A{\\left(t \\right)} \\frac{d}{d t} B{\\left(t \\right)}}{B{\\left(t \\right)}} + \\frac{T{\\left(t \\right)}}{4} + \\frac{f{\\left(T{\\left(t \\right)} \\right)}}{4} - \\frac{\\frac{d}{d t} C{\\left(t \\right)} \\frac{d}{d t} T{\\left(t \\right)} \\frac{d^{2}}{d T{\\left(t \\right)}^{2}} f{\\left(T{\\left(t \\right)} \\right)}}{2 C{\\left(t \\right)}} - \\frac{\\frac{d}{d t} B{\\left(t \\right)} \\frac{d}{d t} T{\\left(t \\right)} \\frac{d^{2}}{d T{\\left(t \\right)}^{2}} f{\\left(T{\\left(t \\right)} \\right)}}{2 B{\\left(t \\right)}} - \\frac{\\frac{d}{d t} A{\\left(t \\right)} \\frac{d}{d t} C{\\left(t \\right)} \\frac{d}{d T{\\left(t \\right)}} f{\\left(T{\\left(t \\right)} \\right)}}{2 A{\\left(t \\right)} C{\\left(t \\right)}} - \\frac{\\frac{d}{d t} A{\\left(t \\right)} \\frac{d}{d t} C{\\left(t \\right)}}{2 A{\\left(t \\right)} C{\\left(t \\right)}} - \\frac{\\frac{d}{d t} A{\\left(t \\right)} \\frac{d}{d t} B{\\left(t \\right)} \\frac{d}{d T{\\left(t \\right)}} f{\\left(T{\\left(t \\right)} \\right)}}{2 A{\\left(t \\right)} B{\\left(t \\right)}} - \\frac{\\frac{d}{d t} A{\\left(t \\right)} \\frac{d}{d t} B{\\left(t \\right)}}{2 A{\\left(t \\right)} B{\\left(t \\right)}}$"
      ],
      "text/plain": [
       "        2                                2                 2                  \n",
       " 2     d          d               2     d           2     d          d        \n",
       "A (t)⋅───(C(t))⋅─────(f(T(t)))   A (t)⋅───(C(t))   A (t)⋅───(B(t))⋅─────(f(T(t\n",
       "        2       dT(t)                    2                 2       dT(t)      \n",
       "      dt                               dt                dt                   \n",
       "────────────────────────────── + ─────────────── + ───────────────────────────\n",
       "            2⋅C(t)                    2⋅C(t)                   2⋅B(t)         \n",
       "\n",
       "              2                                                               \n",
       "       2     d                                                                \n",
       ")))   A (t)⋅───(B(t))    2    d        d          d               2    d      \n",
       "              2         A (t)⋅──(B(t))⋅──(C(t))⋅─────(f(T(t)))   A (t)⋅──(B(t)\n",
       "            dt                dt       dt       dT(t)                  dt     \n",
       "─── + ─────────────── + ────────────────────────────────────── + ─────────────\n",
       "           2⋅B(t)                     B(t)⋅C(t)                         B(t)⋅C\n",
       "\n",
       "                                                                              \n",
       "                                                                              \n",
       "  d               d        d          d                   d        d          \n",
       ")⋅──(C(t))   A(t)⋅──(A(t))⋅──(C(t))⋅─────(f(T(t)))   A(t)⋅──(A(t))⋅──(C(t))   \n",
       "  dt              dt       dt       dT(t)                 dt       dt         \n",
       "────────── + ───────────────────────────────────── + ────────────────────── + \n",
       "(t)                           C(t)                            C(t)            \n",
       "\n",
       "                                                                              \n",
       "                                                                              \n",
       "     d        d          d                   d        d                       \n",
       "A(t)⋅──(A(t))⋅──(B(t))⋅─────(f(T(t)))   A(t)⋅──(A(t))⋅──(B(t))                \n",
       "     dt       dt       dT(t)                 dt       dt         T(t)   f(T(t)\n",
       "───────────────────────────────────── + ────────────────────── + ──── + ──────\n",
       "                 B(t)                            B(t)             4        4  \n",
       "\n",
       "                         2                                   2                \n",
       "    d        d          d               d        d          d                 \n",
       "    ──(C(t))⋅──(T(t))⋅──────(f(T(t)))   ──(B(t))⋅──(T(t))⋅──────(f(T(t)))   d \n",
       "    dt       dt            2            dt       dt            2            ──\n",
       ")                     dT(t)                               dT(t)             dt\n",
       "─ - ───────────────────────────────── - ───────────────────────────────── - ──\n",
       "                  2⋅C(t)                              2⋅B(t)                  \n",
       "\n",
       "                                                                              \n",
       "                                                                              \n",
       "       d          d              d        d          d        d          d    \n",
       "(A(t))⋅──(C(t))⋅─────(f(T(t)))   ──(A(t))⋅──(C(t))   ──(A(t))⋅──(B(t))⋅─────(f\n",
       "       dt       dT(t)            dt       dt         dt       dt       dT(t)  \n",
       "────────────────────────────── - ───────────────── - ─────────────────────────\n",
       "        2⋅A(t)⋅C(t)                 2⋅A(t)⋅C(t)                2⋅A(t)⋅B(t)    \n",
       "\n",
       "                           \n",
       "                           \n",
       "          d        d       \n",
       "(T(t)))   ──(A(t))⋅──(B(t))\n",
       "          dt       dt      \n",
       "─────── - ─────────────────\n",
       "             2⋅A(t)⋅B(t)   "
      ]
     },
     "execution_count": 41,
     "metadata": {},
     "output_type": "execute_result"
    }
   ],
   "source": [
    "LHS(\"^1,_1\").expand()"
   ]
  }
 ],
 "metadata": {
  "interpreter": {
   "hash": "2fe84a340ba9287c7cb1571137a812dad7cb370584e1b8cf466a33e4cc3e43d3"
  },
  "kernelspec": {
   "display_name": "Python 3 (ipykernel)",
   "language": "python",
   "name": "python3"
  },
  "language_info": {
   "codemirror_mode": {
    "name": "ipython",
    "version": 3
   },
   "file_extension": ".py",
   "mimetype": "text/x-python",
   "name": "python",
   "nbconvert_exporter": "python",
   "pygments_lexer": "ipython3",
   "version": "3.8.9"
  }
 },
 "nbformat": 4,
 "nbformat_minor": 2
}
