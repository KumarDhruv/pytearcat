{
 "cells": [
  {
   "cell_type": "code",
   "execution_count": 22,
   "metadata": {},
   "outputs": [],
   "source": [
    "import numpy as np\n",
    "from itertools import permutations,product"
   ]
  },
  {
   "cell_type": "code",
   "execution_count": 1,
   "metadata": {},
   "outputs": [],
   "source": [
    "import pytearcat as pt"
   ]
  },
  {
   "cell_type": "code",
   "execution_count": 2,
   "metadata": {},
   "outputs": [
    {
     "name": "stdout",
     "output_type": "stream",
     "text": [
      "Remember that the time coordinate must be the first coordinate.\n",
      "en metric: t,x,y,z\n",
      "\n",
      "Dimension = 4\n",
      "Coordinates = t,x,y,z\n",
      "Metric was defined successfully: \n",
      "\n"
     ]
    },
    {
     "data": {
      "text/latex": [
       "$\\displaystyle ds^2 = 1 \\cdot dt^2-1 \\cdot dx^2-1 \\cdot dy^2-1 \\cdot dz^2$"
      ],
      "text/plain": [
       "<IPython.core.display.Math object>"
      ]
     },
     "metadata": {},
     "output_type": "display_data"
    },
    {
     "data": {
      "text/latex": [
       "$\\displaystyle \\left[\\begin{matrix}1 & 0 & 0 & 0\\\\0 & -1 & 0 & 0\\\\0 & 0 & -1 & 0\\\\0 & 0 & 0 & -1\\end{matrix}\\right]$"
      ],
      "text/plain": [
       "Matrix([\n",
       "[1,  0,  0,  0],\n",
       "[0, -1,  0,  0],\n",
       "[0,  0, -1,  0],\n",
       "[0,  0,  0, -1]])"
      ]
     },
     "metadata": {},
     "output_type": "display_data"
    }
   ],
   "source": [
    "# Define the coordinates to be used\n",
    "t,x,y,z = pt.def_coords('t,x,y,z')\n",
    "# Define any constant (more than one constant can be defined at the same time)\n",
    "c = pt.new_con('c')\n",
    "Ax = pt.new_fun('Ax','t,x,y,z')\n",
    "Ay = pt.new_fun('Ay','t,x,y,z')\n",
    "Az = pt.new_fun('Az','t,x,y,z')\n",
    "phi = pt.new_fun('phi','t,x,y,z')\n",
    "g = pt.create_metric('ds2 = +dt**2 + -(dx**2 + dy**2 + dz**2)')"
   ]
  },
  {
   "cell_type": "code",
   "execution_count": 3,
   "metadata": {},
   "outputs": [],
   "source": [
    "KR = pt.KroneckerDelta()"
   ]
  },
  {
   "cell_type": "code",
   "execution_count": 4,
   "metadata": {},
   "outputs": [],
   "source": [
    "pt.set_space_time(False)"
   ]
  },
  {
   "cell_type": "code",
   "execution_count": 5,
   "metadata": {},
   "outputs": [
    {
     "name": "stdout",
     "output_type": "stream",
     "text": [
      "tensor_sp\n",
      "MUL\n"
     ]
    },
    {
     "data": {
      "text/latex": [
       "$\\displaystyle -3$"
      ],
      "text/plain": [
       "-3"
      ]
     },
     "execution_count": 5,
     "metadata": {},
     "output_type": "execute_result"
    }
   ],
   "source": [
    "KR('^i,^j')*g('_i,_j')"
   ]
  },
  {
   "cell_type": "code",
   "execution_count": 6,
   "metadata": {},
   "outputs": [
    {
     "data": {
      "text/latex": [
       "$\\displaystyle \\left[\\begin{matrix}1 & 0 & 0\\\\0 & 1 & 0\\\\0 & 0 & 1\\end{matrix}\\right]$"
      ],
      "text/plain": [
       "⎡1  0  0⎤\n",
       "⎢       ⎥\n",
       "⎢0  1  0⎥\n",
       "⎢       ⎥\n",
       "⎣0  0  1⎦"
      ]
     },
     "metadata": {},
     "output_type": "display_data"
    }
   ],
   "source": [
    "KR.display('^,^',spatial=True)"
   ]
  },
  {
   "cell_type": "code",
   "execution_count": 3,
   "metadata": {},
   "outputs": [
    {
     "data": {
      "text/latex": [
       "Christoffel $\\Gamma_{\\alpha \\beta \\gamma}$ and $\\Gamma^{\\alpha}_{\\beta \\gamma}$"
      ],
      "text/plain": [
       "<IPython.core.display.Latex object>"
      ]
     },
     "metadata": {},
     "output_type": "display_data"
    },
    {
     "data": {
      "application/vnd.jupyter.widget-view+json": {
       "model_id": "ff840a1f741b42d4a32ea274ea6da23d",
       "version_major": 2,
       "version_minor": 0
      },
      "text/plain": [
       "  0%|          | 0/64 [00:00<?, ?it/s]"
      ]
     },
     "metadata": {},
     "output_type": "display_data"
    },
    {
     "data": {
      "text/latex": [
       "Riemann Tensor $R^{\\alpha}_{\\beta \\gamma \\delta}$"
      ],
      "text/plain": [
       "<IPython.core.display.Latex object>"
      ]
     },
     "metadata": {},
     "output_type": "display_data"
    },
    {
     "data": {
      "application/vnd.jupyter.widget-view+json": {
       "model_id": "3bca0cd810a74d6cb10cb46f52ce5e33",
       "version_major": 2,
       "version_minor": 0
      },
      "text/plain": [
       "  0%|          | 0/256 [00:00<?, ?it/s]"
      ]
     },
     "metadata": {},
     "output_type": "display_data"
    },
    {
     "data": {
      "application/vnd.jupyter.widget-view+json": {
       "model_id": "b588bb977dc044bdb1ba40376acf15ca",
       "version_major": 2,
       "version_minor": 0
      },
      "text/plain": [
       "Riemann Tensor $R{_\\alpha}{_\\beta}{_\\gamma}{_\\delta}$:   0%|          | 0/256 [00:00<?, ?it/s]"
      ]
     },
     "metadata": {},
     "output_type": "display_data"
    },
    {
     "data": {
      "application/vnd.jupyter.widget-view+json": {
       "model_id": "cf715b86e10a4e7fa0f9aa88861dc516",
       "version_major": 2,
       "version_minor": 0
      },
      "text/plain": [
       "Riemann Tensor $R{^\\alpha}{^\\beta}{_\\gamma}{_\\delta}$:   0%|          | 0/256 [00:00<?, ?it/s]"
      ]
     },
     "metadata": {},
     "output_type": "display_data"
    },
    {
     "data": {
      "application/vnd.jupyter.widget-view+json": {
       "model_id": "0ed91c770e7d40ea840a445154bb737a",
       "version_major": 2,
       "version_minor": 0
      },
      "text/plain": [
       "Riemann Tensor $R{^\\alpha}{^\\beta}{^\\gamma}{_\\delta}$:   0%|          | 0/256 [00:00<?, ?it/s]"
      ]
     },
     "metadata": {},
     "output_type": "display_data"
    },
    {
     "data": {
      "application/vnd.jupyter.widget-view+json": {
       "model_id": "0e4f007c2d274472b6913d78a88ac352",
       "version_major": 2,
       "version_minor": 0
      },
      "text/plain": [
       "Riemann Tensor $R{^\\alpha}{^\\beta}{^\\gamma}{^\\delta}$:   0%|          | 0/256 [00:00<?, ?it/s]"
      ]
     },
     "metadata": {},
     "output_type": "display_data"
    },
    {
     "data": {
      "application/vnd.jupyter.widget-view+json": {
       "model_id": "866629e67e544341a91fcd5a223faf1f",
       "version_major": 2,
       "version_minor": 0
      },
      "text/plain": [
       "Riemann Tensor $R{^\\alpha}{^\\beta}{_\\gamma}{^\\delta}$:   0%|          | 0/256 [00:00<?, ?it/s]"
      ]
     },
     "metadata": {},
     "output_type": "display_data"
    },
    {
     "data": {
      "application/vnd.jupyter.widget-view+json": {
       "model_id": "9dea7983fad64d16826c1291e1b62124",
       "version_major": 2,
       "version_minor": 0
      },
      "text/plain": [
       "Riemann Tensor $R{^\\alpha}{_\\beta}{^\\gamma}{_\\delta}$:   0%|          | 0/256 [00:00<?, ?it/s]"
      ]
     },
     "metadata": {},
     "output_type": "display_data"
    },
    {
     "data": {
      "application/vnd.jupyter.widget-view+json": {
       "model_id": "6b93f572450f4e54a260c8ca4e8aed20",
       "version_major": 2,
       "version_minor": 0
      },
      "text/plain": [
       "Riemann Tensor $R{^\\alpha}{_\\beta}{^\\gamma}{^\\delta}$:   0%|          | 0/256 [00:00<?, ?it/s]"
      ]
     },
     "metadata": {},
     "output_type": "display_data"
    },
    {
     "data": {
      "application/vnd.jupyter.widget-view+json": {
       "model_id": "e1baee44e2ab4bf4a99caf7e2adc7e79",
       "version_major": 2,
       "version_minor": 0
      },
      "text/plain": [
       "Riemann Tensor $R{^\\alpha}{_\\beta}{_\\gamma}{^\\delta}$:   0%|          | 0/256 [00:00<?, ?it/s]"
      ]
     },
     "metadata": {},
     "output_type": "display_data"
    },
    {
     "data": {
      "application/vnd.jupyter.widget-view+json": {
       "model_id": "8524bde53e314dbc9afffd17bd45cb31",
       "version_major": 2,
       "version_minor": 0
      },
      "text/plain": [
       "Riemann Tensor $R{_\\alpha}{^\\beta}{_\\gamma}{_\\delta}$:   0%|          | 0/256 [00:00<?, ?it/s]"
      ]
     },
     "metadata": {},
     "output_type": "display_data"
    },
    {
     "data": {
      "application/vnd.jupyter.widget-view+json": {
       "model_id": "89b5ac96575e4dd18927f985de7ff593",
       "version_major": 2,
       "version_minor": 0
      },
      "text/plain": [
       "Riemann Tensor $R{_\\alpha}{^\\beta}{^\\gamma}{_\\delta}$:   0%|          | 0/256 [00:00<?, ?it/s]"
      ]
     },
     "metadata": {},
     "output_type": "display_data"
    },
    {
     "data": {
      "application/vnd.jupyter.widget-view+json": {
       "model_id": "50d3425a37b74abeb3a1bf4ebbc2b51b",
       "version_major": 2,
       "version_minor": 0
      },
      "text/plain": [
       "Riemann Tensor $R{_\\alpha}{^\\beta}{^\\gamma}{^\\delta}$:   0%|          | 0/256 [00:00<?, ?it/s]"
      ]
     },
     "metadata": {},
     "output_type": "display_data"
    },
    {
     "data": {
      "application/vnd.jupyter.widget-view+json": {
       "model_id": "a91e1a40f6254a4b9f7480a54f125a95",
       "version_major": 2,
       "version_minor": 0
      },
      "text/plain": [
       "Riemann Tensor $R{_\\alpha}{^\\beta}{_\\gamma}{^\\delta}$:   0%|          | 0/256 [00:00<?, ?it/s]"
      ]
     },
     "metadata": {},
     "output_type": "display_data"
    },
    {
     "data": {
      "application/vnd.jupyter.widget-view+json": {
       "model_id": "656d327ee7e0478a9fe366f2775546a3",
       "version_major": 2,
       "version_minor": 0
      },
      "text/plain": [
       "Riemann Tensor $R{_\\alpha}{_\\beta}{^\\gamma}{_\\delta}$:   0%|          | 0/256 [00:00<?, ?it/s]"
      ]
     },
     "metadata": {},
     "output_type": "display_data"
    },
    {
     "data": {
      "application/vnd.jupyter.widget-view+json": {
       "model_id": "f74d758327f640c4a53111053d2474d9",
       "version_major": 2,
       "version_minor": 0
      },
      "text/plain": [
       "Riemann Tensor $R{_\\alpha}{_\\beta}{^\\gamma}{^\\delta}$:   0%|          | 0/256 [00:00<?, ?it/s]"
      ]
     },
     "metadata": {},
     "output_type": "display_data"
    },
    {
     "data": {
      "application/vnd.jupyter.widget-view+json": {
       "model_id": "00e679e5ca2f40a6ae10f7506e663369",
       "version_major": 2,
       "version_minor": 0
      },
      "text/plain": [
       "Riemann Tensor $R{_\\alpha}{_\\beta}{_\\gamma}{^\\delta}$:   0%|          | 0/256 [00:00<?, ?it/s]"
      ]
     },
     "metadata": {},
     "output_type": "display_data"
    },
    {
     "data": {
      "text/latex": [
       "All other indexes of Riemann Tensor $R$  already calculated."
      ],
      "text/plain": [
       "<IPython.core.display.Latex object>"
      ]
     },
     "metadata": {},
     "output_type": "display_data"
    }
   ],
   "source": [
    "RR = pt.riemann(All=True)"
   ]
  },
  {
   "cell_type": "code",
   "execution_count": 4,
   "metadata": {},
   "outputs": [
    {
     "data": {
      "text/plain": [
       "[0, 0, 0, 0]"
      ]
     },
     "execution_count": 4,
     "metadata": {},
     "output_type": "execute_result"
    }
   ],
   "source": [
    "RR('^i,^k,_k,^j').elements[0]"
   ]
  },
  {
   "cell_type": "code",
   "execution_count": 5,
   "metadata": {},
   "outputs": [],
   "source": [
    "LC = pt.LeviCivita()"
   ]
  },
  {
   "cell_type": "code",
   "execution_count": 6,
   "metadata": {},
   "outputs": [
    {
     "data": {
      "text/plain": [
       "[[0, 0, 0, 0], [0, 0, 0, 0], [0, 0, 0, 0], [0, 0, 0, 0]]"
      ]
     },
     "execution_count": 6,
     "metadata": {},
     "output_type": "execute_result"
    }
   ],
   "source": [
    "LC('^i,^j,^k,_k').elements"
   ]
  },
  {
   "cell_type": "code",
   "execution_count": 5,
   "metadata": {},
   "outputs": [
    {
     "data": {
      "text/latex": [
       "$\\displaystyle 4$"
      ],
      "text/plain": [
       "4"
      ]
     },
     "execution_count": 5,
     "metadata": {},
     "output_type": "execute_result"
    }
   ],
   "source": [
    "g('^i,_i')"
   ]
  },
  {
   "cell_type": "code",
   "execution_count": 4,
   "metadata": {},
   "outputs": [
    {
     "data": {
      "text/plain": [
       "[[[0, 0, 0], [0, 0, 1], [0, -1, 0]],\n",
       " [[0, 0, -1], [0, 0, 0], [1, 0, 0]],\n",
       " [[0, 1, 0], [-1, 0, 0], [0, 0, 0]]]"
      ]
     },
     "execution_count": 4,
     "metadata": {},
     "output_type": "execute_result"
    }
   ],
   "source": [
    "LC.tensor_sp[7]"
   ]
  },
  {
   "cell_type": "code",
   "execution_count": 4,
   "metadata": {},
   "outputs": [
    {
     "data": {
      "text/latex": [
       "$\\displaystyle {\\varepsilon}{}^{0}{}^{1}{}^{2} = \\mathtt{\\text{1}}$"
      ],
      "text/plain": [
       "<IPython.core.display.Math object>"
      ]
     },
     "metadata": {},
     "output_type": "display_data"
    },
    {
     "data": {
      "text/latex": [
       "$\\displaystyle {\\varepsilon}{}^{0}{}^{2}{}^{1} = \\mathtt{\\text{-1}}$"
      ],
      "text/plain": [
       "<IPython.core.display.Math object>"
      ]
     },
     "metadata": {},
     "output_type": "display_data"
    },
    {
     "data": {
      "text/latex": [
       "$\\displaystyle {\\varepsilon}{}^{1}{}^{0}{}^{2} = \\mathtt{\\text{-1}}$"
      ],
      "text/plain": [
       "<IPython.core.display.Math object>"
      ]
     },
     "metadata": {},
     "output_type": "display_data"
    },
    {
     "data": {
      "text/latex": [
       "$\\displaystyle {\\varepsilon}{}^{1}{}^{2}{}^{0} = \\mathtt{\\text{1}}$"
      ],
      "text/plain": [
       "<IPython.core.display.Math object>"
      ]
     },
     "metadata": {},
     "output_type": "display_data"
    },
    {
     "data": {
      "text/latex": [
       "$\\displaystyle {\\varepsilon}{}^{2}{}^{0}{}^{1} = \\mathtt{\\text{1}}$"
      ],
      "text/plain": [
       "<IPython.core.display.Math object>"
      ]
     },
     "metadata": {},
     "output_type": "display_data"
    },
    {
     "data": {
      "text/latex": [
       "$\\displaystyle {\\varepsilon}{}^{2}{}^{1}{}^{0} = \\mathtt{\\text{-1}}$"
      ],
      "text/plain": [
       "<IPython.core.display.Math object>"
      ]
     },
     "metadata": {},
     "output_type": "display_data"
    }
   ],
   "source": [
    "LC.display_spatial('^,^,^')"
   ]
  },
  {
   "cell_type": "code",
   "execution_count": 2,
   "metadata": {},
   "outputs": [],
   "source": [
    "def arePermsEqualParity(perm0, perm1):\n",
    "    \"\"\"Check if 2 permutations are of equal parity.\n",
    "\n",
    "    Assume that both permutation lists are of equal length\n",
    "    and have the same elements. No need to check for these\n",
    "    conditions.\n",
    "    \"\"\"\n",
    "    perm1 = list(perm1) ## copy this into a list so we don't mutate the original\n",
    "    perm1_map = dict((v, i) for i,v in enumerate(perm1))\n",
    "    transCount = 0\n",
    "    for loc, p0 in enumerate(perm0):\n",
    "        p1 = perm1[loc]\n",
    "        if p0 != p1:\n",
    "            sloc = perm1_map[p0]                       # Find position in perm1\n",
    "            perm1[loc], perm1[sloc] = p0, p1           # Swap in perm1\n",
    "            perm1_map[p0], perm1_map[p1] = loc, sloc   # Swap the map\n",
    "            transCount += 1\n",
    "    # Even number of transpositions means equal parity\n",
    "    value = (transCount % 2) == 0\n",
    "    \n",
    "    if value:\n",
    "        \n",
    "        return 1\n",
    "    \n",
    "    else:\n",
    "        \n",
    "        return -1\n",
    "    "
   ]
  },
  {
   "cell_type": "code",
   "execution_count": 91,
   "metadata": {},
   "outputs": [],
   "source": [
    "def values(n,dim):\n",
    "    \n",
    "    x = np.linspace(0,dim-1,dim)\n",
    "    \n",
    "    elements = np.asarray(list(product(x,repeat=n)),dtype=int) \n",
    "    \n",
    "    parity = np.zeros(dim**n,dtype=int)\n",
    "    \n",
    "    for pos,i in enumerate(elements):\n",
    "        \n",
    "        #print(i)\n",
    "        \n",
    "        if any(list(i).count(j) > 1 for j in i): # si hay repetidos\n",
    "            \n",
    "            #print(0)\n",
    "            \n",
    "            parity[pos] = 0\n",
    "        \n",
    "        else: # no estan repetidos\n",
    "        \n",
    "            parity[pos] = arePermsEqualParity(x,i)\n",
    "        \n",
    "            #print(parity[pos])\n",
    "        \n",
    "    return parity,elements"
   ]
  },
  {
   "cell_type": "code",
   "execution_count": 87,
   "metadata": {},
   "outputs": [],
   "source": [
    "def assign_LeviCivita_values(n,dim):\n",
    "    \n",
    "    val,elem=values(n,dim)\n",
    "    \n",
    "    ######## asignar al tensor, especificamente el Tdata\n",
    "    \n",
    "    "
   ]
  },
  {
   "cell_type": "code",
   "execution_count": 20,
   "metadata": {},
   "outputs": [],
   "source": [
    "from pytearcat.Tensor.core import config\n",
    "from pytearcat import new_ten\n",
    "from itertools import product as iterprod"
   ]
  },
  {
   "cell_type": "code",
   "execution_count": null,
   "metadata": {},
   "outputs": [],
   "source": [
    "def LeviCivita(name='LeviCivita'):\n",
    "    \n",
    "    '''\n",
    "    LeviCivita Symbol.\n",
    "\n",
    "    By default as the spatial coordinates permutations i,j,k...\n",
    "\n",
    "    If time == True then it corresponds to the space-time coordinates permutations.\n",
    "    \n",
    "    '''\n",
    "\n",
    "    rank = config.dim\n",
    "\n",
    "    Ten = new_ten(name,rank)\n",
    "\n",
    "    iterstring = ''\n",
    "    Larg = ''\n",
    "    \n",
    "    for i in range(rank):\n",
    "            \n",
    "        iterstring += '[p[%d]]'%i\n",
    "        Larg += 'p[%d],'%i\n",
    "    \n",
    "    Larg = Larg[:-1]\n",
    "    \n",
    "    for k in range(2**rank):\n",
    "\n",
    "        for p in iterprod(range(rank), repeat = rank):\n",
    "            \n",
    "            string = 'Ten.tensor[k]%s = core.LeviCivita(%s)'%(iterstring,Larg)\n",
    "            \n",
    "            exec(string,locals(),globals())\n",
    "\n",
    "    rank = rank - 1\n",
    "\n",
    "    \n",
    "    Ten.tensor_sp = tdata_construct(0,rank,rank)\n",
    "\n",
    "    iterstring = ''\n",
    "    Larg = ''\n",
    "    \n",
    "    for i in range(rank):\n",
    "            \n",
    "        iterstring += '[p[%d]]'%i\n",
    "        Larg += 'p[%d],'%i\n",
    "    \n",
    "    Larg = Larg[:-1]"
   ]
  },
  {
   "cell_type": "code",
   "execution_count": 92,
   "metadata": {},
   "outputs": [],
   "source": [
    "vals, order = values(4,4)"
   ]
  },
  {
   "cell_type": "code",
   "execution_count": 93,
   "metadata": {},
   "outputs": [
    {
     "data": {
      "text/plain": [
       "array([ 0,  0,  0,  0,  0,  0,  0,  0,  0,  0,  0,  0,  0,  0,  0,  0,  0,\n",
       "        0,  0,  0,  0,  0,  0,  0,  0,  0,  0,  1,  0,  0, -1,  0,  0,  0,\n",
       "        0,  0,  0,  0,  0, -1,  0,  0,  0,  0,  0,  1,  0,  0,  0,  0,  0,\n",
       "        0,  0,  0,  1,  0,  0, -1,  0,  0,  0,  0,  0,  0,  0,  0,  0,  0,\n",
       "        0,  0,  0,  0,  0,  0,  0, -1,  0,  0,  1,  0,  0,  0,  0,  0,  0,\n",
       "        0,  0,  0,  0,  0,  0,  0,  0,  0,  0,  0,  0,  0,  0,  1,  0,  0,\n",
       "        0,  0,  0,  0,  0,  0, -1,  0,  0,  0,  0,  0, -1,  0,  0,  0,  0,\n",
       "        0,  1,  0,  0,  0,  0,  0,  0,  0,  0,  0,  0,  0,  0,  0,  0,  1,\n",
       "        0,  0,  0,  0,  0, -1,  0,  0,  0,  0,  0, -1,  0,  0,  0,  0,  0,\n",
       "        0,  0,  0,  1,  0,  0,  0,  0,  0,  0,  0,  0,  0,  0,  0,  0,  0,\n",
       "        0,  0,  0,  0,  0,  0,  0,  1,  0,  0, -1,  0,  0,  0,  0,  0,  0,\n",
       "        0,  0,  0,  0,  0,  0,  0,  0,  0,  0,  0, -1,  0,  0,  1,  0,  0,\n",
       "        0,  0,  0,  0,  0,  0,  1,  0,  0,  0,  0,  0, -1,  0,  0,  0,  0,\n",
       "        0,  0,  0,  0, -1,  0,  0,  1,  0,  0,  0,  0,  0,  0,  0,  0,  0,\n",
       "        0,  0,  0,  0,  0,  0,  0,  0,  0,  0,  0,  0,  0,  0,  0,  0,  0,\n",
       "        0])"
      ]
     },
     "execution_count": 93,
     "metadata": {},
     "output_type": "execute_result"
    }
   ],
   "source": [
    "vals"
   ]
  },
  {
   "cell_type": "code",
   "execution_count": 46,
   "metadata": {},
   "outputs": [],
   "source": [
    "A = new_ten('LC',4)"
   ]
  },
  {
   "cell_type": "code",
   "execution_count": 89,
   "metadata": {},
   "outputs": [
    {
     "data": {
      "text/plain": [
       "array([[0, 0, 0, 0],\n",
       "       [0, 0, 0, 1],\n",
       "       [0, 0, 0, 2],\n",
       "       ...,\n",
       "       [3, 3, 3, 1],\n",
       "       [3, 3, 3, 2],\n",
       "       [3, 3, 3, 3]])"
      ]
     },
     "execution_count": 89,
     "metadata": {},
     "output_type": "execute_result"
    }
   ],
   "source": [
    "order"
   ]
  },
  {
   "cell_type": "code",
   "execution_count": 77,
   "metadata": {},
   "outputs": [
    {
     "ename": "AttributeError",
     "evalue": "module 'numpy' has no attribute 'as_str'",
     "output_type": "error",
     "traceback": [
      "\u001b[0;31m---------------------------------------------------------------------------\u001b[0m",
      "\u001b[0;31mAttributeError\u001b[0m                            Traceback (most recent call last)",
      "\u001b[0;32m<ipython-input-77-5b1996fa7ec1>\u001b[0m in \u001b[0;36m<module>\u001b[0;34m\u001b[0m\n\u001b[0;32m----> 1\u001b[0;31m \u001b[0mnp\u001b[0m\u001b[0;34m.\u001b[0m\u001b[0mas_str\u001b[0m\u001b[0;34m(\u001b[0m\u001b[0;34m)\u001b[0m\u001b[0;34m\u001b[0m\u001b[0;34m\u001b[0m\u001b[0m\n\u001b[0m",
      "\u001b[0;32m~/Documents/Code/pytearcat/venv/lib/python3.8/site-packages/numpy/__init__.py\u001b[0m in \u001b[0;36m__getattr__\u001b[0;34m(attr)\u001b[0m\n\u001b[1;32m    212\u001b[0m                 \u001b[0;32mreturn\u001b[0m \u001b[0mTester\u001b[0m\u001b[0;34m\u001b[0m\u001b[0;34m\u001b[0m\u001b[0m\n\u001b[1;32m    213\u001b[0m             \u001b[0;32melse\u001b[0m\u001b[0;34m:\u001b[0m\u001b[0;34m\u001b[0m\u001b[0;34m\u001b[0m\u001b[0m\n\u001b[0;32m--> 214\u001b[0;31m                 raise AttributeError(\"module {!r} has no attribute \"\n\u001b[0m\u001b[1;32m    215\u001b[0m                                      \"{!r}\".format(__name__, attr))\n\u001b[1;32m    216\u001b[0m \u001b[0;34m\u001b[0m\u001b[0m\n",
      "\u001b[0;31mAttributeError\u001b[0m: module 'numpy' has no attribute 'as_str'"
     ]
    }
   ],
   "source": [
    "np.as_str()"
   ]
  },
  {
   "cell_type": "code",
   "execution_count": 94,
   "metadata": {},
   "outputs": [
    {
     "data": {
      "text/plain": [
       "array(['0', '0', '0', '0'], dtype='<U21')"
      ]
     },
     "execution_count": 94,
     "metadata": {},
     "output_type": "execute_result"
    }
   ],
   "source": [
    "order[0].astype(np.str)"
   ]
  },
  {
   "cell_type": "code",
   "execution_count": 101,
   "metadata": {},
   "outputs": [
    {
     "data": {
      "text/plain": [
       "'[0][0][0][0]'"
      ]
     },
     "execution_count": 101,
     "metadata": {},
     "output_type": "execute_result"
    }
   ],
   "source": [
    "'['+']['.join(order[0].astype(np.str))+']'"
   ]
  },
  {
   "cell_type": "code",
   "execution_count": null,
   "metadata": {},
   "outputs": [],
   "source": [
    "''.join"
   ]
  },
  {
   "cell_type": "code",
   "execution_count": 105,
   "metadata": {},
   "outputs": [
    {
     "name": "stdout",
     "output_type": "stream",
     "text": [
      "[0 0 0 0]\n",
      "[0 0 0 1]\n",
      "[0 0 0 2]\n",
      "[0 0 0 3]\n",
      "[0 0 1 0]\n",
      "[0 0 1 1]\n",
      "[0 0 1 2]\n",
      "[0 0 1 3]\n",
      "[0 0 2 0]\n",
      "[0 0 2 1]\n",
      "[0 0 2 2]\n",
      "[0 0 2 3]\n",
      "[0 0 3 0]\n",
      "[0 0 3 1]\n",
      "[0 0 3 2]\n",
      "[0 0 3 3]\n",
      "[0 1 0 0]\n",
      "[0 1 0 1]\n",
      "[0 1 0 2]\n",
      "[0 1 0 3]\n",
      "[0 1 1 0]\n",
      "[0 1 1 1]\n",
      "[0 1 1 2]\n",
      "[0 1 1 3]\n",
      "[0 1 2 0]\n",
      "[0 1 2 1]\n",
      "[0 1 2 2]\n",
      "[0 1 2 3]\n",
      "[0 1 3 0]\n",
      "[0 1 3 1]\n",
      "[0 1 3 2]\n",
      "[0 1 3 3]\n",
      "[0 2 0 0]\n",
      "[0 2 0 1]\n",
      "[0 2 0 2]\n",
      "[0 2 0 3]\n",
      "[0 2 1 0]\n",
      "[0 2 1 1]\n",
      "[0 2 1 2]\n",
      "[0 2 1 3]\n",
      "[0 2 2 0]\n",
      "[0 2 2 1]\n",
      "[0 2 2 2]\n",
      "[0 2 2 3]\n",
      "[0 2 3 0]\n",
      "[0 2 3 1]\n",
      "[0 2 3 2]\n",
      "[0 2 3 3]\n",
      "[0 3 0 0]\n",
      "[0 3 0 1]\n",
      "[0 3 0 2]\n",
      "[0 3 0 3]\n",
      "[0 3 1 0]\n",
      "[0 3 1 1]\n",
      "[0 3 1 2]\n",
      "[0 3 1 3]\n",
      "[0 3 2 0]\n",
      "[0 3 2 1]\n",
      "[0 3 2 2]\n",
      "[0 3 2 3]\n",
      "[0 3 3 0]\n",
      "[0 3 3 1]\n",
      "[0 3 3 2]\n",
      "[0 3 3 3]\n",
      "[1 0 0 0]\n",
      "[1 0 0 1]\n",
      "[1 0 0 2]\n",
      "[1 0 0 3]\n",
      "[1 0 1 0]\n",
      "[1 0 1 1]\n",
      "[1 0 1 2]\n",
      "[1 0 1 3]\n",
      "[1 0 2 0]\n",
      "[1 0 2 1]\n",
      "[1 0 2 2]\n",
      "[1 0 2 3]\n",
      "[1 0 3 0]\n",
      "[1 0 3 1]\n",
      "[1 0 3 2]\n",
      "[1 0 3 3]\n",
      "[1 1 0 0]\n",
      "[1 1 0 1]\n",
      "[1 1 0 2]\n",
      "[1 1 0 3]\n",
      "[1 1 1 0]\n",
      "[1 1 1 1]\n",
      "[1 1 1 2]\n",
      "[1 1 1 3]\n",
      "[1 1 2 0]\n",
      "[1 1 2 1]\n",
      "[1 1 2 2]\n",
      "[1 1 2 3]\n",
      "[1 1 3 0]\n",
      "[1 1 3 1]\n",
      "[1 1 3 2]\n",
      "[1 1 3 3]\n",
      "[1 2 0 0]\n",
      "[1 2 0 1]\n",
      "[1 2 0 2]\n",
      "[1 2 0 3]\n",
      "[1 2 1 0]\n",
      "[1 2 1 1]\n",
      "[1 2 1 2]\n",
      "[1 2 1 3]\n",
      "[1 2 2 0]\n",
      "[1 2 2 1]\n",
      "[1 2 2 2]\n",
      "[1 2 2 3]\n",
      "[1 2 3 0]\n",
      "[1 2 3 1]\n",
      "[1 2 3 2]\n",
      "[1 2 3 3]\n",
      "[1 3 0 0]\n",
      "[1 3 0 1]\n",
      "[1 3 0 2]\n",
      "[1 3 0 3]\n",
      "[1 3 1 0]\n",
      "[1 3 1 1]\n",
      "[1 3 1 2]\n",
      "[1 3 1 3]\n",
      "[1 3 2 0]\n",
      "[1 3 2 1]\n",
      "[1 3 2 2]\n",
      "[1 3 2 3]\n",
      "[1 3 3 0]\n",
      "[1 3 3 1]\n",
      "[1 3 3 2]\n",
      "[1 3 3 3]\n",
      "[2 0 0 0]\n",
      "[2 0 0 1]\n",
      "[2 0 0 2]\n",
      "[2 0 0 3]\n",
      "[2 0 1 0]\n",
      "[2 0 1 1]\n",
      "[2 0 1 2]\n",
      "[2 0 1 3]\n",
      "[2 0 2 0]\n",
      "[2 0 2 1]\n",
      "[2 0 2 2]\n",
      "[2 0 2 3]\n",
      "[2 0 3 0]\n",
      "[2 0 3 1]\n",
      "[2 0 3 2]\n",
      "[2 0 3 3]\n",
      "[2 1 0 0]\n",
      "[2 1 0 1]\n",
      "[2 1 0 2]\n",
      "[2 1 0 3]\n",
      "[2 1 1 0]\n",
      "[2 1 1 1]\n",
      "[2 1 1 2]\n",
      "[2 1 1 3]\n",
      "[2 1 2 0]\n",
      "[2 1 2 1]\n",
      "[2 1 2 2]\n",
      "[2 1 2 3]\n",
      "[2 1 3 0]\n",
      "[2 1 3 1]\n",
      "[2 1 3 2]\n",
      "[2 1 3 3]\n",
      "[2 2 0 0]\n",
      "[2 2 0 1]\n",
      "[2 2 0 2]\n",
      "[2 2 0 3]\n",
      "[2 2 1 0]\n",
      "[2 2 1 1]\n",
      "[2 2 1 2]\n",
      "[2 2 1 3]\n",
      "[2 2 2 0]\n",
      "[2 2 2 1]\n",
      "[2 2 2 2]\n",
      "[2 2 2 3]\n",
      "[2 2 3 0]\n",
      "[2 2 3 1]\n",
      "[2 2 3 2]\n",
      "[2 2 3 3]\n",
      "[2 3 0 0]\n",
      "[2 3 0 1]\n",
      "[2 3 0 2]\n",
      "[2 3 0 3]\n",
      "[2 3 1 0]\n",
      "[2 3 1 1]\n",
      "[2 3 1 2]\n",
      "[2 3 1 3]\n",
      "[2 3 2 0]\n",
      "[2 3 2 1]\n",
      "[2 3 2 2]\n",
      "[2 3 2 3]\n",
      "[2 3 3 0]\n",
      "[2 3 3 1]\n",
      "[2 3 3 2]\n",
      "[2 3 3 3]\n",
      "[3 0 0 0]\n",
      "[3 0 0 1]\n",
      "[3 0 0 2]\n",
      "[3 0 0 3]\n",
      "[3 0 1 0]\n",
      "[3 0 1 1]\n",
      "[3 0 1 2]\n",
      "[3 0 1 3]\n",
      "[3 0 2 0]\n",
      "[3 0 2 1]\n",
      "[3 0 2 2]\n",
      "[3 0 2 3]\n",
      "[3 0 3 0]\n",
      "[3 0 3 1]\n",
      "[3 0 3 2]\n",
      "[3 0 3 3]\n",
      "[3 1 0 0]\n",
      "[3 1 0 1]\n",
      "[3 1 0 2]\n",
      "[3 1 0 3]\n",
      "[3 1 1 0]\n",
      "[3 1 1 1]\n",
      "[3 1 1 2]\n",
      "[3 1 1 3]\n",
      "[3 1 2 0]\n",
      "[3 1 2 1]\n",
      "[3 1 2 2]\n",
      "[3 1 2 3]\n",
      "[3 1 3 0]\n",
      "[3 1 3 1]\n",
      "[3 1 3 2]\n",
      "[3 1 3 3]\n",
      "[3 2 0 0]\n",
      "[3 2 0 1]\n",
      "[3 2 0 2]\n",
      "[3 2 0 3]\n",
      "[3 2 1 0]\n",
      "[3 2 1 1]\n",
      "[3 2 1 2]\n",
      "[3 2 1 3]\n",
      "[3 2 2 0]\n",
      "[3 2 2 1]\n",
      "[3 2 2 2]\n",
      "[3 2 2 3]\n",
      "[3 2 3 0]\n",
      "[3 2 3 1]\n",
      "[3 2 3 2]\n",
      "[3 2 3 3]\n",
      "[3 3 0 0]\n",
      "[3 3 0 1]\n",
      "[3 3 0 2]\n",
      "[3 3 0 3]\n",
      "[3 3 1 0]\n",
      "[3 3 1 1]\n",
      "[3 3 1 2]\n",
      "[3 3 1 3]\n",
      "[3 3 2 0]\n",
      "[3 3 2 1]\n",
      "[3 3 2 2]\n",
      "[3 3 2 3]\n",
      "[3 3 3 0]\n",
      "[3 3 3 1]\n",
      "[3 3 3 2]\n",
      "[3 3 3 3]\n"
     ]
    }
   ],
   "source": [
    "for i,j in enumerate(order):\n",
    "    \n",
    "    print(j)"
   ]
  },
  {
   "cell_type": "code",
   "execution_count": null,
   "metadata": {},
   "outputs": [],
   "source": [
    "'[]'"
   ]
  },
  {
   "cell_type": "code",
   "execution_count": 57,
   "metadata": {},
   "outputs": [
    {
     "ename": "TypeError",
     "evalue": "only integer scalar arrays can be converted to a scalar index",
     "output_type": "error",
     "traceback": [
      "\u001b[0;31m---------------------------------------------------------------------------\u001b[0m",
      "\u001b[0;31mTypeError\u001b[0m                                 Traceback (most recent call last)",
      "\u001b[0;32m<ipython-input-57-fe1b5a327d06>\u001b[0m in \u001b[0;36m<module>\u001b[0;34m\u001b[0m\n\u001b[0;32m----> 1\u001b[0;31m \u001b[0mA\u001b[0m\u001b[0;34m.\u001b[0m\u001b[0mtensor\u001b[0m\u001b[0;34m[\u001b[0m\u001b[0;36m0\u001b[0m\u001b[0;34m]\u001b[0m\u001b[0;34m[\u001b[0m\u001b[0morder\u001b[0m\u001b[0;34m[\u001b[0m\u001b[0;36m0\u001b[0m\u001b[0;34m]\u001b[0m\u001b[0;34m]\u001b[0m\u001b[0;34m[\u001b[0m\u001b[0morder\u001b[0m\u001b[0;34m[\u001b[0m\u001b[0;36m1\u001b[0m\u001b[0;34m]\u001b[0m\u001b[0;34m]\u001b[0m\u001b[0;34m[\u001b[0m\u001b[0morder\u001b[0m\u001b[0;34m[\u001b[0m\u001b[0;36m2\u001b[0m\u001b[0;34m]\u001b[0m\u001b[0;34m]\u001b[0m\u001b[0;34m[\u001b[0m\u001b[0morder\u001b[0m\u001b[0;34m[\u001b[0m\u001b[0;36m3\u001b[0m\u001b[0;34m]\u001b[0m\u001b[0;34m]\u001b[0m\u001b[0;34m\u001b[0m\u001b[0;34m\u001b[0m\u001b[0m\n\u001b[0m",
      "\u001b[0;31mTypeError\u001b[0m: only integer scalar arrays can be converted to a scalar index"
     ]
    }
   ],
   "source": [
    "for rank in order \n",
    "\n",
    "A.tensor[0][order[0]][order[1]][order[2]][order[3]]"
   ]
  },
  {
   "cell_type": "code",
   "execution_count": null,
   "metadata": {},
   "outputs": [],
   "source": [
    "lol = "
   ]
  },
  {
   "cell_type": "code",
   "execution_count": null,
   "metadata": {},
   "outputs": [],
   "source": [
    "Levicivita(space_only=True)"
   ]
  },
  {
   "cell_type": "code",
   "execution_count": 17,
   "metadata": {},
   "outputs": [
    {
     "data": {
      "text/plain": [
       "[(1, 2, 3), (1, 3, 2), (2, 1, 3), (2, 3, 1), (3, 1, 2), (3, 2, 1)]"
      ]
     },
     "execution_count": 17,
     "metadata": {},
     "output_type": "execute_result"
    }
   ],
   "source": [
    "list(permutations([1,2,3]))"
   ]
  },
  {
   "cell_type": "code",
   "execution_count": 107,
   "metadata": {},
   "outputs": [
    {
     "data": {
      "text/plain": [
       "[[[-1, 0, 0], [0, -1, 0], [0, 0, -1]],\n",
       " [[1, 0, 0], [0, 1, 0], [0, 0, 1]],\n",
       " [[1, 0, 0], [0, 1, 0], [0, 0, 1]],\n",
       " [[-1, 0, 0], [0, -1, 0], [0, 0, -1]]]"
      ]
     },
     "execution_count": 107,
     "metadata": {},
     "output_type": "execute_result"
    }
   ],
   "source": [
    "g.tensor_sp"
   ]
  },
  {
   "cell_type": "code",
   "execution_count": 108,
   "metadata": {},
   "outputs": [],
   "source": [
    "A = new_ten('a',3)"
   ]
  },
  {
   "cell_type": "code",
   "execution_count": 109,
   "metadata": {},
   "outputs": [
    {
     "data": {
      "text/plain": [
       "[[[[nan, nan, nan], [nan, nan, nan], [nan, nan, nan]],\n",
       "  [[nan, nan, nan], [nan, nan, nan], [nan, nan, nan]],\n",
       "  [[nan, nan, nan], [nan, nan, nan], [nan, nan, nan]]],\n",
       " [[[nan, nan, nan], [nan, nan, nan], [nan, nan, nan]],\n",
       "  [[nan, nan, nan], [nan, nan, nan], [nan, nan, nan]],\n",
       "  [[nan, nan, nan], [nan, nan, nan], [nan, nan, nan]]],\n",
       " [[[nan, nan, nan], [nan, nan, nan], [nan, nan, nan]],\n",
       "  [[nan, nan, nan], [nan, nan, nan], [nan, nan, nan]],\n",
       "  [[nan, nan, nan], [nan, nan, nan], [nan, nan, nan]]],\n",
       " [[[nan, nan, nan], [nan, nan, nan], [nan, nan, nan]],\n",
       "  [[nan, nan, nan], [nan, nan, nan], [nan, nan, nan]],\n",
       "  [[nan, nan, nan], [nan, nan, nan], [nan, nan, nan]]],\n",
       " [[[nan, nan, nan], [nan, nan, nan], [nan, nan, nan]],\n",
       "  [[nan, nan, nan], [nan, nan, nan], [nan, nan, nan]],\n",
       "  [[nan, nan, nan], [nan, nan, nan], [nan, nan, nan]]],\n",
       " [[[nan, nan, nan], [nan, nan, nan], [nan, nan, nan]],\n",
       "  [[nan, nan, nan], [nan, nan, nan], [nan, nan, nan]],\n",
       "  [[nan, nan, nan], [nan, nan, nan], [nan, nan, nan]]],\n",
       " [[[nan, nan, nan], [nan, nan, nan], [nan, nan, nan]],\n",
       "  [[nan, nan, nan], [nan, nan, nan], [nan, nan, nan]],\n",
       "  [[nan, nan, nan], [nan, nan, nan], [nan, nan, nan]]],\n",
       " [[[nan, nan, nan], [nan, nan, nan], [nan, nan, nan]],\n",
       "  [[nan, nan, nan], [nan, nan, nan], [nan, nan, nan]],\n",
       "  [[nan, nan, nan], [nan, nan, nan], [nan, nan, nan]]]]"
      ]
     },
     "execution_count": 109,
     "metadata": {},
     "output_type": "execute_result"
    }
   ],
   "source": [
    "A.tensor_sp"
   ]
  },
  {
   "cell_type": "code",
   "execution_count": null,
   "metadata": {},
   "outputs": [],
   "source": []
  }
 ],
 "metadata": {
  "kernelspec": {
   "display_name": "Python 3",
   "language": "python",
   "name": "python3"
  },
  "language_info": {
   "codemirror_mode": {
    "name": "ipython",
    "version": 3
   },
   "file_extension": ".py",
   "mimetype": "text/x-python",
   "name": "python",
   "nbconvert_exporter": "python",
   "pygments_lexer": "ipython3",
   "version": "3.8.2"
  }
 },
 "nbformat": 4,
 "nbformat_minor": 5
}
