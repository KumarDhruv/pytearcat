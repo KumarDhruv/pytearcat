{
 "cells": [
  {
   "cell_type": "code",
   "execution_count": 8,
   "id": "closed-doctor",
   "metadata": {},
   "outputs": [
    {
     "name": "stdout",
     "output_type": "stream",
     "text": [
      "6\n"
     ]
    }
   ],
   "source": [
    "import numpy as np\n",
    "\n",
    "def main():\n",
    "    \n",
    "    print(np.sum([2,4]))\n",
    "\n",
    "\n",
    "import sys\n",
    "import trace\n",
    "\n",
    "# create a Trace object, telling it what to ignore, and whether to\n",
    "# do tracing or line-counting or both.\n",
    "tracer = trace.Trace(\n",
    "    ignoredirs=[sys.prefix, sys.exec_prefix],\n",
    "    trace=0,\n",
    "    count=1)\n",
    "\n",
    "# run the new command using the given tracer\n",
    "tracer.run('main()')\n",
    "\n",
    "# make a report, placing output in the current directory\n",
    "r = tracer.results()\n",
    "r.write_results(show_missing=True, coverdir=\".\")"
   ]
  },
  {
   "cell_type": "code",
   "execution_count": 15,
   "id": "blank-marriage",
   "metadata": {},
   "outputs": [
    {
     "data": {
      "text/plain": [
       "{}"
      ]
     },
     "execution_count": 15,
     "metadata": {},
     "output_type": "execute_result"
    }
   ],
   "source": [
    "r.counter"
   ]
  },
  {
   "cell_type": "code",
   "execution_count": null,
   "id": "concrete-hobby",
   "metadata": {},
   "outputs": [],
   "source": []
  }
 ],
 "metadata": {
  "kernelspec": {
   "display_name": "Python 3",
   "language": "python",
   "name": "python3"
  },
  "language_info": {
   "codemirror_mode": {
    "name": "ipython",
    "version": 3
   },
   "file_extension": ".py",
   "mimetype": "text/x-python",
   "name": "python",
   "nbconvert_exporter": "python",
   "pygments_lexer": "ipython3",
   "version": "3.8.8"
  }
 },
 "nbformat": 4,
 "nbformat_minor": 5
}
