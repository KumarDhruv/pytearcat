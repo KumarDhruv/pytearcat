{
 "cells": [
  {
   "cell_type": "code",
   "execution_count": 2,
   "metadata": {},
   "outputs": [
    {
     "ename": "ImportError",
     "evalue": "cannot import name 'Symbol' from 'pytensor.Tensor.core.core' (C:\\Users\\rmad_\\Google Drive\\Investigaciones\\Pytensor\\Versiones\\Version 9 11 2020\\pytensor-master\\pytensor-master\\pytensor\\Tensor\\core\\core.py)",
     "output_type": "error",
     "traceback": [
      "\u001b[1;31m---------------------------------------------------------------------------\u001b[0m",
      "\u001b[1;31mImportError\u001b[0m                               Traceback (most recent call last)",
      "\u001b[1;32m<ipython-input-2-c5f8864b9cd2>\u001b[0m in \u001b[0;36m<module>\u001b[1;34m\u001b[0m\n\u001b[1;32m----> 1\u001b[1;33m \u001b[1;32mimport\u001b[0m \u001b[0mpytensor\u001b[0m \u001b[1;32mas\u001b[0m \u001b[0mpt\u001b[0m\u001b[1;33m\u001b[0m\u001b[1;33m\u001b[0m\u001b[0m\n\u001b[0m\u001b[0;32m      2\u001b[0m \u001b[1;32mimport\u001b[0m \u001b[0mgiac\u001b[0m \u001b[1;32mas\u001b[0m \u001b[0mgp\u001b[0m\u001b[1;33m\u001b[0m\u001b[1;33m\u001b[0m\u001b[0m\n",
      "\u001b[1;32m~\\Google Drive\\Investigaciones\\Pytensor\\Versiones\\Version 9 11 2020\\pytensor-master\\pytensor-master\\pytensor\\__init__.py\u001b[0m in \u001b[0;36m<module>\u001b[1;34m\u001b[0m\n\u001b[1;32m----> 1\u001b[1;33m \u001b[1;32mfrom\u001b[0m \u001b[1;33m.\u001b[0m\u001b[0mGR\u001b[0m \u001b[1;32mimport\u001b[0m \u001b[0mdef_coords\u001b[0m\u001b[1;33m,\u001b[0m \u001b[0mcreate_metric\u001b[0m\u001b[1;33m,\u001b[0m \u001b[0mchristoffel\u001b[0m\u001b[1;33m,\u001b[0m \u001b[0mriemann\u001b[0m\u001b[1;33m,\u001b[0m \u001b[0meinstein\u001b[0m\u001b[1;33m,\u001b[0m \u001b[0mgeodesic\u001b[0m\u001b[1;33m\u001b[0m\u001b[1;33m\u001b[0m\u001b[0m\n\u001b[0m\u001b[0;32m      2\u001b[0m \u001b[1;33m\u001b[0m\u001b[0m\n\u001b[0;32m      3\u001b[0m from .Tensor import (setorder, series, new_var, new_con, new_fun, new_ten,\n\u001b[0;32m      4\u001b[0m                     LeviCivita, KroneckerDelta, D,C)\n\u001b[0;32m      5\u001b[0m \u001b[1;33m\u001b[0m\u001b[0m\n",
      "\u001b[1;32m~\\Google Drive\\Investigaciones\\Pytensor\\Versiones\\Version 9 11 2020\\pytensor-master\\pytensor-master\\pytensor\\GR\\__init__.py\u001b[0m in \u001b[0;36m<module>\u001b[1;34m\u001b[0m\n\u001b[1;32m----> 1\u001b[1;33m \u001b[1;32mfrom\u001b[0m \u001b[1;33m.\u001b[0m\u001b[0mmetric\u001b[0m \u001b[1;32mimport\u001b[0m \u001b[0mdef_coords\u001b[0m\u001b[1;33m,\u001b[0m \u001b[0mcreate_metric\u001b[0m\u001b[1;33m\u001b[0m\u001b[1;33m\u001b[0m\u001b[0m\n\u001b[0m\u001b[0;32m      2\u001b[0m \u001b[1;32mfrom\u001b[0m \u001b[1;33m.\u001b[0m\u001b[0mchristoffel\u001b[0m \u001b[1;32mimport\u001b[0m \u001b[0mcalculate_christoffel\u001b[0m \u001b[1;32mas\u001b[0m \u001b[0mchristoffel\u001b[0m\u001b[1;33m\u001b[0m\u001b[1;33m\u001b[0m\u001b[0m\n\u001b[0;32m      3\u001b[0m \u001b[1;32mfrom\u001b[0m \u001b[1;33m.\u001b[0m\u001b[0mriemann\u001b[0m \u001b[1;32mimport\u001b[0m \u001b[0mcalculate_riemann\u001b[0m \u001b[1;32mas\u001b[0m \u001b[0mriemann\u001b[0m\u001b[1;33m\u001b[0m\u001b[1;33m\u001b[0m\u001b[0m\n\u001b[0;32m      4\u001b[0m \u001b[1;32mfrom\u001b[0m \u001b[1;33m.\u001b[0m\u001b[0meinstein\u001b[0m \u001b[1;32mimport\u001b[0m \u001b[0mcalculate_einstein\u001b[0m \u001b[1;32mas\u001b[0m \u001b[0meinstein\u001b[0m\u001b[1;33m\u001b[0m\u001b[1;33m\u001b[0m\u001b[0m\n\u001b[0;32m      5\u001b[0m \u001b[1;32mfrom\u001b[0m \u001b[1;33m.\u001b[0m\u001b[0mgeodesic\u001b[0m \u001b[1;32mimport\u001b[0m \u001b[0mgeodesic\u001b[0m\u001b[1;33m\u001b[0m\u001b[1;33m\u001b[0m\u001b[0m\n",
      "\u001b[1;32m~\\Google Drive\\Investigaciones\\Pytensor\\Versiones\\Version 9 11 2020\\pytensor-master\\pytensor-master\\pytensor\\GR\\metric.py\u001b[0m in \u001b[0;36m<module>\u001b[1;34m\u001b[0m\n\u001b[0;32m      2\u001b[0m \u001b[1;32mfrom\u001b[0m \u001b[0mpytensor\u001b[0m\u001b[1;33m.\u001b[0m\u001b[0mTensor\u001b[0m\u001b[1;33m.\u001b[0m\u001b[0mcore\u001b[0m \u001b[1;32mimport\u001b[0m \u001b[0mconfig\u001b[0m\u001b[1;33m\u001b[0m\u001b[1;33m\u001b[0m\u001b[0m\n\u001b[0;32m      3\u001b[0m \u001b[1;32mfrom\u001b[0m \u001b[0mpytensor\u001b[0m\u001b[1;33m.\u001b[0m\u001b[0mTensor\u001b[0m\u001b[1;33m.\u001b[0m\u001b[0mcore\u001b[0m\u001b[1;33m.\u001b[0m\u001b[0mcore\u001b[0m \u001b[1;32mimport\u001b[0m \u001b[1;33m*\u001b[0m\u001b[1;33m\u001b[0m\u001b[1;33m\u001b[0m\u001b[0m\n\u001b[1;32m----> 4\u001b[1;33m \u001b[1;32mfrom\u001b[0m \u001b[0mpytensor\u001b[0m\u001b[1;33m.\u001b[0m\u001b[0mTensor\u001b[0m\u001b[1;33m.\u001b[0m\u001b[0mmisc\u001b[0m \u001b[1;32mimport\u001b[0m \u001b[0mnew_var\u001b[0m\u001b[1;33m,\u001b[0m\u001b[0mnew_ten\u001b[0m\u001b[1;33m,\u001b[0m \u001b[0mreload_all\u001b[0m\u001b[1;33m\u001b[0m\u001b[1;33m\u001b[0m\u001b[0m\n\u001b[0m\u001b[0;32m      5\u001b[0m \u001b[1;32mfrom\u001b[0m \u001b[0mpytensor\u001b[0m\u001b[1;33m.\u001b[0m\u001b[0mTensor\u001b[0m\u001b[1;33m.\u001b[0m\u001b[0mtensor_class\u001b[0m \u001b[1;32mimport\u001b[0m \u001b[0mTensor\u001b[0m\u001b[1;33m,\u001b[0m \u001b[0mtensor_series\u001b[0m\u001b[1;33m\u001b[0m\u001b[1;33m\u001b[0m\u001b[0m\n\u001b[0;32m      6\u001b[0m \u001b[1;32mfrom\u001b[0m \u001b[0mpytensor\u001b[0m\u001b[1;33m.\u001b[0m\u001b[0mTensor\u001b[0m\u001b[1;33m.\u001b[0m\u001b[0mcore\u001b[0m\u001b[1;33m.\u001b[0m\u001b[0mconfig\u001b[0m \u001b[1;32mimport\u001b[0m \u001b[1;33m*\u001b[0m\u001b[1;33m\u001b[0m\u001b[1;33m\u001b[0m\u001b[0m\n",
      "\u001b[1;32m~\\Google Drive\\Investigaciones\\Pytensor\\Versiones\\Version 9 11 2020\\pytensor-master\\pytensor-master\\pytensor\\Tensor\\__init__.py\u001b[0m in \u001b[0;36m<module>\u001b[1;34m\u001b[0m\n\u001b[1;32m----> 1\u001b[1;33m \u001b[1;32mfrom\u001b[0m \u001b[1;33m.\u001b[0m\u001b[0mmisc\u001b[0m \u001b[1;32mimport\u001b[0m \u001b[0msetorder\u001b[0m\u001b[1;33m,\u001b[0m \u001b[0mseries\u001b[0m\u001b[1;33m,\u001b[0m \u001b[0mnew_var\u001b[0m\u001b[1;33m,\u001b[0m \u001b[0mnew_con\u001b[0m\u001b[1;33m,\u001b[0m \u001b[0mnew_fun\u001b[0m\u001b[1;33m,\u001b[0m \u001b[0mnew_ten\u001b[0m\u001b[1;33m\u001b[0m\u001b[1;33m\u001b[0m\u001b[0m\n\u001b[0m\u001b[0;32m      2\u001b[0m \u001b[1;32mfrom\u001b[0m \u001b[1;33m.\u001b[0m\u001b[0mhelpers\u001b[0m \u001b[1;32mimport\u001b[0m \u001b[0mLeviCivita\u001b[0m\u001b[1;33m,\u001b[0m \u001b[0mKroneckerDelta\u001b[0m\u001b[1;33m\u001b[0m\u001b[1;33m\u001b[0m\u001b[0m\n\u001b[0;32m      3\u001b[0m \u001b[1;32mfrom\u001b[0m \u001b[1;33m.\u001b[0m\u001b[0mtensor_class\u001b[0m \u001b[1;32mimport\u001b[0m \u001b[0mD\u001b[0m\u001b[1;33m,\u001b[0m \u001b[0mC\u001b[0m\u001b[1;33m\u001b[0m\u001b[1;33m\u001b[0m\u001b[0m\n",
      "\u001b[1;32m~\\Google Drive\\Investigaciones\\Pytensor\\Versiones\\Version 9 11 2020\\pytensor-master\\pytensor-master\\pytensor\\Tensor\\misc.py\u001b[0m in \u001b[0;36m<module>\u001b[1;34m\u001b[0m\n\u001b[0;32m      2\u001b[0m \u001b[1;32mfrom\u001b[0m \u001b[0mre\u001b[0m \u001b[1;32mimport\u001b[0m \u001b[0mfindall\u001b[0m\u001b[1;33m\u001b[0m\u001b[1;33m\u001b[0m\u001b[0m\n\u001b[0;32m      3\u001b[0m \u001b[1;32mfrom\u001b[0m \u001b[1;33m.\u001b[0m\u001b[0mcore\u001b[0m \u001b[1;32mimport\u001b[0m \u001b[0mconfig\u001b[0m\u001b[1;33m\u001b[0m\u001b[1;33m\u001b[0m\u001b[0m\n\u001b[1;32m----> 4\u001b[1;33m \u001b[1;32mfrom\u001b[0m \u001b[1;33m.\u001b[0m\u001b[0mcore\u001b[0m\u001b[1;33m.\u001b[0m\u001b[0mcore\u001b[0m \u001b[1;32mimport\u001b[0m \u001b[0mSymbol\u001b[0m\u001b[1;33m,\u001b[0m \u001b[0mget_name\u001b[0m\u001b[1;33m,\u001b[0m \u001b[0msimplify\u001b[0m\u001b[1;33m,\u001b[0m \u001b[0mexpand\u001b[0m\u001b[1;33m,\u001b[0m \u001b[0mseries\u001b[0m \u001b[1;32mas\u001b[0m \u001b[0mSeries\u001b[0m\u001b[1;33m\u001b[0m\u001b[1;33m\u001b[0m\u001b[0m\n\u001b[0m\u001b[0;32m      5\u001b[0m \u001b[1;32mfrom\u001b[0m \u001b[1;33m.\u001b[0m\u001b[0mcore\u001b[0m\u001b[1;33m.\u001b[0m\u001b[0merrors\u001b[0m \u001b[1;32mimport\u001b[0m \u001b[0mTensorSyntaxError\u001b[0m\u001b[1;33m\u001b[0m\u001b[1;33m\u001b[0m\u001b[0m\n\u001b[0;32m      6\u001b[0m \u001b[1;32mfrom\u001b[0m \u001b[1;33m.\u001b[0m\u001b[0mtensor_class\u001b[0m \u001b[1;32mimport\u001b[0m \u001b[0mTensor\u001b[0m\u001b[1;33m\u001b[0m\u001b[1;33m\u001b[0m\u001b[0m\n",
      "\u001b[1;31mImportError\u001b[0m: cannot import name 'Symbol' from 'pytensor.Tensor.core.core' (C:\\Users\\rmad_\\Google Drive\\Investigaciones\\Pytensor\\Versiones\\Version 9 11 2020\\pytensor-master\\pytensor-master\\pytensor\\Tensor\\core\\core.py)"
     ]
    }
   ],
   "source": [
    "import pytensor as pt \n",
    "import giac as gp"
   ]
  },
  {
   "cell_type": "code",
   "execution_count": 2,
   "metadata": {},
   "outputs": [
    {
     "name": "stdout",
     "output_type": "stream",
     "text": [
      "Remember that the time coordinate must be the first coordinate.\n",
      "\n",
      "Dimension = 4\n",
      "Coordinates = eta,x,y,z\n",
      "Metric was defined successfully: \n",
      "\n"
     ]
    },
    {
     "data": {
      "text/latex": [
       "$\\displaystyle ds^2 = - \\left(2 \\epsilon \\psi{\\left(\\eta,x,y,z \\right)} + 1\\right) a^{2}{\\left(\\eta \\right)} \\cdot d\\eta^2+\\left(2 \\epsilon \\phi{\\left(\\eta,x,y,z \\right)} + 1\\right) a^{2}{\\left(\\eta \\right)} \\cdot dx^2+\\left(2 \\epsilon \\phi{\\left(\\eta,x,y,z \\right)} + 1\\right) a^{2}{\\left(\\eta \\right)} \\cdot dy^2+\\left(2 \\epsilon \\phi{\\left(\\eta,x,y,z \\right)} + 1\\right) a^{2}{\\left(\\eta \\right)} \\cdot dz^2$"
      ],
      "text/plain": [
       "<IPython.core.display.Math object>"
      ]
     },
     "metadata": {},
     "output_type": "display_data"
    },
    {
     "data": {
      "text/latex": [
       "$\\displaystyle \\left[\\begin{matrix}- \\left(2 \\epsilon \\psi{\\left(\\eta,x,y,z \\right)} + 1\\right) a^{2}{\\left(\\eta \\right)} & 0 & 0 & 0\\\\0 & \\left(2 \\epsilon \\phi{\\left(\\eta,x,y,z \\right)} + 1\\right) a^{2}{\\left(\\eta \\right)} & 0 & 0\\\\0 & 0 & \\left(2 \\epsilon \\phi{\\left(\\eta,x,y,z \\right)} + 1\\right) a^{2}{\\left(\\eta \\right)} & 0\\\\0 & 0 & 0 & \\left(2 \\epsilon \\phi{\\left(\\eta,x,y,z \\right)} + 1\\right) a^{2}{\\left(\\eta \\right)}\\end{matrix}\\right]$"
      ],
      "text/plain": [
       "<IPython.core.display.Math object>"
      ]
     },
     "metadata": {},
     "output_type": "display_data"
    }
   ],
   "source": [
    "eta,x,y,z = pt.def_coords('eta,x,y,z')\n",
    "a = pt.new_fun('a','eta')\n",
    "psi = pt.new_fun('psi','eta,x,y,z')\n",
    "phi = pt.new_fun('phi','eta,x,y,z')\n",
    "\n",
    "pt.setorder('epsilon',1)\n",
    "\n",
    "g = pt.create_metric('ds2 = a**2*(-deta**2*(1+2*psi*epsilon) + (1+2*phi*epsilon)*(dx**2 + dy**2 + dz**2))')"
   ]
  },
  {
   "cell_type": "code",
   "execution_count": 3,
   "metadata": {},
   "outputs": [
    {
     "data": {
      "application/vnd.jupyter.widget-view+json": {
       "model_id": "f6b6381fcbdd4c61b792c3af6fabaf01",
       "version_major": 2,
       "version_minor": 0
      },
      "text/plain": [
       "HBox(children=(HTML(value='Christoffel $\\\\Gamma_{\\\\alpha \\\\beta \\\\gamma}$ and $\\\\Gamma^{\\\\alpha}_{\\\\beta \\\\gam…"
      ]
     },
     "metadata": {},
     "output_type": "display_data"
    },
    {
     "name": "stdout",
     "output_type": "stream",
     "text": [
      "\n"
     ]
    },
    {
     "data": {
      "application/vnd.jupyter.widget-view+json": {
       "model_id": "9766cd927fd44c6d87916218fb134fa0",
       "version_major": 2,
       "version_minor": 0
      },
      "text/plain": [
       "HBox(children=(HTML(value='Riemann Tensor $R^{\\\\alpha}_{\\\\beta \\\\gamma \\\\delta}$'), FloatProgress(value=0.0, m…"
      ]
     },
     "metadata": {},
     "output_type": "display_data"
    },
    {
     "name": "stdout",
     "output_type": "stream",
     "text": [
      "\n"
     ]
    },
    {
     "data": {
      "application/vnd.jupyter.widget-view+json": {
       "model_id": "220f6ba0244e4a35bfc77e7535f11987",
       "version_major": 2,
       "version_minor": 0
      },
      "text/plain": [
       "HBox(children=(HTML(value='Ricci Tensor $R_{\\\\alpha \\\\beta}$'), FloatProgress(value=0.0, max=16.0), HTML(value…"
      ]
     },
     "metadata": {},
     "output_type": "display_data"
    },
    {
     "name": "stdout",
     "output_type": "stream",
     "text": [
      "\n"
     ]
    },
    {
     "data": {
      "application/vnd.jupyter.widget-view+json": {
       "model_id": "4c09c51e66344062972269a3d1644ec5",
       "version_major": 2,
       "version_minor": 0
      },
      "text/plain": [
       "HBox(children=(HTML(value='Ricci Scalar $R$'), FloatProgress(value=0.0, max=16.0), HTML(value='')))"
      ]
     },
     "metadata": {},
     "output_type": "display_data"
    },
    {
     "name": "stdout",
     "output_type": "stream",
     "text": [
      "\n"
     ]
    },
    {
     "data": {
      "application/vnd.jupyter.widget-view+json": {
       "model_id": "9ba5705f7c064208827007fb0f9b2126",
       "version_major": 2,
       "version_minor": 0
      },
      "text/plain": [
       "HBox(children=(HTML(value='Einstein Tensor $G_{\\\\alpha \\\\beta}$'), FloatProgress(value=0.0, max=16.0), HTML(va…"
      ]
     },
     "metadata": {},
     "output_type": "display_data"
    },
    {
     "name": "stdout",
     "output_type": "stream",
     "text": [
      "\n"
     ]
    },
    {
     "data": {
      "application/vnd.jupyter.widget-view+json": {
       "model_id": "e4a4190cbf2045b69cadfce2013b419f",
       "version_major": 2,
       "version_minor": 0
      },
      "text/plain": [
       "HBox(children=(HTML(value='Einstein Tensor $G{^\\\\alpha}{_\\\\beta}$'), FloatProgress(value=0.0, max=16.0), HTML(…"
      ]
     },
     "metadata": {},
     "output_type": "display_data"
    },
    {
     "name": "stdout",
     "output_type": "stream",
     "text": [
      "En subir indice\t [p[0]][j] [j][p[1]] [p[0]][p[1]]\n",
      "En subir indice\t [p[0]][j] [j][p[1]] [p[0]][p[1]]\n",
      "En subir indice\t [p[0]][j] [j][p[1]] [p[0]][p[1]]\n",
      "En subir indice\t [p[0]][j] [j][p[1]] [p[0]][p[1]]\n",
      "En subir indice\t [p[0]][j] [j][p[1]] [p[0]][p[1]]\n",
      "En subir indice\t [p[0]][j] [j][p[1]] [p[0]][p[1]]\n",
      "En subir indice\t [p[0]][j] [j][p[1]] [p[0]][p[1]]\n",
      "En subir indice\t [p[0]][j] [j][p[1]] [p[0]][p[1]]\n",
      "En subir indice\t [p[0]][j] [j][p[1]] [p[0]][p[1]]\n",
      "En subir indice\t [p[0]][j] [j][p[1]] [p[0]][p[1]]\n",
      "En subir indice\t [p[0]][j] [j][p[1]] [p[0]][p[1]]\n",
      "En subir indice\t [p[0]][j] [j][p[1]] [p[0]][p[1]]\n",
      "En subir indice\t [p[0]][j] [j][p[1]] [p[0]][p[1]]\n",
      "En subir indice\t [p[0]][j] [j][p[1]] [p[0]][p[1]]\n",
      "En subir indice\t [p[0]][j] [j][p[1]] [p[0]][p[1]]\n",
      "En subir indice\t [p[0]][j] [j][p[1]] [p[0]][p[1]]\n",
      "\n"
     ]
    },
    {
     "data": {
      "application/vnd.jupyter.widget-view+json": {
       "model_id": "78839fcb86e642c4bd1ecf5b80f35949",
       "version_major": 2,
       "version_minor": 0
      },
      "text/plain": [
       "HBox(children=(HTML(value='Einstein Tensor $G{^\\\\alpha}{^\\\\beta}$'), FloatProgress(value=0.0, max=16.0), HTML(…"
      ]
     },
     "metadata": {},
     "output_type": "display_data"
    },
    {
     "name": "stdout",
     "output_type": "stream",
     "text": [
      "En subir indice\t [p[1]][j] [p[0]][j] [p[0]][p[1]]\n",
      "En subir indice\t [p[1]][j] [p[0]][j] [p[0]][p[1]]\n",
      "En subir indice\t [p[1]][j] [p[0]][j] [p[0]][p[1]]\n",
      "En subir indice\t [p[1]][j] [p[0]][j] [p[0]][p[1]]\n",
      "En subir indice\t [p[1]][j] [p[0]][j] [p[0]][p[1]]\n",
      "En subir indice\t [p[1]][j] [p[0]][j] [p[0]][p[1]]\n",
      "En subir indice\t [p[1]][j] [p[0]][j] [p[0]][p[1]]\n",
      "En subir indice\t [p[1]][j] [p[0]][j] [p[0]][p[1]]\n",
      "En subir indice\t [p[1]][j] [p[0]][j] [p[0]][p[1]]\n",
      "En subir indice\t [p[1]][j] [p[0]][j] [p[0]][p[1]]\n",
      "En subir indice\t [p[1]][j] [p[0]][j] [p[0]][p[1]]\n",
      "En subir indice\t [p[1]][j] [p[0]][j] [p[0]][p[1]]\n",
      "En subir indice\t [p[1]][j] [p[0]][j] [p[0]][p[1]]\n",
      "En subir indice\t [p[1]][j] [p[0]][j] [p[0]][p[1]]\n",
      "En subir indice\t [p[1]][j] [p[0]][j] [p[0]][p[1]]\n",
      "En subir indice\t [p[1]][j] [p[0]][j] [p[0]][p[1]]\n",
      "\n"
     ]
    },
    {
     "data": {
      "application/vnd.jupyter.widget-view+json": {
       "model_id": "cfa6b51f1ebf4b6180906c8c973616b7",
       "version_major": 2,
       "version_minor": 0
      },
      "text/plain": [
       "HBox(children=(HTML(value='Einstein Tensor $G{_\\\\alpha}{^\\\\beta}$'), FloatProgress(value=0.0, max=16.0), HTML(…"
      ]
     },
     "metadata": {},
     "output_type": "display_data"
    },
    {
     "name": "stdout",
     "output_type": "stream",
     "text": [
      "En subir indice\t [p[1]][j] [p[0]][j] [p[0]][p[1]]\n",
      "En subir indice\t [p[1]][j] [p[0]][j] [p[0]][p[1]]\n",
      "En subir indice\t [p[1]][j] [p[0]][j] [p[0]][p[1]]\n",
      "En subir indice\t [p[1]][j] [p[0]][j] [p[0]][p[1]]\n",
      "En subir indice\t [p[1]][j] [p[0]][j] [p[0]][p[1]]\n",
      "En subir indice\t [p[1]][j] [p[0]][j] [p[0]][p[1]]\n",
      "En subir indice\t [p[1]][j] [p[0]][j] [p[0]][p[1]]\n",
      "En subir indice\t [p[1]][j] [p[0]][j] [p[0]][p[1]]\n",
      "En subir indice\t [p[1]][j] [p[0]][j] [p[0]][p[1]]\n",
      "En subir indice\t [p[1]][j] [p[0]][j] [p[0]][p[1]]\n",
      "En subir indice\t [p[1]][j] [p[0]][j] [p[0]][p[1]]\n",
      "En subir indice\t [p[1]][j] [p[0]][j] [p[0]][p[1]]\n",
      "En subir indice\t [p[1]][j] [p[0]][j] [p[0]][p[1]]\n",
      "En subir indice\t [p[1]][j] [p[0]][j] [p[0]][p[1]]\n",
      "En subir indice\t [p[1]][j] [p[0]][j] [p[0]][p[1]]\n",
      "En subir indice\t [p[1]][j] [p[0]][j] [p[0]][p[1]]\n",
      "\n"
     ]
    },
    {
     "data": {
      "text/latex": [
       "All other indexes of Einstein Tensor $G$  already calculated."
      ],
      "text/plain": [
       "<IPython.core.display.Latex object>"
      ]
     },
     "metadata": {},
     "output_type": "display_data"
    }
   ],
   "source": [
    "G = pt.einstein(All = True)"
   ]
  },
  {
   "cell_type": "code",
   "execution_count": 4,
   "metadata": {},
   "outputs": [
    {
     "data": {
      "text/latex": [
       "$\\displaystyle \\frac{\\left(\\frac{d}{d \\eta} a{\\left(\\eta \\right)}\\right)^{2}}{a^{4}{\\left(\\eta \\right)}} - \\frac{2 \\frac{d^{2}}{d \\eta^{2}} a{\\left(\\eta \\right)}}{a^{3}{\\left(\\eta \\right)}} - \\frac{2 \\epsilon \\psi{\\left(\\eta,x,y,z \\right)} \\left(\\frac{d}{d \\eta} a{\\left(\\eta \\right)}\\right)^{2}}{a^{4}{\\left(\\eta \\right)}} + \\frac{2 \\epsilon \\frac{d}{d \\eta} a{\\left(\\eta \\right)} \\frac{\\partial}{\\partial \\eta} \\psi{\\left(\\eta,x,y,z \\right)}}{a^{3}{\\left(\\eta \\right)}} - \\frac{4 \\epsilon \\frac{d}{d \\eta} a{\\left(\\eta \\right)} \\frac{\\partial}{\\partial \\eta} \\phi{\\left(\\eta,x,y,z \\right)}}{a^{3}{\\left(\\eta \\right)}} + \\frac{4 \\epsilon \\psi{\\left(\\eta,x,y,z \\right)} \\frac{d^{2}}{d \\eta^{2}} a{\\left(\\eta \\right)}}{a^{3}{\\left(\\eta \\right)}} + \\frac{\\epsilon \\frac{\\partial^{2}}{\\partial z^{2}} \\psi{\\left(\\eta,x,y,z \\right)}}{a^{2}{\\left(\\eta \\right)}} + \\frac{\\epsilon \\frac{\\partial^{2}}{\\partial y^{2}} \\psi{\\left(\\eta,x,y,z \\right)}}{a^{2}{\\left(\\eta \\right)}} + \\frac{\\epsilon \\frac{\\partial^{2}}{\\partial z^{2}} \\phi{\\left(\\eta,x,y,z \\right)}}{a^{2}{\\left(\\eta \\right)}} + \\frac{\\epsilon \\frac{\\partial^{2}}{\\partial y^{2}} \\phi{\\left(\\eta,x,y,z \\right)}}{a^{2}{\\left(\\eta \\right)}} - \\frac{2 \\epsilon \\frac{\\partial^{2}}{\\partial \\eta^{2}} \\phi{\\left(\\eta,x,y,z \\right)}}{a^{2}{\\left(\\eta \\right)}} + O\\left(\\epsilon^{2}\\right)$"
      ],
      "text/plain": [
       "Derivative(a(eta), eta)**2/a(eta)**4 - 2*Derivative(a(eta), (eta, 2))/a(eta)**3 - 2*epsilon*psi(eta, x, y, z)*Derivative(a(eta), eta)**2/a(eta)**4 + 2*epsilon*Derivative(a(eta), eta)*Derivative(psi(eta, x, y, z), eta)/a(eta)**3 - 4*epsilon*Derivative(a(eta), eta)*Derivative(phi(eta, x, y, z), eta)/a(eta)**3 + 4*epsilon*psi(eta, x, y, z)*Derivative(a(eta), (eta, 2))/a(eta)**3 + epsilon*Derivative(psi(eta, x, y, z), (z, 2))/a(eta)**2 + epsilon*Derivative(psi(eta, x, y, z), (y, 2))/a(eta)**2 + epsilon*Derivative(phi(eta, x, y, z), (z, 2))/a(eta)**2 + epsilon*Derivative(phi(eta, x, y, z), (y, 2))/a(eta)**2 - 2*epsilon*Derivative(phi(eta, x, y, z), (eta, 2))/a(eta)**2 + O(epsilon**2)"
      ]
     },
     "execution_count": 4,
     "metadata": {},
     "output_type": "execute_result"
    }
   ],
   "source": [
    "sp.expand(G('^i,_j')[1][1])"
   ]
  },
  {
   "cell_type": "code",
   "execution_count": 5,
   "metadata": {},
   "outputs": [
    {
     "data": {
      "text/latex": [
       "$\\displaystyle {G}{}^{0}{}_{0} = \\frac{\\left(6 \\epsilon \\psi{\\left(\\eta,x,y,z \\right)} - 3\\right) a^{5}{\\left(\\eta \\right)} \\left(\\frac{d}{d \\eta} a{\\left(\\eta \\right)}\\right)^{2} - 6 \\epsilon a^{6}{\\left(\\eta \\right)} \\frac{d}{d \\eta} a{\\left(\\eta \\right)} \\frac{\\partial}{\\partial \\eta} \\phi{\\left(\\eta,x,y,z \\right)} + 2 \\epsilon \\left(\\frac{\\partial^{2}}{\\partial x^{2}} \\phi{\\left(\\eta,x,y,z \\right)} + \\frac{\\partial^{2}}{\\partial y^{2}} \\phi{\\left(\\eta,x,y,z \\right)} + \\frac{\\partial^{2}}{\\partial z^{2}} \\phi{\\left(\\eta,x,y,z \\right)}\\right) a^{7}{\\left(\\eta \\right)} + O\\left(\\epsilon^{2}\\right)}{a^{9}{\\left(\\eta \\right)}}$"
      ],
      "text/plain": [
       "<IPython.core.display.Math object>"
      ]
     },
     "metadata": {},
     "output_type": "display_data"
    },
    {
     "data": {
      "text/latex": [
       "$\\displaystyle {G}{}^{0}{}_{1} = - \\frac{2 \\epsilon \\frac{d}{d \\eta} a{\\left(\\eta \\right)} \\frac{\\partial}{\\partial x} \\psi{\\left(\\eta,x,y,z \\right)}}{a^{3}{\\left(\\eta \\right)}} + \\frac{2 \\epsilon \\frac{\\partial^{2}}{\\partial x\\partial \\eta} \\phi{\\left(\\eta,x,y,z \\right)}}{a^{2}{\\left(\\eta \\right)}} + O\\left(\\epsilon^{2}\\right)$"
      ],
      "text/plain": [
       "<IPython.core.display.Math object>"
      ]
     },
     "metadata": {},
     "output_type": "display_data"
    },
    {
     "data": {
      "text/latex": [
       "$\\displaystyle {G}{}^{0}{}_{2} = - \\frac{2 \\epsilon \\frac{d}{d \\eta} a{\\left(\\eta \\right)} \\frac{\\partial}{\\partial y} \\psi{\\left(\\eta,x,y,z \\right)}}{a^{3}{\\left(\\eta \\right)}} + \\frac{2 \\epsilon \\frac{\\partial^{2}}{\\partial y\\partial \\eta} \\phi{\\left(\\eta,x,y,z \\right)}}{a^{2}{\\left(\\eta \\right)}} + O\\left(\\epsilon^{2}\\right)$"
      ],
      "text/plain": [
       "<IPython.core.display.Math object>"
      ]
     },
     "metadata": {},
     "output_type": "display_data"
    },
    {
     "data": {
      "text/latex": [
       "$\\displaystyle {G}{}^{0}{}_{3} = - \\frac{2 \\epsilon \\frac{d}{d \\eta} a{\\left(\\eta \\right)} \\frac{\\partial}{\\partial z} \\psi{\\left(\\eta,x,y,z \\right)}}{a^{3}{\\left(\\eta \\right)}} + \\frac{2 \\epsilon \\frac{\\partial^{2}}{\\partial z\\partial \\eta} \\phi{\\left(\\eta,x,y,z \\right)}}{a^{2}{\\left(\\eta \\right)}} + O\\left(\\epsilon^{2}\\right)$"
      ],
      "text/plain": [
       "<IPython.core.display.Math object>"
      ]
     },
     "metadata": {},
     "output_type": "display_data"
    },
    {
     "data": {
      "text/latex": [
       "$\\displaystyle {G}{}^{1}{}_{0} = \\frac{2 \\epsilon \\frac{d}{d \\eta} a{\\left(\\eta \\right)} \\frac{\\partial}{\\partial x} \\psi{\\left(\\eta,x,y,z \\right)}}{a^{3}{\\left(\\eta \\right)}} - \\frac{2 \\epsilon \\frac{\\partial^{2}}{\\partial x\\partial \\eta} \\phi{\\left(\\eta,x,y,z \\right)}}{a^{2}{\\left(\\eta \\right)}} + O\\left(\\epsilon^{2}\\right)$"
      ],
      "text/plain": [
       "<IPython.core.display.Math object>"
      ]
     },
     "metadata": {},
     "output_type": "display_data"
    },
    {
     "data": {
      "text/latex": [
       "$\\displaystyle {G}{}^{1}{}_{1} = \\frac{2 \\left(2 \\epsilon \\psi{\\left(\\eta,x,y,z \\right)} \\frac{d^{2}}{d \\eta^{2}} a{\\left(\\eta \\right)} - 2 \\epsilon \\frac{d}{d \\eta} a{\\left(\\eta \\right)} \\frac{\\partial}{\\partial \\eta} \\phi{\\left(\\eta,x,y,z \\right)} + \\epsilon \\frac{d}{d \\eta} a{\\left(\\eta \\right)} \\frac{\\partial}{\\partial \\eta} \\psi{\\left(\\eta,x,y,z \\right)} - \\frac{d^{2}}{d \\eta^{2}} a{\\left(\\eta \\right)}\\right) a^{6}{\\left(\\eta \\right)} + \\left(- 2 \\epsilon \\psi{\\left(\\eta,x,y,z \\right)} + 1\\right) a^{5}{\\left(\\eta \\right)} \\left(\\frac{d}{d \\eta} a{\\left(\\eta \\right)}\\right)^{2} + \\epsilon \\left(- 2 \\frac{\\partial^{2}}{\\partial \\eta^{2}} \\phi{\\left(\\eta,x,y,z \\right)} + \\frac{\\partial^{2}}{\\partial y^{2}} \\phi{\\left(\\eta,x,y,z \\right)} + \\frac{\\partial^{2}}{\\partial z^{2}} \\phi{\\left(\\eta,x,y,z \\right)} + \\frac{\\partial^{2}}{\\partial y^{2}} \\psi{\\left(\\eta,x,y,z \\right)} + \\frac{\\partial^{2}}{\\partial z^{2}} \\psi{\\left(\\eta,x,y,z \\right)}\\right) a^{7}{\\left(\\eta \\right)} + O\\left(\\epsilon^{2}\\right)}{a^{9}{\\left(\\eta \\right)}}$"
      ],
      "text/plain": [
       "<IPython.core.display.Math object>"
      ]
     },
     "metadata": {},
     "output_type": "display_data"
    },
    {
     "data": {
      "text/latex": [
       "$\\displaystyle {G}{}^{1}{}_{2} = \\frac{- \\epsilon \\frac{\\partial^{2}}{\\partial y\\partial x} \\psi{\\left(\\eta,x,y,z \\right)} - \\epsilon \\frac{\\partial^{2}}{\\partial y\\partial x} \\phi{\\left(\\eta,x,y,z \\right)} + O\\left(\\epsilon^{2}\\right)}{a^{2}{\\left(\\eta \\right)}}$"
      ],
      "text/plain": [
       "<IPython.core.display.Math object>"
      ]
     },
     "metadata": {},
     "output_type": "display_data"
    },
    {
     "data": {
      "text/latex": [
       "$\\displaystyle {G}{}^{1}{}_{3} = \\frac{- \\epsilon \\frac{\\partial^{2}}{\\partial z\\partial x} \\psi{\\left(\\eta,x,y,z \\right)} - \\epsilon \\frac{\\partial^{2}}{\\partial z\\partial x} \\phi{\\left(\\eta,x,y,z \\right)} + O\\left(\\epsilon^{2}\\right)}{a^{2}{\\left(\\eta \\right)}}$"
      ],
      "text/plain": [
       "<IPython.core.display.Math object>"
      ]
     },
     "metadata": {},
     "output_type": "display_data"
    },
    {
     "data": {
      "text/latex": [
       "$\\displaystyle {G}{}^{2}{}_{0} = \\frac{2 \\epsilon \\frac{d}{d \\eta} a{\\left(\\eta \\right)} \\frac{\\partial}{\\partial y} \\psi{\\left(\\eta,x,y,z \\right)}}{a^{3}{\\left(\\eta \\right)}} - \\frac{2 \\epsilon \\frac{\\partial^{2}}{\\partial y\\partial \\eta} \\phi{\\left(\\eta,x,y,z \\right)}}{a^{2}{\\left(\\eta \\right)}} + O\\left(\\epsilon^{2}\\right)$"
      ],
      "text/plain": [
       "<IPython.core.display.Math object>"
      ]
     },
     "metadata": {},
     "output_type": "display_data"
    },
    {
     "data": {
      "text/latex": [
       "$\\displaystyle {G}{}^{2}{}_{1} = \\frac{- \\epsilon \\frac{\\partial^{2}}{\\partial y\\partial x} \\psi{\\left(\\eta,x,y,z \\right)} - \\epsilon \\frac{\\partial^{2}}{\\partial y\\partial x} \\phi{\\left(\\eta,x,y,z \\right)} + O\\left(\\epsilon^{2}\\right)}{a^{2}{\\left(\\eta \\right)}}$"
      ],
      "text/plain": [
       "<IPython.core.display.Math object>"
      ]
     },
     "metadata": {},
     "output_type": "display_data"
    },
    {
     "data": {
      "text/latex": [
       "$\\displaystyle {G}{}^{2}{}_{2} = \\frac{2 \\left(2 \\epsilon \\psi{\\left(\\eta,x,y,z \\right)} \\frac{d^{2}}{d \\eta^{2}} a{\\left(\\eta \\right)} - 2 \\epsilon \\frac{d}{d \\eta} a{\\left(\\eta \\right)} \\frac{\\partial}{\\partial \\eta} \\phi{\\left(\\eta,x,y,z \\right)} + \\epsilon \\frac{d}{d \\eta} a{\\left(\\eta \\right)} \\frac{\\partial}{\\partial \\eta} \\psi{\\left(\\eta,x,y,z \\right)} - \\frac{d^{2}}{d \\eta^{2}} a{\\left(\\eta \\right)}\\right) a^{6}{\\left(\\eta \\right)} + \\left(- 2 \\epsilon \\psi{\\left(\\eta,x,y,z \\right)} + 1\\right) a^{5}{\\left(\\eta \\right)} \\left(\\frac{d}{d \\eta} a{\\left(\\eta \\right)}\\right)^{2} + \\epsilon \\left(- 2 \\frac{\\partial^{2}}{\\partial \\eta^{2}} \\phi{\\left(\\eta,x,y,z \\right)} + \\frac{\\partial^{2}}{\\partial x^{2}} \\phi{\\left(\\eta,x,y,z \\right)} + \\frac{\\partial^{2}}{\\partial z^{2}} \\phi{\\left(\\eta,x,y,z \\right)} + \\frac{\\partial^{2}}{\\partial x^{2}} \\psi{\\left(\\eta,x,y,z \\right)} + \\frac{\\partial^{2}}{\\partial z^{2}} \\psi{\\left(\\eta,x,y,z \\right)}\\right) a^{7}{\\left(\\eta \\right)} + O\\left(\\epsilon^{2}\\right)}{a^{9}{\\left(\\eta \\right)}}$"
      ],
      "text/plain": [
       "<IPython.core.display.Math object>"
      ]
     },
     "metadata": {},
     "output_type": "display_data"
    },
    {
     "data": {
      "text/latex": [
       "$\\displaystyle {G}{}^{2}{}_{3} = \\frac{- \\epsilon \\frac{\\partial^{2}}{\\partial z\\partial y} \\psi{\\left(\\eta,x,y,z \\right)} - \\epsilon \\frac{\\partial^{2}}{\\partial z\\partial y} \\phi{\\left(\\eta,x,y,z \\right)} + O\\left(\\epsilon^{2}\\right)}{a^{2}{\\left(\\eta \\right)}}$"
      ],
      "text/plain": [
       "<IPython.core.display.Math object>"
      ]
     },
     "metadata": {},
     "output_type": "display_data"
    },
    {
     "data": {
      "text/latex": [
       "$\\displaystyle {G}{}^{3}{}_{0} = \\frac{2 \\epsilon \\frac{d}{d \\eta} a{\\left(\\eta \\right)} \\frac{\\partial}{\\partial z} \\psi{\\left(\\eta,x,y,z \\right)}}{a^{3}{\\left(\\eta \\right)}} - \\frac{2 \\epsilon \\frac{\\partial^{2}}{\\partial z\\partial \\eta} \\phi{\\left(\\eta,x,y,z \\right)}}{a^{2}{\\left(\\eta \\right)}} + O\\left(\\epsilon^{2}\\right)$"
      ],
      "text/plain": [
       "<IPython.core.display.Math object>"
      ]
     },
     "metadata": {},
     "output_type": "display_data"
    },
    {
     "data": {
      "text/latex": [
       "$\\displaystyle {G}{}^{3}{}_{1} = \\frac{- \\epsilon \\frac{\\partial^{2}}{\\partial z\\partial x} \\psi{\\left(\\eta,x,y,z \\right)} - \\epsilon \\frac{\\partial^{2}}{\\partial z\\partial x} \\phi{\\left(\\eta,x,y,z \\right)} + O\\left(\\epsilon^{2}\\right)}{a^{2}{\\left(\\eta \\right)}}$"
      ],
      "text/plain": [
       "<IPython.core.display.Math object>"
      ]
     },
     "metadata": {},
     "output_type": "display_data"
    },
    {
     "data": {
      "text/latex": [
       "$\\displaystyle {G}{}^{3}{}_{2} = \\frac{- \\epsilon \\frac{\\partial^{2}}{\\partial z\\partial y} \\psi{\\left(\\eta,x,y,z \\right)} - \\epsilon \\frac{\\partial^{2}}{\\partial z\\partial y} \\phi{\\left(\\eta,x,y,z \\right)} + O\\left(\\epsilon^{2}\\right)}{a^{2}{\\left(\\eta \\right)}}$"
      ],
      "text/plain": [
       "<IPython.core.display.Math object>"
      ]
     },
     "metadata": {},
     "output_type": "display_data"
    },
    {
     "data": {
      "text/latex": [
       "$\\displaystyle {G}{}^{3}{}_{3} = \\frac{2 \\left(2 \\epsilon \\psi{\\left(\\eta,x,y,z \\right)} \\frac{d^{2}}{d \\eta^{2}} a{\\left(\\eta \\right)} - 2 \\epsilon \\frac{d}{d \\eta} a{\\left(\\eta \\right)} \\frac{\\partial}{\\partial \\eta} \\phi{\\left(\\eta,x,y,z \\right)} + \\epsilon \\frac{d}{d \\eta} a{\\left(\\eta \\right)} \\frac{\\partial}{\\partial \\eta} \\psi{\\left(\\eta,x,y,z \\right)} - \\frac{d^{2}}{d \\eta^{2}} a{\\left(\\eta \\right)}\\right) a^{6}{\\left(\\eta \\right)} + \\left(- 2 \\epsilon \\psi{\\left(\\eta,x,y,z \\right)} + 1\\right) a^{5}{\\left(\\eta \\right)} \\left(\\frac{d}{d \\eta} a{\\left(\\eta \\right)}\\right)^{2} + \\epsilon \\left(- 2 \\frac{\\partial^{2}}{\\partial \\eta^{2}} \\phi{\\left(\\eta,x,y,z \\right)} + \\frac{\\partial^{2}}{\\partial x^{2}} \\phi{\\left(\\eta,x,y,z \\right)} + \\frac{\\partial^{2}}{\\partial y^{2}} \\phi{\\left(\\eta,x,y,z \\right)} + \\frac{\\partial^{2}}{\\partial x^{2}} \\psi{\\left(\\eta,x,y,z \\right)} + \\frac{\\partial^{2}}{\\partial y^{2}} \\psi{\\left(\\eta,x,y,z \\right)}\\right) a^{7}{\\left(\\eta \\right)} + O\\left(\\epsilon^{2}\\right)}{a^{9}{\\left(\\eta \\right)}}$"
      ],
      "text/plain": [
       "<IPython.core.display.Math object>"
      ]
     },
     "metadata": {},
     "output_type": "display_data"
    }
   ],
   "source": [
    "G.display('^,_',aslist=True)"
   ]
  },
  {
   "cell_type": "code",
   "execution_count": 10,
   "metadata": {},
   "outputs": [],
   "source": [
    "Gdu_dat = G('_i,_k')*g('^k,^j')\n",
    "Gdu = pt.new_ten('Gdu',2)\n",
    "Gdu.assign(Gdu_dat,'_i,^j')\n",
    "\n",
    "# It is needed to run the series function on Gdu for the elements to be expanded correctly.\n",
    "Gdu.series('_,^')"
   ]
  },
  {
   "cell_type": "code",
   "execution_count": 26,
   "metadata": {},
   "outputs": [
    {
     "data": {
      "image/png": "[encoded data removed]",
      "text/latex": [
       "$\\displaystyle \\frac{2 \\epsilon \\frac{d}{d \\eta} a{\\left(\\eta \\right)} \\frac{\\partial}{\\partial x} \\psi{\\left(\\eta,x,y,z \\right)}}{a^{3}{\\left(\\eta \\right)}} - \\frac{2 \\epsilon \\frac{\\partial^{2}}{\\partial x\\partial \\eta} \\phi{\\left(\\eta,x,y,z \\right)}}{a^{2}{\\left(\\eta \\right)}} + O\\left(\\epsilon^{2}\\right)$"
      ],
      "text/plain": [
       "                                        2                        \n",
       "    d        ∂                         ∂                         \n",
       "2⋅ε⋅──(a(η))⋅──(ψ(η, x, y, z))   2⋅ε⋅─────(φ(η, x, y, z))        \n",
       "    dη       ∂x                      ∂x ∂η                   ⎛ 2⎞\n",
       "────────────────────────────── - ──────────────────────── + O⎝ε ⎠\n",
       "             3                             2                     \n",
       "            a (η)                         a (η)                  "
      ]
     },
     "execution_count": 26,
     "metadata": {},
     "output_type": "execute_result"
    }
   ],
   "source": [
    "sp.expand(Gdu_dat.elements[0][1])"
   ]
  },
  {
   "cell_type": "code",
   "execution_count": 19,
   "metadata": {},
   "outputs": [],
   "source": [
    "Gud_dat = G('_k,_j')*g('^i,^k')\n",
    "Gud = pt.new_ten('Gud',2)\n",
    "Gud.assign(Gdu_dat,'^i,_j')\n",
    "\n",
    "# It is needed to run the series function on Gdu for the elements to be expanded correctly.\n",
    "Gud.series('^,_')"
   ]
  },
  {
   "cell_type": "code",
   "execution_count": 18,
   "metadata": {
    "scrolled": true
   },
   "outputs": [
    {
     "data": {
      "text/latex": [
       "$\\displaystyle - \\frac{3 \\left(\\frac{d}{d \\eta} a{\\left(\\eta \\right)}\\right)^{2}}{a^{4}{\\left(\\eta \\right)}} + \\frac{6 \\epsilon \\psi{\\left(\\eta,x,y,z \\right)} \\left(\\frac{d}{d \\eta} a{\\left(\\eta \\right)}\\right)^{2}}{a^{4}{\\left(\\eta \\right)}} - \\frac{6 \\epsilon \\frac{d}{d \\eta} a{\\left(\\eta \\right)} \\frac{\\partial}{\\partial \\eta} \\phi{\\left(\\eta,x,y,z \\right)}}{a^{3}{\\left(\\eta \\right)}} + \\frac{2 \\epsilon \\frac{\\partial^{2}}{\\partial z^{2}} \\phi{\\left(\\eta,x,y,z \\right)}}{a^{2}{\\left(\\eta \\right)}} + \\frac{2 \\epsilon \\frac{\\partial^{2}}{\\partial y^{2}} \\phi{\\left(\\eta,x,y,z \\right)}}{a^{2}{\\left(\\eta \\right)}} + \\frac{2 \\epsilon \\frac{\\partial^{2}}{\\partial x^{2}} \\phi{\\left(\\eta,x,y,z \\right)}}{a^{2}{\\left(\\eta \\right)}} + O\\left(\\epsilon^{2}\\right)$"
      ],
      "text/plain": [
       "-3*Derivative(a(eta), eta)**2/a(eta)**4 + 6*epsilon*psi(eta, x, y, z)*Derivative(a(eta), eta)**2/a(eta)**4 - 6*epsilon*Derivative(a(eta), eta)*Derivative(phi(eta, x, y, z), eta)/a(eta)**3 + 2*epsilon*Derivative(phi(eta, x, y, z), (z, 2))/a(eta)**2 + 2*epsilon*Derivative(phi(eta, x, y, z), (y, 2))/a(eta)**2 + 2*epsilon*Derivative(phi(eta, x, y, z), (x, 2))/a(eta)**2 + O(epsilon**2)"
      ]
     },
     "execution_count": 18,
     "metadata": {},
     "output_type": "execute_result"
    }
   ],
   "source": [
    "sp.expand((Gdu('_i,^j')[0][0]))"
   ]
  },
  {
   "cell_type": "code",
   "execution_count": 20,
   "metadata": {},
   "outputs": [
    {
     "data": {
      "text/latex": [
       "$\\displaystyle {Gud}{}^{0}{}_{0} = \\frac{\\left(6 \\epsilon \\psi{\\left(\\eta,x,y,z \\right)} - 3\\right) a^{5}{\\left(\\eta \\right)} \\left(\\frac{d}{d \\eta} a{\\left(\\eta \\right)}\\right)^{2} - 6 \\epsilon a^{6}{\\left(\\eta \\right)} \\frac{d}{d \\eta} a{\\left(\\eta \\right)} \\frac{\\partial}{\\partial \\eta} \\phi{\\left(\\eta,x,y,z \\right)} + 2 \\epsilon \\left(\\frac{\\partial^{2}}{\\partial x^{2}} \\phi{\\left(\\eta,x,y,z \\right)} + \\frac{\\partial^{2}}{\\partial y^{2}} \\phi{\\left(\\eta,x,y,z \\right)} + \\frac{\\partial^{2}}{\\partial z^{2}} \\phi{\\left(\\eta,x,y,z \\right)}\\right) a^{7}{\\left(\\eta \\right)} + O\\left(\\epsilon^{2}\\right)}{a^{9}{\\left(\\eta \\right)}}$"
      ],
      "text/plain": [
       "<IPython.core.display.Math object>"
      ]
     },
     "metadata": {},
     "output_type": "display_data"
    },
    {
     "data": {
      "text/latex": [
       "$\\displaystyle {Gud}{}^{0}{}_{1} = \\frac{2 \\epsilon \\frac{d}{d \\eta} a{\\left(\\eta \\right)} \\frac{\\partial}{\\partial x} \\psi{\\left(\\eta,x,y,z \\right)}}{a^{3}{\\left(\\eta \\right)}} - \\frac{2 \\epsilon \\frac{\\partial^{2}}{\\partial x\\partial \\eta} \\phi{\\left(\\eta,x,y,z \\right)}}{a^{2}{\\left(\\eta \\right)}} + O\\left(\\epsilon^{2}\\right)$"
      ],
      "text/plain": [
       "<IPython.core.display.Math object>"
      ]
     },
     "metadata": {},
     "output_type": "display_data"
    },
    {
     "data": {
      "text/latex": [
       "$\\displaystyle {Gud}{}^{0}{}_{2} = \\frac{2 \\epsilon \\frac{d}{d \\eta} a{\\left(\\eta \\right)} \\frac{\\partial}{\\partial y} \\psi{\\left(\\eta,x,y,z \\right)}}{a^{3}{\\left(\\eta \\right)}} - \\frac{2 \\epsilon \\frac{\\partial^{2}}{\\partial y\\partial \\eta} \\phi{\\left(\\eta,x,y,z \\right)}}{a^{2}{\\left(\\eta \\right)}} + O\\left(\\epsilon^{2}\\right)$"
      ],
      "text/plain": [
       "<IPython.core.display.Math object>"
      ]
     },
     "metadata": {},
     "output_type": "display_data"
    },
    {
     "data": {
      "text/latex": [
       "$\\displaystyle {Gud}{}^{0}{}_{3} = \\frac{2 \\epsilon \\frac{d}{d \\eta} a{\\left(\\eta \\right)} \\frac{\\partial}{\\partial z} \\psi{\\left(\\eta,x,y,z \\right)}}{a^{3}{\\left(\\eta \\right)}} - \\frac{2 \\epsilon \\frac{\\partial^{2}}{\\partial z\\partial \\eta} \\phi{\\left(\\eta,x,y,z \\right)}}{a^{2}{\\left(\\eta \\right)}} + O\\left(\\epsilon^{2}\\right)$"
      ],
      "text/plain": [
       "<IPython.core.display.Math object>"
      ]
     },
     "metadata": {},
     "output_type": "display_data"
    },
    {
     "data": {
      "text/latex": [
       "$\\displaystyle {Gud}{}^{1}{}_{0} = - \\frac{2 \\epsilon \\frac{d}{d \\eta} a{\\left(\\eta \\right)} \\frac{\\partial}{\\partial x} \\psi{\\left(\\eta,x,y,z \\right)}}{a^{3}{\\left(\\eta \\right)}} + \\frac{2 \\epsilon \\frac{\\partial^{2}}{\\partial x\\partial \\eta} \\phi{\\left(\\eta,x,y,z \\right)}}{a^{2}{\\left(\\eta \\right)}} + O\\left(\\epsilon^{2}\\right)$"
      ],
      "text/plain": [
       "<IPython.core.display.Math object>"
      ]
     },
     "metadata": {},
     "output_type": "display_data"
    },
    {
     "data": {
      "text/latex": [
       "$\\displaystyle {Gud}{}^{1}{}_{1} = \\frac{2 \\left(2 \\epsilon \\psi{\\left(\\eta,x,y,z \\right)} \\frac{d^{2}}{d \\eta^{2}} a{\\left(\\eta \\right)} - 2 \\epsilon \\frac{d}{d \\eta} a{\\left(\\eta \\right)} \\frac{\\partial}{\\partial \\eta} \\phi{\\left(\\eta,x,y,z \\right)} + \\epsilon \\frac{d}{d \\eta} a{\\left(\\eta \\right)} \\frac{\\partial}{\\partial \\eta} \\psi{\\left(\\eta,x,y,z \\right)} - \\frac{d^{2}}{d \\eta^{2}} a{\\left(\\eta \\right)}\\right) a^{6}{\\left(\\eta \\right)} + \\left(- 2 \\epsilon \\psi{\\left(\\eta,x,y,z \\right)} + 1\\right) a^{5}{\\left(\\eta \\right)} \\left(\\frac{d}{d \\eta} a{\\left(\\eta \\right)}\\right)^{2} + \\epsilon \\left(- 2 \\frac{\\partial^{2}}{\\partial \\eta^{2}} \\phi{\\left(\\eta,x,y,z \\right)} + \\frac{\\partial^{2}}{\\partial y^{2}} \\phi{\\left(\\eta,x,y,z \\right)} + \\frac{\\partial^{2}}{\\partial z^{2}} \\phi{\\left(\\eta,x,y,z \\right)} + \\frac{\\partial^{2}}{\\partial y^{2}} \\psi{\\left(\\eta,x,y,z \\right)} + \\frac{\\partial^{2}}{\\partial z^{2}} \\psi{\\left(\\eta,x,y,z \\right)}\\right) a^{7}{\\left(\\eta \\right)} + O\\left(\\epsilon^{2}\\right)}{a^{9}{\\left(\\eta \\right)}}$"
      ],
      "text/plain": [
       "<IPython.core.display.Math object>"
      ]
     },
     "metadata": {},
     "output_type": "display_data"
    },
    {
     "data": {
      "text/latex": [
       "$\\displaystyle {Gud}{}^{1}{}_{2} = \\frac{- \\epsilon \\frac{\\partial^{2}}{\\partial y\\partial x} \\psi{\\left(\\eta,x,y,z \\right)} - \\epsilon \\frac{\\partial^{2}}{\\partial y\\partial x} \\phi{\\left(\\eta,x,y,z \\right)} + O\\left(\\epsilon^{2}\\right)}{a^{2}{\\left(\\eta \\right)}}$"
      ],
      "text/plain": [
       "<IPython.core.display.Math object>"
      ]
     },
     "metadata": {},
     "output_type": "display_data"
    },
    {
     "data": {
      "text/latex": [
       "$\\displaystyle {Gud}{}^{1}{}_{3} = \\frac{- \\epsilon \\frac{\\partial^{2}}{\\partial z\\partial x} \\psi{\\left(\\eta,x,y,z \\right)} - \\epsilon \\frac{\\partial^{2}}{\\partial z\\partial x} \\phi{\\left(\\eta,x,y,z \\right)} + O\\left(\\epsilon^{2}\\right)}{a^{2}{\\left(\\eta \\right)}}$"
      ],
      "text/plain": [
       "<IPython.core.display.Math object>"
      ]
     },
     "metadata": {},
     "output_type": "display_data"
    },
    {
     "data": {
      "text/latex": [
       "$\\displaystyle {Gud}{}^{2}{}_{0} = - \\frac{2 \\epsilon \\frac{d}{d \\eta} a{\\left(\\eta \\right)} \\frac{\\partial}{\\partial y} \\psi{\\left(\\eta,x,y,z \\right)}}{a^{3}{\\left(\\eta \\right)}} + \\frac{2 \\epsilon \\frac{\\partial^{2}}{\\partial y\\partial \\eta} \\phi{\\left(\\eta,x,y,z \\right)}}{a^{2}{\\left(\\eta \\right)}} + O\\left(\\epsilon^{2}\\right)$"
      ],
      "text/plain": [
       "<IPython.core.display.Math object>"
      ]
     },
     "metadata": {},
     "output_type": "display_data"
    },
    {
     "data": {
      "text/latex": [
       "$\\displaystyle {Gud}{}^{2}{}_{1} = \\frac{- \\epsilon \\frac{\\partial^{2}}{\\partial y\\partial x} \\psi{\\left(\\eta,x,y,z \\right)} - \\epsilon \\frac{\\partial^{2}}{\\partial y\\partial x} \\phi{\\left(\\eta,x,y,z \\right)} + O\\left(\\epsilon^{2}\\right)}{a^{2}{\\left(\\eta \\right)}}$"
      ],
      "text/plain": [
       "<IPython.core.display.Math object>"
      ]
     },
     "metadata": {},
     "output_type": "display_data"
    },
    {
     "data": {
      "text/latex": [
       "$\\displaystyle {Gud}{}^{2}{}_{2} = \\frac{2 \\left(2 \\epsilon \\psi{\\left(\\eta,x,y,z \\right)} \\frac{d^{2}}{d \\eta^{2}} a{\\left(\\eta \\right)} - 2 \\epsilon \\frac{d}{d \\eta} a{\\left(\\eta \\right)} \\frac{\\partial}{\\partial \\eta} \\phi{\\left(\\eta,x,y,z \\right)} + \\epsilon \\frac{d}{d \\eta} a{\\left(\\eta \\right)} \\frac{\\partial}{\\partial \\eta} \\psi{\\left(\\eta,x,y,z \\right)} - \\frac{d^{2}}{d \\eta^{2}} a{\\left(\\eta \\right)}\\right) a^{6}{\\left(\\eta \\right)} + \\left(- 2 \\epsilon \\psi{\\left(\\eta,x,y,z \\right)} + 1\\right) a^{5}{\\left(\\eta \\right)} \\left(\\frac{d}{d \\eta} a{\\left(\\eta \\right)}\\right)^{2} + \\epsilon \\left(- 2 \\frac{\\partial^{2}}{\\partial \\eta^{2}} \\phi{\\left(\\eta,x,y,z \\right)} + \\frac{\\partial^{2}}{\\partial x^{2}} \\phi{\\left(\\eta,x,y,z \\right)} + \\frac{\\partial^{2}}{\\partial z^{2}} \\phi{\\left(\\eta,x,y,z \\right)} + \\frac{\\partial^{2}}{\\partial x^{2}} \\psi{\\left(\\eta,x,y,z \\right)} + \\frac{\\partial^{2}}{\\partial z^{2}} \\psi{\\left(\\eta,x,y,z \\right)}\\right) a^{7}{\\left(\\eta \\right)} + O\\left(\\epsilon^{2}\\right)}{a^{9}{\\left(\\eta \\right)}}$"
      ],
      "text/plain": [
       "<IPython.core.display.Math object>"
      ]
     },
     "metadata": {},
     "output_type": "display_data"
    },
    {
     "data": {
      "text/latex": [
       "$\\displaystyle {Gud}{}^{2}{}_{3} = \\frac{- \\epsilon \\frac{\\partial^{2}}{\\partial z\\partial y} \\psi{\\left(\\eta,x,y,z \\right)} - \\epsilon \\frac{\\partial^{2}}{\\partial z\\partial y} \\phi{\\left(\\eta,x,y,z \\right)} + O\\left(\\epsilon^{2}\\right)}{a^{2}{\\left(\\eta \\right)}}$"
      ],
      "text/plain": [
       "<IPython.core.display.Math object>"
      ]
     },
     "metadata": {},
     "output_type": "display_data"
    },
    {
     "data": {
      "text/latex": [
       "$\\displaystyle {Gud}{}^{3}{}_{0} = - \\frac{2 \\epsilon \\frac{d}{d \\eta} a{\\left(\\eta \\right)} \\frac{\\partial}{\\partial z} \\psi{\\left(\\eta,x,y,z \\right)}}{a^{3}{\\left(\\eta \\right)}} + \\frac{2 \\epsilon \\frac{\\partial^{2}}{\\partial z\\partial \\eta} \\phi{\\left(\\eta,x,y,z \\right)}}{a^{2}{\\left(\\eta \\right)}} + O\\left(\\epsilon^{2}\\right)$"
      ],
      "text/plain": [
       "<IPython.core.display.Math object>"
      ]
     },
     "metadata": {},
     "output_type": "display_data"
    },
    {
     "data": {
      "text/latex": [
       "$\\displaystyle {Gud}{}^{3}{}_{1} = \\frac{- \\epsilon \\frac{\\partial^{2}}{\\partial z\\partial x} \\psi{\\left(\\eta,x,y,z \\right)} - \\epsilon \\frac{\\partial^{2}}{\\partial z\\partial x} \\phi{\\left(\\eta,x,y,z \\right)} + O\\left(\\epsilon^{2}\\right)}{a^{2}{\\left(\\eta \\right)}}$"
      ],
      "text/plain": [
       "<IPython.core.display.Math object>"
      ]
     },
     "metadata": {},
     "output_type": "display_data"
    },
    {
     "data": {
      "text/latex": [
       "$\\displaystyle {Gud}{}^{3}{}_{2} = \\frac{- \\epsilon \\frac{\\partial^{2}}{\\partial z\\partial y} \\psi{\\left(\\eta,x,y,z \\right)} - \\epsilon \\frac{\\partial^{2}}{\\partial z\\partial y} \\phi{\\left(\\eta,x,y,z \\right)} + O\\left(\\epsilon^{2}\\right)}{a^{2}{\\left(\\eta \\right)}}$"
      ],
      "text/plain": [
       "<IPython.core.display.Math object>"
      ]
     },
     "metadata": {},
     "output_type": "display_data"
    },
    {
     "data": {
      "text/latex": [
       "$\\displaystyle {Gud}{}^{3}{}_{3} = \\frac{2 \\left(2 \\epsilon \\psi{\\left(\\eta,x,y,z \\right)} \\frac{d^{2}}{d \\eta^{2}} a{\\left(\\eta \\right)} - 2 \\epsilon \\frac{d}{d \\eta} a{\\left(\\eta \\right)} \\frac{\\partial}{\\partial \\eta} \\phi{\\left(\\eta,x,y,z \\right)} + \\epsilon \\frac{d}{d \\eta} a{\\left(\\eta \\right)} \\frac{\\partial}{\\partial \\eta} \\psi{\\left(\\eta,x,y,z \\right)} - \\frac{d^{2}}{d \\eta^{2}} a{\\left(\\eta \\right)}\\right) a^{6}{\\left(\\eta \\right)} + \\left(- 2 \\epsilon \\psi{\\left(\\eta,x,y,z \\right)} + 1\\right) a^{5}{\\left(\\eta \\right)} \\left(\\frac{d}{d \\eta} a{\\left(\\eta \\right)}\\right)^{2} + \\epsilon \\left(- 2 \\frac{\\partial^{2}}{\\partial \\eta^{2}} \\phi{\\left(\\eta,x,y,z \\right)} + \\frac{\\partial^{2}}{\\partial x^{2}} \\phi{\\left(\\eta,x,y,z \\right)} + \\frac{\\partial^{2}}{\\partial y^{2}} \\phi{\\left(\\eta,x,y,z \\right)} + \\frac{\\partial^{2}}{\\partial x^{2}} \\psi{\\left(\\eta,x,y,z \\right)} + \\frac{\\partial^{2}}{\\partial y^{2}} \\psi{\\left(\\eta,x,y,z \\right)}\\right) a^{7}{\\left(\\eta \\right)} + O\\left(\\epsilon^{2}\\right)}{a^{9}{\\left(\\eta \\right)}}$"
      ],
      "text/plain": [
       "<IPython.core.display.Math object>"
      ]
     },
     "metadata": {},
     "output_type": "display_data"
    }
   ],
   "source": [
    "Gud.display('^,_',aslist=True)"
   ]
  },
  {
   "cell_type": "code",
   "execution_count": 5,
   "metadata": {},
   "outputs": [
    {
     "data": {
      "text/latex": [
       "$\\displaystyle {Gdu}{}_{0}{}^{0} = \\frac{\\left(6 \\epsilon \\psi{\\left(\\eta,x,y,z \\right)} - 3\\right) a^{5}{\\left(\\eta \\right)} \\left(\\frac{d}{d \\eta} a{\\left(\\eta \\right)}\\right)^{2} - 6 \\epsilon a^{6}{\\left(\\eta \\right)} \\frac{d}{d \\eta} a{\\left(\\eta \\right)} \\frac{\\partial}{\\partial \\eta} \\phi{\\left(\\eta,x,y,z \\right)} + 2 \\epsilon \\left(\\frac{\\partial^{2}}{\\partial x^{2}} \\phi{\\left(\\eta,x,y,z \\right)} + \\frac{\\partial^{2}}{\\partial y^{2}} \\phi{\\left(\\eta,x,y,z \\right)} + \\frac{\\partial^{2}}{\\partial z^{2}} \\phi{\\left(\\eta,x,y,z \\right)}\\right) a^{7}{\\left(\\eta \\right)} + O\\left(\\epsilon^{2}\\right)}{a^{9}{\\left(\\eta \\right)}}$"
      ],
      "text/plain": [
       "<IPython.core.display.Math object>"
      ]
     },
     "metadata": {},
     "output_type": "display_data"
    },
    {
     "data": {
      "text/latex": [
       "$\\displaystyle {Gdu}{}_{0}{}^{1} = \\frac{2 \\epsilon \\frac{d}{d \\eta} a{\\left(\\eta \\right)} \\frac{\\partial}{\\partial x} \\psi{\\left(\\eta,x,y,z \\right)}}{a^{3}{\\left(\\eta \\right)}} - \\frac{2 \\epsilon \\frac{\\partial^{2}}{\\partial x\\partial \\eta} \\phi{\\left(\\eta,x,y,z \\right)}}{a^{2}{\\left(\\eta \\right)}} + O\\left(\\epsilon^{2}\\right)$"
      ],
      "text/plain": [
       "<IPython.core.display.Math object>"
      ]
     },
     "metadata": {},
     "output_type": "display_data"
    },
    {
     "data": {
      "text/latex": [
       "$\\displaystyle {Gdu}{}_{0}{}^{2} = \\frac{2 \\epsilon \\frac{d}{d \\eta} a{\\left(\\eta \\right)} \\frac{\\partial}{\\partial y} \\psi{\\left(\\eta,x,y,z \\right)}}{a^{3}{\\left(\\eta \\right)}} - \\frac{2 \\epsilon \\frac{\\partial^{2}}{\\partial y\\partial \\eta} \\phi{\\left(\\eta,x,y,z \\right)}}{a^{2}{\\left(\\eta \\right)}} + O\\left(\\epsilon^{2}\\right)$"
      ],
      "text/plain": [
       "<IPython.core.display.Math object>"
      ]
     },
     "metadata": {},
     "output_type": "display_data"
    },
    {
     "data": {
      "text/latex": [
       "$\\displaystyle {Gdu}{}_{0}{}^{3} = \\frac{2 \\epsilon \\frac{d}{d \\eta} a{\\left(\\eta \\right)} \\frac{\\partial}{\\partial z} \\psi{\\left(\\eta,x,y,z \\right)}}{a^{3}{\\left(\\eta \\right)}} - \\frac{2 \\epsilon \\frac{\\partial^{2}}{\\partial z\\partial \\eta} \\phi{\\left(\\eta,x,y,z \\right)}}{a^{2}{\\left(\\eta \\right)}} + O\\left(\\epsilon^{2}\\right)$"
      ],
      "text/plain": [
       "<IPython.core.display.Math object>"
      ]
     },
     "metadata": {},
     "output_type": "display_data"
    },
    {
     "data": {
      "text/latex": [
       "$\\displaystyle {Gdu}{}_{1}{}^{0} = - \\frac{2 \\epsilon \\frac{d}{d \\eta} a{\\left(\\eta \\right)} \\frac{\\partial}{\\partial x} \\psi{\\left(\\eta,x,y,z \\right)}}{a^{3}{\\left(\\eta \\right)}} + \\frac{2 \\epsilon \\frac{\\partial^{2}}{\\partial x\\partial \\eta} \\phi{\\left(\\eta,x,y,z \\right)}}{a^{2}{\\left(\\eta \\right)}} + O\\left(\\epsilon^{2}\\right)$"
      ],
      "text/plain": [
       "<IPython.core.display.Math object>"
      ]
     },
     "metadata": {},
     "output_type": "display_data"
    },
    {
     "data": {
      "text/latex": [
       "$\\displaystyle {Gdu}{}_{1}{}^{1} = \\frac{2 \\left(2 \\epsilon \\psi{\\left(\\eta,x,y,z \\right)} \\frac{d^{2}}{d \\eta^{2}} a{\\left(\\eta \\right)} - 2 \\epsilon \\frac{d}{d \\eta} a{\\left(\\eta \\right)} \\frac{\\partial}{\\partial \\eta} \\phi{\\left(\\eta,x,y,z \\right)} + \\epsilon \\frac{d}{d \\eta} a{\\left(\\eta \\right)} \\frac{\\partial}{\\partial \\eta} \\psi{\\left(\\eta,x,y,z \\right)} - \\frac{d^{2}}{d \\eta^{2}} a{\\left(\\eta \\right)}\\right) a^{6}{\\left(\\eta \\right)} + \\left(- 2 \\epsilon \\psi{\\left(\\eta,x,y,z \\right)} + 1\\right) a^{5}{\\left(\\eta \\right)} \\left(\\frac{d}{d \\eta} a{\\left(\\eta \\right)}\\right)^{2} + \\epsilon \\left(- 2 \\frac{\\partial^{2}}{\\partial \\eta^{2}} \\phi{\\left(\\eta,x,y,z \\right)} + \\frac{\\partial^{2}}{\\partial y^{2}} \\phi{\\left(\\eta,x,y,z \\right)} + \\frac{\\partial^{2}}{\\partial z^{2}} \\phi{\\left(\\eta,x,y,z \\right)} + \\frac{\\partial^{2}}{\\partial y^{2}} \\psi{\\left(\\eta,x,y,z \\right)} + \\frac{\\partial^{2}}{\\partial z^{2}} \\psi{\\left(\\eta,x,y,z \\right)}\\right) a^{7}{\\left(\\eta \\right)} + O\\left(\\epsilon^{2}\\right)}{a^{9}{\\left(\\eta \\right)}}$"
      ],
      "text/plain": [
       "<IPython.core.display.Math object>"
      ]
     },
     "metadata": {},
     "output_type": "display_data"
    },
    {
     "data": {
      "text/latex": [
       "$\\displaystyle {Gdu}{}_{1}{}^{2} = \\frac{- \\epsilon \\frac{\\partial^{2}}{\\partial y\\partial x} \\psi{\\left(\\eta,x,y,z \\right)} - \\epsilon \\frac{\\partial^{2}}{\\partial y\\partial x} \\phi{\\left(\\eta,x,y,z \\right)} + O\\left(\\epsilon^{2}\\right)}{a^{2}{\\left(\\eta \\right)}}$"
      ],
      "text/plain": [
       "<IPython.core.display.Math object>"
      ]
     },
     "metadata": {},
     "output_type": "display_data"
    },
    {
     "data": {
      "text/latex": [
       "$\\displaystyle {Gdu}{}_{1}{}^{3} = \\frac{- \\epsilon \\frac{\\partial^{2}}{\\partial z\\partial x} \\psi{\\left(\\eta,x,y,z \\right)} - \\epsilon \\frac{\\partial^{2}}{\\partial z\\partial x} \\phi{\\left(\\eta,x,y,z \\right)} + O\\left(\\epsilon^{2}\\right)}{a^{2}{\\left(\\eta \\right)}}$"
      ],
      "text/plain": [
       "<IPython.core.display.Math object>"
      ]
     },
     "metadata": {},
     "output_type": "display_data"
    },
    {
     "data": {
      "text/latex": [
       "$\\displaystyle {Gdu}{}_{2}{}^{0} = - \\frac{2 \\epsilon \\frac{d}{d \\eta} a{\\left(\\eta \\right)} \\frac{\\partial}{\\partial y} \\psi{\\left(\\eta,x,y,z \\right)}}{a^{3}{\\left(\\eta \\right)}} + \\frac{2 \\epsilon \\frac{\\partial^{2}}{\\partial y\\partial \\eta} \\phi{\\left(\\eta,x,y,z \\right)}}{a^{2}{\\left(\\eta \\right)}} + O\\left(\\epsilon^{2}\\right)$"
      ],
      "text/plain": [
       "<IPython.core.display.Math object>"
      ]
     },
     "metadata": {},
     "output_type": "display_data"
    },
    {
     "data": {
      "text/latex": [
       "$\\displaystyle {Gdu}{}_{2}{}^{1} = \\frac{- \\epsilon \\frac{\\partial^{2}}{\\partial y\\partial x} \\psi{\\left(\\eta,x,y,z \\right)} - \\epsilon \\frac{\\partial^{2}}{\\partial y\\partial x} \\phi{\\left(\\eta,x,y,z \\right)} + O\\left(\\epsilon^{2}\\right)}{a^{2}{\\left(\\eta \\right)}}$"
      ],
      "text/plain": [
       "<IPython.core.display.Math object>"
      ]
     },
     "metadata": {},
     "output_type": "display_data"
    },
    {
     "data": {
      "text/latex": [
       "$\\displaystyle {Gdu}{}_{2}{}^{2} = \\frac{2 \\left(2 \\epsilon \\psi{\\left(\\eta,x,y,z \\right)} \\frac{d^{2}}{d \\eta^{2}} a{\\left(\\eta \\right)} - 2 \\epsilon \\frac{d}{d \\eta} a{\\left(\\eta \\right)} \\frac{\\partial}{\\partial \\eta} \\phi{\\left(\\eta,x,y,z \\right)} + \\epsilon \\frac{d}{d \\eta} a{\\left(\\eta \\right)} \\frac{\\partial}{\\partial \\eta} \\psi{\\left(\\eta,x,y,z \\right)} - \\frac{d^{2}}{d \\eta^{2}} a{\\left(\\eta \\right)}\\right) a^{6}{\\left(\\eta \\right)} + \\left(- 2 \\epsilon \\psi{\\left(\\eta,x,y,z \\right)} + 1\\right) a^{5}{\\left(\\eta \\right)} \\left(\\frac{d}{d \\eta} a{\\left(\\eta \\right)}\\right)^{2} + \\epsilon \\left(- 2 \\frac{\\partial^{2}}{\\partial \\eta^{2}} \\phi{\\left(\\eta,x,y,z \\right)} + \\frac{\\partial^{2}}{\\partial x^{2}} \\phi{\\left(\\eta,x,y,z \\right)} + \\frac{\\partial^{2}}{\\partial z^{2}} \\phi{\\left(\\eta,x,y,z \\right)} + \\frac{\\partial^{2}}{\\partial x^{2}} \\psi{\\left(\\eta,x,y,z \\right)} + \\frac{\\partial^{2}}{\\partial z^{2}} \\psi{\\left(\\eta,x,y,z \\right)}\\right) a^{7}{\\left(\\eta \\right)} + O\\left(\\epsilon^{2}\\right)}{a^{9}{\\left(\\eta \\right)}}$"
      ],
      "text/plain": [
       "<IPython.core.display.Math object>"
      ]
     },
     "metadata": {},
     "output_type": "display_data"
    },
    {
     "data": {
      "text/latex": [
       "$\\displaystyle {Gdu}{}_{2}{}^{3} = \\frac{- \\epsilon \\frac{\\partial^{2}}{\\partial z\\partial y} \\psi{\\left(\\eta,x,y,z \\right)} - \\epsilon \\frac{\\partial^{2}}{\\partial z\\partial y} \\phi{\\left(\\eta,x,y,z \\right)} + O\\left(\\epsilon^{2}\\right)}{a^{2}{\\left(\\eta \\right)}}$"
      ],
      "text/plain": [
       "<IPython.core.display.Math object>"
      ]
     },
     "metadata": {},
     "output_type": "display_data"
    },
    {
     "data": {
      "text/latex": [
       "$\\displaystyle {Gdu}{}_{3}{}^{0} = - \\frac{2 \\epsilon \\frac{d}{d \\eta} a{\\left(\\eta \\right)} \\frac{\\partial}{\\partial z} \\psi{\\left(\\eta,x,y,z \\right)}}{a^{3}{\\left(\\eta \\right)}} + \\frac{2 \\epsilon \\frac{\\partial^{2}}{\\partial z\\partial \\eta} \\phi{\\left(\\eta,x,y,z \\right)}}{a^{2}{\\left(\\eta \\right)}} + O\\left(\\epsilon^{2}\\right)$"
      ],
      "text/plain": [
       "<IPython.core.display.Math object>"
      ]
     },
     "metadata": {},
     "output_type": "display_data"
    },
    {
     "data": {
      "text/latex": [
       "$\\displaystyle {Gdu}{}_{3}{}^{1} = \\frac{- \\epsilon \\frac{\\partial^{2}}{\\partial z\\partial x} \\psi{\\left(\\eta,x,y,z \\right)} - \\epsilon \\frac{\\partial^{2}}{\\partial z\\partial x} \\phi{\\left(\\eta,x,y,z \\right)} + O\\left(\\epsilon^{2}\\right)}{a^{2}{\\left(\\eta \\right)}}$"
      ],
      "text/plain": [
       "<IPython.core.display.Math object>"
      ]
     },
     "metadata": {},
     "output_type": "display_data"
    },
    {
     "data": {
      "text/latex": [
       "$\\displaystyle {Gdu}{}_{3}{}^{2} = \\frac{- \\epsilon \\frac{\\partial^{2}}{\\partial z\\partial y} \\psi{\\left(\\eta,x,y,z \\right)} - \\epsilon \\frac{\\partial^{2}}{\\partial z\\partial y} \\phi{\\left(\\eta,x,y,z \\right)} + O\\left(\\epsilon^{2}\\right)}{a^{2}{\\left(\\eta \\right)}}$"
      ],
      "text/plain": [
       "<IPython.core.display.Math object>"
      ]
     },
     "metadata": {},
     "output_type": "display_data"
    },
    {
     "data": {
      "text/latex": [
       "$\\displaystyle {Gdu}{}_{3}{}^{3} = \\frac{2 \\left(2 \\epsilon \\psi{\\left(\\eta,x,y,z \\right)} \\frac{d^{2}}{d \\eta^{2}} a{\\left(\\eta \\right)} - 2 \\epsilon \\frac{d}{d \\eta} a{\\left(\\eta \\right)} \\frac{\\partial}{\\partial \\eta} \\phi{\\left(\\eta,x,y,z \\right)} + \\epsilon \\frac{d}{d \\eta} a{\\left(\\eta \\right)} \\frac{\\partial}{\\partial \\eta} \\psi{\\left(\\eta,x,y,z \\right)} - \\frac{d^{2}}{d \\eta^{2}} a{\\left(\\eta \\right)}\\right) a^{6}{\\left(\\eta \\right)} + \\left(- 2 \\epsilon \\psi{\\left(\\eta,x,y,z \\right)} + 1\\right) a^{5}{\\left(\\eta \\right)} \\left(\\frac{d}{d \\eta} a{\\left(\\eta \\right)}\\right)^{2} + \\epsilon \\left(- 2 \\frac{\\partial^{2}}{\\partial \\eta^{2}} \\phi{\\left(\\eta,x,y,z \\right)} + \\frac{\\partial^{2}}{\\partial x^{2}} \\phi{\\left(\\eta,x,y,z \\right)} + \\frac{\\partial^{2}}{\\partial y^{2}} \\phi{\\left(\\eta,x,y,z \\right)} + \\frac{\\partial^{2}}{\\partial x^{2}} \\psi{\\left(\\eta,x,y,z \\right)} + \\frac{\\partial^{2}}{\\partial y^{2}} \\psi{\\left(\\eta,x,y,z \\right)}\\right) a^{7}{\\left(\\eta \\right)} + O\\left(\\epsilon^{2}\\right)}{a^{9}{\\left(\\eta \\right)}}$"
      ],
      "text/plain": [
       "<IPython.core.display.Math object>"
      ]
     },
     "metadata": {},
     "output_type": "display_data"
    }
   ],
   "source": [
    "Gdu.display('_,^',aslist=True)"
   ]
  },
  {
   "cell_type": "markdown",
   "metadata": {},
   "source": [
    "Since we only computed $G_{\\alpha \\beta}$ we need to raise one of the indexes."
   ]
  },
  {
   "cell_type": "code",
   "execution_count": 4,
   "metadata": {},
   "outputs": [
    {
     "data": {
      "text/latex": [
       "$\\displaystyle {G}{}^{0}{}_{0} = \\frac{- 3 \\left(\\frac{d}{d \\eta} a{\\left(\\eta \\right)}\\right)^{2} + 6 \\epsilon \\psi{\\left(\\eta,x,y,z \\right)} \\left(\\frac{d}{d \\eta} a{\\left(\\eta \\right)}\\right)^{2} - 6 \\epsilon a{\\left(\\eta \\right)} \\frac{d}{d \\eta} a{\\left(\\eta \\right)} \\frac{\\partial}{\\partial \\eta} \\phi{\\left(\\eta,x,y,z \\right)} + 2 \\epsilon a^{2}{\\left(\\eta \\right)} \\frac{\\partial^{2}}{\\partial z^{2}} \\phi{\\left(\\eta,x,y,z \\right)} + 2 \\epsilon a^{2}{\\left(\\eta \\right)} \\frac{\\partial^{2}}{\\partial y^{2}} \\phi{\\left(\\eta,x,y,z \\right)} + 2 \\epsilon a^{2}{\\left(\\eta \\right)} \\frac{\\partial^{2}}{\\partial x^{2}} \\phi{\\left(\\eta,x,y,z \\right)} + O\\left(\\epsilon^{2}\\right)}{a^{4}{\\left(\\eta \\right)}}$"
      ],
      "text/plain": [
       "<IPython.core.display.Math object>"
      ]
     },
     "metadata": {},
     "output_type": "display_data"
    },
    {
     "data": {
      "text/latex": [
       "$\\displaystyle {G}{}^{0}{}_{1} = - \\frac{2 \\epsilon \\frac{d}{d \\eta} a{\\left(\\eta \\right)} \\frac{\\partial}{\\partial x} \\psi{\\left(\\eta,x,y,z \\right)} - 2 \\epsilon a{\\left(\\eta \\right)} \\frac{\\partial^{2}}{\\partial x\\partial \\eta} \\phi{\\left(\\eta,x,y,z \\right)} + O\\left(\\epsilon^{2}\\right)}{a^{3}{\\left(\\eta \\right)}}$"
      ],
      "text/plain": [
       "<IPython.core.display.Math object>"
      ]
     },
     "metadata": {},
     "output_type": "display_data"
    },
    {
     "data": {
      "text/latex": [
       "$\\displaystyle {G}{}^{0}{}_{2} = - \\frac{2 \\epsilon \\frac{d}{d \\eta} a{\\left(\\eta \\right)} \\frac{\\partial}{\\partial y} \\psi{\\left(\\eta,x,y,z \\right)} - 2 \\epsilon a{\\left(\\eta \\right)} \\frac{\\partial^{2}}{\\partial y\\partial \\eta} \\phi{\\left(\\eta,x,y,z \\right)} + O\\left(\\epsilon^{2}\\right)}{a^{3}{\\left(\\eta \\right)}}$"
      ],
      "text/plain": [
       "<IPython.core.display.Math object>"
      ]
     },
     "metadata": {},
     "output_type": "display_data"
    },
    {
     "data": {
      "text/latex": [
       "$\\displaystyle {G}{}^{0}{}_{3} = - \\frac{2 \\epsilon \\frac{d}{d \\eta} a{\\left(\\eta \\right)} \\frac{\\partial}{\\partial z} \\psi{\\left(\\eta,x,y,z \\right)} - 2 \\epsilon a{\\left(\\eta \\right)} \\frac{\\partial^{2}}{\\partial z\\partial \\eta} \\phi{\\left(\\eta,x,y,z \\right)} + O\\left(\\epsilon^{2}\\right)}{a^{3}{\\left(\\eta \\right)}}$"
      ],
      "text/plain": [
       "<IPython.core.display.Math object>"
      ]
     },
     "metadata": {},
     "output_type": "display_data"
    },
    {
     "data": {
      "text/latex": [
       "$\\displaystyle {G}{}^{1}{}_{0} = \\frac{2 \\epsilon \\frac{d}{d \\eta} a{\\left(\\eta \\right)} \\frac{\\partial}{\\partial x} \\psi{\\left(\\eta,x,y,z \\right)} - 2 \\epsilon a{\\left(\\eta \\right)} \\frac{\\partial^{2}}{\\partial x\\partial \\eta} \\phi{\\left(\\eta,x,y,z \\right)} + O\\left(\\epsilon^{2}\\right)}{a^{3}{\\left(\\eta \\right)}}$"
      ],
      "text/plain": [
       "<IPython.core.display.Math object>"
      ]
     },
     "metadata": {},
     "output_type": "display_data"
    },
    {
     "data": {
      "text/latex": [
       "$\\displaystyle {G}{}^{1}{}_{1} = \\frac{\\left(\\frac{d}{d \\eta} a{\\left(\\eta \\right)}\\right)^{2} - 2 a{\\left(\\eta \\right)} \\frac{d^{2}}{d \\eta^{2}} a{\\left(\\eta \\right)} - 2 \\epsilon \\psi{\\left(\\eta,x,y,z \\right)} \\left(\\frac{d}{d \\eta} a{\\left(\\eta \\right)}\\right)^{2} + 2 \\epsilon a{\\left(\\eta \\right)} \\frac{d}{d \\eta} a{\\left(\\eta \\right)} \\frac{\\partial}{\\partial \\eta} \\psi{\\left(\\eta,x,y,z \\right)} - 4 \\epsilon a{\\left(\\eta \\right)} \\frac{d}{d \\eta} a{\\left(\\eta \\right)} \\frac{\\partial}{\\partial \\eta} \\phi{\\left(\\eta,x,y,z \\right)} + 4 \\epsilon a{\\left(\\eta \\right)} \\psi{\\left(\\eta,x,y,z \\right)} \\frac{d^{2}}{d \\eta^{2}} a{\\left(\\eta \\right)} + \\epsilon a^{2}{\\left(\\eta \\right)} \\frac{\\partial^{2}}{\\partial z^{2}} \\psi{\\left(\\eta,x,y,z \\right)} + \\epsilon a^{2}{\\left(\\eta \\right)} \\frac{\\partial^{2}}{\\partial y^{2}} \\psi{\\left(\\eta,x,y,z \\right)} + \\epsilon a^{2}{\\left(\\eta \\right)} \\frac{\\partial^{2}}{\\partial z^{2}} \\phi{\\left(\\eta,x,y,z \\right)} + \\epsilon a^{2}{\\left(\\eta \\right)} \\frac{\\partial^{2}}{\\partial y^{2}} \\phi{\\left(\\eta,x,y,z \\right)} - 2 \\epsilon a^{2}{\\left(\\eta \\right)} \\frac{\\partial^{2}}{\\partial \\eta^{2}} \\phi{\\left(\\eta,x,y,z \\right)} + O\\left(\\epsilon^{2}\\right)}{a^{4}{\\left(\\eta \\right)}}$"
      ],
      "text/plain": [
       "<IPython.core.display.Math object>"
      ]
     },
     "metadata": {},
     "output_type": "display_data"
    },
    {
     "data": {
      "text/latex": [
       "$\\displaystyle {G}{}^{1}{}_{2} = - \\frac{\\epsilon \\frac{\\partial^{2}}{\\partial y\\partial x} \\psi{\\left(\\eta,x,y,z \\right)} + \\epsilon \\frac{\\partial^{2}}{\\partial y\\partial x} \\phi{\\left(\\eta,x,y,z \\right)} + O\\left(\\epsilon^{2}\\right)}{a^{2}{\\left(\\eta \\right)}}$"
      ],
      "text/plain": [
       "<IPython.core.display.Math object>"
      ]
     },
     "metadata": {},
     "output_type": "display_data"
    },
    {
     "data": {
      "text/latex": [
       "$\\displaystyle {G}{}^{1}{}_{3} = - \\frac{\\epsilon \\frac{\\partial^{2}}{\\partial z\\partial x} \\psi{\\left(\\eta,x,y,z \\right)} + \\epsilon \\frac{\\partial^{2}}{\\partial z\\partial x} \\phi{\\left(\\eta,x,y,z \\right)} + O\\left(\\epsilon^{2}\\right)}{a^{2}{\\left(\\eta \\right)}}$"
      ],
      "text/plain": [
       "<IPython.core.display.Math object>"
      ]
     },
     "metadata": {},
     "output_type": "display_data"
    },
    {
     "data": {
      "text/latex": [
       "$\\displaystyle {G}{}^{2}{}_{0} = \\frac{2 \\epsilon \\frac{d}{d \\eta} a{\\left(\\eta \\right)} \\frac{\\partial}{\\partial y} \\psi{\\left(\\eta,x,y,z \\right)} - 2 \\epsilon a{\\left(\\eta \\right)} \\frac{\\partial^{2}}{\\partial y\\partial \\eta} \\phi{\\left(\\eta,x,y,z \\right)} + O\\left(\\epsilon^{2}\\right)}{a^{3}{\\left(\\eta \\right)}}$"
      ],
      "text/plain": [
       "<IPython.core.display.Math object>"
      ]
     },
     "metadata": {},
     "output_type": "display_data"
    },
    {
     "data": {
      "text/latex": [
       "$\\displaystyle {G}{}^{2}{}_{1} = - \\frac{\\epsilon \\frac{\\partial^{2}}{\\partial y\\partial x} \\psi{\\left(\\eta,x,y,z \\right)} + \\epsilon \\frac{\\partial^{2}}{\\partial y\\partial x} \\phi{\\left(\\eta,x,y,z \\right)} + O\\left(\\epsilon^{2}\\right)}{a^{2}{\\left(\\eta \\right)}}$"
      ],
      "text/plain": [
       "<IPython.core.display.Math object>"
      ]
     },
     "metadata": {},
     "output_type": "display_data"
    },
    {
     "data": {
      "text/latex": [
       "$\\displaystyle {G}{}^{2}{}_{2} = \\frac{\\left(\\frac{d}{d \\eta} a{\\left(\\eta \\right)}\\right)^{2} - 2 a{\\left(\\eta \\right)} \\frac{d^{2}}{d \\eta^{2}} a{\\left(\\eta \\right)} - 2 \\epsilon \\psi{\\left(\\eta,x,y,z \\right)} \\left(\\frac{d}{d \\eta} a{\\left(\\eta \\right)}\\right)^{2} + 2 \\epsilon a{\\left(\\eta \\right)} \\frac{d}{d \\eta} a{\\left(\\eta \\right)} \\frac{\\partial}{\\partial \\eta} \\psi{\\left(\\eta,x,y,z \\right)} - 4 \\epsilon a{\\left(\\eta \\right)} \\frac{d}{d \\eta} a{\\left(\\eta \\right)} \\frac{\\partial}{\\partial \\eta} \\phi{\\left(\\eta,x,y,z \\right)} + 4 \\epsilon a{\\left(\\eta \\right)} \\psi{\\left(\\eta,x,y,z \\right)} \\frac{d^{2}}{d \\eta^{2}} a{\\left(\\eta \\right)} + \\epsilon a^{2}{\\left(\\eta \\right)} \\frac{\\partial^{2}}{\\partial z^{2}} \\psi{\\left(\\eta,x,y,z \\right)} + \\epsilon a^{2}{\\left(\\eta \\right)} \\frac{\\partial^{2}}{\\partial x^{2}} \\psi{\\left(\\eta,x,y,z \\right)} + \\epsilon a^{2}{\\left(\\eta \\right)} \\frac{\\partial^{2}}{\\partial z^{2}} \\phi{\\left(\\eta,x,y,z \\right)} + \\epsilon a^{2}{\\left(\\eta \\right)} \\frac{\\partial^{2}}{\\partial x^{2}} \\phi{\\left(\\eta,x,y,z \\right)} - 2 \\epsilon a^{2}{\\left(\\eta \\right)} \\frac{\\partial^{2}}{\\partial \\eta^{2}} \\phi{\\left(\\eta,x,y,z \\right)} + O\\left(\\epsilon^{2}\\right)}{a^{4}{\\left(\\eta \\right)}}$"
      ],
      "text/plain": [
       "<IPython.core.display.Math object>"
      ]
     },
     "metadata": {},
     "output_type": "display_data"
    },
    {
     "data": {
      "text/latex": [
       "$\\displaystyle {G}{}^{2}{}_{3} = - \\frac{\\epsilon \\frac{\\partial^{2}}{\\partial z\\partial y} \\psi{\\left(\\eta,x,y,z \\right)} + \\epsilon \\frac{\\partial^{2}}{\\partial z\\partial y} \\phi{\\left(\\eta,x,y,z \\right)} + O\\left(\\epsilon^{2}\\right)}{a^{2}{\\left(\\eta \\right)}}$"
      ],
      "text/plain": [
       "<IPython.core.display.Math object>"
      ]
     },
     "metadata": {},
     "output_type": "display_data"
    },
    {
     "data": {
      "text/latex": [
       "$\\displaystyle {G}{}^{3}{}_{0} = \\frac{2 \\epsilon \\frac{d}{d \\eta} a{\\left(\\eta \\right)} \\frac{\\partial}{\\partial z} \\psi{\\left(\\eta,x,y,z \\right)} - 2 \\epsilon a{\\left(\\eta \\right)} \\frac{\\partial^{2}}{\\partial z\\partial \\eta} \\phi{\\left(\\eta,x,y,z \\right)} + O\\left(\\epsilon^{2}\\right)}{a^{3}{\\left(\\eta \\right)}}$"
      ],
      "text/plain": [
       "<IPython.core.display.Math object>"
      ]
     },
     "metadata": {},
     "output_type": "display_data"
    },
    {
     "data": {
      "text/latex": [
       "$\\displaystyle {G}{}^{3}{}_{1} = - \\frac{\\epsilon \\frac{\\partial^{2}}{\\partial z\\partial x} \\psi{\\left(\\eta,x,y,z \\right)} + \\epsilon \\frac{\\partial^{2}}{\\partial z\\partial x} \\phi{\\left(\\eta,x,y,z \\right)} + O\\left(\\epsilon^{2}\\right)}{a^{2}{\\left(\\eta \\right)}}$"
      ],
      "text/plain": [
       "<IPython.core.display.Math object>"
      ]
     },
     "metadata": {},
     "output_type": "display_data"
    },
    {
     "data": {
      "text/latex": [
       "$\\displaystyle {G}{}^{3}{}_{2} = - \\frac{\\epsilon \\frac{\\partial^{2}}{\\partial z\\partial y} \\psi{\\left(\\eta,x,y,z \\right)} + \\epsilon \\frac{\\partial^{2}}{\\partial z\\partial y} \\phi{\\left(\\eta,x,y,z \\right)} + O\\left(\\epsilon^{2}\\right)}{a^{2}{\\left(\\eta \\right)}}$"
      ],
      "text/plain": [
       "<IPython.core.display.Math object>"
      ]
     },
     "metadata": {},
     "output_type": "display_data"
    },
    {
     "data": {
      "text/latex": [
       "$\\displaystyle {G}{}^{3}{}_{3} = \\frac{\\left(\\frac{d}{d \\eta} a{\\left(\\eta \\right)}\\right)^{2} - 2 a{\\left(\\eta \\right)} \\frac{d^{2}}{d \\eta^{2}} a{\\left(\\eta \\right)} - 2 \\epsilon \\psi{\\left(\\eta,x,y,z \\right)} \\left(\\frac{d}{d \\eta} a{\\left(\\eta \\right)}\\right)^{2} + 2 \\epsilon a{\\left(\\eta \\right)} \\frac{d}{d \\eta} a{\\left(\\eta \\right)} \\frac{\\partial}{\\partial \\eta} \\psi{\\left(\\eta,x,y,z \\right)} - 4 \\epsilon a{\\left(\\eta \\right)} \\frac{d}{d \\eta} a{\\left(\\eta \\right)} \\frac{\\partial}{\\partial \\eta} \\phi{\\left(\\eta,x,y,z \\right)} + 4 \\epsilon a{\\left(\\eta \\right)} \\psi{\\left(\\eta,x,y,z \\right)} \\frac{d^{2}}{d \\eta^{2}} a{\\left(\\eta \\right)} + \\epsilon a^{2}{\\left(\\eta \\right)} \\frac{\\partial^{2}}{\\partial y^{2}} \\psi{\\left(\\eta,x,y,z \\right)} + \\epsilon a^{2}{\\left(\\eta \\right)} \\frac{\\partial^{2}}{\\partial x^{2}} \\psi{\\left(\\eta,x,y,z \\right)} + \\epsilon a^{2}{\\left(\\eta \\right)} \\frac{\\partial^{2}}{\\partial y^{2}} \\phi{\\left(\\eta,x,y,z \\right)} + \\epsilon a^{2}{\\left(\\eta \\right)} \\frac{\\partial^{2}}{\\partial x^{2}} \\phi{\\left(\\eta,x,y,z \\right)} - 2 \\epsilon a^{2}{\\left(\\eta \\right)} \\frac{\\partial^{2}}{\\partial \\eta^{2}} \\phi{\\left(\\eta,x,y,z \\right)} + O\\left(\\epsilon^{2}\\right)}{a^{4}{\\left(\\eta \\right)}}$"
      ],
      "text/plain": [
       "<IPython.core.display.Math object>"
      ]
     },
     "metadata": {},
     "output_type": "display_data"
    }
   ],
   "source": [
    "G.display('^,_', aslist=True)"
   ]
  },
  {
   "cell_type": "code",
   "execution_count": null,
   "metadata": {},
   "outputs": [],
   "source": []
  }
 ],
 "metadata": {
  "kernelspec": {
   "display_name": "Python 3",
   "language": "python",
   "name": "python3"
  },
  "language_info": {
   "codemirror_mode": {
    "name": "ipython",
    "version": 3
   },
   "file_extension": ".py",
   "mimetype": "text/x-python",
   "name": "python",
   "nbconvert_exporter": "python",
   "pygments_lexer": "ipython3",
   "version": "3.8.5"
  }
 },
 "nbformat": 4,
 "nbformat_minor": 2
}
